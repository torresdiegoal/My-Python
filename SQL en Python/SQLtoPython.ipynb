{
 "cells": [
  {
   "cell_type": "code",
   "execution_count": 14,
   "metadata": {},
   "outputs": [
    {
     "name": "stdout",
     "output_type": "stream",
     "text": [
      "error al conectarse\n"
     ]
    }
   ],
   "source": [
    "import pyodbc\n",
    "\n",
    "server = 'DESKTOP-OA06KFP'\n",
    "bd = 'Northwind'\n",
    "usuario = 'DESKTOP-OA06KFP\\Diego'\n",
    "contrasena = ''\n",
    "\n",
    "try: \n",
    "    conexion = pyodbc.connect('DRIVER={ODBC Driver 17 for SQL server};SERVER ='+server+';DATABASE ='+ bd+';UID ='+usuario+';PWD = '+contrasena)\n",
    "    print('conexion exitosa')\n",
    "except:\n",
    "    print('error al conectarse')"
   ]
  }
 ],
 "metadata": {
  "kernelspec": {
   "display_name": "Python 3",
   "language": "python",
   "name": "python3"
  },
  "language_info": {
   "codemirror_mode": {
    "name": "ipython",
    "version": 3
   },
   "file_extension": ".py",
   "mimetype": "text/x-python",
   "name": "python",
   "nbconvert_exporter": "python",
   "pygments_lexer": "ipython3",
   "version": "3.8.3"
  }
 },
 "nbformat": 4,
 "nbformat_minor": 4
}
