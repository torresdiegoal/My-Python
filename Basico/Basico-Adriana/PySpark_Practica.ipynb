{
 "cells": [
  {
   "cell_type": "code",
   "execution_count": 49,
   "metadata": {},
   "outputs": [
    {
     "name": "stdout",
     "output_type": "stream",
     "text": [
      "Primeras 5 filas:\n",
      "+----------+---------------------+--------------------+--------------------+---------------+-------+------------+---------------+---------+------------+--------------------+----+----------------+----------+------------+-------+----+------------+--------------------+------------------+-------+---------+------------+-----------+---------+-------+----------+-------+---------+-----------+----------------+-------+----+---------+---------------+-------+----+------------------+----------+-----------+---------------+--------+------+-----------+-----------+-------------+----+------+--------+---------------+------+----------+\n",
      "|Unnamed: 0|Official English Name|               Debut|        Affiliations|    Occupations| Status|    Birthday|     Unnamed: 9|Character|      Origin|           Residence| Age|          Height|Blood Type|English Name|Meaning|Type|Age at Death|LiveAction Portrayal|First Appearance19|Admiral|Main Ship|Total Bounty|Affiliation|Patriarch|Captain|Occupation|Leaders|Residency|12th Leader|13th Tobe Leader|Kingdom|Boss|Matriarch|GovernorGeneral| Number|Size|First appearance37|Birth Name|Japanese VA|Funi English VA|Features|Weight|Fruit Debut|Usage Debut|Previous User| key|Vessel|Homeland|Completion Date|Length|Affiliates|\n",
      "+----------+---------------------+--------------------+--------------------+---------------+-------+------------+---------------+---------+------------+--------------------+----+----------------+----------+------------+-------+----+------------+--------------------+------------------+-------+---------+------------+-----------+---------+-------+----------+-------+---------+-----------+----------------+-------+----+---------+---------------+-------+----+------------------+----------+-----------+---------------+--------+------+-----------+-----------+-------------+----+------+--------+---------------+------+----------+\n",
      "|         0| A.O. (VIZ Media a...|Chapter 551; Epis...|A O Pirates; Subo...|Pirate; Captain|Unknown|January 15th|   Mark Fickert|      A O|        NULL|                NULL|NULL|            NULL|      NULL|        NULL|   NULL|NULL|        NULL|                NULL|              NULL|   NULL|     NULL|        NULL|       NULL|     NULL|   NULL|      NULL|   NULL|     NULL|       NULL|            NULL|   NULL|NULL|     NULL|           NULL|   NULL|NULL|              NULL|      NULL|       NULL|           NULL|    NULL|  NULL|       NULL|       NULL|         NULL|NULL|  NULL|    NULL|           NULL|  NULL|      NULL|\n",
      "|         1|              Bizarre|Chapter 553; Epis...|Subordinate of th...|Pirate; Captain|  Alive|February 3rd|    Wilbur Penn|  Bizarre|        NULL|                NULL|NULL|            NULL|      NULL|        NULL|   NULL|NULL|        NULL|                NULL|              NULL|   NULL|     NULL|        NULL|       NULL|     NULL|   NULL|      NULL|   NULL|     NULL|       NULL|            NULL|   NULL|NULL|     NULL|           NULL|   NULL|NULL|              NULL|      NULL|       NULL|           NULL|    NULL|  NULL|       NULL|       NULL|         NULL|NULL|  NULL|    NULL|           NULL|  NULL|      NULL|\n",
      "|         2| Beeyo (Viz);Biyo ...|Chapter 658; Epis...|                NULL|           NULL|  Alive|        NULL|     Kate Oxley|     Biyo|        NULL|                NULL|NULL|            NULL|      NULL|        NULL|   NULL|NULL|        NULL|                NULL|              NULL|   NULL|     NULL|        NULL|       NULL|     NULL|   NULL|      NULL|   NULL|     NULL|       NULL|            NULL|   NULL|NULL|     NULL|           NULL|   NULL|NULL|              NULL|      NULL|       NULL|           NULL|    NULL|  NULL|       NULL|       NULL|         NULL|NULL|  NULL|    NULL|           NULL|  NULL|      NULL|\n",
      "|         3|             Bishamon|Chapter 931; Epis...|Beasts Pirates; O...|  Ninja; Pirate|  Alive|  August 1st| Stephen Miller| Bishamon|Wano Country|Flower Capital, W...|  28|\"182 cm (6'0\"\")\"|        XF|        NULL|   NULL|NULL|        NULL|                NULL|              NULL|   NULL|     NULL|        NULL|       NULL|     NULL|   NULL|      NULL|   NULL|     NULL|       NULL|            NULL|   NULL|NULL|     NULL|           NULL|   NULL|NULL|              NULL|      NULL|       NULL|           NULL|    NULL|  NULL|       NULL|       NULL|         NULL|NULL|  NULL|    NULL|           NULL|  NULL|      NULL|\n",
      "|         4| BB (Blackback)BB ...|Chapter 805; Epis...|Mokomo Dukedom; G...|       Guardian|  Alive|        NULL|Anthony Bowling|Blackback|        NULL|  Zou (Whale Forest)|NULL|            NULL|      NULL|        NULL|   NULL|NULL|        NULL|                NULL|              NULL|   NULL|     NULL|        NULL|       NULL|     NULL|   NULL|      NULL|   NULL|     NULL|       NULL|            NULL|   NULL|NULL|     NULL|           NULL|   NULL|NULL|              NULL|      NULL|       NULL|           NULL|    NULL|  NULL|       NULL|       NULL|         NULL|NULL|  NULL|    NULL|           NULL|  NULL|      NULL|\n",
      "+----------+---------------------+--------------------+--------------------+---------------+-------+------------+---------------+---------+------------+--------------------+----+----------------+----------+------------+-------+----+------------+--------------------+------------------+-------+---------+------------+-----------+---------+-------+----------+-------+---------+-----------+----------------+-------+----+---------+---------------+-------+----+------------------+----------+-----------+---------------+--------+------+-----------+-----------+-------------+----+------+--------+---------------+------+----------+\n",
      "only showing top 5 rows\n",
      "\n",
      "Descripcion datos\n"
     ]
    },
    {
     "data": {
      "text/plain": [
       "DataFrame[summary: string, Unnamed: 0: string, Official English Name: string, Debut: string, Affiliations: string, Occupations: string, Status: string, Birthday: string, Unnamed: 9: string, Character: string, Origin: string, Residence: string, Age: string, Height: string, Blood Type: string, English Name: string, Meaning: string, Type: string, Age at Death: string, LiveAction Portrayal: string, First Appearance19: string, Admiral: string, Main Ship: string, Total Bounty: string, Affiliation: string, Patriarch: string, Captain: string, Occupation: string, Leaders: string, Residency: string, 12th Leader: string, 13th Tobe Leader: string, Kingdom: string, Boss: string, Matriarch: string, GovernorGeneral: string,  Number: string, Size: string, First appearance37: string, Birth Name: string, Japanese VA: string, Funi English VA: string, Features: string, Weight: string, Fruit Debut: string, Usage Debut: string, Previous User: string,  key: string, Vessel: string, Homeland: string, Completion Date: string, Length: string, Affiliates: string]"
      ]
     },
     "execution_count": 49,
     "metadata": {},
     "output_type": "execute_result"
    }
   ],
   "source": [
    "from pyspark.sql import SparkSession\n",
    "from pyspark.sql.functions import col, when, regexp_replace, split, size, element_at, lit,expr,trim,regexp_extract,udf\n",
    "from pyspark.sql.types import IntegerType, StringType, ArrayType\n",
    "import re\n",
    "\n",
    "spark = SparkSession.builder \\\n",
    "    .master(\"local[*]\") \\\n",
    "    .appName(\"Mi aplicación PySpark\") \\\n",
    "    .getOrCreate()\n",
    "\n",
    "df = spark.read.csv(\"C:/Users/adria/OneDrive/Python/My-Python/Basico/Basico-Adriana/onpiece1.csv\", header=True, inferSchema=True)\n",
    "\n",
    "#spark.stop()\n",
    "# Visualiza los datos\n",
    "print(\"Primeras 5 filas:\")\n",
    "df.show(5)\n",
    "\n",
    "#Descripción de los datos\n",
    "print (\"Descripcion datos\")\n",
    "df.describe()"
   ]
  },
  {
   "cell_type": "code",
   "execution_count": 77,
   "metadata": {},
   "outputs": [
    {
     "name": "stdout",
     "output_type": "stream",
     "text": [
      "La tabla tiene 1394 filas.\n",
      "Columna: Unnamed: 0, Tipo: IntegerType(), Longitud máxima: N/A\n",
      "Columna: Official English Name, Tipo: StringType(), Longitud máxima: N/A\n",
      "Columna: Debut, Tipo: StringType(), Longitud máxima: N/A\n",
      "Columna: Affiliations, Tipo: StringType(), Longitud máxima: N/A\n",
      "Columna: Occupations, Tipo: StringType(), Longitud máxima: N/A\n",
      "Columna: Status, Tipo: StringType(), Longitud máxima: N/A\n",
      "Columna: Birthday, Tipo: StringType(), Longitud máxima: N/A\n",
      "Columna: Unnamed: 9, Tipo: StringType(), Longitud máxima: N/A\n",
      "Columna: Character, Tipo: StringType(), Longitud máxima: N/A\n",
      "Columna: Origin, Tipo: StringType(), Longitud máxima: N/A\n",
      "Columna: Residence, Tipo: StringType(), Longitud máxima: N/A\n",
      "Columna: Age, Tipo: StringType(), Longitud máxima: N/A\n",
      "Columna: Height, Tipo: StringType(), Longitud máxima: N/A\n",
      "Columna: Blood Type, Tipo: StringType(), Longitud máxima: N/A\n",
      "Columna: English Name, Tipo: StringType(), Longitud máxima: N/A\n",
      "Columna: Meaning, Tipo: StringType(), Longitud máxima: N/A\n",
      "Columna: Type, Tipo: StringType(), Longitud máxima: N/A\n",
      "Columna: Age at Death, Tipo: StringType(), Longitud máxima: N/A\n",
      "Columna: LiveAction Portrayal, Tipo: StringType(), Longitud máxima: N/A\n",
      "Columna: First Appearance19, Tipo: StringType(), Longitud máxima: N/A\n",
      "Columna: Admiral, Tipo: StringType(), Longitud máxima: N/A\n",
      "Columna: Main Ship, Tipo: StringType(), Longitud máxima: N/A\n",
      "Columna: Total Bounty, Tipo: StringType(), Longitud máxima: N/A\n",
      "Columna: Affiliation, Tipo: StringType(), Longitud máxima: N/A\n",
      "Columna: Patriarch, Tipo: StringType(), Longitud máxima: N/A\n",
      "Columna: Captain, Tipo: StringType(), Longitud máxima: N/A\n",
      "Columna: Occupation, Tipo: StringType(), Longitud máxima: N/A\n",
      "Columna: Leaders, Tipo: StringType(), Longitud máxima: N/A\n",
      "Columna: Residency, Tipo: StringType(), Longitud máxima: N/A\n",
      "Columna: 12th Leader, Tipo: StringType(), Longitud máxima: N/A\n",
      "Columna: 13th Tobe Leader, Tipo: StringType(), Longitud máxima: N/A\n",
      "Columna: Kingdom, Tipo: StringType(), Longitud máxima: N/A\n",
      "Columna: Boss, Tipo: StringType(), Longitud máxima: N/A\n",
      "Columna: Matriarch, Tipo: StringType(), Longitud máxima: N/A\n",
      "Columna: GovernorGeneral, Tipo: StringType(), Longitud máxima: N/A\n",
      "Columna:  Number, Tipo: DoubleType(), Longitud máxima: N/A\n",
      "Columna: Size, Tipo: StringType(), Longitud máxima: N/A\n",
      "Columna: First appearance37, Tipo: StringType(), Longitud máxima: N/A\n",
      "Columna: Birth Name, Tipo: StringType(), Longitud máxima: N/A\n",
      "Columna: Japanese VA, Tipo: StringType(), Longitud máxima: N/A\n",
      "Columna: Funi English VA, Tipo: StringType(), Longitud máxima: N/A\n",
      "Columna: Features, Tipo: StringType(), Longitud máxima: N/A\n",
      "Columna: Weight, Tipo: StringType(), Longitud máxima: N/A\n",
      "Columna: Fruit Debut, Tipo: StringType(), Longitud máxima: N/A\n",
      "Columna: Usage Debut, Tipo: StringType(), Longitud máxima: N/A\n",
      "Columna: Previous User, Tipo: StringType(), Longitud máxima: N/A\n",
      "Columna:  key, Tipo: DoubleType(), Longitud máxima: N/A\n",
      "Columna: Vessel, Tipo: StringType(), Longitud máxima: N/A\n",
      "Columna: Homeland, Tipo: StringType(), Longitud máxima: N/A\n",
      "Columna: Completion Date, Tipo: StringType(), Longitud máxima: N/A\n",
      "Columna: Length, Tipo: StringType(), Longitud máxima: N/A\n",
      "Columna: Affiliates, Tipo: StringType(), Longitud máxima: N/A\n"
     ]
    }
   ],
   "source": [
    "spark = SparkSession.builder.appName(\"Contar filas\").getOrCreate()\n",
    "num_filas = df.count()\n",
    "print(f\"La tabla tiene {num_filas} filas.\")\n",
    "\n",
    "schema = df.schema  # Obtiene el esquema del DataFrame\n",
    "for field in schema.fields:\n",
    "    print(f\"Columna: {field.name}, Tipo: {field.dataType}, Longitud máxima: {field.metadata.get('maxlength', 'N/A')}\")"
   ]
  },
  {
   "cell_type": "code",
   "execution_count": 80,
   "metadata": {},
   "outputs": [
    {
     "name": "stdout",
     "output_type": "stream",
     "text": [
      "+---------------------+--------------------+\n",
      "|Official English Name|        Total Bounty|\n",
      "+---------------------+--------------------+\n",
      "|      Big Mom Pirates|Main Crew:At leas...|\n",
      "|           Barto Club|At least 267,000,...|\n",
      "| Animal Kingdom Pi...|At least 11,179,1...|\n",
      "|  Happosui Army (Viz)|At least 752,000,...|\n",
      "|        Rocks Pirates|At least 570,000,000|\n",
      "|       Bonney Pirates|At least 320,000,...|\n",
      "| Black Beard Pirat...|Main Crew:At leas...|\n",
      "|        Heart Pirates|At least 3,000,00...|\n",
      "|        Four Emperors|14,233,900,00015,...|\n",
      "|          Kid Pirates|At least 3,200,00...|\n",
      "| Buggy's Band of P...|At least 3,320,00...|\n",
      "|    Yonta Maria Fleet|At least 148,000,000|\n",
      "| Straw Hat Grand F...|At least 10,380,0...|\n",
      "| Straw Hat Pirates...|8,816,001,0003,16...|\n",
      "|    Beautiful Pirates|At least 397,000,...|\n",
      "+---------------------+--------------------+\n",
      "\n"
     ]
    }
   ],
   "source": [
    "df.createOrReplaceTempView(\"Onpiece1_vw\")\n",
    "#df_seleccionado = spark.sql(\"SELECT `Official English Name`, Age, `Total Bounty` FROM Onpiece1_VW\")\n",
    "df_seleccionado = spark.sql(\"SELECT DISTINCT `Official English Name`,`Total Bounty` FROM Onpiece1_VW WHERE `Total Bounty` is not null\")\n",
    "df_seleccionado.show()"
   ]
  },
  {
   "cell_type": "code",
   "execution_count": 104,
   "metadata": {},
   "outputs": [
    {
     "name": "stdout",
     "output_type": "stream",
     "text": [
      "Columna: Official English Name, Tipo: StringType(), Longitud máxima: N/A\n",
      "Columna: Total Bounty, Tipo: StringType(), Longitud máxima: N/A\n",
      "Columna: Total Bounty_N, Tipo: StringType(), Longitud máxima: N/A\n",
      "Columna: Bounties, Tipo: ArrayType(StringType(), False), Longitud máxima: N/A\n",
      "Columna: Ultima Recompensa, Tipo: StringType(), Longitud máxima: N/A\n",
      "Columna: Ultima Recompensa_N, Tipo: StringType(), Longitud máxima: N/A\n",
      "Después de filtrar los valores:\n",
      "+-------------------------------------------------------------------------------------------------------------+-----------------+\n",
      "|Official English Name                                                                                        |Ultima Recompensa|\n",
      "+-------------------------------------------------------------------------------------------------------------+-----------------+\n",
      "|Big Mom Pirates                                                                                              |11044500000      |\n",
      "|Barto Club                                                                                                   |217000000        |\n",
      "|Animal Kingdom Pirates (VIZ Media and Funimation sub);Beast Pirates (Funimation dub, Funimation sub (former))|11401100000      |\n",
      "|Happosui Army (Viz)                                                                                          |542000000        |\n",
      "|Rocks Pirates                                                                                                |570000000        |\n",
      "|Bonney Pirates                                                                                               |140000000        |\n",
      "|Heart Pirates                                                                                                |200000500        |\n",
      "|Kid Pirates                                                                                                  |477000000        |\n",
      "|Yonta Maria Fleet                                                                                            |148000000        |\n",
      "|Straw Hat Grand FleetStraw Hat Fleet (Funimation subs)                                                       |3134000100       |\n",
      "|Beautiful Pirates                                                                                            |280000000        |\n",
      "+-------------------------------------------------------------------------------------------------------------+-----------------+\n",
      "\n"
     ]
    }
   ],
   "source": [
    "# Eliminar etiquetas [bounty X]\n",
    "df = df_seleccionado.withColumn(\"Total Bounty_N\", regexp_replace(col(\"Total Bounty\"), r\"\\[bounty \\d+\\]\", \"\"))\n",
    "\n",
    "# Verificar la eliminación de etiquetas\n",
    "#print(\"Después de eliminar etiquetas:\")\n",
    "#df.select(\"Official English Name\", \"Total Bounty\",\"Total Bounty_N\").show(200,truncate=False)\n",
    "\n",
    "# Dividir en recompensas\n",
    "df = df.withColumn(\"Bounties\", split(col(\"Total Bounty_N\"), r\"At least|, \"))\n",
    "\n",
    "# Verificar la división en recompensas\n",
    "#print(\"Después de dividir en recompensas:\")\n",
    "#df.select(\"Official English Name\",\"Total Bounty_N\",\"Bounties\").show(200,truncate=False)\n",
    "\n",
    "\n",
    "\n",
    "# Extraer la última recompensa\n",
    "df = df.withColumn(\"Ultima Recompensa\", element_at(col(\"Bounties\"), -1))\n",
    "\n",
    "# Verificar la extracción de la última recompensa\n",
    "#print(\"Después de extraer la última recompensa:\")\n",
    "#df.select(\"Official English Name\",\"Bounties\" ,\"Ultima Recompensa\").show(200,truncate=False)\n",
    "\n",
    "# Limpiar la última recompensa eliminando cualquier cosa que no sea un número\n",
    "df = df.withColumn(\"Ultima Recompensa_N\", regexp_replace(col(\"Ultima Recompensa\"), \"[^0-9]\", \"\"))\n",
    "\n",
    "\n",
    "# Verificar los valores limpios en la columna Ultima Recompensa antes de la conversión a entero\n",
    "#print(\"Después de limpiar la última recompensa:\")\n",
    "#df.select(\"Official English Name\", \"Ultima Recompensa_N\",\"Ultima Recompensa\").show(200,truncate=False)\n",
    "schema = df.schema  # Obtiene el esquema del DataFrame\n",
    "for field in schema.fields:\n",
    "    print(f\"Columna: {field.name}, Tipo: {field.dataType}, Longitud máxima: {field.metadata.get('maxlength', 'N/A')}\")\n",
    "\n",
    "# Convertir a entero\n",
    "df = df.withColumn(\"Ultima Recompensa\",col(\"Ultima Recompensa_N\").cast(\"bigint\"))  # Convertir a entero\n",
    "# df = df.withColumn(\n",
    "#     \"Ultima Recompensa\",\n",
    "#     when(\n",
    "#         col(\"Ultima Recompensa\").rlike(\"^[0-9]+$\"),  # Verificar si solo contiene números\n",
    "#         col(\"Ultima Recompensa\").cast(\"int\")  # Convertir a entero\n",
    "#     ).otherwise(0)  # Si no es un número válido, asignar 0\n",
    "# )\n",
    "\n",
    "# Verificar la columna Ultima Recompensa después de la conversión\n",
    "#print(\"Después de convertir a entero:\")\n",
    "#df.select(\"Official English Name\",\"Ultima Recompensa_N\", \"Ultima Recompensa\").show(200,truncate=False)\n",
    "\n",
    "# Filtrar el DataFrame para valores mayores a 10,000 y menores o iguales a 30,000,000\n",
    "df_filtered = df.filter(\n",
    "    (col(\"Ultima Recompensa\") > 10000) & (col(\"Ultima Recompensa\") <= 11401100000)\n",
    ")\n",
    "\n",
    "# Mostrar el resultado\n",
    "print(\"Después de filtrar los valores:\")\n",
    "df_filtered.select(\"Official English Name\", \"Ultima Recompensa\").show(truncate=False)"
   ]
  },
  {
   "cell_type": "code",
   "execution_count": null,
   "metadata": {},
   "outputs": [],
   "source": []
  }
 ],
 "metadata": {
  "kernelspec": {
   "display_name": "Python 3",
   "language": "python",
   "name": "python3"
  },
  "language_info": {
   "codemirror_mode": {
    "name": "ipython",
    "version": 3
   },
   "file_extension": ".py",
   "mimetype": "text/x-python",
   "name": "python",
   "nbconvert_exporter": "python",
   "pygments_lexer": "ipython3",
   "version": "3.12.4"
  }
 },
 "nbformat": 4,
 "nbformat_minor": 2
}
