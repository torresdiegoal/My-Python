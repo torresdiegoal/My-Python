{
 "cells": [
  {
   "cell_type": "code",
   "execution_count": 16,
   "metadata": {},
   "outputs": [
    {
     "name": "stderr",
     "output_type": "stream",
     "text": [
      "<>:9: SyntaxWarning: invalid escape sequence '\\S'\n",
      "<>:9: SyntaxWarning: invalid escape sequence '\\S'\n",
      "C:\\Users\\adria\\AppData\\Local\\Temp\\ipykernel_10176\\2190362467.py:9: SyntaxWarning: invalid escape sequence '\\S'\n",
      "  \"SERVER=ADRIANAC\\SQLEXPRESS;\" #Nombre o direccion IP del SQL server\n"
     ]
    }
   ],
   "source": [
    "#Conexion a la base de datos AdventureWorks en SQL Server database\n",
    "import pyodbc\n",
    "import pandas as pd\n",
    "import numpy as np \n",
    "from datetime import datetime\n",
    "\n",
    "connection_string = (\n",
    "    \"DRIVER={ODBC Driver 17 for SQL Server};\"  # O el driver que tengas instalado\n",
    "    \"SERVER=ADRIANAC\\SQLEXPRESS;\" #Nombre o direccion IP del SQL server\n",
    "    \"DATABASE=AdventureWorks2022;\" #Nombre de la base de datos que tenog en SQL y quiero usar\n",
    "    \"Trusted_Connection=yes;\" #Porque tengo autenticacion de windows, sino, me pediria usuario y psw\n",
    ")\n",
    "\n",
    "# Establecer la conexión\n",
    "with pyodbc.connect(connection_string) as conn:\n",
    "    # Crear el cursor\n",
    "    cursor = conn.cursor()\n"
   ]
  },
  {
   "cell_type": "code",
   "execution_count": 17,
   "metadata": {},
   "outputs": [
    {
     "name": "stderr",
     "output_type": "stream",
     "text": [
      "C:\\Users\\adria\\AppData\\Local\\Temp\\ipykernel_10176\\4114558389.py:10: UserWarning: pandas only supports SQLAlchemy connectable (engine/connection) or database string URI or sqlite3 DBAPI2 connection. Other DBAPI2 objects are not tested. Please consider using SQLAlchemy.\n",
      "  df = pd.read_sql(query, conn)\n"
     ]
    },
    {
     "name": "stdout",
     "output_type": "stream",
     "text": [
      "| BusinessEntityID   | PersonType   | NameStyle   | Title   | FirstName   | MiddleName   | LastName   | Suffix   | EmailPromotion   | AdditionalContactInfo   | Demographics                                                                                                                                                        | rowguid                              | ModifiedDate        |\n",
      "|:-------------------|:-------------|:------------|:--------|:------------|:-------------|:-----------|:---------|:-----------------|:------------------------|:--------------------------------------------------------------------------------------------------------------------------------------------------------------------|:-------------------------------------|:--------------------|\n",
      "| 1                  | EM           | False       |         | Ken         | J            | Sánchez    |          | 0                |                         | <IndividualSurvey xmlns=\"http://schemas.microsoft.com/sqlserver/2004/07/adventure-works/IndividualSurvey\"><TotalPurchaseYTD>0</TotalPurchaseYTD></IndividualSurvey> | 92C4279F-1207-48A3-8448-4636514EB7E2 | 2009-01-07 00:00:00 |\n",
      "| 2                  | EM           | False       |         | Terri       | Lee          | Duffy      |          | 1                |                         | <IndividualSurvey xmlns=\"http://schemas.microsoft.com/sqlserver/2004/07/adventure-works/IndividualSurvey\"><TotalPurchaseYTD>0</TotalPurchaseYTD></IndividualSurvey> | D8763459-8AA8-47CC-AFF7-C9079AF79033 | 2008-01-24 00:00:00 |\n",
      "| 3                  | EM           | False       |         | Roberto     |              | Tamburello |          | 0                |                         | <IndividualSurvey xmlns=\"http://schemas.microsoft.com/sqlserver/2004/07/adventure-works/IndividualSurvey\"><TotalPurchaseYTD>0</TotalPurchaseYTD></IndividualSurvey> | E1A2555E-0828-434B-A33B-6F38136A37DE | 2007-11-04 00:00:00 |\n",
      "| 4                  | EM           | False       |         | Rob         |              | Walters    |          | 0                |                         | <IndividualSurvey xmlns=\"http://schemas.microsoft.com/sqlserver/2004/07/adventure-works/IndividualSurvey\"><TotalPurchaseYTD>0</TotalPurchaseYTD></IndividualSurvey> | F2D7CE06-38B3-4357-805B-F4B6B71C01FF | 2007-11-28 00:00:00 |\n",
      "| 5                  | EM           | False       | Ms.     | Gail        | A            | Erickson   |          | 0                |                         | <IndividualSurvey xmlns=\"http://schemas.microsoft.com/sqlserver/2004/07/adventure-works/IndividualSurvey\"><TotalPurchaseYTD>0</TotalPurchaseYTD></IndividualSurvey> | F3A3F6B4-AE3B-430C-A754-9F2231BA6FEF | 2007-12-30 00:00:00 |\n"
     ]
    }
   ],
   "source": [
    "#Extrae los datos de la tabla Person.Person.\n",
    "#Primero realizamos la consulta para identificar los duplicados que tengamos\n",
    "query = \"\"\"\n",
    "SELECT *\n",
    "FROM Person.Person\n",
    "\"\"\"\n",
    "# Imprimir la consulta\n",
    "#print(query)\n",
    "# Leer datos en un DataFrame de Pandas\n",
    "df = pd.read_sql(query, conn)\n",
    "# Mostrar las primeras filas\n",
    "print(df.head(5).to_markdown(index=False, numalign=\"left\", stralign=\"left\"))"
   ]
  },
  {
   "cell_type": "code",
   "execution_count": 22,
   "metadata": {},
   "outputs": [
    {
     "name": "stdout",
     "output_type": "stream",
     "text": [
      "| BusinessEntityID   | ModifiedDate        |\n",
      "|:-------------------|:--------------------|\n",
      "| 1                  | 2009-01-07 00:00:00 |\n",
      "| 2                  | 2008-01-24 00:00:00 |\n",
      "| 3                  | 2007-11-04 00:00:00 |\n",
      "| 4                  | 2007-11-28 00:00:00 |\n",
      "| 5                  | 2007-12-30 00:00:00 |\n",
      "Estadísticas de Antigüedad (en días):\n",
      "count    19972.000000\n",
      "mean      4098.565141\n",
      "std        383.883572\n",
      "min       3401.000000\n",
      "25%       3842.000000\n",
      "50%       3981.000000\n",
      "75%       4256.000000\n",
      "max       6620.000000\n",
      "Name: AntiguedadDias, dtype: float64\n",
      "  Percentil 25: 3842\n",
      "  Percentil 75: 4256\n"
     ]
    },
    {
     "name": "stderr",
     "output_type": "stream",
     "text": [
      "C:\\Users\\adria\\AppData\\Local\\Temp\\ipykernel_10176\\2378593986.py:5: UserWarning: pandas only supports SQLAlchemy connectable (engine/connection) or database string URI or sqlite3 DBAPI2 connection. Other DBAPI2 objects are not tested. Please consider using SQLAlchemy.\n",
      "  df = pd.read_sql(query, conn)\n"
     ]
    }
   ],
   "source": [
    "# Consulta SQL para extraer los datos\n",
    "query = \"SELECT BusinessEntityID, ModifiedDate FROM Person.Person\"\n",
    "\n",
    "# Leer datos en un DataFrame de Pandas\n",
    "df = pd.read_sql(query, conn)\n",
    "\n",
    "# Convertir ModifiedDate a tipo datetime\n",
    "df['ModifiedDate'] = pd.to_datetime(df['ModifiedDate'])\n",
    "\n",
    "# Mostrar las primeras filas\n",
    "print(df.head(5).to_markdown(index=False, numalign=\"left\", stralign=\"left\"))\n",
    "\n",
    "# Calcular la antigüedad en días\n",
    "today = pd.to_datetime(datetime.today())\n",
    "df['AntiguedadDias'] = (today - df['ModifiedDate']).dt.days\n",
    "\n",
    "# Calcular estadísticas descriptivas\n",
    "estadisticas = df['AntiguedadDias'].describe()\n",
    "percentiles = df['AntiguedadDias'].quantile([0.25, 0.75])\n",
    "\n",
    "# Mostrar los resultados\n",
    "print(\"Estadísticas de Antigüedad (en días):\")\n",
    "print(estadisticas)\n",
    "print(f\"  Percentil 25: {percentiles[0.25]:.0f}\")\n",
    "print(f\"  Percentil 75: {percentiles[0.75]:.0f}\")"
   ]
  },
  {
   "cell_type": "code",
   "execution_count": 27,
   "metadata": {},
   "outputs": [
    {
     "name": "stderr",
     "output_type": "stream",
     "text": [
      "C:\\Users\\adria\\AppData\\Local\\Temp\\ipykernel_10176\\1576760372.py:6: UserWarning: pandas only supports SQLAlchemy connectable (engine/connection) or database string URI or sqlite3 DBAPI2 connection. Other DBAPI2 objects are not tested. Please consider using SQLAlchemy.\n",
      "  df = pd.read_sql(query, conn)\n"
     ]
    },
    {
     "name": "stdout",
     "output_type": "stream",
     "text": [
      "| SalesOrderID   | LineTotal   |\n",
      "|:---------------|:------------|\n",
      "| 43659          | 2024.99     |\n",
      "| 43659          | 6074.98     |\n",
      "| 43659          | 2024.99     |\n",
      "| 43659          | 2039.99     |\n",
      "| 43659          | 2039.99     |\n",
      "| SalesOrderID   | TotalOrder   |\n",
      "|:---------------|:-------------|\n",
      "| 43659          | 20565.6      |\n",
      "| 43660          | 1294.25      |\n",
      "| 43661          | 32726.5      |\n",
      "| 43662          | 28832.5      |\n",
      "| 43663          | 419.459      |\n"
     ]
    }
   ],
   "source": [
    "#Agrupa los datos por SalesOrderID y suma la columna TotalLinea para obtener el total de cada orden.\n",
    "# Consulta SQL para extraer los datos\n",
    "query = \"SELECT SalesOrderID, LineTotal FROM Sales.SalesOrderDetail\"\n",
    "\n",
    "# Leer datos en un DataFrame de Pandas\n",
    "df = pd.read_sql(query, conn)\n",
    "\n",
    "# Mostrar las primeras filas\n",
    "print(df.head(5).to_markdown(index=False, numalign=\"left\", stralign=\"left\"))\n",
    "\n",
    "# Agrupar por 'SalesOrderID' y sumar 'TotalLinea'\n",
    "grouped_df = df.groupby('SalesOrderID')['LineTotal'].sum().reset_index()\n",
    "\n",
    "# Renombrar la columna resultante para mayor claridad\n",
    "grouped_df.rename(columns={'LineTotal': 'TotalOrder'}, inplace=True)\n",
    "\n",
    "# Mostrar las primeras filas\n",
    "print(grouped_df.head(5).to_markdown(index=False, numalign=\"left\", stralign=\"left\"))"
   ]
  },
  {
   "cell_type": "code",
   "execution_count": 30,
   "metadata": {},
   "outputs": [
    {
     "name": "stdout",
     "output_type": "stream",
     "text": [
      "| ProductID   | color   |\n",
      "|:------------|:--------|\n",
      "| 706         | Red     |\n",
      "| 707         | Red     |\n",
      "| 717         | Red     |\n",
      "| 718         | Red     |\n",
      "| 719         | Red     |\n"
     ]
    },
    {
     "name": "stderr",
     "output_type": "stream",
     "text": [
      "C:\\Users\\adria\\AppData\\Local\\Temp\\ipykernel_10176\\1958768541.py:7: UserWarning: pandas only supports SQLAlchemy connectable (engine/connection) or database string URI or sqlite3 DBAPI2 connection. Other DBAPI2 objects are not tested. Please consider using SQLAlchemy.\n",
      "  df = pd.read_sql(query, conn)\n"
     ]
    }
   ],
   "source": [
    "#Filtra los productos que tienen un Color igual a 'Red' y guarda los resultados en un archivo CSV llamado \"productos_rojos.csv\".\n",
    "\n",
    "# Consulta SQL para extraer los datos\n",
    "query = \"SELECT ProductID, color FROM Production.Product WHERE color LIKE 'Red%' \"\n",
    "\n",
    "# Leer datos en un DataFrame de Pandas\n",
    "df = pd.read_sql(query, conn)\n",
    "\n",
    "# Mostrar las primeras filas\n",
    "print(df.head(5).to_markdown(index=False, numalign=\"left\", stralign=\"left\"))\n",
    "\n",
    "# Guardar el DataFrame en un archivo CSV\n",
    "df.to_csv('resultados_productos_Rojos.csv', index=False)  # index=False evita guardar el índice de las filas"
   ]
  },
  {
   "cell_type": "code",
   "execution_count": 38,
   "metadata": {},
   "outputs": [
    {
     "name": "stdout",
     "output_type": "stream",
     "text": [
      "| CustomerID   | PersonID   | SalesOrderID   | OrderDate   |\n",
      "|:-------------|:-----------|:---------------|:------------|\n",
      "| 11001        | 5454       | 72773          | 2014-05-12  |\n",
      "| 11012        | 11663      | 68413          | 2014-03-17  |\n",
      "| 11013        | 13873      | 74908          | 2014-06-23  |\n",
      "| 11017        | 2521       | 68396          | 2014-03-16  |\n",
      "| 11018        | 7394       | 69087          | 2014-03-26  |\n"
     ]
    },
    {
     "name": "stderr",
     "output_type": "stream",
     "text": [
      "C:\\Users\\adria\\AppData\\Local\\Temp\\ipykernel_10176\\764379110.py:6: UserWarning: pandas only supports SQLAlchemy connectable (engine/connection) or database string URI or sqlite3 DBAPI2 connection. Other DBAPI2 objects are not tested. Please consider using SQLAlchemy.\n",
      "  df_sales_customer = pd.read_sql(query, conn)\n",
      "C:\\Users\\adria\\AppData\\Local\\Temp\\ipykernel_10176\\764379110.py:7: UserWarning: pandas only supports SQLAlchemy connectable (engine/connection) or database string URI or sqlite3 DBAPI2 connection. Other DBAPI2 objects are not tested. Please consider using SQLAlchemy.\n",
      "  df_sales_order_header = pd.read_sql(query1,conn)\n"
     ]
    }
   ],
   "source": [
    "#Realiza un INNER JOIN entre las tablas Sales.SalesOrderHeader y Sales.Customer utilizando la columna CustomerID.\n",
    "query = \"SELECT CustomerID,PersonID FROM Sales.Customer \"\n",
    "query1= \"SELECT CustomerID,SalesOrderID, OrderDate FROM Sales.Silver_SalesOrderHeader WHERE YEAR(OrderDate) = 2014\"\n",
    "\n",
    "# Leer los datos en un DataFrame de Pandas\n",
    "df_sales_customer = pd.read_sql(query, conn) \n",
    "df_sales_order_header = pd.read_sql(query1,conn)\n",
    "# Unión con FULL JOIN\n",
    "df_merged_inner = pd.merge(df_sales_customer, df_sales_order_header, on='CustomerID', how='inner')\n",
    "\n",
    "# Mostrar las primeras filas del DataFrame modificado (opcional)\n",
    "print(df_merged_inner.head().to_markdown(index=False, numalign=\"left\", stralign=\"left\"))"
   ]
  },
  {
   "cell_type": "code",
   "execution_count": null,
   "metadata": {},
   "outputs": [],
   "source": []
  }
 ],
 "metadata": {
  "kernelspec": {
   "display_name": "Python 3",
   "language": "python",
   "name": "python3"
  },
  "language_info": {
   "codemirror_mode": {
    "name": "ipython",
    "version": 3
   },
   "file_extension": ".py",
   "mimetype": "text/x-python",
   "name": "python",
   "nbconvert_exporter": "python",
   "pygments_lexer": "ipython3",
   "version": "3.12.4"
  }
 },
 "nbformat": 4,
 "nbformat_minor": 2
}
