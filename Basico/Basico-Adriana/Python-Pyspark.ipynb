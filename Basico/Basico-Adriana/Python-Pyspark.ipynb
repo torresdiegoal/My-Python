{
 "cells": [
  {
   "cell_type": "code",
   "execution_count": 2,
   "metadata": {},
   "outputs": [
    {
     "name": "stderr",
     "output_type": "stream",
     "text": [
      "<>:6: SyntaxWarning: invalid escape sequence '\\S'\n",
      "<>:6: SyntaxWarning: invalid escape sequence '\\S'\n",
      "C:\\Users\\adria\\AppData\\Local\\Temp\\ipykernel_3372\\881769128.py:6: SyntaxWarning: invalid escape sequence '\\S'\n",
      "  \"SERVER=ADRIANAC\\SQLEXPRESS;\" #Nombre o direccion IP del SQL server\n"
     ]
    }
   ],
   "source": [
    "#Conexion a la base de datos AdventureWorks en SQL Server database\n",
    "import pyodbc\n",
    "import pandas as pd\n",
    "connection_string = (\n",
    "    \"DRIVER={ODBC Driver 17 for SQL Server};\"  # O el driver que tengas instalado\n",
    "    \"SERVER=ADRIANAC\\SQLEXPRESS;\" #Nombre o direccion IP del SQL server\n",
    "    \"DATABASE=AdventureWorks2022;\" #Nombre de la base de datos que tenog en SQL y quiero usar\n",
    "    \"Trusted_Connection=yes;\" #Porque tengo autenticacion de windows, sino, me pediria usuario y psw\n",
    ")\n",
    "\n",
    "# Establecer la conexión\n",
    "with pyodbc.connect(connection_string) as conn:\n",
    "    # Crear el cursor\n",
    "    cursor = conn.cursor()"
   ]
  },
  {
   "cell_type": "code",
   "execution_count": 14,
   "metadata": {},
   "outputs": [
    {
     "name": "stderr",
     "output_type": "stream",
     "text": [
      "C:\\Users\\adria\\AppData\\Local\\Temp\\ipykernel_12100\\2035169001.py:10: UserWarning: pandas only supports SQLAlchemy connectable (engine/connection) or database string URI or sqlite3 DBAPI2 connection. Other DBAPI2 objects are not tested. Please consider using SQLAlchemy.\n",
      "  df = pd.read_sql(query, connection)\n"
     ]
    },
    {
     "name": "stdout",
     "output_type": "stream",
     "text": [
      "| BusinessEntityID   | PersonType   | NameStyle   | Title   | FirstName   | MiddleName   | LastName   | Suffix   | EmailPromotion   | AdditionalContactInfo   | Demographics                                                                                                                                                        | rowguid                              | ModifiedDate        |\n",
      "|:-------------------|:-------------|:------------|:--------|:------------|:-------------|:-----------|:---------|:-----------------|:------------------------|:--------------------------------------------------------------------------------------------------------------------------------------------------------------------|:-------------------------------------|:--------------------|\n",
      "| 1                  | EM           | False       |         | Ken         | J            | Sánchez    |          | 0                |                         | <IndividualSurvey xmlns=\"http://schemas.microsoft.com/sqlserver/2004/07/adventure-works/IndividualSurvey\"><TotalPurchaseYTD>0</TotalPurchaseYTD></IndividualSurvey> | 92C4279F-1207-48A3-8448-4636514EB7E2 | 2009-01-07 00:00:00 |\n",
      "| 2                  | EM           | False       |         | Terri       | Lee          | Duffy      |          | 1                |                         | <IndividualSurvey xmlns=\"http://schemas.microsoft.com/sqlserver/2004/07/adventure-works/IndividualSurvey\"><TotalPurchaseYTD>0</TotalPurchaseYTD></IndividualSurvey> | D8763459-8AA8-47CC-AFF7-C9079AF79033 | 2008-01-24 00:00:00 |\n",
      "| 3                  | EM           | False       |         | Roberto     |              | Tamburello |          | 0                |                         | <IndividualSurvey xmlns=\"http://schemas.microsoft.com/sqlserver/2004/07/adventure-works/IndividualSurvey\"><TotalPurchaseYTD>0</TotalPurchaseYTD></IndividualSurvey> | E1A2555E-0828-434B-A33B-6F38136A37DE | 2007-11-04 00:00:00 |\n",
      "| 4                  | EM           | False       |         | Rob         |              | Walters    |          | 0                |                         | <IndividualSurvey xmlns=\"http://schemas.microsoft.com/sqlserver/2004/07/adventure-works/IndividualSurvey\"><TotalPurchaseYTD>0</TotalPurchaseYTD></IndividualSurvey> | F2D7CE06-38B3-4357-805B-F4B6B71C01FF | 2007-11-28 00:00:00 |\n",
      "| 5                  | EM           | False       | Ms.     | Gail        | A            | Erickson   |          | 0                |                         | <IndividualSurvey xmlns=\"http://schemas.microsoft.com/sqlserver/2004/07/adventure-works/IndividualSurvey\"><TotalPurchaseYTD>0</TotalPurchaseYTD></IndividualSurvey> | F3A3F6B4-AE3B-430C-A754-9F2231BA6FEF | 2007-12-30 00:00:00 |\n"
     ]
    }
   ],
   "source": [
    "#Realizar consultas SQL en python\n",
    "try:\n",
    "    # Establecer la conexión\n",
    "    connection = pyodbc.connect(connection_string)\n",
    "\n",
    "    # Consulta SQL para leer la tabla\n",
    "    query = \"SELECT * FROM Person.Person\"\n",
    "\n",
    "    # Leer datos en un DataFrame de Pandas\n",
    "    df = pd.read_sql(query, connection)\n",
    "   \n",
    "    # Mostrar las primeras filas\n",
    "    print(df.head().to_markdown(index=False, numalign=\"left\", stralign=\"left\"))\n",
    "\n",
    "except pyodbc.Error as ex:\n",
    "    sqlstate = ex.args[1]\n",
    "    print(f\"Error al conectar o ejecutar la consulta: {sqlstate}\")\n",
    "\n",
    "\n"
   ]
  },
  {
   "cell_type": "code",
   "execution_count": 3,
   "metadata": {},
   "outputs": [
    {
     "name": "stdout",
     "output_type": "stream",
     "text": [
      "| Nombre   | Apellido   | Ciudad   |\n",
      "|:---------|:-----------|:---------|\n",
      "| Pilar    | Ackerman   | Seattle  |\n",
      "| Elijah   | Adams      | Seattle  |\n",
      "| Jason    | Adams      | Seattle  |\n",
      "| Jack     | Adams      | Seattle  |\n",
      "| Robert   | Alexander  | Seattle  |\n"
     ]
    },
    {
     "name": "stderr",
     "output_type": "stream",
     "text": [
      "C:\\Users\\adria\\AppData\\Local\\Temp\\ipykernel_12100\\2691514341.py:11: UserWarning: pandas only supports SQLAlchemy connectable (engine/connection) or database string URI or sqlite3 DBAPI2 connection. Other DBAPI2 objects are not tested. Please consider using SQLAlchemy.\n",
      "  df = pd.read_sql(query, connection)\n"
     ]
    }
   ],
   "source": [
    "#Filtra los empleados de la tabla Person.Person que viven en la ciudad de 'Seattle'.\n",
    "\n",
    "query = f\"\"\"\n",
    "SELECT pp.FirstName AS Nombre, pp.LastName AS Apellido, city AS Ciudad\n",
    "FROM Person.Person pp \n",
    "LEFT JOIN Person.BusinessEntityAddress bea ON pp.BusinessEntityID = bea.BusinessEntityID \n",
    "LEFT JOIN Person.Address pa ON bea.AddressID = pa.AddressID \n",
    "WHERE City='Seattle'\n",
    "\"\"\"\n",
    "# Leer datos en un DataFrame de Pandas\n",
    "df = pd.read_sql(query, connection)\n",
    "\n",
    "# Mostrar las primeras filas\n",
    "print(df.head().to_markdown(index=False, numalign=\"left\", stralign=\"left\"))\n",
    "\n"
   ]
  },
  {
   "cell_type": "code",
   "execution_count": 5,
   "metadata": {},
   "outputs": [
    {
     "name": "stderr",
     "output_type": "stream",
     "text": [
      "C:\\Users\\adria\\AppData\\Local\\Temp\\ipykernel_12100\\2774882196.py:12: UserWarning: pandas only supports SQLAlchemy connectable (engine/connection) or database string URI or sqlite3 DBAPI2 connection. Other DBAPI2 objects are not tested. Please consider using SQLAlchemy.\n",
      "  df = pd.read_sql(query1, connection)\n"
     ]
    },
    {
     "name": "stdout",
     "output_type": "stream",
     "text": [
      "| año   | totalVentas   |\n",
      "|:------|:--------------|\n",
      "| 2011  | 12,646,112    |\n",
      "| 2012  | 33,710,897    |\n",
      "| 2013  | 43,922,051    |\n",
      "| 2014  | 20,094,830    |\n"
     ]
    }
   ],
   "source": [
    "#Calcula el total de ventas por año a partir de la tabla Sales.SalesOrderHeader.\n",
    "\n",
    "query1=f\"\"\"\n",
    "SELECT YEAR(soh.OrderDate) AS año, FORMAT(ROUND(SUM(sod.OrderQty * sod.UnitPrice), 0), 'N0') AS totalVentas\n",
    "FROM Sales.SalesOrderDetail sod\n",
    "LEFT JOIN Sales.SalesOrderHeader soh ON sod.SalesOrderID = soh.SalesOrderID\n",
    "GROUP BY YEAR (soh.OrderDate)\n",
    "ORDER BY YEAR (soh.OrderDate) ASC\n",
    "\"\"\"\n",
    "\n",
    "# Leer datos en un DataFrame de Pandas\n",
    "df = pd.read_sql(query1, connection)\n",
    "\n",
    "# Mostrar las primeras filas\n",
    "print(df.head().to_markdown(index=False, numalign=\"left\", stralign=\"left\"))"
   ]
  },
  {
   "cell_type": "code",
   "execution_count": 7,
   "metadata": {},
   "outputs": [
    {
     "name": "stdout",
     "output_type": "stream",
     "text": [
      "| NombreCategoria   | Cantidad   |\n",
      "|:------------------|:-----------|\n",
      "| Accessories       | 29         |\n",
      "| Bikes             | 97         |\n",
      "| Clothing          | 35         |\n",
      "| Components        | 134        |\n"
     ]
    },
    {
     "name": "stderr",
     "output_type": "stream",
     "text": [
      "C:\\Users\\adria\\AppData\\Local\\Temp\\ipykernel_12100\\1803914574.py:11: UserWarning: pandas only supports SQLAlchemy connectable (engine/connection) or database string URI or sqlite3 DBAPI2 connection. Other DBAPI2 objects are not tested. Please consider using SQLAlchemy.\n",
      "  df = pd.read_sql(query, connection)\n"
     ]
    }
   ],
   "source": [
    "#Agrupa los productos de la tabla Production.Product por categoría y cuenta cuántos productos hay en cada categoría.\n",
    "query=f\"\"\"\n",
    "SELECT pc.Name AS NombreCategoria, COUNT(pp.ProductID) AS Cantidad\n",
    "FROM Production.Product pp \n",
    "INNER JOIN Production.ProductSubcategory ps ON pp.ProductSubcategoryID = ps.ProductSubcategoryID\n",
    "AND ps.ProductCategoryID IS NOT NULL\n",
    "INNER JOIN Production.ProductCategory pc ON ps.ProductCategoryID = pc.ProductCategoryID\n",
    "GROUP BY pc.Name,(pc.ProductCategoryID)\n",
    "\"\"\"\n",
    "# Leer datos en un DataFrame de Pandas\n",
    "df = pd.read_sql(query, connection)\n",
    "\n",
    "# Mostrar las primeras filas\n",
    "print(df.head().to_markdown(index=False, numalign=\"left\", stralign=\"left\"))\n",
    "\n",
    "# Guardar el DataFrame en un archivo CSV\n",
    "df.to_csv('resultados_productos.csv', index=False)  # index=False evita guardar el índice de las filas"
   ]
  },
  {
   "cell_type": "code",
   "execution_count": 9,
   "metadata": {},
   "outputs": [
    {
     "name": "stdout",
     "output_type": "stream",
     "text": [
      "| BusinessEntityID   | FirstName   | LastName    | City    |\n",
      "|:-------------------|:------------|:------------|:--------|\n",
      "| 33                 | Annik       | Stahl       | Seattle |\n",
      "| 36                 | Jose        | Lugo        | Seattle |\n",
      "| 39                 | Ed          | Dudenhoefer | Seattle |\n",
      "| 40                 | JoLynn      | Dobney      | Seattle |\n",
      "| 58                 | Kendall     | Keil        | Seattle |\n"
     ]
    },
    {
     "name": "stderr",
     "output_type": "stream",
     "text": [
      "C:\\Users\\adria\\AppData\\Local\\Temp\\ipykernel_3372\\224792119.py:34: UserWarning: pandas only supports SQLAlchemy connectable (engine/connection) or database string URI or sqlite3 DBAPI2 connection. Other DBAPI2 objects are not tested. Please consider using SQLAlchemy.\n",
      "  df = pd.read_sql(query, conn)\n"
     ]
    }
   ],
   "source": [
    "# Eliminar la tabla existente si existe\n",
    "cursor.execute(\"DROP TABLE IF EXISTS Silver_EmpleadosSeattle;\")\n",
    "conn.commit()# asegura que todas las operaciones dentro de la transacción se completen exitosamente \n",
    "#y que los cambios se guarden en la base de datos. Si no llamas a conn.commit(), \n",
    "#los cambios no se reflejarán en la base de datos y se descartarán cuando se cierre la conexión.\n",
    "\n",
    "# Crear la tabla EmpleadosSeattle con las columnas de la consulta\n",
    "create_table_query = \"\"\"\n",
    "CREATE TABLE Silver_EmpleadosSeattle(\n",
    "    BusinessEntityID INT PRIMARY KEY,\n",
    "    FirstName NVARCHAR(50),\n",
    "    LastName NVARCHAR(50),\n",
    "    City NVARCHAR(50)\n",
    ");\n",
    "\"\"\"\n",
    "cursor.execute(create_table_query)\n",
    "conn.commit()\n",
    "\n",
    "# Insertar empleados de Seattle\n",
    "# Usamos el DISTINCT para asegurarnos de que no haya filas duplicadas en el resultado de la consulta que se insertará en la tabla EmpleadosSeattle\n",
    "insert_query = \"\"\"\n",
    "INSERT INTO Silver_EmpleadosSeattle (BusinessEntityID, FirstName, LastName, City)\n",
    "SELECT DISTINCT pp.BusinessEntityID, pp.FirstName, pp.LastName, pa.City #\n",
    "FROM Person.Person pp\n",
    "INNER JOIN Person.BusinessEntityAddress bea ON pp.BusinessEntityID = bea.BusinessEntityID\n",
    "INNER JOIN Person.Address pa ON bea.AddressID = pa.AddressID\n",
    "WHERE pa.City = 'Seattle';\n",
    "\"\"\"\n",
    "cursor.execute(insert_query)\n",
    "conn.commit()\n",
    "\n",
    "# Leer datos en un DataFrame de Pandas\n",
    "query = \"SELECT * FROM Silver_EmpleadosSeattle;\"\n",
    "df = pd.read_sql(query, conn)\n",
    "\n",
    "# Mostrar las primeras filas\n",
    "print(df.head().to_markdown(index=False, numalign=\"left\", stralign=\"left\"))"
   ]
  }
 ],
 "metadata": {
  "kernelspec": {
   "display_name": "Python 3",
   "language": "python",
   "name": "python3"
  },
  "language_info": {
   "codemirror_mode": {
    "name": "ipython",
    "version": 3
   },
   "file_extension": ".py",
   "mimetype": "text/x-python",
   "name": "python",
   "nbconvert_exporter": "python",
   "pygments_lexer": "ipython3",
   "version": "3.12.4"
  }
 },
 "nbformat": 4,
 "nbformat_minor": 2
}
