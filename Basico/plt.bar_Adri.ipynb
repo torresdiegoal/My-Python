{
 "cells": [
  {
   "cell_type": "code",
   "execution_count": 1,
   "metadata": {},
   "outputs": [],
   "source": [
    "import pandas as pd\n",
    "import matplotlib.pyplot as plt\n",
    "import numpy as np"
   ]
  },
  {
   "cell_type": "code",
   "execution_count": 21,
   "metadata": {},
   "outputs": [
    {
     "name": "stdout",
     "output_type": "stream",
     "text": [
      "    Aperture  Peso Retenido (g)  Peso acumulado (g)      mm       Phi  \\\n",
      "0       1000             0.0000              0.0000   1.000  0.000000   \n",
      "1        850             0.0000              0.0000   0.850  0.234465   \n",
      "2        600             0.0352              0.0352   0.600  0.736966   \n",
      "3        500             0.0097              0.0449   0.500  1.000000   \n",
      "4        425             0.0107              0.0556   0.425  1.234465   \n",
      "5        300             0.0415              0.0971   0.300  1.736966   \n",
      "6        250             0.0840              0.1811   0.250  2.000000   \n",
      "7        180             0.6128              0.7939   0.180  2.473931   \n",
      "8        150             1.0540              1.8479   0.150  2.736966   \n",
      "9        125            69.7989             71.6468   0.125  3.000000   \n",
      "10        90            62.1060            133.7528   0.090  3.473931   \n",
      "11        63            15.6323            149.3851   0.063  3.988504   \n",
      "12        45             0.9275            150.3126   0.045  4.473931   \n",
      "13        44             0.2110            150.5236  44.000  5.000000   \n",
      "\n",
      "   Termino descriptivo  \n",
      "0     Arena muy gruesa  \n",
      "1         Arena gruesa  \n",
      "2         Arena gruesa  \n",
      "3         Arena gruesa  \n",
      "4          Arena media  \n",
      "5          Arena media  \n",
      "6          Arena media  \n",
      "7           Arena fina  \n",
      "8           Arena fina  \n",
      "9           Arena fina  \n",
      "10      Arena muy fina  \n",
      "11      Arena muy fina  \n",
      "12                Limo  \n",
      "13                Limo  \n"
     ]
    }
   ],
   "source": [
    "inpath = \"E:/OneDrive/Datasets/barplot_Adri.xlsx\"\n",
    "#inpath = \"C:/Users/Diego Torres/OneDrive/Datasets/barplot_Adri.xlsx\"\n",
    "data=pd.read_excel(inpath)\n",
    "print(data)\n"
   ]
  },
  {
   "cell_type": "code",
   "execution_count": 26,
   "metadata": {},
   "outputs": [
    {
     "name": "stdout",
     "output_type": "stream",
     "text": [
      "Summary:\n",
      "<class 'pandas.core.frame.DataFrame'>\n",
      "RangeIndex: 14 entries, 0 to 13\n",
      "Data columns (total 8 columns):\n",
      " #   Column               Non-Null Count  Dtype  \n",
      "---  ------               --------------  -----  \n",
      " 0   Aperture             14 non-null     int64  \n",
      " 1   Peso Retenido (g)    14 non-null     float64\n",
      " 2   Peso acumulado (g)   14 non-null     float64\n",
      " 3   mm                   14 non-null     float64\n",
      " 4   Phi                  14 non-null     float64\n",
      " 5   Termino descriptivo  14 non-null     object \n",
      " 6   Peso Retenido (%)    14 non-null     float64\n",
      " 7   order                14 non-null     int64  \n",
      "dtypes: float64(5), int64(2), object(1)\n",
      "memory usage: 1.0+ KB\n",
      " \n",
      "Descriptivos:\n",
      "                    count    mean     std    min    25%     50%     75%  \\\n",
      "Aperture             14.0  330.14  307.13  44.00  98.75  215.00  481.25   \n",
      "Peso Retenido (g)    14.0   10.75   23.79   0.00   0.02    0.14    1.02   \n",
      "Peso acumulado (g)   14.0   47.05   67.71   0.00   0.05    0.49  118.23   \n",
      "mm                   14.0    3.47   11.67   0.04   0.13    0.28    0.57   \n",
      "Phi                  14.0    2.29    1.57   0.00   1.06    2.24    3.36   \n",
      "Peso Retenido (%)    14.0    7.14   15.80   0.00   0.01    0.10    0.68   \n",
      "order                14.0    3.57    1.55   1.00   2.25    3.50    4.75   \n",
      "\n",
      "                        max  \n",
      "Aperture            1000.00  \n",
      "Peso Retenido (g)     69.80  \n",
      "Peso acumulado (g)   150.52  \n",
      "mm                    44.00  \n",
      "Phi                    5.00  \n",
      "Peso Retenido (%)     46.37  \n",
      "order                  6.00  \n",
      " \n",
      "Nulos por campo:\n",
      "Aperture               0\n",
      "Peso Retenido (g)      0\n",
      "Peso acumulado (g)     0\n",
      "mm                     0\n",
      "Phi                    0\n",
      "Termino descriptivo    0\n",
      "Peso Retenido (%)      0\n",
      "order                  0\n",
      "dtype: int64\n",
      " \n",
      "Dimensiones:\n",
      "14\n"
     ]
    }
   ],
   "source": [
    "\n",
    "#################\n",
    "# Descriptivos\n",
    "print('Summary:')\n",
    "data.info()\n",
    "print(' ')\n",
    "print('Descriptivos:')\n",
    "print(data.describe().round(2).transpose())\n",
    "print(' ')\n",
    "print('Nulos por campo:')\n",
    "print(data.isnull().sum())  # total de nulls por variable\n",
    "print(' ')\n",
    "print('Dimensiones:')\n",
    "print(data.shape[0])"
   ]
  },
  {
   "cell_type": "code",
   "execution_count": 4,
   "metadata": {},
   "outputs": [
    {
     "data": {
      "text/plain": [
       "' # Tus datos de Aperture\\n#aperture_values = [1000, 850, 600, 500, 425, 300, 250, 180, 150, 125, 90, 63]\\n\\n# Calcular el número total de datos\\n#total_data = len(aperture_values)\\n\\nn_bins = 7\\n\\n# Calcula los límites de los bins\\nbin_edges = np.round(np.histogram_bin_edges(data.Aperture, bins=n_bins),2)\\nprint(bin_edges.dtype)\\nprint(type(bin_edges))\\nprint(bin_edges)\\n\\n# Restarle 0.001 al primer elemento\\nbin_edges[0] -= 0.001\\n\\n# Sumarle 0.001 al último elemento\\nbin_edges[-1] += 0.001\\n\\n\\nprint(bin_edges)\\n\\n#print(type(bin_edges)) '"
      ]
     },
     "execution_count": 4,
     "metadata": {},
     "output_type": "execute_result"
    }
   ],
   "source": [
    "\"\"\" # Tus datos de Aperture\n",
    "#aperture_values = [1000, 850, 600, 500, 425, 300, 250, 180, 150, 125, 90, 63]\n",
    "\n",
    "# Calcular el número total de datos\n",
    "#total_data = len(aperture_values)\n",
    "\n",
    "n_bins = 7\n",
    "\n",
    "# Calcula los límites de los bins\n",
    "bin_edges = np.round(np.histogram_bin_edges(data.Aperture, bins=n_bins),2)\n",
    "print(bin_edges.dtype)\n",
    "print(type(bin_edges))\n",
    "print(bin_edges)\n",
    "\n",
    "# Restarle 0.001 al primer elemento\n",
    "bin_edges[0] -= 0.001\n",
    "\n",
    "# Sumarle 0.001 al último elemento\n",
    "bin_edges[-1] += 0.001\n",
    "\n",
    "\n",
    "print(bin_edges)\n",
    "\n",
    "#print(type(bin_edges)) \"\"\"\n"
   ]
  },
  {
   "cell_type": "code",
   "execution_count": 22,
   "metadata": {},
   "outputs": [
    {
     "name": "stdout",
     "output_type": "stream",
     "text": [
      "    Aperture  Peso Retenido (g)  Peso acumulado (g)      mm       Phi  \\\n",
      "0       1000               0.00              0.0000   1.000  0.000000   \n",
      "1        850               0.00              0.0000   0.850  0.234465   \n",
      "2        600               0.04              0.0352   0.600  0.736966   \n",
      "3        500               0.01              0.0449   0.500  1.000000   \n",
      "4        425               0.01              0.0556   0.425  1.234465   \n",
      "5        300               0.04              0.0971   0.300  1.736966   \n",
      "6        250               0.08              0.1811   0.250  2.000000   \n",
      "7        180               0.61              0.7939   0.180  2.473931   \n",
      "8        150               1.05              1.8479   0.150  2.736966   \n",
      "9        125              69.80             71.6468   0.125  3.000000   \n",
      "10        90              62.11            133.7528   0.090  3.473931   \n",
      "11        63              15.63            149.3851   0.063  3.988504   \n",
      "12        45               0.93            150.3126   0.045  4.473931   \n",
      "13        44               0.21            150.5236  44.000  5.000000   \n",
      "\n",
      "   Termino descriptivo  Peso Retenido (%)  order  \n",
      "0     Arena muy gruesa           0.000000      1  \n",
      "1         Arena gruesa           0.000000      2  \n",
      "2         Arena gruesa           0.023385      2  \n",
      "3         Arena gruesa           0.006444      2  \n",
      "4          Arena media           0.007109      3  \n",
      "5          Arena media           0.027570      3  \n",
      "6          Arena media           0.055805      3  \n",
      "7           Arena fina           0.407112      4  \n",
      "8           Arena fina           0.700222      4  \n",
      "9           Arena fina          46.370735      4  \n",
      "10      Arena muy fina          41.259975      5  \n",
      "11      Arena muy fina          10.385282      5  \n",
      "12                Limo           0.616182      6  \n",
      "13                Limo           0.140177      6  \n",
      " \n"
     ]
    }
   ],
   "source": [
    "\"\"\" \n",
    "# Usar la función cut() para dividir la variable en categorías\n",
    "\n",
    "data['cut_data'] = pd.cut(data.Aperture, bins=bin_edges).astype(str) \"\"\"\n",
    "\n",
    "data['Peso Retenido (%)'] = (data['Peso Retenido (g)']*100)/data['Peso Retenido (g)'].sum()\n",
    "\n",
    "data['Peso Retenido (g)'] = round(data['Peso Retenido (g)'],2)\n",
    "\n",
    "# Definir una función que asigne valores ascendentes a cada categoría\n",
    "def asignar_valores(categoria):\n",
    "    global categoria_actual, valor_asignado\n",
    "    if categoria != categoria_actual:\n",
    "        valor_asignado += 1\n",
    "        categoria_actual = categoria\n",
    "    return valor_asignado\n",
    "\n",
    "# Inicializar variables globales\n",
    "categoria_actual = None\n",
    "valor_asignado = 0\n",
    "\n",
    "# Aplicar la función a la columna \"Categoría\" y crear la nueva columna \"NuevoCampo\"\n",
    "data['order'] = data['Termino descriptivo'].apply(asignar_valores)\n",
    "print(data)\n",
    "print(' ')\n",
    "\n"
   ]
  },
  {
   "cell_type": "code",
   "execution_count": 29,
   "metadata": {},
   "outputs": [
    {
     "name": "stdout",
     "output_type": "stream",
     "text": [
      "  Termino descriptivo  order  Peso Retenido (%)\n",
      "4    Arena muy gruesa      1              0.000\n",
      "1        Arena gruesa      2              0.030\n",
      "2         Arena media      3              0.090\n",
      "0          Arena fina      4             47.478\n",
      "3      Arena muy fina      5             51.645\n",
      "5                Limo      6              0.756\n",
      " \n"
     ]
    }
   ],
   "source": [
    "aggregated_data = data.groupby(['Termino descriptivo', 'order'])['Peso Retenido (%)'].sum().reset_index().sort_values('order',ascending=True)\n",
    "aggregated_data['Peso Retenido (%)'] = round(aggregated_data['Peso Retenido (%)'],3)\n",
    "#################\n",
    "# Descriptivos\n",
    "print(aggregated_data)\n",
    "print(' ')"
   ]
  },
  {
   "cell_type": "code",
   "execution_count": 38,
   "metadata": {},
   "outputs": [
    {
     "data": {
      "image/png": "[encoded data removed]",
      "text/plain": [
       "<Figure size 640x480 with 1 Axes>"
      ]
     },
     "metadata": {},
     "output_type": "display_data"
    }
   ],
   "source": [
    "plt.bar(aggregated_data['Termino descriptivo'],aggregated_data['Peso Retenido (%)'], width=1, ec='white', color='#98c0b3')\n",
    "# Personalizar el gráfico\n",
    "plt.title('Histograma de Aperture (Escala Personalizada)')\n",
    "plt.xlabel('Diámetro de partícula ' r'$(\\phi)$')\n",
    "\n",
    "# Valores personalizados en el eje x\n",
    "#custom_xticks = [min(data['Aperture']), '', '', np.median(bin_edges), '','',max(data['Aperture'])]\n",
    "#plt.xticks(aggregated_data['cut_data'], custom_xticks, rotation=0)\n",
    "plt.xticks(rotation=30)\n",
    "#plt.ylim(0,1200)\n",
    "plt.yscale('log')  # Escala logarítmica en el eje Y\n",
    "plt.ylabel('log Peso de clase (%)')\n",
    "plt.title('Distribución del tamaño de grano')\n",
    "\n",
    "# Mostrar el valor de cada barra encima de las barras\n",
    "for i, v in enumerate(aggregated_data['Peso Retenido (%)']):\n",
    "\n",
    "    plt.text(i, round(v + 0.02,2), str(v), ha='center', va='bottom',fontsize=7.5)\n",
    "\n",
    "\"\"\" # Crear un tercer eje arriba\n",
    "ax2 = plt.twiny()\n",
    "# Valores personalizados para el tercer eje\n",
    "custom_top_axis_values = [1.1, 2.2, 3.3, 4.4, 5.5]\n",
    "# Ubicación del tercer eje\n",
    "ax2.set_xlim(ax2.get_xlim())\n",
    "ax2.set_xticks(aggregated_data['Phi'])\n",
    "ax2.set_xticklabels(custom_top_axis_values, fontsize=10)\n",
    "ax2.set_xlabel('Valores del tercer campo') \"\"\"\n",
    "\n",
    "# Ajustar el espacio entre subgráficos\n",
    "#plt.subplots_adjust(top=0.85)\n",
    "\n",
    "# Guardar como un archivo PNG, JPG, PDF\n",
    "plt.savefig('histograma_Gmas.png', dpi=300, bbox_inches='tight') #El argumento dpi controla la resolución en el caso de los formatos PNG y JPG. \n",
    "                                        #bbox_inches='tight' se utiliza para asegurarse de que los márgenes de la figura estén ajustados correctamente en la imagen guardada.\n",
    "\n",
    "# Mostrar el histograma\n",
    "plt.show()"
   ]
  },
  {
   "cell_type": "code",
   "execution_count": null,
   "metadata": {},
   "outputs": [],
   "source": []
  }
 ],
 "metadata": {
  "kernelspec": {
   "display_name": "Python 3",
   "language": "python",
   "name": "python3"
  },
  "language_info": {
   "codemirror_mode": {
    "name": "ipython",
    "version": 3
   },
   "file_extension": ".py",
   "mimetype": "text/x-python",
   "name": "python",
   "nbconvert_exporter": "python",
   "pygments_lexer": "ipython3",
   "version": "3.11.5"
  },
  "orig_nbformat": 4
 },
 "nbformat": 4,
 "nbformat_minor": 2
}
