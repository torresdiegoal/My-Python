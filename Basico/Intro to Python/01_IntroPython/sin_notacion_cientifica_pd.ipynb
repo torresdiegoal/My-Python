{
 "cells": [
  {
   "cell_type": "code",
   "execution_count": 13,
   "metadata": {},
   "outputs": [
    {
     "name": "stdout",
     "output_type": "stream",
     "text": [
      "              Cliente  Eventos  Recaudo  Boletas    ATP\n",
      "457703 10228415786471        1   360000        2 180000\n",
      "249747 10229309773951        1  1020000        4 255000\n",
      "695914 10229231217876        1  1100000        4 275000\n",
      "563730 10229347839927        1   180000        3  60000\n",
      "534768   101358749526        1   630000        2 315000\n",
      " \n"
     ]
    }
   ],
   "source": [
    "import pandas as pd\n",
    "\n",
    "\n",
    "# Configurar Pandas para mostrar números en formato de punto flotante\n",
    "pd.options.display.float_format = '{:.0f}'.format\n",
    "\n",
    "inpath = 'E:/OneDrive/Datasets/Tuboleta/'\n",
    "\n",
    "base = pd.read_csv(inpath + 'Clientes_2023.csv', delimiter=';', decimal=\",\")\n",
    "\n",
    "print(base.sample(5))\n",
    "print(' ')"
   ]
  }
 ],
 "metadata": {
  "kernelspec": {
   "display_name": "Python 3",
   "language": "python",
   "name": "python3"
  },
  "language_info": {
   "codemirror_mode": {
    "name": "ipython",
    "version": 3
   },
   "file_extension": ".py",
   "mimetype": "text/x-python",
   "name": "python",
   "nbconvert_exporter": "python",
   "pygments_lexer": "ipython3",
   "version": "3.11.5"
  }
 },
 "nbformat": 4,
 "nbformat_minor": 2
}
