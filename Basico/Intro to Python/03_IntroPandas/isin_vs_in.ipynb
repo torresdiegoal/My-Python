{
 "cells": [
  {
   "cell_type": "code",
   "execution_count": 1,
   "metadata": {},
   "outputs": [
    {
     "name": "stdout",
     "output_type": "stream",
     "text": [
      "0    False\n",
      "1     True\n",
      "2    False\n",
      "3     True\n",
      "4    False\n",
      "dtype: bool\n"
     ]
    }
   ],
   "source": [
    "# .isin() Example:\n",
    "# This will output a boolean Series indicating True or False for each element in the original Series, \n",
    "# based on whether the element is present in the check_values list.\n",
    "\n",
    "import pandas as pd\n",
    "\n",
    "# Creating a Pandas Series\n",
    "data = pd.Series([1, 2, 3, 4, 5])\n",
    "check_values = [2, 4, 6]\n",
    "\n",
    "# Check if values in the Series are in the list using .isin()\n",
    "result = data.isin(check_values)\n",
    "\n",
    "print(result)"
   ]
  },
  {
   "cell_type": "code",
   "execution_count": null,
   "metadata": {},
   "outputs": [],
   "source": [
    "#in Example:\n",
    "#Using the in operator to check if an element is present in a list:\n",
    "\n",
    "# Creating a list\n",
    "my_list = [1, 2, 3, 4, 5]\n",
    "check_value = 3\n",
    "\n",
    "# Check if value is in the list using `in` operator\n",
    "if check_value in my_list:\n",
    "    print(f\"{check_value} is present in the list.\")\n",
    "else:\n",
    "    print(f\"{check_value} is not present in the list.\")"
   ]
  }
 ],
 "metadata": {
  "kernelspec": {
   "display_name": "Python 3",
   "language": "python",
   "name": "python3"
  },
  "language_info": {
   "codemirror_mode": {
    "name": "ipython",
    "version": 3
   },
   "file_extension": ".py",
   "mimetype": "text/x-python",
   "name": "python",
   "nbconvert_exporter": "python",
   "pygments_lexer": "ipython3",
   "version": "3.11.5"
  }
 },
 "nbformat": 4,
 "nbformat_minor": 2
}
