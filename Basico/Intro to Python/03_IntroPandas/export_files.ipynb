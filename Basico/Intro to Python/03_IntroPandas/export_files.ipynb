{
 "cells": [
  {
   "cell_type": "code",
   "execution_count": 2,
   "metadata": {},
   "outputs": [],
   "source": [
    "import numpy as np\n",
    "import pandas as pd"
   ]
  },
  {
   "cell_type": "code",
   "execution_count": 5,
   "metadata": {},
   "outputs": [],
   "source": [
    "#inpath = \"C:/Users/diego.torres/OneDrive/Datasets/Tuboleta/\"\n",
    "inpath = \"E:/OneDrive/Datasets/Tuboleta/\"\n",
    "\n",
    "## venues\n",
    "venues = pd.read_csv(inpath + 'Maestra_venues.csv', sep = ';')"
   ]
  },
  {
   "cell_type": "code",
   "execution_count": 2,
   "metadata": {},
   "outputs": [],
   "source": [
    "# Genera dos muestras de datos de ejemplo (puedes reemplazarlas con tus propios datos)\n",
    "data1 = np.random.normal(0, 1, 1000)  # Muestra 1 (distribución normal)\n",
    "data2 = np.random.normal(0.5, 1, 1000)  # Muestra 2 (distribución normal con una media ligeramente desplazada)\n",
    "\n",
    "# Ordena los datos de ambas muestras\n",
    "data1 = np.sort(data1)\n",
    "data2 = np.sort(data2)\n",
    "\n",
    "# Calcula la diferencia acumulativa entre las dos muestras\n",
    "cdf1 = np.arange(1, len(data1) + 1) / len(data1)\n",
    "cdf2 = np.arange(1, len(data2) + 1) / len(data2)\n",
    "\n",
    "# Crea un DataFrame a partir de los arrays, para esto es necesario indicar mediante un diccionario\n",
    "# las etiquetas de los nombres de los campos\n",
    "df = pd.DataFrame({\n",
    "    'Muestra1': data1,\n",
    "    'Muestra2': data2,\n",
    "    'CDF1': cdf1,\n",
    "    'CDF2': cdf2\n",
    "})\n",
    "\n"
   ]
  },
  {
   "cell_type": "code",
   "execution_count": 3,
   "metadata": {},
   "outputs": [],
   "source": [
    "# Puedes exportarlo a un archivo CSV de la siguiente manera:\n",
    "df.to_csv('archivo.csv', index=False, # El argumento 'index=False' evita que se incluyan los índices en el archivo CSV\n",
    "          sep = '|',\n",
    "          decimal = '.')  \n"
   ]
  },
  {
   "cell_type": "code",
   "execution_count": 6,
   "metadata": {},
   "outputs": [],
   "source": [
    "# Puedes exportarlo a un archivo Excel de la siguiente manera:\n",
    "venues.to_excel(inpath + 'Maestra_venues.xlsx', index=False)  # El argumento 'index=False' evita que se incluyan los índices en el archivo Excel"
   ]
  }
 ],
 "metadata": {
  "kernelspec": {
   "display_name": "Python 3",
   "language": "python",
   "name": "python3"
  },
  "language_info": {
   "codemirror_mode": {
    "name": "ipython",
    "version": 3
   },
   "file_extension": ".py",
   "mimetype": "text/x-python",
   "name": "python",
   "nbconvert_exporter": "python",
   "pygments_lexer": "ipython3",
   "version": "3.11.5"
  }
 },
 "nbformat": 4,
 "nbformat_minor": 2
}
