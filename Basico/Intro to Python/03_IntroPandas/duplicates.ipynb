{
 "cells": [
  {
   "cell_type": "code",
   "execution_count": 9,
   "metadata": {},
   "outputs": [
    {
     "name": "stdout",
     "output_type": "stream",
     "text": [
      "(412, 2)\n"
     ]
    }
   ],
   "source": [
    "import numpy as np\n",
    "import pandas as pd\n",
    "\n",
    "inpath = \"C:/Users/diego.torres/OneDrive/Datasets/Tuboleta/\"\n",
    "#inpath = \"E:/OneDrive/Datasets/Tuboleta/\"\n",
    "\n",
    "## venues\n",
    "venues = pd.read_csv(inpath + 'Maestra_venues.csv', sep = ';')\n",
    "print(venues.shape)"
   ]
  },
  {
   "cell_type": "code",
   "execution_count": 10,
   "metadata": {},
   "outputs": [
    {
     "name": "stdout",
     "output_type": "stream",
     "text": [
      "(412, 1)\n"
     ]
    }
   ],
   "source": [
    "temp = venues[['Venue']].drop_duplicates()\n",
    "#print(temp)\n",
    "print(temp.shape)"
   ]
  },
  {
   "cell_type": "code",
   "execution_count": 4,
   "metadata": {},
   "outputs": [
    {
     "name": "stdout",
     "output_type": "stream",
     "text": [
      "Empty DataFrame\n",
      "Columns: [Venue, Venue_N]\n",
      "Index: []\n"
     ]
    }
   ],
   "source": [
    "# # Verificar duplicados en la columna 'llave_identificadora'\n",
    "duplicados = venues[venues.duplicated(subset=['Venue'], keep=False)]\n",
    "print(duplicados.head(20))"
   ]
  }
 ],
 "metadata": {
  "kernelspec": {
   "display_name": "Python 3",
   "language": "python",
   "name": "python3"
  },
  "language_info": {
   "codemirror_mode": {
    "name": "ipython",
    "version": 3
   },
   "file_extension": ".py",
   "mimetype": "text/x-python",
   "name": "python",
   "nbconvert_exporter": "python",
   "pygments_lexer": "ipython3",
   "version": "3.12.0"
  }
 },
 "nbformat": 4,
 "nbformat_minor": 2
}
