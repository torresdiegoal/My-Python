{
 "cells": [
  {
   "cell_type": "code",
   "execution_count": 2,
   "metadata": {},
   "outputs": [],
   "source": [
    "import pandas as pd\n",
    "from unidecode import unidecode\n",
    "import re"
   ]
  },
  {
   "cell_type": "code",
   "execution_count": 14,
   "metadata": {},
   "outputs": [],
   "source": [
    "def limpiar_texto(texto):\n",
    "    # Eliminar valores numéricos utilizando expresiones regulares\n",
    "    texto_mayuscula = str.upper(texto)   # str. se utiliza en para tratar pd.Series\n",
    "\n",
    "    # Remover tildes y caracteres especiales de entonacion\n",
    "    texto_sin_tildes = unidecode(texto_mayuscula)\n",
    "\n",
    "    # Quitar caracteres no alfabéticos y no espacios en blanco\n",
    "    texto_limpio = re.sub(r'[^a-zA-Z\\sÅ]', '', texto_sin_tildes)\n",
    "\n",
    "    # Aplicar trim para eliminar espacios en blanco al principio y al final\n",
    "    texto_limpio = texto_limpio.strip()\n",
    "    \n",
    "    return texto_limpio"
   ]
  },
  {
   "cell_type": "code",
   "execution_count": 35,
   "metadata": {},
   "outputs": [
    {
     "name": "stdout",
     "output_type": "stream",
     "text": [
      "                REGION  CÓDIGO DANE DEL DEPARTAMENTO DEPARTAMENTO  \\\n",
      "854  Región Centro Sur                            91     Amazonas   \n",
      "855  Región Centro Sur                            91     Amazonas   \n",
      "856  Región Centro Sur                            91     Amazonas   \n",
      "857  Región Centro Sur                            91     Amazonas   \n",
      "858  Región Centro Sur                            91     Amazonas   \n",
      "\n",
      "     CÓDIGO DANE DEL MUNICIPIO    MUNICIPIO  \n",
      "854                     91.001      Leticia  \n",
      "855                     91.263   El Encanto  \n",
      "856                     91.405  La Chorrera  \n",
      "857                     91.407   La Pedrera  \n",
      "858                     91.430  La Victoria  \n",
      " \n",
      "Dimensiones:\n",
      "(1123, 5)\n",
      "  Departamento       Capital Superficie (km²)            Municipios\n",
      "0     Amazonas       Leticia          109 665                     2\n",
      "1    Antioquia      Medellín           63 612                   125\n",
      "2       Arauca        Arauca           23 818                     7\n",
      "3    Atlántico  Barranquilla            3 019                    23\n",
      "4       Bogotá        Bogotá            1 775  - (distrito capital)\n",
      " \n",
      "Dimensiones:\n",
      "(33, 4)\n"
     ]
    }
   ],
   "source": [
    "# Importamos ambas bases a usar: Municipios y Capitales\n",
    "\n",
    "inpath = \"E:/OneDrive/Datasets/Tuboleta/\"\n",
    "#inpath = \"C:/Users/diego.torres/OneDrive/Datasets/Tuboleta/\"\n",
    "\n",
    "\n",
    "## MUNICIPIOS\n",
    "towns = pd.read_csv(inpath + 'maestra_municipios_dirty.csv').\\\n",
    "    sort_values('DEPARTAMENTO', ascending = True)\n",
    "\n",
    "#################\n",
    "# Descriptivos\n",
    "print(towns.head(5))\n",
    "print(' ')\n",
    "print('Dimensiones:')\n",
    "print(towns.shape)\n",
    "\n",
    "\n",
    "## CAPITALES\n",
    "capital = pd.read_excel(inpath + 'capitales_departamentos.xlsx').\\\n",
    "    sort_values('Departamento', ascending = True)\n",
    "\n",
    "#################\n",
    "# Descriptivos\n",
    "print(capital.head(5))\n",
    "print(' ')\n",
    "print('Dimensiones:')\n",
    "print(capital.shape)"
   ]
  },
  {
   "cell_type": "code",
   "execution_count": 36,
   "metadata": {},
   "outputs": [
    {
     "name": "stdout",
     "output_type": "stream",
     "text": [
      "              REGION  CÓDIGO DANE DEL DEPARTAMENTO DEPARTAMENTO  \\\n",
      "0  Región Centro Sur                            91     Amazonas   \n",
      "1  Región Centro Sur                            91     Amazonas   \n",
      "2  Región Centro Sur                            91     Amazonas   \n",
      "3  Región Centro Sur                            91     Amazonas   \n",
      "4  Región Centro Sur                            91     Amazonas   \n",
      "\n",
      "   CÓDIGO DANE DEL MUNICIPIO    MUNICIPIO Departamento  Capital  \\\n",
      "0                     91.001      Leticia     Amazonas  Leticia   \n",
      "1                     91.263   El Encanto     Amazonas  Leticia   \n",
      "2                     91.405  La Chorrera     Amazonas  Leticia   \n",
      "3                     91.407   La Pedrera     Amazonas  Leticia   \n",
      "4                     91.430  La Victoria     Amazonas  Leticia   \n",
      "\n",
      "  Superficie (km²) Municipios  \n",
      "0          109 665          2  \n",
      "1          109 665          2  \n",
      "2          109 665          2  \n",
      "3          109 665          2  \n",
      "4          109 665          2  \n",
      " \n",
      "Dimensiones:\n",
      "(1123, 9)\n"
     ]
    }
   ],
   "source": [
    "# left join\n",
    "dim_municipios_ = pd.merge(towns, capital,\\\n",
    "                          left_on='DEPARTAMENTO', right_on='Departamento',\\\n",
    "                          how='left')\n",
    "\n",
    "#################\n",
    "# Descriptivos\n",
    "print(dim_municipios_.head(5))\n",
    "print(' ')\n",
    "print('Dimensiones:')\n",
    "print(dim_municipios_.shape)\n",
    "\n",
    "dim_municipios_.to_csv(inpath +'dim_municipios_.csv', \n",
    "               index=False, # El argumento 'index=False' evita que se incluyan los índices en el archivo CSV\n",
    "               sep = '|',\n",
    "               decimal = '.') \n",
    " "
   ]
  },
  {
   "cell_type": "code",
   "execution_count": 38,
   "metadata": {},
   "outputs": [
    {
     "name": "stdout",
     "output_type": "stream",
     "text": [
      "              REGION DEPARTAMENTO    MUNICIPIO  CAPITAL\n",
      "0  Región Centro Sur     AMAZONAS      LETICIA  LETICIA\n",
      "1  Región Centro Sur     AMAZONAS   EL ENCANTO  LETICIA\n",
      "2  Región Centro Sur     AMAZONAS  LA CHORRERA  LETICIA\n",
      "3  Región Centro Sur     AMAZONAS   LA PEDRERA  LETICIA\n",
      "4  Región Centro Sur     AMAZONAS  LA VICTORIA  LETICIA\n",
      " \n",
      "Dimensiones:\n",
      "(1123, 4)\n"
     ]
    }
   ],
   "source": [
    "\n",
    "dim_municipios = (dim_municipios_[['REGION','DEPARTAMENTO','MUNICIPIO','Capital']].\\\n",
    "         assign(DEPARTAMENTO = lambda x: x['DEPARTAMENTO'].apply(limpiar_texto),\\\n",
    "                MUNICIPIO = lambda x: x['MUNICIPIO'].apply(limpiar_texto),\n",
    "                Capital = lambda x: x['Capital'].apply(limpiar_texto)\n",
    "                )).\\\n",
    "         rename(columns = {'Capital': 'CAPITAL'})\n",
    "\n",
    "#################\n",
    "# Descriptivos\n",
    "print(dim_municipios.head(5))\n",
    "print(' ')\n",
    "print('Dimensiones:')\n",
    "print(dim_municipios.shape)\n",
    "\n",
    "dim_municipios.to_csv(inpath +'dim_municipios.csv', \n",
    "               index=False, # El argumento 'index=False' evita que se incluyan los índices en el archivo CSV\n",
    "               sep = '|',\n",
    "               decimal = '.') \n"
   ]
  }
 ],
 "metadata": {
  "kernelspec": {
   "display_name": "Python 3",
   "language": "python",
   "name": "python3"
  },
  "language_info": {
   "codemirror_mode": {
    "name": "ipython",
    "version": 3
   },
   "file_extension": ".py",
   "mimetype": "text/x-python",
   "name": "python",
   "nbconvert_exporter": "python",
   "pygments_lexer": "ipython3",
   "version": "3.11.5"
  }
 },
 "nbformat": 4,
 "nbformat_minor": 2
}
