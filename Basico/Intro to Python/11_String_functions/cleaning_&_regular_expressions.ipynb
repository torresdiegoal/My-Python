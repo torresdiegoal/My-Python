{
 "cells": [
  {
   "cell_type": "code",
   "execution_count": 11,
   "metadata": {},
   "outputs": [],
   "source": [
    "import pandas as pd\n",
    "import numpy as np\n",
    "from unidecode import unidecode\n",
    "import re"
   ]
  },
  {
   "cell_type": "code",
   "execution_count": 34,
   "metadata": {},
   "outputs": [],
   "source": [
    "def limpiar_texto(texto):\n",
    "    # Eliminar valores numéricos utilizando expresiones regulares\n",
    "    #texto_sin_numeros = re.sub(r'\\d+', '', str(texto))\n",
    "\n",
    "    # Remover tildes y caracteres especiales de entonacion\n",
    "    #texto_sin_tildes = unidecode(texto_sin_numeros)\n",
    "    texto_sin_tildes = unidecode(texto)\n",
    "\n",
    "    # Quitar caracteres no alfabéticos y no espacios en blanco\n",
    "    texto_limpio = re.sub(r'[^a-zA-Z\\s]', '', texto_sin_tildes)\n",
    "\n",
    "    # Aplicar trim para eliminar espacios en blanco al principio y al final\n",
    "    texto_limpio = texto_limpio.strip()\n",
    "    \n",
    "    return texto_limpio"
   ]
  },
  {
   "cell_type": "code",
   "execution_count": 3,
   "metadata": {},
   "outputs": [
    {
     "name": "stdout",
     "output_type": "stream",
     "text": [
      "     MAIN_ADDR_TOWN  count\n",
      "5            CAJICA      1\n",
      "6            BOGOTA      1\n",
      "7          GIRARDOT      1\n",
      "8            BOGOTA      1\n",
      "9            BOGOTA      4\n",
      " \n",
      "Dimensiones:\n",
      "(33185, 2)\n"
     ]
    }
   ],
   "source": [
    "inpath = \"E:/OneDrive/Datasets/Tuboleta/\"\n",
    "#inpath = \"C:/Users/diego.torres/OneDrive/Datasets/Tuboleta/\"\n",
    "\n",
    "cities = pd.read_excel(inpath + 'dirty_cities.xlsx').\\\n",
    "    sort_values('MAIN_ADDR_TOWN', ascending = True)\n",
    "\n",
    "#cities = cities['MAIN_ADDR_TOWN']\n",
    "\n",
    "#################\n",
    "# Descriptivos\n",
    "print(cities.head(5))\n",
    "print(' ')\n",
    "print('Dimensiones:')\n",
    "print(cities.shape)"
   ]
  },
  {
   "cell_type": "code",
   "execution_count": 35,
   "metadata": {},
   "outputs": [
    {
     "ename": "AttributeError",
     "evalue": "'float' object has no attribute 'encode'",
     "output_type": "error",
     "traceback": [
      "\u001b[1;31m---------------------------------------------------------------------------\u001b[0m",
      "\u001b[1;31mAttributeError\u001b[0m                            Traceback (most recent call last)",
      "\u001b[1;32me:\\OneDrive\\Python\\My-Python\\Basico\\Intro to Python\\11_String_functions\\cleaning_&_regular_expressions.ipynb Cell 4\u001b[0m line \u001b[0;36m3\n\u001b[0;32m      <a href='vscode-notebook-cell:/e%3A/OneDrive/Python/My-Python/Basico/Intro%20to%20Python/11_String_functions/cleaning_%26_regular_expressions.ipynb#W3sZmlsZQ%3D%3D?line=0'>1</a>\u001b[0m total \u001b[39m=\u001b[39m \u001b[39msum\u001b[39m(cities[\u001b[39m'\u001b[39m\u001b[39mcount\u001b[39m\u001b[39m'\u001b[39m])\n\u001b[0;32m      <a href='vscode-notebook-cell:/e%3A/OneDrive/Python/My-Python/Basico/Intro%20to%20Python/11_String_functions/cleaning_%26_regular_expressions.ipynb#W3sZmlsZQ%3D%3D?line=1'>2</a>\u001b[0m dim_municipios \u001b[39m=\u001b[39m cities\u001b[39m.\u001b[39;49msort_values(by\u001b[39m=\u001b[39;49m\u001b[39m'\u001b[39;49m\u001b[39mcount\u001b[39;49m\u001b[39m'\u001b[39;49m, ascending\u001b[39m=\u001b[39;49m\u001b[39mFalse\u001b[39;49;00m)\u001b[39m.\u001b[39;49m\\\n\u001b[1;32m----> <a href='vscode-notebook-cell:/e%3A/OneDrive/Python/My-Python/Basico/Intro%20to%20Python/11_String_functions/cleaning_%26_regular_expressions.ipynb#W3sZmlsZQ%3D%3D?line=2'>3</a>\u001b[0m        assign(DEPARTAMENTO \u001b[39m=\u001b[39;49m \u001b[39mlambda\u001b[39;49;00m x: x[\u001b[39m'\u001b[39;49m\u001b[39mMAIN_ADDR_TOWN\u001b[39;49m\u001b[39m'\u001b[39;49m]\u001b[39m.\u001b[39;49mapply(limpiar_texto),\n\u001b[0;32m      <a href='vscode-notebook-cell:/e%3A/OneDrive/Python/My-Python/Basico/Intro%20to%20Python/11_String_functions/cleaning_%26_regular_expressions.ipynb#W3sZmlsZQ%3D%3D?line=3'>4</a>\u001b[0m               PARTICIPACION \u001b[39m=\u001b[39;49m \u001b[39mlambda\u001b[39;49;00m x: x[\u001b[39m'\u001b[39;49m\u001b[39mcount\u001b[39;49m\u001b[39m'\u001b[39;49m]\u001b[39m/\u001b[39;49mtotal,\n\u001b[0;32m      <a href='vscode-notebook-cell:/e%3A/OneDrive/Python/My-Python/Basico/Intro%20to%20Python/11_String_functions/cleaning_%26_regular_expressions.ipynb#W3sZmlsZQ%3D%3D?line=4'>5</a>\u001b[0m               TOTAL \u001b[39m=\u001b[39;49m \u001b[39mlambda\u001b[39;49;00m x: np\u001b[39m.\u001b[39;49mcumsum(x[\u001b[39m'\u001b[39;49m\u001b[39mPARTICIPACION\u001b[39;49m\u001b[39m'\u001b[39;49m]))\u001b[39m.\u001b[39m\\\n\u001b[0;32m      <a href='vscode-notebook-cell:/e%3A/OneDrive/Python/My-Python/Basico/Intro%20to%20Python/11_String_functions/cleaning_%26_regular_expressions.ipynb#W3sZmlsZQ%3D%3D?line=5'>6</a>\u001b[0m        rename(columns \u001b[39m=\u001b[39m {\u001b[39m'\u001b[39m\u001b[39mcount\u001b[39m\u001b[39m'\u001b[39m: \u001b[39m'\u001b[39m\u001b[39mCOUNT\u001b[39m\u001b[39m'\u001b[39m})\n\u001b[0;32m      <a href='vscode-notebook-cell:/e%3A/OneDrive/Python/My-Python/Basico/Intro%20to%20Python/11_String_functions/cleaning_%26_regular_expressions.ipynb#W3sZmlsZQ%3D%3D?line=6'>7</a>\u001b[0m        \u001b[39m#groupby('DEPARTAMENTO').agg({'COUNT': 'sum','PORCENTAJE': 'sum'}).reset_index().\\\u001b[39;00m\n\u001b[0;32m      <a href='vscode-notebook-cell:/e%3A/OneDrive/Python/My-Python/Basico/Intro%20to%20Python/11_String_functions/cleaning_%26_regular_expressions.ipynb#W3sZmlsZQ%3D%3D?line=7'>8</a>\u001b[0m \n\u001b[0;32m      <a href='vscode-notebook-cell:/e%3A/OneDrive/Python/My-Python/Basico/Intro%20to%20Python/11_String_functions/cleaning_%26_regular_expressions.ipynb#W3sZmlsZQ%3D%3D?line=8'>9</a>\u001b[0m \n\u001b[0;32m     <a href='vscode-notebook-cell:/e%3A/OneDrive/Python/My-Python/Basico/Intro%20to%20Python/11_String_functions/cleaning_%26_regular_expressions.ipynb#W3sZmlsZQ%3D%3D?line=9'>10</a>\u001b[0m \u001b[39m#################\u001b[39;00m\n\u001b[0;32m     <a href='vscode-notebook-cell:/e%3A/OneDrive/Python/My-Python/Basico/Intro%20to%20Python/11_String_functions/cleaning_%26_regular_expressions.ipynb#W3sZmlsZQ%3D%3D?line=10'>11</a>\u001b[0m \u001b[39m# Descriptivos\u001b[39;00m\n\u001b[0;32m     <a href='vscode-notebook-cell:/e%3A/OneDrive/Python/My-Python/Basico/Intro%20to%20Python/11_String_functions/cleaning_%26_regular_expressions.ipynb#W3sZmlsZQ%3D%3D?line=11'>12</a>\u001b[0m \u001b[39mprint\u001b[39m(dim_municipios\u001b[39m.\u001b[39mhead(\u001b[39m5\u001b[39m))\n",
      "File \u001b[1;32mc:\\Users\\Diego\\AppData\\Local\\Programs\\Python\\Python311\\Lib\\site-packages\\pandas\\core\\frame.py:5015\u001b[0m, in \u001b[0;36mDataFrame.assign\u001b[1;34m(self, **kwargs)\u001b[0m\n\u001b[0;32m   5012\u001b[0m data \u001b[39m=\u001b[39m \u001b[39mself\u001b[39m\u001b[39m.\u001b[39mcopy(deep\u001b[39m=\u001b[39m\u001b[39mNone\u001b[39;00m)\n\u001b[0;32m   5014\u001b[0m \u001b[39mfor\u001b[39;00m k, v \u001b[39min\u001b[39;00m kwargs\u001b[39m.\u001b[39mitems():\n\u001b[1;32m-> 5015\u001b[0m     data[k] \u001b[39m=\u001b[39m com\u001b[39m.\u001b[39;49mapply_if_callable(v, data)\n\u001b[0;32m   5016\u001b[0m \u001b[39mreturn\u001b[39;00m data\n",
      "File \u001b[1;32mc:\\Users\\Diego\\AppData\\Local\\Programs\\Python\\Python311\\Lib\\site-packages\\pandas\\core\\common.py:379\u001b[0m, in \u001b[0;36mapply_if_callable\u001b[1;34m(maybe_callable, obj, **kwargs)\u001b[0m\n\u001b[0;32m    368\u001b[0m \u001b[39m\u001b[39m\u001b[39m\"\"\"\u001b[39;00m\n\u001b[0;32m    369\u001b[0m \u001b[39mEvaluate possibly callable input using obj and kwargs if it is callable,\u001b[39;00m\n\u001b[0;32m    370\u001b[0m \u001b[39motherwise return as it is.\u001b[39;00m\n\u001b[1;32m   (...)\u001b[0m\n\u001b[0;32m    376\u001b[0m \u001b[39m**kwargs\u001b[39;00m\n\u001b[0;32m    377\u001b[0m \u001b[39m\"\"\"\u001b[39;00m\n\u001b[0;32m    378\u001b[0m \u001b[39mif\u001b[39;00m \u001b[39mcallable\u001b[39m(maybe_callable):\n\u001b[1;32m--> 379\u001b[0m     \u001b[39mreturn\u001b[39;00m maybe_callable(obj, \u001b[39m*\u001b[39;49m\u001b[39m*\u001b[39;49mkwargs)\n\u001b[0;32m    381\u001b[0m \u001b[39mreturn\u001b[39;00m maybe_callable\n",
      "\u001b[1;32me:\\OneDrive\\Python\\My-Python\\Basico\\Intro to Python\\11_String_functions\\cleaning_&_regular_expressions.ipynb Cell 4\u001b[0m line \u001b[0;36m3\n\u001b[0;32m      <a href='vscode-notebook-cell:/e%3A/OneDrive/Python/My-Python/Basico/Intro%20to%20Python/11_String_functions/cleaning_%26_regular_expressions.ipynb#W3sZmlsZQ%3D%3D?line=0'>1</a>\u001b[0m total \u001b[39m=\u001b[39m \u001b[39msum\u001b[39m(cities[\u001b[39m'\u001b[39m\u001b[39mcount\u001b[39m\u001b[39m'\u001b[39m])\n\u001b[0;32m      <a href='vscode-notebook-cell:/e%3A/OneDrive/Python/My-Python/Basico/Intro%20to%20Python/11_String_functions/cleaning_%26_regular_expressions.ipynb#W3sZmlsZQ%3D%3D?line=1'>2</a>\u001b[0m dim_municipios \u001b[39m=\u001b[39m cities\u001b[39m.\u001b[39msort_values(by\u001b[39m=\u001b[39m\u001b[39m'\u001b[39m\u001b[39mcount\u001b[39m\u001b[39m'\u001b[39m, ascending\u001b[39m=\u001b[39m\u001b[39mFalse\u001b[39;00m)\u001b[39m.\u001b[39m\\\n\u001b[1;32m----> <a href='vscode-notebook-cell:/e%3A/OneDrive/Python/My-Python/Basico/Intro%20to%20Python/11_String_functions/cleaning_%26_regular_expressions.ipynb#W3sZmlsZQ%3D%3D?line=2'>3</a>\u001b[0m        assign(DEPARTAMENTO \u001b[39m=\u001b[39m \u001b[39mlambda\u001b[39;00m x: x[\u001b[39m'\u001b[39;49m\u001b[39mMAIN_ADDR_TOWN\u001b[39;49m\u001b[39m'\u001b[39;49m]\u001b[39m.\u001b[39;49mapply(limpiar_texto),\n\u001b[0;32m      <a href='vscode-notebook-cell:/e%3A/OneDrive/Python/My-Python/Basico/Intro%20to%20Python/11_String_functions/cleaning_%26_regular_expressions.ipynb#W3sZmlsZQ%3D%3D?line=3'>4</a>\u001b[0m               PARTICIPACION \u001b[39m=\u001b[39m \u001b[39mlambda\u001b[39;00m x: x[\u001b[39m'\u001b[39m\u001b[39mcount\u001b[39m\u001b[39m'\u001b[39m]\u001b[39m/\u001b[39mtotal,\n\u001b[0;32m      <a href='vscode-notebook-cell:/e%3A/OneDrive/Python/My-Python/Basico/Intro%20to%20Python/11_String_functions/cleaning_%26_regular_expressions.ipynb#W3sZmlsZQ%3D%3D?line=4'>5</a>\u001b[0m               TOTAL \u001b[39m=\u001b[39m \u001b[39mlambda\u001b[39;00m x: np\u001b[39m.\u001b[39mcumsum(x[\u001b[39m'\u001b[39m\u001b[39mPARTICIPACION\u001b[39m\u001b[39m'\u001b[39m]))\u001b[39m.\u001b[39m\\\n\u001b[0;32m      <a href='vscode-notebook-cell:/e%3A/OneDrive/Python/My-Python/Basico/Intro%20to%20Python/11_String_functions/cleaning_%26_regular_expressions.ipynb#W3sZmlsZQ%3D%3D?line=5'>6</a>\u001b[0m        rename(columns \u001b[39m=\u001b[39m {\u001b[39m'\u001b[39m\u001b[39mcount\u001b[39m\u001b[39m'\u001b[39m: \u001b[39m'\u001b[39m\u001b[39mCOUNT\u001b[39m\u001b[39m'\u001b[39m})\n\u001b[0;32m      <a href='vscode-notebook-cell:/e%3A/OneDrive/Python/My-Python/Basico/Intro%20to%20Python/11_String_functions/cleaning_%26_regular_expressions.ipynb#W3sZmlsZQ%3D%3D?line=6'>7</a>\u001b[0m        \u001b[39m#groupby('DEPARTAMENTO').agg({'COUNT': 'sum','PORCENTAJE': 'sum'}).reset_index().\\\u001b[39;00m\n\u001b[0;32m      <a href='vscode-notebook-cell:/e%3A/OneDrive/Python/My-Python/Basico/Intro%20to%20Python/11_String_functions/cleaning_%26_regular_expressions.ipynb#W3sZmlsZQ%3D%3D?line=7'>8</a>\u001b[0m \n\u001b[0;32m      <a href='vscode-notebook-cell:/e%3A/OneDrive/Python/My-Python/Basico/Intro%20to%20Python/11_String_functions/cleaning_%26_regular_expressions.ipynb#W3sZmlsZQ%3D%3D?line=8'>9</a>\u001b[0m \n\u001b[0;32m     <a href='vscode-notebook-cell:/e%3A/OneDrive/Python/My-Python/Basico/Intro%20to%20Python/11_String_functions/cleaning_%26_regular_expressions.ipynb#W3sZmlsZQ%3D%3D?line=9'>10</a>\u001b[0m \u001b[39m#################\u001b[39;00m\n\u001b[0;32m     <a href='vscode-notebook-cell:/e%3A/OneDrive/Python/My-Python/Basico/Intro%20to%20Python/11_String_functions/cleaning_%26_regular_expressions.ipynb#W3sZmlsZQ%3D%3D?line=10'>11</a>\u001b[0m \u001b[39m# Descriptivos\u001b[39;00m\n\u001b[0;32m     <a href='vscode-notebook-cell:/e%3A/OneDrive/Python/My-Python/Basico/Intro%20to%20Python/11_String_functions/cleaning_%26_regular_expressions.ipynb#W3sZmlsZQ%3D%3D?line=11'>12</a>\u001b[0m \u001b[39mprint\u001b[39m(dim_municipios\u001b[39m.\u001b[39mhead(\u001b[39m5\u001b[39m))\n",
      "File \u001b[1;32mc:\\Users\\Diego\\AppData\\Local\\Programs\\Python\\Python311\\Lib\\site-packages\\pandas\\core\\series.py:4760\u001b[0m, in \u001b[0;36mSeries.apply\u001b[1;34m(self, func, convert_dtype, args, by_row, **kwargs)\u001b[0m\n\u001b[0;32m   4625\u001b[0m \u001b[39mdef\u001b[39;00m \u001b[39mapply\u001b[39m(\n\u001b[0;32m   4626\u001b[0m     \u001b[39mself\u001b[39m,\n\u001b[0;32m   4627\u001b[0m     func: AggFuncType,\n\u001b[1;32m   (...)\u001b[0m\n\u001b[0;32m   4632\u001b[0m     \u001b[39m*\u001b[39m\u001b[39m*\u001b[39mkwargs,\n\u001b[0;32m   4633\u001b[0m ) \u001b[39m-\u001b[39m\u001b[39m>\u001b[39m DataFrame \u001b[39m|\u001b[39m Series:\n\u001b[0;32m   4634\u001b[0m \u001b[39m    \u001b[39m\u001b[39m\"\"\"\u001b[39;00m\n\u001b[0;32m   4635\u001b[0m \u001b[39m    Invoke function on values of Series.\u001b[39;00m\n\u001b[0;32m   4636\u001b[0m \n\u001b[1;32m   (...)\u001b[0m\n\u001b[0;32m   4751\u001b[0m \u001b[39m    dtype: float64\u001b[39;00m\n\u001b[0;32m   4752\u001b[0m \u001b[39m    \"\"\"\u001b[39;00m\n\u001b[0;32m   4753\u001b[0m     \u001b[39mreturn\u001b[39;00m SeriesApply(\n\u001b[0;32m   4754\u001b[0m         \u001b[39mself\u001b[39;49m,\n\u001b[0;32m   4755\u001b[0m         func,\n\u001b[0;32m   4756\u001b[0m         convert_dtype\u001b[39m=\u001b[39;49mconvert_dtype,\n\u001b[0;32m   4757\u001b[0m         by_row\u001b[39m=\u001b[39;49mby_row,\n\u001b[0;32m   4758\u001b[0m         args\u001b[39m=\u001b[39;49margs,\n\u001b[0;32m   4759\u001b[0m         kwargs\u001b[39m=\u001b[39;49mkwargs,\n\u001b[1;32m-> 4760\u001b[0m     )\u001b[39m.\u001b[39;49mapply()\n",
      "File \u001b[1;32mc:\\Users\\Diego\\AppData\\Local\\Programs\\Python\\Python311\\Lib\\site-packages\\pandas\\core\\apply.py:1207\u001b[0m, in \u001b[0;36mSeriesApply.apply\u001b[1;34m(self)\u001b[0m\n\u001b[0;32m   1204\u001b[0m     \u001b[39mreturn\u001b[39;00m \u001b[39mself\u001b[39m\u001b[39m.\u001b[39mapply_compat()\n\u001b[0;32m   1206\u001b[0m \u001b[39m# self.func is Callable\u001b[39;00m\n\u001b[1;32m-> 1207\u001b[0m \u001b[39mreturn\u001b[39;00m \u001b[39mself\u001b[39;49m\u001b[39m.\u001b[39;49mapply_standard()\n",
      "File \u001b[1;32mc:\\Users\\Diego\\AppData\\Local\\Programs\\Python\\Python311\\Lib\\site-packages\\pandas\\core\\apply.py:1287\u001b[0m, in \u001b[0;36mSeriesApply.apply_standard\u001b[1;34m(self)\u001b[0m\n\u001b[0;32m   1281\u001b[0m \u001b[39m# row-wise access\u001b[39;00m\n\u001b[0;32m   1282\u001b[0m \u001b[39m# apply doesn't have a `na_action` keyword and for backward compat reasons\u001b[39;00m\n\u001b[0;32m   1283\u001b[0m \u001b[39m# we need to give `na_action=\"ignore\"` for categorical data.\u001b[39;00m\n\u001b[0;32m   1284\u001b[0m \u001b[39m# TODO: remove the `na_action=\"ignore\"` when that default has been changed in\u001b[39;00m\n\u001b[0;32m   1285\u001b[0m \u001b[39m#  Categorical (GH51645).\u001b[39;00m\n\u001b[0;32m   1286\u001b[0m action \u001b[39m=\u001b[39m \u001b[39m\"\u001b[39m\u001b[39mignore\u001b[39m\u001b[39m\"\u001b[39m \u001b[39mif\u001b[39;00m \u001b[39misinstance\u001b[39m(obj\u001b[39m.\u001b[39mdtype, CategoricalDtype) \u001b[39melse\u001b[39;00m \u001b[39mNone\u001b[39;00m\n\u001b[1;32m-> 1287\u001b[0m mapped \u001b[39m=\u001b[39m obj\u001b[39m.\u001b[39;49m_map_values(\n\u001b[0;32m   1288\u001b[0m     mapper\u001b[39m=\u001b[39;49mcurried, na_action\u001b[39m=\u001b[39;49maction, convert\u001b[39m=\u001b[39;49m\u001b[39mself\u001b[39;49m\u001b[39m.\u001b[39;49mconvert_dtype\n\u001b[0;32m   1289\u001b[0m )\n\u001b[0;32m   1291\u001b[0m \u001b[39mif\u001b[39;00m \u001b[39mlen\u001b[39m(mapped) \u001b[39mand\u001b[39;00m \u001b[39misinstance\u001b[39m(mapped[\u001b[39m0\u001b[39m], ABCSeries):\n\u001b[0;32m   1292\u001b[0m     \u001b[39m# GH#43986 Need to do list(mapped) in order to get treated as nested\u001b[39;00m\n\u001b[0;32m   1293\u001b[0m     \u001b[39m#  See also GH#25959 regarding EA support\u001b[39;00m\n\u001b[0;32m   1294\u001b[0m     \u001b[39mreturn\u001b[39;00m obj\u001b[39m.\u001b[39m_constructor_expanddim(\u001b[39mlist\u001b[39m(mapped), index\u001b[39m=\u001b[39mobj\u001b[39m.\u001b[39mindex)\n",
      "File \u001b[1;32mc:\\Users\\Diego\\AppData\\Local\\Programs\\Python\\Python311\\Lib\\site-packages\\pandas\\core\\base.py:921\u001b[0m, in \u001b[0;36mIndexOpsMixin._map_values\u001b[1;34m(self, mapper, na_action, convert)\u001b[0m\n\u001b[0;32m    918\u001b[0m \u001b[39mif\u001b[39;00m \u001b[39misinstance\u001b[39m(arr, ExtensionArray):\n\u001b[0;32m    919\u001b[0m     \u001b[39mreturn\u001b[39;00m arr\u001b[39m.\u001b[39mmap(mapper, na_action\u001b[39m=\u001b[39mna_action)\n\u001b[1;32m--> 921\u001b[0m \u001b[39mreturn\u001b[39;00m algorithms\u001b[39m.\u001b[39;49mmap_array(arr, mapper, na_action\u001b[39m=\u001b[39;49mna_action, convert\u001b[39m=\u001b[39;49mconvert)\n",
      "File \u001b[1;32mc:\\Users\\Diego\\AppData\\Local\\Programs\\Python\\Python311\\Lib\\site-packages\\pandas\\core\\algorithms.py:1814\u001b[0m, in \u001b[0;36mmap_array\u001b[1;34m(arr, mapper, na_action, convert)\u001b[0m\n\u001b[0;32m   1812\u001b[0m values \u001b[39m=\u001b[39m arr\u001b[39m.\u001b[39mastype(\u001b[39mobject\u001b[39m, copy\u001b[39m=\u001b[39m\u001b[39mFalse\u001b[39;00m)\n\u001b[0;32m   1813\u001b[0m \u001b[39mif\u001b[39;00m na_action \u001b[39mis\u001b[39;00m \u001b[39mNone\u001b[39;00m:\n\u001b[1;32m-> 1814\u001b[0m     \u001b[39mreturn\u001b[39;00m lib\u001b[39m.\u001b[39;49mmap_infer(values, mapper, convert\u001b[39m=\u001b[39;49mconvert)\n\u001b[0;32m   1815\u001b[0m \u001b[39melse\u001b[39;00m:\n\u001b[0;32m   1816\u001b[0m     \u001b[39mreturn\u001b[39;00m lib\u001b[39m.\u001b[39mmap_infer_mask(\n\u001b[0;32m   1817\u001b[0m         values, mapper, mask\u001b[39m=\u001b[39misna(values)\u001b[39m.\u001b[39mview(np\u001b[39m.\u001b[39muint8), convert\u001b[39m=\u001b[39mconvert\n\u001b[0;32m   1818\u001b[0m     )\n",
      "File \u001b[1;32mlib.pyx:2917\u001b[0m, in \u001b[0;36mpandas._libs.lib.map_infer\u001b[1;34m()\u001b[0m\n",
      "\u001b[1;32me:\\OneDrive\\Python\\My-Python\\Basico\\Intro to Python\\11_String_functions\\cleaning_&_regular_expressions.ipynb Cell 4\u001b[0m line \u001b[0;36m7\n\u001b[0;32m      <a href='vscode-notebook-cell:/e%3A/OneDrive/Python/My-Python/Basico/Intro%20to%20Python/11_String_functions/cleaning_%26_regular_expressions.ipynb#W3sZmlsZQ%3D%3D?line=0'>1</a>\u001b[0m \u001b[39mdef\u001b[39;00m \u001b[39mlimpiar_texto\u001b[39m(texto):\n\u001b[0;32m      <a href='vscode-notebook-cell:/e%3A/OneDrive/Python/My-Python/Basico/Intro%20to%20Python/11_String_functions/cleaning_%26_regular_expressions.ipynb#W3sZmlsZQ%3D%3D?line=1'>2</a>\u001b[0m     \u001b[39m# Eliminar valores numéricos utilizando expresiones regulares\u001b[39;00m\n\u001b[0;32m      <a href='vscode-notebook-cell:/e%3A/OneDrive/Python/My-Python/Basico/Intro%20to%20Python/11_String_functions/cleaning_%26_regular_expressions.ipynb#W3sZmlsZQ%3D%3D?line=2'>3</a>\u001b[0m     \u001b[39m#texto_sin_numeros = re.sub(r'\\d+', '', str(texto))\u001b[39;00m\n\u001b[0;32m      <a href='vscode-notebook-cell:/e%3A/OneDrive/Python/My-Python/Basico/Intro%20to%20Python/11_String_functions/cleaning_%26_regular_expressions.ipynb#W3sZmlsZQ%3D%3D?line=3'>4</a>\u001b[0m \n\u001b[0;32m      <a href='vscode-notebook-cell:/e%3A/OneDrive/Python/My-Python/Basico/Intro%20to%20Python/11_String_functions/cleaning_%26_regular_expressions.ipynb#W3sZmlsZQ%3D%3D?line=4'>5</a>\u001b[0m     \u001b[39m# Remover tildes y caracteres especiales de entonacion\u001b[39;00m\n\u001b[0;32m      <a href='vscode-notebook-cell:/e%3A/OneDrive/Python/My-Python/Basico/Intro%20to%20Python/11_String_functions/cleaning_%26_regular_expressions.ipynb#W3sZmlsZQ%3D%3D?line=5'>6</a>\u001b[0m     \u001b[39m#texto_sin_tildes = unidecode(texto_sin_numeros)\u001b[39;00m\n\u001b[1;32m----> <a href='vscode-notebook-cell:/e%3A/OneDrive/Python/My-Python/Basico/Intro%20to%20Python/11_String_functions/cleaning_%26_regular_expressions.ipynb#W3sZmlsZQ%3D%3D?line=6'>7</a>\u001b[0m     texto_sin_tildes \u001b[39m=\u001b[39m unidecode(texto)\n\u001b[0;32m      <a href='vscode-notebook-cell:/e%3A/OneDrive/Python/My-Python/Basico/Intro%20to%20Python/11_String_functions/cleaning_%26_regular_expressions.ipynb#W3sZmlsZQ%3D%3D?line=8'>9</a>\u001b[0m     \u001b[39m# Quitar caracteres no alfabéticos y no espacios en blanco\u001b[39;00m\n\u001b[0;32m     <a href='vscode-notebook-cell:/e%3A/OneDrive/Python/My-Python/Basico/Intro%20to%20Python/11_String_functions/cleaning_%26_regular_expressions.ipynb#W3sZmlsZQ%3D%3D?line=9'>10</a>\u001b[0m     texto_limpio \u001b[39m=\u001b[39m re\u001b[39m.\u001b[39msub(\u001b[39mr\u001b[39m\u001b[39m'\u001b[39m\u001b[39m[^a-zA-Z\u001b[39m\u001b[39m\\\u001b[39m\u001b[39ms]\u001b[39m\u001b[39m'\u001b[39m, \u001b[39m'\u001b[39m\u001b[39m'\u001b[39m, texto_sin_tildes)\n",
      "File \u001b[1;32mc:\\Users\\Diego\\AppData\\Local\\Programs\\Python\\Python311\\Lib\\site-packages\\unidecode\\__init__.py:60\u001b[0m, in \u001b[0;36munidecode_expect_ascii\u001b[1;34m(string, errors, replace_str)\u001b[0m\n\u001b[0;32m     36\u001b[0m \u001b[39m\u001b[39m\u001b[39m\"\"\"Transliterate an Unicode object into an ASCII string\u001b[39;00m\n\u001b[0;32m     37\u001b[0m \n\u001b[0;32m     38\u001b[0m \u001b[39m>>> unidecode(\"\\u5317\\u4EB0\")\u001b[39;00m\n\u001b[1;32m   (...)\u001b[0m\n\u001b[0;32m     56\u001b[0m \u001b[39mASCII!\u001b[39;00m\n\u001b[0;32m     57\u001b[0m \u001b[39m\"\"\"\u001b[39;00m\n\u001b[0;32m     59\u001b[0m \u001b[39mtry\u001b[39;00m:\n\u001b[1;32m---> 60\u001b[0m     bytestring \u001b[39m=\u001b[39m string\u001b[39m.\u001b[39;49mencode(\u001b[39m'\u001b[39m\u001b[39mASCII\u001b[39m\u001b[39m'\u001b[39m)\n\u001b[0;32m     61\u001b[0m \u001b[39mexcept\u001b[39;00m \u001b[39mUnicodeEncodeError\u001b[39;00m:\n\u001b[0;32m     62\u001b[0m     \u001b[39mpass\u001b[39;00m\n",
      "\u001b[1;31mAttributeError\u001b[0m: 'float' object has no attribute 'encode'"
     ]
    }
   ],
   "source": [
    "total = sum(cities['count'])\n",
    "dim_municipios = cities.sort_values(by='count', ascending=False).\\\n",
    "       assign(DEPARTAMENTO = lambda x: x['MAIN_ADDR_TOWN'].apply(limpiar_texto),\n",
    "              PARTICIPACION = lambda x: x['count']/total,\n",
    "              TOTAL = lambda x: np.cumsum(x['PARTICIPACION'])).\\\n",
    "       rename(columns = {'count': 'COUNT'})\n",
    "       #groupby('DEPARTAMENTO').agg({'COUNT': 'sum','PORCENTAJE': 'sum'}).reset_index().\\\n",
    "\n",
    "\n",
    "#################\n",
    "# Descriptivos\n",
    "print(dim_municipios.head(5))\n",
    "print(' ')\n",
    "print('Dimensiones:')\n",
    "print(dim_municipios.shape)"
   ]
  },
  {
   "cell_type": "code",
   "execution_count": 30,
   "metadata": {},
   "outputs": [
    {
     "name": "stdout",
     "output_type": "stream",
     "text": [
      "   DEPARTAMENTO  PARTICIPACION\n",
      "0           nan       0.330902\n",
      "1        BOGOTA       0.257426\n",
      "2     BOGOTA DC       0.071763\n",
      "3      MEDELLIN       0.046638\n",
      "4  BARRANQUILLA       0.034202\n",
      " \n",
      "Dimensiones:\n",
      "(20586, 2)\n"
     ]
    }
   ],
   "source": [
    "\n",
    "prueba = dim_municipios[['DEPARTAMENTO','PARTICIPACION']].\\\n",
    "    groupby('DEPARTAMENTO').agg({'PARTICIPACION': 'sum'}).\\\n",
    "        sort_values(by='PARTICIPACION', ascending=False).reset_index()\n",
    "\n",
    "#################\n",
    "# Descriptivos\n",
    "print(prueba.head(5))\n",
    "print(' ')\n",
    "print('Dimensiones:')\n",
    "print(prueba.shape)\n"
   ]
  },
  {
   "cell_type": "code",
   "execution_count": 31,
   "metadata": {},
   "outputs": [],
   "source": [
    "# Escritura\n",
    "prueba.to_csv(inpath +'prueba.csv', \n",
    "               index=False, # El argumento 'index=False' evita que se incluyan los índices en el archivo CSV\n",
    "               sep = '|',\n",
    "               decimal = '.')  "
   ]
  },
  {
   "cell_type": "code",
   "execution_count": 28,
   "metadata": {},
   "outputs": [],
   "source": [
    "# Escritura\n",
    "dim_municipios.to_excel(inpath +'cleaned_cities.xlsx', \n",
    "               index=False, # El argumento 'index=False' evita que se incluyan los índices en el archivo CSV\n",
    "               #sep = '|',\n",
    "               #decimal = '.'\n",
    "               )  "
   ]
  }
 ],
 "metadata": {
  "kernelspec": {
   "display_name": "Python 3",
   "language": "python",
   "name": "python3"
  },
  "language_info": {
   "codemirror_mode": {
    "name": "ipython",
    "version": 3
   },
   "file_extension": ".py",
   "mimetype": "text/x-python",
   "name": "python",
   "nbconvert_exporter": "python",
   "pygments_lexer": "ipython3",
   "version": "3.11.5"
  }
 },
 "nbformat": 4,
 "nbformat_minor": 2
}
