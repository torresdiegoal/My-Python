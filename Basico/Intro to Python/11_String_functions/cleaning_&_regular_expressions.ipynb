{
 "cells": [
  {
   "cell_type": "code",
   "execution_count": 1,
   "metadata": {},
   "outputs": [],
   "source": [
    "import pandas as pd\n",
    "from unidecode import unidecode\n",
    "import re"
   ]
  },
  {
   "cell_type": "code",
   "execution_count": 27,
   "metadata": {},
   "outputs": [],
   "source": [
    "def limpiar_texto(texto):\n",
    "    # Eliminar valores numéricos utilizando expresiones regulares\n",
    "    texto_sin_numeros = re.sub(r'\\d+', '', str(texto))\n",
    "\n",
    "    # Remover tildes y caracteres especiales excepto la letra \"Å\" \n",
    "    texto_sin_tildes = unidecode(texto_sin_numeros)\n",
    "\n",
    "    # Quitar caracteres no alfabéticos y no espacios en blanco\n",
    "    texto_limpio = re.sub(r'[^a-zA-Z\\sÅ]', '', texto_sin_tildes)\n",
    "\n",
    "    # Aplicar trim para eliminar espacios en blanco al principio y al final\n",
    "    texto_limpio = texto_limpio.strip()\n",
    "    \n",
    "    return texto_limpio"
   ]
  },
  {
   "cell_type": "code",
   "execution_count": 28,
   "metadata": {},
   "outputs": [],
   "source": [
    "inpath = \"E:/OneDrive/Datasets/Tuboleta/\"\n",
    "#inpath = \"C:/Users/diego.torres/OneDrive/Datasets/Tuboleta/\"\n",
    "\n",
    "cities = pd.read_excel(inpath + 'dirty_cities.xlsx').\\\n",
    "    sort_values('MAIN_ADDR_TOWN', ascending = True)\n",
    "\n",
    "cities = cities['MAIN_ADDR_TOWN']"
   ]
  },
  {
   "cell_type": "code",
   "execution_count": 18,
   "metadata": {},
   "outputs": [
    {
     "name": "stdout",
     "output_type": "stream",
     "text": [
      "5              CAJICA\n",
      "6              BOGOTA\n",
      "7            GIRARDOT\n",
      "8              BOGOTA\n",
      "9              BOGOTA\n",
      "Name: MAIN_ADDR_TOWN, dtype: object\n",
      " \n",
      "Dimensiones:\n",
      "(33185,)\n"
     ]
    }
   ],
   "source": [
    "#################\n",
    "# Descriptivos\n",
    "print(cities.head(5))\n",
    "print(' ')\n",
    "print('Dimensiones:')\n",
    "print(cities.shape)"
   ]
  },
  {
   "cell_type": "code",
   "execution_count": 41,
   "metadata": {},
   "outputs": [
    {
     "name": "stdout",
     "output_type": "stream",
     "text": [
      "Dimensiones:\n",
      "(20586,)\n"
     ]
    }
   ],
   "source": [
    "cities_ = cities.apply(limpiar_texto)\n",
    "cities_ = cities_.unique()\n",
    "cities_ = pd.Series(cities_).sort_values(ascending=True)\n",
    "# cities_ = cities_.reset_index(drop=True)\n",
    "\n",
    "print('Dimensiones:')\n",
    "print(cities_.shape)\n",
    "\n",
    "# Escritura\n",
    "cities_.to_csv(inpath +'cleaned_cities.csv', \n",
    "               index=False, # El argumento 'index=False' evita que se incluyan los índices en el archivo CSV\n",
    "               sep = '|',\n",
    "               decimal = '.')  "
   ]
  },
  {
   "cell_type": "code",
   "execution_count": null,
   "metadata": {},
   "outputs": [],
   "source": []
  }
 ],
 "metadata": {
  "kernelspec": {
   "display_name": "Python 3",
   "language": "python",
   "name": "python3"
  },
  "language_info": {
   "codemirror_mode": {
    "name": "ipython",
    "version": 3
   },
   "file_extension": ".py",
   "mimetype": "text/x-python",
   "name": "python",
   "nbconvert_exporter": "python",
   "pygments_lexer": "ipython3",
   "version": "3.11.5"
  }
 },
 "nbformat": 4,
 "nbformat_minor": 2
}
