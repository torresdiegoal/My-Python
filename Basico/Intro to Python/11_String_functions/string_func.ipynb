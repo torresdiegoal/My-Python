{
 "cells": [
  {
   "cell_type": "code",
   "execution_count": 1,
   "metadata": {},
   "outputs": [],
   "source": [
    "import pandas as pd\n",
    "\n",
    "# Limpieza de texto\n",
    "def limpiar_texto(texto):\n",
    "    # Remover tildes y caracteres especiales de entonacion\n",
    "    texto_limpio = str.upper(texto) # str. se utiliza en para tratar pd.Series\n",
    "\n",
    "    # Quitar caracteres no alfabéticos y no espacios en blanco\n",
    "    texto_limpio = str.lower(texto)\n",
    "\n",
    "    # Capitaliza la primera letra de la primera palabra de un texto\n",
    "    texto_limpio = str.capitalize(texto)\n",
    "\n",
    "    # Capitaliza la primera letra de todas las palabras de un texto\n",
    "    texto_limpio = str.title(texto)\n",
    "    \n",
    "    return texto_limpio"
   ]
  },
  {
   "cell_type": "code",
   "execution_count": 3,
   "metadata": {},
   "outputs": [
    {
     "name": "stdout",
     "output_type": "stream",
     "text": [
      "              texto       texto_modif\n",
      "0        hola mundo        Hola Mundo\n",
      "1  python es genial  Python Es Genial\n",
      "2            pandas            Pandas\n"
     ]
    }
   ],
   "source": [
    "# Crear un DataFrame de ejemplo (reemplaza esto con tu propio DataFrame)\n",
    "data = {'texto': ['hola mundo', 'python es genial', 'pandas']}\n",
    "df = pd.DataFrame(data)\n",
    "\n",
    "# Limpieza del campo ciudad de acuerdo con la funcion limpiar_texto\n",
    "df = df.assign(texto_modif = lambda x: x['texto'].apply(limpiar_texto))\n",
    "\n",
    "print(df)"
   ]
  },
  {
   "cell_type": "code",
   "execution_count": 8,
   "metadata": {},
   "outputs": [
    {
     "data": {
      "text/plain": [
       "'STRING'"
      ]
     },
     "execution_count": 8,
     "metadata": {},
     "output_type": "execute_result"
    }
   ],
   "source": [
    "### STRINGS SUELTOS\n",
    "\"StrinG\".upper()"
   ]
  },
  {
   "cell_type": "code",
   "execution_count": 9,
   "metadata": {},
   "outputs": [
    {
     "data": {
      "text/plain": [
       "'string'"
      ]
     },
     "execution_count": 9,
     "metadata": {},
     "output_type": "execute_result"
    }
   ],
   "source": [
    "\"StrinG\".lower()"
   ]
  },
  {
   "cell_type": "code",
   "execution_count": 10,
   "metadata": {},
   "outputs": [
    {
     "data": {
      "text/plain": [
       "'String'"
      ]
     },
     "execution_count": 10,
     "metadata": {},
     "output_type": "execute_result"
    }
   ],
   "source": [
    "\"StrinG\".title()"
   ]
  }
 ],
 "metadata": {
  "kernelspec": {
   "display_name": "Python 3",
   "language": "python",
   "name": "python3"
  },
  "language_info": {
   "codemirror_mode": {
    "name": "ipython",
    "version": 3
   },
   "file_extension": ".py",
   "mimetype": "text/x-python",
   "name": "python",
   "nbconvert_exporter": "python",
   "pygments_lexer": "ipython3",
   "version": "3.12.0"
  }
 },
 "nbformat": 4,
 "nbformat_minor": 2
}
