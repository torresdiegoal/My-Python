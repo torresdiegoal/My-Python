{
 "cells": [
  {
   "cell_type": "code",
   "execution_count": 10,
   "metadata": {},
   "outputs": [
    {
     "data": {
      "text/plain": [
       "82"
      ]
     },
     "execution_count": 10,
     "metadata": {},
     "output_type": "execute_result"
    }
   ],
   "source": [
    "from tabula import read_pdf # requiere instalar java: https://www.java.com/es/download/\n",
    "import pandas as pd\n",
    "from unidecode import unidecode\n",
    "import re\n",
    "\n",
    "inpath = \"E:/OneDrive/Datasets/Tuboleta/\"\n",
    "pdf = read_pdf(inpath + \"CodigosPostales.pdf\", pages='all')\n",
    "len(pdf)"
   ]
  },
  {
   "cell_type": "code",
   "execution_count": 11,
   "metadata": {},
   "outputs": [],
   "source": [
    "def limpiar_texto(texto):\n",
    "    # Eliminar valores numéricos utilizando expresiones regulares\n",
    "    texto_mayuscula = str.upper(texto)   # str. se utiliza en para tratar pd.Series\n",
    "\n",
    "    # Remover tildes y caracteres especiales de entonacion\n",
    "    texto_sin_tildes = unidecode(texto_mayuscula)\n",
    "\n",
    "    # Quitar caracteres no alfabéticos y no espacios en blanco\n",
    "    texto_limpio = re.sub(r'[^a-zA-Z\\s]', '', texto_sin_tildes)\n",
    "\n",
    "    # Aplicar trim para eliminar espacios en blanco al principio y al final\n",
    "    texto_limpio = texto_limpio.strip()\n",
    "    \n",
    "    return texto_limpio"
   ]
  },
  {
   "cell_type": "code",
   "execution_count": 13,
   "metadata": {},
   "outputs": [
    {
     "name": "stdout",
     "output_type": "stream",
     "text": [
      "  State / Departamento  Postal Code /\\rCódigo Postal* City Name / Ciudad  \\\n",
      "0            Antioquia                          50001           Medellin   \n",
      "1            Antioquia                          50002           Medellin   \n",
      "2            Antioquia                          50003           Medellin   \n",
      "3            Antioquia                          50004           Medellin   \n",
      "4            Antioquia                          50005           Medellin   \n",
      "\n",
      "  State\\rCode  \n",
      "0          AN  \n",
      "1          AN  \n",
      "2          AN  \n",
      "3          AN  \n",
      "4          AN  \n",
      " \n",
      "Dimensiones:\n",
      "(3681, 4)\n",
      " \n",
      "Index(['State / Departamento', 'Postal Code /\\rCódigo Postal*',\n",
      "       'City Name / Ciudad', 'State\\rCode'],\n",
      "      dtype='object')\n"
     ]
    }
   ],
   "source": [
    "# Suponiendo que lista_dataframes es tu lista con los 82 DataFrames\n",
    "\n",
    "# Concatenar los DataFrames de la lista\n",
    "pdf_df = pd.concat(pdf, ignore_index=True)# 'ignore_index=True' reinicia los índices del DataFrame resultante\n",
    "    # para que sean secuenciales, en lugar de conservar los índices originales de cada DataFrame\n",
    "\n",
    "#################\n",
    "# Descriptivos\n",
    "print(pdf_df.head(5))\n",
    "print(' ')\n",
    "print('Dimensiones:')\n",
    "print(pdf_df.shape)\n",
    "print(' ')\n",
    "print(pdf_df.columns)"
   ]
  },
  {
   "cell_type": "code",
   "execution_count": 18,
   "metadata": {},
   "outputs": [
    {
     "name": "stdout",
     "output_type": "stream",
     "text": [
      "     Departamento  Codigo Postal            Ciudad CodDep\n",
      "3569     AMAZONAS         915019  PUERTO SANTANDER     AM\n",
      "3575     AMAZONAS         917018        LA PEDRERA     AM\n",
      "3574     AMAZONAS         917017        LA PEDRERA     AM\n",
      "3573     AMAZONAS         917010        LA PEDRERA     AM\n",
      "3572     AMAZONAS         916058    MIRITI  PARANA     AM\n",
      " \n",
      "Dimensiones:\n",
      "(3681, 4)\n"
     ]
    }
   ],
   "source": [
    "codpost = pdf_df.sort_values(by='State / Departamento', ascending=True).\\\n",
    "       rename(columns = {'State / Departamento': 'Departamento','Postal Code /\\rCódigo Postal*': 'Codigo Postal','City Name / Ciudad': 'Ciudad','State\\rCode': 'CodDep'}).\\\n",
    "       assign(Departamento = lambda x: x['Departamento'].apply(limpiar_texto),\n",
    "              Ciudad = lambda x: x['Ciudad'].apply(limpiar_texto))\n",
    "       \n",
    "       #groupby('DEPARTAMENTO').agg({'COUNT': 'sum','PORCENTAJE': 'sum'}).reset_index().\\\n",
    "\n",
    "\n",
    "#################\n",
    "# Descriptivos\n",
    "print(codpost.head(5))\n",
    "print(' ')\n",
    "print('Dimensiones:')\n",
    "print(codpost.shape)"
   ]
  },
  {
   "cell_type": "code",
   "execution_count": 19,
   "metadata": {},
   "outputs": [],
   "source": [
    "# Escritura\n",
    "codpost.to_csv(inpath +'codpost.csv', \n",
    "               index=False, # El argumento 'index=False' evita que se incluyan los índices en el archivo CSV\n",
    "               sep = '|',\n",
    "               decimal = '.')  "
   ]
  }
 ],
 "metadata": {
  "kernelspec": {
   "display_name": "Python 3",
   "language": "python",
   "name": "python3"
  },
  "language_info": {
   "codemirror_mode": {
    "name": "ipython",
    "version": 3
   },
   "file_extension": ".py",
   "mimetype": "text/x-python",
   "name": "python",
   "nbconvert_exporter": "python",
   "pygments_lexer": "ipython3",
   "version": "3.11.5"
  }
 },
 "nbformat": 4,
 "nbformat_minor": 2
}
