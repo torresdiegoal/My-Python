{
 "cells": [
  {
   "cell_type": "code",
   "execution_count": 1,
   "metadata": {},
   "outputs": [],
   "source": [
    "import pandas as pd\n",
    "import matplotlib.pyplot as plt\n",
    "import numpy as np"
   ]
  },
  {
   "cell_type": "code",
   "execution_count": 4,
   "metadata": {},
   "outputs": [
    {
     "name": "stdout",
     "output_type": "stream",
     "text": [
      "    Aperture  Class Weight     mm       Phi\n",
      "0       1000      0.000000  10.00 -3.321928\n",
      "1        850      0.000000   8.50 -3.087463\n",
      "2        600      0.020087   6.00 -2.584963\n",
      "3        500      0.006696   5.00 -2.321928\n",
      "4        425      0.006696   4.25 -2.087463\n",
      "5        300      0.026783   3.00 -1.584963\n",
      "6        250      0.053565   2.50 -1.321928\n",
      "7        180      0.408437   1.80 -0.847997\n",
      "8        150      0.703047   1.50 -0.584963\n",
      "9        125     46.729160   1.25 -0.321928\n",
      "10        90     41.580181   0.90  0.152003\n",
      "11        63     10.465350   0.63  0.666576\n"
     ]
    }
   ],
   "source": [
    "\n",
    "inpath = \"C:/Users/Diego Torres/OneDrive/Datasets/barplot_Adri.xlsx\"\n",
    "data=pd.read_excel(inpath)\n",
    "print(data)"
   ]
  },
  {
   "cell_type": "code",
   "execution_count": 4,
   "metadata": {},
   "outputs": [
    {
     "name": "stdout",
     "output_type": "stream",
     "text": [
      "float64\n",
      "<class 'numpy.ndarray'>\n",
      "[  63.    180.12  297.25  414.38  531.5   648.62  765.75  882.88 1000.  ]\n",
      "[  62.999  180.12   297.25   414.38   531.5    648.62   765.75   882.88\n",
      " 1000.001]\n"
     ]
    }
   ],
   "source": [
    "# Tus datos de Aperture\n",
    "#aperture_values = [1000, 850, 600, 500, 425, 300, 250, 180, 150, 125, 90, 63]\n",
    "\n",
    "# Calcular el número total de datos\n",
    "#total_data = len(aperture_values)\n",
    "\n",
    "n_bins = 8\n",
    "\n",
    "# Calcula los límites de los bins\n",
    "bin_edges = np.round(np.histogram_bin_edges(data.Aperture, bins=n_bins),2)\n",
    "print(bin_edges.dtype)\n",
    "print(type(bin_edges))\n",
    "print(bin_edges)\n",
    "\n",
    "# Restarle 0.001 al primer elemento\n",
    "bin_edges[0] -= 0.001\n",
    "\n",
    "# Sumarle 0.001 al último elemento\n",
    "bin_edges[-1] += 0.001\n",
    "\n",
    "\n",
    "print(bin_edges)\n",
    "\n",
    "#print(type(bin_edges))\n"
   ]
  },
  {
   "cell_type": "code",
   "execution_count": 10,
   "metadata": {},
   "outputs": [
    {
     "name": "stdout",
     "output_type": "stream",
     "text": [
      "    Aperture  Class_Weight     mm       Phi            cut_data  order\n",
      "0         63         10.47   0.63  0.666576    (62.999, 180.12]      1\n",
      "1         90         41.58   0.90  0.152003    (62.999, 180.12]      1\n",
      "2        125         46.73   1.25 -0.321928    (62.999, 180.12]      1\n",
      "3        150          0.70   1.50 -0.584963    (62.999, 180.12]      1\n",
      "4        180          0.41   1.80 -0.847997    (62.999, 180.12]      1\n",
      "5        250          0.05   2.50 -1.321928    (180.12, 297.25]      2\n",
      "6        300          0.03   3.00 -1.584963    (297.25, 414.38]      3\n",
      "7        425          0.01   4.25 -2.087463     (414.38, 531.5]      4\n",
      "8        500          0.01   5.00 -2.321928     (414.38, 531.5]      4\n",
      "9        600          0.02   6.00 -2.584963     (531.5, 648.62]      5\n",
      "10       850          0.00   8.50 -3.087463    (765.75, 882.88]      6\n",
      "11      1000          0.00  10.00 -3.321928  (882.88, 1000.001]      7\n",
      " \n",
      "Summary:\n",
      "<class 'pandas.core.frame.DataFrame'>\n",
      "RangeIndex: 12 entries, 0 to 11\n",
      "Data columns (total 6 columns):\n",
      " #   Column        Non-Null Count  Dtype  \n",
      "---  ------        --------------  -----  \n",
      " 0   Aperture      12 non-null     int64  \n",
      " 1   Class_Weight  12 non-null     float64\n",
      " 2   mm            12 non-null     float64\n",
      " 3   Phi           12 non-null     float64\n",
      " 4   cut_data      12 non-null     object \n",
      " 5   order         12 non-null     int64  \n",
      "dtypes: float64(3), int64(2), object(1)\n",
      "memory usage: 708.0+ bytes\n",
      " \n",
      "Descriptivos:\n",
      "              count    mean     std    min     25%     50%     75%      max\n",
      "Aperture       12.0  377.75  306.87  63.00  143.75  275.00  525.00  1000.00\n",
      "Class_Weight   12.0    8.33   17.03   0.00    0.01    0.04    3.14    46.73\n",
      "mm             12.0    3.78    3.07   0.63    1.44    2.75    5.25    10.00\n",
      "Phi            12.0   -1.44    1.28  -3.32   -2.39   -1.45   -0.52     0.67\n",
      "order          12.0    3.00    2.17   1.00    1.00    2.50    4.25     7.00\n",
      " \n",
      "Nulos por campo:\n",
      "Aperture        0\n",
      "Class_Weight    0\n",
      "mm              0\n",
      "Phi             0\n",
      "cut_data        0\n",
      "order           0\n",
      "dtype: int64\n",
      " \n",
      "Dimensiones:\n",
      "12\n"
     ]
    }
   ],
   "source": [
    "\n",
    "# Usar la función cut() para dividir la variable en categorías\n",
    "data['Class_Weight'] = round(data['Class_Weight'],2)\n",
    "data['cut_data'] = pd.cut(data.Aperture, bins=bin_edges).astype(str)\n",
    "\n",
    "# Definir una función que asigne valores ascendentes a cada categoría\n",
    "def asignar_valores(categoria):\n",
    "    global categoria_actual, valor_asignado\n",
    "    if categoria != categoria_actual:\n",
    "        valor_asignado += 1\n",
    "        categoria_actual = categoria\n",
    "    return valor_asignado\n",
    "\n",
    "# Inicializar variables globales\n",
    "categoria_actual = None\n",
    "valor_asignado = 0\n",
    "\n",
    "# Aplicar la función a la columna \"Categoría\" y crear la nueva columna \"NuevoCampo\"\n",
    "data['order'] = data['cut_data'].apply(asignar_valores)\n",
    "\n",
    "\n",
    "\"\"\" # Imprime los límites de los bins\n",
    "print('Límites de los bins:')\n",
    "for i in range(len(bin_edges) - 1):\n",
    "    print(f'Bin {i + 1}: {bin_edges[i]} - {bin_edges[i + 1]}') \n",
    "\n",
    "# Crear el histograma con las frecuencias relativas y escala personalizada en el eje Y\n",
    "plt.hist(data.Aperture, bins=n_bins, edgecolor='black', density=True)\n",
    "plt.ylim(0,0.005)\n",
    "# Modificar los valores en el eje Y para mostrarlos como porcentaje\n",
    "#plt.gca().set_yticklabels(['{:.0f}%'.format(x * 10000) for x in plt.gca().get_yticks()])\n",
    "# Definir una función de escala personalizada\n",
    "def custom_scale(y):\n",
    "    return y * 100  # Multiplicar por 100 para convertir a porcentaje\n",
    "\n",
    "# Aplicar la escala personalizada en el eje Y\n",
    "plt.gca().set_yscale('function', functions=(custom_scale, None)) \"\"\"\n",
    "\n",
    "\n",
    "#################\n",
    "# Descriptivos\n",
    "print(data)\n",
    "print(' ')\n",
    "print('Summary:')\n",
    "data.info()\n",
    "print(' ')\n",
    "print('Descriptivos:')\n",
    "print(data.describe().round(2).transpose())\n",
    "print(' ')\n",
    "print('Nulos por campo:')\n",
    "print(data.isnull().sum())  # total de nulls por variable\n",
    "print(' ')\n",
    "print('Dimensiones:')\n",
    "print(data.shape[0])\n",
    "\n",
    "\n"
   ]
  },
  {
   "cell_type": "code",
   "execution_count": 11,
   "metadata": {},
   "outputs": [
    {
     "name": "stdout",
     "output_type": "stream",
     "text": [
      "    Aperture  Class_Weight     mm       Phi            cut_data  order\n",
      "0         63         10.47   0.63  0.666576    (62.999, 180.12]      1\n",
      "1         90         41.58   0.90  0.152003    (62.999, 180.12]      1\n",
      "2        125         46.73   1.25 -0.321928    (62.999, 180.12]      1\n",
      "3        150          0.70   1.50 -0.584963    (62.999, 180.12]      1\n",
      "4        180          0.41   1.80 -0.847997    (62.999, 180.12]      1\n",
      "5        250          0.05   2.50 -1.321928    (180.12, 297.25]      2\n",
      "6        300          0.03   3.00 -1.584963    (297.25, 414.38]      3\n",
      "7        425          0.01   4.25 -2.087463     (414.38, 531.5]      4\n",
      "8        500          0.01   5.00 -2.321928     (414.38, 531.5]      4\n",
      "9        600          0.02   6.00 -2.584963     (531.5, 648.62]      5\n",
      "10       850          0.00   8.50 -3.087463    (765.75, 882.88]      6\n",
      "11      1000          0.00  10.00 -3.321928  (882.88, 1000.001]      7\n",
      " \n"
     ]
    }
   ],
   "source": [
    "aggregated_data = data.groupby(['cut_data', 'order'])['Class_Weight'].sum().reset_index().sort_values('order',ascending=True)\n",
    "#################\n",
    "# Descriptivos\n",
    "print(data)\n",
    "print(' ')"
   ]
  },
  {
   "cell_type": "code",
   "execution_count": 12,
   "metadata": {},
   "outputs": [
    {
     "data": {
      "image/png": "[encoded data removed]",
      "text/plain": [
       "<Figure size 640x480 with 1 Axes>"
      ]
     },
     "metadata": {},
     "output_type": "display_data"
    }
   ],
   "source": [
    "plt.bar(aggregated_data['cut_data'],aggregated_data['Class_Weight'], width=1, ec='white', color='#98c0b3')\n",
    "# Personalizar el gráfico\n",
    "plt.title('Histograma de Aperture (Escala Personalizada)')\n",
    "plt.xlabel('Diámetro de partícula (µm)')\n",
    "# Valores personalizados en el eje x\n",
    "custom_xticks = [min(data['Aperture']), '', '', np.median(bin_edges), '','',max(data['Aperture'])]\n",
    "plt.xticks(aggregated_data['cut_data'], custom_xticks, rotation=0)\n",
    "#plt.ylim(0,1200)\n",
    "plt.yscale('log')  # Escala logarítmica en el eje Y\n",
    "plt.ylabel('log Peso de clase (%)')\n",
    "plt.title('Distribución del tamaño de grano')\n",
    "\n",
    "# Mostrar el valor de cada barra encima de las barras\n",
    "for i, v in enumerate(aggregated_data['Class_Weight']):\n",
    "\n",
    "    plt.text(i, round(v + 0.02,2), str(v), ha='center', va='bottom',fontsize=7.5)\n",
    "\n",
    "\"\"\" # Crear un tercer eje arriba\n",
    "ax2 = plt.twiny()\n",
    "# Valores personalizados para el tercer eje\n",
    "custom_top_axis_values = [1.1, 2.2, 3.3, 4.4, 5.5]\n",
    "# Ubicación del tercer eje\n",
    "ax2.set_xlim(ax2.get_xlim())\n",
    "ax2.set_xticks(aggregated_data['Phi'])\n",
    "ax2.set_xticklabels(custom_top_axis_values, fontsize=10)\n",
    "ax2.set_xlabel('Valores del tercer campo') \"\"\"\n",
    "\n",
    "# Ajustar el espacio entre subgráficos\n",
    "#plt.subplots_adjust(top=0.85)\n",
    "\n",
    "# Guardar como un archivo PNG, JPG, PDF\n",
    "plt.savefig('histograma_Gmas.png', dpi=300, bbox_inches='tight') #El argumento dpi controla la resolución en el caso de los formatos PNG y JPG. \n",
    "                                        #bbox_inches='tight' se utiliza para asegurarse de que los márgenes de la figura estén ajustados correctamente en la imagen guardada.\n",
    "\n",
    "# Mostrar el histograma\n",
    "plt.show()"
   ]
  },
  {
   "cell_type": "code",
   "execution_count": null,
   "metadata": {},
   "outputs": [],
   "source": []
  }
 ],
 "metadata": {
  "kernelspec": {
   "display_name": "Python 3",
   "language": "python",
   "name": "python3"
  },
  "language_info": {
   "codemirror_mode": {
    "name": "ipython",
    "version": 3
   },
   "file_extension": ".py",
   "mimetype": "text/x-python",
   "name": "python",
   "nbconvert_exporter": "python",
   "pygments_lexer": "ipython3",
   "version": "3.11.5"
  },
  "orig_nbformat": 4
 },
 "nbformat": 4,
 "nbformat_minor": 2
}
