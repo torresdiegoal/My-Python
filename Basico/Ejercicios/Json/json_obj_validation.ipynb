{
 "cells": [
  {
   "cell_type": "code",
   "execution_count": 27,
   "metadata": {},
   "outputs": [
    {
     "name": "stdout",
     "output_type": "stream",
     "text": [
      "Dimensiones:\n",
      "(131150, 4)\n",
      "   id                                              trama  \\\n",
      "0   1  [{\"orderDetailsData\":{\"orderId\":10000702652,\"o...   \n",
      "1   2  [{\"orderDetailsData\":{\"orderId\":10000702652,\"o...   \n",
      "2   3  {\"orderDetailGranularity\":\"TICKET\",\"orderDetai...   \n",
      "3   4  {\"orderDetailGranularity\":\"TICKET\",\"orderDetai...   \n",
      "4   5  {\"orderDetailGranularity\":\"TICKET\",\"orderDetai...   \n",
      "\n",
      "                     fecha  procesado  \n",
      "0  2023-11-30 01:46:04.463          0  \n",
      "1  2023-11-30 15:05:45.197          0  \n",
      "2  2023-11-30 15:10:54.960          0  \n",
      "3  2023-11-30 15:10:55.113          0  \n",
      "4  2023-11-30 15:10:55.270          0  \n",
      " \n",
      "Summary:\n",
      "<class 'pandas.core.frame.DataFrame'>\n",
      "RangeIndex: 131150 entries, 0 to 131149\n",
      "Data columns (total 4 columns):\n",
      " #   Column     Non-Null Count   Dtype \n",
      "---  ------     --------------   ----- \n",
      " 0   id         131150 non-null  int64 \n",
      " 1   trama      131150 non-null  object\n",
      " 2   fecha      131150 non-null  object\n",
      " 3   procesado  131150 non-null  int64 \n",
      "dtypes: int64(2), object(2)\n",
      "memory usage: 4.0+ MB\n",
      "(5, 4)\n"
     ]
    }
   ],
   "source": [
    "#### where to see json in good format http://json.parser.online.fr/\n",
    "\n",
    "import pandas as pd\n",
    "import json\n",
    "\n",
    "inpath = \"E:/OneDrive/Datasets/Tuboleta/Hubspot/\"\n",
    "#inpath = \"C:/Users/diego.torres/OneDrive/Datasets/Tuboleta/Hubspot/\"\n",
    "\n",
    "tb_ini = pd.read_csv(inpath + 'hubspot_json.csv',delimiter=';')\n",
    "tb_ini.fillna(0, inplace=True)\n",
    "\n",
    "print('Dimensiones:')\n",
    "print(tb_ini.shape)\n",
    "print(tb_ini.head(5))\n",
    "print(' ')\n",
    "print('Summary:')\n",
    "tb_ini.info()"
   ]
  },
  {
   "cell_type": "code",
   "execution_count": 78,
   "metadata": {},
   "outputs": [
    {
     "name": "stdout",
     "output_type": "stream",
     "text": [
      "(131150, 6)\n"
     ]
    }
   ],
   "source": [
    "tb = tb_ini#.tail(5)\n",
    "print(tb.shape)\n",
    "#print(tb.head(5))"
   ]
  },
  {
   "cell_type": "code",
   "execution_count": 79,
   "metadata": {},
   "outputs": [
    {
     "name": "stdout",
     "output_type": "stream",
     "text": [
      "[{\"orderDetailsData\":{\"orderId\":10000702652,\"orderState\":\"CLOSED\",\"creationDateTime\":\"2020-10-13T10:09:27.503+00:00\",\"referenceDate\":\"2020-10-12T22:00:00+00:00\",\"expirationDate\":\"2020-10-13T10:32:33.738+00:00\",\"saleAmount\":40000,\"preSaleAmount\":0,\"reservationAmount\":0,\"optionAmount\":0,\"waitingAccountBalanceAmount\":0,\"operationDatas\":[{\"operationId\":10228310724422,\"kind\":\"SINGLE_ENTRY\",\"quantity\":2,\"basePrice\":20000,\"unitPrice\":20000,\"productId\":10228231108335,\"product\":\"Arena Suite Dining\",\"productCode\":\"ASTDN\",\"itemId\":10228231110052,\"performanceId\":10228231109243,\"performance\":\"Arena Suite Dining\",\"eventId\":10228231108335,\"physicalConfigurationId\":10228231107425,\"siteId\":101053494751,\"site\":\"S-360 Arena\",\"siteAddress\":{\"firstAddressLine\":\"Route des Plaines-du-Loup 7\",\"zipCode\":\"1018\",\"locality\":\"Lausanne\",\"countryCode\":\"CH\",\"phoneNumber\":\"41-0213151414\",\"gpsLatitude\":\"46.5333333\",\"gpsLongitude\":\"6.6241666999999325\",\"website\":\"http://www.secutix.com\"},\"space\":\"Home arena suites\",\"contingentId\":101053494560,\"contingent\":\"VIP\",\"numbered\":false,\"seatCategoryId\":10228231108132,\"seatCategory\":\"Cat 2\",\"seatCategoryRank\":1,\"audienceSubCategoryId\":10228231110152,\"audienceSubCategory\":\"VIP\",\"audienceSubCategoryRank\":1,\"audienceSubCategoryRequireAttachment\":false,\"vatRate\":8000,\"vatCountryCode\":\"CH\",\"selfPaidVat\":false,\"operationNumber\":2,\"productFamilyType\":\"SINGLE_ENTRY\",\"productFamilySubType\":\"SPORTING_EVENT\",\"activityType\":\"SPORT\",\"performanceData\":{\"10228231109243\":\"2020-10-31T16:00:00+00:00\"},\"performanceDate\":\"2020-10-31T16:00:00+00:00\",\"performanceDuration\":7200,\"itemDisplayExternalDesignation\":\"Arena Suite Dining\",\"locations\":[{\"spaceCode\":\"Suites\",\"siteCode\":\"Arena\",\"spaceExternalName\":{\"translations\":[{\"locale\":\"en\",\"value\":\"Home arena suites\"}]},\"siteExternalName\":{\"translations\":[{\"locale\":\"en\",\"value\":\"S-360 Arena\"},{\"locale\":\"fr\",\"value\":\"Ar?ne S-360\"}]},\"siteAddress\":{\"firstAddressLine\":\"Route des Plaines-du-Loup 7\",\"zipCode\":\"1018\",\"locality\":\"Lausanne\",\"countryCode\":\"CH\",\"phoneNumber\":\"41-0213151414\",\"gpsLatitude\":\"46.5333333\",\"gpsLongitude\":\"6.6241666999999325\",\"website\":\"http://www.secutix.com\"}}],\"fileId\":5464,\"match\":{\"finalDate\":true,\"roundCode\":\"J1\",\"roundRank\":1,\"hostTeamId\":101053521731,\"opposingTeamId\":101053521720,\"round\":\"Day 1\",\"hostTeam\":\"Team Play\",\"opposingTeam\":\"Athletico Fedora\"},\"withoutVatTotalAmount\":37040,\"totalAmount\":40000,\"performanceKind\":\"Default\",\"waitingAccountBalance\":0,\"season\":\"Current season\",\"crossSellParentOperationIds\":[],\"comfortVariableValues\":{\"PrioPts\":{\"translations\":[{\"locale\":\"en\",\"value\":\"0\"}]}},\"performanceCode\":\"ASTDN\",\"audienceCatId\":15655,\"seatCategoryBgColor\":\"FF8000\",\"seatCategoryTextColor\":\"000000\",\"exchangeable\":false,\"isNominative\":false}],\"movementDatas\":[{\"movementId\":10228310724638,\"operationId\":10228310724422,\"barcode\":\"278777501804038390760100\",\"taxNumber\":\"01010089510\",\"type\":\"AREA\",\"seatCategoryId\":10228231108132,\"seatCategory\":\"Cat 2\",\"contingentId\":101053494560,\"contingent\":\"VIP\",\"areaId\":10228231107526,\"saleAreaId\":10228231107931,\"area\":\"Arena suite\",\"contactReference\":\"10912\",\"areaKind\":\"INDIFFERENT\",\"resumed\":false,\"attributionMatch\":\"NO_EXPECTATION\",\"externalReferences\":[]},{\"movementId\":10228310724637,\"operationId\":10228310724422,\"barcode\":\"337510583739402222630181\",\"taxNumber\":\"01010089509\",\"type\":\"AREA\",\"seatCategoryId\":10228231108132,\"seatCategory\":\"Cat 2\",\"contingentId\":101053494560,\"contingent\":\"VIP\",\"areaId\":10228231107526,\"saleAreaId\":10228231107931,\"area\":\"Arena suite\",\"contactReference\":\"10912\",\"areaKind\":\"INDIFFERENT\",\"resumed\":false,\"attributionMatch\":\"NO_EXPECTATION\",\"externalReferences\":[]}],\"movementTicketDatas\":[{\"movementId\":10228310724638,\"ticketId\":10228310723729,\"ticketState\":\"NOT_PRINTED\",\"barcode\":\"278777501804038390760100\",\"taxNumber\":\"01010089510\",\"contactReference\":\"10912\",\"ticketSupport\":\"THERMAL\",\"linkedToTicketDistribution\":false},{\"movementId\":10228310724637,\"ticketId\":10228310723728,\"ticketState\":\"NOT_PRINTED\",\"barcode\":\"337510583739402222630181\",\"taxNumber\":\"01010089509\",\"contactReference\":\"10912\",\"ticketSupport\":\"THERMAL\",\"linkedToTicketDistribution\":false}],\"contactReference\":\"10912\",\"salesChannelName\":{\"translations\":[{\"locale\":\"en\",\"value\":\"Box office - Test\"},{\"locale\":\"fr\",\"value\":\"Guichet\"},{\"locale\":\"ca\",\"value\":\"Kasse\"}]},\"orderType\":\"SALE\",\"generatedContiguities\":[],\"orderOriginData\":{\"countryCode\":\"ES\",\"zipCode\":\"18010\",\"toCreateToken\":false},\"salesChannelType\":\"BOXOFFICE\",\"orderInstallmentsToCreate\":[{\"orderId\":10000702652,\"dueDate\":\"2020-11-11T23:00:00+00:00\",\"dueAmount\":40000,\"paidAmount\":0}],\"orderSecretId\":\"851b3217-c963-430a-b4fd-36d6a28fb504_10000702652\",\"orderOriginator\":\"SALE\",\"salesChannelCode\":\"BO\",\"catalogCurrency\":{\"currencyCode\":\"EUR\",\"symbol\":\"?\",\"fractionDigit\":2,\"minAmount\":10},\"organizationCode\":\"PLAY\",\"organizationName\":{\"translations\":[{\"locale\":\"en\",\"value\":\"MPLAY - TEST\"},{\"locale\":\"fr\",\"value\":\"MPLAY - TEST\"}]}},\"orderDetailGranularity\":\"TICKET\"}]\n"
     ]
    }
   ],
   "source": [
    "json_data = tb.iloc[1,1]\n",
    "print(json_data)\n",
    "\n",
    "# json_data = tb_ini.iloc[1,1]\n",
    "# print(json_data)\n",
    "\n",
    "# json_data = tb_ini.iloc[3,1]\n",
    "# print(json_data)\n",
    "\n",
    "# Exportar la cadena JSON a un archivo\n",
    "with open(inpath + 'datos.json', 'w') as archivo:\n",
    "    archivo.write(json_data)\n",
    "\n",
    "# json_data = tb_ini.iloc[4,1]\n",
    "# print(json_data)"
   ]
  },
  {
   "cell_type": "code",
   "execution_count": 55,
   "metadata": {},
   "outputs": [
    {
     "name": "stdout",
     "output_type": "stream",
     "text": [
      "[{\"orderDetailsData\":{\"orderId\":10000702652,\"orderState\":\"CLOSED\",\"creationDateTime\":\"2020-10-13T10:09:27.503+00:00\",\"referenceDate\":\"2020-10-12T22:00:00+00:00\",\"expirationDate\":\"2020-10-13T10:32:33.738+00:00\",\"saleAmount\":40000,\"preSaleAmount\":0,\"reservationAmount\":0,\"optionAmount\":0,\"waitingAccountBalanceAmount\":0,\"operationDatas\":[{\"operationId\":10228310724422,\"kind\":\"SINGLE_ENTRY\",\"quantity\":2,\"basePrice\":20000,\"unitPrice\":20000,\"productId\":10228231108335,\"product\":\"Arena Suite Dining\",\"productCode\":\"ASTDN\",\"itemId\":10228231110052,\"performanceId\":10228231109243,\"performance\":\"Arena Suite Dining\",\"eventId\":10228231108335,\"physicalConfigurationId\":10228231107425,\"siteId\":101053494751,\"site\":\"S-360 Arena\",\"siteAddress\":{\"firstAddressLine\":\"Route des Plaines-du-Loup 7\",\"zipCode\":\"1018\",\"locality\":\"Lausanne\",\"countryCode\":\"CH\",\"phoneNumber\":\"41-0213151414\",\"gpsLatitude\":\"46.5333333\",\"gpsLongitude\":\"6.6241666999999325\",\"website\":\"http://www.secutix.com\"},\"space\":\"Home arena suites\",\"contingentId\":101053494560,\"contingent\":\"VIP\",\"numbered\":false,\"seatCategoryId\":10228231108132,\"seatCategory\":\"Cat 2\",\"seatCategoryRank\":1,\"audienceSubCategoryId\":10228231110152,\"audienceSubCategory\":\"VIP\",\"audienceSubCategoryRank\":1,\"audienceSubCategoryRequireAttachment\":false,\"vatRate\":8000,\"vatCountryCode\":\"CH\",\"selfPaidVat\":false,\"operationNumber\":2,\"productFamilyType\":\"SINGLE_ENTRY\",\"productFamilySubType\":\"SPORTING_EVENT\",\"activityType\":\"SPORT\",\"performanceData\":{\"10228231109243\":\"2020-10-31T16:00:00+00:00\"},\"performanceDate\":\"2020-10-31T16:00:00+00:00\",\"performanceDuration\":7200,\"itemDisplayExternalDesignation\":\"Arena Suite Dining\",\"locations\":[{\"spaceCode\":\"Suites\",\"siteCode\":\"Arena\",\"spaceExternalName\":{\"translations\":[{\"locale\":\"en\",\"value\":\"Home arena suites\"}]},\"siteExternalName\":{\"translations\":[{\"locale\":\"en\",\"value\":\"S-360 Arena\"},{\"locale\":\"fr\",\"value\":\"Ar?ne S-360\"}]},\"siteAddress\":{\"firstAddressLine\":\"Route des Plaines-du-Loup 7\",\"zipCode\":\"1018\",\"locality\":\"Lausanne\",\"countryCode\":\"CH\",\"phoneNumber\":\"41-0213151414\",\"gpsLatitude\":\"46.5333333\",\"gpsLongitude\":\"6.6241666999999325\",\"website\":\"http://www.secutix.com\"}}],\"fileId\":5464,\"match\":{\"finalDate\":true,\"roundCode\":\"J1\",\"roundRank\":1,\"hostTeamId\":101053521731,\"opposingTeamId\":101053521720,\"round\":\"Day 1\",\"hostTeam\":\"Team Play\",\"opposingTeam\":\"Athletico Fedora\"},\"withoutVatTotalAmount\":37040,\"totalAmount\":40000,\"performanceKind\":\"Default\",\"waitingAccountBalance\":0,\"season\":\"Current season\",\"crossSellParentOperationIds\":[],\"comfortVariableValues\":{\"PrioPts\":{\"translations\":[{\"locale\":\"en\",\"value\":\"0\"}]}},\"performanceCode\":\"ASTDN\",\"audienceCatId\":15655,\"seatCategoryBgColor\":\"FF8000\",\"seatCategoryTextColor\":\"000000\",\"exchangeable\":false,\"isNominative\":false}],\"movementDatas\":[{\"movementId\":10228310724638,\"operationId\":10228310724422,\"barcode\":\"278777501804038390760100\",\"taxNumber\":\"01010089510\",\"type\":\"AREA\",\"seatCategoryId\":10228231108132,\"seatCategory\":\"Cat 2\",\"contingentId\":101053494560,\"contingent\":\"VIP\",\"areaId\":10228231107526,\"saleAreaId\":10228231107931,\"area\":\"Arena suite\",\"contactReference\":\"10912\",\"areaKind\":\"INDIFFERENT\",\"resumed\":false,\"attributionMatch\":\"NO_EXPECTATION\",\"externalReferences\":[]},{\"movementId\":10228310724637,\"operationId\":10228310724422,\"barcode\":\"337510583739402222630181\",\"taxNumber\":\"01010089509\",\"type\":\"AREA\",\"seatCategoryId\":10228231108132,\"seatCategory\":\"Cat 2\",\"contingentId\":101053494560,\"contingent\":\"VIP\",\"areaId\":10228231107526,\"saleAreaId\":10228231107931,\"area\":\"Arena suite\",\"contactReference\":\"10912\",\"areaKind\":\"INDIFFERENT\",\"resumed\":false,\"attributionMatch\":\"NO_EXPECTATION\",\"externalReferences\":[]}],\"movementTicketDatas\":[{\"movementId\":10228310724638,\"ticketId\":10228310723729,\"ticketState\":\"NOT_PRINTED\",\"barcode\":\"278777501804038390760100\",\"taxNumber\":\"01010089510\",\"contactReference\":\"10912\",\"ticketSupport\":\"THERMAL\",\"linkedToTicketDistribution\":false},{\"movementId\":10228310724637,\"ticketId\":10228310723728,\"ticketState\":\"NOT_PRINTED\",\"barcode\":\"337510583739402222630181\",\"taxNumber\":\"01010089509\",\"contactReference\":\"10912\",\"ticketSupport\":\"THERMAL\",\"linkedToTicketDistribution\":false}],\"contactReference\":\"10912\",\"salesChannelName\":{\"translations\":[{\"locale\":\"en\",\"value\":\"Box office - Test\"},{\"locale\":\"fr\",\"value\":\"Guichet\"},{\"locale\":\"ca\",\"value\":\"Kasse\"}]},\"orderType\":\"SALE\",\"generatedContiguities\":[],\"orderOriginData\":{\"countryCode\":\"ES\",\"zipCode\":\"18010\",\"toCreateToken\":false},\"salesChannelType\":\"BOXOFFICE\",\"orderInstallmentsToCreate\":[{\"orderId\":10000702652,\"dueDate\":\"2020-11-11T23:00:00+00:00\",\"dueAmount\":40000,\"paidAmount\":0}],\"orderSecretId\":\"851b3217-c963-430a-b4fd-36d6a28fb504_10000702652\",\"orderOriginator\":\"SALE\",\"salesChannelCode\":\"BO\",\"catalogCurrency\":{\"currencyCode\":\"EUR\",\"symbol\":\"?\",\"fractionDigit\":2,\"minAmount\":10},\"organizationCode\":\"PLAY\",\"organizationName\":{\"translations\":[{\"locale\":\"en\",\"value\":\"MPLAY - TEST\"},{\"locale\":\"fr\",\"value\":\"MPLAY - TEST\"}]}},\"orderDetailGranularity\":\"TICKET\"}]\n",
      "<class 'str'>\n",
      " \n",
      "[{'orderDetailsData': {'orderId': 10000702652, 'orderState': 'CLOSED', 'creationDateTime': '2020-10-13T10:09:27.503+00:00', 'referenceDate': '2020-10-12T22:00:00+00:00', 'expirationDate': '2020-10-13T10:32:33.738+00:00', 'saleAmount': 40000, 'preSaleAmount': 0, 'reservationAmount': 0, 'optionAmount': 0, 'waitingAccountBalanceAmount': 0, 'operationDatas': [{'operationId': 10228310724422, 'kind': 'SINGLE_ENTRY', 'quantity': 2, 'basePrice': 20000, 'unitPrice': 20000, 'productId': 10228231108335, 'product': 'Arena Suite Dining', 'productCode': 'ASTDN', 'itemId': 10228231110052, 'performanceId': 10228231109243, 'performance': 'Arena Suite Dining', 'eventId': 10228231108335, 'physicalConfigurationId': 10228231107425, 'siteId': 101053494751, 'site': 'S-360 Arena', 'siteAddress': {'firstAddressLine': 'Route des Plaines-du-Loup 7', 'zipCode': '1018', 'locality': 'Lausanne', 'countryCode': 'CH', 'phoneNumber': '41-0213151414', 'gpsLatitude': '46.5333333', 'gpsLongitude': '6.6241666999999325', 'website': 'http://www.secutix.com'}, 'space': 'Home arena suites', 'contingentId': 101053494560, 'contingent': 'VIP', 'numbered': False, 'seatCategoryId': 10228231108132, 'seatCategory': 'Cat 2', 'seatCategoryRank': 1, 'audienceSubCategoryId': 10228231110152, 'audienceSubCategory': 'VIP', 'audienceSubCategoryRank': 1, 'audienceSubCategoryRequireAttachment': False, 'vatRate': 8000, 'vatCountryCode': 'CH', 'selfPaidVat': False, 'operationNumber': 2, 'productFamilyType': 'SINGLE_ENTRY', 'productFamilySubType': 'SPORTING_EVENT', 'activityType': 'SPORT', 'performanceData': {'10228231109243': '2020-10-31T16:00:00+00:00'}, 'performanceDate': '2020-10-31T16:00:00+00:00', 'performanceDuration': 7200, 'itemDisplayExternalDesignation': 'Arena Suite Dining', 'locations': [{'spaceCode': 'Suites', 'siteCode': 'Arena', 'spaceExternalName': {'translations': [{'locale': 'en', 'value': 'Home arena suites'}]}, 'siteExternalName': {'translations': [{'locale': 'en', 'value': 'S-360 Arena'}, {'locale': 'fr', 'value': 'Ar?ne S-360'}]}, 'siteAddress': {'firstAddressLine': 'Route des Plaines-du-Loup 7', 'zipCode': '1018', 'locality': 'Lausanne', 'countryCode': 'CH', 'phoneNumber': '41-0213151414', 'gpsLatitude': '46.5333333', 'gpsLongitude': '6.6241666999999325', 'website': 'http://www.secutix.com'}}], 'fileId': 5464, 'match': {'finalDate': True, 'roundCode': 'J1', 'roundRank': 1, 'hostTeamId': 101053521731, 'opposingTeamId': 101053521720, 'round': 'Day 1', 'hostTeam': 'Team Play', 'opposingTeam': 'Athletico Fedora'}, 'withoutVatTotalAmount': 37040, 'totalAmount': 40000, 'performanceKind': 'Default', 'waitingAccountBalance': 0, 'season': 'Current season', 'crossSellParentOperationIds': [], 'comfortVariableValues': {'PrioPts': {'translations': [{'locale': 'en', 'value': '0'}]}}, 'performanceCode': 'ASTDN', 'audienceCatId': 15655, 'seatCategoryBgColor': 'FF8000', 'seatCategoryTextColor': '000000', 'exchangeable': False, 'isNominative': False}], 'movementDatas': [{'movementId': 10228310724638, 'operationId': 10228310724422, 'barcode': '278777501804038390760100', 'taxNumber': '01010089510', 'type': 'AREA', 'seatCategoryId': 10228231108132, 'seatCategory': 'Cat 2', 'contingentId': 101053494560, 'contingent': 'VIP', 'areaId': 10228231107526, 'saleAreaId': 10228231107931, 'area': 'Arena suite', 'contactReference': '10912', 'areaKind': 'INDIFFERENT', 'resumed': False, 'attributionMatch': 'NO_EXPECTATION', 'externalReferences': []}, {'movementId': 10228310724637, 'operationId': 10228310724422, 'barcode': '337510583739402222630181', 'taxNumber': '01010089509', 'type': 'AREA', 'seatCategoryId': 10228231108132, 'seatCategory': 'Cat 2', 'contingentId': 101053494560, 'contingent': 'VIP', 'areaId': 10228231107526, 'saleAreaId': 10228231107931, 'area': 'Arena suite', 'contactReference': '10912', 'areaKind': 'INDIFFERENT', 'resumed': False, 'attributionMatch': 'NO_EXPECTATION', 'externalReferences': []}], 'movementTicketDatas': [{'movementId': 10228310724638, 'ticketId': 10228310723729, 'ticketState': 'NOT_PRINTED', 'barcode': '278777501804038390760100', 'taxNumber': '01010089510', 'contactReference': '10912', 'ticketSupport': 'THERMAL', 'linkedToTicketDistribution': False}, {'movementId': 10228310724637, 'ticketId': 10228310723728, 'ticketState': 'NOT_PRINTED', 'barcode': '337510583739402222630181', 'taxNumber': '01010089509', 'contactReference': '10912', 'ticketSupport': 'THERMAL', 'linkedToTicketDistribution': False}], 'contactReference': '10912', 'salesChannelName': {'translations': [{'locale': 'en', 'value': 'Box office - Test'}, {'locale': 'fr', 'value': 'Guichet'}, {'locale': 'ca', 'value': 'Kasse'}]}, 'orderType': 'SALE', 'generatedContiguities': [], 'orderOriginData': {'countryCode': 'ES', 'zipCode': '18010', 'toCreateToken': False}, 'salesChannelType': 'BOXOFFICE', 'orderInstallmentsToCreate': [{'orderId': 10000702652, 'dueDate': '2020-11-11T23:00:00+00:00', 'dueAmount': 40000, 'paidAmount': 0}], 'orderSecretId': '851b3217-c963-430a-b4fd-36d6a28fb504_10000702652', 'orderOriginator': 'SALE', 'salesChannelCode': 'BO', 'catalogCurrency': {'currencyCode': 'EUR', 'symbol': '?', 'fractionDigit': 2, 'minAmount': 10}, 'organizationCode': 'PLAY', 'organizationName': {'translations': [{'locale': 'en', 'value': 'MPLAY - TEST'}, {'locale': 'fr', 'value': 'MPLAY - TEST'}]}}, 'orderDetailGranularity': 'TICKET'}]\n",
      "<class 'list'>\n",
      " \n",
      "{'orderDetailsData': {'orderId': 10000702652, 'orderState': 'CLOSED', 'creationDateTime': '2020-10-13T10:09:27.503+00:00', 'referenceDate': '2020-10-12T22:00:00+00:00', 'expirationDate': '2020-10-13T10:32:33.738+00:00', 'saleAmount': 40000, 'preSaleAmount': 0, 'reservationAmount': 0, 'optionAmount': 0, 'waitingAccountBalanceAmount': 0, 'operationDatas': [{'operationId': 10228310724422, 'kind': 'SINGLE_ENTRY', 'quantity': 2, 'basePrice': 20000, 'unitPrice': 20000, 'productId': 10228231108335, 'product': 'Arena Suite Dining', 'productCode': 'ASTDN', 'itemId': 10228231110052, 'performanceId': 10228231109243, 'performance': 'Arena Suite Dining', 'eventId': 10228231108335, 'physicalConfigurationId': 10228231107425, 'siteId': 101053494751, 'site': 'S-360 Arena', 'siteAddress': {'firstAddressLine': 'Route des Plaines-du-Loup 7', 'zipCode': '1018', 'locality': 'Lausanne', 'countryCode': 'CH', 'phoneNumber': '41-0213151414', 'gpsLatitude': '46.5333333', 'gpsLongitude': '6.6241666999999325', 'website': 'http://www.secutix.com'}, 'space': 'Home arena suites', 'contingentId': 101053494560, 'contingent': 'VIP', 'numbered': False, 'seatCategoryId': 10228231108132, 'seatCategory': 'Cat 2', 'seatCategoryRank': 1, 'audienceSubCategoryId': 10228231110152, 'audienceSubCategory': 'VIP', 'audienceSubCategoryRank': 1, 'audienceSubCategoryRequireAttachment': False, 'vatRate': 8000, 'vatCountryCode': 'CH', 'selfPaidVat': False, 'operationNumber': 2, 'productFamilyType': 'SINGLE_ENTRY', 'productFamilySubType': 'SPORTING_EVENT', 'activityType': 'SPORT', 'performanceData': {'10228231109243': '2020-10-31T16:00:00+00:00'}, 'performanceDate': '2020-10-31T16:00:00+00:00', 'performanceDuration': 7200, 'itemDisplayExternalDesignation': 'Arena Suite Dining', 'locations': [{'spaceCode': 'Suites', 'siteCode': 'Arena', 'spaceExternalName': {'translations': [{'locale': 'en', 'value': 'Home arena suites'}]}, 'siteExternalName': {'translations': [{'locale': 'en', 'value': 'S-360 Arena'}, {'locale': 'fr', 'value': 'Ar?ne S-360'}]}, 'siteAddress': {'firstAddressLine': 'Route des Plaines-du-Loup 7', 'zipCode': '1018', 'locality': 'Lausanne', 'countryCode': 'CH', 'phoneNumber': '41-0213151414', 'gpsLatitude': '46.5333333', 'gpsLongitude': '6.6241666999999325', 'website': 'http://www.secutix.com'}}], 'fileId': 5464, 'match': {'finalDate': True, 'roundCode': 'J1', 'roundRank': 1, 'hostTeamId': 101053521731, 'opposingTeamId': 101053521720, 'round': 'Day 1', 'hostTeam': 'Team Play', 'opposingTeam': 'Athletico Fedora'}, 'withoutVatTotalAmount': 37040, 'totalAmount': 40000, 'performanceKind': 'Default', 'waitingAccountBalance': 0, 'season': 'Current season', 'crossSellParentOperationIds': [], 'comfortVariableValues': {'PrioPts': {'translations': [{'locale': 'en', 'value': '0'}]}}, 'performanceCode': 'ASTDN', 'audienceCatId': 15655, 'seatCategoryBgColor': 'FF8000', 'seatCategoryTextColor': '000000', 'exchangeable': False, 'isNominative': False}], 'movementDatas': [{'movementId': 10228310724638, 'operationId': 10228310724422, 'barcode': '278777501804038390760100', 'taxNumber': '01010089510', 'type': 'AREA', 'seatCategoryId': 10228231108132, 'seatCategory': 'Cat 2', 'contingentId': 101053494560, 'contingent': 'VIP', 'areaId': 10228231107526, 'saleAreaId': 10228231107931, 'area': 'Arena suite', 'contactReference': '10912', 'areaKind': 'INDIFFERENT', 'resumed': False, 'attributionMatch': 'NO_EXPECTATION', 'externalReferences': []}, {'movementId': 10228310724637, 'operationId': 10228310724422, 'barcode': '337510583739402222630181', 'taxNumber': '01010089509', 'type': 'AREA', 'seatCategoryId': 10228231108132, 'seatCategory': 'Cat 2', 'contingentId': 101053494560, 'contingent': 'VIP', 'areaId': 10228231107526, 'saleAreaId': 10228231107931, 'area': 'Arena suite', 'contactReference': '10912', 'areaKind': 'INDIFFERENT', 'resumed': False, 'attributionMatch': 'NO_EXPECTATION', 'externalReferences': []}], 'movementTicketDatas': [{'movementId': 10228310724638, 'ticketId': 10228310723729, 'ticketState': 'NOT_PRINTED', 'barcode': '278777501804038390760100', 'taxNumber': '01010089510', 'contactReference': '10912', 'ticketSupport': 'THERMAL', 'linkedToTicketDistribution': False}, {'movementId': 10228310724637, 'ticketId': 10228310723728, 'ticketState': 'NOT_PRINTED', 'barcode': '337510583739402222630181', 'taxNumber': '01010089509', 'contactReference': '10912', 'ticketSupport': 'THERMAL', 'linkedToTicketDistribution': False}], 'contactReference': '10912', 'salesChannelName': {'translations': [{'locale': 'en', 'value': 'Box office - Test'}, {'locale': 'fr', 'value': 'Guichet'}, {'locale': 'ca', 'value': 'Kasse'}]}, 'orderType': 'SALE', 'generatedContiguities': [], 'orderOriginData': {'countryCode': 'ES', 'zipCode': '18010', 'toCreateToken': False}, 'salesChannelType': 'BOXOFFICE', 'orderInstallmentsToCreate': [{'orderId': 10000702652, 'dueDate': '2020-11-11T23:00:00+00:00', 'dueAmount': 40000, 'paidAmount': 0}], 'orderSecretId': '851b3217-c963-430a-b4fd-36d6a28fb504_10000702652', 'orderOriginator': 'SALE', 'salesChannelCode': 'BO', 'catalogCurrency': {'currencyCode': 'EUR', 'symbol': '?', 'fractionDigit': 2, 'minAmount': 10}, 'organizationCode': 'PLAY', 'organizationName': {'translations': [{'locale': 'en', 'value': 'MPLAY - TEST'}, {'locale': 'fr', 'value': 'MPLAY - TEST'}]}}, 'orderDetailGranularity': 'TICKET'}\n",
      "<class 'dict'>\n",
      " \n",
      "orderState: CLOSED\n",
      "contactReference: 10912\n",
      "{\"orderDetailsData\": {\"orderId\": 10000702652, \"orderState\": \"CLOSED\", \"creationDateTime\": \"2020-10-13T10:09:27.503+00:00\", \"referenceDate\": \"2020-10-12T22:00:00+00:00\", \"expirationDate\": \"2020-10-13T10:32:33.738+00:00\", \"saleAmount\": 40000, \"preSaleAmount\": 0, \"reservationAmount\": 0, \"optionAmount\": 0, \"waitingAccountBalanceAmount\": 0, \"operationDatas\": [{\"operationId\": 10228310724422, \"kind\": \"SINGLE_ENTRY\", \"quantity\": 2, \"basePrice\": 20000, \"unitPrice\": 20000, \"productId\": 10228231108335, \"product\": \"Arena Suite Dining\", \"productCode\": \"ASTDN\", \"itemId\": 10228231110052, \"performanceId\": 10228231109243, \"performance\": \"Arena Suite Dining\", \"eventId\": 10228231108335, \"physicalConfigurationId\": 10228231107425, \"siteId\": 101053494751, \"site\": \"S-360 Arena\", \"siteAddress\": {\"firstAddressLine\": \"Route des Plaines-du-Loup 7\", \"zipCode\": \"1018\", \"locality\": \"Lausanne\", \"countryCode\": \"CH\", \"phoneNumber\": \"41-0213151414\", \"gpsLatitude\": \"46.5333333\", \"gpsLongitude\": \"6.6241666999999325\", \"website\": \"http://www.secutix.com\"}, \"space\": \"Home arena suites\", \"contingentId\": 101053494560, \"contingent\": \"VIP\", \"numbered\": false, \"seatCategoryId\": 10228231108132, \"seatCategory\": \"Cat 2\", \"seatCategoryRank\": 1, \"audienceSubCategoryId\": 10228231110152, \"audienceSubCategory\": \"VIP\", \"audienceSubCategoryRank\": 1, \"audienceSubCategoryRequireAttachment\": false, \"vatRate\": 8000, \"vatCountryCode\": \"CH\", \"selfPaidVat\": false, \"operationNumber\": 2, \"productFamilyType\": \"SINGLE_ENTRY\", \"productFamilySubType\": \"SPORTING_EVENT\", \"activityType\": \"SPORT\", \"performanceData\": {\"10228231109243\": \"2020-10-31T16:00:00+00:00\"}, \"performanceDate\": \"2020-10-31T16:00:00+00:00\", \"performanceDuration\": 7200, \"itemDisplayExternalDesignation\": \"Arena Suite Dining\", \"locations\": [{\"spaceCode\": \"Suites\", \"siteCode\": \"Arena\", \"spaceExternalName\": {\"translations\": [{\"locale\": \"en\", \"value\": \"Home arena suites\"}]}, \"siteExternalName\": {\"translations\": [{\"locale\": \"en\", \"value\": \"S-360 Arena\"}, {\"locale\": \"fr\", \"value\": \"Ar?ne S-360\"}]}, \"siteAddress\": {\"firstAddressLine\": \"Route des Plaines-du-Loup 7\", \"zipCode\": \"1018\", \"locality\": \"Lausanne\", \"countryCode\": \"CH\", \"phoneNumber\": \"41-0213151414\", \"gpsLatitude\": \"46.5333333\", \"gpsLongitude\": \"6.6241666999999325\", \"website\": \"http://www.secutix.com\"}}], \"fileId\": 5464, \"match\": {\"finalDate\": true, \"roundCode\": \"J1\", \"roundRank\": 1, \"hostTeamId\": 101053521731, \"opposingTeamId\": 101053521720, \"round\": \"Day 1\", \"hostTeam\": \"Team Play\", \"opposingTeam\": \"Athletico Fedora\"}, \"withoutVatTotalAmount\": 37040, \"totalAmount\": 40000, \"performanceKind\": \"Default\", \"waitingAccountBalance\": 0, \"season\": \"Current season\", \"crossSellParentOperationIds\": [], \"comfortVariableValues\": {\"PrioPts\": {\"translations\": [{\"locale\": \"en\", \"value\": \"0\"}]}}, \"performanceCode\": \"ASTDN\", \"audienceCatId\": 15655, \"seatCategoryBgColor\": \"FF8000\", \"seatCategoryTextColor\": \"000000\", \"exchangeable\": false, \"isNominative\": false}], \"movementDatas\": [{\"movementId\": 10228310724638, \"operationId\": 10228310724422, \"barcode\": \"278777501804038390760100\", \"taxNumber\": \"01010089510\", \"type\": \"AREA\", \"seatCategoryId\": 10228231108132, \"seatCategory\": \"Cat 2\", \"contingentId\": 101053494560, \"contingent\": \"VIP\", \"areaId\": 10228231107526, \"saleAreaId\": 10228231107931, \"area\": \"Arena suite\", \"contactReference\": \"10912\", \"areaKind\": \"INDIFFERENT\", \"resumed\": false, \"attributionMatch\": \"NO_EXPECTATION\", \"externalReferences\": []}, {\"movementId\": 10228310724637, \"operationId\": 10228310724422, \"barcode\": \"337510583739402222630181\", \"taxNumber\": \"01010089509\", \"type\": \"AREA\", \"seatCategoryId\": 10228231108132, \"seatCategory\": \"Cat 2\", \"contingentId\": 101053494560, \"contingent\": \"VIP\", \"areaId\": 10228231107526, \"saleAreaId\": 10228231107931, \"area\": \"Arena suite\", \"contactReference\": \"10912\", \"areaKind\": \"INDIFFERENT\", \"resumed\": false, \"attributionMatch\": \"NO_EXPECTATION\", \"externalReferences\": []}], \"movementTicketDatas\": [{\"movementId\": 10228310724638, \"ticketId\": 10228310723729, \"ticketState\": \"NOT_PRINTED\", \"barcode\": \"278777501804038390760100\", \"taxNumber\": \"01010089510\", \"contactReference\": \"10912\", \"ticketSupport\": \"THERMAL\", \"linkedToTicketDistribution\": false}, {\"movementId\": 10228310724637, \"ticketId\": 10228310723728, \"ticketState\": \"NOT_PRINTED\", \"barcode\": \"337510583739402222630181\", \"taxNumber\": \"01010089509\", \"contactReference\": \"10912\", \"ticketSupport\": \"THERMAL\", \"linkedToTicketDistribution\": false}], \"contactReference\": \"10912\", \"salesChannelName\": {\"translations\": [{\"locale\": \"en\", \"value\": \"Box office - Test\"}, {\"locale\": \"fr\", \"value\": \"Guichet\"}, {\"locale\": \"ca\", \"value\": \"Kasse\"}]}, \"orderType\": \"SALE\", \"generatedContiguities\": [], \"orderOriginData\": {\"countryCode\": \"ES\", \"zipCode\": \"18010\", \"toCreateToken\": false}, \"salesChannelType\": \"BOXOFFICE\", \"orderInstallmentsToCreate\": [{\"orderId\": 10000702652, \"dueDate\": \"2020-11-11T23:00:00+00:00\", \"dueAmount\": 40000, \"paidAmount\": 0}], \"orderSecretId\": \"851b3217-c963-430a-b4fd-36d6a28fb504_10000702652\", \"orderOriginator\": \"SALE\", \"salesChannelCode\": \"BO\", \"catalogCurrency\": {\"currencyCode\": \"EUR\", \"symbol\": \"?\", \"fractionDigit\": 2, \"minAmount\": 10}, \"organizationCode\": \"PLAY\", \"organizationName\": {\"translations\": [{\"locale\": \"en\", \"value\": \"MPLAY - TEST\"}, {\"locale\": \"fr\", \"value\": \"MPLAY - TEST\"}]}}, \"orderDetailGranularity\": \"TICKET\"}\n",
      "<class 'str'>\n",
      " \n"
     ]
    }
   ],
   "source": [
    "# Supongamos que tienes un DataFrame con datos JSON en el campo 'campo_json'\n",
    "#json_data = {\"orderDetailsData\":{\"orderId\":10000702652,\"orderState\":\"CLOSED\",\"creationDateTime\":\"2020-10-13T10:09:27.503+00:00\",\"referenceDate\":\"2020-10-12T22:00:00+00:00\",\"expirationDate\":\"2020-10-13T10:32:33.738+00:00\",\"saleAmount\":40000,\"preSaleAmount\":0,\"reservationAmount\":0,\"optionAmount\":0,\"waitingAccountBalanceAmount\":0,\"operationDatas\":[{\"operationId\":10228310724422,\"kind\":\"SINGLE_ENTRY\",\"quantity\":2,\"basePrice\":20000,\"unitPrice\":20000,\"productId\":10228231108335,\"product\":\"Arena Suite Dining\",\"productCode\":\"ASTDN\",\"itemId\":10228231110052,\"performanceId\":10228231109243,\"performance\":\"Arena Suite Dining\",\"eventId\":10228231108335,\"physicalConfigurationId\":10228231107425,\"siteId\":101053494751,\"site\":\"S-360 Arena\",\"siteAddress\":{\"firstAddressLine\":\"Route des Plaines-du-Loup 7\",\"zipCode\":\"1018\",\"locality\":\"Lausanne\",\"countryCode\":\"CH\",\"phoneNumber\":\"41-0213151414\",\"gpsLatitude\":\"46.5333333\",\"gpsLongitude\":\"6.6241666999999325\",\"website\":\"http://www.secutix.com\"},\"space\":\"Home arena suites\",\"contingentId\":101053494560,\"contingent\":\"VIP\",\"numbered\":False,\"seatCategoryId\":10228231108132,\"seatCategory\":\"Cat 2\",\"seatCategoryRank\":1,\"audienceSubCategoryId\":10228231110152,\"audienceSubCategory\":\"VIP\",\"audienceSubCategoryRank\":1,\"audienceSubCategoryRequireAttachment\":False,\"vatRate\":8000,\"vatCountryCode\":\"CH\",\"selfPaidVat\":False,\"operationNumber\":2,\"productFamilyType\":\"SINGLE_ENTRY\",\"productFamilySubType\":\"SPORTING_EVENT\",\"activityType\":\"SPORT\",\"performanceData\":{\"10228231109243\":\"2020-10-31T16:00:00+00:00\"},\"performanceDate\":\"2020-10-31T16:00:00+00:00\",\"performanceDuration\":7200,\"itemDisplayExternalDesignation\":\"Arena Suite Dining\",\"locations\":[{\"spaceCode\":\"Suites\",\"siteCode\":\"Arena\",\"spaceExternalName\":{\"translations\":[{\"locale\":\"en\",\"value\":\"Home arena suites\"}]},\"siteExternalName\":{\"translations\":[{\"locale\":\"en\",\"value\":\"S-360 Arena\"},{\"locale\":\"fr\",\"value\":\"Ar?ne S-360\"}]},\"siteAddress\":{\"firstAddressLine\":\"Route des Plaines-du-Loup 7\",\"zipCode\":\"1018\",\"locality\":\"Lausanne\",\"countryCode\":\"CH\",\"phoneNumber\":\"41-0213151414\",\"gpsLatitude\":\"46.5333333\",\"gpsLongitude\":\"6.6241666999999325\",\"website\":\"http://www.secutix.com\"}}],\"fileId\":5464,\"match\":{\"finalDate\":True,\"roundCode\":\"J1\",\"roundRank\":1,\"hostTeamId\":101053521731,\"opposingTeamId\":101053521720,\"round\":\"Day 1\",\"hostTeam\":\"Team Play\",\"opposingTeam\":\"Athletico Fedora\"},\"withoutVatTotalAmount\":37040,\"totalAmount\":40000,\"performanceKind\":\"Default\",\"waitingAccountBalance\":0,\"season\":\"Current season\",\"crossSellParentOperationIds\":[],\"comfortVariableValues\":{\"PrioPts\":{\"translations\":[{\"locale\":\"en\",\"value\":\"0\"}]}},\"performanceCode\":\"ASTDN\",\"audienceCatId\":15655,\"seatCategoryBgColor\":\"FF8000\",\"seatCategoryTextColor\":\"000000\",\"exchangeable\":False,\"isNominative\":False}],\"movementDatas\":[{\"movementId\":10228310724638,\"operationId\":10228310724422,\"barcode\":\"278777501804038390760100\",\"taxNumber\":\"01010089510\",\"type\":\"AREA\",\"seatCategoryId\":10228231108132,\"seatCategory\":\"Cat 2\",\"contingentId\":101053494560,\"contingent\":\"VIP\",\"areaId\":10228231107526,\"saleAreaId\":10228231107931,\"area\":\"Arena suite\",\"contactReference\":\"10912\",\"areaKind\":\"INDIFFERENT\",\"resumed\":False,\"attributionMatch\":\"NO_EXPECTATION\",\"externalReferences\":[]},{\"movementId\":10228310724637,\"operationId\":10228310724422,\"barcode\":\"337510583739402222630181\",\"taxNumber\":\"01010089509\",\"type\":\"AREA\",\"seatCategoryId\":10228231108132,\"seatCategory\":\"Cat 2\",\"contingentId\":101053494560,\"contingent\":\"VIP\",\"areaId\":10228231107526,\"saleAreaId\":10228231107931,\"area\":\"Arena suite\",\"contactReference\":\"10912\",\"areaKind\":\"INDIFFERENT\",\"resumed\":False,\"attributionMatch\":\"NO_EXPECTATION\",\"externalReferences\":[]}],\"movementTicketDatas\":[{\"movementId\":10228310724638,\"ticketId\":10228310723729,\"ticketState\":\"NOT_PRINTED\",\"barcode\":\"278777501804038390760100\",\"taxNumber\":\"01010089510\",\"contactReference\":\"10912\",\"ticketSupport\":\"THERMAL\",\"linkedToTicketDistribution\":False},{\"movementId\":10228310724637,\"ticketId\":10228310723728,\"ticketState\":\"NOT_PRINTED\",\"barcode\":\"337510583739402222630181\",\"taxNumber\":\"01010089509\",\"contactReference\":\"10912\",\"ticketSupport\":\"THERMAL\",\"linkedToTicketDistribution\":False}],\"contactReference\":\"10912\",\"salesChannelName\":{\"translations\":[{\"locale\":\"en\",\"value\":\"Box office - Test\"},{\"locale\":\"fr\",\"value\":\"Guichet\"},{\"locale\":\"ca\",\"value\":\"Kasse\"}]},\"orderType\":\"SALE\",\"generatedContiguities\":[],\"orderOriginData\":{\"countryCode\":\"ES\",\"zipCode\":\"18010\",\"toCreateToken\":False},\"salesChannelType\":\"BOXOFFICE\",\"orderInstallmentsToCreate\":[{\"orderId\":10000702652,\"dueDate\":\"2020-11-11T23:00:00+00:00\",\"dueAmount\":40000,\"paidAmount\":0}],\"orderSecretId\":\"851b3217-c963-430a-b4fd-36d6a28fb504_10000702652\",\"orderOriginator\":\"SALE\",\"salesChannelCode\":\"BO\",\"catalogCurrency\":{\"currencyCode\":\"EUR\",\"symbol\":\"?\",\"fractionDigit\":2,\"minAmount\":10},\"organizationCode\":\"PLAY\",\"organizationName\":{\"translations\":[{\"locale\":\"en\",\"value\":\"MPLAY - TEST\"},{\"locale\":\"fr\",\"value\":\"MPLAY - TEST\"}]}},\"orderDetailGranularity\":\"TICKET\"}\n",
    "\n",
    "# Obtener la cadena JSON de la posición específica en el DataFrame\n",
    "json_data = tb_ini.iloc[0,1]\n",
    "print(json_data)\n",
    "print(type(json_data))\n",
    "print(' ')\n",
    "\n",
    "# Convertir la cadena JSON a un diccionario Python, sin esto, es un tipo str y no es accesible\n",
    "json_data = json.loads(json_data)\n",
    "print(json_data)\n",
    "print(type(json_data))\n",
    "print(' ')\n",
    "\n",
    "# El primer elemento de la lista es un diccionario cuando json_data es lista\n",
    "json_data = json_data[0]\n",
    "print(json_data)\n",
    "print(type(json_data))\n",
    "print(' ')\n",
    "\n",
    "# Obtener los valores de 'orderState' y 'contactReference'\n",
    "order_state = json_data['orderDetailsData'].get('orderState')\n",
    "contact_reference = json_data['orderDetailsData'].get('contactReference')\n",
    "\n",
    "# Imprimir los valores\n",
    "print(f\"orderState: {order_state}\")\n",
    "print(f\"contactReference: {contact_reference}\")\n",
    "\n",
    "\n",
    "# Convierte el objeto 'dict' to str\n",
    "json_data_dumped = json.dumps(json_data)\n",
    "print(json_data_dumped)\n",
    "print(type(json_data_dumped))\n",
    "print(' ')\n"
   ]
  },
  {
   "cell_type": "code",
   "execution_count": 29,
   "metadata": {},
   "outputs": [
    {
     "name": "stdout",
     "output_type": "stream",
     "text": [
      "{\"orderDetailGranularity\":\"TICKET\",\"orderDetailsData\":{\"orderId\":27627051,\"orderState\":\"ABANDONNED\",\"creationDateTime\":\"2023-11-30T09:19:13.45Z\",\"referenceDate\":\"2023-11-30T00:00:00Z\",\"expirationDate\":\"2023-11-30T15:30:37.544Z\",\"saleAmount\":0,\"preSaleAmount\":0,\"reservationAmount\":0,\"optionAmount\":0,\"waitingAccountBalanceAmount\":0,\"operationDatas\":[{\"operationId\":10229444458720,\"kind\":\"SINGLE_ENTRY\",\"type\":\"ABANDON\",\"quantity\":2,\"basePrice\":112900000,\"unitPrice\":112900000,\"withoutVatTotalAmount\":225800000,\"totalAmount\":225800000,\"productId\":10229375846279,\"product\":\"‘QUEEN’ – Llena tu Cabeza de Rock y el Coro Filarmónico\",\"productCode\":\"BTMQUEE\",\"itemId\":10229381726241,\"performanceId\":10229375649953,\"performance\":\"‘QUEEN’ – Llena tu Cabeza de Rock y el Coro Filarmónico\",\"eventId\":10229375846279,\"physicalConfigurationId\":10228710786223,\"siteId\":101422130814,\"site\":\"Teatro Mayor - Cl. 170 #67-51\",\"siteAddress\":{\"countryCode\":\"CO\",\"firstAddressLine\":\"Cl. 170 # 67-51, Bogotá\",\"gpsLatitude\":\"@4.6804451\",\"gpsLongitude\":\"-74.1342946\",\"locality\":\"BOGOTA\",\"phoneNumber\":\"57-3779840\",\"website\":\"https://www.teatromayor.org\",\"zipCode\":\"110111\"},\"space\":\"Teatro Mayor - Cl. 170 #67-51\",\"contingentId\":0,\"numbered\":true,\"seatCategoryId\":10228708717456,\"seatCategory\":\"Plateas laterales\",\"seatCategoryRank\":5,\"audienceSubCategoryId\":10228704664240,\"audienceSubCategory\":\"Adulto\",\"audienceSubCategoryRank\":1,\"audienceSubCategoryRequireAttachment\":false,\"vatRate\":0,\"vatCountryCode\":\"CO\",\"selfPaidVat\":false,\"operationNumber\":1,\"productFamilyType\":\"SINGLE_ENTRY\",\"productFamilySubType\":\"SIMPLE_TICKET\",\"activityType\":\"LIVE_SPECT\",\"performanceDate\":\"2023-12-10T01:00:00+00:00\",\"performanceDuration\":7200,\"itemDisplayExternalDesignation\":\"‘QUEEN’ – Llena tu Cabeza de Rock y el Coro Filarmónico\",\"locations\":[{\"siteAddress\":{\"countryCode\":\"CO\",\"firstAddressLine\":\"Cl. 170 # 67-51, Bogotá\",\"gpsLatitude\":\"@4.6804451\",\"gpsLongitude\":\"-74.1342946\",\"locality\":\"BOGOTA\",\"phoneNumber\":\"57-3779840\",\"website\":\"https://www.teatromayor.org\",\"zipCode\":\"110111\"},\"siteCode\":\"BGTEJM\",\"siteExternalName\":{\"translations\":[{\"locale\":\"es\",\"value\":\"Teatro Mayor - Cl. 170 #67-51\"}]},\"spaceCode\":\"TEMJMS\",\"spaceExternalName\":{\"translations\":[{\"locale\":\"es\",\"value\":\"Teatro Mayor - Cl. 170 #67-51\"}]}}],\"fileId\":14862798,\"waitingAccountBalance\":0,\"seatCategoryBgColor\":\"D6D600\",\"season\":\"2023\",\"crossSellParentOperationIds\":[],\"comfortVariableValues\":{\"VAR_RESP\":{\"translations\":[{\"locale\":\"es\",\"value\":\"FUNDACION AMIGOS DEL TEATRO MAYOR\"}]},\"VAR_PULE\":{\"translations\":[{\"locale\":\"es\",\"value\":\"BFJ354\"}]},\"VAR_NIT\":{\"translations\":[{\"locale\":\"es\",\"value\":\"890912395\"}]},\"VAR_AGES\":{\"translations\":[{\"locale\":\"es\",\"value\":\"5 AÑOS\"}]}},\"performanceCode\":\"BTMQUEE\",\"audienceCatId\":15655,\"exchangeable\":false,\"activityId\":10228698695006,\"activityName\":\"Programación Regular\",\"activityCode\":\"ProgRegu\",\"isNominative\":false},{\"operationId\":10229444458721,\"parentOperationId\":10229444458720,\"parentOperationLinkType\":\"CHARGES\",\"kind\":\"CHARGES\",\"type\":\"ABANDON\",\"quantity\":2,\"basePrice\":12100000,\"unitPrice\":12100000,\"withoutVatTotalAmount\":20336000,\"totalAmount\":24200000,\"productId\":10228711157597,\"product\":\"Servicio IVA incluido\",\"contingentId\":0,\"numbered\":false,\"audienceSubCategoryId\":10228704664240,\"audienceSubCategory\":\"Adulto\",\"audienceSubCategoryRank\":1,\"audienceSubCategoryRequireAttachment\":false,\"vatRate\":19000,\"vatCountryCode\":\"CO\",\"selfPaidVat\":false,\"operationNumber\":2,\"locations\":[],\"chargesType\":\"RESERVATION\",\"fileId\":14862798,\"waitingAccountBalance\":0,\"crossSellParentOperationIds\":[],\"comfortVariableValues\":{},\"audienceCatId\":15655,\"exchangeable\":false,\"isNominative\":false},{\"operationId\":10229444461335,\"kind\":\"SHIPPING_FEE\",\"type\":\"ABANDON\",\"quantity\":1,\"basePrice\":0,\"unitPrice\":0,\"withoutVatTotalAmount\":0,\"totalAmount\":0,\"productId\":101326740050,\"product\":\"E-ticket o Mobile Gratis\",\"contingentId\":0,\"numbered\":false,\"audienceSubCategoryRequireAttachment\":false,\"vatRate\":0,\"vatCountryCode\":\"CO\",\"selfPaidVat\":false,\"operationNumber\":3,\"locations\":[],\"fileId\":14862798,\"waitingAccountBalance\":0,\"crossSellParentOperationIds\":[],\"comfortVariableValues\":{},\"exchangeable\":false,\"isNominative\":false}],\"movementDatas\":[{\"movementId\":10229444442434,\"operationId\":10229444458720,\"type\":\"SEAT\",\"seatId\":10228711763598,\"saleSeatId\":10185670266,\"seatCategoryId\":10228708717456,\"seatCategory\":\"Plateas laterales\",\"areaId\":10228710334550,\"area\":\"PLATEA LATERAL IZQUIERDA\",\"entranceId\":10228710786434,\"entrance\":\"1\",\"entranceCode\":\"1\",\"row\":\"N\",\"seatNumber\":\"13\",\"seatQualityId\":2424,\"seatQuality\":\"Butaca\",\"seatQualityCode\":\"Fauteuil\",\"yCoordinate\":1337,\"xCoordinate\":2583,\"beneficiaryFirstname\":\"Alexander\",\"beneficiaryLastname\":\"BETANCUR\",\"contactReference\":\"4540902\",\"seatOrientation\":0,\"stageVisibility\":\"VISIBLE\",\"areaKind\":\"INDIFFERENT\",\"resumed\":false,\"attributionMatch\":\"NO_EXPECTATION\",\"beneficiaryIdNumber\":\"79686088\"},{\"movementId\":10229444442433,\"operationId\":10229444458720,\"type\":\"SEAT\",\"seatId\":10228711763364,\"saleSeatId\":10185670267,\"seatCategoryId\":10228708717456,\"seatCategory\":\"Plateas laterales\",\"areaId\":10228710334550,\"area\":\"PLATEA LATERAL IZQUIERDA\",\"entranceId\":10228710786434,\"entrance\":\"1\",\"entranceCode\":\"1\",\"row\":\"N\",\"seatNumber\":\"15\",\"seatQualityId\":2424,\"seatQuality\":\"Butaca\",\"seatQualityCode\":\"Fauteuil\",\"yCoordinate\":1337,\"xCoordinate\":2530,\"beneficiaryFirstname\":\"Claudia\",\"beneficiaryLastname\":\"Cuartas\",\"contactReference\":\"4540902\",\"seatOrientation\":0,\"stageVisibility\":\"VISIBLE\",\"areaKind\":\"INDIFFERENT\",\"resumed\":false,\"attributionMatch\":\"NO_EXPECTATION\",\"beneficiaryIdNumber\":\"52888227\"}],\"movementTicketDatas\":[],\"contactReference\":\"4540902\",\"salesChannelName\":{\"translations\":[{\"locale\":\"es\",\"value\":\"Tuboleta.com - Teatro Mayor Julio Mario Santodomingo\"}]},\"orderType\":\"SALE\",\"generatedContiguities\":[],\"orderOriginData\":{\"userAgent\":\"p/Mozilla/5.0 (Windows NT 10.0; Win64; x64) AppleWebKit/537.36 (KHTML, like Gecko) Chrome/119.0.0.0 Safari/537.36\",\"ipAddress\":\"190.121.143.130\",\"toCreateToken\":false},\"salesChannelType\":\"INTERNET_B2C\",\"orderInstallmentsToCreate\":[],\"orderSecretId\":\"c402a7df-5019-4e79-9775-54bb638484b5_27627051\",\"orderOriginator\":\"TICKETSHOP\",\"salesChannelCode\":\"TBMUZZA\",\"catalogCurrency\":{\"availableCash\":[],\"currencyCode\":\"COP\",\"fractionDigit\":2,\"minAmount\":500,\"symbol\":\"COL$\"},\"organizationCode\":\"COMAR\",\"organizationName\":{\"translations\":[{\"locale\":\"es\",\"value\":\"Tuboleta.com\"},{\"locale\":\"en\",\"value\":\"Tuboleta.com\"}]}}}\n",
      "<class 'str'>\n",
      " \n",
      "{'json_column': ['{\"nombre\": \"Juan\", \"edad\": 25, \"direccion\": {\"calle\": \"Calle 123\", \"ciudad\": \"Ciudad A\"}}', '{\"nombre\": \"Ana\", \"edad\": 30, \"direccion\": {\"calle\": \"Calle 456\", \"ciudad\": \"Ciudad B\"}}']}\n",
      "<class 'dict'>\n"
     ]
    }
   ],
   "source": [
    "## COMPARATIVA DEL TIPO DE DATO QUE LEERA LA FUNCION\n",
    "# una casilla del dataframe\n",
    "json_data = tb_ini.iloc[2,1]\n",
    "print(json_data)\n",
    "print(type(json_data))\n",
    "print(' ')\n",
    "\n",
    "# Ejemplo de dict ficticio\n",
    "data = {\n",
    "    'json_column': [\n",
    "        '{\"nombre\": \"Juan\", \"edad\": 25, \"direccion\": {\"calle\": \"Calle 123\", \"ciudad\": \"Ciudad A\"}}',\n",
    "        '{\"nombre\": \"Ana\", \"edad\": 30, \"direccion\": {\"calle\": \"Calle 456\", \"ciudad\": \"Ciudad B\"}}'\n",
    "    ]\n",
    "}\n",
    "print(data)\n",
    "print(type(data))"
   ]
  },
  {
   "cell_type": "code",
   "execution_count": 48,
   "metadata": {},
   "outputs": [
    {
     "name": "stdout",
     "output_type": "stream",
     "text": [
      "<class 'dict'>\n",
      "name\n",
      "age\n",
      "married\n",
      "divorced\n",
      "children\n",
      "pets\n",
      "cars\n",
      "  \n",
      "<class 'list'>\n",
      "{'name': 'John', 'age': 30, 'married': True, 'divorced': False, 'children': ('Ann', 'Billy'), 'pets': None, 'cars': [{'model': 'BMW 230', 'mpg': 27.5}, {'model': 'Ford Edge', 'mpg': 24.1}]}\n",
      "name\n",
      "age\n",
      "married\n",
      "divorced\n",
      "children\n",
      "pets\n",
      "cars\n"
     ]
    }
   ],
   "source": [
    "x = {\n",
    "  \"name\": \"John\",\n",
    "  \"age\": 30,\n",
    "  \"married\": True,\n",
    "  \"divorced\": False,\n",
    "  \"children\": (\"Ann\",\"Billy\"),\n",
    "  \"pets\": None,\n",
    "  \"cars\": [\n",
    "    {\"model\": \"BMW 230\", \"mpg\": 27.5},\n",
    "    {\"model\": \"Ford Edge\", \"mpg\": 24.1}\n",
    "  ]\n",
    "}\n",
    "print(type(x))\n",
    "\n",
    "# recorro dict\n",
    "if isinstance(x, dict):\n",
    "  for a in x:\n",
    "    print(a)\n",
    "\n",
    "x = [{\n",
    "  \"name\": \"John\",\n",
    "  \"age\": 30,\n",
    "  \"married\": True,\n",
    "  \"divorced\": False,\n",
    "  \"children\": (\"Ann\",\"Billy\"),\n",
    "  \"pets\": None,\n",
    "  \"cars\": [\n",
    "    {\"model\": \"BMW 230\", \"mpg\": 27.5},\n",
    "    {\"model\": \"Ford Edge\", \"mpg\": 24.1}\n",
    "  ]\n",
    "}]\n",
    "\n",
    "print('  ')\n",
    "print(type(x))\n",
    "\n",
    "# recorro dict\n",
    "if isinstance(x, list):\n",
    "  for a in x:\n",
    "    print(a)\n",
    "    if isinstance(a, dict):\n",
    "      for b in a:\n",
    "        print(b)\n"
   ]
  },
  {
   "cell_type": "code",
   "execution_count": 45,
   "metadata": {},
   "outputs": [
    {
     "name": "stdout",
     "output_type": "stream",
     "text": [
      "{'orderDetailGranularity': 'TICKET', 'orderDetailsData': {'orderId': 27627051, 'orderState': 'ABANDONNED', 'creationDateTime': '2023-11-30T09:19:13.45Z', 'referenceDate': '2023-11-30T00:00:00Z', 'expirationDate': '2023-11-30T15:30:37.544Z', 'saleAmount': 0, 'preSaleAmount': 0, 'reservationAmount': 0, 'optionAmount': 0, 'waitingAccountBalanceAmount': 0, 'operationDatas': [{'operationId': 10229444458720, 'kind': 'SINGLE_ENTRY', 'type': 'ABANDON', 'quantity': 2, 'basePrice': 112900000, 'unitPrice': 112900000, 'withoutVatTotalAmount': 225800000, 'totalAmount': 225800000, 'productId': 10229375846279, 'product': '‘QUEEN’ – Llena tu Cabeza de Rock y el Coro Filarmónico', 'productCode': 'BTMQUEE', 'itemId': 10229381726241, 'performanceId': 10229375649953, 'performance': '‘QUEEN’ – Llena tu Cabeza de Rock y el Coro Filarmónico', 'eventId': 10229375846279, 'physicalConfigurationId': 10228710786223, 'siteId': 101422130814, 'site': 'Teatro Mayor - Cl. 170 #67-51', 'siteAddress': {'countryCode': 'CO', 'firstAddressLine': 'Cl. 170 # 67-51, Bogotá', 'gpsLatitude': '@4.6804451', 'gpsLongitude': '-74.1342946', 'locality': 'BOGOTA', 'phoneNumber': '57-3779840', 'website': 'https://www.teatromayor.org', 'zipCode': '110111'}, 'space': 'Teatro Mayor - Cl. 170 #67-51', 'contingentId': 0, 'numbered': True, 'seatCategoryId': 10228708717456, 'seatCategory': 'Plateas laterales', 'seatCategoryRank': 5, 'audienceSubCategoryId': 10228704664240, 'audienceSubCategory': 'Adulto', 'audienceSubCategoryRank': 1, 'audienceSubCategoryRequireAttachment': False, 'vatRate': 0, 'vatCountryCode': 'CO', 'selfPaidVat': False, 'operationNumber': 1, 'productFamilyType': 'SINGLE_ENTRY', 'productFamilySubType': 'SIMPLE_TICKET', 'activityType': 'LIVE_SPECT', 'performanceDate': '2023-12-10T01:00:00+00:00', 'performanceDuration': 7200, 'itemDisplayExternalDesignation': '‘QUEEN’ – Llena tu Cabeza de Rock y el Coro Filarmónico', 'locations': [{'siteAddress': {'countryCode': 'CO', 'firstAddressLine': 'Cl. 170 # 67-51, Bogotá', 'gpsLatitude': '@4.6804451', 'gpsLongitude': '-74.1342946', 'locality': 'BOGOTA', 'phoneNumber': '57-3779840', 'website': 'https://www.teatromayor.org', 'zipCode': '110111'}, 'siteCode': 'BGTEJM', 'siteExternalName': {'translations': [{'locale': 'es', 'value': 'Teatro Mayor - Cl. 170 #67-51'}]}, 'spaceCode': 'TEMJMS', 'spaceExternalName': {'translations': [{'locale': 'es', 'value': 'Teatro Mayor - Cl. 170 #67-51'}]}}], 'fileId': 14862798, 'waitingAccountBalance': 0, 'seatCategoryBgColor': 'D6D600', 'season': '2023', 'crossSellParentOperationIds': [], 'comfortVariableValues': {'VAR_RESP': {'translations': [{'locale': 'es', 'value': 'FUNDACION AMIGOS DEL TEATRO MAYOR'}]}, 'VAR_PULE': {'translations': [{'locale': 'es', 'value': 'BFJ354'}]}, 'VAR_NIT': {'translations': [{'locale': 'es', 'value': '890912395'}]}, 'VAR_AGES': {'translations': [{'locale': 'es', 'value': '5 AÑOS'}]}}, 'performanceCode': 'BTMQUEE', 'audienceCatId': 15655, 'exchangeable': False, 'activityId': 10228698695006, 'activityName': 'Programación Regular', 'activityCode': 'ProgRegu', 'isNominative': False}, {'operationId': 10229444458721, 'parentOperationId': 10229444458720, 'parentOperationLinkType': 'CHARGES', 'kind': 'CHARGES', 'type': 'ABANDON', 'quantity': 2, 'basePrice': 12100000, 'unitPrice': 12100000, 'withoutVatTotalAmount': 20336000, 'totalAmount': 24200000, 'productId': 10228711157597, 'product': 'Servicio IVA incluido', 'contingentId': 0, 'numbered': False, 'audienceSubCategoryId': 10228704664240, 'audienceSubCategory': 'Adulto', 'audienceSubCategoryRank': 1, 'audienceSubCategoryRequireAttachment': False, 'vatRate': 19000, 'vatCountryCode': 'CO', 'selfPaidVat': False, 'operationNumber': 2, 'locations': [], 'chargesType': 'RESERVATION', 'fileId': 14862798, 'waitingAccountBalance': 0, 'crossSellParentOperationIds': [], 'comfortVariableValues': {}, 'audienceCatId': 15655, 'exchangeable': False, 'isNominative': False}, {'operationId': 10229444461335, 'kind': 'SHIPPING_FEE', 'type': 'ABANDON', 'quantity': 1, 'basePrice': 0, 'unitPrice': 0, 'withoutVatTotalAmount': 0, 'totalAmount': 0, 'productId': 101326740050, 'product': 'E-ticket o Mobile Gratis', 'contingentId': 0, 'numbered': False, 'audienceSubCategoryRequireAttachment': False, 'vatRate': 0, 'vatCountryCode': 'CO', 'selfPaidVat': False, 'operationNumber': 3, 'locations': [], 'fileId': 14862798, 'waitingAccountBalance': 0, 'crossSellParentOperationIds': [], 'comfortVariableValues': {}, 'exchangeable': False, 'isNominative': False}], 'movementDatas': [{'movementId': 10229444442434, 'operationId': 10229444458720, 'type': 'SEAT', 'seatId': 10228711763598, 'saleSeatId': 10185670266, 'seatCategoryId': 10228708717456, 'seatCategory': 'Plateas laterales', 'areaId': 10228710334550, 'area': 'PLATEA LATERAL IZQUIERDA', 'entranceId': 10228710786434, 'entrance': '1', 'entranceCode': '1', 'row': 'N', 'seatNumber': '13', 'seatQualityId': 2424, 'seatQuality': 'Butaca', 'seatQualityCode': 'Fauteuil', 'yCoordinate': 1337, 'xCoordinate': 2583, 'beneficiaryFirstname': 'Alexander', 'beneficiaryLastname': 'BETANCUR', 'contactReference': '4540902', 'seatOrientation': 0, 'stageVisibility': 'VISIBLE', 'areaKind': 'INDIFFERENT', 'resumed': False, 'attributionMatch': 'NO_EXPECTATION', 'beneficiaryIdNumber': '79686088'}, {'movementId': 10229444442433, 'operationId': 10229444458720, 'type': 'SEAT', 'seatId': 10228711763364, 'saleSeatId': 10185670267, 'seatCategoryId': 10228708717456, 'seatCategory': 'Plateas laterales', 'areaId': 10228710334550, 'area': 'PLATEA LATERAL IZQUIERDA', 'entranceId': 10228710786434, 'entrance': '1', 'entranceCode': '1', 'row': 'N', 'seatNumber': '15', 'seatQualityId': 2424, 'seatQuality': 'Butaca', 'seatQualityCode': 'Fauteuil', 'yCoordinate': 1337, 'xCoordinate': 2530, 'beneficiaryFirstname': 'Claudia', 'beneficiaryLastname': 'Cuartas', 'contactReference': '4540902', 'seatOrientation': 0, 'stageVisibility': 'VISIBLE', 'areaKind': 'INDIFFERENT', 'resumed': False, 'attributionMatch': 'NO_EXPECTATION', 'beneficiaryIdNumber': '52888227'}], 'movementTicketDatas': [], 'contactReference': '4540902', 'salesChannelName': {'translations': [{'locale': 'es', 'value': 'Tuboleta.com - Teatro Mayor Julio Mario Santodomingo'}]}, 'orderType': 'SALE', 'generatedContiguities': [], 'orderOriginData': {'userAgent': 'p/Mozilla/5.0 (Windows NT 10.0; Win64; x64) AppleWebKit/537.36 (KHTML, like Gecko) Chrome/119.0.0.0 Safari/537.36', 'ipAddress': '190.121.143.130', 'toCreateToken': False}, 'salesChannelType': 'INTERNET_B2C', 'orderInstallmentsToCreate': [], 'orderSecretId': 'c402a7df-5019-4e79-9775-54bb638484b5_27627051', 'orderOriginator': 'TICKETSHOP', 'salesChannelCode': 'TBMUZZA', 'catalogCurrency': {'availableCash': [], 'currencyCode': 'COP', 'fractionDigit': 2, 'minAmount': 500, 'symbol': 'COL$'}, 'organizationCode': 'COMAR', 'organizationName': {'translations': [{'locale': 'es', 'value': 'Tuboleta.com'}, {'locale': 'en', 'value': 'Tuboleta.com'}]}}}\n",
      "<class 'dict'>\n",
      "  \n",
      "orderState: ABANDONNED\n",
      "contactReference: c402a7df-5019-4e79-9775-54bb638484b5_27627051\n"
     ]
    }
   ],
   "source": [
    "# Obtener la cadena JSON de la posición específica en el DataFrame\n",
    "json_data = tb_ini.iloc[2, 1]\n",
    "json_data = json.loads(json_data)\n",
    "\n",
    "print(json_data)\n",
    "print(type(json_data))\n",
    "print('  ')\n",
    "\n",
    "\n",
    "# Convertir la cadena JSON a un diccionario Python\n",
    "# json_data = json.loads(json_string)\n",
    "\n",
    "# Obtener los valores de 'orderState' y 'contactReference'\n",
    "order_state = json_data['orderDetailsData'].get('orderState')\n",
    "contact_reference = json_data['orderDetailsData'].get('orderSecretId')\n",
    "\n",
    "# Imprimir los valores\n",
    "print(f\"orderState: {order_state}\")\n",
    "print(f\"contactReference: {contact_reference}\")"
   ]
  }
 ],
 "metadata": {
  "kernelspec": {
   "display_name": "Python 3",
   "language": "python",
   "name": "python3"
  },
  "language_info": {
   "codemirror_mode": {
    "name": "ipython",
    "version": 3
   },
   "file_extension": ".py",
   "mimetype": "text/x-python",
   "name": "python",
   "nbconvert_exporter": "python",
   "pygments_lexer": "ipython3",
   "version": "3.11.5"
  }
 },
 "nbformat": 4,
 "nbformat_minor": 2
}
