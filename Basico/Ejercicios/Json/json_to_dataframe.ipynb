{
 "cells": [
  {
   "cell_type": "code",
   "execution_count": 27,
   "metadata": {},
   "outputs": [
    {
     "name": "stdout",
     "output_type": "stream",
     "text": [
      "Dimensiones:\n",
      "(131150, 4)\n",
      "   id                                              trama  \\\n",
      "0   1  [{\"orderDetailsData\":{\"orderId\":10000702652,\"o...   \n",
      "1   2  [{\"orderDetailsData\":{\"orderId\":10000702652,\"o...   \n",
      "2   3  {\"orderDetailGranularity\":\"TICKET\",\"orderDetai...   \n",
      "3   4  {\"orderDetailGranularity\":\"TICKET\",\"orderDetai...   \n",
      "4   5  {\"orderDetailGranularity\":\"TICKET\",\"orderDetai...   \n",
      "\n",
      "                     fecha  procesado  \n",
      "0  2023-11-30 01:46:04.463          0  \n",
      "1  2023-11-30 15:05:45.197          0  \n",
      "2  2023-11-30 15:10:54.960          0  \n",
      "3  2023-11-30 15:10:55.113          0  \n",
      "4  2023-11-30 15:10:55.270          0  \n",
      " \n",
      "Summary:\n",
      "<class 'pandas.core.frame.DataFrame'>\n",
      "RangeIndex: 131150 entries, 0 to 131149\n",
      "Data columns (total 4 columns):\n",
      " #   Column     Non-Null Count   Dtype \n",
      "---  ------     --------------   ----- \n",
      " 0   id         131150 non-null  int64 \n",
      " 1   trama      131150 non-null  object\n",
      " 2   fecha      131150 non-null  object\n",
      " 3   procesado  131150 non-null  int64 \n",
      "dtypes: int64(2), object(2)\n",
      "memory usage: 4.0+ MB\n",
      "(5, 4)\n"
     ]
    }
   ],
   "source": [
    "#### where to see json in good format http://json.parser.online.fr/\n",
    "\n",
    "import pandas as pd\n",
    "import json\n",
    "\n",
    "inpath = \"E:/OneDrive/Datasets/Tuboleta/Hubspot/\"\n",
    "#inpath = \"C:/Users/diego.torres/OneDrive/Datasets/Tuboleta/Hubspot/\"\n",
    "\n",
    "tb_ini = pd.read_csv(inpath + 'hubspot_json.csv',delimiter=';')\n",
    "tb_ini.fillna(0, inplace=True)\n",
    "\n",
    "print('Dimensiones:')\n",
    "print(tb_ini.shape)\n",
    "print(tb_ini.head(5))\n",
    "print(' ')\n",
    "print('Summary:')\n",
    "tb_ini.info()"
   ]
  },
  {
   "cell_type": "code",
   "execution_count": 35,
   "metadata": {},
   "outputs": [
    {
     "name": "stdout",
     "output_type": "stream",
     "text": [
      "(1, 170)\n"
     ]
    }
   ],
   "source": [
    "# FUNCION QUE PERMITIRA TRANSFORMAR UN JSON ANIDADO A DATAFRAME\n",
    "def json_to_dataframe(json_string):\n",
    "    def flatten_json(y):\n",
    "        out = {}\n",
    "\n",
    "        def flatten(x, name=''):\n",
    "            if isinstance(x, dict):\n",
    "                for a in x:\n",
    "                    flatten(x[a], name + a + '_')\n",
    "            elif isinstance(x, list):\n",
    "            #Aqui agrega los numeros en caso de que encuentre varios dicts con el mismo esquema \n",
    "            #dentro de una lista  \n",
    "                i = 0\n",
    "                for a in x:\n",
    "                    flatten(a, name + str(i) + '_')\n",
    "                    i += 1\n",
    "            else:\n",
    "                out[name[:-1]] = x\n",
    "\n",
    "        flatten(y)\n",
    "        return out\n",
    "\n",
    "    try:\n",
    "        json_data = json.loads(json_string)\n",
    "    except (json.JSONDecodeError, TypeError):\n",
    "        json_data = json_string\n",
    "\n",
    "    flattened_data = flatten_json(json_data)\n",
    "    return pd.DataFrame([flattened_data])"
   ]
  },
  {
   "cell_type": "code",
   "execution_count": null,
   "metadata": {},
   "outputs": [],
   "source": [
    "string_js = tb_ini.iloc[0,1]\n",
    "\n",
    "## Aplico la funcion\n",
    "resultado = json_to_dataframe(string_js)\n",
    "#print(resultado)\n",
    "print(resultado.shape)\n",
    "\n",
    "resultado.to_excel(inpath +'resultado_json_to_df.xlsx', \n",
    "               index=False, # El argumento 'index=False' evita que se incluyan los índices en el archivo CSV\n",
    "            ) "
   ]
  }
 ],
 "metadata": {
  "kernelspec": {
   "display_name": "Python 3",
   "language": "python",
   "name": "python3"
  },
  "language_info": {
   "codemirror_mode": {
    "name": "ipython",
    "version": 3
   },
   "file_extension": ".py",
   "mimetype": "text/x-python",
   "name": "python",
   "nbconvert_exporter": "python",
   "pygments_lexer": "ipython3",
   "version": "3.11.5"
  }
 },
 "nbformat": 4,
 "nbformat_minor": 2
}
