{
 "cells": [
  {
   "cell_type": "code",
   "execution_count": 27,
   "metadata": {},
   "outputs": [
    {
     "name": "stdout",
     "output_type": "stream",
     "text": [
      "Dimensiones:\n",
      "(131150, 4)\n",
      "   id                                              trama  \\\n",
      "0   1  [{\"orderDetailsData\":{\"orderId\":10000702652,\"o...   \n",
      "1   2  [{\"orderDetailsData\":{\"orderId\":10000702652,\"o...   \n",
      "2   3  {\"orderDetailGranularity\":\"TICKET\",\"orderDetai...   \n",
      "3   4  {\"orderDetailGranularity\":\"TICKET\",\"orderDetai...   \n",
      "4   5  {\"orderDetailGranularity\":\"TICKET\",\"orderDetai...   \n",
      "\n",
      "                     fecha  procesado  \n",
      "0  2023-11-30 01:46:04.463          0  \n",
      "1  2023-11-30 15:05:45.197          0  \n",
      "2  2023-11-30 15:10:54.960          0  \n",
      "3  2023-11-30 15:10:55.113          0  \n",
      "4  2023-11-30 15:10:55.270          0  \n",
      " \n",
      "Summary:\n",
      "<class 'pandas.core.frame.DataFrame'>\n",
      "RangeIndex: 131150 entries, 0 to 131149\n",
      "Data columns (total 4 columns):\n",
      " #   Column     Non-Null Count   Dtype \n",
      "---  ------     --------------   ----- \n",
      " 0   id         131150 non-null  int64 \n",
      " 1   trama      131150 non-null  object\n",
      " 2   fecha      131150 non-null  object\n",
      " 3   procesado  131150 non-null  int64 \n",
      "dtypes: int64(2), object(2)\n",
      "memory usage: 4.0+ MB\n",
      "(5, 4)\n"
     ]
    }
   ],
   "source": [
    "#### where to see json in good format http://json.parser.online.fr/\n",
    "\n",
    "import pandas as pd\n",
    "import json\n",
    "\n",
    "inpath = \"E:/OneDrive/Datasets/Tuboleta/Hubspot/\"\n",
    "#inpath = \"C:/Users/diego.torres/OneDrive/Datasets/Tuboleta/Hubspot/\"\n",
    "\n",
    "tb_ini = pd.read_csv(inpath + 'hubspot_json.csv',delimiter=';')\n",
    "tb_ini.fillna(0, inplace=True)\n",
    "\n",
    "print('Dimensiones:')\n",
    "print(tb_ini.shape)\n",
    "print(tb_ini.head(5))\n",
    "print(' ')\n",
    "print('Summary:')\n",
    "tb_ini.info()"
   ]
  },
  {
   "cell_type": "code",
   "execution_count": 78,
   "metadata": {},
   "outputs": [
    {
     "name": "stdout",
     "output_type": "stream",
     "text": [
      "(131150, 6)\n"
     ]
    }
   ],
   "source": [
    "tb = tb_ini#.tail(5)\n",
    "print(tb.shape)\n",
    "#print(tb.head(5))"
   ]
  },
  {
   "cell_type": "code",
   "execution_count": 59,
   "metadata": {},
   "outputs": [],
   "source": [
    "# FUNCION QUE PERMITE EXTRAER DOS ELEMENTOS DE UN ARCHIVO JSON ANIDADO amo a adri\n",
    "def extract_from_json(json_string):\n",
    "    try:\n",
    "        json_data = json.loads(json_string)\n",
    "    except (json.JSONDecodeError, TypeError):\n",
    "        json_data = json_string\n",
    "    \n",
    "    order_state = None\n",
    "    contact_reference = None\n",
    "\n",
    "    if isinstance(json_data, list):\n",
    "        for item in json_data:\n",
    "            if isinstance(item, dict):\n",
    "                if 'orderDetailsData' in item:\n",
    "                    order_state = item['orderDetailsData'].get('orderState')\n",
    "                    contact_reference = item['orderDetailsData'].get('contactReference')\n",
    "                    break  # Detener el bucle una vez que se encuentren los valores\n",
    "    elif isinstance(json_data, dict):\n",
    "        if 'orderDetailsData' in json_data:\n",
    "            order_state = json_data['orderDetailsData'].get('orderState')\n",
    "            contact_reference = json_data['orderDetailsData'].get('contactReference')\n",
    "    \n",
    "    return order_state, contact_reference\n",
    "\n",
    "\n",
    "# Supongamos que tienes un DataFrame llamado 'df' con una columna 'json_data' que contiene los JSON anidados como strings\n",
    "\n",
    "# Crear una función para aplicar a cada celda de la columna 'json_data'\n",
    "def extract_values(row):\n",
    "    order_state, contact_reference = extract_from_json(row['trama'])\n",
    "    return pd.Series({'order_state': order_state, 'contact_reference': contact_reference})\n",
    "\n"
   ]
  },
  {
   "cell_type": "code",
   "execution_count": 76,
   "metadata": {},
   "outputs": [],
   "source": [
    "# Aplicar la función a cada fila del DataFrame y guardar los resultados en nuevas columnas\n",
    "tb[['order_state', 'contact_reference']] = tb.apply(extract_values, axis=1)\n",
    "\n",
    "# Excluir múltiples columnas usando drop()\n",
    "cols_to_exclude = ['trama']\n",
    "tb = tb.drop(cols_to_exclude, axis=1)\n",
    "\n",
    "# Mostrar el DataFrame resultante con las nuevas columnas\n",
    "print('Dimensiones:')\n",
    "print(tb.shape)\n",
    "print(tb.head(5))\n",
    "\n",
    "# exportamos\n",
    "tb.to_excel(inpath +'extract_from_json.xlsx', \n",
    "               index=False, # El argumento 'index=False' evita que se incluyan los índices en el archivo CSV\n",
    "            ) "
   ]
  }
 ],
 "metadata": {
  "kernelspec": {
   "display_name": "Python 3",
   "language": "python",
   "name": "python3"
  },
  "language_info": {
   "codemirror_mode": {
    "name": "ipython",
    "version": 3
   },
   "file_extension": ".py",
   "mimetype": "text/x-python",
   "name": "python",
   "nbconvert_exporter": "python",
   "pygments_lexer": "ipython3",
   "version": "3.11.5"
  }
 },
 "nbformat": 4,
 "nbformat_minor": 2
}
