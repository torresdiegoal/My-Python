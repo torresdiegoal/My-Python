{
 "cells": [
  {
   "cell_type": "code",
   "execution_count": 2,
   "metadata": {},
   "outputs": [
    {
     "name": "stdout",
     "output_type": "stream",
     "text": [
      "| Aperture   | Peso Retenido (g)   | Peso acumulado (g)   | mm    | Phi      | Termino descriptivo   |\n",
      "|:-----------|:--------------------|:---------------------|:------|:---------|:----------------------|\n",
      "| 1000       | 0                   | 0                    | 1     | 0        | Arena muy gruesa      |\n",
      "| 850        | 0                   | 0                    | 0.85  | 0.234465 | Arena gruesa          |\n",
      "| 600        | 0.0352              | 0.0352               | 0.6   | 0.736966 | Arena gruesa          |\n",
      "| 500        | 0.0097              | 0.0449               | 0.5   | 1        | Arena gruesa          |\n",
      "| 425        | 0.0107              | 0.0556               | 0.425 | 1.23447  | Arena media           |\n",
      "| 300        | 0.0415              | 0.0971               | 0.3   | 1.73697  | Arena media           |\n",
      "| 250        | 0.084               | 0.1811               | 0.25  | 2        | Arena media           |\n",
      "| 180        | 0.6128              | 0.7939               | 0.18  | 2.47393  | Arena fina            |\n",
      "| 150        | 1.054               | 1.8479               | 0.15  | 2.73697  | Arena fina            |\n",
      "| 125        | 69.7989             | 71.6468              | 0.125 | 3        | Arena fina            |\n",
      "| 90         | 62.106              | 133.753              | 0.09  | 3.47393  | Arena muy fina        |\n",
      "| 63         | 15.6323             | 149.385              | 0.063 | 3.9885   | Arena muy fina        |\n",
      "| 45         | 0.9275              | 150.313              | 0.045 | 4.47393  | Limo                  |\n",
      "| 44         | 0.211               | 150.524              | 44    | 5        | Limo                  |\n"
     ]
    }
   ],
   "source": [
    "import pandas as pd\n",
    "import pandasql as psql\n",
    "\n",
    "inpath = \"E:/OneDrive/Datasets/barplot_Adri.xlsx\"\n",
    "#inpath = \"C:/Users/Diego Torres/OneDrive/Datasets/barplot_Adri.xlsx\"\n",
    "data = pd.read_excel(inpath)\n",
    "\n",
    "# Mostrar las primeras filas del DataFrame\n",
    "print(data.head(20).to_markdown(index=False, numalign=\"left\", stralign=\"left\"))\n"
   ]
  },
  {
   "cell_type": "code",
   "execution_count": 10,
   "metadata": {},
   "outputs": [
    {
     "name": "stdout",
     "output_type": "stream",
     "text": [
      "| Aperture   | Peso Retenido (g)   | Peso acumulado (g)   | mm   | Phi      | Termino descriptivo   |\n",
      "|:-----------|:--------------------|:---------------------|:-----|:---------|:----------------------|\n",
      "| 600        | 0.0352              | 0.0352               | 0.6  | 0.736966 | Arena gruesa          |\n"
     ]
    }
   ],
   "source": [
    "# retorne la linea con el tercer valor del campo aperture mas grande\n",
    "query = '''\n",
    "    SELECT *\n",
    "    FROM (\n",
    "        SELECT *\n",
    "        FROM data\n",
    "        ORDER BY Aperture DESC\n",
    "        LIMIT 3\n",
    "    ) \n",
    "    ORDER BY Aperture ASC\n",
    "    LIMIT 1;\n",
    "'''\n",
    "\n",
    "tmp = psql.sqldf(query, locals())\n",
    "\n",
    "print(tmp.head(20).to_markdown(index=False, numalign=\"left\", stralign=\"left\"))"
   ]
  },
  {
   "cell_type": "code",
   "execution_count": 4,
   "metadata": {},
   "outputs": [
    {
     "name": "stdout",
     "output_type": "stream",
     "text": [
      "| Termino_descriptivo   | Peso_retenido_acum   |\n",
      "|:----------------------|:---------------------|\n",
      "| Arena muy fina        | 77.7383              |\n",
      "| Arena fina            | 71.4657              |\n",
      "| Limo                  | 1.1385               |\n",
      "| Arena media           | 0.1362               |\n",
      "| Arena gruesa          | 0.0449               |\n",
      "| Arena muy gruesa      | 0                    |\n"
     ]
    }
   ],
   "source": [
    "# Peso Retenido (g) por Termino descriptivo\n",
    "query = '''\n",
    "    SELECT \n",
    "        `Termino descriptivo` as Termino_descriptivo,\n",
    "        sum(`Peso Retenido (g)`) as Peso_retenido_acum\n",
    "    FROM data\n",
    "    GROUP BY Termino_descriptivo\n",
    "    ORDER BY Peso_retenido_acum DESC\n",
    "'''\n",
    "\n",
    "tmp = psql.sqldf(query, locals())\n",
    "\n",
    "print(tmp.head(20).to_markdown(index=False, numalign=\"left\", stralign=\"left\"))"
   ]
  },
  {
   "cell_type": "code",
   "execution_count": 11,
   "metadata": {},
   "outputs": [
    {
     "name": "stdout",
     "output_type": "stream",
     "text": [
      "| Termino_descriptivo   | Peso_retenido_acum   |\n",
      "|:----------------------|:---------------------|\n",
      "| Arena media           | 0.1362               |\n",
      "| Limo                  | 1.1385               |\n",
      "| Arena fina            | 71.4657              |\n",
      "| Arena muy fina        | 77.7383              |\n"
     ]
    }
   ],
   "source": [
    "# Peso Retenido (g) por Termino descriptivo si este es mayor a 0.05\n",
    "query = '''\n",
    "    SELECT \n",
    "        `Termino descriptivo` as Termino_descriptivo,\n",
    "        sum(`Peso Retenido (g)`) as Peso_retenido_acum\n",
    "    FROM data\n",
    "    GROUP BY Termino_descriptivo\n",
    "    HAVING sum(`Peso Retenido (g)`) > 0.05\n",
    "    ORDER BY Peso_retenido_acum ASC\n",
    "'''\n",
    "\n",
    "tmp = psql.sqldf(query, locals())\n",
    "\n",
    "print(tmp.head(20).to_markdown(index=False, numalign=\"left\", stralign=\"left\"))"
   ]
  },
  {
   "cell_type": "code",
   "execution_count": 5,
   "metadata": {},
   "outputs": [
    {
     "name": "stdout",
     "output_type": "stream",
     "text": [
      "| Termino_descriptivo   |\n",
      "|:----------------------|\n",
      "| Arena fina            |\n"
     ]
    }
   ],
   "source": [
    "# retorne el segundo Termino descriptivo con mayor Peso Retenido (g)\n",
    "query = '''\n",
    "    SELECT Termino_descriptivo\n",
    "    FROM (\n",
    "        SELECT \n",
    "          `Termino descriptivo` as Termino_descriptivo,\n",
    "          sum(`Peso Retenido (g)`) as Peso_retenido_acum\n",
    "        FROM data\n",
    "        GROUP BY Termino_descriptivo\n",
    "        ORDER BY Peso_retenido_acum DESC\n",
    "        LIMIT 2\n",
    "    ) \n",
    "    ORDER BY Peso_retenido_acum ASC\n",
    "    LIMIT 1;\n",
    "'''\n",
    "\n",
    "tmp = psql.sqldf(query, locals())\n",
    "\n",
    "print(tmp.head(20).to_markdown(index=False, numalign=\"left\", stralign=\"left\"))"
   ]
  },
  {
   "cell_type": "code",
   "execution_count": 10,
   "metadata": {},
   "outputs": [
    {
     "name": "stdout",
     "output_type": "stream",
     "text": [
      "| Termino_descriptivo   |\n",
      "|:----------------------|\n",
      "| Limo                  |\n"
     ]
    }
   ],
   "source": [
    "# retorne el segundo Termino descriptivo con menor Peso Retenido (g) si este supera los 0.05\n",
    "query = '''\n",
    "    SELECT Termino_descriptivo\n",
    "    FROM (\n",
    "        SELECT \n",
    "          `Termino descriptivo` as Termino_descriptivo,\n",
    "          sum(`Peso Retenido (g)`) as Peso_retenido_acum\n",
    "        FROM data\n",
    "        GROUP BY Termino_descriptivo\n",
    "        HAVING sum(`Peso Retenido (g)`) > 0.05\n",
    "        ORDER BY Peso_retenido_acum ASC\n",
    "        LIMIT 2\n",
    "    ) \n",
    "    ORDER BY Peso_retenido_acum DESC\n",
    "    LIMIT 1;\n",
    "'''\n",
    "\n",
    "tmp = psql.sqldf(query, locals())\n",
    "\n",
    "print(tmp.head(20).to_markdown(index=False, numalign=\"left\", stralign=\"left\"))"
   ]
  }
 ],
 "metadata": {
  "kernelspec": {
   "display_name": "Python 3",
   "language": "python",
   "name": "python3"
  },
  "language_info": {
   "codemirror_mode": {
    "name": "ipython",
    "version": 3
   },
   "file_extension": ".py",
   "mimetype": "text/x-python",
   "name": "python",
   "nbconvert_exporter": "python",
   "pygments_lexer": "ipython3",
   "version": "3.11.5"
  }
 },
 "nbformat": 4,
 "nbformat_minor": 2
}
