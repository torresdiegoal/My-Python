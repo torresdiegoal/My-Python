{
 "cells": [
  {
   "cell_type": "code",
   "execution_count": null,
   "metadata": {},
   "outputs": [],
   "source": [
    "# Write a Python program to divide a given list into chunks of size k.\n",
    " \n",
    "# The number of elements in the list need not to be divisible by k.\n",
    "# For example, if you want to divide the list [1,2,3,4,5,6,7] into chunk size k=4, then the first chunk will be [1,2,3,4] and the second one will have [5,6,7]. \n",
    "# i.e. the last chunk need not have k elements.\n",
    "# The input will have two lines, the first line would have the list and the second line would have the value of k.\n",
    "# The final output should have the list chunks in different lines.\n",
    " \n",
    "# Sample Input:\n",
    "# [1,2,3,4,5,6,7,8,9]\n",
    "# 3\n",
    "# Sample Output:\n",
    " \n",
    "# [1, 2, 3]\n",
    "# [4, 5, 6]\n",
    "# [7, 8, 9]"
   ]
  },
  {
   "cell_type": "code",
   "execution_count": 3,
   "metadata": {},
   "outputs": [
    {
     "name": "stdout",
     "output_type": "stream",
     "text": [
      "[[1, 2, 3, 4], [5, 6, 7, 8], [9, 10, 11]]\n"
     ]
    }
   ],
   "source": [
    "arr = [1,2,3,4,5,6,7,8,9,10,11]\n",
    "k = 4\n",
    "\n",
    "def chunk_list(input_arr, k_size):\n",
    "    chunks = []\n",
    "    for i in range(0, len(input_arr), k_size):\n",
    "        chunks.append(input_arr[i:i+k_size])\n",
    "    return chunks\n",
    "\n",
    "print(chunk_list(arr,k))"
   ]
  },
  {
   "cell_type": "code",
   "execution_count": null,
   "metadata": {},
   "outputs": [],
   "source": [
    "# 2 dfs,\n",
    "# 1st employee_df, has employee_id, employee_name, salary and department_id\n",
    "# 2nd department_df: department_id, department_name\n",
    "# top two earners from each department, in pyspark\n",
    "department_df = department_df.withColumnRename('department_id','department_id_2')\n",
    "\n",
    "join_result = employee_df.join(department_df, employee_df['department_id'] = department_df['department_id'], on = 'left')\n",
    "\n",
    "window_df = window.partitionBy('department_id').orderBy(desc('salary'))\n",
    "\n",
    "top_earners = join_result.withColumn('rank', dense_rank().over(window_df)).\\\n",
    "    filter(col('rank') <= 2).\\\n",
    "    select('department_name','employee_id','employee_name')\n"
   ]
  }
 ],
 "metadata": {
  "kernelspec": {
   "display_name": "Python 3",
   "language": "python",
   "name": "python3"
  },
  "language_info": {
   "codemirror_mode": {
    "name": "ipython",
    "version": 3
   },
   "file_extension": ".py",
   "mimetype": "text/x-python",
   "name": "python",
   "nbconvert_exporter": "python",
   "pygments_lexer": "ipython3",
   "version": "3.11.5"
  }
 },
 "nbformat": 4,
 "nbformat_minor": 2
}
