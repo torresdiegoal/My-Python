{
 "cells": [
  {
   "cell_type": "code",
   "execution_count": 1,
   "metadata": {},
   "outputs": [],
   "source": [
    "# Carga paquetes\n",
    "import pandas as pd\n",
    "import numpy as np\n",
    "import warnings\n",
    "from scipy.stats import skew\n",
    "import json\n",
    "\n",
    "warnings.filterwarnings(\"ignore\", category=UserWarning)  # ignora los warnings"
   ]
  },
  {
   "cell_type": "code",
   "execution_count": 9,
   "metadata": {},
   "outputs": [
    {
     "name": "stdout",
     "output_type": "stream",
     "text": [
      "{'orderDetailsData': {'orderId': 10000702652, 'orderState': 'CLOSED', 'creationDateTime': '2020-10-13T10:09:27.503+00:00', 'referenceDate': '2020-10-12T22:00:00+00:00', 'expirationDate': '2020-10-13T10:32:33.738+00:00', 'saleAmount': 40000, 'preSaleAmount': 0, 'reservationAmount': 0, 'optionAmount': 0, 'waitingAccountBalanceAmount': 0, 'operationDatas': [{'operationId': 10228310724422, 'kind': 'SINGLE_ENTRY', 'quantity': 2, 'basePrice': 20000, 'unitPrice': 20000, 'productId': 10228231108335, 'product': 'Arena Suite Dining', 'productCode': 'ASTDN', 'itemId': 10228231110052, 'performanceId': 10228231109243, 'performance': 'Arena Suite Dining', 'eventId': 10228231108335, 'physicalConfigurationId': 10228231107425, 'siteId': 101053494751, 'site': 'S-360 Arena', 'siteAddress': {'firstAddressLine': 'Route des Plaines-du-Loup 7', 'zipCode': '1018', 'locality': 'Lausanne', 'countryCode': 'CH', 'phoneNumber': '41-0213151414', 'gpsLatitude': '46.5333333', 'gpsLongitude': '6.6241666999999325', 'website': 'http://www.secutix.com'}, 'space': 'Home arena suites', 'contingentId': 101053494560, 'contingent': 'VIP', 'numbered': False, 'seatCategoryId': 10228231108132, 'seatCategory': 'Cat 2', 'seatCategoryRank': 1, 'audienceSubCategoryId': 10228231110152, 'audienceSubCategory': 'VIP', 'audienceSubCategoryRank': 1, 'audienceSubCategoryRequireAttachment': False, 'vatRate': 8000, 'vatCountryCode': 'CH', 'selfPaidVat': False, 'operationNumber': 2, 'productFamilyType': 'SINGLE_ENTRY', 'productFamilySubType': 'SPORTING_EVENT', 'activityType': 'SPORT', 'performanceData': {'10228231109243': '2020-10-31T16:00:00+00:00'}, 'performanceDate': '2020-10-31T16:00:00+00:00', 'performanceDuration': 7200, 'itemDisplayExternalDesignation': 'Arena Suite Dining', 'locations': [{'spaceCode': 'Suites', 'siteCode': 'Arena', 'spaceExternalName': {'translations': [{'locale': 'en', 'value': 'Home arena suites'}]}, 'siteExternalName': {'translations': [{'locale': 'en', 'value': 'S-360 Arena'}, {'locale': 'fr', 'value': 'Ar?ne S-360'}]}, 'siteAddress': {'firstAddressLine': 'Route des Plaines-du-Loup 7', 'zipCode': '1018', 'locality': 'Lausanne', 'countryCode': 'CH', 'phoneNumber': '41-0213151414', 'gpsLatitude': '46.5333333', 'gpsLongitude': '6.6241666999999325', 'website': 'http://www.secutix.com'}}], 'fileId': 5464, 'match': {'finalDate': True, 'roundCode': 'J1', 'roundRank': 1, 'hostTeamId': 101053521731, 'opposingTeamId': 101053521720, 'round': 'Day 1', 'hostTeam': 'Team Play', 'opposingTeam': 'Athletico Fedora'}, 'withoutVatTotalAmount': 37040, 'totalAmount': 40000, 'performanceKind': 'Default', 'waitingAccountBalance': 0, 'season': 'Current season', 'crossSellParentOperationIds': [], 'comfortVariableValues': {'PrioPts': {'translations': [{'locale': 'en', 'value': '0'}]}}, 'performanceCode': 'ASTDN', 'audienceCatId': 15655, 'seatCategoryBgColor': 'FF8000', 'seatCategoryTextColor': '000000', 'exchangeable': False, 'isNominative': False}], 'movementDatas': [{'movementId': 10228310724638, 'operationId': 10228310724422, 'barcode': '278777501804038390760100', 'taxNumber': '01010089510', 'type': 'AREA', 'seatCategoryId': 10228231108132, 'seatCategory': 'Cat 2', 'contingentId': 101053494560, 'contingent': 'VIP', 'areaId': 10228231107526, 'saleAreaId': 10228231107931, 'area': 'Arena suite', 'contactReference': '10912', 'areaKind': 'INDIFFERENT', 'resumed': False, 'attributionMatch': 'NO_EXPECTATION', 'externalReferences': []}, {'movementId': 10228310724637, 'operationId': 10228310724422, 'barcode': '337510583739402222630181', 'taxNumber': '01010089509', 'type': 'AREA', 'seatCategoryId': 10228231108132, 'seatCategory': 'Cat 2', 'contingentId': 101053494560, 'contingent': 'VIP', 'areaId': 10228231107526, 'saleAreaId': 10228231107931, 'area': 'Arena suite', 'contactReference': '10912', 'areaKind': 'INDIFFERENT', 'resumed': False, 'attributionMatch': 'NO_EXPECTATION', 'externalReferences': []}], 'movementTicketDatas': [{'movementId': 10228310724638, 'ticketId': 10228310723729, 'ticketState': 'NOT_PRINTED', 'barcode': '278777501804038390760100', 'taxNumber': '01010089510', 'contactReference': '10912', 'ticketSupport': 'THERMAL', 'linkedToTicketDistribution': False}, {'movementId': 10228310724637, 'ticketId': 10228310723728, 'ticketState': 'NOT_PRINTED', 'barcode': '337510583739402222630181', 'taxNumber': '01010089509', 'contactReference': '10912', 'ticketSupport': 'THERMAL', 'linkedToTicketDistribution': False}], 'contactReference': '10912', 'salesChannelName': {'translations': [{'locale': 'en', 'value': 'Box office - Test'}, {'locale': 'fr', 'value': 'Guichet'}, {'locale': 'ca', 'value': 'Kasse'}]}, 'orderType': 'SALE', 'generatedContiguities': [], 'orderOriginData': {'countryCode': 'ES', 'zipCode': '18010', 'toCreateToken': False}, 'salesChannelType': 'BOXOFFICE', 'orderInstallmentsToCreate': [{'orderId': 10000702652, 'dueDate': '2020-11-11T23:00:00+00:00', 'dueAmount': 40000, 'paidAmount': 0}], 'orderSecretId': '851b3217-c963-430a-b4fd-36d6a28fb504_10000702652', 'orderOriginator': 'SALE', 'salesChannelCode': 'BO', 'catalogCurrency': {'currencyCode': 'EUR', 'symbol': '?', 'fractionDigit': 2, 'minAmount': 10}, 'organizationCode': 'PLAY', 'organizationName': {'translations': [{'locale': 'en', 'value': 'MPLAY - TEST'}, {'locale': 'fr', 'value': 'MPLAY - TEST'}]}}, 'orderDetailGranularity': 'TICKET'}\n",
      "<class 'dict'>\n",
      "  \n",
      "orderState: CLOSED\n",
      "contactReference: 851b3217-c963-430a-b4fd-36d6a28fb504_10000702652\n"
     ]
    }
   ],
   "source": [
    "# Supongamos que tienes un DataFrame con datos JSON en el campo 'campo_json'\n",
    "json_data = {\"orderDetailsData\":{\"orderId\":10000702652,\"orderState\":\"CLOSED\",\"creationDateTime\":\"2020-10-13T10:09:27.503+00:00\",\"referenceDate\":\"2020-10-12T22:00:00+00:00\",\"expirationDate\":\"2020-10-13T10:32:33.738+00:00\",\"saleAmount\":40000,\"preSaleAmount\":0,\"reservationAmount\":0,\"optionAmount\":0,\"waitingAccountBalanceAmount\":0,\"operationDatas\":[{\"operationId\":10228310724422,\"kind\":\"SINGLE_ENTRY\",\"quantity\":2,\"basePrice\":20000,\"unitPrice\":20000,\"productId\":10228231108335,\"product\":\"Arena Suite Dining\",\"productCode\":\"ASTDN\",\"itemId\":10228231110052,\"performanceId\":10228231109243,\"performance\":\"Arena Suite Dining\",\"eventId\":10228231108335,\"physicalConfigurationId\":10228231107425,\"siteId\":101053494751,\"site\":\"S-360 Arena\",\"siteAddress\":{\"firstAddressLine\":\"Route des Plaines-du-Loup 7\",\"zipCode\":\"1018\",\"locality\":\"Lausanne\",\"countryCode\":\"CH\",\"phoneNumber\":\"41-0213151414\",\"gpsLatitude\":\"46.5333333\",\"gpsLongitude\":\"6.6241666999999325\",\"website\":\"http://www.secutix.com\"},\"space\":\"Home arena suites\",\"contingentId\":101053494560,\"contingent\":\"VIP\",\"numbered\":False,\"seatCategoryId\":10228231108132,\"seatCategory\":\"Cat 2\",\"seatCategoryRank\":1,\"audienceSubCategoryId\":10228231110152,\"audienceSubCategory\":\"VIP\",\"audienceSubCategoryRank\":1,\"audienceSubCategoryRequireAttachment\":False,\"vatRate\":8000,\"vatCountryCode\":\"CH\",\"selfPaidVat\":False,\"operationNumber\":2,\"productFamilyType\":\"SINGLE_ENTRY\",\"productFamilySubType\":\"SPORTING_EVENT\",\"activityType\":\"SPORT\",\"performanceData\":{\"10228231109243\":\"2020-10-31T16:00:00+00:00\"},\"performanceDate\":\"2020-10-31T16:00:00+00:00\",\"performanceDuration\":7200,\"itemDisplayExternalDesignation\":\"Arena Suite Dining\",\"locations\":[{\"spaceCode\":\"Suites\",\"siteCode\":\"Arena\",\"spaceExternalName\":{\"translations\":[{\"locale\":\"en\",\"value\":\"Home arena suites\"}]},\"siteExternalName\":{\"translations\":[{\"locale\":\"en\",\"value\":\"S-360 Arena\"},{\"locale\":\"fr\",\"value\":\"Ar?ne S-360\"}]},\"siteAddress\":{\"firstAddressLine\":\"Route des Plaines-du-Loup 7\",\"zipCode\":\"1018\",\"locality\":\"Lausanne\",\"countryCode\":\"CH\",\"phoneNumber\":\"41-0213151414\",\"gpsLatitude\":\"46.5333333\",\"gpsLongitude\":\"6.6241666999999325\",\"website\":\"http://www.secutix.com\"}}],\"fileId\":5464,\"match\":{\"finalDate\":True,\"roundCode\":\"J1\",\"roundRank\":1,\"hostTeamId\":101053521731,\"opposingTeamId\":101053521720,\"round\":\"Day 1\",\"hostTeam\":\"Team Play\",\"opposingTeam\":\"Athletico Fedora\"},\"withoutVatTotalAmount\":37040,\"totalAmount\":40000,\"performanceKind\":\"Default\",\"waitingAccountBalance\":0,\"season\":\"Current season\",\"crossSellParentOperationIds\":[],\"comfortVariableValues\":{\"PrioPts\":{\"translations\":[{\"locale\":\"en\",\"value\":\"0\"}]}},\"performanceCode\":\"ASTDN\",\"audienceCatId\":15655,\"seatCategoryBgColor\":\"FF8000\",\"seatCategoryTextColor\":\"000000\",\"exchangeable\":False,\"isNominative\":False}],\"movementDatas\":[{\"movementId\":10228310724638,\"operationId\":10228310724422,\"barcode\":\"278777501804038390760100\",\"taxNumber\":\"01010089510\",\"type\":\"AREA\",\"seatCategoryId\":10228231108132,\"seatCategory\":\"Cat 2\",\"contingentId\":101053494560,\"contingent\":\"VIP\",\"areaId\":10228231107526,\"saleAreaId\":10228231107931,\"area\":\"Arena suite\",\"contactReference\":\"10912\",\"areaKind\":\"INDIFFERENT\",\"resumed\":False,\"attributionMatch\":\"NO_EXPECTATION\",\"externalReferences\":[]},{\"movementId\":10228310724637,\"operationId\":10228310724422,\"barcode\":\"337510583739402222630181\",\"taxNumber\":\"01010089509\",\"type\":\"AREA\",\"seatCategoryId\":10228231108132,\"seatCategory\":\"Cat 2\",\"contingentId\":101053494560,\"contingent\":\"VIP\",\"areaId\":10228231107526,\"saleAreaId\":10228231107931,\"area\":\"Arena suite\",\"contactReference\":\"10912\",\"areaKind\":\"INDIFFERENT\",\"resumed\":False,\"attributionMatch\":\"NO_EXPECTATION\",\"externalReferences\":[]}],\"movementTicketDatas\":[{\"movementId\":10228310724638,\"ticketId\":10228310723729,\"ticketState\":\"NOT_PRINTED\",\"barcode\":\"278777501804038390760100\",\"taxNumber\":\"01010089510\",\"contactReference\":\"10912\",\"ticketSupport\":\"THERMAL\",\"linkedToTicketDistribution\":False},{\"movementId\":10228310724637,\"ticketId\":10228310723728,\"ticketState\":\"NOT_PRINTED\",\"barcode\":\"337510583739402222630181\",\"taxNumber\":\"01010089509\",\"contactReference\":\"10912\",\"ticketSupport\":\"THERMAL\",\"linkedToTicketDistribution\":False}],\"contactReference\":\"10912\",\"salesChannelName\":{\"translations\":[{\"locale\":\"en\",\"value\":\"Box office - Test\"},{\"locale\":\"fr\",\"value\":\"Guichet\"},{\"locale\":\"ca\",\"value\":\"Kasse\"}]},\"orderType\":\"SALE\",\"generatedContiguities\":[],\"orderOriginData\":{\"countryCode\":\"ES\",\"zipCode\":\"18010\",\"toCreateToken\":False},\"salesChannelType\":\"BOXOFFICE\",\"orderInstallmentsToCreate\":[{\"orderId\":10000702652,\"dueDate\":\"2020-11-11T23:00:00+00:00\",\"dueAmount\":40000,\"paidAmount\":0}],\"orderSecretId\":\"851b3217-c963-430a-b4fd-36d6a28fb504_10000702652\",\"orderOriginator\":\"SALE\",\"salesChannelCode\":\"BO\",\"catalogCurrency\":{\"currencyCode\":\"EUR\",\"symbol\":\"?\",\"fractionDigit\":2,\"minAmount\":10},\"organizationCode\":\"PLAY\",\"organizationName\":{\"translations\":[{\"locale\":\"en\",\"value\":\"MPLAY - TEST\"},{\"locale\":\"fr\",\"value\":\"MPLAY - TEST\"}]}},\"orderDetailGranularity\":\"TICKET\"}\n",
    "\n",
    "print(json_data)\n",
    "print(type(json_data))\n",
    "print('  ')\n",
    "\n",
    "\n",
    "# Convertir la cadena JSON a un diccionario Python\n",
    "# json_data = json.loads(json_string)\n",
    "\n",
    "# Obtener los valores de 'orderState' y 'contactReference'\n",
    "order_state = json_data['orderDetailsData'].get('orderState')\n",
    "contact_reference = json_data['orderDetailsData'].get('orderSecretId')\n",
    "\n",
    "# Imprimir los valores\n",
    "print(f\"orderState: {order_state}\")\n",
    "print(f\"contactReference: {contact_reference}\")"
   ]
  }
 ],
 "metadata": {
  "kernelspec": {
   "display_name": "Python 3",
   "language": "python",
   "name": "python3"
  },
  "language_info": {
   "codemirror_mode": {
    "name": "ipython",
    "version": 3
   },
   "file_extension": ".py",
   "mimetype": "text/x-python",
   "name": "python",
   "nbconvert_exporter": "python",
   "pygments_lexer": "ipython3",
   "version": "3.12.0"
  }
 },
 "nbformat": 4,
 "nbformat_minor": 2
}
