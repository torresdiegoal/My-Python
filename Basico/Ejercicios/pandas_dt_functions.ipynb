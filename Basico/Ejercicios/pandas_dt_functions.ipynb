{
 "cells": [
  {
   "cell_type": "code",
   "execution_count": 5,
   "metadata": {},
   "outputs": [
    {
     "name": "stdout",
     "output_type": "stream",
     "text": [
      "        date  year  month  day  day_of_week   day_name  week_of_year  quarter\n",
      "0 2018-01-01  2018      1    1            0     Monday             1        1\n",
      "1 2018-01-02  2018      1    2            1    Tuesday             1        1\n",
      "2 2018-01-03  2018      1    3            2  Wednesday             1        1\n",
      "3 2018-01-04  2018      1    4            3   Thursday             1        1\n",
      "4 2018-01-05  2018      1    5            4     Friday             1        1\n"
     ]
    }
   ],
   "source": [
    "## DIMENSION TIEMPO\n",
    "# Definir el rango de fechas\n",
    "start_date = '2018-01-01'\n",
    "end_date = '2023-12-31'\n",
    "date_range = pd.date_range(start=start_date, end=end_date, freq='D')\n",
    "\n",
    "# Crear el DataFrame con el rango de fechas\n",
    "calendar_df = pd.DataFrame(date_range, columns=['date'])\n",
    "\n",
    "# Agregar columnas adicionales\n",
    "calendar_df['year'] = calendar_df['date'].dt.year\n",
    "calendar_df['month'] = calendar_df['date'].dt.month\n",
    "calendar_df['month_name'] = calendar_df['date'].dt.strftime('%B')\n",
    "calendar_df['day'] = calendar_df['date'].dt.day\n",
    "calendar_df['day_of_week'] = calendar_df['date'].dt.dayofweek\n",
    "calendar_df['day_name'] = calendar_df['date'].dt.day_name()\n",
    "calendar_df['week_of_year'] = calendar_df['date'].dt.isocalendar().week\n",
    "calendar_df['quarter'] = calendar_df['date'].dt.quarter\n",
    "calendar_df['semester'] = calendar_df['date'].dt.month.apply(lambda x: 1 if x <= 6 else 2)\n",
    "\n",
    "# Mostrar el DataFrame\n",
    "print(calendar_df.head())"
   ]
  },
  {
   "cell_type": "code",
   "execution_count": 3,
   "metadata": {},
   "outputs": [
    {
     "name": "stdout",
     "output_type": "stream",
     "text": [
      "        Date  Year  Month Month_name  Week  Quarter  Semester\n",
      "0 2018-01-01  2018      1    January     1        1         1\n",
      "1 2018-01-02  2018      1    January     1        1         1\n",
      "2 2018-01-03  2018      1    January     1        1         1\n",
      "3 2018-01-04  2018      1    January     1        1         1\n",
      "4 2018-01-05  2018      1    January     1        1         1\n",
      "           Date  Year  Month Month_name  Week  Quarter  Semester\n",
      "2186 2023-12-27  2023     12   December    52        4         2\n",
      "2187 2023-12-28  2023     12   December    52        4         2\n",
      "2188 2023-12-29  2023     12   December    52        4         2\n",
      "2189 2023-12-30  2023     12   December    52        4         2\n",
      "2190 2023-12-31  2023     12   December    52        4         2\n"
     ]
    }
   ],
   "source": [
    "## DIMENSION TIEMPO\n",
    "# Definir el rango de fechas\n",
    "start_date = '2018-01-01'\n",
    "end_date = '2023-12-31'\n",
    "date_range = pd.date_range(start=start_date, end=end_date, freq='D')\n",
    "\n",
    "# Crear el DataFrame con el rango de fechas\n",
    "calendar_df = pd.DataFrame(date_range, columns=['Date'])\n",
    "\n",
    "calendar_df =  calendar_df.assign(Year = lambda x: x['Date'].dt.year,\n",
    "                                  Month = lambda x: x['Date'].dt.month,\n",
    "                                  Month_name = lambda x:x['Date'].dt.strftime('%B'),\n",
    "                                  Week = lambda x: x['Date'].dt.isocalendar().week,\n",
    "                                  Quarter = lambda x: x['Date'].dt.quarter,\n",
    "                                  Semester = lambda x: x['Month'].apply(lambda x: 1 if x <= 6 else 2))\n",
    "print(calendar_df.head())\n",
    "print(calendar_df.tail())"
   ]
  },
  {
   "cell_type": "code",
   "execution_count": null,
   "metadata": {},
   "outputs": [],
   "source": [
    "def is_palindrome(word):\n",
    "    \"\"\"\n",
    "    Checks if a given word is a palindrome.\n",
    "\n",
    "    Args:\n",
    "        word (str): The word to check.\n",
    "\n",
    "    Returns:\n",
    "        bool: True if the word is a palindrome, False otherwise.\n",
    "    \"\"\"\n",
    "\n",
    "    # Compare the word to its reverse using slicing\n",
    "    return word == word[::-1]\n",
    "\n",
    "# Example usage\n",
    "words = [\"racecar\", \"level\", \"hello\", \"madam\"]\n",
    "for word in words:\n",
    "    if is_palindrome(word):\n",
    "        print(f\"{word} is a palindrome!\")\n",
    "    else:\n",
    "        print(f\"{word} is not a palindrome.\")"
   ]
  },
  {
   "cell_type": "code",
   "execution_count": null,
   "metadata": {},
   "outputs": [],
   "source": [
    "SELECT SUM(Total_deaths)\n",
    "FROM df\n",
    "WHERE location = 'Bolivia'"
   ]
  },
  {
   "cell_type": "code",
   "execution_count": null,
   "metadata": {},
   "outputs": [],
   "source": [
    "df[df['continent'] == 'South America'].[['location', 'new_cases', 'new_deaths']].groupby('location')\n",
    "\n",
    "# Aggregate cases and deaths with sums\n",
    "result_df = grouped_df.agg(\n",
    "    total_cases=('new_cases', 'sum'),\n",
    "    total_deaths=('new_deaths', 'sum')\n",
    ").reset_index()"
   ]
  }
 ],
 "metadata": {
  "kernelspec": {
   "display_name": "Python 3",
   "language": "python",
   "name": "python3"
  },
  "language_info": {
   "codemirror_mode": {
    "name": "ipython",
    "version": 3
   },
   "file_extension": ".py",
   "mimetype": "text/x-python",
   "name": "python",
   "nbconvert_exporter": "python",
   "pygments_lexer": "ipython3",
   "version": "3.12.0"
  }
 },
 "nbformat": 4,
 "nbformat_minor": 2
}
