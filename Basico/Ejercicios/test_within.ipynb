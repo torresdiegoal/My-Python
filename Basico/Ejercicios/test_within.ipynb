{
 "cells": [
  {
   "cell_type": "code",
   "execution_count": 2,
   "metadata": {},
   "outputs": [
    {
     "name": "stdout",
     "output_type": "stream",
     "text": [
      "False\n"
     ]
    }
   ],
   "source": [
    "# Build a function that validates a password taking into a count the following constraints:\n",
    "\n",
    "import re\n",
    "\n",
    "def StringChallenge(strParam):\n",
    "\n",
    "  # At least a capital letter\n",
    "  if not any(c.isupper() for c in strParam):\n",
    "    return False\n",
    "\n",
    "  # At least one number\n",
    "  if not any(c.isdigit() for c in strParam):\n",
    "    return False\n",
    "\n",
    "  # At least a punctuation mark or math symbol\n",
    "  # ^ negates the character class.\n",
    "  # \\w: This matches any word character (alphanumeric character plus underscore), which is equivalent to [a-zA-Z0-9_]\n",
    "  # \\s: This matches any whitespace character (spaces, tabs, newlines, etc.).\n",
    "  pattern = r'[^\\w\\s]'\n",
    "  if not re.search(pattern,strParam):\n",
    "    return False\n",
    "\n",
    "  # No 'password'\n",
    "  if 'password' in strParam.lower():\n",
    "    return False\n",
    "\n",
    "  #  It must be longer than 7 characters and shorter than 31 characters.\n",
    "  if not (8 <= len(strParam) <= 30):\n",
    "    return False\n",
    "\n",
    "  return True\n",
    "\n",
    "# keep this function call here \n",
    "print(StringChallenge('01Password+'))"
   ]
  }
 ],
 "metadata": {
  "kernelspec": {
   "display_name": "Python 3",
   "language": "python",
   "name": "python3"
  },
  "language_info": {
   "codemirror_mode": {
    "name": "ipython",
    "version": 3
   },
   "file_extension": ".py",
   "mimetype": "text/x-python",
   "name": "python",
   "nbconvert_exporter": "python",
   "pygments_lexer": "ipython3",
   "version": "3.11.5"
  }
 },
 "nbformat": 4,
 "nbformat_minor": 2
}
