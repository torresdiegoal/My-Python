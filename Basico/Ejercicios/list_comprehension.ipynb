{
 "cells": [
  {
   "cell_type": "code",
   "execution_count": 5,
   "metadata": {},
   "outputs": [],
   "source": [
    "# from https://www.programiz.com/python-programming/online-compiler/\n",
    "\n",
    "\n",
    "# lista de tuplas, convertible en pd.Series() o pd.DataFrame()\n",
    "students = [(\"Allen Strong\", \"Computer Science\"),\n",
    "            (\"Albert Einstein\", \"Engineering\"),\n",
    "            (\"Farrah Finn\", \"Fine Arts\"),\n",
    "            (\"Monica Taylor\", \"IT\"),\n",
    "            (\"Vikas Mehta\", \"Computer Engineering\"),\n",
    "            (\"Jean Taylor\", \"Finance\")] "
   ]
  },
  {
   "cell_type": "code",
   "execution_count": 8,
   "metadata": {},
   "outputs": [
    {
     "name": "stdout",
     "output_type": "stream",
     "text": [
      "[{'Computer Science', 'Allen Strong'}, {'Engineering', 'Albert Einstein'}, {'Fine Arts', 'Farrah Finn'}, {'Monica Taylor', 'IT'}, {'Vikas Mehta', 'Computer Engineering'}, {'Finance', 'Jean Taylor'}]\n"
     ]
    }
   ],
   "source": [
    "# Convert students to a list of dictionaries\n",
    "tmp = [{name, major} for name, major in students]\n",
    "print(tmp)"
   ]
  },
  {
   "cell_type": "code",
   "execution_count": 3,
   "metadata": {},
   "outputs": [
    {
     "name": "stdout",
     "output_type": "stream",
     "text": [
      "[{'name': 'Allen Strong', 'major': 'Computer Science'}, {'name': 'Albert Einstein', 'major': 'Engineering'}, {'name': 'Farrah Finn', 'major': 'Fine Arts'}, {'name': 'Monica Taylor', 'major': 'IT'}, {'name': 'Vikas Mehta', 'major': 'Computer Engineering'}, {'name': 'Jean Taylor', 'major': 'Finance'}]\n"
     ]
    }
   ],
   "source": [
    "# Convert students to a list of dictionaries\n",
    "students_dict = [{\"name\": name, \"major\": major} for name, major in students]\n",
    "print(students_dict)"
   ]
  },
  {
   "cell_type": "code",
   "execution_count": 14,
   "metadata": {},
   "outputs": [
    {
     "data": {
      "text/plain": [
       "[{'name': 'Allen Strong', 'major': 'Computer Science'},\n",
       " {'name': 'Albert Einstein', 'major': 'Engineering'}]"
      ]
     },
     "execution_count": 14,
     "metadata": {},
     "output_type": "execute_result"
    }
   ],
   "source": [
    "students_dict[0:2]"
   ]
  },
  {
   "cell_type": "code",
   "execution_count": 5,
   "metadata": {},
   "outputs": [
    {
     "name": "stdout",
     "output_type": "stream",
     "text": [
      "['Allen Strong', 'Albert Einstein', 'Farrah Finn', 'Monica Taylor', 'Vikas Mehta', 'Jean Taylor']\n"
     ]
    }
   ],
   "source": [
    "# Extraer solo los nombres de los estudiantes en una lista\n",
    "student_names = [students_dict[\"name\"] for students_dict in students_dict]\n",
    "print(student_names)"
   ]
  },
  {
   "cell_type": "code",
   "execution_count": 4,
   "metadata": {},
   "outputs": [
    {
     "name": "stdout",
     "output_type": "stream",
     "text": [
      "[('Allen Strong', 'Computer Science'), ('Albert Einstein', 'Engineering'), ('Farrah Finn', 'Fine Arts'), ('Monica Taylor', 'IT'), ('Vikas Mehta', 'Computer Engineering'), ('Jean Taylor', 'Finance')]\n"
     ]
    }
   ],
   "source": [
    "# Crear una lista de tuplas con pares (nombre, carrera)\n",
    "name_major_pairs = [(students_dict[\"name\"], students_dict[\"major\"]) for students_dict in students_dict]\n",
    "print(name_major_pairs)"
   ]
  },
  {
   "cell_type": "code",
   "execution_count": 5,
   "metadata": {},
   "outputs": [
    {
     "name": "stdout",
     "output_type": "stream",
     "text": [
      "<list_iterator object at 0x000002251865FF10>\n",
      "1\n",
      "2\n"
     ]
    }
   ],
   "source": [
    "# iter()\n",
    "my_list = [1, 2, 3, 4]\n",
    "my_iterator = iter(my_list)\n",
    "\n",
    "print(my_iterator)\n",
    "print(next(my_iterator))  # Output: 1\n",
    "print(next(my_iterator))  # Output: 2\n",
    "\n",
    "# for item in my_iterator:\n",
    "#     print(item)           # Output: 3, 4"
   ]
  },
  {
   "cell_type": "code",
   "execution_count": 11,
   "metadata": {},
   "outputs": [
    {
     "name": "stdout",
     "output_type": "stream",
     "text": [
      "1\n"
     ]
    },
    {
     "ename": "TypeError",
     "evalue": "'int' object is not iterable",
     "output_type": "error",
     "traceback": [
      "\u001b[1;31m---------------------------------------------------------------------------\u001b[0m",
      "\u001b[1;31mTypeError\u001b[0m                                 Traceback (most recent call last)",
      "Cell \u001b[1;32mIn[11], line 5\u001b[0m\n\u001b[0;32m      3\u001b[0m \u001b[38;5;28;01mfor\u001b[39;00m item \u001b[38;5;129;01min\u001b[39;00m my_list:\n\u001b[0;32m      4\u001b[0m     \u001b[38;5;28mprint\u001b[39m(item)     \n\u001b[1;32m----> 5\u001b[0m     \u001b[38;5;28mprint\u001b[39m(\u001b[38;5;124m'\u001b[39m\u001b[38;5;124m'\u001b[39m\u001b[38;5;241m.\u001b[39mjoin(\u001b[38;5;28;43msorted\u001b[39;49m\u001b[43m(\u001b[49m\u001b[43mitem\u001b[49m\u001b[43m)\u001b[49m))       \u001b[38;5;66;03m# Output: 3, 4\u001b[39;00m\n",
      "\u001b[1;31mTypeError\u001b[0m: 'int' object is not iterable"
     ]
    }
   ],
   "source": [
    "my_list = [1, 2, 3, 4]\n",
    "\n",
    "for item in my_list:\n",
    "    print(item)     \n",
    "    print(''.join(sorted(item)))   # join solo para strings"
   ]
  }
 ],
 "metadata": {
  "kernelspec": {
   "display_name": "Python 3",
   "language": "python",
   "name": "python3"
  },
  "language_info": {
   "codemirror_mode": {
    "name": "ipython",
    "version": 3
   },
   "file_extension": ".py",
   "mimetype": "text/x-python",
   "name": "python",
   "nbconvert_exporter": "python",
   "pygments_lexer": "ipython3",
   "version": "3.11.5"
  }
 },
 "nbformat": 4,
 "nbformat_minor": 2
}
