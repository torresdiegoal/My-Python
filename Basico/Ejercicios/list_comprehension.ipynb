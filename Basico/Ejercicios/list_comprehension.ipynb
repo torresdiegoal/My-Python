{
 "cells": [
  {
   "cell_type": "code",
   "execution_count": 1,
   "metadata": {},
   "outputs": [],
   "source": [
    "# from https://www.programiz.com/python-programming/online-compiler/\n",
    "\n",
    "\n",
    "# lista de tuplas, convertible en pd.Series() o pd.DataFrame()\n",
    "students = [(\"Allen Strong\", \"Computer Science\"),\n",
    "            (\"Albert Einstein\", \"Engineering\"),\n",
    "            (\"Farrah Finn\", \"Fine Arts\"),\n",
    "            (\"Monica Taylor\", \"IT\"),\n",
    "            (\"Vikas Mehta\", \"Computer Engineering\"),\n",
    "            (\"Jean Taylor\", \"Finance\")] "
   ]
  },
  {
   "cell_type": "code",
   "execution_count": 3,
   "metadata": {},
   "outputs": [
    {
     "name": "stdout",
     "output_type": "stream",
     "text": [
      "[{'name': 'Allen Strong', 'major': 'Computer Science'}, {'name': 'Albert Einstein', 'major': 'Engineering'}, {'name': 'Farrah Finn', 'major': 'Fine Arts'}, {'name': 'Monica Taylor', 'major': 'IT'}, {'name': 'Vikas Mehta', 'major': 'Computer Engineering'}, {'name': 'Jean Taylor', 'major': 'Finance'}]\n"
     ]
    }
   ],
   "source": [
    "# Convert students to a list of dictionaries\n",
    "students_dict = [{\"name\": name, \"major\": major} for name, major in students]\n",
    "print(students_dict)"
   ]
  },
  {
   "cell_type": "code",
   "execution_count": 5,
   "metadata": {},
   "outputs": [
    {
     "name": "stdout",
     "output_type": "stream",
     "text": [
      "['Allen Strong', 'Albert Einstein', 'Farrah Finn', 'Monica Taylor', 'Vikas Mehta', 'Jean Taylor']\n"
     ]
    }
   ],
   "source": [
    "# Extraer solo los nombres de los estudiantes en una lista\n",
    "student_names = [students_dict[\"name\"] for students_dict in students_dict]\n",
    "print(student_names)"
   ]
  },
  {
   "cell_type": "code",
   "execution_count": null,
   "metadata": {},
   "outputs": [],
   "source": [
    "# Crear una lista de tuplas con pares (nombre, carrera)\n",
    "name_major_pairs = [(students_dict[\"name\"], students_dict[\"major\"]) for students_dict in students_dict]\n",
    "print(name_major_pairs)"
   ]
  }
 ],
 "metadata": {
  "kernelspec": {
   "display_name": "Python 3",
   "language": "python",
   "name": "python3"
  },
  "language_info": {
   "codemirror_mode": {
    "name": "ipython",
    "version": 3
   },
   "file_extension": ".py",
   "mimetype": "text/x-python",
   "name": "python",
   "nbconvert_exporter": "python",
   "pygments_lexer": "ipython3",
   "version": "3.11.5"
  }
 },
 "nbformat": 4,
 "nbformat_minor": 2
}
