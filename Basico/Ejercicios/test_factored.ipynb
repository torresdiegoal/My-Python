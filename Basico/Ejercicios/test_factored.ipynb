{
 "cells": [
  {
   "cell_type": "code",
   "execution_count": null,
   "metadata": {},
   "outputs": [],
   "source": [
    "Given the following two tables, write a query that returns the number of campaigns and total amount of impressions per advertiser during October 2022. \n",
    "If an advertiser had no campaigns, or a campaign had no impressions then return a row with 0 (instead of dropping the row).\n",
    "\n",
    "advertiser_table\n",
    "Advertiser_id, campaign_id\n",
    "a1,c1\n",
    "a1,c2\n",
    "a2,c3\n",
    "\n",
    "campaign_table\n",
    "campaign_id, date, impression\n",
    "c1, 2022-10-01, 10000\n",
    "c1, 2022-10-02, 20000\n",
    "c2, 2022-10-01, 10000\n",
    "\n",
    "SELECT \n",
    " a.Advertiser_id,\n",
    " count(DISTINCT a.campaign_id) as n_campaigns,\n",
    " coalesce(sum(c.impression),0) as total_impressions\n",
    "FROM advertiser_table a \n",
    "LEFT JOIN campaign_table c\n",
    "  ON (a.campaign_id = c.campaign_id)\n",
    "  AND c.date BETWEEN '2022-10-01' and '2022-10-31'\n",
    "GROUP BY a.Advertiser_id\n",
    "\n",
    "\n",
    "\n",
    "\n",
    "\n",
    "\n",
    "Let's call an array A a mountain if the following properties hold:\n",
    "- A.length >= 3\n",
    "- There exists some 0 < i < A.length - 1 such that A[0] < A[1] < ... A[i-1] < A[i] > A[i+1] > ... > A[A.length - 1]\n",
    "- Given an array that is definitely a mountain, return any i such that A[0] < A[1] < ... A[i-1] < A[i] > A[i+1] > ... > A[A.length - 1].\n",
    "\n",
    "Example\n",
    "Given the array A = [0 1 2 3 6 4 2 1] the peak is at the index 4.\n",
    "So, your function should return the number 4\n",
    "\n",
    "def mountain (A):\n",
    "\tfor i range(1, len(A) -1):\n",
    "  \tif A[i - 1] < A[i] and A[i] > A[i + 1]:\n",
    "    \treturn i"
   ]
  }
 ],
 "metadata": {
  "language_info": {
   "name": "python"
  }
 },
 "nbformat": 4,
 "nbformat_minor": 2
}
