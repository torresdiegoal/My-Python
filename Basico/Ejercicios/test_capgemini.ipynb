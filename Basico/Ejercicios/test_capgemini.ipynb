{
 "cells": [
  {
   "cell_type": "code",
   "execution_count": null,
   "metadata": {},
   "outputs": [],
   "source": [
    "# Group Anagrams\n",
    "# Given an array of strings, group anagrams together.\n",
    "\n",
    "def group_anagrams (list):\n",
    "    sorted_word = \"\".join(sorted(list))\n",
    "    # maybe I should count each letter\n",
    "    counter = counter(sorted_word)\n",
    "\n",
    "    if  \n",
    "    return \n",
    "\n",
    "print(group_anagrams([\"eat\", \"tea\", \"tan\", \"ate\", \"nat\", \"bat\"]))\n",
    " \n",
    "# Output: [[\"eat\",\"tea\",\"ate\"], [\"tan\",\"nat\"], [\"bat\"]]"
   ]
  },
  {
   "cell_type": "code",
   "execution_count": 5,
   "metadata": {},
   "outputs": [
    {
     "name": "stdout",
     "output_type": "stream",
     "text": [
      "atebateatnattantea\n"
     ]
    }
   ],
   "source": [
    "x = [\"eat\", \"tea\", \"tan\", \"ate\", \"nat\", \"bat\"]\n",
    "# str.split(x)\n",
    "\n",
    "sorted_word = \"\".join(sorted(x))\n",
    "print(counter(sorted_word))"
   ]
  },
  {
   "cell_type": "code",
   "execution_count": null,
   "metadata": {},
   "outputs": [],
   "source": [
    "# Table name: delivery_orders\n",
    " \n",
    "# delivery_id                 int        --id of delivery\n",
    "# order_place_time            timestamp  --time order was placed\n",
    "# delivery_rating             int        --delivery rating, scale from 0 to 5\n",
    "# driver_id                   int        --id of driver/ deliverer\n",
    "# restaurant_id               int        --id of restaurant\n",
    "# customer_id                 int        --id of customer\n",
    " \n",
    " \n",
    "# Table name: customers\n",
    " \n",
    "# customer_id                 int        --id of customer\n",
    "# customer_name               string     --customer name\n",
    "# address_id                  int        --id of address\n",
    "# contact_id                  int        --id of contact details\n",
    "# details_id                  int        --id of personal details\n",
    " \n",
    "# Q: Find the top 3 rated drivers. Only consider drivers who have delivered at least 20 orders. \n",
    "\n",
    "select top 3\n",
    " driver_id,\n",
    " --count(delivery_id) as count_delivery\n",
    "from delivery_orders\n",
    "group by driver_id\n",
    "having count(delivery_id) >= 20\n",
    "order by delivery_rating, count_delivery desc\n"
   ]
  },
  {
   "cell_type": "code",
   "execution_count": null,
   "metadata": {},
   "outputs": [],
   "source": [
    "#Pull the avg time between a customer’s first and second transaction.\n",
    "with consecutiveTransac as (\n",
    "    select\n",
    "    customer_id,\n",
    "    order_place_time,\n",
    "    lead(order_place_time) over (partition by customer_id order by order_place_time) as next_transac\n",
    "    from delivery_orders\n",
    ")\n",
    "\n",
    "select\n",
    "customer_id,\n",
    "avg(next_transac - order_place_time) as result\n",
    "from consecutiveTransac\n",
    "where next_transac IS NOT NULL\n",
    "group by customer_id"
   ]
  }
 ],
 "metadata": {
  "kernelspec": {
   "display_name": "Python 3",
   "language": "python",
   "name": "python3"
  },
  "language_info": {
   "codemirror_mode": {
    "name": "ipython",
    "version": 3
   },
   "file_extension": ".py",
   "mimetype": "text/x-python",
   "name": "python",
   "nbconvert_exporter": "python",
   "pygments_lexer": "ipython3",
   "version": "3.12.0"
  }
 },
 "nbformat": 4,
 "nbformat_minor": 2
}
