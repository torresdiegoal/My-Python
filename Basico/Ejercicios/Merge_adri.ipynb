{
 "cells": [
  {
   "cell_type": "code",
   "execution_count": 7,
   "metadata": {},
   "outputs": [
    {
     "name": "stdout",
     "output_type": "stream",
     "text": [
      "Dimensiones:\n",
      "(16, 37)\n",
      "       Mineral MSH-01-PC1  MSH-01-PC-3T MSH-02-PC1 MSH-03-PC1 MSH-03-PC-3T  \\\n",
      "0       Cuarzo      0.455         0.444      0.389      0.442         0.41   \n",
      "1  Plagioclasa      0.116         0.121      0.125      0.106         0.12   \n",
      "2   Feldespato      0.019         0.000          0          0        0.027   \n",
      "3    Esmectita      0.037         0.032      0.028      0.047        0.029   \n",
      "4    Caolinita      0.132         0.125      0.128      0.132        0.132   \n",
      "\n",
      "  MSH-04-PC1 MSH-04-PC-3T MSH-05-PC1 MSH-05-PC-3T  ... MSH-19-PC-1T  \\\n",
      "0      0.487        0.373      0.426        0.388  ...        0.466   \n",
      "1       0.08        0.116      0.122        0.123  ...        0.093   \n",
      "2      0.031        0.019      0.031        0.019  ...           0%   \n",
      "3      0.032        0.047      0.032        0.045  ...        0.013   \n",
      "4      0.137        0.159      0.125        0.126  ...        0.058   \n",
      "\n",
      "  MSH-20-PC-1B MSH-20-PC-1T MSH-21-PC1 MSH-21-PC-1T MSH-23-PC-1B MSH-25PC1  \\\n",
      "0        0.638        0.487      0.607        0.554        0.441     0.617   \n",
      "1        0.111        0.116      0.141        0.114        0.156     0.145   \n",
      "2        0.014        0.017         0%        0.069           0%        0%   \n",
      "3        0.018        0.017      0.017        0.021        0.041     0.022   \n",
      "4        0.072        0.097      0.082        0.073        0.157     0.098   \n",
      "\n",
      "  MSH-25-PC-2T MSH-26-PC1 MSH-26-PC-2T  \n",
      "0        0.631      0.805        0.326  \n",
      "1         0.16      0.069        0.063  \n",
      "2           0%      0.009           0%  \n",
      "3        0.016      0.013           <1  \n",
      "4        0.089      0.038        0.066  \n",
      "\n",
      "[5 rows x 37 columns]\n",
      " \n",
      "Summary:\n",
      "<class 'pandas.core.frame.DataFrame'>\n",
      "RangeIndex: 16 entries, 0 to 15\n",
      "Data columns (total 37 columns):\n",
      " #   Column        Non-Null Count  Dtype  \n",
      "---  ------        --------------  -----  \n",
      " 0   Mineral       16 non-null     object \n",
      " 1   MSH-01-PC1    16 non-null     object \n",
      " 2   MSH-01-PC-3T  16 non-null     float64\n",
      " 3   MSH-02-PC1    16 non-null     object \n",
      " 4   MSH-03-PC1    16 non-null     object \n",
      " 5   MSH-03-PC-3T  16 non-null     object \n",
      " 6   MSH-04-PC1    16 non-null     object \n",
      " 7   MSH-04-PC-3T  16 non-null     object \n",
      " 8   MSH-05-PC1    16 non-null     object \n",
      " 9   MSH-05-PC-3T  16 non-null     object \n",
      " 10  MSH-06-PC1    16 non-null     object \n",
      " 11  MSH-06-PC-3T  16 non-null     object \n",
      " 12  MSH-09-PC1    16 non-null     object \n",
      " 13  MSH-09-PC-3T  16 non-null     object \n",
      " 14  MSH-10-PC1    16 non-null     object \n",
      " 15  MSH-10-PC-2T  16 non-null     object \n",
      " 16  MSH-11-PC1    16 non-null     object \n",
      " 17  MSH-11-PC-1T  16 non-null     object \n",
      " 18  MSH-12-PC1    16 non-null     object \n",
      " 19  MSH-12-PC-1T  16 non-null     object \n",
      " 20  MSH-13-PC1    16 non-null     object \n",
      " 21  MSH-13-PC-2T  16 non-null     object \n",
      " 22  MSH-14-PC1    16 non-null     object \n",
      " 23  MSH-14-PC-1T  16 non-null     object \n",
      " 24  MSH-18-PC1    16 non-null     object \n",
      " 25  MSH-18-PC-1T  16 non-null     object \n",
      " 26  MSH-19-PC-1B  16 non-null     object \n",
      " 27  MSH-19-PC-1T  16 non-null     object \n",
      " 28  MSH-20-PC-1B  16 non-null     object \n",
      " 29  MSH-20-PC-1T  16 non-null     object \n",
      " 30  MSH-21-PC1    16 non-null     object \n",
      " 31  MSH-21-PC-1T  16 non-null     object \n",
      " 32  MSH-23-PC-1B  16 non-null     object \n",
      " 33  MSH-25PC1     16 non-null     object \n",
      " 34  MSH-25-PC-2T  16 non-null     object \n",
      " 35  MSH-26-PC1    16 non-null     object \n",
      " 36  MSH-26-PC-2T  16 non-null     object \n",
      "dtypes: float64(1), object(36)\n",
      "memory usage: 4.8+ KB\n"
     ]
    }
   ],
   "source": [
    "import pandas as pd\n",
    "\n",
    "inpath = \"E:/OneDrive/Python/My-Python/Basico/Ejercicios/\"\n",
    "#inpath = \"C:/Users/diego.torres/OneDrive/Datasets/Tuboleta/Hubspot/\"\n",
    "\n",
    "tb_ini = pd.read_csv(inpath + 'DRX.csv',delimiter=',')\n",
    "\n",
    "print('Dimensiones:')\n",
    "print(tb_ini.shape)\n",
    "print(tb_ini.head(5))\n",
    "print(' ')\n",
    "print('Summary:')\n",
    "tb_ini.info()"
   ]
  },
  {
   "cell_type": "code",
   "execution_count": 8,
   "metadata": {},
   "outputs": [
    {
     "name": "stdout",
     "output_type": "stream",
     "text": [
      "         Mineral       Muestra  Valor\n",
      "0         Cuarzo    MSH-01-PC1  0.455\n",
      "1    Plagioclasa    MSH-01-PC1  0.116\n",
      "2     Feldespato    MSH-01-PC1  0.019\n",
      "3      Esmectita    MSH-01-PC1  0.037\n",
      "4      Caolinita    MSH-01-PC1  0.132\n",
      "..           ...           ...    ...\n",
      "571       Pirita  MSH-26-PC-2T      0\n",
      "572      Clorita  MSH-26-PC-2T  0.006\n",
      "573     Siderita  MSH-26-PC-2T     0%\n",
      "574      Anatasa  MSH-26-PC-2T  0.008\n",
      "575       Halita  MSH-26-PC-2T  0.024\n",
      "\n",
      "[576 rows x 3 columns]\n"
     ]
    }
   ],
   "source": [
    "tidy_df = tb_ini.melt(id_vars=[\"Mineral\"], var_name=[\"Muestra\"], value_name=\"Valor\")\n",
    "print(tidy_df)"
   ]
  },
  {
   "cell_type": "code",
   "execution_count": 9,
   "metadata": {},
   "outputs": [],
   "source": [
    "# exportamos\n",
    "tidy_df.to_excel(inpath +'DRX_f.xlsx', \n",
    "               index=False, # El argumento 'index=False' evita que se incluyan los índices en el archivo CSV\n",
    "            ) "
   ]
  }
 ],
 "metadata": {
  "kernelspec": {
   "display_name": "Python 3",
   "language": "python",
   "name": "python3"
  },
  "language_info": {
   "codemirror_mode": {
    "name": "ipython",
    "version": 3
   },
   "file_extension": ".py",
   "mimetype": "text/x-python",
   "name": "python",
   "nbconvert_exporter": "python",
   "pygments_lexer": "ipython3",
   "version": "3.11.5"
  }
 },
 "nbformat": 4,
 "nbformat_minor": 2
}
