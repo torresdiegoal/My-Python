{
 "cells": [
  {
   "cell_type": "code",
   "execution_count": 48,
   "metadata": {},
   "outputs": [],
   "source": [
    "# from https://www.programiz.com/python-programming/online-compiler/\n",
    "\n",
    "import pandas as pd\n",
    "import numpy as np\n",
    "\n",
    "# lista de tuplas, convertible en pd.Series() o pd.DataFrame()\n",
    "students = [(\"Allen Strong\", \"Computer Science\"),\n",
    "            (\"Albert Einstein\", \"Engineering\"),\n",
    "            (\"Farrah Finn\", \"Fine Arts\"),\n",
    "            (\"Monica Taylor\", \"IT\"),\n",
    "            (\"Vikas Mehta\", \"Computer Engineering\"),\n",
    "            (\"Jean Taylor\", \"Finance\")] "
   ]
  },
  {
   "cell_type": "code",
   "execution_count": 45,
   "metadata": {},
   "outputs": [
    {
     "name": "stdout",
     "output_type": "stream",
     "text": [
      "[('Allen Strong', 'Computer Science'), ('Albert Einstein', 'Engineering'), ('Farrah Finn', 'Fine Arts'), ('Monica Taylor', 'IT'), ('Vikas Mehta', 'Computer Engineering'), ('Jean Taylor', 'Finance'), ('Adriana Strong', 'IT')]\n"
     ]
    }
   ],
   "source": [
    "# 1) Write a function to add a new student\n",
    "## a) USING THE ORIGINAL lista:\n",
    "# append funciona para listas pero hay que añadir al data structure correcto, aqui son tuplas\n",
    "def add_student(lista, name, major):\n",
    "    list.append((name, major))\n",
    "    return lista\n",
    "\n",
    "result = add_student(students,\"Adriana Strong\", \"IT\")\n",
    "print(result)\n",
    "\n",
    "## b) USING DATAFRAME\n",
    "# Crear un DataFrame DESPUES DE USAR LA FUNCION DE LISTAS\n",
    "df = pd.DataFrame(students, columns=[\"name\", \"major\"])"
   ]
  },
  {
   "cell_type": "code",
   "execution_count": 29,
   "metadata": {},
   "outputs": [
    {
     "name": "stdout",
     "output_type": "stream",
     "text": [
      "[('Allen Strong', 'Computer Science'), ('Albert Einstein', 'Engineering'), ('Farrah Finn', 'Fine Arts'), ('Monica Taylor', 'IT'), ('Vikas Mehta', 'Computer Engineering'), ('Jean Taylor', 'Finance'), ('Adriana Caipa', 'Data Engineer')]\n"
     ]
    }
   ],
   "source": [
    "# 2) Write a function to update a student's last name. Ex. Update: Albert's last name to \"John\"\n",
    "#def update_last_name():\n",
    "def update_student_last_name(lista, first_name, new_last_name):\n",
    "    # asi se ve enumerate(students)\n",
    "    # [(0, ('Allen Strong', 'Computer Science')), (1, ('Albert Einstein', 'Engineering')), (2, ('Farrah Finn', 'Fine Arts')), (3, ('Monica Taylor', 'IT')), (4, ('Vikas Mehta', 'Computer Engineering')), (5, ('Jean Taylor', 'Finance'))]\n",
    "    # solo visible asi: print(lista(enumerate(students)))\n",
    "    for i, (name, major) in enumerate(lista):\n",
    "        first, last = name.split()\n",
    "        if first == first_name:\n",
    "            lista[i] = (f\"{first} {new_last_name}\", major) # f-strings o formatted string literals\n",
    "    return lista\n",
    "\n",
    "\n",
    "result_2 = update_student_last_name(result,\"Adriana\",\"Caipa\")\n",
    "print(result_2)"
   ]
  },
  {
   "cell_type": "code",
   "execution_count": 30,
   "metadata": {},
   "outputs": [
    {
     "name": "stdout",
     "output_type": "stream",
     "text": [
      "Adriana Caipa, Data Engineer\n"
     ]
    }
   ],
   "source": [
    "\n",
    "# 3) Write a function to find a student by name and return the student's name and major as a string\n",
    "def name_mayor_string(lista,name_to_find):\n",
    "    # en este caso no uso i ya que no necesito modificar ninguna posicion\n",
    "    # mediante un list[i]\n",
    "    for name,major in lista:\n",
    "        #first,last = name.split()\n",
    "        if name == name_to_find:\n",
    "            string = f\"{name}, {major}\" # f-strings o formatted string literals\n",
    "            return string\n",
    "        \n",
    "result_3 = name_mayor_string(result_2,\"Adriana Caipa\")\n",
    "print(result_3)"
   ]
  },
  {
   "cell_type": "code",
   "execution_count": 60,
   "metadata": {},
   "outputs": [
    {
     "name": "stdout",
     "output_type": "stream",
     "text": [
      "['Computer Science', 'Engineering', 'IT', 'Fine Arts', 'Computer Engineering', 'Finance']\n",
      "<class 'list'>\n",
      "['Computer Engineering' 'Computer Science' 'Engineering' 'Finance'\n",
      " 'Fine Arts' 'IT']\n",
      "<class 'numpy.ndarray'>\n"
     ]
    }
   ],
   "source": [
    "# 4) Write a function to return all distinct majors\n",
    "## USING set(x)\n",
    "m = []\n",
    "def distinct_major(lista):\n",
    "    for name,major in lista:\n",
    "        m.append(major)\n",
    "    return list(set(m)) # set es el distinct de listas sin librerias PERO crea un diccionario, list(x) la convierte en lista\n",
    "\n",
    "result_4 = distinct_major(result)\n",
    "#print(result_4.union(result_4) )\n",
    "print(result_4)\n",
    "print(type(result_4))\n",
    "\n",
    "\n",
    "\n",
    "## USING np.unique(x)\n",
    "m = []\n",
    "def distinct_major(lista):\n",
    "    for name,major in lista:\n",
    "        m.append(major)\n",
    "    return np.unique(m) # set es el distinct de listas de numpy\n",
    "\n",
    "result_4 = distinct_major(result)\n",
    "print(result_4)\n",
    "print(type(result_4))\n",
    "\n",
    "#### CONCLUSION ###\n",
    "#class:list -> usado para almacenar datos heterogeneos (de varios tipos)\n",
    "#class:numpy.ndarray -> usado para almacenar datos homogeneos (del mismo tipos), muy usada en math"
   ]
  },
  {
   "cell_type": "code",
   "execution_count": 62,
   "metadata": {},
   "outputs": [
    {
     "data": {
      "text/plain": [
       "[{'name': 'Allen Strong', 'major': 'Computer Science'},\n",
       " {'name': 'Albert Einstein', 'major': 'Engineering'},\n",
       " {'name': 'Farrah Finn', 'major': 'Fine Arts'},\n",
       " {'name': 'Monica Taylor', 'major': 'IT'},\n",
       " {'name': 'Vikas Mehta', 'major': 'Computer Engineering'},\n",
       " {'name': 'Jean Taylor', 'major': 'Finance'}]"
      ]
     },
     "execution_count": 62,
     "metadata": {},
     "output_type": "execute_result"
    }
   ],
   "source": [
    "# 5) Convert students to a list of dictionaries\n",
    "# List Comprehension\n",
    "[{\"name\": name, \"major\": major} for name, major in students]\n",
    "#print(students_dict)\n"
   ]
  },
  {
   "cell_type": "code",
   "execution_count": null,
   "metadata": {},
   "outputs": [],
   "source": [
    "# 6) Create a Pyspark dataframe with the dictionary you created in question 5, enforce a schema\n",
    "from pyspark.sql import SparkSession\n",
    "from pyspark.sql.types import StructType, StructField, StringType\n",
    "\n",
    "# Crear una sesión de Spark\n",
    "spark = SparkSession.builder.appName(\"StudentsDataFrame\").getOrCreate()\n",
    "\n",
    "# Crear un esquema\n",
    "schema = StructType([\n",
    "    StructField(\"name\", StringType(), True),\n",
    "    StructField(\"major\", StringType(), True)\n",
    "])\n",
    "\n",
    "# Convertir estudiantes a una lista de diccionarios\n",
    "students_dict = convert_students_to_dicts(students)\n",
    "\n",
    "# Crear un DataFrame\n",
    "df = spark.createDataFrame(students_dict, schema)\n",
    "\n",
    "# Mostrar el DataFrame\n",
    "df.show()\n"
   ]
  },
  {
   "cell_type": "code",
   "execution_count": null,
   "metadata": {},
   "outputs": [],
   "source": [
    "# 7) Add a timestamp column\n",
    "from pyspark.sql.functions import current_timestamp\n",
    "\n",
    "# Agregar una columna de marca de tiempo\n",
    "df_with_timestamp = df.withColumn(\"timestamp\", current_timestamp())\n",
    "\n",
    "# Mostrar el DataFrame con la columna de marca de tiempo\n",
    "df_with_timestamp.show()"
   ]
  }
 ],
 "metadata": {
  "kernelspec": {
   "display_name": "Python 3",
   "language": "python",
   "name": "python3"
  },
  "language_info": {
   "codemirror_mode": {
    "name": "ipython",
    "version": 3
   },
   "file_extension": ".py",
   "mimetype": "text/x-python",
   "name": "python",
   "nbconvert_exporter": "python",
   "pygments_lexer": "ipython3",
   "version": "3.11.5"
  }
 },
 "nbformat": 4,
 "nbformat_minor": 2
}
