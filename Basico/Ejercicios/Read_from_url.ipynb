{
 "cells": [
  {
   "cell_type": "code",
   "execution_count": 2,
   "metadata": {},
   "outputs": [
    {
     "name": "stdout",
     "output_type": "stream",
     "text": [
      "| CodigoDepartamento   | NombreDepartamento   | CodigoMunicipio   | NombreMunicipio       | TipoMunicipio   | Latitud   | Longitud   |\n",
      "|:---------------------|:---------------------|:------------------|:----------------------|:----------------|:----------|:-----------|\n",
      "| 05                   | ANTIOQUIA            | 05001             | MEDELLÍN              | Municipio       | 6.25759   | -75.611    |\n",
      "| 05                   | ANTIOQUIA            | 05002             | ABEJORRAL             | Municipio       | 5.80373   | -75.4385   |\n",
      "| 05                   | ANTIOQUIA            | 05004             | ABRIAQUÍ              | Municipio       | 6.62757   | -76.086    |\n",
      "| 05                   | ANTIOQUIA            | 05021             | ALEJANDRÍA            | Municipio       | 6.36553   | -75.0906   |\n",
      "| 05                   | ANTIOQUIA            | 05030             | AMAGÁ                 | Municipio       | 6.03292   | -75.708    |\n",
      "| 05                   | ANTIOQUIA            | 05031             | AMALFI                | Municipio       | 6.97779   | -74.9812   |\n",
      "| 05                   | ANTIOQUIA            | 05034             | ANDES                 | Municipio       | 5.60499   | -75.9413   |\n",
      "| 05                   | ANTIOQUIA            | 05036             | ANGELÓPOLIS           | Municipio       | 6.12143   | -75.7159   |\n",
      "| 05                   | ANTIOQUIA            | 05038             | ANGOSTURA             | Municipio       | 6.8615    | -75.3583   |\n",
      "| 05                   | ANTIOQUIA            | 05040             | ANORÍ                 | Municipio       | 7.19311   | -75.1085   |\n",
      "| 05                   | ANTIOQUIA            | 05042             | SANTA FÉ DE ANTIOQUIA | Municipio       | 6.53571   | -75.9043   |\n",
      "| 05                   | ANTIOQUIA            | 05044             | ANZÁ                  | Municipio       | 6.29355   | -75.9174   |\n",
      "| 05                   | ANTIOQUIA            | 05045             | APARTADÓ              | Municipio       | 7.86048   | -76.5824   |\n",
      "| 05                   | ANTIOQUIA            | 05051             | ARBOLETES             | Municipio       | 8.6114    | -76.4148   |\n",
      "| 05                   | ANTIOQUIA            | 05055             | ARGELIA               | Municipio       | 5.70811   | -75.0947   |\n",
      "| 05                   | ANTIOQUIA            | 05059             | ARMENIA               | Municipio       | 6.16368   | -75.81     |\n",
      "| 05                   | ANTIOQUIA            | 05079             | BARBOSA               | Municipio       | 6.44342   | -75.3292   |\n",
      "| 05                   | ANTIOQUIA            | 05086             | BELMIRA               | Municipio       | 6.66585   | -75.6862   |\n",
      "| 05                   | ANTIOQUIA            | 05088             | BELLO                 | Municipio       | 6.35884   | -75.5897   |\n",
      "| 05                   | ANTIOQUIA            | 05091             | BETANIA               | Municipio       | 5.72708   | -75.9869   |\n"
     ]
    },
    {
     "name": "stderr",
     "output_type": "stream",
     "text": [
      "C:\\Users\\diego.torres\\AppData\\Local\\Temp\\ipykernel_25612\\648696022.py:13: FutureWarning: Passing bytes to 'read_excel' is deprecated and will be removed in a future version. To read from a byte string, wrap it in a `BytesIO` object.\n",
      "  divipola = pd.read_excel(response.content, header=10, skipfooter=10, dtype={'Código ': str, 'Código .1': str})\n"
     ]
    }
   ],
   "source": [
    "import pandas as pd\n",
    "import requests\n",
    "\n",
    "# URL del archivo Excel\n",
    "url = \"https://geoportal.dane.gov.co/descargas/divipola/DIVIPOLA_Municipios.xlsx\"\n",
    "\n",
    "# Hacer la solicitud HTTP para obtener el archivo\n",
    "response = requests.get(url)\n",
    "#print(response)\n",
    "\n",
    "# Leer el archivo Excel en un DataFrame de pandas\n",
    "#divipola_data = pd.read_excel(BytesIO(response.content))\n",
    "divipola = pd.read_excel(response.content, header=10, skipfooter=10, dtype={'Código ': str, 'Código .1': str})\n",
    "#print(divipola.columns)\n",
    "\n",
    "# Eliminar la última columna\n",
    "divipola = divipola.iloc[:, :-1]  # Seleccionar todas las filas (:) y todas las columnas excepto la última (:-1)\n",
    "\n",
    "# Lista con los nuevos nombres de las columnas\n",
    "nuevos_nombres = [\"CodigoDepartamento\", \"NombreDepartamento\", \"CodigoMunicipio\", \"NombreMunicipio\",'TipoMunicipio', \"Latitud\", \"Longitud\"]  # Asegúrate de que la lista tenga la misma longitud que el número de columnas\n",
    "\n",
    "# Renombrar las columnas\n",
    "divipola.columns = nuevos_nombres\n",
    "\n",
    "# Mostrar las primeras filas del DataFrame\n",
    "print(divipola.head(20).to_markdown(index=False, numalign=\"left\", stralign=\"left\"))\n",
    "#print(divipola.head(20))"
   ]
  },
  {
   "cell_type": "code",
   "execution_count": 43,
   "metadata": {},
   "outputs": [
    {
     "name": "stdout",
     "output_type": "stream",
     "text": [
      "CodigoDepartamento    1122\n",
      "NombreDepartamento    1122\n",
      "CodigoMunicipio       1122\n",
      "NombreMunicipio       1122\n",
      "Tipo                  1122\n",
      "Latitud               1122\n",
      "Longitud              1122\n",
      "dtype: int64\n"
     ]
    }
   ],
   "source": [
    "print(divipola.count())"
   ]
  },
  {
   "cell_type": "code",
   "execution_count": 4,
   "metadata": {},
   "outputs": [
    {
     "name": "stdout",
     "output_type": "stream",
     "text": [
      "| CodigoDepartamento   | NombreDepartamento   | CodigoMunicipio   | NombreMunicipio   | TipoMunicipio          | Latitud     | Longitud   |\n",
      "|:---------------------|:---------------------|:------------------|:------------------|:-----------------------|:------------|:-----------|\n",
      "| 97                   | VAUPÉS               | 97001             | MITÚ              | Municipio              | 1.06148     | -70.4669   |\n",
      "| 97                   | VAUPÉS               | 97161             | CARURÚ            | Municipio              | 1.05276     | -71.3309   |\n",
      "| 97                   | VAUPÉS               | 97511             | PACOA             | Área no municipalizada | -0.00834364 | -70.5433   |\n",
      "| 97                   | VAUPÉS               | 97666             | TARAIRA           | Municipio              | -0.719822   | -69.9078   |\n",
      "| 97                   | VAUPÉS               | 97777             | PAPUNAHUA         | Área no municipalizada | 1.56931     | -70.9117   |\n",
      "| 97                   | VAUPÉS               | 97889             | YAVARATÉ          | Área no municipalizada | 0.833312    | -69.6187   |\n",
      "| 99                   | VICHADA              | 99001             | PUERTO CARREÑO    | Municipio              | 5.83653     | -68.1412   |\n",
      "| 99                   | VICHADA              | 99524             | LA PRIMAVERA      | Municipio              | 5.51759     | -69.6204   |\n",
      "| 99                   | VICHADA              | 99624             | SANTA ROSALÍA     | Municipio              | 4.96858     | -70.66     |\n",
      "| 99                   | VICHADA              | 99773             | CUMARIBO          | Municipio              | 4.26245     | -69.5214   |\n"
     ]
    }
   ],
   "source": [
    "print(divipola.tail(10).to_markdown(index=False, numalign=\"left\", stralign=\"left\"))"
   ]
  }
 ],
 "metadata": {
  "kernelspec": {
   "display_name": "Python 3",
   "language": "python",
   "name": "python3"
  },
  "language_info": {
   "codemirror_mode": {
    "name": "ipython",
    "version": 3
   },
   "file_extension": ".py",
   "mimetype": "text/x-python",
   "name": "python",
   "nbconvert_exporter": "python",
   "pygments_lexer": "ipython3",
   "version": "3.12.0"
  }
 },
 "nbformat": 4,
 "nbformat_minor": 2
}
