{
 "cells": [
  {
   "cell_type": "markdown",
   "metadata": {},
   "source": [
    "## Introducción a Pandas\n",
    "Pandas es una biblioteca de código en Python usada para trabajar con grandes conjuntos de datos.\n",
    "Tiene funciones para analizar, limpiar, explorar y manipular datos.\n",
    "El nombre \"Pandas\" hace una referencia para \"Panel Data\" (o Panel de Datos en español) y \"Python Data Analysis\" (Análisis de Datos en Python) y fue creada por Wes McKinney en 2008.\n",
    "\n",
    "¿Cuándo usar Pandas?\n",
    "Pandas nos permite analizar grandes cantidades de datos y llegar a conclusiones basado en teoremas estadísticos. Además, puede limpiar conjuntos de datos sucios, y hacerlos comprensibles y relevantes.\n",
    "\n",
    "\n",
    "¿Qué podemos hacer con Pandas?\n",
    "Pandas nos ofrece respuestas acerca de los datos como:\n",
    "¿Hay una co-relación entre dos o más columnas?\n",
    "¿Cuál es el valor promedio?\n",
    "¿El valor máximo?\n",
    "¿Y el mínimo?\n",
    "\n",
    "Pandas también nos puede facilitar borrar filas que no son relevantes, o que contengan valores erróneos, como valores vacíos o NULL. A esta práctica comúnmente le denominamos \"limpieza de datos\".\n",
    "\n",
    "Puedes encontrar su código fuente aquí https://github.com/pandas-dev/pandas\n",
    "\n",
    "\n",
    "\n",
    "\n"
   ]
  },
  {
   "cell_type": "code",
   "execution_count": null,
   "metadata": {},
   "outputs": [],
   "source": [
    "#Importamos Pandas así:\n",
    "import pandas"
   ]
  },
  {
   "cell_type": "code",
   "execution_count": null,
   "metadata": {},
   "outputs": [],
   "source": [
    "#acá un ejemplo:\n",
    "import pandas\n",
    "\n",
    "mi_conjunto_de_datos = {\n",
    "  'cars': [\"Tesla\", \"Volvo\", \"Ford\"],\n",
    "  'passings': [9, 7, 2]\n",
    "}\n",
    "\n",
    "data = pandas.DataFrame(mi_conjunto_de_datos)\n",
    "\n",
    "print(data)"
   ]
  },
  {
   "cell_type": "code",
   "execution_count": null,
   "metadata": {},
   "outputs": [],
   "source": [
    "#Pandas se suele importar con pd como alias\n",
    "import pandas as pd"
   ]
  },
  {
   "cell_type": "code",
   "execution_count": null,
   "metadata": {},
   "outputs": [],
   "source": [
    "#Ahora el paquete Pandas se puede utilizar con pd en vez de pandas\n",
    "import pandas as pd\n",
    "\n",
    "mi_dataset = {\n",
    "  'cars': [\"Tesla\", \"Volvo\", \"Ford\"],\n",
    "  'passings': [9, 7, 2]\n",
    "}\n",
    "\n",
    "data = pd.DataFrame(mi_dataset)\n",
    "\n",
    "print(data)\n"
   ]
  },
  {
   "cell_type": "code",
   "execution_count": null,
   "metadata": {},
   "outputs": [],
   "source": [
    "#Para verificar la versión de pandas usamos \n",
    "#el atributo __version__\n",
    "import pandas as pd\n",
    "print(pd.__version__)"
   ]
  },
  {
   "cell_type": "markdown",
   "metadata": {},
   "source": [
    "## Series en Pandas\n",
    "Una Serie en Pandas es como una columna en una tabla.\n",
    "Se trata de un arreglo uni-dimensional que guarda datos de cualquier tipo.\n"
   ]
  },
  {
   "cell_type": "code",
   "execution_count": null,
   "metadata": {},
   "outputs": [],
   "source": [
    "# por ejemplo, podemos crear una Serie en Pandas \n",
    "# desde una lista.\n",
    "import pandas as pd\n",
    "\n",
    "a = [1, 7, 2]\n",
    "\n",
    "mi_serie = pd.Series(a)\n",
    "\n",
    "print(mi_serie)"
   ]
  },
  {
   "cell_type": "markdown",
   "metadata": {},
   "source": [
    "## Etiquetas\n",
    "Si no se especifica nada más, los valores son etiquetados con su número de índice. El primer valor tiene índice 0, el segundo valor tiene índice 1, etcétera. Esta etiqueta puede ser usada para acceder a un valor en específico."
   ]
  },
  {
   "cell_type": "code",
   "execution_count": null,
   "metadata": {},
   "outputs": [],
   "source": [
    "# por ejemplo\n",
    "print(mi_serie[0])"
   ]
  },
  {
   "cell_type": "code",
   "execution_count": null,
   "metadata": {},
   "outputs": [],
   "source": [
    "## Creando etiquetas\n",
    "Con el argumento índice, puedes nombrar tus propias etiquetas"
   ]
  },
  {
   "cell_type": "code",
   "execution_count": null,
   "metadata": {},
   "outputs": [],
   "source": [
    "# por ejemplo\n",
    "import pandas as pd\n",
    "\n",
    "data = [1, 7, 2]\n",
    "\n",
    "mi_serie = pd.Series(data, index = [\"x\", \"y\", \"z\"])\n",
    "\n",
    "print(mi_serie)"
   ]
  },
  {
   "cell_type": "code",
   "execution_count": null,
   "metadata": {},
   "outputs": [],
   "source": [
    "# una vez que se ha creado la etiqueta, puedes acceder al \n",
    "# elemento al hacer referencia a la etiqueta\n",
    "print(mi_serie[\"y\"])"
   ]
  },
  {
   "cell_type": "markdown",
   "metadata": {},
   "source": [
    "## Objetos con Llave/Valor como Series\n",
    "Puedes también usar un objeto llave/valor, como un diccionario, al crear una Serie."
   ]
  },
  {
   "cell_type": "code",
   "execution_count": null,
   "metadata": {},
   "outputs": [],
   "source": [
    "# por ejemplo\n",
    "import pandas as pd\n",
    "\n",
    "calorias = {\"day 1\": 420, \"day 2\": 380, \"day 3\": 390}\n",
    "\n",
    "mi_serie = pd.Series(calorias)\n",
    "\n",
    "print(mi_serie)"
   ]
  },
  {
   "cell_type": "markdown",
   "metadata": {},
   "source": [
    "Para seleccionar sólo algunos de los elementos del diccionario, usamos el argumento index y especificamos únicamente los elementos que queremos incluir en la Serie."
   ]
  },
  {
   "cell_type": "code",
   "execution_count": null,
   "metadata": {},
   "outputs": [],
   "source": [
    "# por ejemplo \n",
    "import pandas as pd\n",
    "\n",
    "calorias = {\"day1\": 420, \"day2\": 380, \"day3\": 390}\n",
    "\n",
    "mi_serie = pd.Series(calorias, index = [\"day1\", \"day2\"])\n",
    "\n",
    "print(mi_serie)"
   ]
  },
  {
   "cell_type": "markdown",
   "metadata": {},
   "source": [
    "## DataFrames (o Marcos de Datos)\n",
    "Los conjuntos de datos en Pandas son usualmente tablas multi-dimensionales, llamadas DataFrames.\n",
    "\n",
    "Si la Serie es como una columna, un DataFrame es la tabla completa.\n"
   ]
  },
  {
   "cell_type": "code",
   "execution_count": 4,
   "metadata": {},
   "outputs": [
    {
     "name": "stdout",
     "output_type": "stream",
     "text": [
      "   calorías  duración\n",
      "0       420        50\n",
      "1       380        40\n",
      "2       390        45\n"
     ]
    }
   ],
   "source": [
    "# por ejemplo\n",
    "# podemos crear una DataFrame a partir de dos Series\n",
    "import pandas as pd\n",
    "\n",
    "datos = {\n",
    "  \"calorías\": [420, 380, 390],\n",
    "  \"duración\": [50, 40, 45]\n",
    "}\n",
    "\n",
    "tablero = pd.DataFrame(datos)\n",
    "\n",
    "print(tablero)\n"
   ]
  },
  {
   "cell_type": "markdown",
   "metadata": {},
   "source": [
    "## Localizar filas\n",
    "Como puedes ver en el resultado de arriba, el DataFrame es similar a una tabla con filas y columnas.\n",
    "Pandas usa el atributo loc para regresar uno o más filas especificadas.\n"
   ]
  },
  {
   "cell_type": "code",
   "execution_count": 5,
   "metadata": {},
   "outputs": [
    {
     "name": "stdout",
     "output_type": "stream",
     "text": [
      "calorías    420\n",
      "duración     50\n",
      "Name: 0, dtype: int64\n"
     ]
    }
   ],
   "source": [
    "print(tablero.loc[0])"
   ]
  },
  {
   "cell_type": "code",
   "execution_count": 6,
   "metadata": {},
   "outputs": [
    {
     "name": "stdout",
     "output_type": "stream",
     "text": [
      "   calorías  duración\n",
      "0       420        50\n",
      "1       380        40\n"
     ]
    }
   ],
   "source": [
    "# otro ejemplo usando una lista de índices\n",
    "print(tablero.loc[[0, 1]])"
   ]
  },
  {
   "cell_type": "markdown",
   "metadata": {},
   "source": [
    "## Nombrado de Indices\n",
    "Con el argumento index, puedes nombrar tus propios índices.\n"
   ]
  },
  {
   "cell_type": "code",
   "execution_count": null,
   "metadata": {},
   "outputs": [],
   "source": [
    "# por ejemplo\n",
    "import pandas as pd\n",
    "\n",
    "data = {\n",
    "  \"calorías\": [420, 380, 390],\n",
    "  \"duración\": [50, 40, 45]\n",
    "}\n",
    "\n",
    "data_frame = pd.DataFrame(data, index = [\"dia 1\", \"dia 2\", \"dia 3\"])\n",
    "\n",
    "print(data_frame) "
   ]
  },
  {
   "cell_type": "markdown",
   "metadata": {},
   "source": [
    "## Identifica índices nombrados\n",
    "\n",
    "Usa los índices nombrados en el atributo loc para regresar una fila (o filas) en específico."
   ]
  },
  {
   "cell_type": "code",
   "execution_count": null,
   "metadata": {},
   "outputs": [],
   "source": [
    "print(data_frame.loc[\"dia 2\"])"
   ]
  },
  {
   "cell_type": "markdown",
   "metadata": {},
   "source": [
    "## Leer un CSV desde Pandas\n",
    "Leyendo archivosa CSV.\n",
    "Una manera simple de almacenar grandes cantidades de datos es utilizar archivos CSV (o archivos separados por comas).\n",
    "\n",
    "Los archivos CSV contienen texto plano y es una manera muy conocida que puede ser leída por cualquier persona incluyendo la biblioteca Pandas.\n",
    "\n",
    "En nuestros ejemplos usaremos un archivo CSV llamado \"data.csv\" y estará alojado dentro de la carpeta \"data\"\n",
    "\n",
    "Por defecto, cuando imprimes un DataFrame, sólo verás los primeros 5 registros, y los últimos 5:\n"
   ]
  },
  {
   "cell_type": "code",
   "execution_count": null,
   "metadata": {},
   "outputs": [],
   "source": [
    "# por ejemplo\n",
    "import pandas as pd\n",
    "\n",
    "data_frame = pd.read_csv('data/data.csv')\n",
    "\n",
    "print(data_frame)"
   ]
  },
  {
   "cell_type": "markdown",
   "metadata": {},
   "source": [
    "## Leer un JSON desde Pandas\n",
    "Grandes cantidades de datos son frecuentemente almacenados, o extraídos con el formato JSON.\n",
    "\n",
    "JSON es texto plano, pero tiene el formato de un objeto, y es muy conocido en el mundo de la programación, incluyendo la biblioteca Pandas.\n",
    "\n",
    "En nuestros ejemplos usaremos un archivo llamado \"data.json\"."
   ]
  },
  {
   "cell_type": "code",
   "execution_count": null,
   "metadata": {},
   "outputs": [],
   "source": [
    "# por ejemplo \n",
    "import pandas as pd\n",
    "\n",
    "df = pd.read_json('data/data.json')\n",
    "# usamos to_string() para imprimir el DataFrame entero.\n",
    "\n",
    "print(df.to_string())"
   ]
  },
  {
   "cell_type": "markdown",
   "metadata": {},
   "source": [
    "## Diccionario como JSON\n",
    "JSON = Diccionario de Python\n",
    "\n",
    "Los objetos JSON tienen el mismo formato que los diccionarios en Python. Si tu código JSON no está en una archivo, pero en un diccionario de Python, puedes cargarlo directamente en un DataFrame:"
   ]
  },
  {
   "cell_type": "code",
   "execution_count": 1,
   "metadata": {},
   "outputs": [
    {
     "name": "stdout",
     "output_type": "stream",
     "text": [
      "   Duration  Pulse  Maxpulse  Calories\n",
      "0        60    110       130       409\n",
      "1        60    117       145       479\n",
      "2        60    103       135       340\n",
      "3        45    109       175       282\n",
      "4        45    117       148       406\n",
      "5        60    102       127       300\n"
     ]
    }
   ],
   "source": [
    "# por ejemplo\n",
    "import pandas as pd\n",
    "\n",
    "data = {\n",
    "  \"Duration\":{\n",
    "    \"0\":60,\n",
    "    \"1\":60,\n",
    "    \"2\":60,\n",
    "    \"3\":45,\n",
    "    \"4\":45,\n",
    "    \"5\":60\n",
    "  },\n",
    "  \"Pulse\":{\n",
    "    \"0\":110,\n",
    "    \"1\":117,\n",
    "    \"2\":103,\n",
    "    \"3\":109,\n",
    "    \"4\":117,\n",
    "    \"5\":102\n",
    "  },\n",
    "  \"Maxpulse\":{\n",
    "    \"0\":130,\n",
    "    \"1\":145,\n",
    "    \"2\":135,\n",
    "    \"3\":175,\n",
    "    \"4\":148,\n",
    "    \"5\":127\n",
    "  },\n",
    "  \"Calories\":{\n",
    "    \"0\":409,\n",
    "    \"1\":479,\n",
    "    \"2\":340,\n",
    "    \"3\":282,\n",
    "    \"4\":406,\n",
    "    \"5\":300\n",
    "  }\n",
    "}\n",
    "\n",
    "data_frame = pd.DataFrame(data)\n",
    "\n",
    "print(data_frame)"
   ]
  },
  {
   "cell_type": "markdown",
   "metadata": {},
   "source": [
    "## Analizando Marcos de datos en Pandas\n",
    "Visualizando datos\n",
    "\n",
    "Uno de los métodos más usados para obtener una vista rápida del DataFrame, es el método head(), que regresa la cabecera y un número específico de filas, iniciando desde las primeras filas.\n",
    "\n",
    "Podemos obtener una vista rápida al imprimir los primeros 9 resultados del DataFrame:"
   ]
  },
  {
   "cell_type": "code",
   "execution_count": 7,
   "metadata": {},
   "outputs": [
    {
     "name": "stdout",
     "output_type": "stream",
     "text": [
      "   Duration  Pulse  Maxpulse  Calories\n",
      "0        60    110       130     409.1\n",
      "1        60    117       145     479.0\n",
      "2        60    103       135     340.0\n",
      "3        45    109       175     282.4\n",
      "4        45    117       148     406.0\n",
      "5        60    102       127     300.0\n",
      "6        60    110       136     374.0\n",
      "7        45    104       134     253.3\n",
      "8        30    109       133     195.1\n"
     ]
    }
   ],
   "source": [
    "# por ejemplo\n",
    "import pandas as pd\n",
    "\n",
    "data_frame = pd.read_csv('data/data.csv')\n",
    "\n",
    "print(data_frame.head(9))"
   ]
  },
  {
   "cell_type": "code",
   "execution_count": 8,
   "metadata": {},
   "outputs": [
    {
     "name": "stdout",
     "output_type": "stream",
     "text": [
      "     Duration  Pulse  Maxpulse  Calories\n",
      "164        60    105       140     290.8\n",
      "165        60    110       145     300.0\n",
      "166        60    115       145     310.2\n",
      "167        75    120       150     320.4\n",
      "168        75    125       150     330.4\n"
     ]
    }
   ],
   "source": [
    "# the tail() method returns the headers and a specified \n",
    "# number of rows, starting from the bottom.\n",
    "\n",
    "print(data_frame.tail())"
   ]
  },
  {
   "cell_type": "markdown",
   "metadata": {},
   "source": [
    "## Obteniendo información de los datos\n",
    "Los objetos DataFrame tienen un método llamado info(), que te provee más información del conjunto de datos.\n"
   ]
  },
  {
   "cell_type": "code",
   "execution_count": 9,
   "metadata": {},
   "outputs": [
    {
     "name": "stdout",
     "output_type": "stream",
     "text": [
      "<class 'pandas.core.frame.DataFrame'>\n",
      "RangeIndex: 169 entries, 0 to 168\n",
      "Data columns (total 4 columns):\n",
      " #   Column    Non-Null Count  Dtype  \n",
      "---  ------    --------------  -----  \n",
      " 0   Duration  169 non-null    int64  \n",
      " 1   Pulse     169 non-null    int64  \n",
      " 2   Maxpulse  169 non-null    int64  \n",
      " 3   Calories  164 non-null    float64\n",
      "dtypes: float64(1), int64(3)\n",
      "memory usage: 5.4 KB\n",
      "None\n"
     ]
    }
   ],
   "source": [
    "# por ejemplo\n",
    "print(data_frame.info())"
   ]
  },
  {
   "cell_type": "markdown",
   "metadata": {},
   "source": [
    "## Comprendiendo los resultados de info()\n",
    "La impresión en pantalla nos dice que hay 169 filas y 4 columnas:\n",
    "\n",
    "\n",
    "![alt text][grafica]\n",
    "\n",
    "[grafica]: https://storage.googleapis.com/campus-cvs/lectures/Pandas%20info.png \"Pandas info()\"\n",
    "\n",
    "\n",
    "Y el nombre de cada columna, con el tipo de dato:\n",
    "![alt text][grafica1]\n",
    "\n",
    "[grafica1]: https://storage.googleapis.com/campus-cvs/lectures/Pandas%20info%202.png \"Pandas info()\"\n",
    "\n"
   ]
  },
  {
   "cell_type": "markdown",
   "metadata": {},
   "source": [
    "## Valores nulos\n",
    "El método info() también nos dice cuántos valores no nulos están presentes en cada columna, y en nuestro dataset parece que hay 164 de 169 valores no nulos, en la columna \"Calories\".\n",
    "\n",
    "Eso significa que hay 5 filas con ningún valor, en la columna \"Calories\", por cualquier razón que haya ocurrido.\n",
    "\n",
    "Los valores vacíos o nulos, pueden ser nocivos cuando analizamos datos, y deberíamos considerar remover esas filas con valores vacíos. Este es un paso hacia lo que denominamos \"limpieza de datos\"."
   ]
  },
  {
   "cell_type": "markdown",
   "metadata": {},
   "source": [
    "## Limpieza de datos con Pandas\n",
    "\n",
    "La limpieza de datos significa arreglar los datos nocivos en tu dataset.\n",
    "\n",
    "Los datos nocivos pueden ser:\n",
    "+ Celdas o filas vacías.\n",
    "+ Datos en formato erróneo.\n",
    "+ Datos incorrectos.\n",
    "* Datos duplicados.\n",
    "\n",
    "En esta sección aprenderemos a tratar cada caso utilizando Python y Pandas. El archivo que usaremos se llama dataset.csv y se encuentra en la carpeta llamada \"data\".\n",
    "\n",
    "El dataset: \n",
    "\n",
    "* contiene algunas celdas vacías (\"Date\" en fila 22, y \"Calories\" en fila 18 y 28).\n",
    "* contiene formatos erróneos (\"Date\" en fila 26).\n",
    "* contiene datos erróneos (\"Duration\" en fila 7).\n",
    "* contiene datos duplicados (fila 11 y 12).\n",
    "\n",
    "\n"
   ]
  },
  {
   "cell_type": "markdown",
   "metadata": {},
   "source": [
    "## Limpiando celdas vacías\n",
    "\n",
    "Las celdas vacías potencialmente pueden arrogar resultados erróneos cuando intentamos analizar datos.\n",
    "\n",
    "## Removiendo filas\n",
    "Una manera de resolver el problema de las celdas vacías es remover la fila que contenga celdas vacías. Esto generalmete está bien, derivado de que los datasets pueden contener decenas de miles de filas y remover algunas no tendrá un impacto significativo en el resultado."
   ]
  },
  {
   "cell_type": "code",
   "execution_count": null,
   "metadata": {},
   "outputs": [],
   "source": [
    "# por ejemplo\n",
    "# regresamos un nuevo DataFrame sin celdas vacías:\n",
    "import pandas as pd\n",
    "\n",
    "tablero = pd.read_csv('data/dataset.csv')\n",
    "nuevo_tablero = tablero.dropna()\n",
    "\n",
    "print(nuevo_tablero.to_string())"
   ]
  },
  {
   "cell_type": "markdown",
   "metadata": {},
   "source": [
    "Por defecto, el método dropna() retorna un nuevo DataFrame, y no modifica el archivo original.\n",
    "\n",
    "\n",
    "Si quisiéramos modificar el DataFrame original, usamos el argumento inplace = True:\n"
   ]
  },
  {
   "cell_type": "code",
   "execution_count": null,
   "metadata": {},
   "outputs": [],
   "source": [
    "import pandas as pd\n",
    "\n",
    "tablero = pd.read_csv('data/dirtydata.csv')\n",
    "\n",
    "tablero.dropna(inplace = True)\n",
    "\n",
    "print(tablero.to_string())"
   ]
  },
  {
   "cell_type": "markdown",
   "metadata": {},
   "source": [
    "## Reemplazar valores vacíos\n",
    "Otra estrategia para resolver el problema de las celdas vacías es insertar un nuevo valor en vez. De esta manera, no tienes que borrar filas completas sólo por tener algunas celdas vacías.\n",
    "\n",
    "El método fillna() nos permite remplazar celdas vacías con un valor:"
   ]
  },
  {
   "cell_type": "code",
   "execution_count": null,
   "metadata": {},
   "outputs": [],
   "source": [
    "#por ejemplo\n",
    "import pandas as pd\n",
    "\n",
    "tablero = pd.read_csv('data/dirtydata.csv')\n",
    "\n",
    "tablero.fillna(130, inplace = True)\n",
    "print(tablero)"
   ]
  },
  {
   "cell_type": "markdown",
   "metadata": {},
   "source": [
    "## Reemplazo usando , Media, Mediana o Moda.\n",
    "Una manera común de reemplazar celdas, es calcular el valor de la media, mediana o moda de la columna.\n",
    "\n",
    "Pandas usa los métodos mean(), median() y mode() para calcular los valores respectivos para una columna específica.\n",
    "\n",
    "Por ejemplo, podemos guardar el valor de la media en la variable.\n",
    "\n",
    "La media se define como el valor promedio: la suma de todos los valores dividido por el número de valores.\n"
   ]
  },
  {
   "cell_type": "markdown",
   "metadata": {},
   "source": [
    "## Calculando la media"
   ]
  },
  {
   "cell_type": "code",
   "execution_count": null,
   "metadata": {},
   "outputs": [],
   "source": [
    "# por ejemplo\n",
    "import pandas as pd\n",
    "\n",
    "tablero = pd.read_csv('data/dirtydata.csv')\n",
    "media = tablero[\"Calories\"].mean()\n",
    "\n",
    "tablero[\"Calories\"].fillna(media, inplace=True)\n",
    "# en las filas 18 and 28, los valores vacíos en \"Calories\"\n",
    "# fueron reemplazados por la media: 304.68.\n",
    "\n",
    "print(tablero)\n"
   ]
  },
  {
   "cell_type": "markdown",
   "metadata": {},
   "source": [
    "## Calculando la mediana\n",
    "La mediana es el valor localizado en medio de la columna, una vez que se ha ordenado de manera ascendente.\n"
   ]
  },
  {
   "cell_type": "code",
   "execution_count": null,
   "metadata": {},
   "outputs": [],
   "source": [
    "# por ejemplo\n",
    "import pandas as pd\n",
    "\n",
    "tablero = pd.read_csv('data/dirtydata.csv')\n",
    "mediana = tablero[\"Calories\"].median()\n",
    "\n",
    "tablero[\"Calories\"].fillna(mediana, inplace=True)\n",
    "\n",
    "# en las filas 18 y 28, los valores vacíos para \"Calories\" \n",
    "# fueron reemplazados por la mediana: 291.2\n",
    "print(tablero)"
   ]
  },
  {
   "cell_type": "markdown",
   "metadata": {},
   "source": [
    "## Calculando la moda\n",
    "La moda se trata del valor que aparece más frecuentemente."
   ]
  },
  {
   "cell_type": "code",
   "execution_count": null,
   "metadata": {},
   "outputs": [],
   "source": [
    "# por ejemplo\n",
    "import pandas as pd\n",
    "\n",
    "tablero = pd.read_csv('data/dirtydata.csv')\n",
    "\n",
    "moda = tablero[\"Calories\"].mode()[0]\n",
    "\n",
    "tablero[\"Calories\"].fillna(moda, inplace = True)\n",
    "\n",
    "# en las filas 18 and 28, los valores vacíos para \"Calories\"\n",
    "# fueron reemplazados con la moda:300.0\n",
    "print(tablero.to_string())\n",
    "\n"
   ]
  },
  {
   "cell_type": "markdown",
   "metadata": {},
   "source": [
    "## Datos de formato erróneo\n",
    "Las celdas con dato erróneo pueden dificultar, o incluso hacer imposible el análisis de datos.\n",
    "\n",
    "Para resolver esto, tenemos dos alternativas: removemos las filas, o convertimos todas las celdas en las columnas de un mismo formato.\n",
    "\n",
    "## Convertir en un formato correcto\n",
    "En nuestro DataFrame, tenemos dos celdas con el formato incorrecto. Echa un vistazo a las filas 22 y 26, la columna \"Date\" debería ser una cadena de caracteres que representan una fecha.\n",
    "\n",
    "Pandas tiene un método muy útil llamado to_datetime() para convertir todas las celdas en la columna \"Date\" en fechas."
   ]
  },
  {
   "cell_type": "code",
   "execution_count": null,
   "metadata": {},
   "outputs": [],
   "source": [
    "# por ejemplo\n",
    "import pandas as pd\n",
    "\n",
    "tablero = pd.read_csv('data/dirtydata.csv')\n",
    "tablero['Date'] = pd.to_datetime(tablero['Date'])\n",
    "\n",
    "print(tablero.to_string)"
   ]
  },
  {
   "cell_type": "markdown",
   "metadata": {},
   "source": [
    "Como podemos ver en la impresión del resultado, la fecha en la fila 26 se arregló, pero la fecha vacía en la fila 22 obtuvo un valor NaT (Not a Time), en otras palabras, un valor vacío. Ona manera de resolver los valores vacíos es simplemente removiendo la fila completa."
   ]
  },
  {
   "cell_type": "markdown",
   "metadata": {},
   "source": [
    "## Removiendo filas\n",
    "El resultado de convertir en el ejemplo anterior nos arrojó un valor NaT, que se puede manejar como un valor nulo, y que podemos remover la fina al usar el método dropna()."
   ]
  },
  {
   "cell_type": "code",
   "execution_count": null,
   "metadata": {},
   "outputs": [],
   "source": [
    "# por ejemplo\n",
    "import pandas as pd\n",
    "\n",
    "tablero = pd.read_csv('data/dirtydata.csv')\n",
    "tablero['Date'] = pd.to_datetime(tablero['Date'])\n",
    "tablero.dropna(subset=['Date'], inplace = True)\n",
    "\n",
    "print(tablero.to_string())"
   ]
  },
  {
   "cell_type": "markdown",
   "metadata": {},
   "source": [
    "## Datos erróneos\n",
    "Cuando nos referimos a \"datos erróneos\" no necesariamente nos referimos a lidiar con celdas vacías o celdas con formato incorrecto. Se trata de datos que pueden estar mal registrados, como \"199\" en vez \"1.99\".\n",
    "\n",
    "Algunas veces podemos identificar datos errónemos al observar el dataset, porque tenemos una expectativa de qué debería contener o cómo debería verse.\n",
    "\n",
    "Si echas un vistazo a nuestro dataset, podrás observar que en la fila 7, la duración es 450, pero para toda las otras filas la duración es entre 30 y 60.\n",
    "\n",
    "No tiene que tratarse de un dato erróneo, pero tomando en consideración que el dataset contiene las sesiones de entrenamieto de alguien, podemos concluir del hecho que esta persona no hizo ejercicio por 450 minutos.\n",
    "\n",
    "¿Cómo podríamos arreglar datos errónemos, como el de la fila 7 en la columna \"Duration\"?"
   ]
  },
  {
   "cell_type": "markdown",
   "metadata": {},
   "source": [
    "## Reemplazando valores\n",
    "Una manera de arreglar valores errónemos es al reemplazarlo con algo más.\n",
    "\n",
    "En nuestro ejemplo, parece ser un error al escribir, y el valor parece ser de \"45\" en vez de \"450\", podríamos sólo insertar \"45\" en la fila 7"
   ]
  },
  {
   "cell_type": "code",
   "execution_count": null,
   "metadata": {},
   "outputs": [],
   "source": [
    "# por ejemplo\n",
    "import pandas as pd\n",
    "\n",
    "tablero = pd.read_csv('data/dirtydata.csv')\n",
    "tablero.loc[7,'Duration'] = 45\n",
    "\n",
    "print(tablero.to_string())"
   ]
  },
  {
   "cell_type": "markdown",
   "metadata": {},
   "source": [
    "Para datasets pequeños podríamos reemplazar el dato erróneo uno por uno, pero en casos donde los datos son muchos, resulta poco práctico e inviable.\n",
    "\n",
    "Para reemplazar los datos erróneos en datasets grandes, podemos crear una serie de reglas, como algún límite de rangos, y reemplazar cualquier valor que esté fuera de esos límites.\n"
   ]
  },
  {
   "cell_type": "code",
   "execution_count": null,
   "metadata": {},
   "outputs": [],
   "source": [
    "# por ejemplo\n",
    "# recorremos todos los valores en la columna \"Duration\"\n",
    "import pandas as pd\n",
    "\n",
    "tablero = pd.read_csv('data/dirtydata.csv')\n",
    "\n",
    "for x in tablero.index:\n",
    "  if tablero.loc[x, \"Duration\"] > 120:\n",
    "    tablero.loc[x, \"Duration\"] = 120\n",
    "\n",
    "print(tablero.to_string())\n",
    "\n"
   ]
  },
  {
   "cell_type": "markdown",
   "metadata": {},
   "source": [
    "## Removiendo Filas\n",
    "Otra manera de tratar datos errónemos es remover las filas que contienen esos datos.\n",
    "\n",
    "De esta manera no tienes que encontrar una manera de reemplazarlos, y existe una buena probabilidad que no los necesites para tus análisis."
   ]
  },
  {
   "cell_type": "code",
   "execution_count": null,
   "metadata": {},
   "outputs": [],
   "source": [
    "# por ejemplo\n",
    "import pandas as pd\n",
    "\n",
    "tablero = pd.read_csv('data/dirtydata.csv')\n",
    "\n",
    "for x in tablero.index:\n",
    "  if tablero.loc[x, \"Duration\"] > 120:\n",
    "    tablero.drop(x, inplace = True)\n",
    "\n",
    "print(tablero.to_string())"
   ]
  },
  {
   "cell_type": "markdown",
   "metadata": {},
   "source": [
    "## Removiendo duplicados\n",
    "Las filas duplicadas se trata de registros que existen mas de una vez.\n",
    "\n",
    "Al echarle un vistazo a nuestro dataset, podemos asumir que la fila 11 y 12 están duplicadas, porque vemos coincidir fecha, pulso, pulso máximo y calorías en ambos registros.\n",
    "\n",
    "Para descubrir registros duplicados, podemos usar el método duplicated(), que nos regresa un valor Booleano para cada fila."
   ]
  },
  {
   "cell_type": "code",
   "execution_count": null,
   "metadata": {},
   "outputs": [],
   "source": [
    "# por ejemplo\n",
    "import pandas as pd\n",
    "\n",
    "tablero = pd.read_csv('data/dirtydata.csv')\n",
    "\n",
    "print(tablero.duplicated())"
   ]
  },
  {
   "cell_type": "markdown",
   "metadata": {},
   "source": [
    "## Removiendo duplicados\n",
    "Para remover duplicados, podemos usar el método drop_duplicates()."
   ]
  },
  {
   "cell_type": "code",
   "execution_count": null,
   "metadata": {},
   "outputs": [],
   "source": [
    "# por ejemplo\n",
    "import pandas as pd\n",
    "\n",
    "tablero = pd.read_csv('data/dirtydata.csv')\n",
    "\n",
    "tablero.drop_duplicates(inplace = True)\n",
    "\n",
    "# observemos acá que la fila 12 ha sido removida \n",
    "# del resultado\n",
    "print(tablero.to_string())\n",
    "\n"
   ]
  },
  {
   "cell_type": "markdown",
   "metadata": {},
   "source": [
    "## Co-relaciones de datos\n",
    "Encontrando relaciones\n",
    "Un aspecto importante de Pandas es el método corr(), que calcula la relación entre cada columna en tu dataset."
   ]
  },
  {
   "cell_type": "code",
   "execution_count": null,
   "metadata": {},
   "outputs": [],
   "source": [
    "# por ejemplo\n",
    "import pandas as pd\n",
    "\n",
    "tablero = pd.read_csv('data/data-corr.csv')\n",
    "\n",
    "# el metodo corr() ignora columnas no-numericas\n",
    "print(tablero.corr())"
   ]
  },
  {
   "cell_type": "markdown",
   "metadata": {},
   "source": [
    "## Expliquemos los resultados\n",
    "El resultado del método corr() es una tabla con un montón de números que representan qué tan bien está la relación entre las dos columnas.\n",
    "\n",
    "El número varía entre -1 a 1.\n",
    "\n",
    "1 significa que hay una relación 1 a 1 (una correlación perfecta), y por este dataset, cada vez que un valor aumenta en la primer columna, el otro también sube.\n",
    "\n",
    "0.9 también es una buena relación, y si incrementas un valor, el otro también incrementará.\n",
    "\n",
    "-0.9 es tan buena relación como 0.9, pero si incrementas un valor, el otro probablemente decrementará.\n",
    "\n",
    "0.2 no es una buena relación, significa que si un valor sube no afecta al otro número de ninguna manera.\n",
    "\n",
    "## Correlación perfecta\n",
    "Podemos ver que \"Duration\" y \"Duration\" obtuvieron el numero 1, porque cada columna representa el mismo elemento y existe una relación perfecta consigo mismo.\n",
    "\n",
    "## Buena Correlación\n",
    "\"Duration\" y \"Calories\" obtuvieron una correlación de  0.922721, que es una muy buena correlación y además podemos predecir que mientras más nos ejercitemos, más calorías quemamos, y de la manera opuesta: si quemaste muchas calorías, es probable que hayas tenido un largo ejercicio.\n",
    "\n",
    "## Mala Correlación\n",
    "\"Duration\" y \"Maxpulse\" obtuvieron una correlación de 0.009403, que representa una muy mala correlación. Esto significa que no podemos predecir el pulso máximo sólo al ver la duración del entrenamiento, y vice versa.\n"
   ]
  },
  {
   "cell_type": "markdown",
   "metadata": {},
   "source": [
    "## Graficado\n",
    "Pandas utiliza el método plot() para crear diagramas.\n",
    "Python utiliza Pyplot, un submódulo de la biblioteca Matplotlib para visualizar el diagrama en la pantalla."
   ]
  },
  {
   "cell_type": "code",
   "execution_count": null,
   "metadata": {},
   "outputs": [],
   "source": [
    "# por ejemplo\n",
    "import pandas as pd\n",
    "import matplotlib.pyplot as plt\n",
    "\n",
    "tablero = pd.read_csv('data/data-plot.csv')\n",
    "tablero.plot()\n",
    "plt.show()\n"
   ]
  },
  {
   "cell_type": "markdown",
   "metadata": {},
   "source": [
    "## Gráfico de dispersión\n",
    "Especificamos que deseamos imprimir un gráfico de dispersión con el argumento kind.\n",
    "kind = 'scatter'\n",
    "\n",
    "Un grafico de dispersión necesita un eje x y un eje y:\n",
    "\n",
    "x = 'Duration', y 'Calories'"
   ]
  },
  {
   "cell_type": "code",
   "execution_count": 1,
   "metadata": {},
   "outputs": [
    {
     "data": {
      "image/png": "[encoded data removed]",
      "text/plain": [
       "<Figure size 432x288 with 1 Axes>"
      ]
     },
     "metadata": {
      "needs_background": "light"
     },
     "output_type": "display_data"
    }
   ],
   "source": [
    "# por ejemplo\n",
    "import pandas as pd\n",
    "import matplotlib.pyplot as plt\n",
    "\n",
    "tablero = pd.read_csv('data/data-plot.csv')\n",
    "\n",
    "tablero.plot(kind = 'scatter', x = 'Duration', y = 'Calories')\n",
    "\n",
    "plt.show()"
   ]
  },
  {
   "cell_type": "markdown",
   "metadata": {},
   "source": [
    "Vamos a crear otro gráfico de dispersión, donde exista una mala relación entre las columnas, como \"Duration\" y \"Maxpulse\" con la correlación 0.009403."
   ]
  },
  {
   "cell_type": "code",
   "execution_count": 2,
   "metadata": {},
   "outputs": [
    {
     "data": {
      "image/png": "[encoded data removed]",
      "text/plain": [
       "<Figure size 432x288 with 1 Axes>"
      ]
     },
     "metadata": {
      "needs_background": "light"
     },
     "output_type": "display_data"
    }
   ],
   "source": [
    "# por ejemplo\n",
    "import pandas as pd\n",
    "import matplotlib.pyplot as plt\n",
    "\n",
    "tablero = pd.read_csv('data/data-plot.csv')\n",
    "\n",
    "tablero.plot(kind = 'scatter', x = 'Duration', y = 'Maxpulse')\n",
    "\n",
    "plt.show()"
   ]
  },
  {
   "cell_type": "markdown",
   "metadata": {},
   "source": [
    "## Histograma\n",
    "Usa el argumento kind para especificar que deseamos usar un histograma.\n",
    "kind = 'hist'\n",
    "Un histograma necesita únicamente una columna, y nos muestra la frecuencia de cada intervalo, por ejemplo, el número de entrenamientos que duraron entre 50 y 60 minutos. \n",
    "En el ejemplo a continuación usaremos la columna \"Duration\" para crear el histograma."
   ]
  },
  {
   "cell_type": "code",
   "execution_count": 3,
   "metadata": {},
   "outputs": [
    {
     "data": {
      "image/png": "[encoded data removed]",
      "text/plain": [
       "<Figure size 432x288 with 1 Axes>"
      ]
     },
     "metadata": {
      "needs_background": "light"
     },
     "output_type": "display_data"
    }
   ],
   "source": [
    "import pandas as pd\n",
    "import matplotlib.pyplot as plt\n",
    "\n",
    "tablero = pd.read_csv('data/data-plot.csv')\n",
    "tablero[\"Duration\"].plot(kind = 'hist')\n",
    "\n",
    "plt.show()\n"
   ]
  },
  {
   "cell_type": "code",
   "execution_count": null,
   "metadata": {},
   "outputs": [],
   "source": []
  }
 ],
 "metadata": {
  "kernelspec": {
   "display_name": "Python 3",
   "language": "python",
   "name": "python3"
  },
  "language_info": {
   "codemirror_mode": {
    "name": "ipython",
    "version": 3
   },
   "file_extension": ".py",
   "mimetype": "text/x-python",
   "name": "python",
   "nbconvert_exporter": "python",
   "pygments_lexer": "ipython3",
   "version": "3.10.2"
  }
 },
 "nbformat": 4,
 "nbformat_minor": 4
}
