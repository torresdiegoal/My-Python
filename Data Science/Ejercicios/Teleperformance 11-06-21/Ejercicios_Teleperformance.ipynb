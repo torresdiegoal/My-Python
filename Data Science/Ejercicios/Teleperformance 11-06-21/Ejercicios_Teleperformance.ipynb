{
 "cells": [
  {
   "cell_type": "code",
   "execution_count": 1,
   "metadata": {},
   "outputs": [
    {
     "output_type": "stream",
     "name": "stdout",
     "text": [
      "[1, 1, 2, 3, 5, 8, 13, 21]\n"
     ]
    }
   ],
   "source": [
    "# I) Fibonacci\n",
    "## Esta serie sirve para contar el numero total de opciones que se van acomulando, sumando los \n",
    "## dos ultimos valores.\n",
    "\n",
    "def fibonacci(n):\n",
    "    a = 0\n",
    "    b = 1\n",
    "    l = []\n",
    "    for i in range(n):\n",
    "        l.append(b)\n",
    "        c = a + b\n",
    "        a = b\n",
    "        b = c\n",
    "    return l\n",
    "        \n",
    "print(fibonacci(8))"
   ]
  },
  {
   "cell_type": "code",
   "execution_count": 14,
   "metadata": {},
   "outputs": [
    {
     "data": {
      "text/plain": [
       "84.0"
      ]
     },
     "execution_count": 14,
     "metadata": {},
     "output_type": "execute_result"
    }
   ],
   "source": [
    "# II) TRIANGULO DE PASCAL SOLO LOS VALORES\n",
    "\n",
    "import numpy as np\n",
    "\n",
    "def triangle_pascal_values(n):\n",
    "    matriz = np.zeros([n,n])\n",
    "    k = 0\n",
    "    \n",
    "    for i in range(n):\n",
    "        for j in range(i+1):\n",
    "            if j == 0 or i == j:  ## Ya que en los extremos siempre va uno\n",
    "                matriz[i,j] = 1\n",
    "            else:\n",
    "                k = matriz[i-1,j] + matriz[i-1,j-1]\n",
    "                matriz[i,j] = k\n",
    "    return(matriz)\n",
    "\n",
    "def position_pascal_triang(x,y):\n",
    "    if y > x:\n",
    "        return \"Error, out of bounds\"\n",
    "    else:\n",
    "        triang = triangle_pascal_values(x+1)\n",
    "        return triang[x,y]\n",
    "    \n",
    "position_pascal_triang(9,3)"
   ]
  },
  {
   "cell_type": "code",
   "execution_count": 2,
   "metadata": {},
   "outputs": [
    {
     "output_type": "stream",
     "name": "stdout",
     "text": [
      "            [1]\n           [1, 1]\n          [1, 2, 1]\n         [1, 3, 3, 1]\n        [1, 4, 6, 4, 1]\n       [1, 5, 10, 10, 5, 1]\n      [1, 6, 15, 20, 15, 6, 1]\n     [1, 7, 21, 35, 35, 21, 7, 1]\n    [1, 8, 28, 56, 70, 56, 28, 8, 1]\n   [1, 9, 36, 84, 126, 126, 84, 36, 9, 1]\n"
     ]
    }
   ],
   "source": [
    "# II.B) TRIANGULO DE PASCAL CON LA FORMA DE TRIANGULO\n",
    "\n",
    "def triangle_pascal_shape(num):\n",
    "    n = num\n",
    "    filas = [1]\n",
    "    expansion = \"\"\n",
    "    value = n;\n",
    "    expansion = \"\\t\".expandtabs(value +1)\n",
    "    print (\"{} {}\".format(expansion, filas))\n",
    "    for i in range(1,n):\n",
    "        len_antiq = len(filas)\n",
    "        fila_nueva = [1]\n",
    "        for j in range(0,len_antiq-1):\n",
    "            calculo = filas[j] + filas[j+1]\n",
    "            fila_nueva.append(calculo)\n",
    "        fila_nueva.append(1)\n",
    "        expansion = \"\\t\".expandtabs(value)\n",
    "        value -= 1\n",
    "        print (\"{} {}\".format(expansion, fila_nueva))\n",
    "        filas = fila_nueva \n",
    "        \n",
    "triangle_pascal_shape(10)\n"
   ]
  },
  {
   "cell_type": "code",
   "execution_count": 3,
   "metadata": {},
   "outputs": [
    {
     "output_type": "execute_result",
     "data": {
      "text/plain": [
       "87"
      ]
     },
     "metadata": {},
     "execution_count": 3
    }
   ],
   "source": [
    "#III) Maximo\n",
    "\n",
    "def maximo(lista,a,b):\n",
    "    maxim = 0\n",
    "    if a>b:\n",
    "        return 'Error, b must be greater than a'\n",
    "    for i in range(a,b):\n",
    "        if lista[i] > maxim:\n",
    "            maxim = lista[i]\n",
    "    return maxim\n",
    "\n",
    "arreglo = [3,6,87,9,0,875,45,3,4,2,32,110,78,456,345,21,78]\n",
    "maximo(arreglo,0,3)"
   ]
  },
  {
   "cell_type": "code",
   "execution_count": 4,
   "metadata": {},
   "outputs": [
    {
     "output_type": "stream",
     "name": "stdout",
     "text": [
      "['ahlo', 'eerstu', 'amor', 'acdmooprtu', 'acCcefgiiloorXx', 'eoorst']\n"
     ]
    }
   ],
   "source": [
    "#IV) Ordenamiento \n",
    "\n",
    "def cadena_orden(lista): \n",
    "    b = []\n",
    "    for i in range(len(lista)):\n",
    "        z = ''.join(sorted(lista[i], key= str.upper))\n",
    "        b.append(z)\n",
    "    return b\n",
    "\n",
    "texto = ['hola', 'suerte', 'amor', 'computador', 'leXxicografiCco', 'tesoro']\n",
    "print(cadena_orden(texto))"
   ]
  },
  {
   "cell_type": "code",
   "execution_count": 6,
   "metadata": {},
   "outputs": [
    {
     "output_type": "stream",
     "name": "stdout",
     "text": [
      "55\n"
     ]
    }
   ],
   "source": [
    "# V) Escaleras\n",
    "## Este ejercicio se realiza con principios de Fibonacci\n",
    "\n",
    "def escalera(n):\n",
    "    steps = 0\n",
    "    if n == 1:\n",
    "        steps = 1\n",
    "        return steps\n",
    "    if n == 2:\n",
    "        steps = 2\n",
    "        return steps\n",
    "    if n > 2:\n",
    "        a = 1\n",
    "        b = 2\n",
    "        for i in range(2,n):\n",
    "            steps = a + b\n",
    "            a = b\n",
    "            b = steps\n",
    "    return steps\n",
    "        \n",
    "print(escalera(9))"
   ]
  }
 ],
 "metadata": {
  "kernelspec": {
   "name": "python3",
   "display_name": "Python 3.8.3 64-bit ('base': conda)"
  },
  "language_info": {
   "codemirror_mode": {
    "name": "ipython",
    "version": 3
   },
   "file_extension": ".py",
   "mimetype": "text/x-python",
   "name": "python",
   "nbconvert_exporter": "python",
   "pygments_lexer": "ipython3",
   "version": "3.8.3"
  },
  "interpreter": {
   "hash": "90215180e3510b7cc610bbcd7049faaefdb75cf213a625a3b7913872d73ad565"
  }
 },
 "nbformat": 4,
 "nbformat_minor": 4
}