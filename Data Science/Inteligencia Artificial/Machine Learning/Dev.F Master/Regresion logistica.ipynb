{
 "cells": [
  {
   "cell_type": "code",
   "execution_count": 3,
   "metadata": {},
   "outputs": [],
   "source": [
    " ### SE LLEVA A CABO POR SU RELACION CON VARIABLES CATEGORICAS Y CUYO RESULTADO ES BINARIO\n",
    "    # Es un modelo que retorna probabilidades\n",
    "    \n",
    "from sklearn.metrics import confusion_matrix\n",
    "from sklearn.linear_model import LogisticRegression\n",
    "import pandas as pd\n",
    "import numpy as np\n",
    "import matplotlib.pyplot as plt\n",
    "\n",
    "inpath = \"D:/Disco D/bigData/data/\"\n",
    "df = pd.read_csv(inpath + \"base_datos_2008.csv\")\n"
   ]
  },
  {
   "cell_type": "code",
   "execution_count": 4,
   "metadata": {},
   "outputs": [],
   "source": [
    "df = df.dropna(subset = [\"ArrDelay\"]) #elimina las filas con NA's solamente de la columna ArrDelay\n",
    "df = df.sample(frac = 1).head(100000) # no usar notacion cientifica\n",
    "y = df[\"ArrDelay\"] < 30 # True = 1, False = 0 // Interpret vuelos sin retraso notable  \n",
    "x = df[[\"DepDelay\"]] ## DOBLE CORCHETE CREA DATAFRAMES, SINGULAR VECTOR"
   ]
  },
  {
   "cell_type": "code",
   "execution_count": 6,
   "metadata": {},
   "outputs": [],
   "source": [
    "logreg = LogisticRegression()\n",
    "logreg.fit(x,y)  ### SI EXISTEN VARIABLES CATEGORICAS DENTRO DE X, HAY QUE PASARLAS A DUMMIES\n",
    "y_pred = logreg.predict(x)"
   ]
  },
  {
   "cell_type": "code",
   "execution_count": 7,
   "metadata": {},
   "outputs": [
    {
     "data": {
      "text/plain": [
       "array([[0.005, 0.995],\n",
       "       [0.059, 0.941],\n",
       "       [0.014, 0.986],\n",
       "       ...,\n",
       "       [0.37 , 0.63 ],\n",
       "       [0.023, 0.977],\n",
       "       [0.161, 0.839]])"
      ]
     },
     "execution_count": 7,
     "metadata": {},
     "output_type": "execute_result"
    }
   ],
   "source": [
    "np.round(logreg.predict_proba(x), 3)"
   ]
  },
  {
   "cell_type": "code",
   "execution_count": 11,
   "metadata": {},
   "outputs": [
    {
     "data": {
      "text/plain": [
       "0.95621"
      ]
     },
     "execution_count": 11,
     "metadata": {},
     "output_type": "execute_result"
    }
   ],
   "source": [
    "np.mean(y_pred == y) # me arroja el porcentaje de compatibilidad entre los datos reales y los predecidos"
   ]
  },
  {
   "cell_type": "code",
   "execution_count": 9,
   "metadata": {},
   "outputs": [
    {
     "data": {
      "text/plain": [
       "0.86439"
      ]
     },
     "execution_count": 9,
     "metadata": {},
     "output_type": "execute_result"
    }
   ],
   "source": [
    "np.mean(y)"
   ]
  },
  {
   "cell_type": "code",
   "execution_count": 12,
   "metadata": {},
   "outputs": [
    {
     "name": "stdout",
     "output_type": "stream",
     "text": [
      "[[10258  3303]\n",
      " [ 1076 85363]]\n"
     ]
    }
   ],
   "source": [
    "confusion_matrix = confusion_matrix(y, y_pred) # Las matrices de confusion son muy utiles para determinar qué tan bien predice \n",
    "                                                # nuestro modelo\n",
    "print(confusion_matrix) # El resultado son 4 posiciones en la matriz de confusion resultante (solamente 2 categorias (si o no)y\n",
    "                                                                                             # 2 columnas)\n",
    "    \n",
    "    # La matriz se interpreta como: [1,1] falsos (o 0s) verdaderos\n",
    "                                   #[1,2] verdaderos (o 1s) falsos\n",
    "                                   #[2,1] falsos falsos\n",
    "                                   #[2,2] verdaderos verdaderos\n",
    "                                                        # Es decir, la diagonal indica los valores clasificados correctamente"
   ]
  }
 ],
 "metadata": {
  "kernelspec": {
   "display_name": "Python 3",
   "language": "python",
   "name": "python3"
  },
  "language_info": {
   "codemirror_mode": {
    "name": "ipython",
    "version": 3
   },
   "file_extension": ".py",
   "mimetype": "text/x-python",
   "name": "python",
   "nbconvert_exporter": "python",
   "pygments_lexer": "ipython3",
   "version": "3.8.3"
  }
 },
 "nbformat": 4,
 "nbformat_minor": 4
}
