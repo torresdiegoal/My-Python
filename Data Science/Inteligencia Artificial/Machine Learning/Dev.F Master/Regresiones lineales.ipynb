{
 "cells": [
  {
   "cell_type": "code",
   "execution_count": 61,
   "metadata": {},
   "outputs": [],
   "source": [
    "### El Análisis de regresión lineal múltiple es una técnica estadística utilizada para estudiar la relación entre\n",
    "    #variables en una amplia variedad de situaciones y predecir fenómenos diversos. La función de regresión\n",
    "    #más simple es la lineal, donde cada variable participa de forma aditiva y constante para todo el fenómeno\n",
    "    #observado (Hernández, Ramírez y Ferri, 2005). La regresión lineal múltiple pone en juego más de dos\n",
    "    #variables que se exploran, y se cuantifica la relación entre la variable dependiente y las variables\n",
    "    #independientes. El objetivo final del modelo es minimizar la distancia cuadrática de todos los puntos en relación \n",
    "    #a la recta de regresión.\n",
    "    \n",
    "    #Para poder crear un modelo de regresión lineal es necesario que se cumpla con los siguientes supuestos:\n",
    "        # Linealidad: Que la relación entre las variables sea lineal.\n",
    "        # Independencia: Que los errores en la medición de las variables explicativas sean independientes entre sí.\n",
    "        # Homocedasticidad: Que los errores tengan varianza constante.\n",
    "        # Normalidad: Que las variables sigan la Ley Normal.\n",
    "        # No colinealidad: Que las variables independientes no estén correlacionadas entre ellas.\n",
    "\n",
    "    \n",
    "    \n",
    "from sklearn import datasets, linear_model\n",
    "from sklearn.metrics import mean_squared_error, r2_score\n",
    "import pandas as pd\n",
    "import numpy as np\n",
    "import matplotlib.pyplot as plt\n",
    "import random\n",
    "\n",
    "inpath = \"D:/Disco D/Big Data/Data/\"\n",
    "df = pd.read_csv(inpath + \"base_datos_2008.csv\", nrows = 1e6)"
   ]
  },
  {
   "cell_type": "code",
   "execution_count": 81,
   "metadata": {},
   "outputs": [
    {
     "data": {
      "text/html": [
       "<div>\n",
       "<style scoped>\n",
       "    .dataframe tbody tr th:only-of-type {\n",
       "        vertical-align: middle;\n",
       "    }\n",
       "\n",
       "    .dataframe tbody tr th {\n",
       "        vertical-align: top;\n",
       "    }\n",
       "\n",
       "    .dataframe thead th {\n",
       "        text-align: right;\n",
       "    }\n",
       "</style>\n",
       "<table border=\"1\" class=\"dataframe\">\n",
       "  <thead>\n",
       "    <tr style=\"text-align: right;\">\n",
       "      <th></th>\n",
       "      <th>DepDelay</th>\n",
       "    </tr>\n",
       "  </thead>\n",
       "  <tbody>\n",
       "    <tr>\n",
       "      <th>832543</th>\n",
       "      <td>79.0</td>\n",
       "    </tr>\n",
       "    <tr>\n",
       "      <th>226135</th>\n",
       "      <td>-5.0</td>\n",
       "    </tr>\n",
       "    <tr>\n",
       "      <th>762706</th>\n",
       "      <td>0.0</td>\n",
       "    </tr>\n",
       "    <tr>\n",
       "      <th>236911</th>\n",
       "      <td>14.0</td>\n",
       "    </tr>\n",
       "    <tr>\n",
       "      <th>562409</th>\n",
       "      <td>3.0</td>\n",
       "    </tr>\n",
       "    <tr>\n",
       "      <th>614619</th>\n",
       "      <td>109.0</td>\n",
       "    </tr>\n",
       "    <tr>\n",
       "      <th>467595</th>\n",
       "      <td>74.0</td>\n",
       "    </tr>\n",
       "    <tr>\n",
       "      <th>228158</th>\n",
       "      <td>-4.0</td>\n",
       "    </tr>\n",
       "    <tr>\n",
       "      <th>235142</th>\n",
       "      <td>-3.0</td>\n",
       "    </tr>\n",
       "    <tr>\n",
       "      <th>528461</th>\n",
       "      <td>2.0</td>\n",
       "    </tr>\n",
       "  </tbody>\n",
       "</table>\n",
       "</div>"
      ],
      "text/plain": [
       "        DepDelay\n",
       "832543      79.0\n",
       "226135      -5.0\n",
       "762706       0.0\n",
       "236911      14.0\n",
       "562409       3.0\n",
       "614619     109.0\n",
       "467595      74.0\n",
       "228158      -4.0\n",
       "235142      -3.0\n",
       "528461       2.0"
      ]
     },
     "execution_count": 81,
     "metadata": {},
     "output_type": "execute_result"
    }
   ],
   "source": [
    "df = df.dropna(subset = [\"ArrDelay\"])\n",
    "\n",
    "df1 = df.sample(frac = 0.1) # no usar notacion cientifica\n",
    "random.seed(567)\n",
    " ## DOBLE CORCHETE CREA DATAFRAMES, SINGULAR VECTOR\n",
    "y = df1[[\"ArrDelay\"]]\n",
    "x = df1[[\"DepDelay\"]]\n",
    "x.head(10)"
   ]
  },
  {
   "cell_type": "code",
   "execution_count": 30,
   "metadata": {},
   "outputs": [
    {
     "data": {
      "text/plain": [
       "array([[126.],\n",
       "       [  0.],\n",
       "       [ 46.],\n",
       "       [ 26.],\n",
       "       [210.],\n",
       "       [  0.],\n",
       "       [ -6.],\n",
       "       [ 46.],\n",
       "       [  2.],\n",
       "       [ 14.],\n",
       "       [ 12.],\n",
       "       [ 38.],\n",
       "       [-14.],\n",
       "       [ -4.],\n",
       "       [  4.],\n",
       "       [-14.],\n",
       "       [ -2.],\n",
       "       [ -4.],\n",
       "       [ 46.],\n",
       "       [  4.],\n",
       "       [ -6.],\n",
       "       [ 12.],\n",
       "       [  0.],\n",
       "       [ 80.],\n",
       "       [ 64.],\n",
       "       [ -6.],\n",
       "       [-12.],\n",
       "       [-16.],\n",
       "       [-12.],\n",
       "       [116.],\n",
       "       [ -4.],\n",
       "       [-16.],\n",
       "       [ -8.],\n",
       "       [-12.],\n",
       "       [  8.],\n",
       "       [ -2.],\n",
       "       [ 10.],\n",
       "       [  0.],\n",
       "       [ -6.],\n",
       "       [170.],\n",
       "       [132.],\n",
       "       [-14.],\n",
       "       [  0.],\n",
       "       [-10.],\n",
       "       [-10.],\n",
       "       [-12.],\n",
       "       [ -6.],\n",
       "       [ -2.],\n",
       "       [ 32.],\n",
       "       [ 12.],\n",
       "       [  2.],\n",
       "       [ -4.],\n",
       "       [-14.],\n",
       "       [  0.],\n",
       "       [  0.],\n",
       "       [ -8.],\n",
       "       [ -8.],\n",
       "       [ -8.],\n",
       "       [  2.],\n",
       "       [-10.],\n",
       "       [ -8.],\n",
       "       [-10.],\n",
       "       [  0.],\n",
       "       [ 32.],\n",
       "       [ -6.],\n",
       "       [  8.],\n",
       "       [-18.],\n",
       "       [ 20.],\n",
       "       [  8.],\n",
       "       [  0.],\n",
       "       [  0.],\n",
       "       [ 12.],\n",
       "       [  4.],\n",
       "       [-20.],\n",
       "       [  8.],\n",
       "       [-14.],\n",
       "       [222.],\n",
       "       [  0.],\n",
       "       [ -6.],\n",
       "       [ -2.],\n",
       "       [ 30.],\n",
       "       [ 28.],\n",
       "       [ -8.],\n",
       "       [-20.],\n",
       "       [ -4.],\n",
       "       [  0.],\n",
       "       [ -4.],\n",
       "       [  0.],\n",
       "       [ 18.],\n",
       "       [234.],\n",
       "       [ 18.],\n",
       "       [  6.],\n",
       "       [-20.],\n",
       "       [-16.],\n",
       "       [-14.],\n",
       "       [  4.]])"
      ]
     },
     "execution_count": 30,
     "metadata": {},
     "output_type": "execute_result"
    }
   ],
   "source": [
    " ## de dataframe nx1  a NUMPY ARRAY\n",
    "X = np.array(x)\n",
    "X + X"
   ]
  },
  {
   "cell_type": "code",
   "execution_count": 22,
   "metadata": {},
   "outputs": [
    {
     "data": {
      "text/plain": [
       "Index(['Year', 'Month', 'DayofMonth', 'DayOfWeek', 'DepTime', 'CRSDepTime',\n",
       "       'ArrTime', 'CRSArrTime', 'UniqueCarrier', 'FlightNum', 'TailNum',\n",
       "       'ActualElapsedTime', 'CRSElapsedTime', 'AirTime', 'ArrDelay',\n",
       "       'DepDelay', 'Origin', 'Dest', 'Distance', 'TaxiIn', 'TaxiOut',\n",
       "       'Cancelled', 'CancellationCode', 'Diverted', 'CarrierDelay',\n",
       "       'WeatherDelay', 'NASDelay', 'SecurityDelay', 'LateAircraftDelay'],\n",
       "      dtype='object')"
      ]
     },
     "execution_count": 22,
     "metadata": {},
     "output_type": "execute_result"
    }
   ],
   "source": [
    "df.columns"
   ]
  },
  {
   "cell_type": "code",
   "execution_count": 40,
   "metadata": {},
   "outputs": [
    {
     "name": "stdout",
     "output_type": "stream",
     "text": [
      "coeficients:  [[1.018879]]\n",
      "R squad 0.8643959161356851\n"
     ]
    }
   ],
   "source": [
    "reg = linear_model.LinearRegression()\n",
    "reg.fit(x,y)\n",
    "print(\"coeficients: \", reg.coef_) #coeficientes\n",
    "\n",
    "y_pred = reg.predict(x)\n",
    "print(\"R squad\", r2_score(y, y_pred)) # R cuadrado"
   ]
  },
  {
   "cell_type": "code",
   "execution_count": 50,
   "metadata": {},
   "outputs": [
    {
     "data": {
      "text/plain": [
       "[<matplotlib.lines.Line2D at 0x262ff534bb0>]"
      ]
     },
     "execution_count": 50,
     "metadata": {},
     "output_type": "execute_result"
    },
    {
     "data": {
      "image/png": "[encoded data removed]",
      "text/plain": [
       "<Figure size 432x288 with 1 Axes>"
      ]
     },
     "metadata": {
      "needs_background": "light"
     },
     "output_type": "display_data"
    }
   ],
   "source": [
    "plt.scatter(x[1:10000], y[1:10000], color = \"purple\") \n",
    "plt.plot(x[1:10000], y_pred[1:10000], color = \"blue\") # Lineaaaa de tendencia"
   ]
  },
  {
   "cell_type": "code",
   "execution_count": 75,
   "metadata": {},
   "outputs": [],
   "source": [
    "### con mas variables incluyendo categoricas\n",
    "\n",
    "X = df[[\"AirTime\", \"Distance\", \"TaxiIn\", \"TaxiOut\"]]\n",
    "df[\"Month\"] = df[\"Month\"].apply(str) # CONVERTIR A STRING\n",
    "df[\"Month\"] = str(df[\"Month\"])  ### O esta opcion, tambien valida\n",
    "\n",
    "df[\"DayofMonth\"] = df[\"DayofMonth\"].apply(str) \n",
    "df[\"DayOfWeek\"] = df[\"DayOfWeek\"].apply(str) \n",
    "\n",
    "dummies = pd.get_dummies(df[[\"Month\", \"DayofMonth\", \"DayOfWeek\", \"Origin\", \"Dest\"]])\n",
    "X = dummies.add(X, fill_value = 0) # Añade nuestras variables num de X en la matriz de dummies"
   ]
  },
  {
   "cell_type": "code",
   "execution_count": 76,
   "metadata": {},
   "outputs": [
    {
     "data": {
      "text/plain": [
       "Index(['AirTime', 'DayOfWeek_1', 'DayOfWeek_2', 'DayOfWeek_3', 'DayOfWeek_4',\n",
       "       'DayOfWeek_5', 'DayOfWeek_6', 'DayOfWeek_7', 'DayofMonth_1',\n",
       "       'DayofMonth_10',\n",
       "       ...\n",
       "       'Origin_VLD', 'Origin_VPS', 'Origin_WRG', 'Origin_WYS', 'Origin_XNA',\n",
       "       'Origin_YAK', 'Origin_YKM', 'Origin_YUM', 'TaxiIn', 'TaxiOut'],\n",
       "      dtype='object', length=635)"
      ]
     },
     "execution_count": 76,
     "metadata": {},
     "output_type": "execute_result"
    }
   ],
   "source": [
    "X.columns"
   ]
  },
  {
   "cell_type": "code",
   "execution_count": 78,
   "metadata": {},
   "outputs": [
    {
     "name": "stdout",
     "output_type": "stream",
     "text": [
      "R squad 0.17426057458108057\n"
     ]
    }
   ],
   "source": [
    "reg = linear_model.LinearRegression()\n",
    "reg.fit(X,y)\n",
    "#print(\"coeficients: \", reg.coef_) #coeficientes\n",
    "\n",
    "y_pred = reg.predict(X)\n",
    "print(\"R squad\", r2_score(y, y_pred)) # R cuadrado  # El R cuadrado es muy bajo, con esa informacion \n",
    "                                        # no estamos conociendo casi nada de la varianza que queremos explicar"
   ]
  },
  {
   "cell_type": "code",
   "execution_count": 82,
   "metadata": {},
   "outputs": [
    {
     "data": {
      "text/plain": [
       "Index(['AirTime', 'DayOfWeek_1', 'DayOfWeek_2', 'DayOfWeek_3', 'DayOfWeek_4',\n",
       "       'DayOfWeek_5', 'DayOfWeek_6', 'DayOfWeek_7', 'DayofMonth_1',\n",
       "       'DayofMonth_10',\n",
       "       ...\n",
       "       'Origin_VLD', 'Origin_VPS', 'Origin_WRG', 'Origin_WYS', 'Origin_XNA',\n",
       "       'Origin_YAK', 'Origin_YKM', 'Origin_YUM', 'TaxiIn', 'TaxiOut'],\n",
       "      dtype='object', length=636)"
      ]
     },
     "execution_count": 82,
     "metadata": {},
     "output_type": "execute_result"
    }
   ],
   "source": [
    "X = X.add(df[[\"DepDelay\"]], fill_value = 0)\n",
    "X.columns"
   ]
  },
  {
   "cell_type": "code",
   "execution_count": 83,
   "metadata": {},
   "outputs": [
    {
     "name": "stdout",
     "output_type": "stream",
     "text": [
      "R squad 0.9710258198481881\n"
     ]
    }
   ],
   "source": [
    "reg = linear_model.LinearRegression()\n",
    "reg.fit(X,y)\n",
    "#print(\"coeficients: \", reg.coef_) #coeficientes\n",
    "\n",
    "y_pred = reg.predict(X)\n",
    "print(\"R squad\", r2_score(y, y_pred)) # R cuadrado"
   ]
  }
 ],
 "metadata": {
  "kernelspec": {
   "display_name": "Python 3",
   "language": "python",
   "name": "python3"
  },
  "language_info": {
   "codemirror_mode": {
    "name": "ipython",
    "version": 3
   },
   "file_extension": ".py",
   "mimetype": "text/x-python",
   "name": "python",
   "nbconvert_exporter": "python",
   "pygments_lexer": "ipython3",
   "version": "3.8.3"
  }
 },
 "nbformat": 4,
 "nbformat_minor": 4
}
