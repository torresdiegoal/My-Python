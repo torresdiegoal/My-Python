{
 "cells": [
  {
   "cell_type": "code",
   "execution_count": 8,
   "metadata": {},
   "outputs": [
    {
     "data": {
      "text/plain": [
       "AirTime     float64\n",
       "ArrDelay    float64\n",
       "Distance      int64\n",
       "TaxiOut     float64\n",
       "dtype: object"
      ]
     },
     "execution_count": 8,
     "metadata": {},
     "output_type": "execute_result"
    }
   ],
   "source": [
    "### El modelo K-Nearest Neighbours hace una clasificación por categorías de sus puntos basándose en la categoría de sus vecinos\n",
    "  # más cercanos\n",
    "    \n",
    "from sklearn.neighbors import KNeighborsClassifier\n",
    "import pandas as pd\n",
    "import numpy as np\n",
    "import matplotlib.pyplot as plt\n",
    "\n",
    "inpath = \"D:/Disco D/bigData/data/\"\n",
    "df = pd.read_csv(inpath + \"base_datos_2008.csv\", nrows = 1e6)\n",
    "newdf = df[[\"AirTime\", \"ArrDelay\", \"Distance\", \"TaxiOut\"]].dropna()\n",
    "cols = newdf[newdf.columns[newdf.columns != \"ArrDelay\"]] # selecciona todas las variables salvo la especificada\n",
    "newdf.dtypes"
   ]
  },
  {
   "cell_type": "code",
   "execution_count": 9,
   "metadata": {},
   "outputs": [],
   "source": [
    "filtro = newdf[\"ArrDelay\"] > 10.\n",
    "\n",
    "newdf[\"ArrDelay\"][filtro] = \"Delayed\" # cambia los booleans por etiquetas asi\n",
    "newdf[\"ArrDelay\"][filtro == False] = \"Not Delayed\""
   ]
  },
  {
   "cell_type": "code",
   "execution_count": 11,
   "metadata": {},
   "outputs": [],
   "source": [
    "kngb_3 = KNeighborsClassifier(n_neighbors = 3, n_jobs = -1) # el numero de vecinos es relativo, ensayo y error papi\n",
    "kngb_3.fit(cols, newdf[\"ArrDelay\"])\n",
    "kngb_3_pred = kngb_3.predict(cols)"
   ]
  },
  {
   "cell_type": "code",
   "execution_count": 12,
   "metadata": {},
   "outputs": [
    {
     "data": {
      "text/plain": [
       "0.8040059625362947"
      ]
     },
     "execution_count": 12,
     "metadata": {},
     "output_type": "execute_result"
    }
   ],
   "source": [
    "np.mean(kngb_3_pred == newdf[\"ArrDelay\"])"
   ]
  },
  {
   "cell_type": "code",
   "execution_count": 13,
   "metadata": {},
   "outputs": [
    {
     "data": {
      "text/plain": [
       "0.6912450368307814"
      ]
     },
     "execution_count": 13,
     "metadata": {},
     "output_type": "execute_result"
    }
   ],
   "source": [
    " # pero con el resultado anterior no queda muy claro cual es la proporcion a la que pertenecen los datos con respecto a cada clasificacion\n",
    "    \n",
    "np.mean(newdf[\"ArrDelay\"] == \"Not Delayed\")"
   ]
  },
  {
   "cell_type": "code",
   "execution_count": null,
   "metadata": {},
   "outputs": [],
   "source": [
    "# Para evitar que, a la hora de clasificar binariamente no tengamos empates, es recomendable usar un número impar\n",
    " # Por ejemplo, si estamos clasificando entre vuelos que se retrasan mucho y vuelos que no, y no sabemos cómo clasificar un vuelo\n",
    " # concreto, si solo miramos los dos más próximos en nuestro espacio de variables y uno de ellos se ha retrasado y el otro no, \n",
    " # no es posible clasificar el vuelo que nos interesa, por ello es mejor usar un número impar."
   ]
  }
 ],
 "metadata": {
  "kernelspec": {
   "display_name": "Python 3",
   "language": "python",
   "name": "python3"
  },
  "language_info": {
   "codemirror_mode": {
    "name": "ipython",
    "version": 3
   },
   "file_extension": ".py",
   "mimetype": "text/x-python",
   "name": "python",
   "nbconvert_exporter": "python",
   "pygments_lexer": "ipython3",
   "version": "3.8.3"
  }
 },
 "nbformat": 4,
 "nbformat_minor": 4
}
