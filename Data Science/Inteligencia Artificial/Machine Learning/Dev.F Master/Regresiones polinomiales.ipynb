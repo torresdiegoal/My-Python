{
 "cells": [
  {
   "cell_type": "markdown",
   "metadata": {},
   "source": [
    "En esta práctica del algoritmo de Regresión Polinomial, se desarrollará un modelo para predecir el precio de las casas en Boston de acuerdo al número de habitaciones que cuenta la vivienda, el tiempo que ha tenido ocupada y la distancia que se encuentra la misma de los centros de trabajos de Boston, siendo varias características que se tomarán en cuenta para diseñar nuestro modelo."
   ]
  },
  {
   "cell_type": "code",
   "execution_count": 1,
   "metadata": {},
   "outputs": [],
   "source": [
    "#Se importan la librerias a utilizar\n",
    "import numpy as np\n",
    "import matplotlib.pyplot as plt\n",
    "from sklearn import datasets, linear_model\n",
    "from sklearn.model_selection import train_test_split\n",
    "from sklearn.preprocessing import PolynomialFeatures\n"
   ]
  },
  {
   "cell_type": "code",
   "execution_count": null,
   "metadata": {},
   "outputs": [],
   "source": [
    "#Importamos los datos de la misma librería de scikit-learn\n",
    "boston = datasets.load_boston()\n",
    "\n",
    "#Seleccionamos solamente la columna 6 del dataset\n",
    "X_p = boston.data[:, np.newaxis, 5]\n",
    "\n",
    "#Definimos los datos correspondientes a las etiquetas\n",
    "y_p = boston.target\n",
    "\n",
    "#Importamos los datos de la misma librería de scikit-learn\n",
    "boston = datasets.load_boston()\n",
    "\n",
    "\n",
    "#Separo los datos de \"train\" en entrenamiento y prueba para probar los algoritmos\n",
    "X_train_p, X_test_p, y_train_p, y_test_p = train_test_split(X_p, y_p, test_size=0.2)"
   ]
  },
  {
   "cell_type": "code",
   "execution_count": null,
   "metadata": {},
   "outputs": [],
   "source": [
    "#Se define el grado del polinomio\n",
    "poli_reg = PolynomialFeatures(degree = 2)\n",
    "\n",
    "#Se transforma las características existentes en características de mayor grado\n",
    "X_train_poli = poli_reg.fit_transform(X_train_p)\n",
    "X_test_poli = poli_reg.fit_transform(X_test_p)\n",
    "\n"
   ]
  },
  {
   "cell_type": "code",
   "execution_count": null,
   "metadata": {},
   "outputs": [],
   "source": [
    "#Definimos el algoritmo a utilizar\n",
    "pr = linear_model.LinearRegression()\n",
    "\n",
    "#Entrenamos el modelo\n",
    "pr.fit(X_train_poli, y_train_p)\n",
    "\n",
    "#Realizamos una predicción\n",
    "Y_pred_pr = pr.predict(X_test_poli)\n",
    "\n",
    "#Graficamos los datos junto con el modelo\n",
    "plt.scatter(X_test_p, y_test_p)\n",
    "plt.plot(X_test_p, Y_pred_pr, color='red', linewidth=3)\n",
    "plt.show()\n",
    "\n",
    "print()\n",
    "print('DATOS DEL MODELO REGRESIÓN POLINOMIAL')\n",
    "print()\n",
    "\n",
    "print('Valor de la pendiente o coeficiente \"a\":')\n",
    "print(pr.coef_)\n",
    "\n",
    "print('Valor de la intersección o coeficiente \"b\":')\n",
    "print(pr.intercept_)\n",
    "\n",
    "print('Precisión del modelo:')\n",
    "print(pr.score(X_train_poli, y_train_p))"
   ]
  }
 ],
 "metadata": {
  "kernelspec": {
   "display_name": "Python 3",
   "language": "python",
   "name": "python3"
  },
  "language_info": {
   "codemirror_mode": {
    "name": "ipython",
    "version": 3
   },
   "file_extension": ".py",
   "mimetype": "text/x-python",
   "name": "python",
   "nbconvert_exporter": "python",
   "pygments_lexer": "ipython3",
   "version": "3.11.5"
  }
 },
 "nbformat": 4,
 "nbformat_minor": 2
}
