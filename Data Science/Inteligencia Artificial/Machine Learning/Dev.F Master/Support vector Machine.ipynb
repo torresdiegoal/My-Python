{
 "cells": [
  {
   "cell_type": "code",
   "execution_count": 5,
   "metadata": {},
   "outputs": [],
   "source": [
    " ### Support Vector Machine (SVM) es un caso de algoritmo de clasificación supervisado. Donde su objetivo es encontrar el \n",
    "    #hiperplano separador optimo que separa nuestros datos adecuadamente y nos permite hacer predicciones en forma precisa.  \n",
    "    #Para esto, el algoritmo manipula los vectores de soporte, los cuales son puntos cercanos a un hiperplano que influyen en \n",
    "    #la posición y orientación de este.\n",
    "\n",
    "from sklearn.svm import SVC\n",
    "import pandas as pd\n",
    "import numpy as np\n",
    "import matplotlib.pyplot as plt\n",
    "\n",
    "inpath = \"D:/Disco D/Big Data/Data/\"\n",
    "df = pd.read_csv(inpath + \"base_datos_2008.csv\")\n",
    "df = df.dropna(subset = [\"ArrDelay\"]) \n",
    "df = df.sample(frac=1)\n",
    "df = df.head(10000)\n",
    "df_test = df.tail(10000)\n"
   ]
  },
  {
   "cell_type": "code",
   "execution_count": 8,
   "metadata": {},
   "outputs": [
    {
     "data": {
      "text/plain": [
       "1432494    True\n",
       "6467346    True\n",
       "542064     True\n",
       "6642777    True\n",
       "6043060    True\n",
       "           ... \n",
       "4980456    True\n",
       "6021626    True\n",
       "6740623    True\n",
       "2289099    True\n",
       "1518834    True\n",
       "Name: ArrDelay, Length: 10000, dtype: bool"
      ]
     },
     "execution_count": 8,
     "metadata": {},
     "output_type": "execute_result"
    }
   ],
   "source": [
    "x = df[[\"AirTime\", \"Distance\", \"TaxiIn\", \"TaxiOut\", \"DepTime\", \"DepDelay\"]]\n",
    "x_test = df_test[[\"AirTime\", \"Distance\", \"TaxiIn\", \"TaxiOut\", \"DepTime\", \"DepDelay\"]]\n",
    "y = df[\"ArrDelay\"] > 10\n",
    "y_test = df_test[\"ArrDelay\"] > 10\n",
    "\n",
    "clf = SVC() # Paramet kernel = / \"linear\", \"poly\", \"rbf\", \"sigmoid\"\n",
    "clf.fit(x, y)\n",
    "y_pred = clf.predict(x_test)\n",
    "\n",
    "#np.mean(y_pred == y_test) # calcula el porcentaje de datos en donde los valores son clasificados correctamente de acuerdo con\n",
    "                            # las variables usadas    "
   ]
  },
  {
   "cell_type": "code",
   "execution_count": 12,
   "metadata": {},
   "outputs": [
    {
     "data": {
      "image/jpeg": "[encoded data removed]",
      "text/plain": [
       "<IPython.core.display.Image object>"
      ]
     },
     "execution_count": 12,
     "metadata": {
      "image/jpeg": {
       "height": 400,
       "width": 400
      }
     },
     "output_type": "execute_result"
    }
   ],
   "source": [
    "from IPython.display import Image\n",
    "Image(filename = \"C:/Users/Diego/Desktop/kernels_SVM.jpg\", width = 400, height = 400) "
   ]
  },
  {
   "cell_type": "code",
   "execution_count": null,
   "metadata": {},
   "outputs": [],
   "source": [
    "# para kernel = \"linear\", usar\n",
    "# LinearSVC()\n",
    "\n",
    "\n",
    "# Algunos links de interes:\n"
   ]
  },
  {
   "cell_type": "markdown",
   "metadata": {},
   "source": [
    "[kernel_trick_SVM](https://towardsdatascience.com/the-kernel-trick-c98cdbcaeb3f)\n",
    "\n",
    "\n",
    "[How to explain machine learning algorithms to your grandma](https://towardsdatascience.com/machine-learning-algorithms-in-laymans-terms-part-1-d0368d769a7b)"
   ]
  }
 ],
 "metadata": {
  "kernelspec": {
   "display_name": "Python 3",
   "language": "python",
   "name": "python3"
  },
  "language_info": {
   "codemirror_mode": {
    "name": "ipython",
    "version": 3
   },
   "file_extension": ".py",
   "mimetype": "text/x-python",
   "name": "python",
   "nbconvert_exporter": "python",
   "pygments_lexer": "ipython3",
   "version": "3.8.3"
  }
 },
 "nbformat": 4,
 "nbformat_minor": 4
}
