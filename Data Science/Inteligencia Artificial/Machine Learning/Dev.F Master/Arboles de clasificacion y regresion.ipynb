{
 "cells": [
  {
   "cell_type": "code",
   "execution_count": 13,
   "metadata": {},
   "outputs": [],
   "source": [
    " ### Busca seleccionar la variable mas explicativa cuya particion permita explicar mejor los retrazos de los vuelos, es decir, la\n",
    "        # variable que defina la mayor cantidad de si o no's en cada grupo\n",
    "    \n",
    "from sklearn.metrics import r2_score # calcula la eficiencia de modelos numericos a partir del r cuadrad\n",
    "from sklearn import tree\n",
    "import pandas as pd\n",
    "import numpy as np\n",
    "import matplotlib.pyplot as plt\n",
    "\n",
    "inpath = \"D:/Disco D/bigData/data/\"\n",
    "df = pd.read_csv(inpath + \"base_datos_2008.csv\")\n",
    "df = df.dropna(subset = [\"ArrDelay\"]) #elimina las filas con NA's solamente de la columna ArrDelay\n",
    "df = df.sample(frac=1)\n",
    "df = df.head(100000)\n",
    "df_test = df.tail(100000)"
   ]
  },
  {
   "cell_type": "code",
   "execution_count": 14,
   "metadata": {},
   "outputs": [],
   "source": [
    "## en este caso, los grupos a dividir seria si l\n",
    "#Ajuste mediante validacion externa, o utilizar dos sets uno para entrenamiento y otro para validacion\n",
    "\n",
    "clf =tree.DecisionTreeClassifier()# ajustamos el modelo con uno de los sets / PARAMETRS max_depth = maximo de particiones\n",
    "                                                                    # min_sample_split = n° min de casos admitidos en cada particion\n",
    "                                                                    # max_features = fijar num max de variab usadas por el model\n",
    "\n",
    "x = df[[\"AirTime\", \"Distance\", \"TaxiIn\", \"TaxiOut\", \"DepTime\", \"DepDelay\"]]\n",
    "x_test = df_test[[\"AirTime\", \"Distance\", \"TaxiIn\", \"TaxiOut\", \"DepTime\", \"DepDelay\"]]\n",
    "y = df[\"ArrDelay\"] > 10\n",
    "y_test = df_test[\"ArrDelay\"] > 10 # vuelos con retrazo de llegada mayor a 10 min\n",
    "\n",
    "clf = clf.fit(x,y) \n",
    "y_pred = clf.predict(x)\n",
    "y_pred_test = clf.predict(x_test)"
   ]
  },
  {
   "cell_type": "code",
   "execution_count": 15,
   "metadata": {},
   "outputs": [
    {
     "data": {
      "text/plain": [
       "1.0"
      ]
     },
     "execution_count": 15,
     "metadata": {},
     "output_type": "execute_result"
    }
   ],
   "source": [
    "# Validamos el modelo con el otro\n",
    "np.mean(y_test == y_pred_test)"
   ]
  },
  {
   "cell_type": "code",
   "execution_count": 16,
   "metadata": {},
   "outputs": [
    {
     "name": "stdout",
     "output_type": "stream",
     "text": [
      "R squa:  0.9999998270237683\n",
      "R squa:  0.9999998270237683\n"
     ]
    }
   ],
   "source": [
    " # Ahora veremos el caso con variables numericas\n",
    "    \n",
    "clf =tree.DecisionTreeClassifier()\n",
    "\n",
    "y = df[\"ArrDelay\"]\n",
    "y_test = df_test[\"ArrDelay\"]\n",
    "\n",
    "clf = clf.fit(x,y) # ajustamos el modelo con uno de los sets\n",
    "y_pred = clf.predict(x)\n",
    "y_pred_test = clf.predict(x_test)\n",
    "\n",
    "print(\"R squa: \", r2_score(y, y_pred))\n",
    "print(\"R squa: \", r2_score(y_test, y_pred_test))\n"
   ]
  }
 ],
 "metadata": {
  "kernelspec": {
   "display_name": "Python 3",
   "language": "python",
   "name": "python3"
  },
  "language_info": {
   "codemirror_mode": {
    "name": "ipython",
    "version": 3
   },
   "file_extension": ".py",
   "mimetype": "text/x-python",
   "name": "python",
   "nbconvert_exporter": "python",
   "pygments_lexer": "ipython3",
   "version": "3.8.3"
  }
 },
 "nbformat": 4,
 "nbformat_minor": 4
}
