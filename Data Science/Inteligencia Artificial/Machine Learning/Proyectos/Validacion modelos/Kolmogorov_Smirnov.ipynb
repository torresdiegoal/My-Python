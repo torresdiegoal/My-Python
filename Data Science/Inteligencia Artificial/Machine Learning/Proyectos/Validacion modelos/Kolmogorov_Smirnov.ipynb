{
 "cells": [
  {
   "cell_type": "markdown",
   "metadata": {},
   "source": [
    "# Kolmogorov-Smirnov Test\n",
    "\n",
    "Kolmogorov - Smirnov (KS) test is a non-parametric test to compare the equality of two continuous one dimensional probability distributions. In this test, we quantify the distance (absolute difference) between distributions. These two distributions could be two different sample, **or one could be sample and another one a theoretical distribution**. Let us test if our generated normal random variable follow normal distribution or not. st.kstest is the function to to perform KS test."
   ]
  },
  {
   "cell_type": "code",
   "execution_count": 6,
   "metadata": {},
   "outputs": [],
   "source": [
    "import numpy as np\n",
    "import scipy.stats as st\n",
    "from PIL import Image"
   ]
  },
  {
   "cell_type": "code",
   "execution_count": 8,
   "metadata": {},
   "outputs": [
    {
     "name": "stdout",
     "output_type": "stream",
     "text": [
      "0.04057054965256257\n"
     ]
    }
   ],
   "source": [
    "# generamos numeros aleatorios distribuidos normalmente, similar a rnorm() de R\n",
    "x = np.random.randn(1000)\n",
    "\n",
    "# Kolmogorov-Smirnov Test  # D the greatest or max vertical distance between the two distributions\n",
    "                           # x and the theorical 'norm'\n",
    "D,p = st.kstest(x,'norm') # p -> p-value\n",
    "print(p)\n",
    "\n",
    "#Image.open('hypothesis_Kolmogorov_Smirnov.png').show"
   ]
  },
  {
   "cell_type": "markdown",
   "metadata": {},
   "source": [
    "![KS Hypothesis](hypothesis_Kolmogorov_Smirnov.png)"
   ]
  },
  {
   "cell_type": "markdown",
   "metadata": {},
   "source": [
    "We get a p-value higher than the threshold, which means that our generated normally distributed random variable is in fact normal. We can also test if the the generated uniformly distributed random variable are not normal by chance. In this we get a p-value less than the threshold, which means that our generated random numbers in this case are not normal."
   ]
  },
  {
   "cell_type": "code",
   "execution_count": 5,
   "metadata": {},
   "outputs": [
    {
     "name": "stdout",
     "output_type": "stream",
     "text": [
      "[0.28131676 0.2581039  0.76049716 0.66325315 0.91886628]\n"
     ]
    }
   ],
   "source": [
    "# genera numeros aleatorios en el intervalo [0, 1) con una distribución uniforme\n",
    "y = np.random.rand(1000) \n",
    "\n",
    "D, p = st.kstest(y,'norm')\n",
    "print(p)"
   ]
  },
  {
   "cell_type": "code",
   "execution_count": null,
   "metadata": {},
   "outputs": [],
   "source": [
    "D,p = st.kstest(y,x)\n",
    "print(D)\n",
    "print(p)"
   ]
  }
 ],
 "metadata": {
  "kernelspec": {
   "display_name": "Python 3",
   "language": "python",
   "name": "python3"
  },
  "language_info": {
   "codemirror_mode": {
    "name": "ipython",
    "version": 3
   },
   "file_extension": ".py",
   "mimetype": "text/x-python",
   "name": "python",
   "nbconvert_exporter": "python",
   "pygments_lexer": "ipython3",
   "version": "3.11.5"
  }
 },
 "nbformat": 4,
 "nbformat_minor": 2
}
