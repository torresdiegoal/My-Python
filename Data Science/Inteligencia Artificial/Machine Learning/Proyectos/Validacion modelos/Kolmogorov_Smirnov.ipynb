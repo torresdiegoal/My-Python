{
 "cells": [
  {
   "cell_type": "markdown",
   "metadata": {},
   "source": [
    "# Kolmogorov-Smirnov Test\n",
    "\n",
    "\n",
    "Kolmogorov - Smirnov (KS) test is a non-parametric test to compare the equality of two continuous one dimensional probability distributions. In this test, we quantify the distance (absolute difference) between distributions. These two distributions could be two different sample, **or one could be sample and another one a theoretical distribution**. Let us test if our generated normal random variable follow normal distribution or not. st.kstest is the function to to perform KS test.\n",
    "\n",
    "![KS Hypothesis](KS_plot.png)\n",
    "\n",
    "The graph shows two curves: the red line is **CDF** or the **Cumulative distribution function** of the theorical distribution, whilst the blue one is the **empirical CDF**, which is the distribution of the sample.\n",
    "\n",
    "The test answers the question \"How likely is it that we would see a collection of samples like this if they were drawn from that probability distribution?\" or, in the second case, \"How likely is it that we would see two sets of samples like this if they were drawn from the same (but unknown) probability distribution?\"."
   ]
  },
  {
   "cell_type": "code",
   "execution_count": 5,
   "metadata": {},
   "outputs": [],
   "source": [
    "import numpy as np\n",
    "import scipy.stats as st\n",
    "import matplotlib.pyplot as plt\n",
    "import pandas as pd"
   ]
  },
  {
   "cell_type": "code",
   "execution_count": 6,
   "metadata": {},
   "outputs": [
    {
     "name": "stdout",
     "output_type": "stream",
     "text": [
      "0.7186759915704102\n"
     ]
    }
   ],
   "source": [
    "# generamos numeros aleatorios distribuidos normalmente, similar a rnorm() de R\n",
    "# con media 0 y sdv de 1\n",
    "x = np.random.randn(1000) # o np.random.normal() especificando media y sdv\n",
    "\n",
    "# Kolmogorov-Smirnov Test  # D the greatest or max vertical distance between the two distributions\n",
    "                           # x and the theorical 'norm', in other words, the KS statistic\n",
    "D,p = st.kstest(x,'norm') # p -> p-value\n",
    "print(p)"
   ]
  },
  {
   "cell_type": "markdown",
   "metadata": {},
   "source": [
    "![KS Hypothesis](hypothesis_Kolmogorov_Smirnov.png)"
   ]
  },
  {
   "cell_type": "markdown",
   "metadata": {},
   "source": [
    "We get a p-value higher than the threshold, which means that our generated normally distributed random variable is in fact normal. We can also test if the the generated uniformly distributed random variable are not normal by chance. In this we get a p-value less than the threshold, which means that our generated random numbers in this case are not normal."
   ]
  },
  {
   "cell_type": "code",
   "execution_count": 7,
   "metadata": {},
   "outputs": [
    {
     "name": "stdout",
     "output_type": "stream",
     "text": [
      "8.165634881904524e-232\n"
     ]
    }
   ],
   "source": [
    "# genera numeros aleatorios en el intervalo [0, 1) con una distribución uniforme\n",
    "y = np.random.rand(1000) \n",
    "\n",
    "D, p = st.kstest(y,'norm')\n",
    "print(p)"
   ]
  },
  {
   "cell_type": "code",
   "execution_count": 8,
   "metadata": {},
   "outputs": [
    {
     "name": "stdout",
     "output_type": "stream",
     "text": [
      "0.494\n",
      "3.817701049123875e-111\n"
     ]
    }
   ],
   "source": [
    "# ks test para dos \n",
    "\n",
    "D,p = st.kstest(y,x)\n",
    "print(D)\n",
    "print(p)"
   ]
  },
  {
   "cell_type": "code",
   "execution_count": 10,
   "metadata": {},
   "outputs": [],
   "source": [
    "# Genera dos muestras de datos de ejemplo (puedes reemplazarlas con tus propios datos)\n",
    "data1 = np.random.normal(0, 1, 1000)  # Muestra 1 (distribución normal)\n",
    "data2 = np.random.normal(0.5, 1, 1000)  # Muestra 2 (distribución normal con una media ligeramente desplazada)\n",
    "\n",
    "# Ordena los datos de ambas muestras\n",
    "data1 = np.sort(data1)\n",
    "data2 = np.sort(data2)\n",
    "\n",
    "# Calcula la diferencia acumulativa entre las dos muestras\n",
    "cdf1 = np.arange(1, len(data1) + 1) / len(data1)\n",
    "cdf2 = np.arange(1, len(data2) + 1) / len(data2)"
   ]
  },
  {
   "cell_type": "code",
   "execution_count": 16,
   "metadata": {},
   "outputs": [],
   "source": [
    "# Crea un DataFrame a partir de los arrays, para esto es necesario indicar mediante un diccionario\n",
    "# las etiquetas de los nombres de los campos\n",
    "df = pd.DataFrame({\n",
    "    'Muestra1': data1,\n",
    "    'Muestra2': data2,\n",
    "    'CDF1': cdf1,\n",
    "    'CDF2': cdf2\n",
    "})\n",
    "\n",
    "# Calcula la diferencia entre las dos distribuciones\n",
    "ks_statistic = np.max(np.abs(cdf1 - cdf2))"
   ]
  },
  {
   "cell_type": "code",
   "execution_count": null,
   "metadata": {},
   "outputs": [],
   "source": [
    "# Grafica el gráfico KS\n",
    "plt.plot(data1, cdf1, label='Muestra 1')\n",
    "plt.plot(data2, cdf2, label='Muestra 2')\n",
    "plt.title('Gráfico KS')\n",
    "plt.xlabel('Valores')\n",
    "plt.ylabel('Distribución Acumulativa')\n",
    "plt.legend(loc='best')\n",
    "\n",
    "# Muestra el valor de la estadística KS en el gráfico\n",
    "plt.annotate(f'KS Statistic: {ks_statistic:.3f}', xy=(0.5, 0.8), xycoords='axes fraction')\n",
    "\n",
    "# Muestra el punto crítico de la prueba KS\n",
    "# Dibuja una línea vertical en el punto crítico de la prueba KS\n",
    "plt.axvline(np.max(data1[data1 <= data2[0]]), color='red', linestyle='--', label='KS Statistic')\n",
    "plt.legend()\n",
    "\n",
    "# Muestra el gráfico\n",
    "plt.show()"
   ]
  }
 ],
 "metadata": {
  "kernelspec": {
   "display_name": "Python 3",
   "language": "python",
   "name": "python3"
  },
  "language_info": {
   "codemirror_mode": {
    "name": "ipython",
    "version": 3
   },
   "file_extension": ".py",
   "mimetype": "text/x-python",
   "name": "python",
   "nbconvert_exporter": "python",
   "pygments_lexer": "ipython3",
   "version": "3.11.5"
  }
 },
 "nbformat": 4,
 "nbformat_minor": 2
}
