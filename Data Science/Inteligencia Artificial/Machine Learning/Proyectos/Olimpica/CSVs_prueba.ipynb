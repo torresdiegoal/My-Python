{
 "cells": [
  {
   "cell_type": "code",
   "execution_count": 16,
   "metadata": {},
   "outputs": [],
   "source": [
    "import os.path\n",
    "import pandas as pd\n",
    "import numpy as np\n",
    "import warnings\n",
    "\n",
    "warnings.filterwarnings(\"ignore\", category=UserWarning)  # ignora los warnings\n",
    "\n",
    "\n",
    "inpath = \"C:/Users/Diego Torres/OneDrive - Manar Technologies SAS/Documentos compartidos/01_Proyectos/02_Externos/Olimpica/06_ProyectoTAO/03_Loyalty/01_CustomerAnalytics_1/01_Levantamiento/01_Modelo_RFM/CSVs Pruebas/\"\n",
    "outpath = \"C:/Users/Diego Torres/OneDrive - Manar Technologies SAS/Documentos compartidos/01_Proyectos/02_Externos/Olimpica/06_ProyectoTAO/03_Loyalty/\"\n",
    "\n",
    "df = pd.read_csv(inpath + 'PLUSAPS_EJEMPLO.csv', delimiter=',', decimal=\",\")\n"
   ]
  },
  {
   "cell_type": "code",
   "execution_count": 17,
   "metadata": {},
   "outputs": [
    {
     "name": "stdout",
     "output_type": "stream",
     "text": [
      "(3361, 38)\n",
      " \n",
      "      PLU_SAP                                         PLU_Nombre ABC_nal   \n",
      "0     2408190     2408190  BLUSA ROVITEX TEEN 6144193 12 GRIS JP       C  \\\n",
      "1  2406078043    2406078043  VESTIDOS GEF 720916, 10, AMAR 15019           \n",
      "2  2451162003    2451162003  MEDIA DAKOTA GIRL 2108X5, 4-6, STDO       C   \n",
      "3     2452767     2452767  CONJ DAKOTA KIDS DKK-273438 10 BCO...           \n",
      "4     2465997         2465997  CONJ BRANDILI 25175.044 4 NATURAL       C   \n",
      "5  2451211004    2451211004  CAMISETA GAMIN NÑA 402D003, 8, ROSA       C   \n",
      "\n",
      "  ABC_cat Pais Origen UniMedida            EAN   \n",
      "0       C   BR      I        UN  7909537649306  \\\n",
      "1           CO      N        UN  7703081992471   \n",
      "2       A   CO      N        UN  7700136055495   \n",
      "3           CN      I        UN  7700136268109   \n",
      "4       A   BR      I        UN  7909820221455   \n",
      "5       C   CO      N        UN  7705261400561   \n",
      "\n",
      "                                  Articulo TipoMarca  ...   \n",
      "0    BLUSA ROVITEX TEEN 6144193 12 GRIS JP        MP  ...  \\\n",
      "1      VESTIDOS GEF 720916, 10, AMAR 15019        CO  ...   \n",
      "2      MEDIA DAKOTA GIRL 2108X5, 4-6, STDO        MP  ...   \n",
      "3  CONJ DAKOTA KIDS DKK-273438 10 BCO AZUL        MP  ...   \n",
      "4        CONJ BRANDILI 25175.044 4 NATURAL        MP  ...   \n",
      "5      CAMISETA GAMIN NÑA 402D003, 8, ROSA        CO  ...   \n",
      "\n",
      "           SubSegmento1          SubSegmento2 Dirección Nal.  TipoCat   \n",
      "0                BLUSAS                BLUSAS       TEXTILES  Almacén  \\\n",
      "1              VESTIDOS              VESTIDOS       TEXTILES  Almacén   \n",
      "2                MEDIAS                MEDIAS       TEXTILES  Almacén   \n",
      "3  ROPA- ACCES TEMP NAV  ROPA- ACCES TEMP NAV       TEXTILES  Almacén   \n",
      "4             CONJUNTOS        CONJUNTO SHORT       TEXTILES  Almacén   \n",
      "5             CAMISETAS             CAMISETAS       TEXTILES  Almacén   \n",
      "\n",
      "  Agrupación  Dias Obj Neg  Dias Obj   Seccion  TipoSec  GrupoSec  \n",
      "0     TEXTIL          97.0     129.0  Infantil  Almacén  Textiles  \n",
      "1     TEXTIL          97.0     129.0  Infantil  Almacén  Textiles  \n",
      "2     TEXTIL          97.0     129.0  Infantil  Almacén  Textiles  \n",
      "3     TEXTIL          97.0     129.0  Infantil  Almacén  Textiles  \n",
      "4     TEXTIL          97.0     129.0  Infantil  Almacén  Textiles  \n",
      "5     TEXTIL          97.0     129.0  Infantil  Almacén  Textiles  \n",
      "\n",
      "[6 rows x 38 columns]\n",
      " \n"
     ]
    }
   ],
   "source": [
    "print(df.shape)\n",
    "print(' ')\n",
    "\n",
    "\n",
    "print(df.head(6))\n",
    "print(' ')"
   ]
  },
  {
   "cell_type": "code",
   "execution_count": 19,
   "metadata": {},
   "outputs": [
    {
     "name": "stdout",
     "output_type": "stream",
     "text": [
      "                    Column Types  Non-null Counts\n",
      "PLU_SAP                    int64             3361\n",
      "PLU_Nombre                object             3361\n",
      "ABC_nal                   object             3361\n",
      "ABC_cat                   object             3361\n",
      "Pais                      object             3361\n",
      "Origen                    object             3361\n",
      "UniMedida                 object             3361\n",
      "EAN                        int64             3361\n",
      "Articulo                  object             3361\n",
      "TipoMarca                 object             3361\n",
      "Marca                     object             3138\n",
      "ClaseMarca                object             3361\n",
      "FuentAprov                object             3361\n",
      "Consignado                object             3361\n",
      "Contenido                 object             3361\n",
      "Explosion                  int64             3361\n",
      "ExcAgotados                int64             3361\n",
      "PesoBruto                 object             3361\n",
      "UnidadPesoBruto           object             3361\n",
      "Longitud                  object             3361\n",
      "Ancho                     object             3361\n",
      "Altura                    object             3361\n",
      "UnidadMedida              object             3361\n",
      "UnidadContenidoNeto       object             3361\n",
      "Departamento              object             3347\n",
      "Categoria                 object             3347\n",
      "SubCategoria              object             3347\n",
      "Segmento                  object             3347\n",
      "SubSegmento1              object             3347\n",
      "SubSegmento2              object             3347\n",
      "Dirección Nal.            object             3335\n",
      "TipoCat                   object             3335\n",
      "Agrupación                object             3335\n",
      "Dias Obj Neg             float64             3335\n",
      "Dias Obj                 float64             3335\n",
      "Seccion                   object             3361\n",
      "TipoSec                   object             3361\n",
      "GrupoSec                  object             3361\n"
     ]
    }
   ],
   "source": [
    "\n",
    "# Obtener los tipos de datos de las columnas\n",
    "column_types = df.dtypes\n",
    "\n",
    "# Obtener el número de valores no nulos en cada columna\n",
    "non_null_counts = df.count()\n",
    "\n",
    "# Crear DataFrame con la información obtenida\n",
    "info_df = pd.DataFrame({'Column Types': column_types,\n",
    "                       'Non-null Counts': non_null_counts})\n",
    "\n",
    "# Imprimir el DataFrame resultante\n",
    "print(info_df)\n",
    "\n",
    "\n",
    "info_df.to_csv(outpath + 'Info.csv')"
   ]
  },
  {
   "cell_type": "code",
   "execution_count": 5,
   "metadata": {},
   "outputs": [
    {
     "name": "stdout",
     "output_type": "stream",
     "text": [
      " \n",
      "Nulos por campo:\n",
      "CENTRO            0\n",
      "Dirección         0\n",
      "ZONA              0\n",
      "CIU               0\n",
      "Nombre_Centro     0\n",
      "TipoCentro        0\n",
      "Distrito          0\n",
      "Región            0\n",
      "Formato           0\n",
      "Ciudad            0\n",
      "ANTIGUEDAD        0\n",
      "Superficie        0\n",
      "Estrato           0\n",
      "Departamento      0\n",
      "Ciudad_DANE      26\n",
      "dtype: int64\n"
     ]
    }
   ],
   "source": [
    "print(' ')\n",
    "print('Nulos por campo:')\n",
    "print(df.isnull().sum())  # total de nulls por variable"
   ]
  },
  {
   "cell_type": "code",
   "execution_count": 27,
   "metadata": {},
   "outputs": [
    {
     "name": "stdout",
     "output_type": "stream",
     "text": [
      "                  OPERACION_MP  MEDIO_PAGO\n",
      "0               0805 -EFECTIVO         NaN\n",
      "1               0805 -EFECTIVO         NaN\n",
      "2               0805 -EFECTIVO         NaN\n",
      "3  0430 -TCO SERFINANSA  REDES         NaN\n",
      "4               0805 -EFECTIVO         NaN\n",
      "5  0430 -TCO SERFINANSA  REDES         NaN\n",
      " \n"
     ]
    }
   ],
   "source": [
    "print(df_ventas[['OPERACION_MP', 'MEDIO_PAGO']].head(6))\n",
    "print(' ')"
   ]
  },
  {
   "cell_type": "code",
   "execution_count": 9,
   "metadata": {},
   "outputs": [
    {
     "data": {
      "text/plain": [
       "array(['MISMO', 'NUEVO'], dtype=object)"
      ]
     },
     "execution_count": 9,
     "metadata": {},
     "output_type": "execute_result"
    }
   ],
   "source": [
    "df['ANTIGUEDAD'].unique()"
   ]
  }
 ],
 "metadata": {
  "kernelspec": {
   "display_name": "Python 3",
   "language": "python",
   "name": "python3"
  },
  "language_info": {
   "codemirror_mode": {
    "name": "ipython",
    "version": 3
   },
   "file_extension": ".py",
   "mimetype": "text/x-python",
   "name": "python",
   "nbconvert_exporter": "python",
   "pygments_lexer": "ipython3",
   "version": "3.11.4"
  },
  "orig_nbformat": 4
 },
 "nbformat": 4,
 "nbformat_minor": 2
}
