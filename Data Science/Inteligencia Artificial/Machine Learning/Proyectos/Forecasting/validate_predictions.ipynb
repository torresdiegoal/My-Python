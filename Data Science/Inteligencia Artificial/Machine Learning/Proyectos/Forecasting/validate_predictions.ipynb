{
 "cells": [
  {
   "cell_type": "code",
   "execution_count": 4,
   "metadata": {},
   "outputs": [
    {
     "name": "stdout",
     "output_type": "stream",
     "text": [
      "            Ventas\n",
      "Fecha             \n",
      "2022-01-31     100\n",
      "2022-02-28     110\n",
      "2022-03-31     120\n",
      "2022-04-30     130\n",
      "2022-05-31     140\n",
      "2022-06-30     150\n",
      "2022-07-31     160\n",
      "2022-08-31     170\n",
      "2022-09-30     180\n",
      "2022-10-31     190\n",
      "2022-11-30     200\n",
      "2022-12-31     210\n",
      "2023-01-31     220\n",
      "2023-02-28     230\n",
      "2023-03-31     240\n",
      "2023-04-30     250\n",
      "2023-05-31     260\n",
      "2023-06-30     270\n",
      "2023-07-31     280\n",
      "2023-08-31     290\n",
      "2023-09-30     300\n",
      "2023-10-31     310\n",
      "2023-11-30     320\n",
      "2023-12-31     330\n",
      " \n",
      "(24, 1)\n"
     ]
    }
   ],
   "source": [
    "import pandas as pd\n",
    "import numpy as np\n",
    "from sklearn.linear_model import LinearRegression\n",
    "from sklearn.metrics import mean_squared_error\n",
    "\n",
    "# Crear un DataFrame a partir de una tupla de ejemplo con fechas y ventas mensuales\n",
    "data = {\n",
    "    'Fecha': pd.date_range(start='2022-01-01', periods=24, freq='M'),\n",
    "    'Ventas': [100, 110, 120, 130, 140, 150, 160, 170, 180, 190, 200, 210,\n",
    "               220, 230, 240, 250, 260, 270, 280, 290, 300, 310, 320, 330]\n",
    "}\n",
    "\n",
    "df = pd.DataFrame(data)\n",
    "df.set_index('Fecha', inplace=True)\n",
    "print(df.head(24))\n",
    "print(' ')\n",
    "print(df.shape)\n",
    "\n",
    "# Crear un modelo de regresión lineal simple\n",
    "model = LinearRegression()\n",
    "\n",
    "\n"
   ]
  },
  {
   "cell_type": "code",
   "execution_count": 13,
   "metadata": {},
   "outputs": [
    {
     "name": "stdout",
     "output_type": "stream",
     "text": [
      "Mes: 2023-01-31 00:00:00, Predicción: 219.99999999999997, Valor real: 220\n",
      "Mes: 2023-02-28 00:00:00, Predicción: 229.99999999999997, Valor real: 230\n",
      "Mes: 2023-03-31 00:00:00, Predicción: 239.99999999999997, Valor real: 240\n",
      "Mes: 2023-04-30 00:00:00, Predicción: 249.99999999999997, Valor real: 250\n",
      "Mes: 2023-05-31 00:00:00, Predicción: 260.0, Valor real: 260\n",
      "Mes: 2023-06-30 00:00:00, Predicción: 270.0, Valor real: 270\n",
      "Mes: 2023-07-31 00:00:00, Predicción: 280.0, Valor real: 280\n",
      "Mes: 2023-08-31 00:00:00, Predicción: 290.0, Valor real: 290\n",
      "Mes: 2023-09-30 00:00:00, Predicción: 300.0, Valor real: 300\n",
      "Mes: 2023-10-31 00:00:00, Predicción: 310.0, Valor real: 310\n",
      "Mes: 2023-11-30 00:00:00, Predicción: 320.0, Valor real: 320\n",
      "Mes: 2023-12-31 00:00:00, Predicción: 330.0, Valor real: 330\n"
     ]
    }
   ],
   "source": [
    "#################### METODOS ######################\n",
    "# Validación cruzada retrospectiva (Backtesting)\n",
    "# En este enfoque, divides tus datos históricos en un conjunto de entrenamiento y un conjunto de prueba.\n",
    "# Utilizas los datos de entrenamiento para ajustar tu modelo y luego generas predicciones para el período\n",
    "# de prueba. Esto simula cómo se habría comportado tu modelo en el pasado. Luego puedes comparar tus\n",
    "# predicciones con los valores reales en el conjunto de prueba para evaluar la calidad de las predicciones.\n",
    "window_size = 12  # Tamaño de la ventana de entrenamiento\n",
    "for i in range(window_size, len(df)): # i desde 12 hasta 24\n",
    "    train_data = df.iloc[i - window_size:i] # en la primera iteracion: 12 - 12 = 0, el rango es de 0:12\n",
    "    test_data = df.iloc[i:i + 1] # aqui vamos a guardar el valor a realizar el forecast\n",
    "    \n",
    "    # x_train es el conjunto de variables predictoras, en este caso va a ser un vector de 0 a len(train_data)\n",
    "    X_train = np.arange(len(train_data)).reshape(-1, 1) # arange(crea arreglo de 0 a len(x) -1)\n",
    "                                        # reshape() cambia la forma de un array creado por arange() a\n",
    "                                        # una matriz de 1 columna,-1 indica que la long de la dim se calcula automaticamente\n",
    "    y_train = train_data['Ventas']\n",
    "    X_test = np.array([[len(train_data)]]) # matriz que guarda las variables predictoras de prueba\n",
    "\n",
    "    model.fit(X_train, y_train)\n",
    "    prediction = model.predict(X_test)\n",
    "\n",
    "    actual_value = test_data['Ventas'].values[0] # extrae el numero del dataframe de prueba\n",
    "    print(\n",
    "        f\"Mes: {test_data.index[0]}, Predicción: {prediction[0]}, Valor real: {actual_value}\")"
   ]
  },
  {
   "cell_type": "code",
   "execution_count": 14,
   "metadata": {},
   "outputs": [
    {
     "name": "stdout",
     "output_type": "stream",
     "text": [
      "Mes: 2023-01-31 00:00:00, Predicción: 219.99999999999997, Valor real: 220\n",
      "Mes: 2023-02-28 00:00:00, Predicción: 229.99999999999997, Valor real: 230\n",
      "Mes: 2023-03-31 00:00:00, Predicción: 239.99999999999997, Valor real: 240\n",
      "Mes: 2023-04-30 00:00:00, Predicción: 249.99999999999997, Valor real: 250\n",
      "Mes: 2023-05-31 00:00:00, Predicción: 260.0, Valor real: 260\n",
      "Mes: 2023-06-30 00:00:00, Predicción: 270.0, Valor real: 270\n",
      "Mes: 2023-07-31 00:00:00, Predicción: 280.0, Valor real: 280\n",
      "Mes: 2023-08-31 00:00:00, Predicción: 290.0, Valor real: 290\n",
      "Mes: 2023-09-30 00:00:00, Predicción: 300.0, Valor real: 300\n",
      "Mes: 2023-10-31 00:00:00, Predicción: 310.0, Valor real: 310\n",
      "Mes: 2023-11-30 00:00:00, Predicción: 320.0, Valor real: 320\n",
      "Mes: 2023-12-31 00:00:00, Predicción: 330.0, Valor real: 330\n"
     ]
    }
   ],
   "source": [
    "\n",
    "# Analisis de ventanas deslizantes (Rolling Window Analysis)\n",
    "window_size = 12  # Tamaño de la ventana de entrenamiento\n",
    "for i in range(window_size, len(df)):\n",
    "    train_data = df.iloc[i - window_size:i]\n",
    "    test_data = df.iloc[i:i + 1]\n",
    "\n",
    "    X_train = np.arange(len(train_data)).reshape(-1, 1)\n",
    "    y_train = train_data['Ventas']\n",
    "    X_test = np.array([[len(train_data)]])\n",
    "\n",
    "    model.fit(X_train, y_train)\n",
    "    prediction = model.predict(X_test)\n",
    "\n",
    "    actual_value = test_data['Ventas'].values[0]\n",
    "    print(\n",
    "        f\"Mes: {test_data.index[0]}, Predicción: {prediction[0]}, Valor real: {actual_value}\")"
   ]
  }
 ],
 "metadata": {
  "kernelspec": {
   "display_name": "Python 3",
   "language": "python",
   "name": "python3"
  },
  "language_info": {
   "codemirror_mode": {
    "name": "ipython",
    "version": 3
   },
   "file_extension": ".py",
   "mimetype": "text/x-python",
   "name": "python",
   "nbconvert_exporter": "python",
   "pygments_lexer": "ipython3",
   "version": "3.11.4"
  },
  "orig_nbformat": 4
 },
 "nbformat": 4,
 "nbformat_minor": 2
}
