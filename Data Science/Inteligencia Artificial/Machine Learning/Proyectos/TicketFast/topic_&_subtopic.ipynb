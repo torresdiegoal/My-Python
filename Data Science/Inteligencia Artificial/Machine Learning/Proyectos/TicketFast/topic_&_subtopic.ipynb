{
 "cells": [
  {
   "cell_type": "code",
   "execution_count": 1,
   "metadata": {},
   "outputs": [],
   "source": [
    "# Carga paquetes\n",
    "import pandas as pd\n",
    "import warnings\n",
    "\n",
    "warnings.filterwarnings(\"ignore\", category=UserWarning)  # ignora los warnings"
   ]
  },
  {
   "cell_type": "code",
   "execution_count": 12,
   "metadata": {},
   "outputs": [
    {
     "name": "stdout",
     "output_type": "stream",
     "text": [
      "Dimensiones:\n",
      "(0, 7)\n",
      "Empty DataFrame\n",
      "Columns: [TOPIC_KEY, TOPIC, SUB_TOPIC, TOPIC_N, SUB_TOPIC_N, SUB_TOPIC_N_, Unnamed: 6]\n",
      "Index: []\n",
      "Index(['TOPIC_KEY', 'TOPIC', 'SUB_TOPIC', 'TOPIC_N', 'SUB_TOPIC_N',\n",
      "       'SUB_TOPIC_N_', 'Unnamed: 6'],\n",
      "      dtype='object')\n"
     ]
    }
   ],
   "source": [
    "# Configuración para evitar la notación científica\n",
    "pd.options.display.float_format = '{:.0f}'.format\n",
    "\n",
    "# Carga de la base\n",
    "#inpath = \"E:/OneDrive/Datasets/Tuboleta/topic_subtopic/\"\n",
    "inpath = \"C:/Users/diego.torres/OneDrive/Datasets/Tuboleta/topic_subtopic/\"\n",
    "\n",
    "tb_ini = pd.read_csv(inpath + 'Maestra_subtopic.csv',delimiter=';')\n",
    "#tb_ini = tb_ini.drop_duplicates()\n",
    "#tb_ini = tb_ini[tb_ini.duplicated()]\n",
    "\n",
    "print('Dimensiones:')\n",
    "print(tb_ini.shape)\n",
    "print(tb_ini)"
   ]
  },
  {
   "cell_type": "code",
   "execution_count": null,
   "metadata": {},
   "outputs": [],
   "source": []
  }
 ],
 "metadata": {
  "kernelspec": {
   "display_name": "Python 3",
   "language": "python",
   "name": "python3"
  },
  "language_info": {
   "codemirror_mode": {
    "name": "ipython",
    "version": 3
   },
   "file_extension": ".py",
   "mimetype": "text/x-python",
   "name": "python",
   "nbconvert_exporter": "python",
   "pygments_lexer": "ipython3",
   "version": "3.12.0"
  }
 },
 "nbformat": 4,
 "nbformat_minor": 2
}
