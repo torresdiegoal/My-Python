{
 "cells": [
  {
   "cell_type": "code",
   "execution_count": 2,
   "metadata": {},
   "outputs": [],
   "source": [
    "# Carga paquetes\n",
    "import pandas as pd\n",
    "import numpy as np\n",
    "import warnings\n",
    "import seaborn as sn\n",
    "\n",
    "warnings.filterwarnings(\"ignore\", category=UserWarning)  # ignora los warnings"
   ]
  },
  {
   "cell_type": "code",
   "execution_count": 67,
   "metadata": {},
   "outputs": [],
   "source": [
    "###########    FUNCIONES   ##########\n",
    "## Interquartile Range (IQR)\n",
    "#Se calculan los limites superiores e inferiores para identificación de posibles datos atipicos\n",
    "# IQR = Q3 - Q1 \n",
    "# LI = Q1–1.5 * IQR; LS = Q3+1.5 * IQR.\n",
    "def IQR(variable):\n",
    "  Iqr = np.percentile(variable,75)-np.percentile(variable,25)\n",
    "\n",
    "  LI=np.percentile(variable,25)-(1.5*Iqr)\n",
    "  LS=np.percentile(variable,75)+(1.5*Iqr)\n",
    "  return(LI,LS)"
   ]
  },
  {
   "cell_type": "code",
   "execution_count": 69,
   "metadata": {},
   "outputs": [],
   "source": [
    "###### RUTAS Y CARGA DE INFO  #####\n",
    "inpath = \"C:/Users/Diego Torres/OneDrive/Datasets/Manar/RFM_pruebas.xlsx\"\n",
    "\n",
    "tb = pd.read_excel(inpath, sheet_name = \"Hoja2\")"
   ]
  },
  {
   "cell_type": "code",
   "execution_count": 70,
   "metadata": {},
   "outputs": [
    {
     "name": "stdout",
     "output_type": "stream",
     "text": [
      "        codigo cliente  nombre cliente  codigo producto   \n",
      "34853      13350006477     13350006477         32408002  \\\n",
      "107149     13310604273     13310604273         32802001   \n",
      "37596     133110567073    133110567073         32408002   \n",
      "95699      13330019816     13330019816         32104001   \n",
      "10973        112036563       112036563         31705007   \n",
      "\n",
      "                                          nombre producto fecha venta   \n",
      "34853               DIF MT-IBC MENSUALIDAD CEN FINANCIERO  2022-03-23  \\\n",
      "107149  DIF MANTENIMIENTO A DISTANCIA DE PROGRAMAS Y E...  2022-08-25   \n",
      "37596               DIF MT-IBC MENSUALIDAD CEN FINANCIERO  2022-03-23   \n",
      "95699        MT-IBC MENSUALIDAD NUMERO TRANSACCIONES CENT  2022-08-02   \n",
      "10973   DIF MANTENIMIENTO A DISTANCIA DE PROGRAMAS Y E...  2022-01-27   \n",
      "\n",
      "        cantidad facturado  valor facturado               Tipo  \n",
      "34853                    1          28614.0     CEN FINANCIERO  \n",
      "107149                   1          47594.0  CEN TRANSACCIONAL  \n",
      "37596                    1          32545.0     CEN FINANCIERO  \n",
      "95699                    1         265664.0  CEN TRANSACCIONAL  \n",
      "10973                    1          13165.0  CEN TRANSACCIONAL  \n",
      " \n",
      "Summary:\n",
      "<class 'pandas.core.frame.DataFrame'>\n",
      "RangeIndex: 107606 entries, 0 to 107605\n",
      "Data columns (total 8 columns):\n",
      " #   Column              Non-Null Count   Dtype         \n",
      "---  ------              --------------   -----         \n",
      " 0   codigo cliente      107606 non-null  int64         \n",
      " 1   nombre cliente      107606 non-null  int64         \n",
      " 2   codigo producto     107606 non-null  int64         \n",
      " 3   nombre producto     107606 non-null  object        \n",
      " 4   fecha venta         107606 non-null  datetime64[ns]\n",
      " 5   cantidad facturado  107606 non-null  int64         \n",
      " 6   valor facturado     107606 non-null  float64       \n",
      " 7   Tipo                107606 non-null  object        \n",
      "dtypes: datetime64[ns](1), float64(1), int64(4), object(2)\n",
      "memory usage: 6.6+ MB\n",
      " \n",
      "Descriptivos:\n",
      "                       count                           mean   \n",
      "codigo cliente      107606.0             19347373422.220001  \\\n",
      "nombre cliente      107606.0             19347373422.220001   \n",
      "codigo producto     107606.0                     31657746.7   \n",
      "fecha venta           107606  2022-04-29 17:01:03.498318080   \n",
      "cantidad facturado  107606.0                            1.0   \n",
      "valor facturado     107606.0                      402765.03   \n",
      "\n",
      "                                    min                  25%   \n",
      "codigo cliente                1141132.0          112609447.0  \\\n",
      "nombre cliente                1141132.0          112609447.0   \n",
      "codigo producto                470481.0           31000701.0   \n",
      "fecha venta         2022-01-03 00:00:00  2022-03-02 00:00:00   \n",
      "cantidad facturado                  1.0                  1.0   \n",
      "valor facturado             -98588400.0              40848.0   \n",
      "\n",
      "                                    50%                  75%   \n",
      "codigo cliente              113320507.0        13330324294.0  \\\n",
      "nombre cliente              113320507.0        13330324294.0   \n",
      "codigo producto              31705009.0           32408002.0   \n",
      "fecha venta         2022-05-03 00:00:00  2022-06-29 00:00:00   \n",
      "cantidad facturado                  1.0                  1.0   \n",
      "valor facturado                 85192.0             175477.0   \n",
      "\n",
      "                                    max                 std  \n",
      "codigo cliente           139110576375.0  40813872883.529999  \n",
      "nombre cliente           139110576375.0  40813872883.529999  \n",
      "codigo producto              32814001.0            654619.8  \n",
      "fecha venta         2022-08-31 00:00:00                 NaN  \n",
      "cantidad facturado                  1.0                 0.0  \n",
      "valor facturado            841020965.26          5620452.59  \n",
      " \n",
      "Nulos por campo:\n",
      "codigo cliente        0\n",
      "nombre cliente        0\n",
      "codigo producto       0\n",
      "nombre producto       0\n",
      "fecha venta           0\n",
      "cantidad facturado    0\n",
      "valor facturado       0\n",
      "Tipo                  0\n",
      "dtype: int64\n",
      " \n",
      "Dimensiones:\n",
      "(107606, 8)\n"
     ]
    }
   ],
   "source": [
    "#################\n",
    "# Descriptivos\n",
    "print(tb.sample(5))\n",
    "print(' ')\n",
    "print('Summary:')\n",
    "tb.info()\n",
    "print(' ')\n",
    "print('Descriptivos:')\n",
    "print(tb.describe().round(2).transpose())\n",
    "print(' ')\n",
    "print('Nulos por campo:')\n",
    "print(tb.isnull().sum())  # total de nulls por variable\n",
    "print(' ')\n",
    "print('Dimensiones:')\n",
    "print(tb.shape)\n",
    "\n",
    "\n",
    "#outliers(tb[[]])"
   ]
  },
  {
   "cell_type": "code",
   "execution_count": 123,
   "metadata": {},
   "outputs": [
    {
     "data": {
      "text/plain": [
       "pandas._libs.tslibs.timedeltas.Timedelta"
      ]
     },
     "execution_count": 123,
     "metadata": {},
     "output_type": "execute_result"
    }
   ],
   "source": [
    "rec = max(tb['fecha venta']) - min(tb['fecha venta'])\n",
    "type(rec)"
   ]
  },
  {
   "cell_type": "code",
   "execution_count": 120,
   "metadata": {},
   "outputs": [
    {
     "name": "stdout",
     "output_type": "stream",
     "text": [
      "                 dias_rec  Frecuencia       Monto nombre_cliente recencia\n",
      "codigo cliente                                                           \n",
      "112686376      2022-08-25          40   3426481.0    [112686376]   6 days\n",
      "113271182      2022-08-25          66   6245319.0    [113271182]   6 days\n",
      "112443407      2022-08-25          40  11654337.0    [112443407]   6 days\n",
      "113210819      2022-08-02          16   7075403.0    [113210819]  29 days\n",
      "113285578      2022-08-02          24   3991592.0    [113285578]  29 days\n",
      " \n",
      "Dimensiones:\n",
      "(3822, 5)\n"
     ]
    }
   ],
   "source": [
    "####   RFM CLIENTES\n",
    "#.groupby(['Tipo','codigo cliente'])\\\n",
    "hoy = max(tb['fecha venta'])\n",
    "\n",
    "tb_grp = tb\\\n",
    "    .groupby('codigo cliente')\\\n",
    "    .agg(\n",
    "        dias_rec=('fecha venta', 'max'),\n",
    "        Frecuencia=('cantidad facturado', 'sum'),\n",
    "        Monto=('valor facturado', 'sum'),\n",
    "        nombre_cliente=('nombre cliente', 'unique'))\\\n",
    "    .assign(recencia=lambda x: hoy - x['dias_rec'])\\\n",
    "    .sort_values('codigo cliente')\n",
    "    #.assign(Recencia=(tb['recencia'].apply(lambda y: y.days)))\n",
    "\n",
    "print(tb_grp.sample(5))\n",
    "print(' ')\n",
    "print('Dimensiones:')\n",
    "print(tb_grp.shape)"
   ]
  },
  {
   "cell_type": "code",
   "execution_count": 127,
   "metadata": {},
   "outputs": [
    {
     "data": {
      "text/plain": [
       "pandas.core.series.Series"
      ]
     },
     "execution_count": 127,
     "metadata": {},
     "output_type": "execute_result"
    }
   ],
   "source": [
    "type(tb_grp['recencia']) #.apply(lambda y: y.days)"
   ]
  },
  {
   "cell_type": "code",
   "execution_count": 75,
   "metadata": {},
   "outputs": [
    {
     "name": "stdout",
     "output_type": "stream",
     "text": [
      "(-6958763.0, 13796469.0)\n",
      "Dimensiones:\n",
      "(3294,)\n"
     ]
    }
   ],
   "source": [
    "### Pruebas\n",
    "\"\"\" \n",
    "outliers = IQR(tb_grp['Monto'])\n",
    "print(outliers)\n",
    "\n",
    "variable = tb_grp['Monto']\n",
    "#variable.name\n",
    "\n",
    "if variable.name == 'Monto':\n",
    "    LI = outliers[0]\n",
    "    LS = outliers[1]\n",
    "    VarTemp = variable[(variable >= LI) & (variable <= LS)]\n",
    "\n",
    "print('Dimensiones:')\n",
    "print(VarTemp.shape) \"\"\""
   ]
  },
  {
   "cell_type": "code",
   "execution_count": 74,
   "metadata": {},
   "outputs": [
    {
     "data": {
      "text/plain": [
       "647"
      ]
     },
     "execution_count": 74,
     "metadata": {},
     "output_type": "execute_result"
    }
   ],
   "source": [
    "\"\"\" # filter con lamtba asi:, el resultado debe ser una lista\n",
    "len(list(filter(lambda x: x > 10724445.0,tb_grp['Monto']))) \"\"\""
   ]
  },
  {
   "cell_type": "code",
   "execution_count": 94,
   "metadata": {},
   "outputs": [
    {
     "data": {
      "text/plain": [
       "array([-1.51483470e+07,  5.96995000e+05,  1.24082460e+06,  2.29349800e+06,\n",
       "        4.58032560e+06,  5.43131119e+09])"
      ]
     },
     "execution_count": 94,
     "metadata": {},
     "output_type": "execute_result"
    }
   ],
   "source": [
    "breaks_1 = np.concatenate(([min(variable) - 0.001]\\\n",
    ",np.percentile(VarTemp, np.arange(0, 101, 20)[1:5]) #np.arange(start, stop, step), stop excluded so +1\\\n",
    ",[max(variable) + 0.001]))\n",
    "\n",
    "len(breaks_1)\n",
    "breaks_1"
   ]
  },
  {
   "cell_type": "code",
   "execution_count": 104,
   "metadata": {},
   "outputs": [],
   "source": [
    "def categorizacion (variable,outliers,reciencia):\n",
    "  LI = outliers[0]\n",
    "  LS = outliers[1]\n",
    "\n",
    "  # variable tiene outliers, VarTemp no\n",
    "  VarTemp = variable[(variable >= LI) & (variable <= LS)]\n",
    "\n",
    "  ## TIPO DE INTERVALO O BREAK  \n",
    "  # valores en el que se dividen los intervalos. \n",
    "  # los datos atipicos se apartan a la hora de definir los quantiles, pero se incluyen al final para el puntaje\n",
    "  # break_1: <LI + min; percentiles -1 y 6; max + >LS\n",
    "  breaks_1 = np.concatenate(([min(variable) - 0.001]\\\n",
    "    ,np.percentile(VarTemp, np.arange(0, 101, 20)[1:5]) #np.arange(start, stop, step), stop excluded so +1\\\n",
    "    ,[max(variable) + 0.001]))\n",
    "\n",
    "  # break_2: quantiles con outliers\n",
    "  quantiles_2 = np.percentile(variable, np.arange(0, 101, 20))\n",
    "  quantiles_2[0] -= 0.001\n",
    "  quantiles_2[-1] += 0.001\n",
    "  breaks_2 = quantiles_2\n",
    " \n",
    "  # break_3: Usandos rangos fijos y no quantiles incluyendo outliers\n",
    "  breaks_3 = np.linspace(min(variable) - 0.001, max(variable) + 0.001, num=6)\n",
    "\n",
    "  if not reciencia:\n",
    "    # Usar el break sin outliers sin que quantiles repitan valores\n",
    "    if not np.any(pd.Series(breaks_1).duplicated()):\n",
    "        puntaje = pd.cut(variable, bins=breaks_1, labels=np.arange(1, 6)).astype(int)\n",
    "        categorias = pd.cut(variable, bins=breaks_1)\n",
    "    # Usar el break con outliers sin que quantiles repitan valores\n",
    "    elif np.any(pd.Series(breaks_1).duplicated()) and not np.any(pd.Series(breaks_2).duplicated()):\n",
    "        puntaje = pd.cut(variable, bins=breaks_2, labels=np.arange(1, 6)).astype(int)\n",
    "        categorias = pd.cut(variable, bins=breaks_2)\n",
    "    # Usar el break con outliers sin usar quantiles sino rangos fijos    \n",
    "    else:\n",
    "        puntaje = pd.cut(variable, bins=breaks_3, labels=np.arange(1, 6)).astype(int)\n",
    "        categorias = pd.cut(variable, bins=breaks_3)\n",
    "\n",
    "# restar 6 y multiplicar -1 invierte el puntaje para Recencia, es decir, si el puntaje mayor es 5 para los valores mas grandes \n",
    "# en los otros casos, en Recencia los menores son los de mayor puntaje\n",
    "  else:\n",
    "    if not np.any(pd.Series(breaks_1).duplicated()):\n",
    "        puntaje = ((pd.cut(variable, bins=breaks_1, labels=np.arange(1, 6)).astype(int)) - 6) * (-1)\n",
    "        categorias = pd.cut(variable, bins=breaks_1)\n",
    "    elif np.any(pd.Series(breaks_1).duplicated()) and not np.any(pd.Series(breaks_2).duplicated()):\n",
    "        puntaje = ((pd.cut(variable, bins=breaks_2, labels=np.arange(1, 6)).astype(int)) - 6) * (-1)\n",
    "        categorias = pd.cut(variable, bins=breaks_2)\n",
    "    else:\n",
    "        puntaje = ((pd.cut(variable, bins=breaks_3, labels=np.arange(1, 6)).astype(int)) - 6) * (-1)\n",
    "        categorias = pd.cut(variable, bins=breaks_3)\n",
    "\n",
    "  return (puntaje,categorias)"
   ]
  },
  {
   "cell_type": "code",
   "execution_count": 129,
   "metadata": {},
   "outputs": [
    {
     "name": "stdout",
     "output_type": "stream",
     "text": [
      " \n",
      "Summary:\n",
      "<class 'pandas.core.frame.DataFrame'>\n",
      "Index: 3822 entries, 1141132 to 139110576375\n",
      "Data columns (total 5 columns):\n",
      " #   Column          Non-Null Count  Dtype          \n",
      "---  ------          --------------  -----          \n",
      " 0   dias_rec        3822 non-null   datetime64[ns] \n",
      " 1   Frecuencia      3822 non-null   int64          \n",
      " 2   Monto           3822 non-null   float64        \n",
      " 3   nombre_cliente  3822 non-null   object         \n",
      " 4   recencia        3822 non-null   timedelta64[ns]\n",
      "dtypes: datetime64[ns](1), float64(1), int64(1), object(1), timedelta64[ns](1)\n",
      "memory usage: 179.2+ KB\n"
     ]
    }
   ],
   "source": [
    "print(' ')\n",
    "print('Summary:')\n",
    "tb_grp.info()"
   ]
  },
  {
   "cell_type": "code",
   "execution_count": 105,
   "metadata": {},
   "outputs": [
    {
     "ename": "TypeError",
     "evalue": "unsupported operand type(s) for -: 'Timestamp' and 'float'",
     "output_type": "error",
     "traceback": [
      "\u001b[1;31m---------------------------------------------------------------------------\u001b[0m",
      "\u001b[1;31mTypeError\u001b[0m                                 Traceback (most recent call last)",
      "Cell \u001b[1;32mIn[105], line 1\u001b[0m\n\u001b[1;32m----> 1\u001b[0m tb_RFM \u001b[39m=\u001b[39m puntajes_RFM(tb_grp)\n\u001b[0;32m      3\u001b[0m \u001b[39m#################\u001b[39;00m\n\u001b[0;32m      4\u001b[0m \u001b[39m# Descriptivos\u001b[39;00m\n\u001b[0;32m      5\u001b[0m \u001b[39mprint\u001b[39m(tb_RFM\u001b[39m.\u001b[39msample(\u001b[39m5\u001b[39m))\n",
      "Cell \u001b[1;32mIn[102], line 8\u001b[0m, in \u001b[0;36mpuntajes_RFM\u001b[1;34m(tb)\u001b[0m\n\u001b[0;32m      5\u001b[0m lim_freq \u001b[39m=\u001b[39m IQR(rfm_df[\u001b[39m'\u001b[39m\u001b[39mFrecuencia\u001b[39m\u001b[39m'\u001b[39m])\n\u001b[0;32m      6\u001b[0m lim_monto \u001b[39m=\u001b[39m IQR(rfm_df[\u001b[39m'\u001b[39m\u001b[39mMonto\u001b[39m\u001b[39m'\u001b[39m])\n\u001b[1;32m----> 8\u001b[0m cat_rec \u001b[39m=\u001b[39m categorizacion(rfm_df[\u001b[39m'\u001b[39;49m\u001b[39mRecencia\u001b[39;49m\u001b[39m'\u001b[39;49m], lim_rec, reciencia\u001b[39m=\u001b[39;49m \u001b[39mTrue\u001b[39;49;00m)\n\u001b[0;32m      9\u001b[0m cat_freq \u001b[39m=\u001b[39m categorizacion(rfm_df[\u001b[39m'\u001b[39m\u001b[39mFrecuencia\u001b[39m\u001b[39m'\u001b[39m], lim_freq, reciencia\u001b[39m=\u001b[39m\u001b[39mFalse\u001b[39;00m)\n\u001b[0;32m     10\u001b[0m cat_monto \u001b[39m=\u001b[39m categorizacion(rfm_df[\u001b[39m'\u001b[39m\u001b[39mMonto\u001b[39m\u001b[39m'\u001b[39m], lim_monto, reciencia\u001b[39m=\u001b[39m\u001b[39mFalse\u001b[39;00m)\n",
      "Cell \u001b[1;32mIn[104], line 12\u001b[0m, in \u001b[0;36mcategorizacion\u001b[1;34m(variable, outliers, reciencia)\u001b[0m\n\u001b[0;32m      6\u001b[0m VarTemp \u001b[39m=\u001b[39m variable[(variable \u001b[39m>\u001b[39m\u001b[39m=\u001b[39m LI) \u001b[39m&\u001b[39m (variable \u001b[39m<\u001b[39m\u001b[39m=\u001b[39m LS)]\n\u001b[0;32m      8\u001b[0m \u001b[39m## TIPO DE INTERVALO O BREAK  \u001b[39;00m\n\u001b[0;32m      9\u001b[0m \u001b[39m# valores en el que se dividen los intervalos. \u001b[39;00m\n\u001b[0;32m     10\u001b[0m \u001b[39m# los datos atipicos se apartan a la hora de definir los quantiles, pero se incluyen al final para el puntaje\u001b[39;00m\n\u001b[0;32m     11\u001b[0m \u001b[39m# break_1: <LI + min; percentiles -1 y 6; max + >LS\u001b[39;00m\n\u001b[1;32m---> 12\u001b[0m breaks_1 \u001b[39m=\u001b[39m np\u001b[39m.\u001b[39mconcatenate(([\u001b[39mmin\u001b[39;49m(variable) \u001b[39m-\u001b[39;49m \u001b[39m0.001\u001b[39;49m]\\\n\u001b[0;32m     13\u001b[0m   ,np\u001b[39m.\u001b[39mpercentile(VarTemp, np\u001b[39m.\u001b[39marange(\u001b[39m0\u001b[39m, \u001b[39m101\u001b[39m, \u001b[39m20\u001b[39m)[\u001b[39m1\u001b[39m:\u001b[39m5\u001b[39m]) \u001b[39m#np.arange(start, stop, step), stop excluded so +1\\\u001b[39;00m\n\u001b[0;32m     14\u001b[0m   ,[\u001b[39mmax\u001b[39m(variable) \u001b[39m+\u001b[39m \u001b[39m0.001\u001b[39m]))\n\u001b[0;32m     16\u001b[0m \u001b[39m# break_2: quantiles con outliers\u001b[39;00m\n\u001b[0;32m     17\u001b[0m quantiles_2 \u001b[39m=\u001b[39m np\u001b[39m.\u001b[39mpercentile(variable, np\u001b[39m.\u001b[39marange(\u001b[39m0\u001b[39m, \u001b[39m101\u001b[39m, \u001b[39m20\u001b[39m))\n",
      "\u001b[1;31mTypeError\u001b[0m: unsupported operand type(s) for -: 'Timestamp' and 'float'"
     ]
    }
   ],
   "source": [
    "tb_RFM = puntajes_RFM(tb_grp)\n",
    "\n",
    "#################\n",
    "# Descriptivos\n",
    "print(tb_RFM.sample(5))\n",
    "print(' ')"
   ]
  },
  {
   "cell_type": "code",
   "execution_count": 102,
   "metadata": {},
   "outputs": [],
   "source": [
    "\n",
    "\n",
    "def puntajes_RFM (tb):\n",
    "  #Ejecutamos las dos funciones anteriores\n",
    "  rfm_df = tb\n",
    "  lim_rec = IQR(rfm_df['Recencia'])\n",
    "  lim_freq = IQR(rfm_df['Frecuencia'])\n",
    "  lim_monto = IQR(rfm_df['Monto'])\n",
    "\n",
    "  cat_rec = categorizacion(rfm_df['Recencia'], lim_rec, reciencia= True)\n",
    "  cat_freq = categorizacion(rfm_df['Frecuencia'], lim_freq, reciencia=False)\n",
    "  cat_monto = categorizacion(rfm_df['Monto'], lim_monto, reciencia=False)\n",
    "\n",
    "  # Campos de puntaje\n",
    "  rfm_df['puntaje_recencia'] = cat_rec[0]\n",
    "  rfm_df['puntaje_frecuencia'] = cat_freq[0]\n",
    "  rfm_df['puntaje_monto'] = cat_monto[0]\n",
    "\n",
    "  # Campos de rango \n",
    "  rfm_df['rango_recencia'] = cat_rec[1]\n",
    "  rfm_df['rango_frecuencia'] = cat_freq[1]\n",
    "  rfm_df['rango_monto'] = cat_monto[1]\n",
    "  \n",
    "  rfm_df['score'] = rfm_df['puntaje_recencia'].astype(str)\\\n",
    "     + rfm_df['puntaje_frecuencia'].astype(str)\\\n",
    "     + rfm_df['puntaje_monto'].astype(str)\n",
    "  \n",
    "  return(rfm_df)\n"
   ]
  },
  {
   "cell_type": "code",
   "execution_count": 2,
   "metadata": {},
   "outputs": [],
   "source": [
    "# Carga de la base\n",
    "inpath = \"C:/Users/Diego Torres/OneDrive - Manar Technologies SAS/Carvajal/Bases/\"\n",
    "\n",
    "tb_ini = pd.read_excel(inpath + 'tb_Carvajal1.xlsx',\n",
    "                       sheet_name=\"Hoja2\")"
   ]
  },
  {
   "cell_type": "code",
   "execution_count": 3,
   "metadata": {},
   "outputs": [
    {
     "name": "stdout",
     "output_type": "stream",
     "text": [
      "       codigo cliente  nombre cliente  codigo producto   \n",
      "10032     13330695284     13330695284         32408002  \\\n",
      "42898     13330000912     13330000912         32105003   \n",
      "47622       113202668       113202668         31000686   \n",
      "58086       113299696       113299696         31000868   \n",
      "66616       112388082       112388082         31705007   \n",
      "\n",
      "                                         nombre producto fecha venta   \n",
      "10032              DIF MT-IBC MENSUALIDAD CEN FINANCIERO  2022-03-23  \\\n",
      "42898        MT-IBC MENSUALIDAD ADMINISTRACION CENT PLUS  2022-06-02   \n",
      "47622  **EXC EB - MENSUALIDAD VARIABLE FACTURA ELECTR...  2022-06-14   \n",
      "58086                            **EXC EB - PYME PLAN 10  2022-07-05   \n",
      "66616  DIF MANTENIMIENTO A DISTANCIA DE PROGRAMAS Y E...  2022-07-25   \n",
      "\n",
      "       cantidad facturado  valor facturado                 Tipo  \n",
      "10032                   1          45411.0       CEN FINANCIERO  \n",
      "42898                   1         402403.0    CEN TRANSACCIONAL  \n",
      "47622                   1        4713978.0  FACTURA ELECTRONICA  \n",
      "58086                   1          19318.0  FACTURA ELECTRONICA  \n",
      "66616                   1          13067.0    CEN TRANSACCIONAL  \n",
      " \n",
      "Summary:\n",
      "<class 'pandas.core.frame.DataFrame'>\n",
      "RangeIndex: 80908 entries, 0 to 80907\n",
      "Data columns (total 8 columns):\n",
      " #   Column              Non-Null Count  Dtype         \n",
      "---  ------              --------------  -----         \n",
      " 0   codigo cliente      80908 non-null  int64         \n",
      " 1   nombre cliente      80908 non-null  int64         \n",
      " 2   codigo producto     80908 non-null  int64         \n",
      " 3   nombre producto     80908 non-null  object        \n",
      " 4   fecha venta         80908 non-null  datetime64[ns]\n",
      " 5   cantidad facturado  80908 non-null  int64         \n",
      " 6   valor facturado     80908 non-null  float64       \n",
      " 7   Tipo                80908 non-null  object        \n",
      "dtypes: datetime64[ns](1), float64(1), int64(4), object(2)\n",
      "memory usage: 4.9+ MB\n",
      " \n",
      "Descriptivos:\n",
      "                      count                           mean   \n",
      "codigo cliente      80908.0             19272621210.310001  \\\n",
      "nombre cliente      80908.0             19272621210.310001   \n",
      "codigo producto     80908.0                    31654416.79   \n",
      "fecha venta           80908  2022-05-29 04:23:15.006674432   \n",
      "cantidad facturado  80908.0                            1.0   \n",
      "valor facturado     80908.0                       413207.4   \n",
      "\n",
      "                                    min                  25%   \n",
      "codigo cliente                1141132.0          112612086.0  \\\n",
      "nombre cliente                1141132.0          112612086.0   \n",
      "codigo producto                470481.0           31000701.0   \n",
      "fecha venta         2022-03-01 00:00:00  2022-04-08 00:00:00   \n",
      "cantidad facturado                  1.0                  1.0   \n",
      "valor facturado             -98588400.0              41940.0   \n",
      "\n",
      "                                    50%                  75%   \n",
      "codigo cliente              113321864.0        13330277607.0  \\\n",
      "nombre cliente              113321864.0        13330277607.0   \n",
      "codigo producto              31705009.0           32408002.0   \n",
      "fecha venta         2022-06-02 00:00:00  2022-07-05 00:00:00   \n",
      "cantidad facturado                  1.0                  1.0   \n",
      "valor facturado                 85990.0             178159.0   \n",
      "\n",
      "                                    max                 std  \n",
      "codigo cliente           139110576375.0  40756001831.470001  \n",
      "nombre cliente           139110576375.0  40756001831.470001  \n",
      "codigo producto              32814001.0           659544.22  \n",
      "fecha venta         2022-08-31 00:00:00                 NaN  \n",
      "cantidad facturado                  1.0                 0.0  \n",
      "valor facturado            841020965.26          5760404.94  \n",
      " \n",
      "Nulos por campo:\n",
      "codigo cliente        0\n",
      "nombre cliente        0\n",
      "codigo producto       0\n",
      "nombre producto       0\n",
      "fecha venta           0\n",
      "cantidad facturado    0\n",
      "valor facturado       0\n",
      "Tipo                  0\n",
      "dtype: int64\n",
      " \n",
      "Dimensiones:\n",
      "(80908, 8)\n"
     ]
    }
   ],
   "source": [
    "#################\n",
    "# Descriptivos\n",
    "print(tb_ini.sample(5))\n",
    "print(' ')\n",
    "print('Summary:')\n",
    "tb_ini.info()\n",
    "print(' ')\n",
    "print('Descriptivos:')\n",
    "print(tb_ini.describe().round(2).transpose())\n",
    "print(' ')\n",
    "print('Nulos por campo:')\n",
    "print(tb_ini.isnull().sum())  # total de nulls por variable\n",
    "print(' ')\n",
    "print('Dimensiones:')\n",
    "print(tb_ini.shape)"
   ]
  }
 ],
 "metadata": {
  "kernelspec": {
   "display_name": "Python 3",
   "language": "python",
   "name": "python3"
  },
  "language_info": {
   "codemirror_mode": {
    "name": "ipython",
    "version": 3
   },
   "file_extension": ".py",
   "mimetype": "text/x-python",
   "name": "python",
   "nbconvert_exporter": "python",
   "pygments_lexer": "ipython3",
   "version": "3.11.5"
  },
  "orig_nbformat": 4
 },
 "nbformat": 4,
 "nbformat_minor": 2
}
