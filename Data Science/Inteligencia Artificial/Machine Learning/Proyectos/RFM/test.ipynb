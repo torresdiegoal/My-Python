{
 "cells": [
  {
   "cell_type": "code",
   "execution_count": 11,
   "metadata": {},
   "outputs": [],
   "source": [
    "# Carga paquetes\n",
    "import pandas as pd\n",
    "import numpy as np\n",
    "import seaborn as sns\n",
    "import matplotlib.pyplot as plt\n",
    "#import matplotlib as plt\n",
    "import warnings\n",
    "from scipy.stats import skew\n",
    "\n",
    "warnings.filterwarnings(\"ignore\", category=UserWarning)  # ignora los warnings"
   ]
  },
  {
   "cell_type": "code",
   "execution_count": 6,
   "metadata": {},
   "outputs": [
    {
     "name": "stdout",
     "output_type": "stream",
     "text": [
      "Dimensiones:\n",
      "(78960, 5)\n",
      "Index(['Cliente', 'Eventos', 'Recaudo', 'Boletas', 'ATP'], dtype='object')\n",
      "         Cliente  Eventos   Recaudo  Boletas   ATP\n",
      "0 10228288389474       33 430579324     6391 67373\n",
      "1 10228361265078      162 173802000     2057 84493\n",
      "2 10229202378374      115  77480444     1842 42063\n",
      "3 10229436653239        3  71830000     1288 55769\n",
      "4   101429949720       80  56067900     1253 44747\n",
      "5   101394685671       99  49779775     1143 43552\n",
      "6 10228462846111       57  26934600      663 40625\n",
      "7 10229345897958        1   4405000      500  8810\n",
      "8 10228538980483       18   6580292      482 13652\n",
      "9 10228352284052       30  12265000      393 31209\n"
     ]
    }
   ],
   "source": [
    "# Configuración para evitar la notación científica\n",
    "pd.options.display.float_format = '{:.0f}'.format\n",
    "\n",
    "# Carga de la base\n",
    "#inpath = \"E:/OneDrive/Datasets/Tuboleta/Segmentacion/\"\n",
    "inpath = \"C:/Users/diego.torres/OneDrive/Datasets/Tuboleta/Segmentacion/\"\n",
    "\n",
    "tb_ini = pd.read_csv(inpath + 'Base_segmentacion.csv',delimiter='|',decimal=\".\")\n",
    "tb_ini.fillna(0, inplace=True)\n",
    "\n",
    "print('Dimensiones:')\n",
    "print(tb_ini.shape)\n",
    "print(tb_ini.columns)\n",
    "print(tb_ini.head(10))"
   ]
  },
  {
   "cell_type": "code",
   "execution_count": 10,
   "metadata": {},
   "outputs": [
    {
     "name": "stdout",
     "output_type": "stream",
     "text": [
      "    Eventos  count  score\n",
      "0         0      1      1\n",
      "1         1  69440      2\n",
      "2         2   6896      2\n",
      "3         3   1502      3\n",
      "4         4    475      3\n",
      "5         5    211      4\n",
      "6         6    171      4\n",
      "7         7     80      5\n",
      "8         8     42      5\n",
      "9         9     23      5\n",
      "10       10     14      5\n",
      "11       11     16      5\n",
      "12       12     16      5\n",
      "13       13      9      5\n",
      "14       14     11      5\n",
      "15       15      1      5\n",
      "16       16      5      5\n",
      "17       17      6      5\n",
      "18       18      6      5\n",
      "19       19      4      5\n"
     ]
    }
   ],
   "source": [
    "# tb = tb_ini[['Cliente','Eventos','Recaudo','Boletas','ATP','Valor','EMAIL','Rango_de_edad']].\\\n",
    "#     sort_values(by='Recaudo', ascending=False).\\\n",
    "#     head(200)\n",
    "# #tb = tb_ini[(tb_ini['Eventos'] == 0) | (tb_ini['Recaudo'] == 0) | (tb_ini['Boletas'] == 0)]\n",
    "# print('Dimensiones:')\n",
    "# print(tb.shape)\n",
    "# print(tb.head(5))\n",
    "variable = 'Eventos'\n",
    "#variable.plot()\n",
    "# sns.displot(variable, bins = 30, binrange=(1, 1000))\n",
    "# plt.xlim(1, 20)\n",
    "#plt.plot(variable)\n",
    "variable_grp = tb_ini.groupby(variable).agg(count=(variable, 'count')).reset_index()\n",
    "#print(variable_grp.head(20))\n",
    "#VarTemp = variable[(variable >= 70000)]\n",
    "#print(VarTemp.count())\n",
    "\n",
    "\n",
    "#Función para el caso eventos\n",
    "def puntaje_manual_eventos(x):\n",
    "    if x in[0]:\n",
    "        return 1\n",
    "    elif x in[1,2]:\n",
    "        return 2\n",
    "    elif x in[3,4]:\n",
    "        return 3\n",
    "    elif x in[5,6]:\n",
    "        return 4\n",
    "    else:\n",
    "        return 5\n",
    "\n",
    "variable_grp['score'] = variable_grp['Eventos'].apply(lambda x: puntaje_manual_eventos(x))\n",
    "print(variable_grp.head(20))"
   ]
  },
  {
   "cell_type": "code",
   "execution_count": 32,
   "metadata": {},
   "outputs": [
    {
     "ename": "UFuncTypeError",
     "evalue": "ufunc 'subtract' did not contain a loop with signature matching types (dtype('<U7'), dtype('<U7')) -> None",
     "output_type": "error",
     "traceback": [
      "\u001b[1;31m---------------------------------------------------------------------------\u001b[0m",
      "\u001b[1;31mUFuncTypeError\u001b[0m                            Traceback (most recent call last)",
      "Cell \u001b[1;32mIn[32], line 10\u001b[0m\n\u001b[0;32m      7\u001b[0m   LS\u001b[38;5;241m=\u001b[39mnp\u001b[38;5;241m.\u001b[39mpercentile(variable,\u001b[38;5;241m75\u001b[39m)\u001b[38;5;241m+\u001b[39m(\u001b[38;5;241m1.5\u001b[39m\u001b[38;5;241m*\u001b[39mIqr)\n\u001b[0;32m      8\u001b[0m   \u001b[38;5;28;01mreturn\u001b[39;00m(LI,LS)\n\u001b[1;32m---> 10\u001b[0m \u001b[38;5;28mprint\u001b[39m(\u001b[43mIQR\u001b[49m\u001b[43m(\u001b[49m\u001b[43mvariable\u001b[49m\u001b[43m)\u001b[49m)\n\u001b[0;32m     12\u001b[0m \u001b[38;5;66;03m# Comprobamos normalidad, sino, transformamos con log para reducir\u001b[39;00m\n\u001b[0;32m     13\u001b[0m \u001b[38;5;66;03m# sesgo a la derecha:\u001b[39;00m\n\u001b[0;32m     14\u001b[0m \u001b[38;5;66;03m#Ejecutamos las dos funciones anteriores\u001b[39;00m\n\u001b[0;32m     15\u001b[0m skew_lim \u001b[38;5;241m=\u001b[39m \u001b[38;5;241m2\u001b[39m\n",
      "Cell \u001b[1;32mIn[32], line 4\u001b[0m, in \u001b[0;36mIQR\u001b[1;34m(variable)\u001b[0m\n\u001b[0;32m      3\u001b[0m \u001b[38;5;28;01mdef\u001b[39;00m \u001b[38;5;21mIQR\u001b[39m(variable):\n\u001b[1;32m----> 4\u001b[0m   Iqr \u001b[38;5;241m=\u001b[39m \u001b[43mnp\u001b[49m\u001b[38;5;241;43m.\u001b[39;49m\u001b[43mpercentile\u001b[49m\u001b[43m(\u001b[49m\u001b[43mvariable\u001b[49m\u001b[43m,\u001b[49m\u001b[38;5;241;43m75\u001b[39;49m\u001b[43m)\u001b[49m\u001b[38;5;241m-\u001b[39mnp\u001b[38;5;241m.\u001b[39mpercentile(variable,\u001b[38;5;241m25\u001b[39m)\n\u001b[0;32m      6\u001b[0m   LI\u001b[38;5;241m=\u001b[39mnp\u001b[38;5;241m.\u001b[39mpercentile(variable,\u001b[38;5;241m25\u001b[39m)\u001b[38;5;241m-\u001b[39m(\u001b[38;5;241m1.5\u001b[39m\u001b[38;5;241m*\u001b[39mIqr)\n\u001b[0;32m      7\u001b[0m   LS\u001b[38;5;241m=\u001b[39mnp\u001b[38;5;241m.\u001b[39mpercentile(variable,\u001b[38;5;241m75\u001b[39m)\u001b[38;5;241m+\u001b[39m(\u001b[38;5;241m1.5\u001b[39m\u001b[38;5;241m*\u001b[39mIqr)\n",
      "File \u001b[1;32mc:\\Users\\diego.torres\\AppData\\Local\\Programs\\Python\\Python312\\Lib\\site-packages\\numpy\\lib\\function_base.py:4283\u001b[0m, in \u001b[0;36mpercentile\u001b[1;34m(a, q, axis, out, overwrite_input, method, keepdims, interpolation)\u001b[0m\n\u001b[0;32m   4281\u001b[0m \u001b[38;5;28;01mif\u001b[39;00m \u001b[38;5;129;01mnot\u001b[39;00m _quantile_is_valid(q):\n\u001b[0;32m   4282\u001b[0m     \u001b[38;5;28;01mraise\u001b[39;00m \u001b[38;5;167;01mValueError\u001b[39;00m(\u001b[38;5;124m\"\u001b[39m\u001b[38;5;124mPercentiles must be in the range [0, 100]\u001b[39m\u001b[38;5;124m\"\u001b[39m)\n\u001b[1;32m-> 4283\u001b[0m \u001b[38;5;28;01mreturn\u001b[39;00m \u001b[43m_quantile_unchecked\u001b[49m\u001b[43m(\u001b[49m\n\u001b[0;32m   4284\u001b[0m \u001b[43m    \u001b[49m\u001b[43ma\u001b[49m\u001b[43m,\u001b[49m\u001b[43m \u001b[49m\u001b[43mq\u001b[49m\u001b[43m,\u001b[49m\u001b[43m \u001b[49m\u001b[43maxis\u001b[49m\u001b[43m,\u001b[49m\u001b[43m \u001b[49m\u001b[43mout\u001b[49m\u001b[43m,\u001b[49m\u001b[43m \u001b[49m\u001b[43moverwrite_input\u001b[49m\u001b[43m,\u001b[49m\u001b[43m \u001b[49m\u001b[43mmethod\u001b[49m\u001b[43m,\u001b[49m\u001b[43m \u001b[49m\u001b[43mkeepdims\u001b[49m\u001b[43m)\u001b[49m\n",
      "File \u001b[1;32mc:\\Users\\diego.torres\\AppData\\Local\\Programs\\Python\\Python312\\Lib\\site-packages\\numpy\\lib\\function_base.py:4555\u001b[0m, in \u001b[0;36m_quantile_unchecked\u001b[1;34m(a, q, axis, out, overwrite_input, method, keepdims)\u001b[0m\n\u001b[0;32m   4547\u001b[0m \u001b[38;5;28;01mdef\u001b[39;00m \u001b[38;5;21m_quantile_unchecked\u001b[39m(a,\n\u001b[0;32m   4548\u001b[0m                         q,\n\u001b[0;32m   4549\u001b[0m                         axis\u001b[38;5;241m=\u001b[39m\u001b[38;5;28;01mNone\u001b[39;00m,\n\u001b[1;32m   (...)\u001b[0m\n\u001b[0;32m   4552\u001b[0m                         method\u001b[38;5;241m=\u001b[39m\u001b[38;5;124m\"\u001b[39m\u001b[38;5;124mlinear\u001b[39m\u001b[38;5;124m\"\u001b[39m,\n\u001b[0;32m   4553\u001b[0m                         keepdims\u001b[38;5;241m=\u001b[39m\u001b[38;5;28;01mFalse\u001b[39;00m):\n\u001b[0;32m   4554\u001b[0m \u001b[38;5;250m    \u001b[39m\u001b[38;5;124;03m\"\"\"Assumes that q is in [0, 1], and is an ndarray\"\"\"\u001b[39;00m\n\u001b[1;32m-> 4555\u001b[0m     \u001b[38;5;28;01mreturn\u001b[39;00m \u001b[43m_ureduce\u001b[49m\u001b[43m(\u001b[49m\u001b[43ma\u001b[49m\u001b[43m,\u001b[49m\n\u001b[0;32m   4556\u001b[0m \u001b[43m                    \u001b[49m\u001b[43mfunc\u001b[49m\u001b[38;5;241;43m=\u001b[39;49m\u001b[43m_quantile_ureduce_func\u001b[49m\u001b[43m,\u001b[49m\n\u001b[0;32m   4557\u001b[0m \u001b[43m                    \u001b[49m\u001b[43mq\u001b[49m\u001b[38;5;241;43m=\u001b[39;49m\u001b[43mq\u001b[49m\u001b[43m,\u001b[49m\n\u001b[0;32m   4558\u001b[0m \u001b[43m                    \u001b[49m\u001b[43mkeepdims\u001b[49m\u001b[38;5;241;43m=\u001b[39;49m\u001b[43mkeepdims\u001b[49m\u001b[43m,\u001b[49m\n\u001b[0;32m   4559\u001b[0m \u001b[43m                    \u001b[49m\u001b[43maxis\u001b[49m\u001b[38;5;241;43m=\u001b[39;49m\u001b[43maxis\u001b[49m\u001b[43m,\u001b[49m\n\u001b[0;32m   4560\u001b[0m \u001b[43m                    \u001b[49m\u001b[43mout\u001b[49m\u001b[38;5;241;43m=\u001b[39;49m\u001b[43mout\u001b[49m\u001b[43m,\u001b[49m\n\u001b[0;32m   4561\u001b[0m \u001b[43m                    \u001b[49m\u001b[43moverwrite_input\u001b[49m\u001b[38;5;241;43m=\u001b[39;49m\u001b[43moverwrite_input\u001b[49m\u001b[43m,\u001b[49m\n\u001b[0;32m   4562\u001b[0m \u001b[43m                    \u001b[49m\u001b[43mmethod\u001b[49m\u001b[38;5;241;43m=\u001b[39;49m\u001b[43mmethod\u001b[49m\u001b[43m)\u001b[49m\n",
      "File \u001b[1;32mc:\\Users\\diego.torres\\AppData\\Local\\Programs\\Python\\Python312\\Lib\\site-packages\\numpy\\lib\\function_base.py:3823\u001b[0m, in \u001b[0;36m_ureduce\u001b[1;34m(a, func, keepdims, **kwargs)\u001b[0m\n\u001b[0;32m   3820\u001b[0m             index_out \u001b[38;5;241m=\u001b[39m (\u001b[38;5;241m0\u001b[39m, ) \u001b[38;5;241m*\u001b[39m nd\n\u001b[0;32m   3821\u001b[0m             kwargs[\u001b[38;5;124m'\u001b[39m\u001b[38;5;124mout\u001b[39m\u001b[38;5;124m'\u001b[39m] \u001b[38;5;241m=\u001b[39m out[(\u001b[38;5;28mEllipsis\u001b[39m, ) \u001b[38;5;241m+\u001b[39m index_out]\n\u001b[1;32m-> 3823\u001b[0m r \u001b[38;5;241m=\u001b[39m \u001b[43mfunc\u001b[49m\u001b[43m(\u001b[49m\u001b[43ma\u001b[49m\u001b[43m,\u001b[49m\u001b[43m \u001b[49m\u001b[38;5;241;43m*\u001b[39;49m\u001b[38;5;241;43m*\u001b[39;49m\u001b[43mkwargs\u001b[49m\u001b[43m)\u001b[49m\n\u001b[0;32m   3825\u001b[0m \u001b[38;5;28;01mif\u001b[39;00m out \u001b[38;5;129;01mis\u001b[39;00m \u001b[38;5;129;01mnot\u001b[39;00m \u001b[38;5;28;01mNone\u001b[39;00m:\n\u001b[0;32m   3826\u001b[0m     \u001b[38;5;28;01mreturn\u001b[39;00m out\n",
      "File \u001b[1;32mc:\\Users\\diego.torres\\AppData\\Local\\Programs\\Python\\Python312\\Lib\\site-packages\\numpy\\lib\\function_base.py:4721\u001b[0m, in \u001b[0;36m_quantile_ureduce_func\u001b[1;34m(a, q, axis, out, overwrite_input, method)\u001b[0m\n\u001b[0;32m   4719\u001b[0m     \u001b[38;5;28;01melse\u001b[39;00m:\n\u001b[0;32m   4720\u001b[0m         arr \u001b[38;5;241m=\u001b[39m a\u001b[38;5;241m.\u001b[39mcopy()\n\u001b[1;32m-> 4721\u001b[0m result \u001b[38;5;241m=\u001b[39m \u001b[43m_quantile\u001b[49m\u001b[43m(\u001b[49m\u001b[43marr\u001b[49m\u001b[43m,\u001b[49m\n\u001b[0;32m   4722\u001b[0m \u001b[43m                   \u001b[49m\u001b[43mquantiles\u001b[49m\u001b[38;5;241;43m=\u001b[39;49m\u001b[43mq\u001b[49m\u001b[43m,\u001b[49m\n\u001b[0;32m   4723\u001b[0m \u001b[43m                   \u001b[49m\u001b[43maxis\u001b[49m\u001b[38;5;241;43m=\u001b[39;49m\u001b[43maxis\u001b[49m\u001b[43m,\u001b[49m\n\u001b[0;32m   4724\u001b[0m \u001b[43m                   \u001b[49m\u001b[43mmethod\u001b[49m\u001b[38;5;241;43m=\u001b[39;49m\u001b[43mmethod\u001b[49m\u001b[43m,\u001b[49m\n\u001b[0;32m   4725\u001b[0m \u001b[43m                   \u001b[49m\u001b[43mout\u001b[49m\u001b[38;5;241;43m=\u001b[39;49m\u001b[43mout\u001b[49m\u001b[43m)\u001b[49m\n\u001b[0;32m   4726\u001b[0m \u001b[38;5;28;01mreturn\u001b[39;00m result\n",
      "File \u001b[1;32mc:\\Users\\diego.torres\\AppData\\Local\\Programs\\Python\\Python312\\Lib\\site-packages\\numpy\\lib\\function_base.py:4840\u001b[0m, in \u001b[0;36m_quantile\u001b[1;34m(arr, quantiles, axis, method, out)\u001b[0m\n\u001b[0;32m   4838\u001b[0m     result_shape \u001b[38;5;241m=\u001b[39m virtual_indexes\u001b[38;5;241m.\u001b[39mshape \u001b[38;5;241m+\u001b[39m (\u001b[38;5;241m1\u001b[39m,) \u001b[38;5;241m*\u001b[39m (arr\u001b[38;5;241m.\u001b[39mndim \u001b[38;5;241m-\u001b[39m \u001b[38;5;241m1\u001b[39m)\n\u001b[0;32m   4839\u001b[0m     gamma \u001b[38;5;241m=\u001b[39m gamma\u001b[38;5;241m.\u001b[39mreshape(result_shape)\n\u001b[1;32m-> 4840\u001b[0m     result \u001b[38;5;241m=\u001b[39m \u001b[43m_lerp\u001b[49m\u001b[43m(\u001b[49m\u001b[43mprevious\u001b[49m\u001b[43m,\u001b[49m\n\u001b[0;32m   4841\u001b[0m \u001b[43m                   \u001b[49m\u001b[38;5;28;43mnext\u001b[39;49m\u001b[43m,\u001b[49m\n\u001b[0;32m   4842\u001b[0m \u001b[43m                   \u001b[49m\u001b[43mgamma\u001b[49m\u001b[43m,\u001b[49m\n\u001b[0;32m   4843\u001b[0m \u001b[43m                   \u001b[49m\u001b[43mout\u001b[49m\u001b[38;5;241;43m=\u001b[39;49m\u001b[43mout\u001b[49m\u001b[43m)\u001b[49m\n\u001b[0;32m   4844\u001b[0m \u001b[38;5;28;01mif\u001b[39;00m np\u001b[38;5;241m.\u001b[39many(slices_having_nans):\n\u001b[0;32m   4845\u001b[0m     \u001b[38;5;28;01mif\u001b[39;00m result\u001b[38;5;241m.\u001b[39mndim \u001b[38;5;241m==\u001b[39m \u001b[38;5;241m0\u001b[39m \u001b[38;5;129;01mand\u001b[39;00m out \u001b[38;5;129;01mis\u001b[39;00m \u001b[38;5;28;01mNone\u001b[39;00m:\n\u001b[0;32m   4846\u001b[0m         \u001b[38;5;66;03m# can't write to a scalar, but indexing will be correct\u001b[39;00m\n",
      "File \u001b[1;32mc:\\Users\\diego.torres\\AppData\\Local\\Programs\\Python\\Python312\\Lib\\site-packages\\numpy\\lib\\function_base.py:4655\u001b[0m, in \u001b[0;36m_lerp\u001b[1;34m(a, b, t, out)\u001b[0m\n\u001b[0;32m   4641\u001b[0m \u001b[38;5;28;01mdef\u001b[39;00m \u001b[38;5;21m_lerp\u001b[39m(a, b, t, out\u001b[38;5;241m=\u001b[39m\u001b[38;5;28;01mNone\u001b[39;00m):\n\u001b[0;32m   4642\u001b[0m \u001b[38;5;250m    \u001b[39m\u001b[38;5;124;03m\"\"\"\u001b[39;00m\n\u001b[0;32m   4643\u001b[0m \u001b[38;5;124;03m    Compute the linear interpolation weighted by gamma on each point of\u001b[39;00m\n\u001b[0;32m   4644\u001b[0m \u001b[38;5;124;03m    two same shape array.\u001b[39;00m\n\u001b[1;32m   (...)\u001b[0m\n\u001b[0;32m   4653\u001b[0m \u001b[38;5;124;03m        Output array.\u001b[39;00m\n\u001b[0;32m   4654\u001b[0m \u001b[38;5;124;03m    \"\"\"\u001b[39;00m\n\u001b[1;32m-> 4655\u001b[0m     diff_b_a \u001b[38;5;241m=\u001b[39m \u001b[43msubtract\u001b[49m\u001b[43m(\u001b[49m\u001b[43mb\u001b[49m\u001b[43m,\u001b[49m\u001b[43m \u001b[49m\u001b[43ma\u001b[49m\u001b[43m)\u001b[49m\n\u001b[0;32m   4656\u001b[0m     \u001b[38;5;66;03m# asanyarray is a stop-gap until gh-13105\u001b[39;00m\n\u001b[0;32m   4657\u001b[0m     lerp_interpolation \u001b[38;5;241m=\u001b[39m asanyarray(add(a, diff_b_a \u001b[38;5;241m*\u001b[39m t, out\u001b[38;5;241m=\u001b[39mout))\n",
      "\u001b[1;31mUFuncTypeError\u001b[0m: ufunc 'subtract' did not contain a loop with signature matching types (dtype('<U7'), dtype('<U7')) -> None"
     ]
    }
   ],
   "source": [
    "variable = [variable]\n",
    "# RANGO INTERCUARTILICO\n",
    "def IQR(variable):\n",
    "  Iqr = np.percentile(variable,75)-np.percentile(variable,25)\n",
    "\n",
    "  LI=np.percentile(variable,25)-(1.5*Iqr)\n",
    "  LS=np.percentile(variable,75)+(1.5*Iqr)\n",
    "  return(LI,LS)\n",
    "\n",
    "print(IQR(variable))\n",
    "\n",
    "# Comprobamos normalidad, sino, transformamos con log para reducir\n",
    "# sesgo a la derecha:\n",
    "#Ejecutamos las dos funciones anteriores\n",
    "skew_lim = 2\n",
    "\n",
    "# Eventos\n",
    "if skew(variable) > skew_lim:\n",
    "  # Aplicar logaritmo a var_eventos si la asimetría es mayor que skew\n",
    "  variable = np.log(variable)\n",
    "  #rfm_df.loc[:, 'Eventos_t'] = var_eventos # esta sintaxis evita el warning 'SettingWithCopyWarning'\n",
    "  #rfm_df['Eventos_t'] = var_eventos  # Asignar var_eventos a una columna Eventos_t en rfm_df\n",
    "  lim_eventos = IQR(variable)  # Calcular el rango intercuartílico de var_eventos\n",
    "else:\n",
    "  lim_eventos = IQR(variable)\n",
    "\n",
    "print(lim_eventos)"
   ]
  },
  {
   "cell_type": "code",
   "execution_count": 9,
   "metadata": {},
   "outputs": [
    {
     "name": "stdout",
     "output_type": "stream",
     "text": [
      "(78960, 1)\n",
      "Index(['Eventos'], dtype='object')\n",
      "   Eventos\n",
      "0       33\n",
      "1      162\n",
      "2      115\n",
      "3        3\n",
      "4       80\n",
      "5       99\n",
      "6       57\n",
      "7        1\n",
      "8       18\n",
      "9       30\n",
      "1.0\n",
      "1.0 1.0\n"
     ]
    },
    {
     "ename": "TypeError",
     "evalue": "unsupported operand type(s) for -: 'str' and 'float'",
     "output_type": "error",
     "traceback": [
      "\u001b[1;31m---------------------------------------------------------------------------\u001b[0m",
      "\u001b[1;31mTypeError\u001b[0m                                 Traceback (most recent call last)",
      "Cell \u001b[1;32mIn[9], line 22\u001b[0m\n\u001b[0;32m     16\u001b[0m VarTemp \u001b[38;5;241m=\u001b[39m variable[(variable \u001b[38;5;241m>\u001b[39m\u001b[38;5;241m=\u001b[39m LI) \u001b[38;5;241m&\u001b[39m (variable \u001b[38;5;241m<\u001b[39m\u001b[38;5;241m=\u001b[39m LS)]\n\u001b[0;32m     18\u001b[0m \u001b[38;5;66;03m## TIPO DE INTERVALO O BREAK\u001b[39;00m\n\u001b[0;32m     19\u001b[0m \u001b[38;5;66;03m# valores en el que se dividen los intervalos.\u001b[39;00m\n\u001b[0;32m     20\u001b[0m \u001b[38;5;66;03m# los datos atipicos se apartan a la hora de definir los quantiles, pero se incluyen al final para el puntaje\u001b[39;00m\n\u001b[0;32m     21\u001b[0m \u001b[38;5;66;03m# break_1: <LI + min; percentiles -1 y 6; max + >LS\u001b[39;00m\n\u001b[1;32m---> 22\u001b[0m breaks_1 \u001b[38;5;241m=\u001b[39m np\u001b[38;5;241m.\u001b[39mconcatenate(([\u001b[38;5;28;43mmin\u001b[39;49m\u001b[43m(\u001b[49m\u001b[43mvariable\u001b[49m\u001b[43m)\u001b[49m\u001b[43m \u001b[49m\u001b[38;5;241;43m-\u001b[39;49m\u001b[43m \u001b[49m\u001b[38;5;241;43m0.001\u001b[39;49m]\\\n\u001b[0;32m     23\u001b[0m   ,np\u001b[38;5;241m.\u001b[39mpercentile(VarTemp, np\u001b[38;5;241m.\u001b[39marange(\u001b[38;5;241m0\u001b[39m, \u001b[38;5;241m101\u001b[39m, \u001b[38;5;241m20\u001b[39m)[\u001b[38;5;241m1\u001b[39m:\u001b[38;5;241m5\u001b[39m]) \u001b[38;5;66;03m#np.arange(start, stop, step), stop excluded so +1/\u001b[39;00m\n\u001b[0;32m     24\u001b[0m   ,[\u001b[38;5;28mmax\u001b[39m(variable) \u001b[38;5;241m+\u001b[39m \u001b[38;5;241m0.001\u001b[39m]))\n\u001b[0;32m     26\u001b[0m \u001b[38;5;28mprint\u001b[39m(breaks_1)\n\u001b[0;32m     28\u001b[0m \u001b[38;5;66;03m# break_2: quantiles con outliers\u001b[39;00m\n",
      "\u001b[1;31mTypeError\u001b[0m: unsupported operand type(s) for -: 'str' and 'float'"
     ]
    }
   ],
   "source": [
    "LI = lim_eventos[0]\n",
    "LS = lim_eventos[1]\n",
    "\n",
    "# variable tiene outliers, VarTemp no\n",
    "VarTemp = variable[(variable >= LI) & (variable <= LS)]\n",
    "\n",
    "## TIPO DE INTERVALO O BREAK\n",
    "# valores en el que se dividen los intervalos.\n",
    "# los datos atipicos se apartan a la hora de definir los quantiles, pero se incluyen al final para el puntaje\n",
    "# break_1: <LI + min; percentiles -1 y 6; max + >LS\n",
    "breaks_1 = np.concatenate(([min(variable) - 0.001]\\\n",
    "  ,np.percentile(VarTemp, np.arange(0, 101, 20)[1:5]) #np.arange(start, stop, step), stop excluded so +1/\n",
    "  ,[max(variable) + 0.001]))\n",
    "\n",
    "print(breaks_1)\n",
    "\n",
    "# break_2: quantiles con outliers\n",
    "quantiles_2 = np.percentile(variable, np.arange(0, 101, 20))\n",
    "quantiles_2[0] -= 0.001\n",
    "quantiles_2[-1] += 0.001\n",
    "breaks_2 = quantiles_2\n",
    "\n",
    "print(breaks_1)\n",
    "\n",
    "# break_3: Usandos rangos fijos y no quantiles incluyendo outliers\n",
    "breaks_3 = np.linspace(min(variable) - 0.001, max(VarTemp), num=6)\n",
    "breaks_3 = np.append(breaks_3[0:5], max(variable))\n",
    "\n",
    "print(breaks_1)"
   ]
  },
  {
   "cell_type": "code",
   "execution_count": 20,
   "metadata": {},
   "outputs": [],
   "source": [
    "# Escritura\n",
    "tb.to_excel(inpath +'resultados_segmentacion_databricks.xlsx',\n",
    "               index=False, # El argumento 'index=False' evita que se incluyan los índices en el archivo CSV\n",
    "               #sep = '|',\n",
    "               #decimal = '.'\n",
    "               )"
   ]
  }
 ],
 "metadata": {
  "kernelspec": {
   "display_name": "Python 3",
   "language": "python",
   "name": "python3"
  },
  "language_info": {
   "codemirror_mode": {
    "name": "ipython",
    "version": 3
   },
   "file_extension": ".py",
   "mimetype": "text/x-python",
   "name": "python",
   "nbconvert_exporter": "python",
   "pygments_lexer": "ipython3",
   "version": "3.12.0"
  }
 },
 "nbformat": 4,
 "nbformat_minor": 2
}
