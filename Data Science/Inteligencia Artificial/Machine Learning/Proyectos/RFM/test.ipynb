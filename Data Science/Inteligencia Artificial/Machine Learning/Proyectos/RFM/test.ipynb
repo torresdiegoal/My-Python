{
 "cells": [
  {
   "cell_type": "code",
   "execution_count": 13,
   "metadata": {},
   "outputs": [],
   "source": [
    "# Carga paquetes\n",
    "import pandas as pd\n",
    "import numpy as np\n",
    "import warnings\n",
    "from scipy.stats import skew\n",
    "\n",
    "warnings.filterwarnings(\"ignore\", category=UserWarning)  # ignora los warnings"
   ]
  },
  {
   "cell_type": "code",
   "execution_count": 18,
   "metadata": {},
   "outputs": [
    {
     "name": "stdout",
     "output_type": "stream",
     "text": [
      "Dimensiones:\n",
      "(817004, 18)\n",
      "Index(['Cliente', 'Eventos', 'Recaudo', 'Boletas', 'ATP', 'Valor', 'FIRSTNAME',\n",
      "       'LASTNAME', 'ID_NUMBER', 'FECHA_DE_NACIMIENTO', 'EMAIL', 'Edad',\n",
      "       'Rango_de_edad', 'Genero', 'CIUDAD', 'REGION', 'DEPARTAMENTO', 'PAIS'],\n",
      "      dtype='object')\n"
     ]
    }
   ],
   "source": [
    "# Configuración para evitar la notación científica\n",
    "pd.options.display.float_format = '{:.0f}'.format\n",
    "\n",
    "# Carga de la base\n",
    "#inpath = \"E:/OneDrive/Datasets/Tuboleta/Segmentacion/\"\n",
    "inpath = \"C:/Users/diego.torres/OneDrive/Datasets/Tuboleta/Segmentacion/\"\n",
    "\n",
    "tb_ini = pd.read_csv(inpath + 'resultados_segmentacion_databricks.csv',delimiter='|',decimal=\".\")\n",
    "tb_ini.fillna(0, inplace=True)\n",
    "\n",
    "print('Dimensiones:')\n",
    "print(tb_ini.shape)\n",
    "print(tb_ini.columns)"
   ]
  },
  {
   "cell_type": "code",
   "execution_count": 19,
   "metadata": {},
   "outputs": [
    {
     "name": "stdout",
     "output_type": "stream",
     "text": [
      "Dimensiones:\n",
      "(200, 8)\n",
      "               Cliente  Eventos    Recaudo  Boletas    ATP     Valor  \\\n",
      "533400  10229230962591        1 1345832000     2724 494065      Alto   \n",
      "93803   10228232382954      556 1131144261    72214  15664      Alto   \n",
      "286881  10228564924593       30 1078635103    32110  33592  Muy Alto   \n",
      "121398  10228342293221       89  857604112     7614 112635  Muy Alto   \n",
      "136855  10228361265078      391  849024064    33818  25106      Alto   \n",
      "\n",
      "                                   EMAIL Rango_de_edad  \n",
      "533400             diegom@walterkolm.com      SIN DATO  \n",
      "93803     gestor.planetario@tuboleta.com       18 a 24  \n",
      "286881  esilva.cucutadeportivo@gmail.com      SIN DATO  \n",
      "121398                tebankno@gmail.com       18 a 24  \n",
      "136855          empresario1@tuboleta.com      SIN DATO  \n"
     ]
    }
   ],
   "source": [
    "tb = tb_ini[['Cliente','Eventos','Recaudo','Boletas','ATP','Valor','EMAIL','Rango_de_edad']].\\\n",
    "    sort_values(by='Recaudo', ascending=False).\\\n",
    "    head(200)\n",
    "#tb = tb_ini[(tb_ini['Eventos'] == 0) | (tb_ini['Recaudo'] == 0) | (tb_ini['Boletas'] == 0)]\n",
    "print('Dimensiones:')\n",
    "print(tb.shape)\n",
    "print(tb.head(5))"
   ]
  },
  {
   "cell_type": "code",
   "execution_count": 20,
   "metadata": {},
   "outputs": [],
   "source": [
    "# Escritura\n",
    "tb.to_excel(inpath +'resultados_segmentacion_databricks.xlsx',\n",
    "               index=False, # El argumento 'index=False' evita que se incluyan los índices en el archivo CSV\n",
    "               #sep = '|',\n",
    "               #decimal = '.'\n",
    "               )"
   ]
  }
 ],
 "metadata": {
  "kernelspec": {
   "display_name": "Python 3",
   "language": "python",
   "name": "python3"
  },
  "language_info": {
   "codemirror_mode": {
    "name": "ipython",
    "version": 3
   },
   "file_extension": ".py",
   "mimetype": "text/x-python",
   "name": "python",
   "nbconvert_exporter": "python",
   "pygments_lexer": "ipython3",
   "version": "3.12.0"
  }
 },
 "nbformat": 4,
 "nbformat_minor": 2
}
