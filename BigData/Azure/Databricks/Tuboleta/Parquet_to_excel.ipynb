{
 "cells": [
  {
   "cell_type": "code",
   "execution_count": 3,
   "id": "1a686f59",
   "metadata": {
    "scrolled": true
   },
   "outputs": [],
   "source": [
    "import pandas as pd\n",
    "import pyarrow\n",
    "#import fastparquet\n",
    "#pip install pyarrow, fastparquet\n",
    "\n",
    "# Cargar datos desde un archivo Parquet\n",
    "#inpath = \"C:/Users/diego.torres/OneDrive/Datasets/Tuboleta/\"\n",
    "inpath = \"E:/OneDrive/Datasets/Tuboleta/\"\n",
    "\n",
    "df = pd.read_parquet(inpath + 'Facturacion_electronica.parquet', engine='pyarrow')\n",
    "\n",
    "# Guardar el DataFrame en un archivo XLSX\n",
    "df.to_excel(inpath + 'Facturacion_electronica.xlsx', index=False)\n",
    "\n",
    "#print(f'Archivo XLSX guardado en: {ruta_archivo_xlsx}')\n"
   ]
  }
 ],
 "metadata": {
  "kernelspec": {
   "display_name": "Python 3 (ipykernel)",
   "language": "python",
   "name": "python3"
  },
  "language_info": {
   "codemirror_mode": {
    "name": "ipython",
    "version": 3
   },
   "file_extension": ".py",
   "mimetype": "text/x-python",
   "name": "python",
   "nbconvert_exporter": "python",
   "pygments_lexer": "ipython3",
   "version": "3.11.5"
  }
 },
 "nbformat": 4,
 "nbformat_minor": 5
}
