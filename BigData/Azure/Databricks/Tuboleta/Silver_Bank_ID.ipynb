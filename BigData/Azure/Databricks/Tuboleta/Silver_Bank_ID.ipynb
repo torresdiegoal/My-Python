{
 "cells": [
  {
   "cell_type": "code",
   "execution_count": null,
   "metadata": {
    "application/vnd.databricks.v1+cell": {
     "cellMetadata": {
      "byteLimit": 2048000,
      "rowLimit": 10000
     },
     "inputWidgets": {},
     "nuid": "a5091bf0-db25-4449-875b-f7aecc1a3efa",
     "showTitle": false,
     "title": ""
    }
   },
   "outputs": [],
   "source": [
    "# Importar las bibliotecas necesarias\n",
    "from pyspark.sql import SparkSession\n",
    "from pyspark.sql.functions import col,count,desc,sum,to_date,date_format,concat_ws,format_string,to_timestamp,year,when,lit,month,date_sub,current_date,max,min\n",
    "from pyspark.sql import Window\n",
    "import pandas as pd\n",
    "\n",
    "# Crear una SparkSession\n",
    "spark = SparkSession.builder.appName(\"AzureSQL\").getOrCreate()\n",
    "\n",
    "## Credenciales BD\n",
    "inpath = \"C:/Users/diego.torres/OneDrive/Datasets/Tuboleta/Credenciales.txt\"\n",
    "keys = pd.read_csv(inpath, sep = ',')\n",
    "display(keys)\n",
    "\n",
    "# Creo variables para cada fila del DataFrame que contiene las credenciales de la bd\n",
    "for index, row in keys.iterrows():\n",
    "    variable_name = row['key']\n",
    "    variable_value = row['value']\n",
    "    globals()[variable_name] = variable_value\n",
    "\n",
    "# Configurar las propiedades de la conexión\n",
    "jdbc_url = f\"jdbc:sqlserver://{jdbc_hostname}:1433;database={jdbc_database_datamart}\"\n",
    "jdbc_properties = {\n",
    "    \"user\": user,\n",
    "    \"password\": password,\n",
    "    \"driver\": driver\n",
    "}\n",
    "\n",
    "# Conexion al Blob\n",
    "spark.conf.set(clave_blob, access_key_blob)\n"
   ]
  },
  {
   "cell_type": "code",
   "execution_count": null,
   "metadata": {
    "application/vnd.databricks.v1+cell": {
     "cellMetadata": {
      "byteLimit": 2048000,
      "rowLimit": 10000
     },
     "inputWidgets": {},
     "nuid": "6fc54eb1-a823-4051-bfec-76fc973aa6b7",
     "showTitle": false,
     "title": ""
    }
   },
   "outputs": [
    {
     "name": "stdout",
     "output_type": "stream",
     "text": [
      "5805567\n"
     ]
    }
   ],
   "source": [
    "# ## TABLA SALES\n",
    "# inpath = 'abfss://storagebi@tbdwhstorage01.dfs.core.windows.net/gold/Completo_ventas/Ds_G_sales.parquet'\n",
    "# sales = spark.read.parquet(inpath)\n",
    "# #print(sales.count())\n",
    "# #display(sales.limit(100))\n",
    "# sales.createOrReplaceTempView(\"sales_vw\")\n",
    "\n",
    "## MAESTRA MEDIOS PAGO\n",
    "inpath = 'abfss://storagebi@tbdwhstorage01.dfs.core.windows.net/Maestras/Medio_pago/maestra_medios_pago.csv'\n",
    "medios_pago = spark.read.csv(inpath,header=True, inferSchema=True, sep=';')\n",
    "#display(medios_pago)\n",
    "\n",
    "## ACCOUNT PAYMENTS\n",
    "inpath = \"abfss://storagebi@tbdwhstorage01.dfs.core.windows.net/bronze/Account_Payments/Ds_B_Acc_Payments\"\n",
    "#prueba = spark.read.csv(inpath,header=True, inferSchema=True, sep=',')\n",
    "Bank_ID = spark.read.parquet(inpath)\n",
    "print(Bank_ID.count())\n",
    "#display(identifier)"
   ]
  },
  {
   "cell_type": "code",
   "execution_count": null,
   "metadata": {
    "application/vnd.databricks.v1+cell": {
     "cellMetadata": {
      "byteLimit": 2048000,
      "rowLimit": 10000
     },
     "inputWidgets": {},
     "nuid": "43b4a6d5-44b2-48a9-952a-c2966079adee",
     "showTitle": false,
     "title": ""
    }
   },
   "outputs": [],
   "source": [
    "# Bank_ID\n",
    "Bank_ID = Bank_ID.withColumn(\"IDENTIFIER\", trim(col('IDENTIFIER'))).\\\n",
    "    filter((~col('FILE_NUMBER').isNull()) &\n",
    "           (~col('IDENTIFIER').isNull())).\\\n",
    "    withColumn(\"REFERENCE_DATE\", to_date('REFERENCE_DATE', \"dd.MM.yyyy\")).\\\n",
    "    join(medios_pago,\\\n",
    "        Bank_ID[\"PAYMENT_METHOD\"] == medios_pago[\"Medio_Pago\"],\\\n",
    "        \"left_outer\").\\\n",
    "    withColumnRenamed(\"Agrupacion_Medio_Pago\", \"Metodo_pago\").\\\n",
    "    drop(\"Medio_pago\")\n",
    "\n",
    "# print(Bank_ID.count())\n",
    "# display(Bank_ID_TC.limit(10))\n",
    "\n",
    "\n",
    "Bank_ID_TC = Bank_ID.filter(col('Metodo_pago') == 'Tarjetas')\n",
    "Bank_ID_TC.createOrReplaceTempView(\"Bank_ID_TC_vw\")\n",
    "\n",
    "\n",
    "Bank_ID_PSE = Bank_ID.filter(col('Metodo_pago') == 'PSE')\n",
    "Bank_ID_PSE.createOrReplaceTempView(\"Bank_ID_PSE_vw\")"
   ]
  },
  {
   "cell_type": "code",
   "execution_count": null,
   "metadata": {
    "application/vnd.databricks.v1+cell": {
     "cellMetadata": {
      "byteLimit": 2048000,
      "rowLimit": 10000
     },
     "inputWidgets": {},
     "nuid": "2da665f7-4f9e-450e-b017-ebe5fa07c0e2",
     "showTitle": false,
     "title": ""
    }
   },
   "outputs": [
    {
     "data": {
      "text/html": [
       "<style scoped>\n",
       "  .table-result-container {\n",
       "    max-height: 300px;\n",
       "    overflow: auto;\n",
       "  }\n",
       "  table, th, td {\n",
       "    border: 1px solid black;\n",
       "    border-collapse: collapse;\n",
       "  }\n",
       "  th, td {\n",
       "    padding: 5px;\n",
       "  }\n",
       "  th {\n",
       "    text-align: left;\n",
       "  }\n",
       "</style><div class='table-result-container'><table class='table-result'><thead style='background-color: white'><tr><th>FILE_NUMBER</th><th>IDENTIFIER</th><th>PAYMENT_METHOD</th><th>REFERENCE_DATE</th><th>PAYMENT_AMT_ITX</th><th>Metodo_pago</th></tr></thead><tbody><tr><td>12843171</td><td>288836401</td><td>Internet Safetypay</td><td>2023-08-19</td><td>1205807.0</td><td>PSE</td></tr></tbody></table></div>"
      ]
     },
     "metadata": {
      "application/vnd.databricks.v1+output": {
       "addedWidgets": {},
       "aggData": [],
       "aggError": "",
       "aggOverflow": false,
       "aggSchema": [],
       "aggSeriesLimitReached": false,
       "aggType": "",
       "arguments": {},
       "columnCustomDisplayInfos": {},
       "data": [
        [
         "12843171",
         "288836401",
         "Internet Safetypay",
         "2023-08-19",
         1205807,
         "PSE"
        ]
       ],
       "datasetInfos": [],
       "dbfsResultPath": null,
       "isJsonSchema": true,
       "metadata": {},
       "overflow": false,
       "plotOptions": {
        "customPlotOptions": {},
        "displayType": "table",
        "pivotAggregation": null,
        "pivotColumns": null,
        "xColumns": null,
        "yColumns": null
       },
       "removedWidgets": [],
       "schema": [
        {
         "metadata": "{}",
         "name": "FILE_NUMBER",
         "type": "\"string\""
        },
        {
         "metadata": "{}",
         "name": "IDENTIFIER",
         "type": "\"string\""
        },
        {
         "metadata": "{}",
         "name": "PAYMENT_METHOD",
         "type": "\"string\""
        },
        {
         "metadata": "{}",
         "name": "REFERENCE_DATE",
         "type": "\"date\""
        },
        {
         "metadata": "{}",
         "name": "PAYMENT_AMT_ITX",
         "type": "\"double\""
        },
        {
         "metadata": "{}",
         "name": "Metodo_pago",
         "type": "\"string\""
        }
       ],
       "type": "table"
      }
     },
     "output_type": "display_data"
    }
   ],
   "source": [
    "tmp = Bank_ID_PSE.filter(col('IDENTIFIER') == '288836401')\n",
    "display(tmp)\n",
    "#'979827002\t661333369\t661333369\tPSE - BBVA Colombia'"
   ]
  },
  {
   "cell_type": "code",
   "execution_count": null,
   "metadata": {
    "application/vnd.databricks.v1+cell": {
     "cellMetadata": {
      "byteLimit": 2048000,
      "rowLimit": 10000
     },
     "inputWidgets": {},
     "nuid": "7e215d27-7ef3-449a-ae10-f51d9b195838",
     "showTitle": false,
     "title": ""
    }
   },
   "outputs": [],
   "source": [
    "# MAESTRA BANK_ID_TC\n",
    "Bank_ID_TC = spark.sql(\"\"\"\n",
    "with temp1 as (\n",
    "\tselect \n",
    "\tFILE_NUMBER,\n",
    "\tIDENTIFIER,\n",
    "\tsum(PAYMENT_AMT_ITX) recaudo\n",
    "\tfrom Bank_ID_TC_vw\n",
    "\tgroup by FILE_NUMBER,IDENTIFIER)\n",
    "\n",
    "select distinct \n",
    "FILE_NUMBER,\n",
    "FIRST_VALUE(IDENTIFIER) OVER (PARTITION BY FILE_NUMBER ORDER BY recaudo desc) AS IDENTIFIER\n",
    "from temp1\n",
    "order by FILE_NUMBER\n",
    "\"\"\")\n",
    "\n",
    "# vista de dim_payments\n",
    "#dim_payments.createOrReplaceTempView(\"dim_payments_vw\")\n",
    "#Bank_ID.count()\n",
    "\n",
    "\n",
    "# MAESTRA BANK_ID_PSE\n",
    "Bank_ID_PSE = spark.sql(\"\"\"\n",
    "with temp1 as (\n",
    "\tselect \n",
    "\tFILE_NUMBER,\n",
    "\tIDENTIFIER,\n",
    "\tsum(PAYMENT_AMT_ITX) recaudo\n",
    "\tfrom Bank_ID_PSE_vw\n",
    "\tgroup by FILE_NUMBER,IDENTIFIER)\n",
    "\n",
    "select distinct \n",
    "FILE_NUMBER,\n",
    "FIRST_VALUE(IDENTIFIER) OVER (PARTITION BY FILE_NUMBER ORDER BY recaudo desc) AS IDENTIFIER\n",
    "from temp1\n",
    "order by FILE_NUMBER\n",
    "\"\"\")\n",
    "\n",
    "# vista de dim_payments\n",
    "#dim_payments.createOrReplaceTempView(\"dim_payments_vw\")\n",
    "#Bank_ID.count()"
   ]
  },
  {
   "cell_type": "code",
   "execution_count": null,
   "metadata": {
    "application/vnd.databricks.v1+cell": {
     "cellMetadata": {
      "byteLimit": 2048000,
      "rowLimit": 10000
     },
     "inputWidgets": {},
     "nuid": "405ae178-a01e-4e2e-ae4f-0429d5570235",
     "showTitle": false,
     "title": ""
    }
   },
   "outputs": [],
   "source": [
    "# from pyspark.sql import Window\n",
    "\n",
    "# # Agregar una columna que indique si es duplicado o no\n",
    "# window_spec = Window().partitionBy(\"FILE_NUMBER\").orderBy(\"FILE_NUMBER\")\n",
    "\n",
    "# df_spark = Bank_ID_PSE.withColumn(\"es_duplicado\", count(\"FILE_NUMBER\").over(window_spec) > 1)\n",
    "\n",
    "\n",
    "# # Filtrar solo las filas duplicadas\n",
    "# duplicados = df_spark.filter(\"es_duplicado\")#.select('Evento').distinct()\n",
    "\n",
    "# display(duplicados)"
   ]
  },
  {
   "cell_type": "code",
   "execution_count": null,
   "metadata": {
    "application/vnd.databricks.v1+cell": {
     "cellMetadata": {
      "byteLimit": 2048000,
      "rowLimit": 10000
     },
     "inputWidgets": {},
     "nuid": "bd7990b1-e98a-4fb5-8017-c0e3f5ddc936",
     "showTitle": false,
     "title": ""
    }
   },
   "outputs": [],
   "source": [
    "# ## TABLA AUDIENCIAS\n",
    "# inpath = \"abfss://storagebi@tbdwhstorage01.dfs.core.windows.net/gold/TU_BOLETA/Audiencias/Ds_G_audiencias.parquet\"\n",
    "# audiencias = spark.read.parquet(inpath)\n",
    "\n",
    "# tmp = audiencias.filter(col('FILE_NUMBER') == '10316317').distinct()\n",
    "# display(tmp)"
   ]
  },
  {
   "cell_type": "code",
   "execution_count": null,
   "metadata": {
    "application/vnd.databricks.v1+cell": {
     "cellMetadata": {
      "byteLimit": 2048000,
      "rowLimit": 10000
     },
     "inputWidgets": {},
     "nuid": "26f13032-f7f7-4346-990e-a499b633252c",
     "showTitle": false,
     "title": ""
    }
   },
   "outputs": [],
   "source": [
    "# IMPORTACION DE DATA DE CYBER SOURCE\n",
    "\n",
    "## febrero_2023\n",
    "inpath = 'abfss://storagebi@tbdwhstorage01.dfs.core.windows.net/bronze/Financiera/CyberSource/FEBRERO_2023.csv'\n",
    "febrero_2023 = spark.read.csv(inpath,header=True, inferSchema=True, sep=',')\n",
    "#display(febrero_2023.limit(10))\n",
    "\n",
    "## marzo_2023\n",
    "inpath = 'abfss://storagebi@tbdwhstorage01.dfs.core.windows.net/bronze/Financiera/CyberSource/MARZO 2023.csv'\n",
    "marzo_2023 = spark.read.csv(inpath,header=True, inferSchema=True, sep=',')\n",
    "\n",
    "## abril_2023\n",
    "inpath = 'abfss://storagebi@tbdwhstorage01.dfs.core.windows.net/bronze/Financiera/CyberSource/ABRIL 2023.csv'\n",
    "abril_2023 = spark.read.csv(inpath,header=True, inferSchema=True, sep=',')\n",
    "\n",
    "## mayo_2023\n",
    "inpath = 'abfss://storagebi@tbdwhstorage01.dfs.core.windows.net/bronze/Financiera/CyberSource/MAYO 2023.csv'\n",
    "mayo_2023 = spark.read.csv(inpath,header=True, inferSchema=True, sep=',')\n",
    "\n",
    "## junio_2023\n",
    "inpath = 'abfss://storagebi@tbdwhstorage01.dfs.core.windows.net/bronze/Financiera/CyberSource/JUNIO 2023.csv'\n",
    "junio_2023 = spark.read.csv(inpath,header=True, inferSchema=True, sep=',')\n",
    "\n",
    "## julio_2023\n",
    "inpath = 'abfss://storagebi@tbdwhstorage01.dfs.core.windows.net/bronze/Financiera/CyberSource/JULIO 2023.csv'\n",
    "julio_2023 = spark.read.csv(inpath,header=True, inferSchema=True, sep=',')\n",
    "\n",
    "## agosto_2023\n",
    "inpath = 'abfss://storagebi@tbdwhstorage01.dfs.core.windows.net/bronze/Financiera/CyberSource/AGOSTO 2023.csv'\n",
    "agosto_2023 = spark.read.csv(inpath,header=True, inferSchema=True, sep=',')\n",
    "\n",
    "## septiembre_2023\n",
    "inpath = 'abfss://storagebi@tbdwhstorage01.dfs.core.windows.net/bronze/Financiera/CyberSource/SEPTIEMBRE 2023.csv'\n",
    "septiembre_2023 = spark.read.csv(inpath,header=True, inferSchema=True, sep=',')\n",
    "\n",
    "## octubre_2023\n",
    "inpath = 'abfss://storagebi@tbdwhstorage01.dfs.core.windows.net/bronze/Financiera/CyberSource/OCTUBRE 2023.csv'\n",
    "octubre_2023 = spark.read.csv(inpath,header=True, inferSchema=True, sep=',')\n",
    "\n",
    "## octubre_2023\n",
    "inpath = 'abfss://storagebi@tbdwhstorage01.dfs.core.windows.net/bronze/Financiera/CyberSource/OCTUBRE 2023.csv'\n",
    "octubre_2023 = spark.read.csv(inpath,header=True, inferSchema=True, sep=',')\n",
    "\n",
    "## noviembre_2023\n",
    "inpath = 'abfss://storagebi@tbdwhstorage01.dfs.core.windows.net/bronze/Financiera/CyberSource/NOVIEMBRE 2023.csv'\n",
    "noviembre_2023 = spark.read.csv(inpath,header=True, inferSchema=True, sep=',')\n",
    "\n",
    "## diciembre_2023\n",
    "inpath = 'abfss://storagebi@tbdwhstorage01.dfs.core.windows.net/bronze/Financiera/CyberSource/DICIEMBRE 2023.csv'\n",
    "diciembre_2023 = spark.read.csv(inpath,header=True, inferSchema=True, sep=',')\n",
    "\n",
    "## enero_2024\n",
    "inpath = 'abfss://storagebi@tbdwhstorage01.dfs.core.windows.net/bronze/Financiera/CyberSource/enero 2024.csv'\n",
    "enero_2024 = spark.read.csv(inpath,header=True, inferSchema=True, sep=';')\n",
    "\n",
    "## febrero_2024\n",
    "inpath = 'abfss://storagebi@tbdwhstorage01.dfs.core.windows.net/bronze/Financiera/CyberSource/febrero 2024.csv'\n",
    "febrero_2024 = spark.read.csv(inpath,header=True, inferSchema=True, sep=';')\n",
    "\n",
    "## marzo_2024\n",
    "inpath = 'abfss://storagebi@tbdwhstorage01.dfs.core.windows.net/bronze/Financiera/CyberSource/marzo 2024.csv'\n",
    "marzo_2024 = spark.read.csv(inpath,header=True, inferSchema=True, sep=';')\n",
    "\n",
    "## abril_2024\n",
    "inpath = 'abfss://storagebi@tbdwhstorage01.dfs.core.windows.net/bronze/Financiera/CyberSource/abril 2024.csv'\n",
    "abril_2024 = spark.read.csv(inpath,header=True, inferSchema=True, sep=';')\n",
    "\n",
    "## mayo_2024\n",
    "inpath = 'abfss://storagebi@tbdwhstorage01.dfs.core.windows.net/bronze/Financiera/CyberSource/mayo 2024.csv'\n",
    "mayo_2024 = spark.read.csv(inpath,header=True, inferSchema=True, sep=';')\n",
    "\n",
    "## junio_2024\n",
    "inpath = 'abfss://storagebi@tbdwhstorage01.dfs.core.windows.net/bronze/Financiera/CyberSource/junio 2024.csv'\n",
    "junio_2024 = spark.read.csv(inpath,header=True, inferSchema=True, sep=';')"
   ]
  },
  {
   "cell_type": "code",
   "execution_count": null,
   "metadata": {
    "application/vnd.databricks.v1+cell": {
     "cellMetadata": {
      "byteLimit": 2048000,
      "rowLimit": 10000
     },
     "inputWidgets": {},
     "nuid": "6ea2c6ba-0eb0-47e5-867d-088c1660726c",
     "showTitle": false,
     "title": ""
    }
   },
   "outputs": [],
   "source": [
    "# Transformaciones\n",
    "columnas = [\"MerchantReferenceNumber\",\"CardType\",\"BinIssuer\"]\n",
    "\n",
    "## Seleccion de columnas ###\n",
    "febrero_2023 = febrero_2023.filter(col('OverallReasonCode') == 100).select(columnas).distinct()\n",
    "marzo_2023 = marzo_2023.filter(col('OverallReasonCode') == 100).select(columnas).distinct()\n",
    "abril_2023 = abril_2023.filter(col('OverallReasonCode') == 100).select(columnas).distinct()\n",
    "mayo_2023 = mayo_2023.filter(col('OverallReasonCode') == 100).select(columnas).distinct()\n",
    "junio_2023 = junio_2023.filter(col('OverallReasonCode') == 100).select(columnas).distinct()\n",
    "julio_2023 = julio_2023.filter(col('OverallReasonCode') == 100).select(columnas).distinct()\n",
    "agosto_2023 = agosto_2023.filter(col('OverallReasonCode') == 100).select(columnas).distinct()\n",
    "septiembre_2023 = septiembre_2023.filter(col('OverallReasonCode') == 100).select(columnas).distinct()\n",
    "octubre_2023 = octubre_2023.filter(col('OverallReasonCode') == 100).select(columnas).distinct()\n",
    "noviembre_2023 = noviembre_2023.filter(col('OverallReasonCode') == 100).select(columnas).distinct()\n",
    "diciembre_2023 = diciembre_2023.filter(col('OverallReasonCode') == 100).select(columnas).distinct()\n",
    "enero_2024 = enero_2024.filter(col('OverallReasonCode') == 100).select(columnas).distinct()\n",
    "febrero_2024 = febrero_2024.filter(col('OverallReasonCode') == 100).select(columnas).distinct()\n",
    "marzo_2024 = marzo_2024.filter(col('OverallReasonCode') == 100).select(columnas).distinct()\n",
    "abril_2024 = abril_2024.filter(col('OverallReasonCode') == 100).select(columnas).distinct()\n",
    "mayo_2024 = mayo_2024.filter(col('OverallReasonCode') == 100).select(columnas).distinct()\n",
    "junio_2024 = junio_2024.filter(col('OverallReasonCode') == 100).select(columnas).distinct()"
   ]
  },
  {
   "cell_type": "code",
   "execution_count": null,
   "metadata": {
    "application/vnd.databricks.v1+cell": {
     "cellMetadata": {
      "byteLimit": 2048000,
      "rowLimit": 10000
     },
     "inputWidgets": {},
     "nuid": "aebc8265-dad7-44e0-aca2-96ee4c3d17c6",
     "showTitle": false,
     "title": ""
    }
   },
   "outputs": [
    {
     "name": "stdout",
     "output_type": "stream",
     "text": [
      "923321\n"
     ]
    }
   ],
   "source": [
    "# UNION\n",
    "cybersource = febrero_2023.union(marzo_2023).union(abril_2023).union(mayo_2023).union(junio_2023).union(julio_2023).union(agosto_2023).union(septiembre_2023).union(octubre_2023).union(noviembre_2023).union(diciembre_2023).\\\n",
    "    union(enero_2024).union(febrero_2024).union(marzo_2024).union(abril_2024).union(mayo_2024).union(junio_2024)\n",
    "\n",
    "print(cybersource.count())"
   ]
  },
  {
   "cell_type": "code",
   "execution_count": null,
   "metadata": {
    "application/vnd.databricks.v1+cell": {
     "cellMetadata": {
      "byteLimit": 2048000,
      "rowLimit": 10000
     },
     "inputWidgets": {},
     "nuid": "12c79e16-9eb0-4c3d-93ac-75d614b064ce",
     "showTitle": false,
     "title": ""
    }
   },
   "outputs": [],
   "source": [
    "# tmp = cybersource.select('MerchantReferenceNumber').distinct()\n",
    "# print(tmp.count())"
   ]
  },
  {
   "cell_type": "code",
   "execution_count": null,
   "metadata": {
    "application/vnd.databricks.v1+cell": {
     "cellMetadata": {
      "byteLimit": 2048000,
      "rowLimit": 10000
     },
     "inputWidgets": {},
     "nuid": "0243d9d4-92e8-4c4f-bafb-89763de8f5d3",
     "showTitle": false,
     "title": ""
    }
   },
   "outputs": [],
   "source": [
    "# tmp = cybersource.groupBy('CardType').agg(count(\"CardType\").alias(\"count\"))\n",
    "# display(tmp)"
   ]
  },
  {
   "cell_type": "code",
   "execution_count": null,
   "metadata": {
    "application/vnd.databricks.v1+cell": {
     "cellMetadata": {
      "byteLimit": 2048000,
      "rowLimit": 10000
     },
     "inputWidgets": {},
     "nuid": "7ed09884-4283-4747-9a45-57337ca45c79",
     "showTitle": false,
     "title": ""
    }
   },
   "outputs": [],
   "source": [
    "# tmp = cybersource.filter(col('CardType') == 'Diners Club').orderBy(col('BinIssuer').desc()) # 98 bancos no nulos\n",
    "# display(tmp)\n",
    "# print(tmp.count())"
   ]
  },
  {
   "cell_type": "code",
   "execution_count": null,
   "metadata": {
    "application/vnd.databricks.v1+cell": {
     "cellMetadata": {
      "byteLimit": 2048000,
      "rowLimit": 10000
     },
     "inputWidgets": {},
     "nuid": "1bf59893-cdae-4d1d-984e-c948162e373b",
     "showTitle": false,
     "title": ""
    }
   },
   "outputs": [],
   "source": [
    "# tmp_ = tmp.filter((col('CardType').isNotNull()) &\n",
    "#            (col('BinIssuer').isNotNull()))\n",
    "\n",
    "# display(tmp_)"
   ]
  },
  {
   "cell_type": "code",
   "execution_count": null,
   "metadata": {
    "application/vnd.databricks.v1+cell": {
     "cellMetadata": {
      "byteLimit": 2048000,
      "rowLimit": 10000
     },
     "inputWidgets": {},
     "nuid": "c0d8fc5d-78ed-4093-b75c-f0b66bcd7b1e",
     "showTitle": false,
     "title": ""
    }
   },
   "outputs": [],
   "source": [
    "#print(sales.count())\n",
    "#sales.createOrReplaceTempView(\"sales_vw\")\n",
    "# print(cybersource.count())\n",
    "#tmp = cybersource_.select('MerchantReferenceNumber').distinct()\n",
    "# print(tmp.count())"
   ]
  },
  {
   "cell_type": "code",
   "execution_count": null,
   "metadata": {
    "application/vnd.databricks.v1+cell": {
     "cellMetadata": {
      "byteLimit": 2048000,
      "rowLimit": 10000
     },
     "inputWidgets": {},
     "nuid": "fddc6ded-b079-4a4c-ac4e-7f38a47abe30",
     "showTitle": true,
     "title": "DUPLICADOS Y NO DUPLICADOS"
    }
   },
   "outputs": [
    {
     "name": "stdout",
     "output_type": "stream",
     "text": [
      "248760\n",
      "671586\n"
     ]
    }
   ],
   "source": [
    "from pyspark.sql import Window\n",
    "\n",
    "# Agregar una columna que indique si es duplicado o no\n",
    "window_spec = Window().partitionBy(\"MerchantReferenceNumber\").orderBy(\"MerchantReferenceNumber\")\n",
    "\n",
    "df_spark = cybersource.withColumn(\"es_duplicado\", count(\"MerchantReferenceNumber\").over(window_spec) > 1)\n",
    "\n",
    "# Filtrar solo las filas duplicadas\n",
    "duplicados = df_spark.filter(\"es_duplicado\").\\\n",
    "    drop('es_duplicado').distinct()\n",
    "\n",
    "# Filtrar solo las filas que NO son duplicadas\n",
    "no_duplicados = df_spark.filter(~col(\"es_duplicado\")).\\\n",
    "    drop('es_duplicado').distinct()\n",
    "\n",
    "print(duplicados.count())\n",
    "print(no_duplicados.count())\n",
    "#display(duplicados.limit(100))"
   ]
  },
  {
   "cell_type": "code",
   "execution_count": null,
   "metadata": {
    "application/vnd.databricks.v1+cell": {
     "cellMetadata": {
      "byteLimit": 2048000,
      "rowLimit": 10000
     },
     "inputWidgets": {},
     "nuid": "fe34563f-56b7-433b-9388-7349cef32fea",
     "showTitle": false,
     "title": ""
    }
   },
   "outputs": [],
   "source": [
    "# tmp = duplicados.select('MerchantReferenceNumber').distinct()\n",
    "# print(tmp.count())"
   ]
  },
  {
   "cell_type": "code",
   "execution_count": null,
   "metadata": {
    "application/vnd.databricks.v1+cell": {
     "cellMetadata": {
      "byteLimit": 2048000,
      "rowLimit": 10000
     },
     "inputWidgets": {},
     "nuid": "10b09051-b5a2-4636-86e7-adfb1c13eca1",
     "showTitle": false,
     "title": ""
    }
   },
   "outputs": [],
   "source": [
    "# tmp = duplicados.filter((col('CardType').isNull()) |\n",
    "#            (col('BinIssuer').isNull()))\n",
    "# display(tmp.limit(100))\n",
    "# print(tmp.count())"
   ]
  },
  {
   "cell_type": "code",
   "execution_count": null,
   "metadata": {
    "application/vnd.databricks.v1+cell": {
     "cellMetadata": {
      "byteLimit": 2048000,
      "rowLimit": 10000
     },
     "inputWidgets": {},
     "nuid": "dba3c6de-5e52-4e07-8e7a-083936a712c1",
     "showTitle": false,
     "title": ""
    }
   },
   "outputs": [],
   "source": [
    "duplicados = duplicados.filter((col('CardType').isNotNull()) &\n",
    "           (col('BinIssuer').isNotNull()))\n",
    "#display(tmp.limit(100))\n",
    "#print(tmp.count())\n",
    "\n",
    "# tmp = duplicados.select('MerchantReferenceNumber').distinct()\n",
    "# print(tmp.count())"
   ]
  },
  {
   "cell_type": "code",
   "execution_count": null,
   "metadata": {
    "application/vnd.databricks.v1+cell": {
     "cellMetadata": {
      "byteLimit": 2048000,
      "rowLimit": 10000
     },
     "inputWidgets": {},
     "nuid": "d17af6d9-41a7-4630-84b1-260dc760d6df",
     "showTitle": false,
     "title": ""
    }
   },
   "outputs": [],
   "source": [
    "# tmp = duplicados.filter(col('MerchantReferenceNumber') == '1000032231')\n",
    "# display(tmp)"
   ]
  },
  {
   "cell_type": "code",
   "execution_count": null,
   "metadata": {
    "application/vnd.databricks.v1+cell": {
     "cellMetadata": {
      "byteLimit": 2048000,
      "rowLimit": 10000
     },
     "inputWidgets": {},
     "nuid": "6091b579-8bfe-418b-99b8-c45e54c2cf0f",
     "showTitle": false,
     "title": ""
    }
   },
   "outputs": [
    {
     "name": "stdout",
     "output_type": "stream",
     "text": [
      "4491\n"
     ]
    }
   ],
   "source": [
    "## SEGUNDA VALIDACION DE DUPLICADOS\n",
    "\n",
    "# Agregar una columna que indique si es duplicado o no\n",
    "window_spec = Window().partitionBy(\"MerchantReferenceNumber\").orderBy(\"MerchantReferenceNumber\")\n",
    "\n",
    "df_spark = duplicados.withColumn(\"es_duplicado\", count(\"MerchantReferenceNumber\").over(window_spec) > 1)\n",
    "\n",
    "\n",
    "# Filtrar solo las filas duplicadas\n",
    "duplicados_2 = df_spark.filter(\"es_duplicado\").\\\n",
    "    drop('es_duplicado').distinct()\n",
    "\n",
    "print(duplicados_2.count())\n",
    "# display(duplicados_2)"
   ]
  },
  {
   "cell_type": "code",
   "execution_count": null,
   "metadata": {
    "application/vnd.databricks.v1+cell": {
     "cellMetadata": {
      "byteLimit": 2048000,
      "rowLimit": 10000
     },
     "inputWidgets": {},
     "nuid": "482ecd24-4b03-470c-ad15-d71c137cbb8e",
     "showTitle": false,
     "title": ""
    }
   },
   "outputs": [
    {
     "name": "stdout",
     "output_type": "stream",
     "text": [
      "107\n"
     ]
    }
   ],
   "source": [
    "codigos = duplicados_2.select('MerchantReferenceNumber').distinct().collect()\n",
    "#print(tmp.count())\n",
    "# display(codigos)\n",
    "\n",
    "# codigos_2 = duplicados_2.select('MerchantReferenceNumber').distinct().collect()\n",
    "\n",
    "# Extraer y guardar los ids en una lista con list comprehention\n",
    "codigos = [row.MerchantReferenceNumber for row in codigos]\n",
    "\n",
    "#cybersource_ = cybersource.filter(~col('MerchantReferenceNumber').isin(codigos))\n",
    "duplicados_ = duplicados.filter(~col('MerchantReferenceNumber').isin(codigos))\n",
    "\n",
    "\n",
    "# UNO\n",
    "cybersource_union = no_duplicados.union(duplicados_).\\\n",
    "    filter(col('MerchantReferenceNumber').isNull())\n",
    "\n",
    "print(cybersource_union.count())"
   ]
  },
  {
   "cell_type": "code",
   "execution_count": null,
   "metadata": {
    "application/vnd.databricks.v1+cell": {
     "cellMetadata": {
      "byteLimit": 2048000,
      "rowLimit": 10000
     },
     "inputWidgets": {},
     "nuid": "be9b0904-6c31-41de-a3b6-356407572b44",
     "showTitle": false,
     "title": ""
    }
   },
   "outputs": [
    {
     "name": "stdout",
     "output_type": "stream",
     "text": [
      "1\n"
     ]
    }
   ],
   "source": [
    "# print(Bank_ID.count())\n",
    "# print(cybersource.count())\n",
    "tmp = cybersource_union.select('MerchantReferenceNumber').distinct()\n",
    "print(tmp.count())"
   ]
  },
  {
   "cell_type": "code",
   "execution_count": null,
   "metadata": {
    "application/vnd.databricks.v1+cell": {
     "cellMetadata": {
      "byteLimit": 2048000,
      "rowLimit": 10000
     },
     "inputWidgets": {},
     "nuid": "108fee8e-49cf-4063-8926-0a5c2cd833e5",
     "showTitle": false,
     "title": ""
    }
   },
   "outputs": [],
   "source": [
    "# tmp = cybersource_union.filter(col('MerchantReferenceNumber').isNull())\n",
    "# display(tmp)"
   ]
  },
  {
   "cell_type": "code",
   "execution_count": null,
   "metadata": {
    "application/vnd.databricks.v1+cell": {
     "cellMetadata": {
      "byteLimit": 2048000,
      "rowLimit": 10000
     },
     "inputWidgets": {},
     "nuid": "9f2c1775-b231-443a-a40b-10ba32f1078a",
     "showTitle": false,
     "title": ""
    }
   },
   "outputs": [],
   "source": [
    "# MAESTRA BANK_ID_TC\n",
    "Bank_ID_joined = Bank_ID.join(cybersource,\\\n",
    "    Bank_ID[\"IDENTIFIER\"] == cybersource[\"MerchantReferenceNumber\"],\\\n",
    "    \"left_outer\").\\\n",
    "    drop(\"MerchantReferenceNumber\").\\\n",
    "    withColumnRenamed(\"FILE_NUMBER\", \"Expediente\")\n",
    "#display(Bank_ID.limit(10))"
   ]
  },
  {
   "cell_type": "code",
   "execution_count": null,
   "metadata": {
    "application/vnd.databricks.v1+cell": {
     "cellMetadata": {
      "byteLimit": 2048000,
      "rowLimit": 10000
     },
     "inputWidgets": {},
     "nuid": "8c0f1c8a-60fe-420f-98f8-38d792db7156",
     "showTitle": false,
     "title": ""
    }
   },
   "outputs": [],
   "source": [
    "# Replace null values with a placeholder\n",
    "Bank_ID_filled = Bank_ID_joined.na.fill({'CardType': 'Desconocido', 'BinIssuer': 'Desconocido'})\n",
    "\n",
    "#print(Bank_ID.count())\n",
    "#display(Bank_ID.limit(10))"
   ]
  },
  {
   "cell_type": "code",
   "execution_count": null,
   "metadata": {
    "application/vnd.databricks.v1+cell": {
     "cellMetadata": {
      "byteLimit": 2048000,
      "rowLimit": 10000
     },
     "inputWidgets": {},
     "nuid": "fa50efe1-ab94-4e1e-89a6-f0151c2656d2",
     "showTitle": false,
     "title": ""
    }
   },
   "outputs": [],
   "source": [
    "# tmp = Bank_ID_filled.groupBy('CardType').agg(count(\"CardType\").alias(\"count\"))\n",
    "# display(tmp)\n",
    "\n",
    "# tmp = Bank_ID_filled.groupBy('BinIssuer').agg(count(\"BinIssuer\").alias(\"count\"))\n",
    "# display(tmp)"
   ]
  },
  {
   "cell_type": "code",
   "execution_count": null,
   "metadata": {
    "application/vnd.databricks.v1+cell": {
     "cellMetadata": {
      "byteLimit": 2048000,
      "rowLimit": 10000
     },
     "inputWidgets": {},
     "nuid": "091af8d4-58cd-439b-9fdc-01c9b27a110c",
     "showTitle": false,
     "title": ""
    }
   },
   "outputs": [
    {
     "data": {
      "text/plain": [
       "True"
      ]
     },
     "execution_count": 77,
     "metadata": {},
     "output_type": "execute_result"
    }
   ],
   "source": [
    "# Impresion\n",
    "# Guarda el DataFrame en formato Parquet en Azure Blob Storage\n",
    "inpath = 'abfss://storagebi@tbdwhstorage01.dfs.core.windows.net/silver/Bank_ID/TC/'\n",
    "\n",
    "join_df_coalesced = Bank_ID_filled.coalesce(1)\n",
    "join_df_coalesced.write.mode(\"overwrite\").parquet(inpath)\n",
    "#join_df_coalesced.write.mode(\"overwrite\").orc(path_parquet_snappy)\n",
    "\n",
    "#cambio de nombre\n",
    "files=dbutils.fs.ls(inpath)\n",
    "output_file= [x for x in files if x.name.startswith(\"part-\")]\n",
    "\n",
    "# EN la misma carpeta de origen\n",
    "dbutils.fs.mv(output_file[0].path, f\"{inpath}/Ds_S_Bank_ID_TC.parquet\")"
   ]
  },
  {
   "cell_type": "markdown",
   "metadata": {
    "application/vnd.databricks.v1+cell": {
     "cellMetadata": {
      "byteLimit": 2048000,
      "rowLimit": 10000
     },
     "inputWidgets": {},
     "nuid": "6a8c54a6-06d2-40d3-918d-3dfd2629159e",
     "showTitle": false,
     "title": ""
    }
   },
   "source": [
    "## PSE"
   ]
  },
  {
   "cell_type": "markdown",
   "metadata": {
    "application/vnd.databricks.v1+cell": {
     "cellMetadata": {
      "byteLimit": 2048000,
      "rowLimit": 10000
     },
     "inputWidgets": {},
     "nuid": "41b7736d-3d89-4e9a-b100-1e1bb198cfc7",
     "showTitle": false,
     "title": ""
    }
   },
   "source": [
    "### Importacion de csv's"
   ]
  },
  {
   "cell_type": "code",
   "execution_count": null,
   "metadata": {
    "application/vnd.databricks.v1+cell": {
     "cellMetadata": {
      "byteLimit": 2048000,
      "rowLimit": 10000
     },
     "inputWidgets": {},
     "nuid": "c069e58b-7761-454d-bbb1-2337494210ab",
     "showTitle": false,
     "title": ""
    }
   },
   "outputs": [],
   "source": [
    "# #### TABLAS ACH\n",
    "# ## ACH enero 2023\n",
    "# inpath = 'abfss://storagebi@tbdwhstorage01.dfs.core.windows.net/bronze/Financiera/PSE/CONCILIACION PSE ENERO ach.csv'\n",
    "# ACH_enero_2023 = spark.read.csv(inpath,header=True, inferSchema=True, sep=';')\n",
    "\n",
    "# ## ACH febrero 2023\n",
    "# inpath = 'abfss://storagebi@tbdwhstorage01.dfs.core.windows.net/bronze/Financiera/PSE/CONCILIACION FEBRERO PSE ach.csv'\n",
    "# ACH_febrero_2023 = spark.read.csv(inpath,header=True, inferSchema=True, sep=';')\n",
    "\n",
    "# ## ACH marzo 2023\n",
    "# inpath = 'abfss://storagebi@tbdwhstorage01.dfs.core.windows.net/bronze/Financiera/PSE/CONCILIACION PSE MAR ach.csv'\n",
    "# ACH_marzo_2023 = spark.read.csv(inpath,header=True, inferSchema=True, sep=';')\n",
    "\n",
    "# ## ACH abril 2023\n",
    "# inpath = 'abfss://storagebi@tbdwhstorage01.dfs.core.windows.net/bronze/Financiera/PSE/Conciliación PSE ach.csv'\n",
    "# ACH_abril_2023 = spark.read.csv(inpath,header=True, inferSchema=True, sep=';')\n",
    "\n",
    "# ## ACH mayo 2023\n",
    "# inpath = 'abfss://storagebi@tbdwhstorage01.dfs.core.windows.net/bronze/Financiera/PSE/ACH MAYO.csv'\n",
    "# ACH_mayo_2023 = spark.read.csv(inpath,header=True, inferSchema=True, sep=';')\n",
    "\n",
    "# ## ACH junio 2023\n",
    "# inpath = 'abfss://storagebi@tbdwhstorage01.dfs.core.windows.net/bronze/Financiera/PSE/CONCILIACION PSE JUN COMPLETA Ach.csv'\n",
    "# ACH_junio_2023 = spark.read.csv(inpath,header=True, inferSchema=True, sep=';')"
   ]
  },
  {
   "cell_type": "code",
   "execution_count": null,
   "metadata": {
    "application/vnd.databricks.v1+cell": {
     "cellMetadata": {
      "byteLimit": 2048000,
      "rowLimit": 10000
     },
     "inputWidgets": {},
     "nuid": "0e503909-c74b-4a86-bce3-53750eeae463",
     "showTitle": false,
     "title": ""
    }
   },
   "outputs": [],
   "source": [
    "# display(ACH_junio_2023.limit(10))"
   ]
  },
  {
   "cell_type": "code",
   "execution_count": null,
   "metadata": {
    "application/vnd.databricks.v1+cell": {
     "cellMetadata": {
      "byteLimit": 2048000,
      "rowLimit": 10000
     },
     "inputWidgets": {},
     "nuid": "0edbc0bd-af31-434d-8d41-724340b24bd2",
     "showTitle": false,
     "title": ""
    }
   },
   "outputs": [],
   "source": [
    "# # columnas a seleccionar\n",
    "# columnas = ['Ticket ID',\"Valor\",\"Banco Originador\",'Fecha_Hora']\n",
    "\n",
    "# ACH_enero_2023 = ACH_enero_2023.withColumnRenamed(' Valor ', 'Valor').\\\n",
    "#     withColumnRenamed('Fecha-Hora creada', 'Fecha_Hora').\\\n",
    "#     select(columnas).distinct()\n",
    "\n",
    "# ACH_febrero_2023 = ACH_febrero_2023.withColumnRenamed('Fecha-Hora creada', 'Fecha_Hora').\\\n",
    "#     select(columnas).distinct()\n",
    "\n",
    "# ACH_marzo_2023 = ACH_marzo_2023.withColumnRenamed(' Valor ', 'Valor').\\\n",
    "#     withColumnRenamed('Fecha-Hora creada', 'Fecha_Hora').\\\n",
    "#     select(columnas).distinct()\n",
    "\n",
    "# ACH_abril_2023 = ACH_abril_2023.withColumnRenamed(' Valor ', 'Valor').\\\n",
    "#     withColumnRenamed('Fecha-Hora', 'Fecha_Hora').\\\n",
    "#     select(columnas).distinct()\n",
    "\n",
    "# ACH_mayo_2023 = ACH_mayo_2023.withColumnRenamed('Fecha-Hora creada', 'Fecha_Hora').\\\n",
    "#     select(columnas).distinct()\n",
    "\n",
    "# ACH_junio_2023 = ACH_junio_2023.withColumnRenamed(' Valor ', 'Valor').\\\n",
    "#     withColumnRenamed('Fecha-Hora', 'Fecha_Hora').\\\n",
    "#     select(columnas).distinct()\n",
    "\n",
    "\n",
    "# # UNION\n",
    "# ACH_2023 = ACH_enero_2023.union(ACH_febrero_2023).union(ACH_marzo_2023).union(ACH_abril_2023).union(ACH_mayo_2023).union(ACH_junio_2023)\n",
    "\n"
   ]
  },
  {
   "cell_type": "code",
   "execution_count": null,
   "metadata": {
    "application/vnd.databricks.v1+cell": {
     "cellMetadata": {
      "byteLimit": 2048000,
      "rowLimit": 10000
     },
     "inputWidgets": {},
     "nuid": "6d20b681-676d-43e8-bf24-649c60e93ea1",
     "showTitle": false,
     "title": ""
    }
   },
   "outputs": [],
   "source": [
    "# # columnas a seleccionar\n",
    "# columnas = ['Ticket ID',\"Valor\",\"Banco Originador\"]\n",
    "\n",
    "# ACH_enero_2023 = ACH_enero_2023.withColumnRenamed(' Valor ', 'Valor').\\\n",
    "#     select(columnas).distinct()\n",
    "\n",
    "# ACH_febrero_2023 = ACH_febrero_2023.select(columnas).distinct()\n",
    "\n",
    "# ACH_marzo_2023 = ACH_marzo_2023.withColumnRenamed(' Valor ', 'Valor').\\\n",
    "#     select(columnas).distinct()\n",
    "\n",
    "# ACH_abril_2023 = ACH_abril_2023.withColumnRenamed(' Valor ', 'Valor').\\\n",
    "#     select(columnas).distinct()\n",
    "\n",
    "# ACH_mayo_2023 = ACH_mayo_2023.select(columnas).distinct()\n",
    "\n",
    "# ACH_junio_2023 = ACH_junio_2023.withColumnRenamed(' Valor ', 'Valor').\\\n",
    "#     select(columnas).distinct()\n",
    "\n",
    "\n",
    "# # UNION\n",
    "# ACH_2023 = ACH_enero_2023.union(ACH_febrero_2023).union(ACH_marzo_2023).union(ACH_abril_2023).union(ACH_mayo_2023).union(ACH_junio_2023)"
   ]
  },
  {
   "cell_type": "code",
   "execution_count": null,
   "metadata": {
    "application/vnd.databricks.v1+cell": {
     "cellMetadata": {
      "byteLimit": 2048000,
      "rowLimit": 10000
     },
     "inputWidgets": {},
     "nuid": "eeefc5e9-7e4a-4ff0-a471-45e976ce8d23",
     "showTitle": false,
     "title": ""
    }
   },
   "outputs": [],
   "source": [
    "# columnas = ['Ticket ID',\"Valor\"]\n",
    "# ACH_2023 = ACH_2023.withColumn('llave_ach',concat_ws(\"|\", *columnas))"
   ]
  },
  {
   "cell_type": "code",
   "execution_count": null,
   "metadata": {
    "application/vnd.databricks.v1+cell": {
     "cellMetadata": {
      "byteLimit": 2048000,
      "rowLimit": 10000
     },
     "inputWidgets": {},
     "nuid": "ac92a4c6-3e8b-44d6-9b46-549619ba2c09",
     "showTitle": false,
     "title": ""
    }
   },
   "outputs": [],
   "source": [
    "# print(ACH_2023.count())\n",
    "# #display(Bank_ID.limit(10))\n",
    "\n",
    "# tmp = ACH_2023.select('llave_ach').distinct()\n",
    "# print(tmp.count())"
   ]
  },
  {
   "cell_type": "code",
   "execution_count": null,
   "metadata": {
    "application/vnd.databricks.v1+cell": {
     "cellMetadata": {
      "byteLimit": 2048000,
      "rowLimit": 10000
     },
     "inputWidgets": {},
     "nuid": "b3165043-c17d-4320-a972-74b5e9868f6d",
     "showTitle": false,
     "title": ""
    }
   },
   "outputs": [],
   "source": [
    "# ## SEGUNDA VALIDACION DE DUPLICADOS\n",
    "\n",
    "# # Agregar una columna que indique si es duplicado o no\n",
    "# window_spec = Window().partitionBy(\"llave_ach\").orderBy(\"llave_ach\")\n",
    "\n",
    "# df_spark = ACH_2023.withColumn(\"es_duplicado\", count(\"llave_ach\").over(window_spec) > 1)\n",
    "\n",
    "\n",
    "# # Filtrar solo las filas duplicadas\n",
    "# duplicados = df_spark.filter(\"es_duplicado\").\\\n",
    "#     drop('es_duplicado').distinct()\n",
    "\n",
    "# print(duplicados.count())\n",
    "# display(duplicados)"
   ]
  },
  {
   "cell_type": "code",
   "execution_count": null,
   "metadata": {
    "application/vnd.databricks.v1+cell": {
     "cellMetadata": {
      "byteLimit": 2048000,
      "rowLimit": 10000
     },
     "inputWidgets": {},
     "nuid": "3d5d6ea8-ba6a-467f-9c08-8c583f3f0d3a",
     "showTitle": false,
     "title": ""
    }
   },
   "outputs": [],
   "source": [
    "# tmp = ACH_2023.filter(col('Ticket ID') == '108326')\n",
    "# display(tmp)\n"
   ]
  },
  {
   "cell_type": "code",
   "execution_count": null,
   "metadata": {
    "application/vnd.databricks.v1+cell": {
     "cellMetadata": {
      "byteLimit": 2048000,
      "rowLimit": 10000
     },
     "inputWidgets": {},
     "nuid": "93b48e8d-ea97-40a7-a1e8-9570f4f416ee",
     "showTitle": false,
     "title": ""
    }
   },
   "outputs": [],
   "source": [
    "###################################### Ingenico ############################\n",
    "## CONCILIACION PSE ENERO Ingenico.csv\n",
    "inpath = 'abfss://storagebi@tbdwhstorage01.dfs.core.windows.net/bronze/Financiera/PSE/CONCILIACION PSE ENERO Ingenico.csv'\n",
    "PSE_ENERO_Ingenico = spark.read.csv(inpath,header=True, inferSchema=True, sep=';')\n",
    "\n",
    "## CONCILIACION FEBRERO PSE Ingenico.csv\n",
    "inpath = 'abfss://storagebi@tbdwhstorage01.dfs.core.windows.net/bronze/Financiera/PSE/CONCILIACION FEBRERO PSE Ingenico.csv'\n",
    "PSE_FEBRERO_Ingenico = spark.read.csv(inpath,header=True, inferSchema=True, sep=';')\n",
    "\n",
    "## CONCILIACION PSE MAR Ingenico.csv\n",
    "inpath = 'abfss://storagebi@tbdwhstorage01.dfs.core.windows.net/bronze/Financiera/PSE/CONCILIACION PSE MAR Ingenico.csv'\n",
    "PSE_MARZO_Ingenico = spark.read.csv(inpath,header=True, inferSchema=True, sep=';')\n",
    "\n",
    "## Conciliación PSE Ingenico Abril.csv\n",
    "inpath = 'abfss://storagebi@tbdwhstorage01.dfs.core.windows.net/bronze/Financiera/PSE/Conciliación PSE Ingenico.csv'\n",
    "PSE_ABRIL_Ingenico = spark.read.csv(inpath,header=True, inferSchema=True, sep=';')\n",
    "\n",
    "## CONCILIACION PSE 01 AL 15 ingenico.csv   (creo que es mayo)\n",
    "inpath = 'abfss://storagebi@tbdwhstorage01.dfs.core.windows.net/bronze/Financiera/PSE/CONCILIACION PSE 01 AL 15 ingenico.csv'\n",
    "PSE_MAYO_1_ingenico = spark.read.csv(inpath,header=True, inferSchema=True, sep=';')\n",
    "\n",
    "## CONCILIACION PSE 16 AL 28 Ingenico.csv   (creo qe es mayo)\n",
    "inpath = 'abfss://storagebi@tbdwhstorage01.dfs.core.windows.net/bronze/Financiera/PSE/CONCILIACION PSE 16 AL 28 Ingenico.csv'\n",
    "PSE_MAYO_2_ingenico = spark.read.csv(inpath,header=True, inferSchema=True, sep=';')\n",
    "\n",
    "## CONCILIACION PSE 29 AL 31 MAYO ingenico.csv\n",
    "inpath = 'abfss://storagebi@tbdwhstorage01.dfs.core.windows.net/bronze/Financiera/PSE/CONCILIACION PSE 29 AL 31 MAYO ingenico.csv'\n",
    "PSE_MAYO_3_ingenico = spark.read.csv(inpath,header=True, inferSchema=True, sep=';')\n",
    "\n",
    "## CONCILIACION PSE JUN COMPLETA Ingenico\n",
    "inpath = 'abfss://storagebi@tbdwhstorage01.dfs.core.windows.net/bronze/Financiera/PSE/CONCILIACION PSE JUN COMPLETA Ingenico.csv'\n",
    "PSE_JUNIO_ingenico = spark.read.csv(inpath,header=True, inferSchema=True, sep=';')\n",
    "\n",
    "\n",
    "### columnas a seleccionar ###\n",
    "columnas = [\"`COMERCIO.ORDEN.ID`\",\"ID\"]\n",
    "\n",
    "### SELECCION DE VARIABLES ###\n",
    "PSE_ENERO_Ingenico = PSE_ENERO_Ingenico.select(columnas).distinct()\n",
    "PSE_FEBRERO_Ingenico = PSE_FEBRERO_Ingenico.select(columnas).distinct()\n",
    "PSE_MARZO_Ingenico = PSE_MARZO_Ingenico.select(columnas).distinct()\n",
    "PSE_ABRIL_Ingenico = PSE_ABRIL_Ingenico.select(columnas).distinct()\n",
    "PSE_MAYO_1_ingenico = PSE_MAYO_1_ingenico.select(columnas).distinct()\n",
    "PSE_MAYO_2_ingenico = PSE_MAYO_2_ingenico.select(columnas).distinct()\n",
    "PSE_MAYO_3_ingenico = PSE_MAYO_3_ingenico.select(columnas).distinct()\n",
    "PSE_JUNIO_ingenico = PSE_JUNIO_ingenico.select(columnas).distinct()\n",
    "\n",
    "\n",
    "#### Union de todos los ingenico ####\n",
    "BD_ingenico = PSE_ENERO_Ingenico.union(PSE_FEBRERO_Ingenico).union(PSE_MARZO_Ingenico).union(PSE_ABRIL_Ingenico).union(PSE_MAYO_1_ingenico).union(PSE_MAYO_2_ingenico).union(PSE_MAYO_3_ingenico).union(PSE_JUNIO_ingenico)\n",
    "\n",
    "###################################### Fin Ingenico ############################\n"
   ]
  },
  {
   "cell_type": "code",
   "execution_count": null,
   "metadata": {
    "application/vnd.databricks.v1+cell": {
     "cellMetadata": {
      "byteLimit": 2048000,
      "rowLimit": 10000
     },
     "inputWidgets": {},
     "nuid": "f8f69f2e-5805-4be7-9c44-c44abc3f72d9",
     "showTitle": false,
     "title": ""
    }
   },
   "outputs": [],
   "source": [
    "\n",
    "############# CONSOLIDADO SAFETYPAY ENE - JUN 2023 ###########\n",
    "inpath = 'abfss://storagebi@tbdwhstorage01.dfs.core.windows.net/bronze/Financiera/PSE/SAFETYPAY_Ene_Jun.csv'\n",
    "SAFETYPAY_ENE_JUN_2023 = spark.read.csv(inpath,header=True, inferSchema=True, sep=';')"
   ]
  },
  {
   "cell_type": "code",
   "execution_count": null,
   "metadata": {
    "application/vnd.databricks.v1+cell": {
     "cellMetadata": {
      "byteLimit": 2048000,
      "rowLimit": 10000
     },
     "inputWidgets": {},
     "nuid": "eeb84d07-bef9-4c15-b285-d9c6834c07e4",
     "showTitle": true,
     "title": "Cruce de ingeneco con Safetepay"
    }
   },
   "outputs": [
    {
     "name": "stdout",
     "output_type": "stream",
     "text": [
      "371310\n",
      "369693\n"
     ]
    }
   ],
   "source": [
    "### Cruce de Ingenico con Safetepay ####\n",
    "joined_df = BD_ingenico.join(SAFETYPAY_ENE_JUN_2023,\n",
    "                                BD_ingenico.ID == SAFETYPAY_ENE_JUN_2023.Merchant_Reference_Number,how='left').\\\n",
    "            withColumn('Payment', regexp_replace('Payment', r'^PSE - ', '')).\\\n",
    "            select('`COMERCIO.ORDEN.ID`','Payment').\\\n",
    "            withColumnRenamed('COMERCIO.ORDEN.ID','COMER ID').\\\n",
    "            withColumnRenamed('Payment','Banco Originador').\\\n",
    "            distinct()\n",
    "            \n",
    "print(BD_ingenico.count())\n",
    "print(joined_df.count())\n",
    "#display(joined_df.limit(10))"
   ]
  },
  {
   "cell_type": "code",
   "execution_count": null,
   "metadata": {
    "application/vnd.databricks.v1+cell": {
     "cellMetadata": {
      "byteLimit": 2048000,
      "rowLimit": 10000
     },
     "inputWidgets": {},
     "nuid": "7152aea2-975a-426f-b028-637cb6e1f766",
     "showTitle": false,
     "title": ""
    }
   },
   "outputs": [
    {
     "name": "stdout",
     "output_type": "stream",
     "text": [
      "0\n"
     ]
    },
    {
     "data": {
      "text/html": [
       "<style scoped>\n",
       "  .table-result-container {\n",
       "    max-height: 300px;\n",
       "    overflow: auto;\n",
       "  }\n",
       "  table, th, td {\n",
       "    border: 1px solid black;\n",
       "    border-collapse: collapse;\n",
       "  }\n",
       "  th, td {\n",
       "    padding: 5px;\n",
       "  }\n",
       "  th {\n",
       "    text-align: left;\n",
       "  }\n",
       "</style><div class='table-result-container'><table class='table-result'><thead style='background-color: white'><tr><th>COMER ID</th><th>Banco Originador</th><th>es_duplicado</th></tr></thead><tbody></tbody></table></div>"
      ]
     },
     "metadata": {
      "application/vnd.databricks.v1+output": {
       "addedWidgets": {},
       "aggData": [],
       "aggError": "",
       "aggOverflow": false,
       "aggSchema": [],
       "aggSeriesLimitReached": false,
       "aggType": "",
       "arguments": {},
       "columnCustomDisplayInfos": {},
       "data": [],
       "datasetInfos": [],
       "dbfsResultPath": null,
       "isJsonSchema": true,
       "metadata": {},
       "overflow": false,
       "plotOptions": {
        "customPlotOptions": {},
        "displayType": "table",
        "pivotAggregation": null,
        "pivotColumns": null,
        "xColumns": null,
        "yColumns": null
       },
       "removedWidgets": [],
       "schema": [
        {
         "metadata": "{}",
         "name": "COMER ID",
         "type": "\"integer\""
        },
        {
         "metadata": "{}",
         "name": "Banco Originador",
         "type": "\"string\""
        },
        {
         "metadata": "{}",
         "name": "es_duplicado",
         "type": "\"boolean\""
        }
       ],
       "type": "table"
      }
     },
     "output_type": "display_data"
    }
   ],
   "source": [
    "#display(PSE_julio_dic_2023.limit(100))\n",
    "\n",
    "## VALIDACION DE DUPLICADOS\n",
    "\n",
    "# Agregar una columna que indique si es duplicado o no\n",
    "window_spec = Window().partitionBy(\"COMER ID\").orderBy(\"COMER ID\")\n",
    "\n",
    "df_spark = joined_df.withColumn(\"es_duplicado\", count(\"COMER ID\").over(window_spec) > 1)\n",
    "\n",
    "# Filtrar solo las filas duplicadas\n",
    "duplicados = df_spark.filter(\"es_duplicado\")#.\\\n",
    "    # drop('es_duplicado').distinct()\n",
    "\n",
    "print(duplicados.count())\n",
    "display(duplicados)"
   ]
  },
  {
   "cell_type": "code",
   "execution_count": null,
   "metadata": {
    "application/vnd.databricks.v1+cell": {
     "cellMetadata": {
      "byteLimit": 2048000,
      "rowLimit": 10000
     },
     "inputWidgets": {},
     "nuid": "c6c87e7c-e0e5-4791-92ae-781ad65ab8cd",
     "showTitle": false,
     "title": ""
    }
   },
   "outputs": [],
   "source": [
    "#### TABLAS PSE\n",
    "## PSE enero 2023\n",
    "inpath = 'abfss://storagebi@tbdwhstorage01.dfs.core.windows.net/bronze/Financiera/PSE/PSE julio 2023.csv'\n",
    "PSE_julio_2023 = spark.read.csv(inpath,header=True, inferSchema=True, sep=';')\n",
    "\n",
    "## PSE febrero 2023\n",
    "inpath = 'abfss://storagebi@tbdwhstorage01.dfs.core.windows.net/bronze/Financiera/PSE/PSE agosto 2023.csv'\n",
    "PSE_agosto_2023 = spark.read.csv(inpath,header=True, inferSchema=True, sep=';')\n",
    "\n",
    "## PSE septiembre 2023\n",
    "inpath = 'abfss://storagebi@tbdwhstorage01.dfs.core.windows.net/bronze/Financiera/PSE/PSE septiembre 2023.csv'\n",
    "PSE_septiembre_2023 = spark.read.csv(inpath,header=True, inferSchema=True, sep=';')\n",
    "\n",
    "## PSE octubre 2023\n",
    "inpath = 'abfss://storagebi@tbdwhstorage01.dfs.core.windows.net/bronze/Financiera/PSE/PSE octubre 2023.csv'\n",
    "PSE_octubre_2023 = spark.read.csv(inpath,header=True, inferSchema=True, sep=';')\n",
    "\n",
    "## PSE noviembre 2023\n",
    "inpath = 'abfss://storagebi@tbdwhstorage01.dfs.core.windows.net/bronze/Financiera/PSE/PSE noviembre 2023.csv'\n",
    "PSE_noviembre_2023 = spark.read.csv(inpath,header=True, inferSchema=True, sep=';')\n",
    "\n",
    "## PSE diciembre 2023\n",
    "inpath = 'abfss://storagebi@tbdwhstorage01.dfs.core.windows.net/bronze/Financiera/PSE/PSE diciembre 2023.csv'\n",
    "PSE_diciembre_2023 = spark.read.csv(inpath,header=True, inferSchema=True, sep=';')\n",
    "\n",
    "\n",
    "### columnas a seleccionar ###\n",
    "columnas = [\"COMER ID\",\"Banco Originador\"]\n",
    "\n",
    "### SELECCION DE VARIABLES ###\n",
    "PSE_julio_2023 = PSE_julio_2023.select(columnas)\n",
    "PSE_agosto_2023 = PSE_agosto_2023.select(columnas)\n",
    "PSE_septiembre_2023 = PSE_septiembre_2023.select(columnas)\n",
    "PSE_octubre_2023 = PSE_octubre_2023.select(columnas)\n",
    "PSE_noviembre_2023 = PSE_noviembre_2023.select(columnas)\n",
    "PSE_diciembre_2023 = PSE_diciembre_2023.select(columnas)\n",
    "\n",
    "\n",
    "#### Union de todos los ingenico ####\n",
    "PSE_julio_dic_2023 = PSE_julio_2023.union(PSE_agosto_2023).union(PSE_septiembre_2023).union(PSE_octubre_2023).union(PSE_noviembre_2023).union(PSE_diciembre_2023).distinct()\n",
    "\n",
    "codigos = ['0']\n",
    "PSE_julio_dic_2023 = PSE_julio_dic_2023.filter(~col('COMER ID').isin(codigos))"
   ]
  },
  {
   "cell_type": "markdown",
   "metadata": {
    "application/vnd.databricks.v1+cell": {
     "cellMetadata": {
      "byteLimit": 2048000,
      "rowLimit": 10000
     },
     "inputWidgets": {},
     "nuid": "3ee11065-db8d-4421-bcb2-cb68f533aa02",
     "showTitle": false,
     "title": ""
    }
   },
   "source": [
    "#### Fin cruce de ingeneco con Safetepay, para traer banco de PSE"
   ]
  },
  {
   "cell_type": "code",
   "execution_count": null,
   "metadata": {
    "application/vnd.databricks.v1+cell": {
     "cellMetadata": {
      "byteLimit": 2048000,
      "rowLimit": 10000
     },
     "inputWidgets": {},
     "nuid": "f1b2a32d-c0c2-43d3-935f-bcdbf636b046",
     "showTitle": false,
     "title": ""
    }
   },
   "outputs": [],
   "source": [
    "#display(PSE_julio_dic_2023.limit(100))\n",
    "\n",
    "## VALIDACION DE DUPLICADOS\n",
    "\n",
    "# # Agregar una columna que indique si es duplicado o no\n",
    "# window_spec = Window().partitionBy(\"COMER ID\").orderBy(\"COMER ID\")\n",
    "\n",
    "# df_spark = PSE_julio_dic_2023.withColumn(\"es_duplicado\", count(\"COMER ID\").over(window_spec) > 1)\n",
    "\n",
    "# # Filtrar solo las filas duplicadas\n",
    "# duplicados = df_spark.filter(\"es_duplicado\")#.\\\n",
    "#     # drop('es_duplicado').distinct()\n",
    "\n",
    "# print(duplicados.count())\n",
    "# display(duplicados)\n"
   ]
  },
  {
   "cell_type": "code",
   "execution_count": null,
   "metadata": {
    "application/vnd.databricks.v1+cell": {
     "cellMetadata": {
      "byteLimit": 2048000,
      "rowLimit": 10000
     },
     "inputWidgets": {},
     "nuid": "464d7ab6-4aff-436d-b85f-bb1609f13bac",
     "showTitle": false,
     "title": ""
    }
   },
   "outputs": [],
   "source": [
    "# MAESTRA base_PSE\n",
    "base_PSE = joined_df.union(PSE_julio_dic_2023)\n",
    "base_PSE.createOrReplaceTempView(\"base_PSE_vw\")\n",
    "\n",
    "base_PSE = spark.sql(\"\"\"\n",
    "select distinct \n",
    "`COMER ID` as COMER_ID,\n",
    "FIRST_VALUE(`Banco Originador`) OVER (PARTITION BY `COMER ID` ORDER BY `Banco Originador` desc) AS Banco_Originador\n",
    "from base_PSE_vw\n",
    "order by COMER_ID\n",
    "\"\"\")\n",
    "\n",
    "# print(base_PSE.count())\n",
    "\n",
    "# tmp = base_PSE.select('COMER_ID').distinct()\n",
    "# print(tmp.count())"
   ]
  },
  {
   "cell_type": "code",
   "execution_count": null,
   "metadata": {
    "application/vnd.databricks.v1+cell": {
     "cellMetadata": {
      "byteLimit": 2048000,
      "rowLimit": 10000
     },
     "inputWidgets": {},
     "nuid": "e5a35a67-3890-4c85-bba3-6e6cfc877003",
     "showTitle": false,
     "title": ""
    }
   },
   "outputs": [
    {
     "data": {
      "text/html": [
       "<style scoped>\n",
       "  .table-result-container {\n",
       "    max-height: 300px;\n",
       "    overflow: auto;\n",
       "  }\n",
       "  table, th, td {\n",
       "    border: 1px solid black;\n",
       "    border-collapse: collapse;\n",
       "  }\n",
       "  th, td {\n",
       "    padding: 5px;\n",
       "  }\n",
       "  th {\n",
       "    text-align: left;\n",
       "  }\n",
       "</style><div class='table-result-container'><table class='table-result'><thead style='background-color: white'><tr><th>Expediente</th><th>IDENTIFIER</th><th>Banco_Originador</th></tr></thead><tbody><tr><td>10000136</td><td>1129593975</td><td>Bancolombia</td></tr><tr><td>10000243</td><td>298068913</td><td>Nequi</td></tr><tr><td>10000304</td><td>794378472</td><td>Banco Colpatria</td></tr><tr><td>10000427</td><td>447286933</td><td>Bancolombia</td></tr><tr><td>10000441</td><td>1255059923</td><td>Nequi</td></tr><tr><td>10000477</td><td>1521220649</td><td>Nequi</td></tr><tr><td>10000529</td><td>1841207322</td><td>Banco Colpatria</td></tr><tr><td>10000539</td><td>1213110012</td><td>Bancolombia</td></tr><tr><td>10000578</td><td>1006713251</td><td>Banco Falabella</td></tr><tr><td>10000591</td><td>695633605</td><td>Bancolombia</td></tr></tbody></table></div>"
      ]
     },
     "metadata": {
      "application/vnd.databricks.v1+output": {
       "addedWidgets": {},
       "aggData": [],
       "aggError": "",
       "aggOverflow": false,
       "aggSchema": [],
       "aggSeriesLimitReached": false,
       "aggType": "",
       "arguments": {},
       "columnCustomDisplayInfos": {},
       "data": [
        [
         "10000136",
         "1129593975",
         "Bancolombia"
        ],
        [
         "10000243",
         "298068913",
         "Nequi"
        ],
        [
         "10000304",
         "794378472",
         "Banco Colpatria"
        ],
        [
         "10000427",
         "447286933",
         "Bancolombia"
        ],
        [
         "10000441",
         "1255059923",
         "Nequi"
        ],
        [
         "10000477",
         "1521220649",
         "Nequi"
        ],
        [
         "10000529",
         "1841207322",
         "Banco Colpatria"
        ],
        [
         "10000539",
         "1213110012",
         "Bancolombia"
        ],
        [
         "10000578",
         "1006713251",
         "Banco Falabella"
        ],
        [
         "10000591",
         "695633605",
         "Bancolombia"
        ]
       ],
       "datasetInfos": [],
       "dbfsResultPath": null,
       "isJsonSchema": true,
       "metadata": {},
       "overflow": false,
       "plotOptions": {
        "customPlotOptions": {},
        "displayType": "table",
        "pivotAggregation": null,
        "pivotColumns": null,
        "xColumns": null,
        "yColumns": null
       },
       "removedWidgets": [],
       "schema": [
        {
         "metadata": "{}",
         "name": "Expediente",
         "type": "\"string\""
        },
        {
         "metadata": "{}",
         "name": "IDENTIFIER",
         "type": "\"string\""
        },
        {
         "metadata": "{}",
         "name": "Banco_Originador",
         "type": "\"string\""
        }
       ],
       "type": "table"
      }
     },
     "output_type": "display_data"
    }
   ],
   "source": [
    "# MAESTRA BANK_ID_PSE\n",
    "Bank_ID_joined = Bank_ID_PSE.join(base_PSE,\\\n",
    "    Bank_ID_PSE[\"IDENTIFIER\"] == base_PSE[\"COMER_ID\"],\\\n",
    "    \"left_outer\").\\\n",
    "    drop(\"COMER_ID\").\\\n",
    "    withColumnRenamed(\"FILE_NUMBER\", \"Expediente\")\n",
    "\n",
    "display(Bank_ID_joined.limit(10))"
   ]
  },
  {
   "cell_type": "code",
   "execution_count": null,
   "metadata": {
    "application/vnd.databricks.v1+cell": {
     "cellMetadata": {
      "byteLimit": 2048000,
      "rowLimit": 10000
     },
     "inputWidgets": {},
     "nuid": "05cb3b9a-687f-4f57-b672-ff3d1b702ebd",
     "showTitle": false,
     "title": ""
    }
   },
   "outputs": [
    {
     "data": {
      "text/plain": [
       "True"
      ]
     },
     "execution_count": 21,
     "metadata": {},
     "output_type": "execute_result"
    }
   ],
   "source": [
    "# Impresion\n",
    "# Guarda el DataFrame en formato Parquet en Azure Blob Storage\n",
    "inpath = 'abfss://storagebi@tbdwhstorage01.dfs.core.windows.net/silver/Bank_ID/PSE/'\n",
    "\n",
    "join_df_coalesced = Bank_ID_joined.coalesce(1)\n",
    "join_df_coalesced.write.mode(\"overwrite\").parquet(inpath)\n",
    "#join_df_coalesced.write.mode(\"overwrite\").orc(path_parquet_snappy)\n",
    "\n",
    "#cambio de nombre\n",
    "files=dbutils.fs.ls(inpath)\n",
    "output_file= [x for x in files if x.name.startswith(\"part-\")]\n",
    "\n",
    "# EN la misma carpeta de origen\n",
    "dbutils.fs.mv(output_file[0].path, f\"{inpath}/Ds_S_Bank_ID_PSE.parquet\")"
   ]
  },
  {
   "cell_type": "code",
   "execution_count": null,
   "metadata": {
    "application/vnd.databricks.v1+cell": {
     "cellMetadata": {
      "byteLimit": 2048000,
      "rowLimit": 10000
     },
     "inputWidgets": {},
     "nuid": "c6d45f5b-6bc0-459e-bd54-28d5e2cc047c",
     "showTitle": false,
     "title": ""
    }
   },
   "outputs": [],
   "source": [
    "# #tmp = Conciliacion_PSE_ach.select(min('Fecha_Hora'))\n",
    "\n",
    "# # Seleccionar el mínimo y máximo valor de la columna renombrada usando agg\n",
    "# # tmp = Conciliacion_PSE_ach.agg(\n",
    "# #     min('Fecha_Hora'),\n",
    "# #     max('Fecha_Hora'))\n",
    "\n",
    "\n",
    "# tmp = PSE_ach.agg(\n",
    "#     min(col('Fecha_Hora')).alias('Min_Fecha_Hora'),\n",
    "#     max(col('Fecha_Hora')).alias('Max_Fecha_Hora'))\n",
    "\n",
    "# #print(tmp.count())\n",
    "# display(tmp)\n",
    "\n",
    "\n",
    "# #,max('Fecha-Hora')).distinct("
   ]
  },
  {
   "cell_type": "code",
   "execution_count": null,
   "metadata": {
    "application/vnd.databricks.v1+cell": {
     "cellMetadata": {
      "byteLimit": 2048000,
      "rowLimit": 10000
     },
     "inputWidgets": {},
     "nuid": "4838cdab-61fc-401a-876a-aee4d0d30878",
     "showTitle": false,
     "title": ""
    }
   },
   "outputs": [],
   "source": [
    "# ##### Cruce de CONCILIACION_PSE_ENERO_Ingenico con Bank_ID\n",
    "# CONCILIACION_PSE_ENERO_Ingenico_Bank_ID = CONCILIACION_PSE_ENERO_Ingenico.join(Bank_ID, \n",
    "#                                                  CONCILIACION_PSE_ENERO_Ingenico[\"`COMERCIO.ORDEN.ID`\"] == Bank_ID[\"IDENTIFIER\"], \n",
    "#                                                  how=\"left\")\n",
    "\n",
    "# ##### Cruce de CONCILIACION_FEBRERO_PSE_Ingenico con Bank_ID\n",
    "# CONCILIACION_FEBRERO_PSE_Ingenico_Bank_ID = CONCILIACION_FEBRERO_PSE_Ingenico.join(Bank_ID, \n",
    "#                                                  CONCILIACION_FEBRERO_PSE_Ingenico[\"`COMERCIO.ORDEN.ID`\"] == Bank_ID[\"IDENTIFIER\"], \n",
    "#                                                  how=\"left\")\n",
    "\n",
    "# ##### Cruce de CONCILIACION_PSE_MAR_Ingenico con Bank_ID\n",
    "# CONCILIACION_PSE_MAR_Ingenico_Bank_ID = CONCILIACION_PSE_MAR_Ingenico.join(Bank_ID, \n",
    "#                                                  CONCILIACION_PSE_MAR_Ingenico[\"`COMERCIO.ORDEN.ID`\"] == Bank_ID[\"IDENTIFIER\"], \n",
    "#                                                  how=\"left\")\n",
    "\n",
    "\n",
    "\n",
    "# display(CONCILIACION_PSE_MAR_Ingenico_Bank_ID)\n"
   ]
  }
 ],
 "metadata": {
  "application/vnd.databricks.v1+notebook": {
   "dashboards": [],
   "environmentMetadata": null,
   "language": "python",
   "notebookMetadata": {
    "pythonIndentUnit": 4
   },
   "notebookName": "Silver_Bank_ID",
   "widgets": {}
  },
  "language_info": {
   "name": "python"
  }
 },
 "nbformat": 4,
 "nbformat_minor": 0
}
