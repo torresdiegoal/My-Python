{
 "cells": [
  {
   "cell_type": "code",
   "execution_count": null,
   "metadata": {
    "application/vnd.databricks.v1+cell": {
     "cellMetadata": {
      "byteLimit": 2048000,
      "rowLimit": 10000
     },
     "inputWidgets": {},
     "nuid": "394bb771-5fea-4927-98ce-d89930dd13c2",
     "showTitle": false,
     "title": ""
    }
   },
   "outputs": [],
   "source": [
    "# Importar las bibliotecas necesarias\n",
    "from pyspark.sql import SparkSession\n",
    "from pyspark.sql.functions import col,count,desc,sum,to_date,date_format,concat_ws,format_string,to_timestamp,year,when,lit,month,date_sub,current_date,max,min\n",
    "from pyspark.sql import Window\n",
    "import pandas as pd\n",
    "\n",
    "# Crear una SparkSession\n",
    "spark = SparkSession.builder.appName(\"AzureSQL\").getOrCreate()\n",
    "\n",
    "## Credenciales BD\n",
    "inpath = \"C:/Users/diego.torres/OneDrive/Datasets/Tuboleta/Credenciales.txt\"\n",
    "keys = pd.read_csv(inpath, sep = ',')\n",
    "display(keys)\n",
    "\n",
    "# Creo variables para cada fila del DataFrame que contiene las credenciales de la bd\n",
    "for index, row in keys.iterrows():\n",
    "    variable_name = row['key']\n",
    "    variable_value = row['value']\n",
    "    globals()[variable_name] = variable_value\n",
    "\n",
    "# Configurar las propiedades de la conexión\n",
    "jdbc_url = f\"jdbc:sqlserver://{jdbc_hostname}:1433;database={jdbc_database_datamart}\"\n",
    "jdbc_properties = {\n",
    "    \"user\": user,\n",
    "    \"password\": password,\n",
    "    \"driver\": driver\n",
    "}\n",
    "\n",
    "# Conexion al Blob\n",
    "spark.conf.set(clave_blob, access_key_blob)\n"
   ]
  },
  {
   "cell_type": "code",
   "execution_count": null,
   "metadata": {
    "application/vnd.databricks.v1+cell": {
     "cellMetadata": {
      "byteLimit": 2048000,
      "rowLimit": 10000
     },
     "inputWidgets": {},
     "nuid": "1effef0c-8020-4750-884c-23424c9fc6e8",
     "showTitle": false,
     "title": ""
    }
   },
   "outputs": [],
   "source": [
    "## TABLA SALES\n",
    "inpath = 'abfss://storagebi@tbdwhstorage01.dfs.core.windows.net/gold/Completo_ventas/Ds_G_sales.parquet'\n",
    "sales = spark.read.parquet(inpath)\n",
    "\n",
    "# Maestra BANK_ID_TC\n",
    "inpath = 'abfss://storagebi@tbdwhstorage01.dfs.core.windows.net/silver/Bank_ID/TC/Ds_S_Bank_ID_TC.parquet'\n",
    "Bank_ID_TC = spark.read.parquet(inpath)\n",
    "\n",
    "# print(sales.count())\n",
    "# print(Bank_ID.count())\n",
    "\n",
    "# Maestra BANK_ID_PSE\n",
    "inpath = 'abfss://storagebi@tbdwhstorage01.dfs.core.windows.net/silver/Bank_ID/PSE/Ds_S_Bank_ID_PSE.parquet'\n",
    "Bank_ID_PSE = spark.read.parquet(inpath)"
   ]
  },
  {
   "cell_type": "code",
   "execution_count": null,
   "metadata": {
    "application/vnd.databricks.v1+cell": {
     "cellMetadata": {
      "byteLimit": 2048000,
      "rowLimit": 10000
     },
     "inputWidgets": {},
     "nuid": "2070f83f-23da-41c6-93ba-c3f20abf400a",
     "showTitle": false,
     "title": ""
    }
   },
   "outputs": [],
   "source": [
    "# tmp = Bank_ID.filter(col('IDENTIFIER') == '1638875939')\n",
    "# display(tmp)"
   ]
  },
  {
   "cell_type": "code",
   "execution_count": null,
   "metadata": {
    "application/vnd.databricks.v1+cell": {
     "cellMetadata": {
      "byteLimit": 2048000,
      "rowLimit": 10000
     },
     "inputWidgets": {},
     "nuid": "7021e782-330d-4da3-8dc7-816a5f50f80c",
     "showTitle": false,
     "title": ""
    }
   },
   "outputs": [],
   "source": [
    "# MAESTRA TARJETA CREDITO\n",
    "sales_joined = sales.join(Bank_ID_TC,\\\n",
    "    sales[\"FILE_NUMBER\"] == Bank_ID_TC[\"Expediente\"],\\\n",
    "    \"left_outer\").\\\n",
    "    drop(\"Expediente\")\n",
    "#display(Bank_ID_TC.limit(10))\n",
    "\n",
    "tabla_TC = sales_joined.select('PRODUCT','TEMA_MERCADEO','SUB_TEMA_MERCADEO','CardType','BinIssuer','NET_SOLD_AMT_ITX').\\\n",
    "    filter((year('REFERENCE_DATE') >= 2023) &\n",
    "           (col('T_OPERATION_TYPE').isin('SALE','REFUND')) &\n",
    "           (col('T_OPERATION_KIND').isin('SINGLE_ENTRY','PRODUCT_COMPOSITION','SIMPLE_PRODUCT')) &\n",
    "           (~col('PRODUCT_CODE').isin('CAN_INS'))).\\\n",
    "    groupBy('PRODUCT','TEMA_MERCADEO','SUB_TEMA_MERCADEO','CardType','BinIssuer').\\\n",
    "        agg(sum('NET_SOLD_AMT_ITX').alias('Amount')).\\\n",
    "    withColumn(\"Amount\", format_number(col(\"Amount\"), 0))\n",
    "\n",
    "print(tabla_TC.count())"
   ]
  },
  {
   "cell_type": "code",
   "execution_count": null,
   "metadata": {
    "application/vnd.databricks.v1+cell": {
     "cellMetadata": {},
     "inputWidgets": {},
     "nuid": "26ec3d8c-6b97-4407-a946-53f80829e241",
     "showTitle": false,
     "title": ""
    }
   },
   "outputs": [],
   "source": [
    "inpath = \"abfss://storagebi@tbdwhstorage01.dfs.core.windows.net/silver/Financiera/CyberSource/\"\n",
    "\n",
    "write_table = tabla_TC.coalesce(1) # coalesce indica que la tabla se va a entregar en una sola particion\n",
    "write_table.write.csv(inpath, header=True, mode=\"overwrite\", sep=';')\n",
    " \n",
    "#cambio de nombre\n",
    "files=dbutils.fs.ls(inpath)\n",
    "output_file= [x for x in files if x.name.startswith(\"part-\")]\n",
    " \n",
    "# EN la misma carpeta de origen\n",
    "dbutils.fs.mv(output_file[0].path, f\"{inpath}/Requerimiento_Cybersource.csv\")"
   ]
  },
  {
   "cell_type": "code",
   "execution_count": null,
   "metadata": {
    "application/vnd.databricks.v1+cell": {
     "cellMetadata": {
      "byteLimit": 2048000,
      "rowLimit": 10000
     },
     "inputWidgets": {},
     "nuid": "d1329669-4062-44bc-aa20-170cdcf9618a",
     "showTitle": false,
     "title": ""
    }
   },
   "outputs": [
    {
     "name": "stdout",
     "output_type": "stream",
     "text": [
      "26608\n"
     ]
    }
   ],
   "source": [
    "# MAESTRA PSE\n",
    "sales_joined = sales.join(Bank_ID_PSE,\\\n",
    "    sales[\"FILE_NUMBER\"] == Bank_ID_PSE[\"Expediente\"],\\\n",
    "    \"left_outer\").\\\n",
    "    drop(\"Expediente\")\n",
    "#display(Bank_ID_PSE.limit(10))\n",
    "\n",
    "tabla_PSE = sales_joined.select('PRODUCT','TEMA_MERCADEO','SUB_TEMA_MERCADEO','Banco_Originador','NET_SOLD_AMT_ITX').\\\n",
    "    filter((year('REFERENCE_DATE') >= 2023) &\n",
    "           (col('T_OPERATION_TYPE').isin('SALE','REFUND')) &\n",
    "           (col('T_OPERATION_KIND').isin('SINGLE_ENTRY','PRODUCT_COMPOSITION','SIMPLE_PRODUCT')) &\n",
    "           (~col('PRODUCT_CODE').isin('CAN_INS'))).\\\n",
    "    groupBy('PRODUCT','TEMA_MERCADEO','SUB_TEMA_MERCADEO','Banco_Originador').\\\n",
    "        agg(sum('NET_SOLD_AMT_ITX').alias('Amount')).\\\n",
    "    withColumn(\"Amount\", format_number(col(\"Amount\"), 0))\n",
    "\n",
    "print(tabla_PSE.count())"
   ]
  },
  {
   "cell_type": "code",
   "execution_count": null,
   "metadata": {
    "application/vnd.databricks.v1+cell": {
     "cellMetadata": {
      "byteLimit": 2048000,
      "rowLimit": 10000
     },
     "inputWidgets": {},
     "nuid": "f6235d11-7f61-4caf-bb78-abe6f6f7937c",
     "showTitle": false,
     "title": ""
    }
   },
   "outputs": [],
   "source": [
    "#display(tabla.limit(10))"
   ]
  },
  {
   "cell_type": "code",
   "execution_count": null,
   "metadata": {
    "application/vnd.databricks.v1+cell": {
     "cellMetadata": {
      "byteLimit": 2048000,
      "rowLimit": 10000
     },
     "inputWidgets": {},
     "nuid": "ec366a07-37a1-49a5-b5de-73161f51292b",
     "showTitle": false,
     "title": ""
    }
   },
   "outputs": [
    {
     "data": {
      "text/plain": [
       "True"
      ]
     },
     "execution_count": 7,
     "metadata": {},
     "output_type": "execute_result"
    }
   ],
   "source": [
    "\n",
    "inpath = \"abfss://storagebi@tbdwhstorage01.dfs.core.windows.net/silver/Financiera/PSE/\"\n",
    "\n",
    "write_table = tabla_PSE.coalesce(1) # coalesce indica que la tabla se va a entregar en una sola particion\n",
    "write_table.write.csv(inpath, header=True, mode=\"overwrite\", sep=';')\n",
    " \n",
    "#cambio de nombre\n",
    "files=dbutils.fs.ls(inpath)\n",
    "output_file= [x for x in files if x.name.startswith(\"part-\")]\n",
    " \n",
    "# EN la misma carpeta de origen\n",
    "dbutils.fs.mv(output_file[0].path, f\"{inpath}/Requerimiento_PSE.csv\")"
   ]
  }
 ],
 "metadata": {
  "application/vnd.databricks.v1+notebook": {
   "dashboards": [],
   "environmentMetadata": null,
   "language": "python",
   "notebookMetadata": {
    "pythonIndentUnit": 4
   },
   "notebookName": "CyberSource",
   "widgets": {}
  },
  "language_info": {
   "name": "python"
  }
 },
 "nbformat": 4,
 "nbformat_minor": 0
}
