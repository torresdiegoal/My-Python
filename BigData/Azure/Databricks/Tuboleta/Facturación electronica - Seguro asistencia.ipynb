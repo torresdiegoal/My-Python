{
 "cells": [
  {
   "cell_type": "code",
   "execution_count": null,
   "metadata": {
    "application/vnd.databricks.v1+cell": {
     "cellMetadata": {
      "byteLimit": 2048000,
      "rowLimit": 10000
     },
     "inputWidgets": {},
     "nuid": "a3276388-331f-4dd2-989d-e1544011d915",
     "showTitle": true,
     "title": "Librerias y conexion"
    }
   },
   "outputs": [],
   "source": [
    "# Importar las bibliotecas necesarias\n",
    "from pyspark.sql import SparkSession\n",
    "from pyspark.sql.functions import col,count,desc,sum,to_date,date_format,concat_ws,format_string,to_timestamp,year,when,lit,month,date_sub,current_date,max,min\n",
    "from pyspark.sql import Window\n",
    "import pandas as pd\n",
    "\n",
    "# Crear una SparkSession\n",
    "spark = SparkSession.builder.appName(\"AzureSQL\").getOrCreate()\n",
    "\n",
    "## Credenciales BD\n",
    "inpath = \"C:/Users/diego.torres/OneDrive/Datasets/Tuboleta/Credenciales.txt\"\n",
    "keys = pd.read_csv(inpath, sep = ',')\n",
    "display(keys)\n",
    "\n",
    "# Creo variables para cada fila del DataFrame que contiene las credenciales de la bd\n",
    "for index, row in keys.iterrows():\n",
    "    variable_name = row['key']\n",
    "    variable_value = row['value']\n",
    "    globals()[variable_name] = variable_value\n",
    "\n",
    "# Configurar las propiedades de la conexión\n",
    "jdbc_url = f\"jdbc:sqlserver://{jdbc_hostname}:1433;database={jdbc_database_datamart}\"\n",
    "jdbc_properties = {\n",
    "    \"user\": user,\n",
    "    \"password\": password,\n",
    "    \"driver\": driver\n",
    "}\n",
    "\n",
    "# Conexion al Blob\n",
    "spark.conf.set(clave_blob, access_key_blob)\n"
   ]
  },
  {
   "cell_type": "markdown",
   "metadata": {
    "application/vnd.databricks.v1+cell": {
     "cellMetadata": {
      "byteLimit": 2048000,
      "rowLimit": 10000
     },
     "inputWidgets": {},
     "nuid": "f2ab61e5-a4bd-4d44-913b-e9e92f5c5043",
     "showTitle": false,
     "title": ""
    }
   },
   "source": [
    "#### Lectura tablas"
   ]
  },
  {
   "cell_type": "code",
   "execution_count": null,
   "metadata": {
    "application/vnd.databricks.v1+cell": {
     "cellMetadata": {
      "byteLimit": 2048000,
      "rowLimit": 10000
     },
     "inputWidgets": {},
     "nuid": "238dcfe5-2814-4f27-bddd-3eb50bd85e78",
     "showTitle": true,
     "title": "Lectura contacts"
    }
   },
   "outputs": [],
   "source": [
    "## Contacts\n",
    "inpath = \"abfss://storagebi@tbdwhstorage01.dfs.core.windows.net/silver/Contacts/Ds_S_Contacts.parquet\"\n",
    "contacts = spark.read.parquet(inpath)"
   ]
  },
  {
   "cell_type": "code",
   "execution_count": null,
   "metadata": {
    "application/vnd.databricks.v1+cell": {
     "cellMetadata": {
      "byteLimit": 2048000,
      "rowLimit": 10000
     },
     "inputWidgets": {},
     "nuid": "359da759-e88d-4da0-9e26-375f1c72079b",
     "showTitle": true,
     "title": "Lectura payments"
    }
   },
   "outputs": [],
   "source": [
    "## Ventas 2019\n",
    "inpath = 'abfss://storagebi@tbdwhstorage01.dfs.core.windows.net/silver/payment/2019/Ds_S_PaymentMethods_2019.parquet/'\n",
    "payments_2019 = spark.read.parquet(inpath)\n",
    "\n",
    "\n",
    "## payments_2020\n",
    "inpath = 'abfss://storagebi@tbdwhstorage01.dfs.core.windows.net/silver/payment/2020/Ds_S_PaymentMethods_2020.parquet/'\n",
    "payments_2020 = spark.read.parquet(inpath)\n",
    "\n",
    "\n",
    "## payments_2021\n",
    "inpath = 'abfss://storagebi@tbdwhstorage01.dfs.core.windows.net/silver/payment/2021/Ds_S_PaymentMethods_2021.parquet/'\n",
    "payments_2021 = spark.read.parquet(inpath)\n",
    "\n",
    "\n",
    "## payments_2022\n",
    "inpath = 'abfss://storagebi@tbdwhstorage01.dfs.core.windows.net/silver/payment/2022/Ds_S_PaymentMethods_2022.parquet/'\n",
    "payments_2022 = spark.read.parquet(inpath)\n",
    "\n",
    "\n",
    "## payments_2023\n",
    "inpath = 'abfss://storagebi@tbdwhstorage01.dfs.core.windows.net/silver/payment/2023/Ds_S_PaymentMethods_2023.parquet/'\n",
    "payments_2023 = spark.read.parquet(inpath)\n",
    "\n",
    "\n",
    "\n",
    "## payments_2024\n",
    "inpath = 'abfss://storagebi@tbdwhstorage01.dfs.core.windows.net/silver/payment/2024/Ds_S_PaymentMethods_2024.parquet/'\n",
    "payments_2024 = spark.read.parquet(inpath)\n",
    "\n",
    "\n",
    "# Union años\n",
    "payments = payments_2019.union(payments_2020).union(payments_2021).union(payments_2022).union(payments_2023).union(payments_2024)\n",
    "\n",
    "payments.createOrReplaceTempView(\"payments_vw\")"
   ]
  },
  {
   "cell_type": "markdown",
   "metadata": {
    "application/vnd.databricks.v1+cell": {
     "cellMetadata": {
      "byteLimit": 2048000,
      "rowLimit": 10000
     },
     "inputWidgets": {},
     "nuid": "b0cefadf-31e6-4e44-a681-5b525ec9c268",
     "showTitle": false,
     "title": ""
    }
   },
   "source": [
    "#### Arreglo para expedientes por reserva (En payments)"
   ]
  },
  {
   "cell_type": "code",
   "execution_count": null,
   "metadata": {
    "application/vnd.databricks.v1+cell": {
     "cellMetadata": {
      "byteLimit": 2048000,
      "rowLimit": 10000
     },
     "inputWidgets": {},
     "nuid": "c4b8b59e-4d3c-4210-bcb9-a40a03f7e726",
     "showTitle": false,
     "title": ""
    }
   },
   "outputs": [],
   "source": [
    "from pyspark.sql.functions import col, row_number\n",
    "from pyspark.sql.window import Window\n",
    "\n",
    "# Suponiendo que tu DataFrame se llama df\n",
    "\n",
    "# Paso 1: Filtrar los registros con t_product_id específico, es el del seguro\n",
    "df_seguros = payments.filter((col(\"t_product_id\") == \"10229456543360\") & (col(\"t_operation_type\") != \"RESERVATION_CANCEL\"))\n",
    "\n",
    "# Paso 2: Crear una ventana particionada por FILE_NUMBER y t_product_id, ordenada por NET_SOLD_AMT_ITX ascendente\n",
    "windowSpec = Window.partitionBy(\"FILE_NUMBER\", \"t_product_id\").orderBy(col(\"NET_SOLD_AMT_ITX\").desc())\n",
    "\n",
    "# Paso 3: Añadir columna de número de fila dentro de cada partición\n",
    "df_seguros_with_row_num = df_seguros.withColumn(\"row_number\", row_number().over(windowSpec))\n",
    "\n",
    "\n",
    "# Paso 4: Filtrar para mantener solo las filas donde row_number es 1\n",
    "df_seguros_filtered = df_seguros_with_row_num.filter(col(\"row_number\") == 1).drop(\"row_number\")\n",
    "\n",
    "\n",
    "# Paso 5: Filtrar los registros que no necesitan ser procesados\n",
    "df_no_seguros = payments.filter(~((col(\"t_product_id\") == \"10229456543360\") & (col(\"t_operation_type\") != \"RESERVATION_CANCEL\")) | col(\"t_product_id\").isNull())\n",
    "\n",
    "# Paso 6: Unir los DataFrames\n",
    "payments = df_seguros_filtered.unionByName(df_no_seguros)\n",
    "\n",
    "# display(payments.filter(col('FILE_NUMBER')=='16367759'))\n",
    "# a=df_filtered.filter((col('FILE_NUMBER').isin('16367759','16642411','17550029','17835393','17859550'))&(col('t_product_id')=='10229456543360'))\n",
    "# display(a)"
   ]
  },
  {
   "cell_type": "code",
   "execution_count": null,
   "metadata": {
    "application/vnd.databricks.v1+cell": {
     "cellMetadata": {
      "byteLimit": 2048000,
      "rowLimit": 10000
     },
     "inputWidgets": {},
     "nuid": "fbf53c1b-861c-4f51-93dd-a6eec965a45e",
     "showTitle": true,
     "title": "Lectura sales"
    }
   },
   "outputs": [],
   "source": [
    "## TABLA SALES\n",
    "inpath = 'abfss://storagebi@tbdwhstorage01.dfs.core.windows.net/gold/Completo_ventas/Ds_G_sales.parquet'\n",
    "sales_ = spark.read.parquet(inpath)\n",
    "# tmp = sales.select('T_OPERATION_KIND').distinct() \n",
    "# display(tmp.limit(10))\n",
    "\n",
    "# Hfee \n",
    "# hfee = sales_.filter(col('T_OPERATION_KIND') == 'DELIVERY_OVERHEADS')\n"
   ]
  },
  {
   "cell_type": "code",
   "execution_count": null,
   "metadata": {
    "application/vnd.databricks.v1+cell": {
     "cellMetadata": {
      "byteLimit": 2048000,
      "rowLimit": 10000
     },
     "inputWidgets": {},
     "nuid": "10d845b5-eac2-437e-bb80-f687377a857c",
     "showTitle": false,
     "title": ""
    }
   },
   "outputs": [],
   "source": [
    "# display(sales.limit(10))"
   ]
  },
  {
   "cell_type": "code",
   "execution_count": null,
   "metadata": {
    "application/vnd.databricks.v1+cell": {
     "cellMetadata": {
      "byteLimit": 2048000,
      "rowLimit": 10000
     },
     "inputWidgets": {},
     "nuid": "0d6bc9f4-2b05-449e-9369-064a22aa9b87",
     "showTitle": false,
     "title": ""
    }
   },
   "outputs": [
    {
     "data": {
      "text/html": [
       "<style scoped>\n",
       "  .table-result-container {\n",
       "    max-height: 300px;\n",
       "    overflow: auto;\n",
       "  }\n",
       "  table, th, td {\n",
       "    border: 1px solid black;\n",
       "    border-collapse: collapse;\n",
       "  }\n",
       "  th, td {\n",
       "    padding: 5px;\n",
       "  }\n",
       "  th {\n",
       "    text-align: left;\n",
       "  }\n",
       "</style><div class='table-result-container'><table class='table-result'><thead style='background-color: white'><tr><th>ORGANIZATION</th><th>T_ORGANIZ_ID</th><th>PRODUCT_FAMILY</th><th>PRODUCT</th><th>INVOICE_CONTACT_FMT_NAME</th><th>T_PRODUCT_ID</th><th>LICENCE_NUMBER</th><th>PRODUCT_STATE</th><th>SITE</th><th>SEASON</th><th>TOPIC</th><th>SUB_TOPIC</th><th>REFERENCE_DATE</th><th>ORDER_DATE_MM_YY</th><th>PRODUCT_DATE_TIME</th><th>PRODUCT_TIME</th><th>FILE_NUMBER</th><th>T_ORDER_CONTACT_ID</th><th>PROMOTION</th><th>AUDIENCE_CATEGORY</th><th>AUDIENCE_SUB_CATEGORY</th><th>LOGICAL_SEAT_CATEGORY</th><th>PERFORMANCE_QUOTA</th><th>SALES_CHANNEL</th><th>SALES_CHANNEL_N</th><th>SALES_CHANNEL_TYPE</th><th>UNIT_AMT_ITX</th><th>NET_SOLD_T_QTY</th><th>NET_SOLD_C_QTY</th><th>NET_SOLD_TKT_AMT_ITX</th><th>TEAM_1</th><th>TEAM_2</th><th>ORDER_NUMBER</th><th>CHARGE_AMT_ITX</th><th>ORDER_CREATION_DATE</th><th>ORDER_CONTACT_NUMBER</th><th>ORDER_DATE</th><th>PRODUCT_DATE</th><th>CHARGE_AMT_ETX</th><th>total_unit_amt_itx</th><th>DN_QUOTA</th><th>T_INVOICE_CONTACT_ID</th><th>File_state</th><th>t_file_state</th><th>ORDER_QUANTITY</th><th>T_OPERATION_TYPE</th><th>PRODUCT_CODE</th><th>t_operation_kind</th><th>parent_product</th><th>INSURED</th><th>INSURED_AMT_ITX</th><th>T_PERFORMANCE_ID</th><th>T_SITE_ID</th><th>NET_SOLD_AMT_ITX</th><th>PRODUCT_EXTERNAL_NAME</th><th>T_SEASON_ID</th><th>ACTIVITY</th><th>T_ACTIVITY_ID</th><th>T_PRODUCT_FAMILY_ID</th><th>PRODUCT_TYPE</th><th>T_PRODUCT_TYPE_ID</th><th>T_FAMILY_TYPE</th><th>T_FAMILY_SUB_TYPE</th><th>T_SHIPMENTFEE_ID</th><th>TOWN</th><th>TOPIC_KEY</th><th>TOPIC_N</th><th>SUB_TOPIC_N</th><th>INSURED_AMT_ETX</th><th>T_OPERATION_ID</th><th>ORDER_CONTACT_ADDRESS</th><th>ORDER_CONTACT_COUNTRY</th><th>ORDER_CONTACT_TOWN</th><th>ORDER_CONTACT_PRIMARY_PHONE</th><th>ORDER_CONTACT_EMAIL</th><th>Fecha_evento</th><th>Date_evento</th><th>Hora_compra</th><th>Hora_de_compra</th><th>Hora_evento</th><th>Key_evento</th><th>Key_handling</th><th>TOWN_N</th><th>Key_aforo</th><th>Nuevo_aforo</th><th>VENUE_N</th><th>Tipo_venue</th><th>TEAM_2_N</th><th>NIT</th><th>Contrato</th><th>MATCH_DAY</th><th>PRODUCT_N</th><th>TEMA_MERCADEO</th><th>SUB_TEMA_MERCADEO</th><th>Hfee</th><th>TOPIC_PPTO</th></tr></thead><tbody><tr><td>Tren de la Sabana</td><td>101375831000</td><td>Evento</td><td>RECORRIDO ZIPAQUIRA - 2023</td><td>TURISTREN S.A.S ( 4590894 )</td><td>10228866549538</td><td>null</td><td>En ejecución</td><td>Tren Turistico</td><td>UNICA</td><td>11.  PARQUES Y FAMILIARES</td><td>TREN DE LA SABANA</td><td>2023-03-23T00:00:00Z</td><td>03.2023</td><td>2023-03-25T08:20:00Z</td><td>08:20</td><td>10813033</td><td>10229076923830</td><td>null</td><td>Contacto ocasional</td><td>Pasajero (Adulto)</td><td>TIQUETE</td><td>756.0</td><td>Tuboleta.com - ALL</td><td>Web</td><td>Internet gran público</td><td>70000.0</td><td>3.0</td><td>0.0</td><td>210000.0</td><td>null</td><td>null</td><td>18235156</td><td>18000.0</td><td>2023-03-23T21:24:23Z</td><td>8212647</td><td>23.03.2023</td><td>25.03.23</td><td>15126.0</td><td>210000.0</td><td>702.0</td><td>1.01431452368E11</td><td>Pagado</td><td>SOLDED</td><td>3</td><td>SALE</td><td>BTREN23</td><td>SINGLE_ENTRY</td><td>null</td><td>T</td><td>12051.0</td><td>10228984231312</td><td>1.01359979052E11</td><td>210000.0</td><td>RECORRIDO ZIPAQUIRA</td><td>1.01375877965E11</td><td>Eventos 2023</td><td>1.0228596429782E13</td><td>16059.0</td><td>null</td><td>null</td><td>SIMPLE_TICKET</td><td>SIMPLE_TICKET</td><td>null</td><td>BOGOTA</td><td>11.  PARQUES Y FAMILIARES|TREN DE LA SABANA</td><td>RECORRIDOS</td><td>TURISMO</td><td>10127.0</td><td>10229077290291</td><td>Carrera 89 22b 96\n",
       "R406\n",
       "111111 BOGOTÁ\n",
       "COLOMBIA</td><td>Colombia</td><td>BOGOTÁ </td><td>57-3003850222</td><td>p_pedreros@hotmail.com</td><td>2023-03-25T08:20:00Z</td><td>2023-03-25</td><td>21:24:23</td><td>2023-03-23T21:24:23Z</td><td>08:20:00</td><td>10228866549538|10228984231312</td><td>10813033|10228866549538|10228984231312</td><td>BOGOTA</td><td>10228866549538|10228984231312|TIQUETE</td><td>702.0</td><td>Tren Turistico</td><td>null</td><td>null</td><td>800.181.743-1</td><td>120</td><td>null</td><td>RECORRIDO ZIPAQUIRA - 2023</td><td>Familia</td><td>Turismo</td><td>8000.0</td><td>Parques y familiares</td></tr><tr><td>Tuboleta.com</td><td>16261</td><td>null</td><td>SERVICIO IVA INCLUIDO</td><td>null</td><td></td><td>null</td><td>null</td><td>null</td><td>null</td><td>null</td><td>null</td><td>2023-03-23T00:00:00Z</td><td>03.2023</td><td>null</td><td>null</td><td>10813033</td><td>10229076923830</td><td>null</td><td>null</td><td>null</td><td>null</td><td>0.0</td><td>Tuboleta.com - ALL</td><td>Web</td><td>Internet gran público</td><td>6000.0</td><td>3.0</td><td>0.0</td><td>18000.0</td><td>null</td><td>null</td><td>18235156</td><td>null</td><td>2023-03-23T21:24:23Z</td><td>8212647</td><td>23.03.2023</td><td>null</td><td>null</td><td>18000.0</td><td>0.0</td><td>null</td><td>Pagado</td><td>SOLDED</td><td>3</td><td>SALE</td><td>null</td><td>CHARGES</td><td>null</td><td>F</td><td>0.0</td><td></td><td>null</td><td>18000.0</td><td>null</td><td>null</td><td>null</td><td>null</td><td>null</td><td>null</td><td>null</td><td>null</td><td>null</td><td>null</td><td>null</td><td></td><td>SIN DATO</td><td>SIN DATO</td><td>0.0</td><td>10229077290292</td><td>Carrera 89 22b 96\n",
       "R406\n",
       "111111 BOGOTÁ\n",
       "COLOMBIA</td><td>Colombia</td><td>BOGOTÁ </td><td>57-3003850222</td><td>p_pedreros@hotmail.com</td><td>null</td><td>null</td><td>21:24:23</td><td>2023-03-23T21:24:23Z</td><td>null</td><td>|</td><td>10813033||</td><td>null</td><td>|</td><td>null</td><td>null</td><td>null</td><td>null</td><td>null</td><td>null</td><td>null</td><td>SERVICIO IVA INCLUIDO</td><td>null</td><td>null</td><td>0.0</td><td>null</td></tr><tr><td>Tuboleta.com</td><td>16261</td><td>null</td><td>E-TICKET - MOBILE - $8000</td><td>null</td><td></td><td>null</td><td>null</td><td>null</td><td>null</td><td>null</td><td>null</td><td>2023-03-23T00:00:00Z</td><td>03.2023</td><td>null</td><td>null</td><td>10813033</td><td>10229076923830</td><td>null</td><td>null</td><td>null</td><td>null</td><td>0.0</td><td>Tuboleta.com - ALL</td><td>Web</td><td>Internet gran público</td><td>8000.0</td><td>1.0</td><td>0.0</td><td>8000.0</td><td>null</td><td>null</td><td>18235156</td><td>null</td><td>2023-03-23T21:24:23Z</td><td>8212647</td><td>23.03.2023</td><td>null</td><td>null</td><td>8000.0</td><td>0.0</td><td>null</td><td>Pagado</td><td>SOLDED</td><td>1</td><td>SALE</td><td>null</td><td>DELIVERY_OVERHEADS</td><td>null</td><td>F</td><td>0.0</td><td></td><td>null</td><td>8000.0</td><td>null</td><td>null</td><td>null</td><td>null</td><td>null</td><td>null</td><td>null</td><td>null</td><td>null</td><td>1.01322856703E11</td><td>null</td><td></td><td>SIN DATO</td><td>SIN DATO</td><td>0.0</td><td>10229077301697</td><td>Carrera 89 22b 96\n",
       "R406\n",
       "111111 BOGOTÁ\n",
       "COLOMBIA</td><td>Colombia</td><td>BOGOTÁ </td><td>57-3003850222</td><td>p_pedreros@hotmail.com</td><td>null</td><td>null</td><td>21:24:23</td><td>2023-03-23T21:24:23Z</td><td>null</td><td>|</td><td>10813033||</td><td>null</td><td>|</td><td>null</td><td>null</td><td>null</td><td>null</td><td>null</td><td>null</td><td>null</td><td>E-TICKET - MOBILE - $8000</td><td>null</td><td>null</td><td>0.0</td><td>null</td></tr><tr><td>Tren de la Sabana</td><td>101375831000</td><td>Producto Libre</td><td>CANCELACION DEL SEGURO</td><td>null</td><td>101380444192</td><td>null</td><td>En ejecución</td><td>null</td><td>UNICA</td><td>null</td><td>null</td><td>2023-03-23T00:00:00Z</td><td>03.2023</td><td>null</td><td>null</td><td>10813033</td><td>10229076923830</td><td>null</td><td>Contacto ocasional</td><td>Pasajero (Adulto)</td><td>null</td><td>null</td><td>Tuboleta.com - ALL</td><td>Web</td><td>Internet gran público</td><td>12051.0</td><td>1.0</td><td>0.0</td><td>12051.0</td><td>null</td><td>null</td><td>18235156</td><td>null</td><td>2023-03-23T21:24:23Z</td><td>8212647</td><td>23.03.2023</td><td>null</td><td>null</td><td>12051.0</td><td>1.0E7</td><td>null</td><td>Pagado</td><td>SOLDED</td><td>1</td><td>SALE</td><td>CAN_INS</td><td>SIMPLE_PRODUCT</td><td>null</td><td>F</td><td>0.0</td><td></td><td>null</td><td>12051.0</td><td>Asistencia Tuboleta</td><td>1.01375877965E11</td><td>null</td><td>null</td><td>4.85554012E8</td><td>null</td><td>null</td><td>SERVICE</td><td>OPEN</td><td>null</td><td>null</td><td></td><td>SIN DATO</td><td>SIN DATO</td><td>0.0</td><td>10229077301698</td><td>Carrera 89 22b 96\n",
       "R406\n",
       "111111 BOGOTÁ\n",
       "COLOMBIA</td><td>Colombia</td><td>BOGOTÁ </td><td>57-3003850222</td><td>p_pedreros@hotmail.com</td><td>null</td><td>null</td><td>21:24:23</td><td>2023-03-23T21:24:23Z</td><td>null</td><td>101380444192|</td><td>10813033|101380444192|</td><td>null</td><td>101380444192|</td><td>null</td><td>null</td><td>null</td><td>null</td><td>null</td><td>null</td><td>null</td><td>CANCELACION DEL SEGURO</td><td>null</td><td>null</td><td>0.0</td><td>null</td></tr></tbody></table></div>"
      ]
     },
     "metadata": {
      "application/vnd.databricks.v1+output": {
       "addedWidgets": {},
       "aggData": [],
       "aggError": "",
       "aggOverflow": false,
       "aggSchema": [],
       "aggSeriesLimitReached": false,
       "aggType": "",
       "arguments": {},
       "columnCustomDisplayInfos": {},
       "data": [
        [
         "Tren de la Sabana",
         "101375831000",
         "Evento",
         "RECORRIDO ZIPAQUIRA - 2023",
         "TURISTREN S.A.S ( 4590894 )",
         "10228866549538",
         null,
         "En ejecución",
         "Tren Turistico",
         "UNICA",
         "11.  PARQUES Y FAMILIARES",
         "TREN DE LA SABANA",
         "2023-03-23T00:00:00Z",
         "03.2023",
         "2023-03-25T08:20:00Z",
         "08:20",
         "10813033",
         "10229076923830",
         null,
         "Contacto ocasional",
         "Pasajero (Adulto)",
         "TIQUETE",
         756,
         "Tuboleta.com - ALL",
         "Web",
         "Internet gran público",
         70000,
         3,
         0,
         210000,
         null,
         null,
         "18235156",
         18000,
         "2023-03-23T21:24:23Z",
         "8212647",
         "23.03.2023",
         "25.03.23",
         15126,
         210000,
         702,
         101431452368,
         "Pagado",
         "SOLDED",
         "3",
         "SALE",
         "BTREN23",
         "SINGLE_ENTRY",
         null,
         "T",
         12051,
         "10228984231312",
         101359979052,
         210000,
         "RECORRIDO ZIPAQUIRA",
         101375877965,
         "Eventos 2023",
         10228596429782,
         16059,
         null,
         null,
         "SIMPLE_TICKET",
         "SIMPLE_TICKET",
         null,
         "BOGOTA",
         "11.  PARQUES Y FAMILIARES|TREN DE LA SABANA",
         "RECORRIDOS",
         "TURISMO",
         10127,
         "10229077290291",
         "Carrera 89 22b 96\nR406\n111111 BOGOTÁ\nCOLOMBIA",
         "Colombia",
         "BOGOTÁ ",
         "57-3003850222",
         "p_pedreros@hotmail.com",
         "2023-03-25T08:20:00Z",
         "2023-03-25",
         "21:24:23",
         "2023-03-23T21:24:23Z",
         "08:20:00",
         "10228866549538|10228984231312",
         "10813033|10228866549538|10228984231312",
         "BOGOTA",
         "10228866549538|10228984231312|TIQUETE",
         702,
         "Tren Turistico",
         null,
         null,
         "800.181.743-1",
         "120",
         null,
         "RECORRIDO ZIPAQUIRA - 2023",
         "Familia",
         "Turismo",
         8000,
         "Parques y familiares"
        ],
        [
         "Tuboleta.com",
         "16261",
         null,
         "SERVICIO IVA INCLUIDO",
         null,
         "",
         null,
         null,
         null,
         null,
         null,
         null,
         "2023-03-23T00:00:00Z",
         "03.2023",
         null,
         null,
         "10813033",
         "10229076923830",
         null,
         null,
         null,
         null,
         0,
         "Tuboleta.com - ALL",
         "Web",
         "Internet gran público",
         6000,
         3,
         0,
         18000,
         null,
         null,
         "18235156",
         null,
         "2023-03-23T21:24:23Z",
         "8212647",
         "23.03.2023",
         null,
         null,
         18000,
         0,
         null,
         "Pagado",
         "SOLDED",
         "3",
         "SALE",
         null,
         "CHARGES",
         null,
         "F",
         0,
         "",
         null,
         18000,
         null,
         null,
         null,
         null,
         null,
         null,
         null,
         null,
         null,
         null,
         null,
         "",
         "SIN DATO",
         "SIN DATO",
         0,
         "10229077290292",
         "Carrera 89 22b 96\nR406\n111111 BOGOTÁ\nCOLOMBIA",
         "Colombia",
         "BOGOTÁ ",
         "57-3003850222",
         "p_pedreros@hotmail.com",
         null,
         null,
         "21:24:23",
         "2023-03-23T21:24:23Z",
         null,
         "|",
         "10813033||",
         null,
         "|",
         null,
         null,
         null,
         null,
         null,
         null,
         null,
         "SERVICIO IVA INCLUIDO",
         null,
         null,
         0,
         null
        ],
        [
         "Tuboleta.com",
         "16261",
         null,
         "E-TICKET - MOBILE - $8000",
         null,
         "",
         null,
         null,
         null,
         null,
         null,
         null,
         "2023-03-23T00:00:00Z",
         "03.2023",
         null,
         null,
         "10813033",
         "10229076923830",
         null,
         null,
         null,
         null,
         0,
         "Tuboleta.com - ALL",
         "Web",
         "Internet gran público",
         8000,
         1,
         0,
         8000,
         null,
         null,
         "18235156",
         null,
         "2023-03-23T21:24:23Z",
         "8212647",
         "23.03.2023",
         null,
         null,
         8000,
         0,
         null,
         "Pagado",
         "SOLDED",
         "1",
         "SALE",
         null,
         "DELIVERY_OVERHEADS",
         null,
         "F",
         0,
         "",
         null,
         8000,
         null,
         null,
         null,
         null,
         null,
         null,
         null,
         null,
         null,
         101322856703,
         null,
         "",
         "SIN DATO",
         "SIN DATO",
         0,
         "10229077301697",
         "Carrera 89 22b 96\nR406\n111111 BOGOTÁ\nCOLOMBIA",
         "Colombia",
         "BOGOTÁ ",
         "57-3003850222",
         "p_pedreros@hotmail.com",
         null,
         null,
         "21:24:23",
         "2023-03-23T21:24:23Z",
         null,
         "|",
         "10813033||",
         null,
         "|",
         null,
         null,
         null,
         null,
         null,
         null,
         null,
         "E-TICKET - MOBILE - $8000",
         null,
         null,
         0,
         null
        ],
        [
         "Tren de la Sabana",
         "101375831000",
         "Producto Libre",
         "CANCELACION DEL SEGURO",
         null,
         "101380444192",
         null,
         "En ejecución",
         null,
         "UNICA",
         null,
         null,
         "2023-03-23T00:00:00Z",
         "03.2023",
         null,
         null,
         "10813033",
         "10229076923830",
         null,
         "Contacto ocasional",
         "Pasajero (Adulto)",
         null,
         null,
         "Tuboleta.com - ALL",
         "Web",
         "Internet gran público",
         12051,
         1,
         0,
         12051,
         null,
         null,
         "18235156",
         null,
         "2023-03-23T21:24:23Z",
         "8212647",
         "23.03.2023",
         null,
         null,
         12051,
         10000000,
         null,
         "Pagado",
         "SOLDED",
         "1",
         "SALE",
         "CAN_INS",
         "SIMPLE_PRODUCT",
         null,
         "F",
         0,
         "",
         null,
         12051,
         "Asistencia Tuboleta",
         101375877965,
         null,
         null,
         485554012,
         null,
         null,
         "SERVICE",
         "OPEN",
         null,
         null,
         "",
         "SIN DATO",
         "SIN DATO",
         0,
         "10229077301698",
         "Carrera 89 22b 96\nR406\n111111 BOGOTÁ\nCOLOMBIA",
         "Colombia",
         "BOGOTÁ ",
         "57-3003850222",
         "p_pedreros@hotmail.com",
         null,
         null,
         "21:24:23",
         "2023-03-23T21:24:23Z",
         null,
         "101380444192|",
         "10813033|101380444192|",
         null,
         "101380444192|",
         null,
         null,
         null,
         null,
         null,
         null,
         null,
         "CANCELACION DEL SEGURO",
         null,
         null,
         0,
         null
        ]
       ],
       "datasetInfos": [],
       "dbfsResultPath": null,
       "isJsonSchema": true,
       "metadata": {},
       "overflow": false,
       "plotOptions": {
        "customPlotOptions": {},
        "displayType": "table",
        "pivotAggregation": null,
        "pivotColumns": null,
        "xColumns": null,
        "yColumns": null
       },
       "removedWidgets": [],
       "schema": [
        {
         "metadata": "{\"scale\":0}",
         "name": "ORGANIZATION",
         "type": "\"string\""
        },
        {
         "metadata": "{\"scale\":0}",
         "name": "T_ORGANIZ_ID",
         "type": "\"string\""
        },
        {
         "metadata": "{}",
         "name": "PRODUCT_FAMILY",
         "type": "\"string\""
        },
        {
         "metadata": "{}",
         "name": "PRODUCT",
         "type": "\"string\""
        },
        {
         "metadata": "{\"scale\":0}",
         "name": "INVOICE_CONTACT_FMT_NAME",
         "type": "\"string\""
        },
        {
         "metadata": "{}",
         "name": "T_PRODUCT_ID",
         "type": "\"string\""
        },
        {
         "metadata": "{\"scale\":0}",
         "name": "LICENCE_NUMBER",
         "type": "\"string\""
        },
        {
         "metadata": "{\"scale\":0}",
         "name": "PRODUCT_STATE",
         "type": "\"string\""
        },
        {
         "metadata": "{\"scale\":0}",
         "name": "SITE",
         "type": "\"string\""
        },
        {
         "metadata": "{\"scale\":0}",
         "name": "SEASON",
         "type": "\"string\""
        },
        {
         "metadata": "{\"scale\":0}",
         "name": "TOPIC",
         "type": "\"string\""
        },
        {
         "metadata": "{\"scale\":0}",
         "name": "SUB_TOPIC",
         "type": "\"string\""
        },
        {
         "metadata": "{\"scale\":0}",
         "name": "REFERENCE_DATE",
         "type": "\"timestamp\""
        },
        {
         "metadata": "{\"scale\":0}",
         "name": "ORDER_DATE_MM_YY",
         "type": "\"string\""
        },
        {
         "metadata": "{\"scale\":3}",
         "name": "PRODUCT_DATE_TIME",
         "type": "\"timestamp\""
        },
        {
         "metadata": "{\"scale\":0}",
         "name": "PRODUCT_TIME",
         "type": "\"string\""
        },
        {
         "metadata": "{\"scale\":0}",
         "name": "FILE_NUMBER",
         "type": "\"string\""
        },
        {
         "metadata": "{\"scale\":0}",
         "name": "T_ORDER_CONTACT_ID",
         "type": "\"string\""
        },
        {
         "metadata": "{\"scale\":0}",
         "name": "PROMOTION",
         "type": "\"string\""
        },
        {
         "metadata": "{\"scale\":0}",
         "name": "AUDIENCE_CATEGORY",
         "type": "\"string\""
        },
        {
         "metadata": "{\"scale\":0}",
         "name": "AUDIENCE_SUB_CATEGORY",
         "type": "\"string\""
        },
        {
         "metadata": "{}",
         "name": "LOGICAL_SEAT_CATEGORY",
         "type": "\"string\""
        },
        {
         "metadata": "{\"scale\":0}",
         "name": "PERFORMANCE_QUOTA",
         "type": "\"double\""
        },
        {
         "metadata": "{\"scale\":0}",
         "name": "SALES_CHANNEL",
         "type": "\"string\""
        },
        {
         "metadata": "{}",
         "name": "SALES_CHANNEL_N",
         "type": "\"string\""
        },
        {
         "metadata": "{\"scale\":0}",
         "name": "SALES_CHANNEL_TYPE",
         "type": "\"string\""
        },
        {
         "metadata": "{\"scale\":0}",
         "name": "UNIT_AMT_ITX",
         "type": "\"double\""
        },
        {
         "metadata": "{\"scale\":0}",
         "name": "NET_SOLD_T_QTY",
         "type": "\"double\""
        },
        {
         "metadata": "{\"scale\":0}",
         "name": "NET_SOLD_C_QTY",
         "type": "\"double\""
        },
        {
         "metadata": "{\"scale\":0}",
         "name": "NET_SOLD_TKT_AMT_ITX",
         "type": "\"double\""
        },
        {
         "metadata": "{\"scale\":0}",
         "name": "TEAM_1",
         "type": "\"string\""
        },
        {
         "metadata": "{\"scale\":0}",
         "name": "TEAM_2",
         "type": "\"string\""
        },
        {
         "metadata": "{\"scale\":0}",
         "name": "ORDER_NUMBER",
         "type": "\"string\""
        },
        {
         "metadata": "{\"scale\":0}",
         "name": "CHARGE_AMT_ITX",
         "type": "\"double\""
        },
        {
         "metadata": "{\"scale\":0}",
         "name": "ORDER_CREATION_DATE",
         "type": "\"timestamp\""
        },
        {
         "metadata": "{\"scale\":0}",
         "name": "ORDER_CONTACT_NUMBER",
         "type": "\"string\""
        },
        {
         "metadata": "{\"scale\":0}",
         "name": "ORDER_DATE",
         "type": "\"string\""
        },
        {
         "metadata": "{\"scale\":0}",
         "name": "PRODUCT_DATE",
         "type": "\"string\""
        },
        {
         "metadata": "{\"scale\":0}",
         "name": "CHARGE_AMT_ETX",
         "type": "\"double\""
        },
        {
         "metadata": "{\"scale\":0}",
         "name": "total_unit_amt_itx",
         "type": "\"double\""
        },
        {
         "metadata": "{\"scale\":0}",
         "name": "DN_QUOTA",
         "type": "\"double\""
        },
        {
         "metadata": "{\"scale\":0}",
         "name": "T_INVOICE_CONTACT_ID",
         "type": "\"double\""
        },
        {
         "metadata": "{\"scale\":0}",
         "name": "File_state",
         "type": "\"string\""
        },
        {
         "metadata": "{\"scale\":0}",
         "name": "t_file_state",
         "type": "\"string\""
        },
        {
         "metadata": "{\"scale\":0}",
         "name": "ORDER_QUANTITY",
         "type": "\"string\""
        },
        {
         "metadata": "{\"scale\":0}",
         "name": "T_OPERATION_TYPE",
         "type": "\"string\""
        },
        {
         "metadata": "{\"scale\":0}",
         "name": "PRODUCT_CODE",
         "type": "\"string\""
        },
        {
         "metadata": "{\"scale\":0}",
         "name": "t_operation_kind",
         "type": "\"string\""
        },
        {
         "metadata": "{\"scale\":0}",
         "name": "parent_product",
         "type": "\"string\""
        },
        {
         "metadata": "{\"scale\":0}",
         "name": "INSURED",
         "type": "\"string\""
        },
        {
         "metadata": "{\"scale\":0}",
         "name": "INSURED_AMT_ITX",
         "type": "\"double\""
        },
        {
         "metadata": "{}",
         "name": "T_PERFORMANCE_ID",
         "type": "\"string\""
        },
        {
         "metadata": "{\"scale\":0}",
         "name": "T_SITE_ID",
         "type": "\"double\""
        },
        {
         "metadata": "{\"scale\":0}",
         "name": "NET_SOLD_AMT_ITX",
         "type": "\"double\""
        },
        {
         "metadata": "{\"scale\":0}",
         "name": "PRODUCT_EXTERNAL_NAME",
         "type": "\"string\""
        },
        {
         "metadata": "{\"scale\":0}",
         "name": "T_SEASON_ID",
         "type": "\"double\""
        },
        {
         "metadata": "{\"scale\":0}",
         "name": "ACTIVITY",
         "type": "\"string\""
        },
        {
         "metadata": "{\"scale\":0}",
         "name": "T_ACTIVITY_ID",
         "type": "\"double\""
        },
        {
         "metadata": "{\"scale\":0}",
         "name": "T_PRODUCT_FAMILY_ID",
         "type": "\"double\""
        },
        {
         "metadata": "{\"scale\":0}",
         "name": "PRODUCT_TYPE",
         "type": "\"string\""
        },
        {
         "metadata": "{\"scale\":0}",
         "name": "T_PRODUCT_TYPE_ID",
         "type": "\"double\""
        },
        {
         "metadata": "{\"scale\":0}",
         "name": "T_FAMILY_TYPE",
         "type": "\"string\""
        },
        {
         "metadata": "{\"scale\":0}",
         "name": "T_FAMILY_SUB_TYPE",
         "type": "\"string\""
        },
        {
         "metadata": "{\"scale\":0}",
         "name": "T_SHIPMENTFEE_ID",
         "type": "\"double\""
        },
        {
         "metadata": "{\"scale\":0}",
         "name": "TOWN",
         "type": "\"string\""
        },
        {
         "metadata": "{}",
         "name": "TOPIC_KEY",
         "type": "\"string\""
        },
        {
         "metadata": "{}",
         "name": "TOPIC_N",
         "type": "\"string\""
        },
        {
         "metadata": "{}",
         "name": "SUB_TOPIC_N",
         "type": "\"string\""
        },
        {
         "metadata": "{\"scale\":0}",
         "name": "INSURED_AMT_ETX",
         "type": "\"double\""
        },
        {
         "metadata": "{\"scale\":0}",
         "name": "T_OPERATION_ID",
         "type": "\"string\""
        },
        {
         "metadata": "{\"scale\":0}",
         "name": "ORDER_CONTACT_ADDRESS",
         "type": "\"string\""
        },
        {
         "metadata": "{\"scale\":0}",
         "name": "ORDER_CONTACT_COUNTRY",
         "type": "\"string\""
        },
        {
         "metadata": "{\"scale\":0}",
         "name": "ORDER_CONTACT_TOWN",
         "type": "\"string\""
        },
        {
         "metadata": "{\"scale\":0}",
         "name": "ORDER_CONTACT_PRIMARY_PHONE",
         "type": "\"string\""
        },
        {
         "metadata": "{\"scale\":0}",
         "name": "ORDER_CONTACT_EMAIL",
         "type": "\"string\""
        },
        {
         "metadata": "{}",
         "name": "Fecha_evento",
         "type": "\"timestamp\""
        },
        {
         "metadata": "{}",
         "name": "Date_evento",
         "type": "\"date\""
        },
        {
         "metadata": "{}",
         "name": "Hora_compra",
         "type": "\"string\""
        },
        {
         "metadata": "{\"scale\":0}",
         "name": "Hora_de_compra",
         "type": "\"timestamp\""
        },
        {
         "metadata": "{}",
         "name": "Hora_evento",
         "type": "\"string\""
        },
        {
         "metadata": "{}",
         "name": "Key_evento",
         "type": "\"string\""
        },
        {
         "metadata": "{}",
         "name": "Key_handling",
         "type": "\"string\""
        },
        {
         "metadata": "{}",
         "name": "TOWN_N",
         "type": "\"string\""
        },
        {
         "metadata": "{}",
         "name": "Key_aforo",
         "type": "\"string\""
        },
        {
         "metadata": "{}",
         "name": "Nuevo_aforo",
         "type": "\"double\""
        },
        {
         "metadata": "{}",
         "name": "VENUE_N",
         "type": "\"string\""
        },
        {
         "metadata": "{}",
         "name": "Tipo_venue",
         "type": "\"string\""
        },
        {
         "metadata": "{}",
         "name": "TEAM_2_N",
         "type": "\"string\""
        },
        {
         "metadata": "{}",
         "name": "NIT",
         "type": "\"string\""
        },
        {
         "metadata": "{}",
         "name": "Contrato",
         "type": "\"string\""
        },
        {
         "metadata": "{}",
         "name": "MATCH_DAY",
         "type": "\"string\""
        },
        {
         "metadata": "{}",
         "name": "PRODUCT_N",
         "type": "\"string\""
        },
        {
         "metadata": "{}",
         "name": "TEMA_MERCADEO",
         "type": "\"string\""
        },
        {
         "metadata": "{}",
         "name": "SUB_TEMA_MERCADEO",
         "type": "\"string\""
        },
        {
         "metadata": "{}",
         "name": "Hfee",
         "type": "\"double\""
        },
        {
         "metadata": "{}",
         "name": "TOPIC_PPTO",
         "type": "\"string\""
        }
       ],
       "type": "table"
      }
     },
     "output_type": "display_data"
    }
   ],
   "source": [
    "tmp = sales_.filter(col('FILE_NUMBER') == '10813033') #DELIVERY_OVERHEADS\n",
    "#tmp = sales_.filter(col('T_OPERATION_KIND').like('%DELIVERY_OVERHEADS%')) #DELIVERY_OVERHEADS\n",
    "display(tmp.limit(10))"
   ]
  },
  {
   "cell_type": "code",
   "execution_count": null,
   "metadata": {
    "application/vnd.databricks.v1+cell": {
     "cellMetadata": {
      "byteLimit": 2048000,
      "rowLimit": 10000
     },
     "inputWidgets": {},
     "nuid": "cc7ea023-f3f4-4675-ab7f-5a4e59186669",
     "showTitle": false,
     "title": ""
    }
   },
   "outputs": [
    {
     "name": "stdout",
     "output_type": "stream",
     "text": [
      "90161\n"
     ]
    }
   ],
   "source": [
    "# Sales del organismo Tren de la Sabana\n",
    "sales = sales_.withColumn('REFERENCE_DATE', to_date('REFERENCE_DATE')).\\\n",
    "    filter((sales_['T_ORGANIZ_ID']=='101375831000') &\n",
    "           (sales_['REFERENCE_DATE'] >= '2022-08-01'))\n",
    "\n",
    "print(sales.count())\n",
    "\n",
    "# Handling Fee\n",
    "exp = sales.select('FILE_NUMBER').distinct().collect()\n",
    "#display(tmp.limit(10))\n",
    "\n",
    "exp = [row.FILE_NUMBER for row in exp]\n",
    "\n",
    "hfee = sales_.filter((col('FILE_NUMBER').isin(exp)) &\n",
    "                     (col('T_OPERATION_KIND').isin('DELIVERY_OVERHEADS','ORDER_OVERHEADS')))"
   ]
  },
  {
   "cell_type": "code",
   "execution_count": null,
   "metadata": {
    "application/vnd.databricks.v1+cell": {
     "cellMetadata": {
      "byteLimit": 2048000,
      "rowLimit": 10000
     },
     "inputWidgets": {},
     "nuid": "45295d26-760e-4bb6-a691-1c386ad81a52",
     "showTitle": false,
     "title": ""
    }
   },
   "outputs": [
    {
     "data": {
      "text/html": [
       "<style scoped>\n",
       "  .table-result-container {\n",
       "    max-height: 300px;\n",
       "    overflow: auto;\n",
       "  }\n",
       "  table, th, td {\n",
       "    border: 1px solid black;\n",
       "    border-collapse: collapse;\n",
       "  }\n",
       "  th, td {\n",
       "    padding: 5px;\n",
       "  }\n",
       "  th {\n",
       "    text-align: left;\n",
       "  }\n",
       "</style><div class='table-result-container'><table class='table-result'><thead style='background-color: white'><tr><th>ORGANIZATION</th><th>T_ORGANIZ_ID</th><th>PRODUCT_FAMILY</th><th>PRODUCT</th><th>INVOICE_CONTACT_FMT_NAME</th><th>T_PRODUCT_ID</th><th>LICENCE_NUMBER</th><th>PRODUCT_STATE</th><th>SITE</th><th>SEASON</th><th>TOPIC</th><th>SUB_TOPIC</th><th>REFERENCE_DATE</th><th>ORDER_DATE_MM_YY</th><th>PRODUCT_DATE_TIME</th><th>PRODUCT_TIME</th><th>FILE_NUMBER</th><th>T_ORDER_CONTACT_ID</th><th>PROMOTION</th><th>AUDIENCE_CATEGORY</th><th>AUDIENCE_SUB_CATEGORY</th><th>LOGICAL_SEAT_CATEGORY</th><th>PERFORMANCE_QUOTA</th><th>SALES_CHANNEL</th><th>SALES_CHANNEL_N</th><th>SALES_CHANNEL_TYPE</th><th>UNIT_AMT_ITX</th><th>NET_SOLD_T_QTY</th><th>NET_SOLD_C_QTY</th><th>NET_SOLD_TKT_AMT_ITX</th><th>TEAM_1</th><th>TEAM_2</th><th>ORDER_NUMBER</th><th>CHARGE_AMT_ITX</th><th>ORDER_CREATION_DATE</th><th>ORDER_CONTACT_NUMBER</th><th>ORDER_DATE</th><th>PRODUCT_DATE</th><th>CHARGE_AMT_ETX</th><th>total_unit_amt_itx</th><th>DN_QUOTA</th><th>T_INVOICE_CONTACT_ID</th><th>File_state</th><th>t_file_state</th><th>ORDER_QUANTITY</th><th>T_OPERATION_TYPE</th><th>PRODUCT_CODE</th><th>t_operation_kind</th><th>parent_product</th><th>INSURED</th><th>INSURED_AMT_ITX</th><th>T_PERFORMANCE_ID</th><th>T_SITE_ID</th><th>NET_SOLD_AMT_ITX</th><th>PRODUCT_EXTERNAL_NAME</th><th>T_SEASON_ID</th><th>ACTIVITY</th><th>T_ACTIVITY_ID</th><th>T_PRODUCT_FAMILY_ID</th><th>PRODUCT_TYPE</th><th>T_PRODUCT_TYPE_ID</th><th>T_FAMILY_TYPE</th><th>T_FAMILY_SUB_TYPE</th><th>T_SHIPMENTFEE_ID</th><th>TOWN</th><th>TOPIC_KEY</th><th>TOPIC_N</th><th>SUB_TOPIC_N</th><th>INSURED_AMT_ETX</th><th>T_OPERATION_ID</th><th>ORDER_CONTACT_ADDRESS</th><th>ORDER_CONTACT_COUNTRY</th><th>ORDER_CONTACT_TOWN</th><th>ORDER_CONTACT_PRIMARY_PHONE</th><th>ORDER_CONTACT_EMAIL</th><th>Fecha_evento</th><th>Date_evento</th><th>Hora_compra</th><th>Hora_de_compra</th><th>Hora_evento</th><th>Key_evento</th><th>Key_handling</th><th>TOWN_N</th><th>Key_aforo</th><th>Nuevo_aforo</th><th>VENUE_N</th><th>Tipo_venue</th><th>TEAM_2_N</th><th>NIT</th><th>Contrato</th><th>MATCH_DAY</th><th>PRODUCT_N</th><th>TEMA_MERCADEO</th><th>SUB_TEMA_MERCADEO</th><th>Hfee</th><th>TOPIC_PPTO</th></tr></thead><tbody><tr><td>Tuboleta.com</td><td>16261</td><td>null</td><td>E-TICKET - MOBILE - $8000</td><td>null</td><td></td><td>null</td><td>null</td><td>null</td><td>null</td><td>null</td><td>null</td><td>2023-03-23T00:00:00Z</td><td>03.2023</td><td>null</td><td>null</td><td>10813033</td><td>10229076923830</td><td>null</td><td>null</td><td>null</td><td>null</td><td>0.0</td><td>Tuboleta.com - ALL</td><td>Web</td><td>Internet gran público</td><td>8000.0</td><td>1.0</td><td>0.0</td><td>8000.0</td><td>null</td><td>null</td><td>18235156</td><td>null</td><td>2023-03-23T21:24:23Z</td><td>8212647</td><td>23.03.2023</td><td>null</td><td>null</td><td>8000.0</td><td>0.0</td><td>null</td><td>Pagado</td><td>SOLDED</td><td>1</td><td>SALE</td><td>null</td><td>DELIVERY_OVERHEADS</td><td>null</td><td>F</td><td>0.0</td><td></td><td>null</td><td>8000.0</td><td>null</td><td>null</td><td>null</td><td>null</td><td>null</td><td>null</td><td>null</td><td>null</td><td>null</td><td>1.01322856703E11</td><td>null</td><td></td><td>SIN DATO</td><td>SIN DATO</td><td>0.0</td><td>10229077301697</td><td>Carrera 89 22b 96\n",
       "R406\n",
       "111111 BOGOTÁ\n",
       "COLOMBIA</td><td>Colombia</td><td>BOGOTÁ </td><td>57-3003850222</td><td>p_pedreros@hotmail.com</td><td>null</td><td>null</td><td>21:24:23</td><td>2023-03-23T21:24:23Z</td><td>null</td><td>|</td><td>10813033||</td><td>null</td><td>|</td><td>null</td><td>null</td><td>null</td><td>null</td><td>null</td><td>null</td><td>null</td><td>E-TICKET - MOBILE - $8000</td><td>null</td><td>null</td><td>0.0</td><td>null</td></tr><tr><td>Tuboleta.com</td><td>16261</td><td>null</td><td>E-TICKET - MOBILE - $8000</td><td>null</td><td></td><td>null</td><td>null</td><td>null</td><td>null</td><td>null</td><td>null</td><td>2023-04-04T00:00:00Z</td><td>04.2023</td><td>null</td><td>null</td><td>10986534</td><td>101329934940</td><td>null</td><td>null</td><td>null</td><td>null</td><td>0.0</td><td>Tuboleta.com - ALL</td><td>Web</td><td>Internet gran público</td><td>8000.0</td><td>1.0</td><td>0.0</td><td>8000.0</td><td>null</td><td>null</td><td>18456975</td><td>null</td><td>2023-04-04T21:15:41Z</td><td>29449</td><td>04.04.2023</td><td>null</td><td>null</td><td>8000.0</td><td>0.0</td><td>null</td><td>Pagado</td><td>SOLDED</td><td>1</td><td>SALE</td><td>null</td><td>DELIVERY_OVERHEADS</td><td>null</td><td>F</td><td>0.0</td><td></td><td>null</td><td>8000.0</td><td>null</td><td>null</td><td>null</td><td>null</td><td>null</td><td>null</td><td>null</td><td>null</td><td>null</td><td>1.01322856703E11</td><td>null</td><td></td><td>SIN DATO</td><td>SIN DATO</td><td>0.0</td><td>10229102733177</td><td>transversal 21 No 25 d 22 la pradera\n",
       "dosquebradas piso 2\n",
       "111111 DOSQUEBRADAS\n",
       "COLOMBIA</td><td>Colombia</td><td>DOSQUEBRADAS</td><td>57-3116103985</td><td>osvaldo080@gmail.com</td><td>null</td><td>null</td><td>21:15:41</td><td>2023-04-04T21:15:41Z</td><td>null</td><td>|</td><td>10986534||</td><td>null</td><td>|</td><td>null</td><td>null</td><td>null</td><td>null</td><td>null</td><td>null</td><td>null</td><td>E-TICKET - MOBILE - $8000</td><td>null</td><td>null</td><td>0.0</td><td>null</td></tr><tr><td>Tuboleta.com</td><td>16261</td><td>null</td><td>E-TICKET - MOBILE - $8000</td><td>null</td><td></td><td>null</td><td>null</td><td>null</td><td>null</td><td>null</td><td>null</td><td>2023-04-05T00:00:00Z</td><td>04.2023</td><td>null</td><td>null</td><td>10994750</td><td>10228648961642</td><td>null</td><td>null</td><td>null</td><td>null</td><td>0.0</td><td>Tuboleta.com - ALL</td><td>Web</td><td>Internet gran público</td><td>8000.0</td><td>1.0</td><td>0.0</td><td>8000.0</td><td>null</td><td>null</td><td>18466641</td><td>null</td><td>2023-04-05T21:30:54Z</td><td>7360992</td><td>05.04.2023</td><td>null</td><td>null</td><td>8000.0</td><td>0.0</td><td>null</td><td>Pagado</td><td>SOLDED</td><td>1</td><td>SALE</td><td>null</td><td>DELIVERY_OVERHEADS</td><td>null</td><td>F</td><td>0.0</td><td></td><td>null</td><td>8000.0</td><td>null</td><td>null</td><td>null</td><td>null</td><td>null</td><td>null</td><td>null</td><td>null</td><td>null</td><td>1.01322856703E11</td><td>null</td><td></td><td>SIN DATO</td><td>SIN DATO</td><td>0.0</td><td>10229104922697</td><td>Calle 52a 9-52\n",
       "Chapinero\n",
       "111111 BOGOTA\n",
       "COLOMBIA</td><td>Colombia</td><td>BOGOTA</td><td>57-3202261030</td><td>de.vargas356@gmail.com</td><td>null</td><td>null</td><td>21:30:54</td><td>2023-04-05T21:30:54Z</td><td>null</td><td>|</td><td>10994750||</td><td>null</td><td>|</td><td>null</td><td>null</td><td>null</td><td>null</td><td>null</td><td>null</td><td>null</td><td>E-TICKET - MOBILE - $8000</td><td>null</td><td>null</td><td>0.0</td><td>null</td></tr><tr><td>Tuboleta.com</td><td>16261</td><td>null</td><td>E-TICKET - MOBILE - $8000</td><td>null</td><td></td><td>null</td><td>null</td><td>null</td><td>null</td><td>null</td><td>null</td><td>2023-04-18T00:00:00Z</td><td>04.2023</td><td>null</td><td>null</td><td>11153724</td><td>10229128326849</td><td>null</td><td>null</td><td>null</td><td>null</td><td>0.0</td><td>Tuboleta.com - ALL</td><td>Web</td><td>Internet gran público</td><td>8000.0</td><td>1.0</td><td>0.0</td><td>8000.0</td><td>null</td><td>null</td><td>18688592</td><td>null</td><td>2023-04-18T14:57:45Z</td><td>8282198</td><td>18.04.2023</td><td>null</td><td>null</td><td>8000.0</td><td>0.0</td><td>null</td><td>Pagado</td><td>SOLDED</td><td>1</td><td>SALE</td><td>null</td><td>DELIVERY_OVERHEADS</td><td>null</td><td>F</td><td>0.0</td><td></td><td>null</td><td>8000.0</td><td>null</td><td>null</td><td>null</td><td>null</td><td>null</td><td>null</td><td>null</td><td>null</td><td>null</td><td>1.01322856703E11</td><td>null</td><td></td><td>SIN DATO</td><td>SIN DATO</td><td>0.0</td><td>10229129860536</td><td>Av Carrera 9N14116\n",
       "111111 BOGOTÁ D.C.\n",
       "COLOMBIA</td><td>Colombia</td><td>BOGOTÁ D.C.</td><td>57-3142716212</td><td>monica.a.rincon85@gmail.com</td><td>null</td><td>null</td><td>14:57:45</td><td>2023-04-18T14:57:45Z</td><td>null</td><td>|</td><td>11153724||</td><td>null</td><td>|</td><td>null</td><td>null</td><td>null</td><td>null</td><td>null</td><td>null</td><td>null</td><td>E-TICKET - MOBILE - $8000</td><td>null</td><td>null</td><td>0.0</td><td>null</td></tr><tr><td>Tuboleta.com</td><td>16261</td><td>null</td><td>E-TICKET - MOBILE - $8000</td><td>null</td><td></td><td>null</td><td>null</td><td>null</td><td>null</td><td>null</td><td>null</td><td>2023-04-22T00:00:00Z</td><td>04.2023</td><td>null</td><td>null</td><td>11216264</td><td>101372017111</td><td>null</td><td>null</td><td>null</td><td>null</td><td>0.0</td><td>Tuboleta.com - ALL</td><td>Web</td><td>Internet gran público</td><td>8000.0</td><td>1.0</td><td>0.0</td><td>8000.0</td><td>null</td><td>null</td><td>18760493</td><td>null</td><td>2023-04-22T18:21:03Z</td><td>4292569</td><td>22.04.2023</td><td>null</td><td>null</td><td>8000.0</td><td>0.0</td><td>null</td><td>Pagado</td><td>SOLDED</td><td>1</td><td>SALE</td><td>null</td><td>DELIVERY_OVERHEADS</td><td>null</td><td>F</td><td>0.0</td><td></td><td>null</td><td>8000.0</td><td>null</td><td>null</td><td>null</td><td>null</td><td>null</td><td>null</td><td>null</td><td>null</td><td>null</td><td>1.01322856703E11</td><td>null</td><td></td><td>SIN DATO</td><td>SIN DATO</td><td>0.0</td><td>10229138404175</td><td>Calle 54As 33-37\n",
       "San Vicente Ferrer\n",
       "111111 BOGOTA\n",
       "COLOMBIA</td><td>Colombia</td><td>BOGOTA</td><td>57-3508999448</td><td>mecandres23@gmail.com</td><td>null</td><td>null</td><td>18:21:03</td><td>2023-04-22T18:21:03Z</td><td>null</td><td>|</td><td>11216264||</td><td>null</td><td>|</td><td>null</td><td>null</td><td>null</td><td>null</td><td>null</td><td>null</td><td>null</td><td>E-TICKET - MOBILE - $8000</td><td>null</td><td>null</td><td>0.0</td><td>null</td></tr><tr><td>Tuboleta.com</td><td>16261</td><td>null</td><td>E-TICKET - MOBILE - $8000</td><td>null</td><td></td><td>null</td><td>null</td><td>null</td><td>null</td><td>null</td><td>null</td><td>2023-05-25T00:00:00Z</td><td>05.2023</td><td>null</td><td>null</td><td>11637873</td><td>10229207524520</td><td>null</td><td>null</td><td>null</td><td>null</td><td>0.0</td><td>Tuboleta.com - ALL</td><td>Web</td><td>Internet gran público</td><td>8000.0</td><td>1.0</td><td>0.0</td><td>8000.0</td><td>null</td><td>null</td><td>19261954</td><td>null</td><td>2023-05-25T22:59:20Z</td><td>8341549</td><td>25.05.2023</td><td>null</td><td>null</td><td>8000.0</td><td>0.0</td><td>null</td><td>Pagado</td><td>SOLDED</td><td>1</td><td>SALE</td><td>null</td><td>DELIVERY_OVERHEADS</td><td>null</td><td>F</td><td>0.0</td><td></td><td>null</td><td>8000.0</td><td>null</td><td>null</td><td>null</td><td>null</td><td>null</td><td>null</td><td>null</td><td>null</td><td>null</td><td>1.01322856703E11</td><td>null</td><td></td><td>SIN DATO</td><td>SIN DATO</td><td>0.0</td><td>10229214642529</td><td>Cra 35N53 33\n",
       "111111 BUCARAMANGA\n",
       "COLOMBIA</td><td>Colombia</td><td>BUCARAMANGA</td><td>57-3162869050</td><td>luisvillacreces85@gmail.com</td><td>null</td><td>null</td><td>22:59:20</td><td>2023-05-25T22:59:20Z</td><td>null</td><td>|</td><td>11637873||</td><td>null</td><td>|</td><td>null</td><td>null</td><td>null</td><td>null</td><td>null</td><td>null</td><td>null</td><td>E-TICKET - MOBILE - $8000</td><td>null</td><td>null</td><td>0.0</td><td>null</td></tr><tr><td>Tuboleta.com</td><td>16261</td><td>null</td><td>E-TICKET - MOBILE - $8000</td><td>null</td><td></td><td>null</td><td>null</td><td>null</td><td>null</td><td>null</td><td>null</td><td>2023-06-26T00:00:00Z</td><td>06.2023</td><td>null</td><td>null</td><td>12140429</td><td>10229290131991</td><td>null</td><td>null</td><td>null</td><td>null</td><td>0.0</td><td>Tuboleta.com - ALL</td><td>Web</td><td>Internet gran público</td><td>8000.0</td><td>1.0</td><td>0.0</td><td>8000.0</td><td>null</td><td>null</td><td>20526182</td><td>null</td><td>2023-06-26T09:25:45Z</td><td>8414248</td><td>26.06.2023</td><td>null</td><td>null</td><td>8000.0</td><td>0.0</td><td>null</td><td>Pagado</td><td>SOLDED</td><td>1</td><td>SALE</td><td>null</td><td>DELIVERY_OVERHEADS</td><td>null</td><td>F</td><td>0.0</td><td></td><td>null</td><td>8000.0</td><td>null</td><td>null</td><td>null</td><td>null</td><td>null</td><td>null</td><td>null</td><td>null</td><td>null</td><td>1.01322856703E11</td><td>null</td><td></td><td>SIN DATO</td><td>SIN DATO</td><td>0.0</td><td>10229294311756</td><td>calle 45 N 37 10\n",
       "111111 VILLAVICENCIO\n",
       "COLOMBIA</td><td>Colombia</td><td>VILLAVICENCIO</td><td>57-3202947519</td><td>natalirojasalvarez83@gmail.com</td><td>null</td><td>null</td><td>09:25:45</td><td>2023-06-26T09:25:45Z</td><td>null</td><td>|</td><td>12140429||</td><td>null</td><td>|</td><td>null</td><td>null</td><td>null</td><td>null</td><td>null</td><td>null</td><td>null</td><td>E-TICKET - MOBILE - $8000</td><td>null</td><td>null</td><td>0.0</td><td>null</td></tr><tr><td>Tuboleta.com</td><td>16261</td><td>null</td><td>E-TICKET - MOBILE - $8000</td><td>null</td><td></td><td>null</td><td>null</td><td>null</td><td>null</td><td>null</td><td>null</td><td>2023-06-28T00:00:00Z</td><td>06.2023</td><td>null</td><td>null</td><td>12181158</td><td>10229300564727</td><td>null</td><td>null</td><td>null</td><td>null</td><td>0.0</td><td>Tuboleta.com - ALL</td><td>Web</td><td>Internet gran público</td><td>8000.0</td><td>1.0</td><td>0.0</td><td>8000.0</td><td>null</td><td>null</td><td>20577944</td><td>null</td><td>2023-06-28T22:06:43Z</td><td>8418795</td><td>28.06.2023</td><td>null</td><td>null</td><td>8000.0</td><td>0.0</td><td>null</td><td>Pagado</td><td>SOLDED</td><td>1</td><td>SALE</td><td>null</td><td>DELIVERY_OVERHEADS</td><td>null</td><td>F</td><td>0.0</td><td></td><td>null</td><td>8000.0</td><td>null</td><td>null</td><td>null</td><td>null</td><td>null</td><td>null</td><td>null</td><td>null</td><td>null</td><td>1.01322856703E11</td><td>null</td><td></td><td>SIN DATO</td><td>SIN DATO</td><td>0.0</td><td>10229300655385</td><td>CR 62A NRO 48  48\n",
       "111111 RIONEGRO\n",
       "COLOMBIA</td><td>Colombia</td><td>RIONEGRO</td><td>57-3115039435</td><td>agmorenop@gmail.com</td><td>null</td><td>null</td><td>22:06:43</td><td>2023-06-28T22:06:43Z</td><td>null</td><td>|</td><td>12181158||</td><td>null</td><td>|</td><td>null</td><td>null</td><td>null</td><td>null</td><td>null</td><td>null</td><td>null</td><td>E-TICKET - MOBILE - $8000</td><td>null</td><td>null</td><td>0.0</td><td>null</td></tr><tr><td>Tuboleta.com</td><td>16261</td><td>null</td><td>E-TICKET - MOBILE - $8000</td><td>null</td><td></td><td>null</td><td>null</td><td>null</td><td>null</td><td>null</td><td>null</td><td>2023-06-30T00:00:00Z</td><td>06.2023</td><td>null</td><td>null</td><td>12203071</td><td>10228450606401</td><td>null</td><td>null</td><td>null</td><td>null</td><td>0.0</td><td>Tuboleta.com - ALL</td><td>Web</td><td>Internet gran público</td><td>8000.0</td><td>1.0</td><td>0.0</td><td>8000.0</td><td>null</td><td>null</td><td>20603549</td><td>null</td><td>2023-06-30T19:50:07Z</td><td>6114427</td><td>30.06.2023</td><td>null</td><td>null</td><td>8000.0</td><td>0.0</td><td>null</td><td>Pagado</td><td>SOLDED</td><td>1</td><td>SALE</td><td>null</td><td>DELIVERY_OVERHEADS</td><td>null</td><td>F</td><td>0.0</td><td></td><td>null</td><td>8000.0</td><td>null</td><td>null</td><td>null</td><td>null</td><td>null</td><td>null</td><td>null</td><td>null</td><td>null</td><td>1.01322856703E11</td><td>null</td><td></td><td>SIN DATO</td><td>SIN DATO</td><td>0.0</td><td>10229305557201</td><td>Carrera 111c N 81 10 Torre 2 apto 402\n",
       "111111 BOGOTÁ D.C.\n",
       "COLOMBIA</td><td>Colombia</td><td>BOGOTA D.C.</td><td>57-3196354010</td><td>cristian131223@gmail.com</td><td>null</td><td>null</td><td>19:50:07</td><td>2023-06-30T19:50:07Z</td><td>null</td><td>|</td><td>12203071||</td><td>null</td><td>|</td><td>null</td><td>null</td><td>null</td><td>null</td><td>null</td><td>null</td><td>null</td><td>E-TICKET - MOBILE - $8000</td><td>null</td><td>null</td><td>0.0</td><td>null</td></tr><tr><td>Tuboleta.com</td><td>16261</td><td>null</td><td>E-TICKET - MOBILE - $8000</td><td>null</td><td></td><td>null</td><td>null</td><td>null</td><td>null</td><td>null</td><td>null</td><td>2023-07-12T00:00:00Z</td><td>07.2023</td><td>null</td><td>null</td><td>12374011</td><td>10228563680565</td><td>null</td><td>null</td><td>null</td><td>null</td><td>0.0</td><td>Tuboleta.com - ALL</td><td>Web</td><td>Internet gran público</td><td>8000.0</td><td>1.0</td><td>0.0</td><td>8000.0</td><td>null</td><td>null</td><td>20952669</td><td>null</td><td>2023-07-12T19:46:12Z</td><td>6947986</td><td>12.07.2023</td><td>null</td><td>null</td><td>8000.0</td><td>0.0</td><td>null</td><td>Pagado</td><td>SOLDED</td><td>1</td><td>SALE</td><td>null</td><td>DELIVERY_OVERHEADS</td><td>null</td><td>F</td><td>0.0</td><td></td><td>null</td><td>8000.0</td><td>null</td><td>null</td><td>null</td><td>null</td><td>null</td><td>null</td><td>null</td><td>null</td><td>null</td><td>1.01322856703E11</td><td>null</td><td></td><td>SIN DATO</td><td>SIN DATO</td><td>0.0</td><td>10229335836385</td><td>Calle 72aN107c  16\n",
       "Apartamento 201\n",
       "VillaAmalia\n",
       "111111 BOGOTA\n",
       "COLOMBIA</td><td>Colombia</td><td>BOGOTA</td><td>57-3057185597</td><td>estebanhernandes3@gmail.com</td><td>null</td><td>null</td><td>19:46:12</td><td>2023-07-12T19:46:12Z</td><td>null</td><td>|</td><td>12374011||</td><td>null</td><td>|</td><td>null</td><td>null</td><td>null</td><td>null</td><td>null</td><td>null</td><td>null</td><td>E-TICKET - MOBILE - $8000</td><td>null</td><td>null</td><td>0.0</td><td>null</td></tr></tbody></table></div>"
      ]
     },
     "metadata": {
      "application/vnd.databricks.v1+output": {
       "addedWidgets": {},
       "aggData": [],
       "aggError": "",
       "aggOverflow": false,
       "aggSchema": [],
       "aggSeriesLimitReached": false,
       "aggType": "",
       "arguments": {},
       "columnCustomDisplayInfos": {},
       "data": [
        [
         "Tuboleta.com",
         "16261",
         null,
         "E-TICKET - MOBILE - $8000",
         null,
         "",
         null,
         null,
         null,
         null,
         null,
         null,
         "2023-03-23T00:00:00Z",
         "03.2023",
         null,
         null,
         "10813033",
         "10229076923830",
         null,
         null,
         null,
         null,
         0,
         "Tuboleta.com - ALL",
         "Web",
         "Internet gran público",
         8000,
         1,
         0,
         8000,
         null,
         null,
         "18235156",
         null,
         "2023-03-23T21:24:23Z",
         "8212647",
         "23.03.2023",
         null,
         null,
         8000,
         0,
         null,
         "Pagado",
         "SOLDED",
         "1",
         "SALE",
         null,
         "DELIVERY_OVERHEADS",
         null,
         "F",
         0,
         "",
         null,
         8000,
         null,
         null,
         null,
         null,
         null,
         null,
         null,
         null,
         null,
         101322856703,
         null,
         "",
         "SIN DATO",
         "SIN DATO",
         0,
         "10229077301697",
         "Carrera 89 22b 96\nR406\n111111 BOGOTÁ\nCOLOMBIA",
         "Colombia",
         "BOGOTÁ ",
         "57-3003850222",
         "p_pedreros@hotmail.com",
         null,
         null,
         "21:24:23",
         "2023-03-23T21:24:23Z",
         null,
         "|",
         "10813033||",
         null,
         "|",
         null,
         null,
         null,
         null,
         null,
         null,
         null,
         "E-TICKET - MOBILE - $8000",
         null,
         null,
         0,
         null
        ],
        [
         "Tuboleta.com",
         "16261",
         null,
         "E-TICKET - MOBILE - $8000",
         null,
         "",
         null,
         null,
         null,
         null,
         null,
         null,
         "2023-04-04T00:00:00Z",
         "04.2023",
         null,
         null,
         "10986534",
         "101329934940",
         null,
         null,
         null,
         null,
         0,
         "Tuboleta.com - ALL",
         "Web",
         "Internet gran público",
         8000,
         1,
         0,
         8000,
         null,
         null,
         "18456975",
         null,
         "2023-04-04T21:15:41Z",
         "29449",
         "04.04.2023",
         null,
         null,
         8000,
         0,
         null,
         "Pagado",
         "SOLDED",
         "1",
         "SALE",
         null,
         "DELIVERY_OVERHEADS",
         null,
         "F",
         0,
         "",
         null,
         8000,
         null,
         null,
         null,
         null,
         null,
         null,
         null,
         null,
         null,
         101322856703,
         null,
         "",
         "SIN DATO",
         "SIN DATO",
         0,
         "10229102733177",
         "transversal 21 No 25 d 22 la pradera\ndosquebradas piso 2\n111111 DOSQUEBRADAS\nCOLOMBIA",
         "Colombia",
         "DOSQUEBRADAS",
         "57-3116103985",
         "osvaldo080@gmail.com",
         null,
         null,
         "21:15:41",
         "2023-04-04T21:15:41Z",
         null,
         "|",
         "10986534||",
         null,
         "|",
         null,
         null,
         null,
         null,
         null,
         null,
         null,
         "E-TICKET - MOBILE - $8000",
         null,
         null,
         0,
         null
        ],
        [
         "Tuboleta.com",
         "16261",
         null,
         "E-TICKET - MOBILE - $8000",
         null,
         "",
         null,
         null,
         null,
         null,
         null,
         null,
         "2023-04-05T00:00:00Z",
         "04.2023",
         null,
         null,
         "10994750",
         "10228648961642",
         null,
         null,
         null,
         null,
         0,
         "Tuboleta.com - ALL",
         "Web",
         "Internet gran público",
         8000,
         1,
         0,
         8000,
         null,
         null,
         "18466641",
         null,
         "2023-04-05T21:30:54Z",
         "7360992",
         "05.04.2023",
         null,
         null,
         8000,
         0,
         null,
         "Pagado",
         "SOLDED",
         "1",
         "SALE",
         null,
         "DELIVERY_OVERHEADS",
         null,
         "F",
         0,
         "",
         null,
         8000,
         null,
         null,
         null,
         null,
         null,
         null,
         null,
         null,
         null,
         101322856703,
         null,
         "",
         "SIN DATO",
         "SIN DATO",
         0,
         "10229104922697",
         "Calle 52a 9-52\nChapinero\n111111 BOGOTA\nCOLOMBIA",
         "Colombia",
         "BOGOTA",
         "57-3202261030",
         "de.vargas356@gmail.com",
         null,
         null,
         "21:30:54",
         "2023-04-05T21:30:54Z",
         null,
         "|",
         "10994750||",
         null,
         "|",
         null,
         null,
         null,
         null,
         null,
         null,
         null,
         "E-TICKET - MOBILE - $8000",
         null,
         null,
         0,
         null
        ],
        [
         "Tuboleta.com",
         "16261",
         null,
         "E-TICKET - MOBILE - $8000",
         null,
         "",
         null,
         null,
         null,
         null,
         null,
         null,
         "2023-04-18T00:00:00Z",
         "04.2023",
         null,
         null,
         "11153724",
         "10229128326849",
         null,
         null,
         null,
         null,
         0,
         "Tuboleta.com - ALL",
         "Web",
         "Internet gran público",
         8000,
         1,
         0,
         8000,
         null,
         null,
         "18688592",
         null,
         "2023-04-18T14:57:45Z",
         "8282198",
         "18.04.2023",
         null,
         null,
         8000,
         0,
         null,
         "Pagado",
         "SOLDED",
         "1",
         "SALE",
         null,
         "DELIVERY_OVERHEADS",
         null,
         "F",
         0,
         "",
         null,
         8000,
         null,
         null,
         null,
         null,
         null,
         null,
         null,
         null,
         null,
         101322856703,
         null,
         "",
         "SIN DATO",
         "SIN DATO",
         0,
         "10229129860536",
         "Av Carrera 9N14116\n111111 BOGOTÁ D.C.\nCOLOMBIA",
         "Colombia",
         "BOGOTÁ D.C.",
         "57-3142716212",
         "monica.a.rincon85@gmail.com",
         null,
         null,
         "14:57:45",
         "2023-04-18T14:57:45Z",
         null,
         "|",
         "11153724||",
         null,
         "|",
         null,
         null,
         null,
         null,
         null,
         null,
         null,
         "E-TICKET - MOBILE - $8000",
         null,
         null,
         0,
         null
        ],
        [
         "Tuboleta.com",
         "16261",
         null,
         "E-TICKET - MOBILE - $8000",
         null,
         "",
         null,
         null,
         null,
         null,
         null,
         null,
         "2023-04-22T00:00:00Z",
         "04.2023",
         null,
         null,
         "11216264",
         "101372017111",
         null,
         null,
         null,
         null,
         0,
         "Tuboleta.com - ALL",
         "Web",
         "Internet gran público",
         8000,
         1,
         0,
         8000,
         null,
         null,
         "18760493",
         null,
         "2023-04-22T18:21:03Z",
         "4292569",
         "22.04.2023",
         null,
         null,
         8000,
         0,
         null,
         "Pagado",
         "SOLDED",
         "1",
         "SALE",
         null,
         "DELIVERY_OVERHEADS",
         null,
         "F",
         0,
         "",
         null,
         8000,
         null,
         null,
         null,
         null,
         null,
         null,
         null,
         null,
         null,
         101322856703,
         null,
         "",
         "SIN DATO",
         "SIN DATO",
         0,
         "10229138404175",
         "Calle 54As 33-37\nSan Vicente Ferrer\n111111 BOGOTA\nCOLOMBIA",
         "Colombia",
         "BOGOTA",
         "57-3508999448",
         "mecandres23@gmail.com",
         null,
         null,
         "18:21:03",
         "2023-04-22T18:21:03Z",
         null,
         "|",
         "11216264||",
         null,
         "|",
         null,
         null,
         null,
         null,
         null,
         null,
         null,
         "E-TICKET - MOBILE - $8000",
         null,
         null,
         0,
         null
        ],
        [
         "Tuboleta.com",
         "16261",
         null,
         "E-TICKET - MOBILE - $8000",
         null,
         "",
         null,
         null,
         null,
         null,
         null,
         null,
         "2023-05-25T00:00:00Z",
         "05.2023",
         null,
         null,
         "11637873",
         "10229207524520",
         null,
         null,
         null,
         null,
         0,
         "Tuboleta.com - ALL",
         "Web",
         "Internet gran público",
         8000,
         1,
         0,
         8000,
         null,
         null,
         "19261954",
         null,
         "2023-05-25T22:59:20Z",
         "8341549",
         "25.05.2023",
         null,
         null,
         8000,
         0,
         null,
         "Pagado",
         "SOLDED",
         "1",
         "SALE",
         null,
         "DELIVERY_OVERHEADS",
         null,
         "F",
         0,
         "",
         null,
         8000,
         null,
         null,
         null,
         null,
         null,
         null,
         null,
         null,
         null,
         101322856703,
         null,
         "",
         "SIN DATO",
         "SIN DATO",
         0,
         "10229214642529",
         "Cra 35N53 33\n111111 BUCARAMANGA\nCOLOMBIA",
         "Colombia",
         "BUCARAMANGA",
         "57-3162869050",
         "luisvillacreces85@gmail.com",
         null,
         null,
         "22:59:20",
         "2023-05-25T22:59:20Z",
         null,
         "|",
         "11637873||",
         null,
         "|",
         null,
         null,
         null,
         null,
         null,
         null,
         null,
         "E-TICKET - MOBILE - $8000",
         null,
         null,
         0,
         null
        ],
        [
         "Tuboleta.com",
         "16261",
         null,
         "E-TICKET - MOBILE - $8000",
         null,
         "",
         null,
         null,
         null,
         null,
         null,
         null,
         "2023-06-26T00:00:00Z",
         "06.2023",
         null,
         null,
         "12140429",
         "10229290131991",
         null,
         null,
         null,
         null,
         0,
         "Tuboleta.com - ALL",
         "Web",
         "Internet gran público",
         8000,
         1,
         0,
         8000,
         null,
         null,
         "20526182",
         null,
         "2023-06-26T09:25:45Z",
         "8414248",
         "26.06.2023",
         null,
         null,
         8000,
         0,
         null,
         "Pagado",
         "SOLDED",
         "1",
         "SALE",
         null,
         "DELIVERY_OVERHEADS",
         null,
         "F",
         0,
         "",
         null,
         8000,
         null,
         null,
         null,
         null,
         null,
         null,
         null,
         null,
         null,
         101322856703,
         null,
         "",
         "SIN DATO",
         "SIN DATO",
         0,
         "10229294311756",
         "calle 45 N 37 10\n111111 VILLAVICENCIO\nCOLOMBIA",
         "Colombia",
         "VILLAVICENCIO",
         "57-3202947519",
         "natalirojasalvarez83@gmail.com",
         null,
         null,
         "09:25:45",
         "2023-06-26T09:25:45Z",
         null,
         "|",
         "12140429||",
         null,
         "|",
         null,
         null,
         null,
         null,
         null,
         null,
         null,
         "E-TICKET - MOBILE - $8000",
         null,
         null,
         0,
         null
        ],
        [
         "Tuboleta.com",
         "16261",
         null,
         "E-TICKET - MOBILE - $8000",
         null,
         "",
         null,
         null,
         null,
         null,
         null,
         null,
         "2023-06-28T00:00:00Z",
         "06.2023",
         null,
         null,
         "12181158",
         "10229300564727",
         null,
         null,
         null,
         null,
         0,
         "Tuboleta.com - ALL",
         "Web",
         "Internet gran público",
         8000,
         1,
         0,
         8000,
         null,
         null,
         "20577944",
         null,
         "2023-06-28T22:06:43Z",
         "8418795",
         "28.06.2023",
         null,
         null,
         8000,
         0,
         null,
         "Pagado",
         "SOLDED",
         "1",
         "SALE",
         null,
         "DELIVERY_OVERHEADS",
         null,
         "F",
         0,
         "",
         null,
         8000,
         null,
         null,
         null,
         null,
         null,
         null,
         null,
         null,
         null,
         101322856703,
         null,
         "",
         "SIN DATO",
         "SIN DATO",
         0,
         "10229300655385",
         "CR 62A NRO 48  48\n111111 RIONEGRO\nCOLOMBIA",
         "Colombia",
         "RIONEGRO",
         "57-3115039435",
         "agmorenop@gmail.com",
         null,
         null,
         "22:06:43",
         "2023-06-28T22:06:43Z",
         null,
         "|",
         "12181158||",
         null,
         "|",
         null,
         null,
         null,
         null,
         null,
         null,
         null,
         "E-TICKET - MOBILE - $8000",
         null,
         null,
         0,
         null
        ],
        [
         "Tuboleta.com",
         "16261",
         null,
         "E-TICKET - MOBILE - $8000",
         null,
         "",
         null,
         null,
         null,
         null,
         null,
         null,
         "2023-06-30T00:00:00Z",
         "06.2023",
         null,
         null,
         "12203071",
         "10228450606401",
         null,
         null,
         null,
         null,
         0,
         "Tuboleta.com - ALL",
         "Web",
         "Internet gran público",
         8000,
         1,
         0,
         8000,
         null,
         null,
         "20603549",
         null,
         "2023-06-30T19:50:07Z",
         "6114427",
         "30.06.2023",
         null,
         null,
         8000,
         0,
         null,
         "Pagado",
         "SOLDED",
         "1",
         "SALE",
         null,
         "DELIVERY_OVERHEADS",
         null,
         "F",
         0,
         "",
         null,
         8000,
         null,
         null,
         null,
         null,
         null,
         null,
         null,
         null,
         null,
         101322856703,
         null,
         "",
         "SIN DATO",
         "SIN DATO",
         0,
         "10229305557201",
         "Carrera 111c N 81 10 Torre 2 apto 402\n111111 BOGOTÁ D.C.\nCOLOMBIA",
         "Colombia",
         "BOGOTA D.C.",
         "57-3196354010",
         "cristian131223@gmail.com",
         null,
         null,
         "19:50:07",
         "2023-06-30T19:50:07Z",
         null,
         "|",
         "12203071||",
         null,
         "|",
         null,
         null,
         null,
         null,
         null,
         null,
         null,
         "E-TICKET - MOBILE - $8000",
         null,
         null,
         0,
         null
        ],
        [
         "Tuboleta.com",
         "16261",
         null,
         "E-TICKET - MOBILE - $8000",
         null,
         "",
         null,
         null,
         null,
         null,
         null,
         null,
         "2023-07-12T00:00:00Z",
         "07.2023",
         null,
         null,
         "12374011",
         "10228563680565",
         null,
         null,
         null,
         null,
         0,
         "Tuboleta.com - ALL",
         "Web",
         "Internet gran público",
         8000,
         1,
         0,
         8000,
         null,
         null,
         "20952669",
         null,
         "2023-07-12T19:46:12Z",
         "6947986",
         "12.07.2023",
         null,
         null,
         8000,
         0,
         null,
         "Pagado",
         "SOLDED",
         "1",
         "SALE",
         null,
         "DELIVERY_OVERHEADS",
         null,
         "F",
         0,
         "",
         null,
         8000,
         null,
         null,
         null,
         null,
         null,
         null,
         null,
         null,
         null,
         101322856703,
         null,
         "",
         "SIN DATO",
         "SIN DATO",
         0,
         "10229335836385",
         "Calle 72aN107c  16\nApartamento 201\nVillaAmalia\n111111 BOGOTA\nCOLOMBIA",
         "Colombia",
         "BOGOTA",
         "57-3057185597",
         "estebanhernandes3@gmail.com",
         null,
         null,
         "19:46:12",
         "2023-07-12T19:46:12Z",
         null,
         "|",
         "12374011||",
         null,
         "|",
         null,
         null,
         null,
         null,
         null,
         null,
         null,
         "E-TICKET - MOBILE - $8000",
         null,
         null,
         0,
         null
        ]
       ],
       "datasetInfos": [],
       "dbfsResultPath": null,
       "isJsonSchema": true,
       "metadata": {},
       "overflow": false,
       "plotOptions": {
        "customPlotOptions": {},
        "displayType": "table",
        "pivotAggregation": null,
        "pivotColumns": null,
        "xColumns": null,
        "yColumns": null
       },
       "removedWidgets": [],
       "schema": [
        {
         "metadata": "{\"scale\":0}",
         "name": "ORGANIZATION",
         "type": "\"string\""
        },
        {
         "metadata": "{\"scale\":0}",
         "name": "T_ORGANIZ_ID",
         "type": "\"string\""
        },
        {
         "metadata": "{}",
         "name": "PRODUCT_FAMILY",
         "type": "\"string\""
        },
        {
         "metadata": "{}",
         "name": "PRODUCT",
         "type": "\"string\""
        },
        {
         "metadata": "{\"scale\":0}",
         "name": "INVOICE_CONTACT_FMT_NAME",
         "type": "\"string\""
        },
        {
         "metadata": "{}",
         "name": "T_PRODUCT_ID",
         "type": "\"string\""
        },
        {
         "metadata": "{\"scale\":0}",
         "name": "LICENCE_NUMBER",
         "type": "\"string\""
        },
        {
         "metadata": "{\"scale\":0}",
         "name": "PRODUCT_STATE",
         "type": "\"string\""
        },
        {
         "metadata": "{\"scale\":0}",
         "name": "SITE",
         "type": "\"string\""
        },
        {
         "metadata": "{\"scale\":0}",
         "name": "SEASON",
         "type": "\"string\""
        },
        {
         "metadata": "{\"scale\":0}",
         "name": "TOPIC",
         "type": "\"string\""
        },
        {
         "metadata": "{\"scale\":0}",
         "name": "SUB_TOPIC",
         "type": "\"string\""
        },
        {
         "metadata": "{\"scale\":0}",
         "name": "REFERENCE_DATE",
         "type": "\"timestamp\""
        },
        {
         "metadata": "{\"scale\":0}",
         "name": "ORDER_DATE_MM_YY",
         "type": "\"string\""
        },
        {
         "metadata": "{\"scale\":3}",
         "name": "PRODUCT_DATE_TIME",
         "type": "\"timestamp\""
        },
        {
         "metadata": "{\"scale\":0}",
         "name": "PRODUCT_TIME",
         "type": "\"string\""
        },
        {
         "metadata": "{\"scale\":0}",
         "name": "FILE_NUMBER",
         "type": "\"string\""
        },
        {
         "metadata": "{\"scale\":0}",
         "name": "T_ORDER_CONTACT_ID",
         "type": "\"string\""
        },
        {
         "metadata": "{\"scale\":0}",
         "name": "PROMOTION",
         "type": "\"string\""
        },
        {
         "metadata": "{\"scale\":0}",
         "name": "AUDIENCE_CATEGORY",
         "type": "\"string\""
        },
        {
         "metadata": "{\"scale\":0}",
         "name": "AUDIENCE_SUB_CATEGORY",
         "type": "\"string\""
        },
        {
         "metadata": "{}",
         "name": "LOGICAL_SEAT_CATEGORY",
         "type": "\"string\""
        },
        {
         "metadata": "{\"scale\":0}",
         "name": "PERFORMANCE_QUOTA",
         "type": "\"double\""
        },
        {
         "metadata": "{\"scale\":0}",
         "name": "SALES_CHANNEL",
         "type": "\"string\""
        },
        {
         "metadata": "{}",
         "name": "SALES_CHANNEL_N",
         "type": "\"string\""
        },
        {
         "metadata": "{\"scale\":0}",
         "name": "SALES_CHANNEL_TYPE",
         "type": "\"string\""
        },
        {
         "metadata": "{\"scale\":0}",
         "name": "UNIT_AMT_ITX",
         "type": "\"double\""
        },
        {
         "metadata": "{\"scale\":0}",
         "name": "NET_SOLD_T_QTY",
         "type": "\"double\""
        },
        {
         "metadata": "{\"scale\":0}",
         "name": "NET_SOLD_C_QTY",
         "type": "\"double\""
        },
        {
         "metadata": "{\"scale\":0}",
         "name": "NET_SOLD_TKT_AMT_ITX",
         "type": "\"double\""
        },
        {
         "metadata": "{\"scale\":0}",
         "name": "TEAM_1",
         "type": "\"string\""
        },
        {
         "metadata": "{\"scale\":0}",
         "name": "TEAM_2",
         "type": "\"string\""
        },
        {
         "metadata": "{\"scale\":0}",
         "name": "ORDER_NUMBER",
         "type": "\"string\""
        },
        {
         "metadata": "{\"scale\":0}",
         "name": "CHARGE_AMT_ITX",
         "type": "\"double\""
        },
        {
         "metadata": "{\"scale\":0}",
         "name": "ORDER_CREATION_DATE",
         "type": "\"timestamp\""
        },
        {
         "metadata": "{\"scale\":0}",
         "name": "ORDER_CONTACT_NUMBER",
         "type": "\"string\""
        },
        {
         "metadata": "{\"scale\":0}",
         "name": "ORDER_DATE",
         "type": "\"string\""
        },
        {
         "metadata": "{\"scale\":0}",
         "name": "PRODUCT_DATE",
         "type": "\"string\""
        },
        {
         "metadata": "{\"scale\":0}",
         "name": "CHARGE_AMT_ETX",
         "type": "\"double\""
        },
        {
         "metadata": "{\"scale\":0}",
         "name": "total_unit_amt_itx",
         "type": "\"double\""
        },
        {
         "metadata": "{\"scale\":0}",
         "name": "DN_QUOTA",
         "type": "\"double\""
        },
        {
         "metadata": "{\"scale\":0}",
         "name": "T_INVOICE_CONTACT_ID",
         "type": "\"double\""
        },
        {
         "metadata": "{\"scale\":0}",
         "name": "File_state",
         "type": "\"string\""
        },
        {
         "metadata": "{\"scale\":0}",
         "name": "t_file_state",
         "type": "\"string\""
        },
        {
         "metadata": "{\"scale\":0}",
         "name": "ORDER_QUANTITY",
         "type": "\"string\""
        },
        {
         "metadata": "{\"scale\":0}",
         "name": "T_OPERATION_TYPE",
         "type": "\"string\""
        },
        {
         "metadata": "{\"scale\":0}",
         "name": "PRODUCT_CODE",
         "type": "\"string\""
        },
        {
         "metadata": "{\"scale\":0}",
         "name": "t_operation_kind",
         "type": "\"string\""
        },
        {
         "metadata": "{\"scale\":0}",
         "name": "parent_product",
         "type": "\"string\""
        },
        {
         "metadata": "{\"scale\":0}",
         "name": "INSURED",
         "type": "\"string\""
        },
        {
         "metadata": "{\"scale\":0}",
         "name": "INSURED_AMT_ITX",
         "type": "\"double\""
        },
        {
         "metadata": "{}",
         "name": "T_PERFORMANCE_ID",
         "type": "\"string\""
        },
        {
         "metadata": "{\"scale\":0}",
         "name": "T_SITE_ID",
         "type": "\"double\""
        },
        {
         "metadata": "{\"scale\":0}",
         "name": "NET_SOLD_AMT_ITX",
         "type": "\"double\""
        },
        {
         "metadata": "{\"scale\":0}",
         "name": "PRODUCT_EXTERNAL_NAME",
         "type": "\"string\""
        },
        {
         "metadata": "{\"scale\":0}",
         "name": "T_SEASON_ID",
         "type": "\"double\""
        },
        {
         "metadata": "{\"scale\":0}",
         "name": "ACTIVITY",
         "type": "\"string\""
        },
        {
         "metadata": "{\"scale\":0}",
         "name": "T_ACTIVITY_ID",
         "type": "\"double\""
        },
        {
         "metadata": "{\"scale\":0}",
         "name": "T_PRODUCT_FAMILY_ID",
         "type": "\"double\""
        },
        {
         "metadata": "{\"scale\":0}",
         "name": "PRODUCT_TYPE",
         "type": "\"string\""
        },
        {
         "metadata": "{\"scale\":0}",
         "name": "T_PRODUCT_TYPE_ID",
         "type": "\"double\""
        },
        {
         "metadata": "{\"scale\":0}",
         "name": "T_FAMILY_TYPE",
         "type": "\"string\""
        },
        {
         "metadata": "{\"scale\":0}",
         "name": "T_FAMILY_SUB_TYPE",
         "type": "\"string\""
        },
        {
         "metadata": "{\"scale\":0}",
         "name": "T_SHIPMENTFEE_ID",
         "type": "\"double\""
        },
        {
         "metadata": "{\"scale\":0}",
         "name": "TOWN",
         "type": "\"string\""
        },
        {
         "metadata": "{}",
         "name": "TOPIC_KEY",
         "type": "\"string\""
        },
        {
         "metadata": "{}",
         "name": "TOPIC_N",
         "type": "\"string\""
        },
        {
         "metadata": "{}",
         "name": "SUB_TOPIC_N",
         "type": "\"string\""
        },
        {
         "metadata": "{\"scale\":0}",
         "name": "INSURED_AMT_ETX",
         "type": "\"double\""
        },
        {
         "metadata": "{\"scale\":0}",
         "name": "T_OPERATION_ID",
         "type": "\"string\""
        },
        {
         "metadata": "{\"scale\":0}",
         "name": "ORDER_CONTACT_ADDRESS",
         "type": "\"string\""
        },
        {
         "metadata": "{\"scale\":0}",
         "name": "ORDER_CONTACT_COUNTRY",
         "type": "\"string\""
        },
        {
         "metadata": "{\"scale\":0}",
         "name": "ORDER_CONTACT_TOWN",
         "type": "\"string\""
        },
        {
         "metadata": "{\"scale\":0}",
         "name": "ORDER_CONTACT_PRIMARY_PHONE",
         "type": "\"string\""
        },
        {
         "metadata": "{\"scale\":0}",
         "name": "ORDER_CONTACT_EMAIL",
         "type": "\"string\""
        },
        {
         "metadata": "{}",
         "name": "Fecha_evento",
         "type": "\"timestamp\""
        },
        {
         "metadata": "{}",
         "name": "Date_evento",
         "type": "\"date\""
        },
        {
         "metadata": "{}",
         "name": "Hora_compra",
         "type": "\"string\""
        },
        {
         "metadata": "{\"scale\":0}",
         "name": "Hora_de_compra",
         "type": "\"timestamp\""
        },
        {
         "metadata": "{}",
         "name": "Hora_evento",
         "type": "\"string\""
        },
        {
         "metadata": "{}",
         "name": "Key_evento",
         "type": "\"string\""
        },
        {
         "metadata": "{}",
         "name": "Key_handling",
         "type": "\"string\""
        },
        {
         "metadata": "{}",
         "name": "TOWN_N",
         "type": "\"string\""
        },
        {
         "metadata": "{}",
         "name": "Key_aforo",
         "type": "\"string\""
        },
        {
         "metadata": "{}",
         "name": "Nuevo_aforo",
         "type": "\"double\""
        },
        {
         "metadata": "{}",
         "name": "VENUE_N",
         "type": "\"string\""
        },
        {
         "metadata": "{}",
         "name": "Tipo_venue",
         "type": "\"string\""
        },
        {
         "metadata": "{}",
         "name": "TEAM_2_N",
         "type": "\"string\""
        },
        {
         "metadata": "{}",
         "name": "NIT",
         "type": "\"string\""
        },
        {
         "metadata": "{}",
         "name": "Contrato",
         "type": "\"string\""
        },
        {
         "metadata": "{}",
         "name": "MATCH_DAY",
         "type": "\"string\""
        },
        {
         "metadata": "{}",
         "name": "PRODUCT_N",
         "type": "\"string\""
        },
        {
         "metadata": "{}",
         "name": "TEMA_MERCADEO",
         "type": "\"string\""
        },
        {
         "metadata": "{}",
         "name": "SUB_TEMA_MERCADEO",
         "type": "\"string\""
        },
        {
         "metadata": "{}",
         "name": "Hfee",
         "type": "\"double\""
        },
        {
         "metadata": "{}",
         "name": "TOPIC_PPTO",
         "type": "\"string\""
        }
       ],
       "type": "table"
      }
     },
     "output_type": "display_data"
    }
   ],
   "source": [
    "display(hfee.limit(10))"
   ]
  },
  {
   "cell_type": "code",
   "execution_count": null,
   "metadata": {
    "application/vnd.databricks.v1+cell": {
     "cellMetadata": {
      "byteLimit": 2048000,
      "rowLimit": 10000
     },
     "inputWidgets": {},
     "nuid": "c4116b1e-4ce3-4956-9fbd-73fd28a699c7",
     "showTitle": false,
     "title": ""
    }
   },
   "outputs": [],
   "source": [
    "# tmp = sales.filter(col('PRODUCT_CODE') == 'CAN_INS') #DELIVERY_OVERHEADS\n",
    "# #tmp = sales_.filter(col('T_OPERATION_KIND').like('%DELIVERY_OVERHEADS%')) #DELIVERY_OVERHEADS\n",
    "# display(tmp.limit(10))"
   ]
  },
  {
   "cell_type": "code",
   "execution_count": null,
   "metadata": {
    "application/vnd.databricks.v1+cell": {
     "cellMetadata": {
      "byteLimit": 2048000,
      "rowLimit": 10000
     },
     "inputWidgets": {},
     "nuid": "eb5b1ac5-c659-4b0e-9326-04f2daadca2a",
     "showTitle": false,
     "title": ""
    }
   },
   "outputs": [],
   "source": [
    "#tmp = sales.filter(col('FILE_NUMBER') == '11004473') #DELIVERY_OVERHEADS\n",
    "#tmp = sales.filter(col('T_OPERATION_KIND').like('%DELIVERY_OVERHEADS%')) #DELIVERY_OVERHEADS\n",
    "# display(tmp.limit(10))"
   ]
  },
  {
   "cell_type": "markdown",
   "metadata": {
    "application/vnd.databricks.v1+cell": {
     "cellMetadata": {
      "byteLimit": 2048000,
      "rowLimit": 10000
     },
     "inputWidgets": {},
     "nuid": "d4ad1207-21a8-4b08-b736-0ffec457d7fd",
     "showTitle": false,
     "title": ""
    }
   },
   "source": [
    "#### Arreglo seguro"
   ]
  },
  {
   "cell_type": "code",
   "execution_count": null,
   "metadata": {
    "application/vnd.databricks.v1+cell": {
     "cellMetadata": {
      "byteLimit": 2048000,
      "rowLimit": 10000
     },
     "inputWidgets": {},
     "nuid": "c11ae5e6-f92b-439e-81b1-44bcf37c83c8",
     "showTitle": true,
     "title": "FILAS ADICIONALES DEL SEGURO (70-30)"
    }
   },
   "outputs": [
    {
     "name": "stdout",
     "output_type": "stream",
     "text": [
      "124469\n"
     ]
    }
   ],
   "source": [
    "import pandas as pd\n",
    "from pyspark.sql.functions import col, concat, lit\n",
    "\n",
    "\n",
    "# Filtro para el seguro de asistencia cuando son ventas\n",
    "sale_df_70 = sales.filter((col('product_code') == 'CAN_INS') & (col('t_operation_type') == 'SALE')) \\\n",
    "            .withColumn('product', concat(col('product'), lit('_S_70'))) \\\n",
    "            .withColumn('PRODUCT_CODE',concat(col('Product_code'), lit('_70'))) \\\n",
    "            .withColumn('NET_SOLD_TKT_AMT_ITX',col('NET_SOLD_TKT_AMT_ITX')*0.7) \\\n",
    "            .withColumn('NET_SOLD_AMT_ITX',col('NET_SOLD_AMT_ITX')*0.7)\n",
    "\n",
    "sale_df_30 = sales.filter((col('product_code') == 'CAN_INS') & (col('t_operation_type') == 'SALE')) \\\n",
    "            .withColumn('product', concat(col('product'), lit('_S_30')))\\\n",
    "            .withColumn('PRODUCT_CODE',concat(col('Product_code'), lit('_30')))\\\n",
    "            .withColumn('NET_SOLD_TKT_AMT_ITX',col('NET_SOLD_TKT_AMT_ITX')*0.3)\\\n",
    "            .withColumn('NET_SOLD_AMT_ITX',col('NET_SOLD_AMT_ITX')*0.3)\n",
    "\n",
    "# Filtro para el seguro de asistencia cuando son devoluciones\n",
    "refund_df_70 = sales.filter((col('product_code') == 'CAN_INS') & (col('t_operation_type') == 'REFUND')) \\\n",
    "              .withColumn('product', concat(col('product'), lit('_R_70')))\\\n",
    "            .withColumn('PRODUCT_CODE',concat(col('Product_code'), lit('_70')))\\\n",
    "            .withColumn('NET_SOLD_TKT_AMT_ITX',col('NET_SOLD_TKT_AMT_ITX')*0.7)\\\n",
    "            .withColumn('NET_SOLD_AMT_ITX',col('NET_SOLD_AMT_ITX')*0.7)\n",
    "\n",
    "refund_df_30 = sales.filter((col('product_code') == 'CAN_INS') & (col('t_operation_type') == 'REFUND')) \\\n",
    "              .withColumn('product', concat(col('product'), lit('_R_30')))\\\n",
    "            .withColumn('PRODUCT_CODE',concat(col('Product_code'), lit('_30')))\\\n",
    "            .withColumn('NET_SOLD_TKT_AMT_ITX',col('NET_SOLD_TKT_AMT_ITX')*0.3)\\\n",
    "            .withColumn('NET_SOLD_AMT_ITX',col('NET_SOLD_AMT_ITX')*0.3)\n",
    "              \n",
    "\n",
    "\n",
    "\n",
    "# Unir los DataFrames originales con los duplicados\n",
    "sales = sales.union(sale_df_70).union(sale_df_30).union(refund_df_70).union(refund_df_30).union(hfee)\n",
    "\n",
    "# tmp = sales.select('t_operation_kind').distinct() \n",
    "# display(tmp.limit(10))\n",
    "\n",
    "#sales = sales.filter((col('PRODUCT_CODE')!='CAN_INS'))\n",
    "\n",
    "\n",
    "sales = sales.filter((col('PRODUCT_CODE')!='CAN_INS') |\n",
    "                     (col('t_operation_kind').isin('DELIVERY_OVERHEADS','ORDER_OVERHEADS')))\n",
    "\n",
    "print(sales.count())"
   ]
  },
  {
   "cell_type": "code",
   "execution_count": null,
   "metadata": {
    "application/vnd.databricks.v1+cell": {
     "cellMetadata": {
      "byteLimit": 2048000,
      "rowLimit": 10000
     },
     "inputWidgets": {},
     "nuid": "be09ec33-9a7b-4215-83b2-94906fe6172b",
     "showTitle": true,
     "title": "Añadir mes y año"
    }
   },
   "outputs": [],
   "source": [
    "from pyspark.sql.functions import year, month\n",
    "# Convertir la columna REFERENCE_DATE a tipo de dato timestamp\n",
    "sales = sales.withColumn('REFERENCE_DATE', col('REFERENCE_DATE').cast('timestamp'))\n",
    "\n",
    "# Crear nuevas columnas con el año y el mes\n",
    "sales = sales.withColumn('year', year('REFERENCE_DATE'))\n",
    "sales = sales.withColumn('month', month('REFERENCE_DATE'))"
   ]
  },
  {
   "cell_type": "code",
   "execution_count": null,
   "metadata": {
    "application/vnd.databricks.v1+cell": {
     "cellMetadata": {
      "byteLimit": 2048000,
      "rowLimit": 10000
     },
     "inputWidgets": {},
     "nuid": "779a58e2-53f5-4cde-9b95-5d7cf82af11c",
     "showTitle": false,
     "title": ""
    }
   },
   "outputs": [
    {
     "data": {
      "text/html": [
       "<style scoped>\n",
       "  .table-result-container {\n",
       "    max-height: 300px;\n",
       "    overflow: auto;\n",
       "  }\n",
       "  table, th, td {\n",
       "    border: 1px solid black;\n",
       "    border-collapse: collapse;\n",
       "  }\n",
       "  th, td {\n",
       "    padding: 5px;\n",
       "  }\n",
       "  th {\n",
       "    text-align: left;\n",
       "  }\n",
       "</style><div class='table-result-container'><table class='table-result'><thead style='background-color: white'><tr><th>t_operation_kind</th></tr></thead><tbody><tr><td>COMPOSED_PRODUCT</td></tr><tr><td>PRODUCT_COMPOSITION</td></tr><tr><td>SINGLE_ENTRY</td></tr><tr><td>SIMPLE_PRODUCT</td></tr><tr><td>ORDER_OVERHEADS</td></tr><tr><td>DELIVERY_OVERHEADS</td></tr></tbody></table></div>"
      ]
     },
     "metadata": {
      "application/vnd.databricks.v1+output": {
       "addedWidgets": {},
       "aggData": [],
       "aggError": "",
       "aggOverflow": false,
       "aggSchema": [],
       "aggSeriesLimitReached": false,
       "aggType": "",
       "arguments": {},
       "columnCustomDisplayInfos": {},
       "data": [
        [
         "COMPOSED_PRODUCT"
        ],
        [
         "PRODUCT_COMPOSITION"
        ],
        [
         "SINGLE_ENTRY"
        ],
        [
         "SIMPLE_PRODUCT"
        ],
        [
         "ORDER_OVERHEADS"
        ],
        [
         "DELIVERY_OVERHEADS"
        ]
       ],
       "datasetInfos": [],
       "dbfsResultPath": null,
       "isJsonSchema": true,
       "metadata": {},
       "overflow": false,
       "plotOptions": {
        "customPlotOptions": {},
        "displayType": "table",
        "pivotAggregation": null,
        "pivotColumns": null,
        "xColumns": null,
        "yColumns": null
       },
       "removedWidgets": [],
       "schema": [
        {
         "metadata": "{\"scale\":0}",
         "name": "t_operation_kind",
         "type": "\"string\""
        }
       ],
       "type": "table"
      }
     },
     "output_type": "display_data"
    }
   ],
   "source": [
    "tmp = sales.select('t_operation_kind').distinct() \n",
    "display(tmp.limit(10))"
   ]
  },
  {
   "cell_type": "markdown",
   "metadata": {
    "application/vnd.databricks.v1+cell": {
     "cellMetadata": {
      "byteLimit": 2048000,
      "rowLimit": 10000
     },
     "inputWidgets": {},
     "nuid": "db37c81c-4f35-41ac-9de1-c96cb68ff4f2",
     "showTitle": false,
     "title": ""
    }
   },
   "source": [
    "#### Query"
   ]
  },
  {
   "cell_type": "code",
   "execution_count": null,
   "metadata": {
    "application/vnd.databricks.v1+cell": {
     "cellMetadata": {
      "byteLimit": 2048000,
      "rowLimit": 10000
     },
     "inputWidgets": {},
     "nuid": "894258da-2955-4f34-8bd1-d426c84f2822",
     "showTitle": true,
     "title": "Vistas temporales para el query"
    }
   },
   "outputs": [],
   "source": [
    "sales.createOrReplaceTempView(\"d_sales_list_sales_v1_0\")\n",
    "payments.createOrReplaceTempView(\"D_SALES_PROD_PAYMENT_V1_0\")\n",
    "contacts.createOrReplaceTempView(\"D_CONTACT_LIST_V1_0\")"
   ]
  },
  {
   "cell_type": "code",
   "execution_count": null,
   "metadata": {
    "application/vnd.databricks.v1+cell": {
     "cellMetadata": {
      "byteLimit": 2048000,
      "rowLimit": 10000
     },
     "inputWidgets": {},
     "nuid": "4371dfec-b8c8-4055-a0c8-e3c2b1822538",
     "showTitle": true,
     "title": "QUERY"
    }
   },
   "outputs": [],
   "source": [
    "query= \"\"\"\n",
    "SELECT\n",
    "    CASE\n",
    "        WHEN TRIM(CL.ID_NUMBER) IS NULL OR TRIM(CL.ID_NUMBER) = '' THEN '222222222222'\n",
    "        WHEN (LENGTH(CL.ID_NUMBER) > 9 AND INSTR(CL.ID_NUMBER, '9') > 0) THEN '222222222222'\n",
    "        WHEN REGEXP_LIKE(CL.ID_NUMBER, '^[a-zA-Z]*[a-zA-Z][a-zA-Z0-9-]*$')\n",
    "            AND CL.ID_NUMBER NOT LIKE 'CC%' \n",
    "            AND CL.ID_NUMBER NOT LIKE 'CE%' THEN '222222222222'\n",
    "        WHEN CL.ID_NUMBER LIKE 'CC%' THEN SUBSTR(CL.ID_NUMBER, 3)\n",
    "        WHEN CL.ID_NUMBER LIKE 'CE%' THEN SUBSTR(CL.ID_NUMBER, 3)\n",
    "        ELSE CL.ID_NUMBER\n",
    "    END AS IDENTIFICACION,\n",
    "CASE   \n",
    "         WHEN LENGTH(CL.ID_NUMBER) = 9 \n",
    "            AND INSTR(CL.ID_NUMBER, '9') > 0\n",
    "            AND CL.ID_NUMBER NOT LIKE 'CC%' \n",
    "            AND CL.ID_NUMBER NOT LIKE 'CE%'\n",
    "            AND REGEXP_LIKE(CL.ID_NUMBER, '^[0-9]+$')\n",
    "         THEN '31'\n",
    "        WHEN LENGTH(CL.ID_NUMBER) = 8 AND INSTR(CL.ID_NUMBER, '8') > 0 \n",
    "            AND CL.ID_NUMBER NOT LIKE 'CC%' \n",
    "            AND CL.ID_NUMBER NOT LIKE 'CE%'\n",
    "        THEN '31'\n",
    "        WHEN LENGTH(CL.ID_NUMBER) = 7 OR LENGTH(CL.ID_NUMBER) = 8 \n",
    "            AND CL.ID_NUMBER NOT LIKE 'CC%' \n",
    "            AND CL.ID_NUMBER NOT LIKE 'CE%'\n",
    "        THEN '13'\n",
    "        WHEN  \n",
    "            LENGTH(CL.ID_NUMBER) > 9 \n",
    "            AND CL.ID_NUMBER NOT LIKE 'CC%' \n",
    "            AND CL.ID_NUMBER NOT LIKE 'CE%'\n",
    "            AND CL.ID_NUMBER NOT LIKE '222222222222%'\n",
    "            AND REGEXP_LIKE(CL.ID_NUMBER, '^[a-zA-Z0-9]+$')\n",
    "        THEN '13'\n",
    "        WHEN LENGTH(CL.ID_NUMBER) = 6 \n",
    "            AND CL.ID_NUMBER NOT LIKE 'CC%' \n",
    "            AND CL.ID_NUMBER NOT LIKE 'CE%'\n",
    "        THEN '42'  \n",
    "        WHEN CL.ID_NUMBER LIKE 'CE%' THEN '42'\n",
    "        WHEN CL.ID_NUMBER LIKE 'CC%' THEN '13'\n",
    "        ELSE '43'\n",
    "END AS Tipo_identificacion,\n",
    "CASE\n",
    "    \n",
    "        WHEN LENGTH(CL.ID_NUMBER) = 9 AND INSTR(CL.ID_NUMBER, '9') > 0 THEN 'Empresa' \n",
    "        WHEN LENGTH(CL.ID_NUMBER) = 9 AND INSTR(CL.ID_NUMBER, '8') > 0 THEN 'Empresa'\n",
    "        WHEN LENGTH(CL.ID_NUMBER) = 7 THEN 'Es persona'\n",
    "        WHEN LENGTH(CL.ID_NUMBER) = 8 THEN 'Es persona'\n",
    "        WHEN LENGTH(CL.ID_NUMBER) > 9 THEN 'Es persona'\n",
    "        WHEN LENGTH(CL.ID_NUMBER) = 6 THEN 'Es persona'\n",
    "        ELSE 'Es persona'\n",
    "END AS Tipo,\n",
    "CASE    \n",
    "    WHEN LENGTH(CL.ID_NUMBER) = 9 AND INSTR(CL.ID_NUMBER, '9') > 0 THEN CL.FIRSTNAME \n",
    "    WHEN LENGTH(CL.ID_NUMBER) = 9 AND INSTR(CL.ID_NUMBER, '8') > 0 THEN CL.FIRSTNAME\n",
    "    ELSE ' '\n",
    "END AS RAZON_SOCIAL,  \n",
    "CASE\n",
    "    \n",
    "     WHEN LENGTH(CL.ID_NUMBER) = 9 AND INSTR(CL.ID_NUMBER, '9') > 0 THEN '' \n",
    "     WHEN LENGTH(CL.ID_NUMBER) = 9 AND INSTR(CL.ID_NUMBER, '8') > 0 THEN ''\n",
    "     ELSE CL.FIRSTNAME\n",
    "END AS PRIMER_NOMBRE,    \n",
    "CL.LASTNAME,\n",
    " SUBSTR(SLS.ORDER_CONTACT_ADDRESS,0,13) AS Direccion,\n",
    "\n",
    "CASE\n",
    "    WHEN (SLS.ORDER_CONTACT_COUNTRY) LIKE '%Brasil%' THEN 'Br'\n",
    "    WHEN (SLS.ORDER_CONTACT_COUNTRY) LIKE '%Canadá%' THEN 'Ca'\n",
    "    WHEN (SLS.ORDER_CONTACT_COUNTRY) LIKE '%Chile%' THEN 'Cl'\n",
    "    WHEN (SLS.ORDER_CONTACT_COUNTRY) LIKE '%Colombia%' THEN 'Co'\n",
    "    WHEN (SLS.ORDER_CONTACT_COUNTRY) LIKE '%Costa Rica%' THEN 'Cr'\n",
    "    WHEN (SLS.ORDER_CONTACT_COUNTRY) LIKE '%Ecuador%' THEN 'Ec'\n",
    "    WHEN (SLS.ORDER_CONTACT_COUNTRY) LIKE '%Estados Unidos%' THEN 'Us'\n",
    "    WHEN (SLS.ORDER_CONTACT_COUNTRY) LIKE '%Francia%' THEN 'Fr'\n",
    "    WHEN (SLS.ORDER_CONTACT_COUNTRY) LIKE '%Honduras%' THEN 'Hn'\n",
    "    WHEN (SLS.ORDER_CONTACT_COUNTRY) LIKE '%México%' THEN 'Mx'\n",
    "    WHEN (SLS.ORDER_CONTACT_COUNTRY) LIKE '%Panamá%' THEN 'Pa'\n",
    "    WHEN (SLS.ORDER_CONTACT_COUNTRY) LIKE '%Perú%' THEN 'Pe'\n",
    "    WHEN (SLS.ORDER_CONTACT_COUNTRY) LIKE '%Reino Unido%' THEN 'Gb'\n",
    "    WHEN (SLS.ORDER_CONTACT_COUNTRY) LIKE '%Uruguay%' THEN 'Uy'\n",
    "    WHEN (SLS.ORDER_CONTACT_COUNTRY) LIKE '%Venezuela%' THEN 'Ve'\n",
    "    WHEN (SLS.ORDER_CONTACT_COUNTRY) LIKE '%Alemania%' THEN 'De'\n",
    "    WHEN (SLS.ORDER_CONTACT_COUNTRY) LIKE '%Argentina%' THEN 'Ar'\n",
    "    WHEN (SLS.ORDER_CONTACT_COUNTRY) LIKE '%Bolivia%' THEN 'Bo'\n",
    "    WHEN (SLS.ORDER_CONTACT_COUNTRY) LIKE '%España%' THEN 'Es'\n",
    "    WHEN (SLS.ORDER_CONTACT_COUNTRY) LIKE '%Guatemala%' THEN 'Gt'\n",
    "    WHEN (SLS.ORDER_CONTACT_COUNTRY) LIKE '%Italia%' THEN 'It'\n",
    "    WHEN (SLS.ORDER_CONTACT_COUNTRY) LIKE '%Noruega%' THEN 'No'\n",
    "    WHEN (SLS.ORDER_CONTACT_COUNTRY) LIKE '%Salvador%' THEN 'Sv'\n",
    "    ELSE 'CO' \n",
    "END AS CODIGO_PAIS,\n",
    "\n",
    "CASE\n",
    "    WHEN (SLS.ORDER_CONTACT_TOWN) LIKE '%RÍO DE JANEIRO%' THEN '18'\n",
    "    WHEN (SLS.ORDER_CONTACT_TOWN) LIKE '%AGUACHICA%' THEN '20'\n",
    "    WHEN (SLS.ORDER_CONTACT_TOWN) LIKE '%AGUAZUL%' THEN '85'\n",
    "    WHEN (SLS.ORDER_CONTACT_TOWN) LIKE '%AIPE%' THEN '41'\n",
    "    WHEN (SLS.ORDER_CONTACT_TOWN) LIKE '%ANAPOIMA%' THEN '25'\n",
    "    WHEN (SLS.ORDER_CONTACT_TOWN) LIKE '%AQUITANIA%' THEN '15'\n",
    "        WHEN (SLS.ORDER_CONTACT_TOWN) LIKE '%ARAUCA%' THEN '81'\n",
    "        WHEN (SLS.ORDER_CONTACT_TOWN) LIKE '%ARCABUCO%' THEN '15'\n",
    "        WHEN (SLS.ORDER_CONTACT_TOWN) LIKE '%ARMENIA%' THEN '05'\n",
    "        WHEN (SLS.ORDER_CONTACT_TOWN) LIKE '%BARBOSA%' THEN '05'\n",
    "        WHEN (SLS.ORDER_CONTACT_TOWN) LIKE '%BARICHARA%' THEN '68'\n",
    "        WHEN (SLS.ORDER_CONTACT_TOWN) LIKE '%BARRANCABERMEJA%' THEN '68'\n",
    "        WHEN (SLS.ORDER_CONTACT_TOWN) LIKE '%BARRANQUILLA%' THEN '08'\n",
    "        WHEN (SLS.ORDER_CONTACT_TOWN) LIKE '%BELLO%' THEN '05'\n",
    "        WHEN (SLS.ORDER_CONTACT_TOWN) LIKE '%BOGOTÁ%' THEN '11'\n",
    "        WHEN (SLS.ORDER_CONTACT_TOWN) LIKE '%BUCARAMANGA%' THEN '68'\n",
    "        WHEN (SLS.ORDER_CONTACT_TOWN) LIKE '%CAJICÁ%' THEN '25'\n",
    "        WHEN (SLS.ORDER_CONTACT_TOWN) LIKE '%CALI%' THEN '76'\n",
    "        WHEN (SLS.ORDER_CONTACT_TOWN) LIKE '%CAMPOALEGRE%' THEN '41'\n",
    "        WHEN (SLS.ORDER_CONTACT_TOWN) LIKE '%CARTAGENA%' THEN '13'\n",
    "        WHEN (SLS.ORDER_CONTACT_TOWN) LIKE '%CERINZA%' THEN '15'\n",
    "        WHEN (SLS.ORDER_CONTACT_TOWN) LIKE '%CHÍA%' THEN '25'\n",
    "        WHEN (SLS.ORDER_CONTACT_TOWN) LIKE '%CHIQUINQUIRÁ%' THEN '15'\n",
    "        WHEN (SLS.ORDER_CONTACT_TOWN) LIKE '%CIRCASIA%' THEN '63'\n",
    "        WHEN (SLS.ORDER_CONTACT_TOWN) LIKE '%CORRALES%' THEN '15'\n",
    "        WHEN (SLS.ORDER_CONTACT_TOWN) LIKE '%COTA%' THEN '25'\n",
    "        WHEN (SLS.ORDER_CONTACT_TOWN) LIKE '%DUITAMA%' THEN '15'\n",
    "        WHEN (SLS.ORDER_CONTACT_TOWN) LIKE '%EL DOVIO%' THEN '76'\n",
    "        WHEN (SLS.ORDER_CONTACT_TOWN) LIKE '%ENVIGADO%' THEN '05'\n",
    "        WHEN (SLS.ORDER_CONTACT_TOWN) LIKE '%ESPINAL%' THEN '73'\n",
    "        WHEN (SLS.ORDER_CONTACT_TOWN) LIKE '%FACATATIVÁ%' THEN '25'\n",
    "        WHEN (SLS.ORDER_CONTACT_TOWN) LIKE '%FIRAVITOBA%' THEN '15'\n",
    "        WHEN (SLS.ORDER_CONTACT_TOWN) LIKE '%FLORENCIA%' THEN '18'\n",
    "        WHEN (SLS.ORDER_CONTACT_TOWN) LIKE '%FLORESTA%' THEN '15'\n",
    "        WHEN (SLS.ORDER_CONTACT_TOWN) LIKE '%FLORIDABLANCA%' THEN '68'\n",
    "        WHEN (SLS.ORDER_CONTACT_TOWN) LIKE '%FUNZA%' THEN '25'\n",
    "        WHEN (SLS.ORDER_CONTACT_TOWN) LIKE '%FUSAGASUGÁ%' THEN '25'\n",
    "        WHEN (SLS.ORDER_CONTACT_TOWN) LIKE '%GAMEZA%' THEN '15'\n",
    "        WHEN (SLS.ORDER_CONTACT_TOWN) LIKE '%GARAGOA%' THEN '15'\n",
    "        WHEN (SLS.ORDER_CONTACT_TOWN) LIKE '%GIRARDOT%' THEN '25'\n",
    "        WHEN (SLS.ORDER_CONTACT_TOWN) LIKE '%GIRARDOTA%' THEN '05'\n",
    "        WHEN (SLS.ORDER_CONTACT_TOWN) LIKE '%GIRÓN%' THEN '68'\n",
    "        WHEN (SLS.ORDER_CONTACT_TOWN) LIKE '%GUASCA%' THEN '25'\n",
    "        WHEN (SLS.ORDER_CONTACT_TOWN) LIKE '%HONDA%' THEN '73'\n",
    "        WHEN (SLS.ORDER_CONTACT_TOWN) LIKE '%IBAGUÉ%' THEN '73'\n",
    "        WHEN (SLS.ORDER_CONTACT_TOWN) LIKE '%ITAGUI%' THEN '05'\n",
    "        WHEN (SLS.ORDER_CONTACT_TOWN) LIKE '%IZA%' THEN '15'\n",
    "        WHEN (SLS.ORDER_CONTACT_TOWN) LIKE '%LA CALERA%' THEN '25'\n",
    "        WHEN (SLS.ORDER_CONTACT_TOWN) LIKE '%LA CEJA%' THEN '05'\n",
    "        WHEN (SLS.ORDER_CONTACT_TOWN) LIKE '%LA DORADA%' THEN '17'\n",
    "        WHEN (SLS.ORDER_CONTACT_TOWN) LIKE '%LA ESTRELLA%' THEN '05'\n",
    "        WHEN (SLS.ORDER_CONTACT_TOWN) LIKE '%LA PEÑA%' THEN '25'\n",
    "        WHEN (SLS.ORDER_CONTACT_TOWN) LIKE '%LA TEBAIDA%' THEN '63'\n",
    "        WHEN (SLS.ORDER_CONTACT_TOWN) LIKE '%LA VEGA%' THEN '19'\n",
    "        WHEN (SLS.ORDER_CONTACT_TOWN) LIKE '%MADRID%' THEN '25'\n",
    "        WHEN (SLS.ORDER_CONTACT_TOWN) LIKE '%MANIZALES%' THEN '17'\n",
    "        WHEN (SLS.ORDER_CONTACT_TOWN) LIKE '%MANTA%' THEN '25'\n",
    "        WHEN (SLS.ORDER_CONTACT_TOWN) LIKE '%MEDELLÍN%' THEN '05'\n",
    "        WHEN (SLS.ORDER_CONTACT_TOWN) LIKE '%MEDINA%' THEN '25'\n",
    "        WHEN (SLS.ORDER_CONTACT_TOWN) LIKE '%MELGAR%' THEN '73'\n",
    "        WHEN (SLS.ORDER_CONTACT_TOWN) LIKE '%MIRAFLORES%' THEN '15'\n",
    "        WHEN (SLS.ORDER_CONTACT_TOWN) LIKE '%MONGUA%' THEN '15'\n",
    "        WHEN (SLS.ORDER_CONTACT_TOWN) LIKE '%MONTERREY%' THEN '85'\n",
    "        WHEN (SLS.ORDER_CONTACT_TOWN) LIKE '%MOSQUERA%' THEN '25'\n",
    "        WHEN (SLS.ORDER_CONTACT_TOWN) LIKE '%MOTAVITA%' THEN '15'\n",
    "        WHEN (SLS.ORDER_CONTACT_TOWN) LIKE '%NEIVA%' THEN '41'\n",
    "        WHEN (SLS.ORDER_CONTACT_TOWN) LIKE '%NOBSA%' THEN '15'\n",
    "        WHEN (SLS.ORDER_CONTACT_TOWN) LIKE '%OIBA%' THEN '68'\n",
    "        WHEN (SLS.ORDER_CONTACT_TOWN) LIKE '%PAIPA%' THEN '15'\n",
    "        WHEN (SLS.ORDER_CONTACT_TOWN) LIKE '%PALMIRA%' THEN '76'\n",
    "        WHEN (SLS.ORDER_CONTACT_TOWN) LIKE '%PAMPLONA%' THEN '54'\n",
    "        WHEN (SLS.ORDER_CONTACT_TOWN) LIKE '%PASCA%' THEN '25'\n",
    "        WHEN (SLS.ORDER_CONTACT_TOWN) LIKE '%PASTO%' THEN '52'\n",
    "        WHEN (SLS.ORDER_CONTACT_TOWN) LIKE '%PAUNA%' THEN '15'\n",
    "        WHEN (SLS.ORDER_CONTACT_TOWN) LIKE '%PAZ DE ARIPORO%' THEN '85'\n",
    "        WHEN (SLS.ORDER_CONTACT_TOWN) LIKE '%PEREIRA%' THEN '66'\n",
    "        WHEN (SLS.ORDER_CONTACT_TOWN) LIKE '%PESCA%' THEN '15'\n",
    "        WHEN (SLS.ORDER_CONTACT_TOWN) LIKE '%PIEDECUESTA%' THEN '68'\n",
    "        WHEN (SLS.ORDER_CONTACT_TOWN) LIKE '%PITALITO%' THEN '41'\n",
    "        WHEN (SLS.ORDER_CONTACT_TOWN) LIKE '%PORE%' THEN '85'\n",
    "        WHEN (SLS.ORDER_CONTACT_TOWN) LIKE '%RESTREPO%' THEN '50'\n",
    "        WHEN (SLS.ORDER_CONTACT_TOWN) LIKE '%RIOHACHA%' THEN '44'\n",
    "        WHEN (SLS.ORDER_CONTACT_TOWN) LIKE '%RIONEGRO%' THEN '05'\n",
    "        WHEN (SLS.ORDER_CONTACT_TOWN) LIKE '%ROVIRA%' THEN '73'\n",
    "        WHEN (SLS.ORDER_CONTACT_TOWN) LIKE '%SABANETA%' THEN '05'\n",
    "        WHEN (SLS.ORDER_CONTACT_TOWN) LIKE '%SALITRE%' THEN '14'\n",
    "        WHEN (SLS.ORDER_CONTACT_TOWN) LIKE '%SAN ALBERTO%' THEN '20'\n",
    "        WHEN (SLS.ORDER_CONTACT_TOWN) LIKE '%SAN BERNARDO%' THEN '25'\n",
    "        WHEN (SLS.ORDER_CONTACT_TOWN) LIKE '%SAN GIL%' THEN '68'\n",
    "        WHEN (SLS.ORDER_CONTACT_TOWN) LIKE '%SAN LUIS DE PALENQUE%' THEN '85'\n",
    "        WHEN (SLS.ORDER_CONTACT_TOWN) LIKE '%SANTA FE%' THEN '31'\n",
    "        WHEN (SLS.ORDER_CONTACT_TOWN) LIKE '%SANTA MARTA%' THEN '47'\n",
    "        WHEN (SLS.ORDER_CONTACT_TOWN) LIKE '%SANTA ROSA DE VITERBO%' THEN '15'\n",
    "        WHEN (SLS.ORDER_CONTACT_TOWN) LIKE '%SANTANA%' THEN '15'\n",
    "        WHEN (SLS.ORDER_CONTACT_TOWN) LIKE '%SANTANDER DE QUILICHAO%' THEN '19'\n",
    "        WHEN (SLS.ORDER_CONTACT_TOWN) LIKE '%SIBATÉ%' THEN '25'\n",
    "        WHEN (SLS.ORDER_CONTACT_TOWN) LIKE '%SINCELEJO%' THEN '70'\n",
    "        WHEN (SLS.ORDER_CONTACT_TOWN) LIKE '%SOACHA%' THEN '25'\n",
    "        WHEN (SLS.ORDER_CONTACT_TOWN) LIKE '%SOCHA%' THEN '15'\n",
    "        WHEN (SLS.ORDER_CONTACT_TOWN) LIKE '%SOCORRO%' THEN '68'\n",
    "        WHEN (SLS.ORDER_CONTACT_TOWN) LIKE '%SOGAMOSO%' THEN '15'\n",
    "        WHEN (SLS.ORDER_CONTACT_TOWN) LIKE '%SOPÓ%' THEN '25'\n",
    "        WHEN (SLS.ORDER_CONTACT_TOWN) LIKE '%SUAITA%' THEN '68'\n",
    "        WHEN (SLS.ORDER_CONTACT_TOWN) LIKE '%SUCRE%' THEN '19'\n",
    "        WHEN (SLS.ORDER_CONTACT_TOWN) LIKE '%SUESCA%' THEN '25'\n",
    "        WHEN (SLS.ORDER_CONTACT_TOWN) LIKE '%TABIO%' THEN '25'\n",
    "        WHEN (SLS.ORDER_CONTACT_TOWN) LIKE '%TAME%' THEN '81'\n",
    "        WHEN (SLS.ORDER_CONTACT_TOWN) LIKE '%TENJO%' THEN '25'\n",
    "        WHEN (SLS.ORDER_CONTACT_TOWN) LIKE '%TIBASOSA%' THEN '15'\n",
    "        WHEN (SLS.ORDER_CONTACT_TOWN) LIKE '%TOCA%' THEN '15'\n",
    "        WHEN (SLS.ORDER_CONTACT_TOWN) LIKE '%TOTA%' THEN '15'\n",
    "        WHEN (SLS.ORDER_CONTACT_TOWN) LIKE '%TRINIDAD%' THEN '85'\n",
    "        WHEN (SLS.ORDER_CONTACT_TOWN) LIKE '%TUNJA%' THEN '15'\n",
    "        WHEN (SLS.ORDER_CONTACT_TOWN) LIKE '%TUTA%' THEN '15'\n",
    "        WHEN (SLS.ORDER_CONTACT_TOWN) LIKE '%VALLEDUPAR%' THEN '20'\n",
    "        WHEN (SLS.ORDER_CONTACT_TOWN) LIKE '%VENTAQUEMADA%' THEN '15'\n",
    "        WHEN (SLS.ORDER_CONTACT_TOWN) LIKE '%VILLA DE LEYVA%' THEN '15'\n",
    "        WHEN (SLS.ORDER_CONTACT_TOWN) LIKE '%VILLA DE SAN DIEGO DE UBATE%' THEN '25'\n",
    "        WHEN (SLS.ORDER_CONTACT_TOWN) LIKE '%VILLA DEL ROSARIO%' THEN '54'\n",
    "        WHEN (SLS.ORDER_CONTACT_TOWN) LIKE '%YOPAL%' THEN '85'\n",
    "        WHEN (SLS.ORDER_CONTACT_TOWN) LIKE '%YUMBO%' THEN '76'\n",
    "        WHEN (SLS.ORDER_CONTACT_TOWN) LIKE '%ZIPAQUIRÁ%' THEN '25'\n",
    "        WHEN (SLS.ORDER_CONTACT_TOWN) LIKE '%GUAYAQUIL%' THEN '14'\n",
    "        WHEN (SLS.ORDER_CONTACT_TOWN) LIKE '%PARÍS%' THEN '76'\n",
    "        WHEN (SLS.ORDER_CONTACT_TOWN) LIKE '%SAN PEDRO SULA%' THEN '02'\n",
    "        WHEN (SLS.ORDER_CONTACT_TOWN) LIKE '%CIUDAD DE MÉXICO%' THEN '07'\n",
    "        WHEN (SLS.ORDER_CONTACT_TOWN) LIKE '%GUADALAJARA%' THEN '14'\n",
    "        WHEN (SLS.ORDER_CONTACT_TOWN) LIKE '%LIMA%' THEN '47'\n",
    "        WHEN (SLS.ORDER_CONTACT_TOWN) LIKE '%LONDRES%' THEN '01'\n",
    "        WHEN (SLS.ORDER_CONTACT_TOWN) LIKE '%MONTEVIDEO%' THEN '10'\n",
    "        WHEN (SLS.ORDER_CONTACT_TOWN) LIKE '%BARQUISIMETO%' THEN '13'\n",
    "        ELSE '11'\n",
    "END AS CODIGO_ESTADO,\n",
    "\n",
    "CASE\n",
    "        WHEN (SLS.ORDER_CONTACT_TOWN) LIKE '%RíO DE JANEIRO%' THEN '1801'\n",
    "        WHEN (SLS.ORDER_CONTACT_TOWN) LIKE '%AGUACHICA%' THEN '20011'\n",
    "        WHEN (SLS.ORDER_CONTACT_TOWN) LIKE '%AGUAZUL%' THEN '85010'\n",
    "        WHEN (SLS.ORDER_CONTACT_TOWN) LIKE '%AIPE%' THEN '41016'\n",
    "        WHEN (SLS.ORDER_CONTACT_TOWN) LIKE '%ANAPOIMA%' THEN '25035'\n",
    "        WHEN (SLS.ORDER_CONTACT_TOWN) LIKE '%AQUITANIA%' THEN '15047'\n",
    "        WHEN (SLS.ORDER_CONTACT_TOWN) LIKE '%ARAUCA%' THEN '81001'\n",
    "        WHEN (SLS.ORDER_CONTACT_TOWN) LIKE '%ARCABUCO%' THEN '15051'\n",
    "        WHEN (SLS.ORDER_CONTACT_TOWN) LIKE '%ARMENIA%' THEN '05059'\n",
    "        WHEN (SLS.ORDER_CONTACT_TOWN) LIKE '%BARBOSA%' THEN '05079'\n",
    "        WHEN (SLS.ORDER_CONTACT_TOWN) LIKE '%BARICHARA%' THEN '68079'\n",
    "        WHEN (SLS.ORDER_CONTACT_TOWN) LIKE '%BARRANCABERMEJA%' THEN '68081'\n",
    "        WHEN (SLS.ORDER_CONTACT_TOWN) LIKE '%BARRANQUILLA%' THEN '08001'\n",
    "        WHEN (SLS.ORDER_CONTACT_TOWN) LIKE '%BELLO%' THEN '05088'\n",
    "        WHEN (SLS.ORDER_CONTACT_TOWN) LIKE '%BOGOTÁ%' THEN '11001'\n",
    "        WHEN (SLS.ORDER_CONTACT_TOWN) LIKE '%BUCARAMANGA%' THEN '68001'\n",
    "        WHEN (SLS.ORDER_CONTACT_TOWN) LIKE '%CAJICÁ%' THEN '25126'\n",
    "        WHEN (SLS.ORDER_CONTACT_TOWN) LIKE '%CALI%' THEN '76001'\n",
    "        WHEN (SLS.ORDER_CONTACT_TOWN) LIKE '%CAMPOALEGRE%' THEN '41132'\n",
    "        WHEN (SLS.ORDER_CONTACT_TOWN) LIKE '%CARTAGENA%' THEN '13001'\n",
    "        WHEN (SLS.ORDER_CONTACT_TOWN) LIKE '%CERINZA%' THEN '15162'\n",
    "        WHEN (SLS.ORDER_CONTACT_TOWN) LIKE '%CHÍA%' THEN '25175'\n",
    "        WHEN (SLS.ORDER_CONTACT_TOWN) LIKE '%CHIQUINQUIRÁ%' THEN '15176'\n",
    "        WHEN (SLS.ORDER_CONTACT_TOWN) LIKE '%CIRCASIA%' THEN '63190'\n",
    "        WHEN (SLS.ORDER_CONTACT_TOWN) LIKE '%CORRALES%' THEN '15215'\n",
    "        WHEN (SLS.ORDER_CONTACT_TOWN) LIKE '%COTA%' THEN '25214'\n",
    "        WHEN (SLS.ORDER_CONTACT_TOWN) LIKE '%DUITAMA%' THEN '15238'\n",
    "        WHEN (SLS.ORDER_CONTACT_TOWN) LIKE '%EL DOVIO%' THEN '76250'\n",
    "        WHEN (SLS.ORDER_CONTACT_TOWN) LIKE '%ENVIGADO%' THEN '05266'\n",
    "        WHEN (SLS.ORDER_CONTACT_TOWN) LIKE '%ESPINAL%' THEN '73268'\n",
    "        WHEN (SLS.ORDER_CONTACT_TOWN) LIKE '%FACATATIVÁ%' THEN '25269'\n",
    "        WHEN (SLS.ORDER_CONTACT_TOWN) LIKE '%FIRAVITOBA%' THEN '15272'\n",
    "        WHEN (SLS.ORDER_CONTACT_TOWN) LIKE '%FLORENCIA%' THEN '18001'\n",
    "        WHEN (SLS.ORDER_CONTACT_TOWN) LIKE '%FLORESTA%' THEN '15276'\n",
    "        WHEN (SLS.ORDER_CONTACT_TOWN) LIKE '%FLORIDABLANCA%' THEN '68276'\n",
    "        WHEN (SLS.ORDER_CONTACT_TOWN) LIKE '%FUNZA%' THEN '25286'\n",
    "        WHEN (SLS.ORDER_CONTACT_TOWN) LIKE '%FUSAGASUGÁ%' THEN '25290'\n",
    "        WHEN (SLS.ORDER_CONTACT_TOWN) LIKE '%GAMEZA%' THEN '15296'\n",
    "        WHEN (SLS.ORDER_CONTACT_TOWN) LIKE '%GARAGOA%' THEN '15299'\n",
    "        WHEN (SLS.ORDER_CONTACT_TOWN) LIKE '%GIRARDOT%' THEN '25307'\n",
    "        WHEN (SLS.ORDER_CONTACT_TOWN) LIKE '%GIRARDOTA%' THEN '05308'\n",
    "        WHEN (SLS.ORDER_CONTACT_TOWN) LIKE '%GIRÓN%' THEN '68307'\n",
    "        WHEN (SLS.ORDER_CONTACT_TOWN) LIKE '%GUASCA%' THEN '25322'\n",
    "        WHEN (SLS.ORDER_CONTACT_TOWN) LIKE '%HONDA%' THEN '73349'\n",
    "        WHEN (SLS.ORDER_CONTACT_TOWN) LIKE '%IBAGUÉ%' THEN '73001'\n",
    "        WHEN (SLS.ORDER_CONTACT_TOWN) LIKE '%ITAGUI%' THEN '05360'\n",
    "        WHEN (SLS.ORDER_CONTACT_TOWN) LIKE '%IZA%' THEN '15362'\n",
    "        WHEN (SLS.ORDER_CONTACT_TOWN) LIKE '%LA CALERA%' THEN '25377'\n",
    "        WHEN (SLS.ORDER_CONTACT_TOWN) LIKE '%LA CEJA%' THEN '05376'\n",
    "        WHEN (SLS.ORDER_CONTACT_TOWN) LIKE '%LA DORADA%' THEN '17380'\n",
    "        WHEN (SLS.ORDER_CONTACT_TOWN) LIKE '%LA ESTRELLA%' THEN '05380'\n",
    "        WHEN (SLS.ORDER_CONTACT_TOWN) LIKE '%LA PEÑA%' THEN '25398'\n",
    "        WHEN (SLS.ORDER_CONTACT_TOWN) LIKE '%LA TEBAIDA%' THEN '63401'\n",
    "        WHEN (SLS.ORDER_CONTACT_TOWN) LIKE '%LA VEGA%' THEN '19397'\n",
    "        WHEN (SLS.ORDER_CONTACT_TOWN) LIKE '%MADRID%' THEN '25430'\n",
    "        WHEN (SLS.ORDER_CONTACT_TOWN) LIKE '%MANIZALES%' THEN '17001'\n",
    "        WHEN (SLS.ORDER_CONTACT_TOWN) LIKE '%MANTA%' THEN '25436'\n",
    "        WHEN (SLS.ORDER_CONTACT_TOWN) LIKE '%MEDELLÍN%' THEN '05001'\n",
    "        WHEN (SLS.ORDER_CONTACT_TOWN) LIKE '%MEDINA%' THEN '25438'\n",
    "        WHEN (SLS.ORDER_CONTACT_TOWN) LIKE '%MELGAR%' THEN '73449'\n",
    "        WHEN (SLS.ORDER_CONTACT_TOWN) LIKE '%MIRAFLORES%' THEN '15455'\n",
    "        WHEN (SLS.ORDER_CONTACT_TOWN) LIKE '%MONGUA%' THEN '15464'\n",
    "        WHEN (SLS.ORDER_CONTACT_TOWN) LIKE '%MONTERREY%' THEN '85162'\n",
    "        WHEN (SLS.ORDER_CONTACT_TOWN) LIKE '%MOSQUERA%' THEN '25473'\n",
    "        WHEN (SLS.ORDER_CONTACT_TOWN) LIKE '%MOTAVITA%' THEN '15476'\n",
    "        WHEN (SLS.ORDER_CONTACT_TOWN) LIKE '%NEIVA%' THEN '41001'\n",
    "        WHEN (SLS.ORDER_CONTACT_TOWN) LIKE '%NOBSA%' THEN '15491'\n",
    "        WHEN (SLS.ORDER_CONTACT_TOWN) LIKE '%OIBA%' THEN '68500'\n",
    "        WHEN (SLS.ORDER_CONTACT_TOWN) LIKE '%PAIPA%' THEN '15516'\n",
    "        WHEN (SLS.ORDER_CONTACT_TOWN) LIKE '%PALMIRA%' THEN '76520'\n",
    "        WHEN (SLS.ORDER_CONTACT_TOWN) LIKE '%PAMPLONA%' THEN '54518'\n",
    "        WHEN (SLS.ORDER_CONTACT_TOWN) LIKE '%PASCA%' THEN '25535'\n",
    "        WHEN (SLS.ORDER_CONTACT_TOWN) LIKE '%PASTO%' THEN '52001'\n",
    "        WHEN (SLS.ORDER_CONTACT_TOWN) LIKE '%PAUNA%' THEN '15531'\n",
    "        WHEN (SLS.ORDER_CONTACT_TOWN) LIKE '%PAZ DE ARIPORO%' THEN '85250'\n",
    "        WHEN (SLS.ORDER_CONTACT_TOWN) LIKE '%PEREIRA%' THEN '66001'\n",
    "        WHEN (SLS.ORDER_CONTACT_TOWN) LIKE '%PESCA%' THEN '15542'\n",
    "        WHEN (SLS.ORDER_CONTACT_TOWN) LIKE '%PIEDECUESTA%' THEN '68547'\n",
    "        WHEN (SLS.ORDER_CONTACT_TOWN) LIKE '%PITALITO%' THEN '41551'\n",
    "        WHEN (SLS.ORDER_CONTACT_TOWN) LIKE '%PORE%' THEN '85263'\n",
    "        WHEN (SLS.ORDER_CONTACT_TOWN) LIKE '%RESTREPO%' THEN '50606'\n",
    "        WHEN (SLS.ORDER_CONTACT_TOWN) LIKE '%RIOHACHA%' THEN '44001'\n",
    "        WHEN (SLS.ORDER_CONTACT_TOWN) LIKE '%RIONEGRO%' THEN '05615'\n",
    "        WHEN (SLS.ORDER_CONTACT_TOWN) LIKE '%ROVIRA%' THEN '73624'\n",
    "        WHEN (SLS.ORDER_CONTACT_TOWN) LIKE '%SABANETA%' THEN '05631'\n",
    "        WHEN (SLS.ORDER_CONTACT_TOWN) LIKE '%SALITRE%' THEN '14129'\n",
    "        WHEN (SLS.ORDER_CONTACT_TOWN) LIKE '%SAN ALBERTO%' THEN '20710'\n",
    "        WHEN (SLS.ORDER_CONTACT_TOWN) LIKE '%SAN BERNARDO%' THEN '25649'\n",
    "        WHEN (SLS.ORDER_CONTACT_TOWN) LIKE '%SAN GIL%' THEN '68679'\n",
    "        WHEN (SLS.ORDER_CONTACT_TOWN) LIKE '%SAN LUIS DE PALENQUE%' THEN '85325'\n",
    "        WHEN (SLS.ORDER_CONTACT_TOWN) LIKE '%SANTA FE DE ANTIOQUIA%' THEN '05642'\n",
    "        WHEN (SLS.ORDER_CONTACT_TOWN) LIKE '%SANTA MARTA%' THEN '47001'\n",
    "        WHEN (SLS.ORDER_CONTACT_TOWN) LIKE '%SARAVENA%' THEN '81736'\n",
    "        WHEN (SLS.ORDER_CONTACT_TOWN) LIKE '%SESQUILÉ%' THEN '25718'\n",
    "        WHEN (SLS.ORDER_CONTACT_TOWN) LIKE '%SIBATÉ%' THEN '25740'\n",
    "        WHEN (SLS.ORDER_CONTACT_TOWN) LIKE '%SOGAMOSO%' THEN '15759'\n",
    "        WHEN (SLS.ORDER_CONTACT_TOWN) LIKE '%SOPÓ%' THEN '25758'\n",
    "        WHEN (SLS.ORDER_CONTACT_TOWN) LIKE '%SOPO%' THEN '25758'\n",
    "        WHEN (SLS.ORDER_CONTACT_TOWN) LIKE '%SOTAQUIRÁ%' THEN '15761'\n",
    "        WHEN (SLS.ORDER_CONTACT_TOWN) LIKE '%SUBACHOQUE%' THEN '25769'\n",
    "        WHEN (SLS.ORDER_CONTACT_TOWN) LIKE '%SUAMPAÑA%' THEN '99773'\n",
    "        WHEN (SLS.ORDER_CONTACT_TOWN) LIKE '%SUESCA%' THEN '25772'\n",
    "        WHEN (SLS.ORDER_CONTACT_TOWN) LIKE '%TÁMESIS%' THEN '05756'\n",
    "        WHEN (SLS.ORDER_CONTACT_TOWN) LIKE '%TENJO%' THEN '25785'\n",
    "        WHEN (SLS.ORDER_CONTACT_TOWN) LIKE '%TENZA%' THEN '15778'\n",
    "        WHEN (SLS.ORDER_CONTACT_TOWN) LIKE '%TOCANCIPÁ%' THEN '25793'\n",
    "        WHEN (SLS.ORDER_CONTACT_TOWN) LIKE '%TOTA%' THEN '15814'\n",
    "        WHEN (SLS.ORDER_CONTACT_TOWN) LIKE '%TUNJA%' THEN '15001'\n",
    "        WHEN (SLS.ORDER_CONTACT_TOWN) LIKE '%TURMEQUÉ%' THEN '15822'\n",
    "        WHEN (SLS.ORDER_CONTACT_TOWN) LIKE '%TUTA%' THEN '15832'\n",
    "        WHEN (SLS.ORDER_CONTACT_TOWN) LIKE '%UBALÁ%' THEN '25797'\n",
    "        WHEN (SLS.ORDER_CONTACT_TOWN) LIKE '%VILLAPINZÓN%' THEN '25862'\n",
    "        WHEN (SLS.ORDER_CONTACT_TOWN) LIKE '%VILLAVICENCIO%' THEN '50001'\n",
    "        WHEN (SLS.ORDER_CONTACT_TOWN) LIKE '%VISTA HERMOSA%' THEN '50711'\n",
    "        WHEN (SLS.ORDER_CONTACT_TOWN) LIKE '%YOPAL%' THEN '85001'\n",
    "        WHEN (SLS.ORDER_CONTACT_TOWN) LIKE '%ZIPAQUIRÁ%' THEN '25899'\n",
    "        ELSE '11001'\n",
    "END AS Codigo_ciudad,\n",
    "\n",
    "SUBSTR(SLS.ORDER_CONTACT_PRIMARY_PHONE,4,10) AS Telefono_principal,\n",
    "SLS.ORDER_CONTACT_EMAIL,\n",
    "\n",
    "'SI' AS CLIENTES,\n",
    "'Activo' AS ESTADO,\n",
    "'3' AS TIPO_COMPROBANTE,\n",
    "DENSE_RANK() OVER (ORDER BY SLS.FILE_NUMBER) + '1' - 1 AS Consecutivo,\n",
    "SLS.ORGANIZATION,\n",
    "SLS.REFERENCE_DATE as VALUE_DATE,\n",
    "SLS.PRODUCT,\n",
    "CASE \n",
    "   WHEN NVL(SPP.NET_SOLD_CHARGE_AMT_ITX,'0')!= 0 THEN 'BFEE'\n",
    "   --WHEN SLS.T_OPERATION_KIND  LIKE '%DELIVERY_OVERHEADS%' THEN 'HFEE'\n",
    "   WHEN SLS.T_OPERATION_KIND  IN ('DELIVERY_OVERHEADS') THEN 'HFEE' \n",
    "   WHEN SLS.T_OPERATION_KIND  IN ('ORDER_OVERHEADS') THEN 'HFEE-CALL'\n",
    "   WHEN  sls.product_code = ('CAN_INS_30') THEN 'AS-TKF'\n",
    "   WHEN  sls.product_code = ('CAN_INS_70') THEN 'AS-EL_EVENTO'\n",
    "   ELSE 'IRT'\n",
    "END AS Codigo_producto,\n",
    "'900569193' As Identificacion_vendedor,\n",
    "CASE \n",
    "   WHEN NVL(SPP.NET_SOLD_CHARGE_AMT_ITX,'0')!= 0 THEN ''\n",
    "   WHEN SLS.T_OPERATION_KIND IN ('DELIVERY_OVERHEADS','ORDER_OVERHEADS') THEN ''\n",
    "   WHEN  sls.product_code = ('CAN_INS') THEN ''\n",
    "   WHEN  sls.product_code = ('CAN_INS_30') THEN ''\n",
    "   WHEN  sls.product_code = ('CAN_INS_70') THEN '901332457'\n",
    "   ELSE '800181743'\n",
    "END AS IDENTIFICACION_TERCERO,\n",
    "CASE \n",
    "   WHEN NVL(SPP.NET_SOLD_CHARGE_AMT_ITX,'0')!= 0 THEN '1'\n",
    "   WHEN SLS.T_OPERATION_KIND  LIKE '%DELIVERY_OVERHEADS%' THEN '1'\n",
    "   WHEN  sls.product_code = ('CAN_INS') THEN '1'\n",
    "   WHEN  sls.product_code = ('CAN_INS_30') THEN '1'\n",
    "   WHEN  sls.product_code = ('CAN_INS_70') THEN '1'\n",
    "   ELSE ''\n",
    "END AS Codigo_impuesto,\n",
    "CASE\n",
    "    WHEN (SPP.PAYMENT_METHOD) LIKE '%Tecnoglass%' THEN 'Otros'\n",
    "    WHEN (SPP.PAYMENT_METHOD) LIKE '%Tarjeta VISA%' THEN '4'\n",
    "    WHEN (SPP.PAYMENT_METHOD) LIKE '%Tarjeta Olimpica%' THEN '4'\n",
    "    WHEN (SPP.PAYMENT_METHOD) LIKE '%Tarjeta Multiservicios%' THEN '4'\n",
    "    WHEN (SPP.PAYMENT_METHOD) LIKE '%Tarjeta MASTER%' THEN '4'\n",
    "    WHEN (SPP.PAYMENT_METHOD) LIKE '%Tarjeta MAESTRO%' THEN '4'\n",
    "    WHEN (SPP.PAYMENT_METHOD) LIKE '%Tarjeta Intercambios%' THEN '4'\n",
    "    WHEN (SPP.PAYMENT_METHOD) LIKE '%Tarjeta Exito%' THEN '4'\n",
    "    WHEN (SPP.PAYMENT_METHOD) LIKE '%Tarjeta ELECTRON%' THEN '4'\n",
    "    WHEN (SPP.PAYMENT_METHOD) LIKE '%Tarjeta DINERS%' THEN '4'\n",
    "    WHEN (SPP.PAYMENT_METHOD) LIKE '%Tarjeta de crédito%' THEN '4'\n",
    "    WHEN (SPP.PAYMENT_METHOD) LIKE '%Tarjeta de credito%' THEN '4'\n",
    "    WHEN (SPP.PAYMENT_METHOD) LIKE '%Tarjeta Codensa%' THEN '4'\n",
    "    WHEN (SPP.PAYMENT_METHOD) LIKE '%Tarjeta AMEX%' THEN '4'\n",
    "    WHEN (SPP.PAYMENT_METHOD) LIKE '%Serfinansa%' THEN '104'\n",
    "    WHEN (SPP.PAYMENT_METHOD) LIKE '%Saldo FITB%' THEN '104'\n",
    "    WHEN (SPP.PAYMENT_METHOD) LIKE '%Saldo Cliente%' THEN '104'\n",
    "    WHEN (SPP.PAYMENT_METHOD) LIKE '%Refund requested (for credit card)%' THEN '104'\n",
    "    WHEN (SPP.PAYMENT_METHOD) LIKE '%Recaudo Empresario%' THEN '104'\n",
    "    WHEN (SPP.PAYMENT_METHOD) LIKE '%Rappi%' THEN '104'\n",
    "    WHEN (SPP.PAYMENT_METHOD) LIKE '%Puntos Colombia%' THEN '104'\n",
    "    WHEN (SPP.PAYMENT_METHOD) LIKE '%Payvalida%' THEN '104'\n",
    "    WHEN (SPP.PAYMENT_METHOD) LIKE '%Pago Salud Total%' THEN '104'\n",
    "    WHEN (SPP.PAYMENT_METHOD) LIKE '%Pago Parcial%' THEN '104'\n",
    "    WHEN (SPP.PAYMENT_METHOD) LIKE '%Pago en espera%' THEN '104'\n",
    "    WHEN (SPP.PAYMENT_METHOD) LIKE '%Otros**%' THEN '104'\n",
    "    WHEN (SPP.PAYMENT_METHOD) LIKE '%Olimpica%' THEN '104'\n",
    "    WHEN (SPP.PAYMENT_METHOD) LIKE '%Nequi%' THEN '104'\n",
    "    WHEN (SPP.PAYMENT_METHOD) LIKE '%MASTER2%' THEN '4'\n",
    "    WHEN (SPP.PAYMENT_METHOD) LIKE '%Junta Directiva%' THEN '104'\n",
    "    WHEN (SPP.PAYMENT_METHOD) LIKE '%Internet VISA Popular%' THEN '4'\n",
    "    WHEN (SPP.PAYMENT_METHOD) LIKE '%Internet Visa Nacional%' THEN '4'\n",
    "    WHEN (SPP.PAYMENT_METHOD) LIKE '%Internet VISA Bancolombia Selección%' THEN '4'\n",
    "    WHEN (SPP.PAYMENT_METHOD) LIKE '%Internet VISA Bancolombia%' THEN '4'\n",
    "    WHEN (SPP.PAYMENT_METHOD) LIKE '%Internet VISA AVAL%' THEN '4'\n",
    "    WHEN (SPP.PAYMENT_METHOD) LIKE '%Internet VISA%' THEN '4'\n",
    "    WHEN (SPP.PAYMENT_METHOD) LIKE '%Internet Safetypay%' THEN '3'\n",
    "    WHEN (SPP.PAYMENT_METHOD) LIKE '%Internet Rappi%' THEN '104'\n",
    "    WHEN (SPP.PAYMENT_METHOD) LIKE '%Internet OCCIDENTE Visa%' THEN '4'\n",
    "    WHEN (SPP.PAYMENT_METHOD) LIKE '%Internet OCCIDENTE Master%' THEN '4'\n",
    "    WHEN (SPP.PAYMENT_METHOD) LIKE '%Internet Nequi VE%' THEN '104'\n",
    "    WHEN (SPP.PAYMENT_METHOD) LIKE '%Internet Nequi%' THEN '104'\n",
    "    WHEN (SPP.PAYMENT_METHOD) LIKE '%Internet Mastercard Serfinanza%' THEN '4'\n",
    "    WHEN (SPP.PAYMENT_METHOD) LIKE '%Internet Mastercard Nacional%' THEN '4'\n",
    "    WHEN (SPP.PAYMENT_METHOD) LIKE '%Internet Mastercard Falabella%' THEN '4'\n",
    "    WHEN (SPP.PAYMENT_METHOD) LIKE '%Internet Mastercard AvVillas%' THEN '4'\n",
    "    WHEN (SPP.PAYMENT_METHOD) LIKE '%Internet MASTERCARD AVAL%' THEN '4'\n",
    "    WHEN (SPP.PAYMENT_METHOD) LIKE '%Internet MASTERCARD%' THEN '4'\n",
    "    WHEN (SPP.PAYMENT_METHOD) LIKE '%Internet MASTER Bancolombia Selección%' THEN '4'\n",
    "    WHEN (SPP.PAYMENT_METHOD) LIKE '%Internet MASTER Bancolombia%' THEN '4'\n",
    "    WHEN (SPP.PAYMENT_METHOD) LIKE '%Internet DINERS Nacional%' THEN '4'\n",
    "    WHEN (SPP.PAYMENT_METHOD) LIKE '%Internet Diners%' THEN '4'\n",
    "    WHEN (SPP.PAYMENT_METHOD) LIKE '%Internet Davivienda MasterCard%' THEN '4'\n",
    "    WHEN (SPP.PAYMENT_METHOD) LIKE '%Internet Davivienda%' THEN '4'\n",
    "    WHEN (SPP.PAYMENT_METHOD) LIKE '%Internet Daviplata%' THEN '4'\n",
    "    WHEN (SPP.PAYMENT_METHOD) LIKE '%Internet Dale%' THEN '104'\n",
    "    WHEN (SPP.PAYMENT_METHOD) LIKE '%Internet D24 PSE%' THEN '3'\n",
    "    WHEN (SPP.PAYMENT_METHOD) LIKE '%Internet Colpatria%' THEN '4'\n",
    "    WHEN (SPP.PAYMENT_METHOD) LIKE '%Internet CeroPay%' THEN '4'\n",
    "    WHEN (SPP.PAYMENT_METHOD) LIKE '%Internet BBVA%' THEN '4'\n",
    "    WHEN (SPP.PAYMENT_METHOD) LIKE '%Internet BANCOLOMBIA%' THEN '4'\n",
    "    WHEN (SPP.PAYMENT_METHOD) LIKE '%Internet Arma tu vaca%' THEN '104'\n",
    "    WHEN (SPP.PAYMENT_METHOD) LIKE '%Internet AMEX Scotiabank%' THEN '4'\n",
    "    WHEN (SPP.PAYMENT_METHOD) LIKE '%Internet AMEX Nacional%' THEN '4'\n",
    "    WHEN (SPP.PAYMENT_METHOD) LIKE '%Internet AMEX Bancolombia Selección%' THEN '4'\n",
    "    WHEN (SPP.PAYMENT_METHOD) LIKE '%Internet AMEX Bancolombia%' THEN '4'\n",
    "    WHEN (SPP.PAYMENT_METHOD) LIKE '%Internet AMEX%' THEN '4'\n",
    "    WHEN (SPP.PAYMENT_METHOD) LIKE '%Internet Addi%' THEN '104'\n",
    "    WHEN (SPP.PAYMENT_METHOD) LIKE '%Intercambio Localidad%' THEN '104'\n",
    "    WHEN (SPP.PAYMENT_METHOD) LIKE '%Faltante Pago Parcial%' THEN '104'\n",
    "    WHEN (SPP.PAYMENT_METHOD) LIKE '%ELECTRON%' THEN '4'\n",
    "    WHEN (SPP.PAYMENT_METHOD) LIKE '%Efectivo Intercambios%' THEN '1'\n",
    "    WHEN (SPP.PAYMENT_METHOD) LIKE '%Efectivo Corporativo%' THEN '1'\n",
    "    WHEN (SPP.PAYMENT_METHOD) LIKE '%Efectivo%' THEN '1'\n",
    "    WHEN (SPP.PAYMENT_METHOD) LIKE '%Devoluciones Efecty%' THEN '104'\n",
    "    WHEN (SPP.PAYMENT_METHOD) LIKE '%Descuento Nómina%' THEN '104'\n",
    "    WHEN (SPP.PAYMENT_METHOD) LIKE '%Davivienda - Daviplata%' THEN '4'\n",
    "    WHEN (SPP.PAYMENT_METHOD) LIKE '%Daviplata%' THEN '4'\n",
    "    WHEN (SPP.PAYMENT_METHOD) LIKE '%Cuentas por Cobrar%' THEN '2'\n",
    "    WHEN (SPP.PAYMENT_METHOD) LIKE '%CORTESIA%' THEN '104'\n",
    "    WHEN (SPP.PAYMENT_METHOD) LIKE '%CORPORATIVO CRÉDITO %' THEN '2'\n",
    "    WHEN (SPP.PAYMENT_METHOD) LIKE '%CORPORATIVO CONTADO%' THEN '104'\n",
    "    WHEN (SPP.PAYMENT_METHOD) LIKE '%Consignación%' THEN '8'\n",
    "    WHEN (SPP.PAYMENT_METHOD) LIKE '%Codensa%' THEN '104'\n",
    "    WHEN (SPP.PAYMENT_METHOD) LIKE '%Cancellation Credit Card%' THEN '104'\n",
    "    WHEN (SPP.PAYMENT_METHOD) LIKE '%Bonos Softix%' THEN '104'\n",
    "    WHEN (SPP.PAYMENT_METHOD) LIKE '%Bonos%' THEN '104'\n",
    "    WHEN (SPP.PAYMENT_METHOD) LIKE '%BonoRegaloTB%' THEN '104'\n",
    "    WHEN (SPP.PAYMENT_METHOD) LIKE '%BonoMov%' THEN '104'\n",
    "    WHEN (SPP.PAYMENT_METHOD) LIKE '%Bono Regalo Teatro Mayor%' THEN '104'\n",
    "    WHEN (SPP.PAYMENT_METHOD) LIKE '%Bono Olimpica%' THEN '104'\n",
    "    WHEN (SPP.PAYMENT_METHOD) LIKE '%Bono Maloka%' THEN '104'\n",
    "    WHEN (SPP.PAYMENT_METHOD) LIKE '%Bono Maloka%' THEN '104'\n",
    "    WHEN (SPP.PAYMENT_METHOD) LIKE '%Bono Idartes%' THEN '104'\n",
    "    WHEN (SPP.PAYMENT_METHOD) LIKE '%BONO FOGACOOP%' THEN '104'\n",
    "    WHEN (SPP.PAYMENT_METHOD) LIKE '%Bono FITB 25%%' THEN '104'\n",
    "    WHEN (SPP.PAYMENT_METHOD) LIKE '%Bono FITB 20%%' THEN '104'\n",
    "    WHEN (SPP.PAYMENT_METHOD) LIKE '%Bono FITB 15%%' THEN '104'\n",
    "    WHEN (SPP.PAYMENT_METHOD) LIKE '%Bono Festival Bogotá es Barroco%' THEN '104'\n",
    "    WHEN (SPP.PAYMENT_METHOD) LIKE '%Bono El Cigala%' THEN '104'\n",
    "    WHEN (SPP.PAYMENT_METHOD) LIKE '%Bono Colsubsidio%' THEN '104'\n",
    "    WHEN (SPP.PAYMENT_METHOD) LIKE '%Bono Cliente Barroco%' THEN '104'\n",
    "    WHEN (SPP.PAYMENT_METHOD) LIKE '%Bono Cinemateca%' THEN '104'\n",
    "    WHEN (SPP.PAYMENT_METHOD) LIKE '%Bono Ana Torroja%' THEN '104'\n",
    "    WHEN (SPP.PAYMENT_METHOD) LIKE '%Bono allegro%' THEN '104'\n",
    "    WHEN (SPP.PAYMENT_METHOD) LIKE '%Bono 2021%' THEN '104'\n",
    "    WHEN (SPP.PAYMENT_METHOD) LIKE '%Billetera Cardenal%' THEN '104'\n",
    "    WHEN (SPP.PAYMENT_METHOD) LIKE '%Beneficio 25%%' THEN '104'\n",
    "    WHEN (SPP.PAYMENT_METHOD) LIKE '%Beneficio 20%%' THEN '104'\n",
    "    WHEN (SPP.PAYMENT_METHOD) LIKE '%Beneficio 15%%' THEN '104'\n",
    "    WHEN (SPP.PAYMENT_METHOD) LIKE '%Backoffice%' THEN '104'\n",
    "    WHEN (SPP.PAYMENT_METHOD) LIKE '%Aval Pay%' THEN '104'\n",
    "    WHEN (SPP.PAYMENT_METHOD) LIKE '%Atención a clientes%' THEN '104'\n",
    "    WHEN (SPP.PAYMENT_METHOD) LIKE '%(automatic) Credit note%' THEN '104'\n",
    "END AS Codigo_pago,\n",
    "ROUND(\n",
    "CASE \n",
    "   WHEN NVL(SPP.NET_SOLD_CHARGE_AMT_ITX,'0')!= 0 THEN NVL(((SPP.NET_SOLD_CHARGE_AMT_ITX/SLS.ORDER_QUANTITY)/1.19),'0')\n",
    "   WHEN SLS.T_OPERATION_KIND  LIKE '%DELIVERY_OVERHEADS%' THEN NVL(((SPP.NET_SOLD_AMT_ITX/SLS.ORDER_QUANTITY)/1.19),'0')\n",
    "   WHEN  sls.product_code = ('CAN_INS') THEN NVL(((SLS.NET_SOLD_TKT_AMT_ITX/SLS.ORDER_QUANTITY)/1.19),'0')\n",
    "   WHEN  sls.product_code = ('CAN_INS_30') THEN NVL(((SLS.NET_SOLD_TKT_AMT_ITX/SLS.ORDER_QUANTITY)/1.19),'0')\n",
    "   WHEN  sls.product_code = ('CAN_INS_70') THEN NVL(((SLS.NET_SOLD_TKT_AMT_ITX/SLS.ORDER_QUANTITY)/1.19),'0')\n",
    "   ELSE NVL((SPP.NET_SOLD_CHARGE_AMT_ITX/SLS.ORDER_QUANTITY),'0') + NVL((SPP.NET_SOLD_AMT_ITX/SLS.ORDER_QUANTITY),'0')\n",
    "END) AS precio_unitario,\n",
    "SLS.ORDER_QUANTITY AS,\n",
    "ROUND\n",
    "(CASE \n",
    "   WHEN NVL(SPP.NET_SOLD_CHARGE_AMT_ITX,'0')!= 0 THEN (NVL(((SPP.NET_SOLD_CHARGE_AMT_ITX/SLS.ORDER_QUANTITY)/1.19),'0')* SLS.ORDER_QUANTITY) \n",
    "   WHEN SLS.T_OPERATION_KIND  LIKE '%DELIVERY_OVERHEADS%' THEN (NVL(((SPP.NET_SOLD_AMT_ITX/SLS.ORDER_QUANTITY)/1.19),'0')* SLS.ORDER_QUANTITY)\n",
    "   WHEN  sls.product_code = ('CAN_INS') THEN (NVL(((SLS.NET_SOLD_TKT_AMT_ITX/SLS.ORDER_QUANTITY)/1.19),'0')*SLS.ORDER_QUANTITY)\n",
    "   WHEN  sls.product_code = ('CAN_INS_30') THEN (NVL(((SLS.NET_SOLD_TKT_AMT_ITX/SLS.ORDER_QUANTITY)/1.19),'0')*SLS.ORDER_QUANTITY)\n",
    "   WHEN  sls.product_code = ('CAN_INS_70') THEN (NVL(((SLS.NET_SOLD_TKT_AMT_ITX/SLS.ORDER_QUANTITY)/1.19),'0')*SLS.ORDER_QUANTITY)\n",
    "   ELSE (NVL((SPP.NET_SOLD_CHARGE_AMT_ITX/SLS.ORDER_QUANTITY),'0') + NVL((SPP.NET_SOLD_AMT_ITX/SLS.ORDER_QUANTITY),'0')*SLS.ORDER_QUANTITY)\n",
    "END ) AS Total,\n",
    "sls.file_number AS OBSERVACIONES,\n",
    "sls.t_operation_type AS Tipo_operacion\n",
    "--sls.order_number AS Pedido\n",
    "--,sls.month as month,\n",
    "--sls.year as year\n",
    "FROM d_sales_list_sales_v1_0 SLS left join D_SALES_PROD_PAYMENT_V1_0  SPP on (SLS.file_number=SPP.file_number and SLS.t_operation_id=spp.t_operation_id )\n",
    "left join D_CONTACT_LIST_V1_0 CL on SLS.T_ORDER_CONTACT_ID = CL.T_CONTACT_ID\n",
    "where --REFERENCE_DATE >= '2024-08-01'\n",
    "--FILE_NUMBER IN ('','','')\n",
    "--SUBSTR(sls.order_date,4,7) = '07.2024' AND\n",
    "--SLS.ORGANIZATION IN  \n",
    "--and \n",
    "--SLS.FILE_NUMBER IN ('11596349') and\n",
    "SLS.t_operation_kind NOT IN ('PRODUCT_COMPOSITION','CHARGES')\n",
    "AND SLS.t_operation_type NOT IN ('RESERVATION','RESERVATION_CANCEL')\n",
    "ORDER BY \n",
    "sls.file_number DESC;\n",
    "\n",
    "\n",
    "\"\"\""
   ]
  },
  {
   "cell_type": "code",
   "execution_count": null,
   "metadata": {
    "application/vnd.databricks.v1+cell": {
     "cellMetadata": {
      "byteLimit": 2048000,
      "rowLimit": 10000
     },
     "inputWidgets": {},
     "nuid": "bfeb550d-6d0f-48e5-b82e-b52c5d3edff3",
     "showTitle": true,
     "title": "Resultado query"
    }
   },
   "outputs": [
    {
     "data": {
      "text/html": [
       "<style scoped>\n",
       "  .table-result-container {\n",
       "    max-height: 300px;\n",
       "    overflow: auto;\n",
       "  }\n",
       "  table, th, td {\n",
       "    border: 1px solid black;\n",
       "    border-collapse: collapse;\n",
       "  }\n",
       "  th, td {\n",
       "    padding: 5px;\n",
       "  }\n",
       "  th {\n",
       "    text-align: left;\n",
       "  }\n",
       "</style><div class='table-result-container'><table class='table-result'><thead style='background-color: white'><tr><th>IDENTIFICACION</th><th>Tipo_identificacion</th><th>Tipo</th><th>RAZON_SOCIAL</th><th>PRIMER_NOMBRE</th><th>LASTNAME</th><th>Direccion</th><th>CODIGO_PAIS</th><th>CODIGO_ESTADO</th><th>Codigo_ciudad</th><th>Telefono_principal</th><th>ORDER_CONTACT_EMAIL</th><th>CLIENTES</th><th>ESTADO</th><th>TIPO_COMPROBANTE</th><th>Consecutivo</th><th>ORGANIZATION</th><th>VALUE_DATE</th><th>PRODUCT</th><th>Codigo_producto</th><th>Identificacion_vendedor</th><th>IDENTIFICACION_TERCERO</th><th>Codigo_impuesto</th><th>Codigo_pago</th><th>precio_unitario</th><th>AS</th><th>Total</th><th>OBSERVACIONES</th><th>Tipo_operacion</th></tr></thead><tbody><tr><td>142294970</td><td>31</td><td>Empresa</td><td>Nelson</td><td></td><td>PIÑERO</td><td>null</td><td>CO</td><td>11</td><td>11001</td><td></td><td>nelsoncfrt@gmail.com</td><td>SI</td><td>Activo</td><td>3</td><td>45550.0</td><td>Tren de la Sabana</td><td>2023-01-21T00:00:00Z</td><td>RECORRIDO ZIPAQUIRA - 2023</td><td>IRT</td><td>900569193</td><td>800181743</td><td></td><td>4</td><td>70000.0</td><td>2</td><td>140000.0</td><td>9950985</td><td>SALE</td></tr><tr><td>222222222222</td><td>43</td><td>Es persona</td><td> </td><td>Haran</td><td>VADIVOO MANIMARAN</td><td>null</td><td>CO</td><td>11</td><td>11001</td><td></td><td>vadivoomanimaran@gmail.com</td><td>SI</td><td>Activo</td><td>3</td><td>44411.0</td><td>Tren de la Sabana</td><td>2023-01-02T00:00:00Z</td><td>RECORRIDO ZIPAQUIRA - 2023</td><td>IRT</td><td>900569193</td><td>800181743</td><td></td><td>4</td><td>70000.0</td><td>5</td><td>350000.0</td><td>9773398</td><td>SALE</td></tr><tr><td>222222222222</td><td>43</td><td>Es persona</td><td> </td><td>Evan</td><td>SULLIVAN</td><td>110111 BOGOTA</td><td>Co</td><td>11</td><td>11001</td><td></td><td>null</td><td>SI</td><td>Activo</td><td>3</td><td>41324.0</td><td>Tren de la Sabana</td><td>2022-12-01T00:00:00Z</td><td>NOCHE DE NAVIDAD EN TREN</td><td>IRT</td><td>900569193</td><td>800181743</td><td></td><td>4</td><td>55000.0</td><td>3</td><td>165000.0</td><td>9430896</td><td>SALE</td></tr><tr><td>1031148055</td><td>13</td><td>Es persona</td><td> </td><td>Laura Andrea</td><td>ARROYAVE MARTÍNEZ</td><td>Carrera 28 N </td><td>Co</td><td>11</td><td>11001</td><td>3178648506</td><td>laura.arroyave08@gmail.com</td><td>SI</td><td>Activo</td><td>3</td><td>34884.0</td><td>Tuboleta.com</td><td>2024-07-26T00:00:00Z</td><td>CARGO CALLCENTER</td><td>HFEE-CALL</td><td>900569193</td><td></td><td></td><td>4</td><td>3915.0</td><td>1</td><td>3915.0</td><td>18525598</td><td>SALE</td></tr><tr><td>1031148055</td><td>13</td><td>Es persona</td><td> </td><td>Laura Andrea</td><td>ARROYAVE MARTÍNEZ</td><td>Carrera 28 N </td><td>Co</td><td>11</td><td>11001</td><td>3178648506</td><td>laura.arroyave08@gmail.com</td><td>SI</td><td>Activo</td><td>3</td><td>34884.0</td><td>Tuboleta.com</td><td>2024-07-26T00:00:00Z</td><td>BOLETA DIGITAL (PDF) - $8.000</td><td>HFEE</td><td>900569193</td><td></td><td>1</td><td>4</td><td>6580.0</td><td>1</td><td>6580.0</td><td>18525598</td><td>SALE</td></tr><tr><td>1031148055</td><td>13</td><td>Es persona</td><td> </td><td>Laura Andrea</td><td>ARROYAVE MARTÍNEZ</td><td>Carrera 28 N </td><td>Co</td><td>11</td><td>11001</td><td>3178648506</td><td>laura.arroyave08@gmail.com</td><td>SI</td><td>Activo</td><td>3</td><td>34884.0</td><td>Tren de la Sabana</td><td>2024-07-26T00:00:00Z</td><td>VIAJE EN TREN A ZIPAQUIRA 2024</td><td>IRT</td><td>900569193</td><td>800181743</td><td></td><td>4</td><td>76346.0</td><td>2</td><td>152692.0</td><td>18525598</td><td>SALE</td></tr><tr><td>1031148055</td><td>13</td><td>Es persona</td><td> </td><td>Laura Andrea</td><td>ARROYAVE MARTÍNEZ</td><td>Carrera 28 N </td><td>Co</td><td>11</td><td>11001</td><td>3178648506</td><td>laura.arroyave08@gmail.com</td><td>SI</td><td>Activo</td><td>3</td><td>34884.0</td><td>Tren de la Sabana</td><td>2024-07-26T00:00:00Z</td><td>VIAJE EN TREN A ZIPAQUIRA 2024</td><td>BFEE</td><td>900569193</td><td></td><td>1</td><td>4</td><td>4935.0</td><td>2</td><td>9870.0</td><td>18525598</td><td>SALE</td></tr><tr><td>1031148055</td><td>13</td><td>Es persona</td><td> </td><td>Laura Andrea</td><td>ARROYAVE MARTÍNEZ</td><td>Carrera 28 N </td><td>Co</td><td>11</td><td>11001</td><td>3178648506</td><td>laura.arroyave08@gmail.com</td><td>SI</td><td>Activo</td><td>3</td><td>34884.0</td><td>Tren de la Sabana</td><td>2024-07-26T00:00:00Z</td><td>CANCELACION DEL SEGURO_S_30</td><td>AS-TKF</td><td>900569193</td><td></td><td>1</td><td>4</td><td>2174.0</td><td>1</td><td>2174.0</td><td>18525598</td><td>SALE</td></tr><tr><td>1031148055</td><td>13</td><td>Es persona</td><td> </td><td>Laura Andrea</td><td>ARROYAVE MARTÍNEZ</td><td>Carrera 28 N </td><td>Co</td><td>11</td><td>11001</td><td>3178648506</td><td>laura.arroyave08@gmail.com</td><td>SI</td><td>Activo</td><td>3</td><td>34884.0</td><td>Tuboleta.com</td><td>2024-07-26T00:00:00Z</td><td>BOLETA DIGITAL (PDF) - $8.000</td><td>HFEE</td><td>900569193</td><td></td><td>1</td><td>4</td><td>143.0</td><td>1</td><td>143.0</td><td>18525598</td><td>SALE</td></tr><tr><td>1031148055</td><td>13</td><td>Es persona</td><td> </td><td>Laura Andrea</td><td>ARROYAVE MARTÍNEZ</td><td>Carrera 28 N </td><td>Co</td><td>11</td><td>11001</td><td>3178648506</td><td>laura.arroyave08@gmail.com</td><td>SI</td><td>Activo</td><td>3</td><td>34884.0</td><td>Tren de la Sabana</td><td>2024-07-26T00:00:00Z</td><td>VIAJE EN TREN A ZIPAQUIRA 2024</td><td>BFEE</td><td>900569193</td><td></td><td>1</td><td>4</td><td>107.0</td><td>2</td><td>214.0</td><td>18525598</td><td>SALE</td></tr><tr><td>1031148055</td><td>13</td><td>Es persona</td><td> </td><td>Laura Andrea</td><td>ARROYAVE MARTÍNEZ</td><td>Carrera 28 N </td><td>Co</td><td>11</td><td>11001</td><td>3178648506</td><td>laura.arroyave08@gmail.com</td><td>SI</td><td>Activo</td><td>3</td><td>34884.0</td><td>Tren de la Sabana</td><td>2024-07-26T00:00:00Z</td><td>VIAJE EN TREN A ZIPAQUIRA 2024</td><td>IRT</td><td>900569193</td><td>800181743</td><td></td><td>4</td><td>1654.0</td><td>2</td><td>3308.0</td><td>18525598</td><td>SALE</td></tr><tr><td>1031148055</td><td>13</td><td>Es persona</td><td> </td><td>Laura Andrea</td><td>ARROYAVE MARTÍNEZ</td><td>Carrera 28 N </td><td>Co</td><td>11</td><td>11001</td><td>3178648506</td><td>laura.arroyave08@gmail.com</td><td>SI</td><td>Activo</td><td>3</td><td>34884.0</td><td>Tren de la Sabana</td><td>2024-07-26T00:00:00Z</td><td>CANCELACION DEL SEGURO_S_70</td><td>AS-EL_EVENTO</td><td>900569193</td><td>901332457</td><td>1</td><td>4</td><td>5072.0</td><td>1</td><td>5072.0</td><td>18525598</td><td>SALE</td></tr><tr><td>1031148055</td><td>13</td><td>Es persona</td><td> </td><td>Laura Andrea</td><td>ARROYAVE MARTÍNEZ</td><td>Carrera 28 N </td><td>Co</td><td>11</td><td>11001</td><td>3178648506</td><td>laura.arroyave08@gmail.com</td><td>SI</td><td>Activo</td><td>3</td><td>34884.0</td><td>Tuboleta.com</td><td>2024-07-26T00:00:00Z</td><td>CARGO CALLCENTER</td><td>HFEE-CALL</td><td>900569193</td><td></td><td></td><td>4</td><td>85.0</td><td>1</td><td>85.0</td><td>18525598</td><td>SALE</td></tr></tbody></table></div>"
      ]
     },
     "metadata": {
      "application/vnd.databricks.v1+output": {
       "addedWidgets": {},
       "aggData": [],
       "aggError": "",
       "aggOverflow": false,
       "aggSchema": [],
       "aggSeriesLimitReached": false,
       "aggType": "",
       "arguments": {},
       "columnCustomDisplayInfos": {},
       "data": [
        [
         "142294970",
         "31",
         "Empresa",
         "Nelson",
         "",
         "PIÑERO",
         null,
         "CO",
         "11",
         "11001",
         "",
         "nelsoncfrt@gmail.com",
         "SI",
         "Activo",
         "3",
         45550,
         "Tren de la Sabana",
         "2023-01-21T00:00:00Z",
         "RECORRIDO ZIPAQUIRA - 2023",
         "IRT",
         "900569193",
         "800181743",
         "",
         "4",
         70000,
         "2",
         140000,
         "9950985",
         "SALE"
        ],
        [
         "222222222222",
         "43",
         "Es persona",
         " ",
         "Haran",
         "VADIVOO MANIMARAN",
         null,
         "CO",
         "11",
         "11001",
         "",
         "vadivoomanimaran@gmail.com",
         "SI",
         "Activo",
         "3",
         44411,
         "Tren de la Sabana",
         "2023-01-02T00:00:00Z",
         "RECORRIDO ZIPAQUIRA - 2023",
         "IRT",
         "900569193",
         "800181743",
         "",
         "4",
         70000,
         "5",
         350000,
         "9773398",
         "SALE"
        ],
        [
         "222222222222",
         "43",
         "Es persona",
         " ",
         "Evan",
         "SULLIVAN",
         "110111 BOGOTA",
         "Co",
         "11",
         "11001",
         "",
         null,
         "SI",
         "Activo",
         "3",
         41324,
         "Tren de la Sabana",
         "2022-12-01T00:00:00Z",
         "NOCHE DE NAVIDAD EN TREN",
         "IRT",
         "900569193",
         "800181743",
         "",
         "4",
         55000,
         "3",
         165000,
         "9430896",
         "SALE"
        ],
        [
         "1031148055",
         "13",
         "Es persona",
         " ",
         "Laura Andrea",
         "ARROYAVE MARTÍNEZ",
         "Carrera 28 N ",
         "Co",
         "11",
         "11001",
         "3178648506",
         "laura.arroyave08@gmail.com",
         "SI",
         "Activo",
         "3",
         34884,
         "Tuboleta.com",
         "2024-07-26T00:00:00Z",
         "CARGO CALLCENTER",
         "HFEE-CALL",
         "900569193",
         "",
         "",
         "4",
         3915,
         "1",
         3915,
         "18525598",
         "SALE"
        ],
        [
         "1031148055",
         "13",
         "Es persona",
         " ",
         "Laura Andrea",
         "ARROYAVE MARTÍNEZ",
         "Carrera 28 N ",
         "Co",
         "11",
         "11001",
         "3178648506",
         "laura.arroyave08@gmail.com",
         "SI",
         "Activo",
         "3",
         34884,
         "Tuboleta.com",
         "2024-07-26T00:00:00Z",
         "BOLETA DIGITAL (PDF) - $8.000",
         "HFEE",
         "900569193",
         "",
         "1",
         "4",
         6580,
         "1",
         6580,
         "18525598",
         "SALE"
        ],
        [
         "1031148055",
         "13",
         "Es persona",
         " ",
         "Laura Andrea",
         "ARROYAVE MARTÍNEZ",
         "Carrera 28 N ",
         "Co",
         "11",
         "11001",
         "3178648506",
         "laura.arroyave08@gmail.com",
         "SI",
         "Activo",
         "3",
         34884,
         "Tren de la Sabana",
         "2024-07-26T00:00:00Z",
         "VIAJE EN TREN A ZIPAQUIRA 2024",
         "IRT",
         "900569193",
         "800181743",
         "",
         "4",
         76346,
         "2",
         152692,
         "18525598",
         "SALE"
        ],
        [
         "1031148055",
         "13",
         "Es persona",
         " ",
         "Laura Andrea",
         "ARROYAVE MARTÍNEZ",
         "Carrera 28 N ",
         "Co",
         "11",
         "11001",
         "3178648506",
         "laura.arroyave08@gmail.com",
         "SI",
         "Activo",
         "3",
         34884,
         "Tren de la Sabana",
         "2024-07-26T00:00:00Z",
         "VIAJE EN TREN A ZIPAQUIRA 2024",
         "BFEE",
         "900569193",
         "",
         "1",
         "4",
         4935,
         "2",
         9870,
         "18525598",
         "SALE"
        ],
        [
         "1031148055",
         "13",
         "Es persona",
         " ",
         "Laura Andrea",
         "ARROYAVE MARTÍNEZ",
         "Carrera 28 N ",
         "Co",
         "11",
         "11001",
         "3178648506",
         "laura.arroyave08@gmail.com",
         "SI",
         "Activo",
         "3",
         34884,
         "Tren de la Sabana",
         "2024-07-26T00:00:00Z",
         "CANCELACION DEL SEGURO_S_30",
         "AS-TKF",
         "900569193",
         "",
         "1",
         "4",
         2174,
         "1",
         2174,
         "18525598",
         "SALE"
        ],
        [
         "1031148055",
         "13",
         "Es persona",
         " ",
         "Laura Andrea",
         "ARROYAVE MARTÍNEZ",
         "Carrera 28 N ",
         "Co",
         "11",
         "11001",
         "3178648506",
         "laura.arroyave08@gmail.com",
         "SI",
         "Activo",
         "3",
         34884,
         "Tuboleta.com",
         "2024-07-26T00:00:00Z",
         "BOLETA DIGITAL (PDF) - $8.000",
         "HFEE",
         "900569193",
         "",
         "1",
         "4",
         143,
         "1",
         143,
         "18525598",
         "SALE"
        ],
        [
         "1031148055",
         "13",
         "Es persona",
         " ",
         "Laura Andrea",
         "ARROYAVE MARTÍNEZ",
         "Carrera 28 N ",
         "Co",
         "11",
         "11001",
         "3178648506",
         "laura.arroyave08@gmail.com",
         "SI",
         "Activo",
         "3",
         34884,
         "Tren de la Sabana",
         "2024-07-26T00:00:00Z",
         "VIAJE EN TREN A ZIPAQUIRA 2024",
         "BFEE",
         "900569193",
         "",
         "1",
         "4",
         107,
         "2",
         214,
         "18525598",
         "SALE"
        ],
        [
         "1031148055",
         "13",
         "Es persona",
         " ",
         "Laura Andrea",
         "ARROYAVE MARTÍNEZ",
         "Carrera 28 N ",
         "Co",
         "11",
         "11001",
         "3178648506",
         "laura.arroyave08@gmail.com",
         "SI",
         "Activo",
         "3",
         34884,
         "Tren de la Sabana",
         "2024-07-26T00:00:00Z",
         "VIAJE EN TREN A ZIPAQUIRA 2024",
         "IRT",
         "900569193",
         "800181743",
         "",
         "4",
         1654,
         "2",
         3308,
         "18525598",
         "SALE"
        ],
        [
         "1031148055",
         "13",
         "Es persona",
         " ",
         "Laura Andrea",
         "ARROYAVE MARTÍNEZ",
         "Carrera 28 N ",
         "Co",
         "11",
         "11001",
         "3178648506",
         "laura.arroyave08@gmail.com",
         "SI",
         "Activo",
         "3",
         34884,
         "Tren de la Sabana",
         "2024-07-26T00:00:00Z",
         "CANCELACION DEL SEGURO_S_70",
         "AS-EL_EVENTO",
         "900569193",
         "901332457",
         "1",
         "4",
         5072,
         "1",
         5072,
         "18525598",
         "SALE"
        ],
        [
         "1031148055",
         "13",
         "Es persona",
         " ",
         "Laura Andrea",
         "ARROYAVE MARTÍNEZ",
         "Carrera 28 N ",
         "Co",
         "11",
         "11001",
         "3178648506",
         "laura.arroyave08@gmail.com",
         "SI",
         "Activo",
         "3",
         34884,
         "Tuboleta.com",
         "2024-07-26T00:00:00Z",
         "CARGO CALLCENTER",
         "HFEE-CALL",
         "900569193",
         "",
         "",
         "4",
         85,
         "1",
         85,
         "18525598",
         "SALE"
        ]
       ],
       "datasetInfos": [],
       "dbfsResultPath": null,
       "isJsonSchema": true,
       "metadata": {},
       "overflow": false,
       "plotOptions": {
        "customPlotOptions": {},
        "displayType": "table",
        "pivotAggregation": null,
        "pivotColumns": null,
        "xColumns": null,
        "yColumns": null
       },
       "removedWidgets": [],
       "schema": [
        {
         "metadata": "{}",
         "name": "IDENTIFICACION",
         "type": "\"string\""
        },
        {
         "metadata": "{}",
         "name": "Tipo_identificacion",
         "type": "\"string\""
        },
        {
         "metadata": "{}",
         "name": "Tipo",
         "type": "\"string\""
        },
        {
         "metadata": "{}",
         "name": "RAZON_SOCIAL",
         "type": "\"string\""
        },
        {
         "metadata": "{}",
         "name": "PRIMER_NOMBRE",
         "type": "\"string\""
        },
        {
         "metadata": "{}",
         "name": "LASTNAME",
         "type": "\"string\""
        },
        {
         "metadata": "{}",
         "name": "Direccion",
         "type": "\"string\""
        },
        {
         "metadata": "{}",
         "name": "CODIGO_PAIS",
         "type": "\"string\""
        },
        {
         "metadata": "{}",
         "name": "CODIGO_ESTADO",
         "type": "\"string\""
        },
        {
         "metadata": "{}",
         "name": "Codigo_ciudad",
         "type": "\"string\""
        },
        {
         "metadata": "{}",
         "name": "Telefono_principal",
         "type": "\"string\""
        },
        {
         "metadata": "{\"scale\":0}",
         "name": "ORDER_CONTACT_EMAIL",
         "type": "\"string\""
        },
        {
         "metadata": "{}",
         "name": "CLIENTES",
         "type": "\"string\""
        },
        {
         "metadata": "{}",
         "name": "ESTADO",
         "type": "\"string\""
        },
        {
         "metadata": "{}",
         "name": "TIPO_COMPROBANTE",
         "type": "\"string\""
        },
        {
         "metadata": "{}",
         "name": "Consecutivo",
         "type": "\"double\""
        },
        {
         "metadata": "{\"scale\":0}",
         "name": "ORGANIZATION",
         "type": "\"string\""
        },
        {
         "metadata": "{}",
         "name": "VALUE_DATE",
         "type": "\"timestamp\""
        },
        {
         "metadata": "{}",
         "name": "PRODUCT",
         "type": "\"string\""
        },
        {
         "metadata": "{}",
         "name": "Codigo_producto",
         "type": "\"string\""
        },
        {
         "metadata": "{}",
         "name": "Identificacion_vendedor",
         "type": "\"string\""
        },
        {
         "metadata": "{}",
         "name": "IDENTIFICACION_TERCERO",
         "type": "\"string\""
        },
        {
         "metadata": "{}",
         "name": "Codigo_impuesto",
         "type": "\"string\""
        },
        {
         "metadata": "{}",
         "name": "Codigo_pago",
         "type": "\"string\""
        },
        {
         "metadata": "{}",
         "name": "precio_unitario",
         "type": "\"double\""
        },
        {
         "metadata": "{\"scale\":0}",
         "name": "AS",
         "type": "\"string\""
        },
        {
         "metadata": "{}",
         "name": "Total",
         "type": "\"double\""
        },
        {
         "metadata": "{\"scale\":0}",
         "name": "OBSERVACIONES",
         "type": "\"string\""
        },
        {
         "metadata": "{\"scale\":0}",
         "name": "Tipo_operacion",
         "type": "\"string\""
        }
       ],
       "type": "table"
      }
     },
     "output_type": "display_data"
    }
   ],
   "source": [
    "result_df = spark.sql(query)\n",
    "#result_df.count()\n",
    "tmp = result_df.filter(col('FILE_NUMBER').isin('9950985', '9773398', '9430896','18525598') )\n",
    "display(tmp)"
   ]
  },
  {
   "cell_type": "markdown",
   "metadata": {
    "application/vnd.databricks.v1+cell": {
     "cellMetadata": {
      "byteLimit": 2048000,
      "rowLimit": 10000
     },
     "inputWidgets": {},
     "nuid": "bac9d542-755c-4ae0-bc0b-c632d200d1e2",
     "showTitle": false,
     "title": ""
    }
   },
   "source": [
    "#### Impresion"
   ]
  },
  {
   "cell_type": "code",
   "execution_count": null,
   "metadata": {
    "application/vnd.databricks.v1+cell": {
     "cellMetadata": {
      "byteLimit": 2048000,
      "rowLimit": 10000
     },
     "inputWidgets": {},
     "nuid": "62e6b86b-435e-4b90-8e1c-0ea6095e0a83",
     "showTitle": false,
     "title": ""
    }
   },
   "outputs": [
    {
     "data": {
      "text/plain": [
       "True"
      ]
     },
     "execution_count": 28,
     "metadata": {},
     "output_type": "execute_result"
    }
   ],
   "source": [
    "# Guarda el DataFrame en formato Parquet en Azure Blob Storage\n",
    "inpath = \"abfss://storagebi@tbdwhstorage01.dfs.core.windows.net/Finanzas/Facturacion_Electronica/\"\n",
    "\n",
    "write_table = result_df.coalesce(1) # coalesce indica que la tabla se va a entregar en una sola particion\n",
    "write_table.write.csv(inpath, header=True, mode=\"overwrite\", sep=';')\n",
    " \n",
    "#cambio de nombre\n",
    "files=dbutils.fs.ls(inpath)\n",
    "output_file= [x for x in files if x.name.startswith(\"part-\")]\n",
    " \n",
    "# EN la misma carpeta de origen\n",
    "dbutils.fs.mv(output_file[0].path, f\"{inpath}/Facturacion_electronica.csv\")"
   ]
  },
  {
   "cell_type": "code",
   "execution_count": null,
   "metadata": {
    "application/vnd.databricks.v1+cell": {
     "cellMetadata": {
      "byteLimit": 2048000,
      "rowLimit": 10000
     },
     "inputWidgets": {},
     "nuid": "65f39e29-5238-4872-9156-5e1c2e51d74e",
     "showTitle": false,
     "title": ""
    }
   },
   "outputs": [
    {
     "data": {
      "text/html": [
       "<style scoped>\n",
       "  .ansiout {\n",
       "    display: block;\n",
       "    unicode-bidi: embed;\n",
       "    white-space: pre-wrap;\n",
       "    word-wrap: break-word;\n",
       "    word-break: break-all;\n",
       "    font-family: \"Menlo\", \"Monaco\", \"Consolas\", \"Ubuntu Mono\", \"Source Code Pro\", monospace;\n",
       "    font-size: 13px;\n",
       "    color: #555;\n",
       "    margin-left: 4px;\n",
       "    line-height: 19px;\n",
       "  }\n",
       "</style>"
      ]
     },
     "metadata": {
      "application/vnd.databricks.v1+output": {
       "arguments": {},
       "data": "",
       "errorSummary": "Cancelled",
       "errorTraceType": "html",
       "metadata": {},
       "type": "ipynbError"
      }
     },
     "output_type": "display_data"
    }
   ],
   "source": [
    "# # Guarda el DataFrame en formato Parquet en Azure Blob Storage\n",
    "# inpath = \"abfss://storagebi@tbdwhstorage01.dfs.core.windows.net/Finanzas/Facturacion_Electronica/\"\n",
    "# # 2024_final\n",
    "# join_df_coalesced = result_df.coalesce(1)\n",
    "# #join_df_coalesced = Ds_S3_Sales_2024.coalesce(1)\n",
    "# join_df_coalesced.write.mode(\"overwrite\").parquet(inpath)\n",
    " \n",
    "# #cambio de nombre\n",
    "# files=dbutils.fs.ls(inpath)\n",
    "# output_file= [x for x in files if x.name.startswith(\"part-\")]\n",
    " \n",
    "# # En la misma carpeta de origen\n",
    "# dbutils.fs.mv(output_file[0].path, f\"{inpath}/Facturacion_electronica.parquet\")\n"
   ]
  },
  {
   "cell_type": "markdown",
   "metadata": {
    "application/vnd.databricks.v1+cell": {
     "cellMetadata": {
      "byteLimit": 2048000,
      "rowLimit": 10000
     },
     "inputWidgets": {},
     "nuid": "fd46090a-c15f-468f-848e-dddb98c6116d",
     "showTitle": false,
     "title": ""
    }
   },
   "source": [
    "#### Pruebas"
   ]
  },
  {
   "cell_type": "code",
   "execution_count": null,
   "metadata": {
    "application/vnd.databricks.v1+cell": {
     "cellMetadata": {
      "byteLimit": 2048000,
      "rowLimit": 10000
     },
     "inputWidgets": {},
     "nuid": "340eb6e8-e344-423c-bcd6-98e89f3708fd",
     "showTitle": false,
     "title": ""
    }
   },
   "outputs": [
    {
     "data": {
      "text/html": [
       "<style scoped>\n",
       "  .ansiout {\n",
       "    display: block;\n",
       "    unicode-bidi: embed;\n",
       "    white-space: pre-wrap;\n",
       "    word-wrap: break-word;\n",
       "    word-break: break-all;\n",
       "    font-family: \"Menlo\", \"Monaco\", \"Consolas\", \"Ubuntu Mono\", \"Source Code Pro\", monospace;\n",
       "    font-size: 13px;\n",
       "    color: #555;\n",
       "    margin-left: 4px;\n",
       "    line-height: 19px;\n",
       "  }\n",
       "</style>"
      ]
     },
     "metadata": {
      "application/vnd.databricks.v1+output": {
       "arguments": {},
       "data": "",
       "errorSummary": "Cancelled",
       "errorTraceType": "html",
       "metadata": {},
       "type": "ipynbError"
      }
     },
     "output_type": "display_data"
    }
   ],
   "source": [
    "# display(result_df.filter((col('year')=='2024')&(col('month')=='05')&((col('Codigo_producto')=='AS-EL_EVENTO')|(col('Codigo_producto')=='AS-TKF'))))"
   ]
  },
  {
   "cell_type": "code",
   "execution_count": null,
   "metadata": {
    "application/vnd.databricks.v1+cell": {
     "cellMetadata": {
      "byteLimit": 2048000,
      "rowLimit": 10000
     },
     "inputWidgets": {},
     "nuid": "cf5101d4-8f7d-4c27-9dc2-b0929ea77d7b",
     "showTitle": false,
     "title": ""
    }
   },
   "outputs": [
    {
     "data": {
      "text/html": [
       "<style scoped>\n",
       "  .ansiout {\n",
       "    display: block;\n",
       "    unicode-bidi: embed;\n",
       "    white-space: pre-wrap;\n",
       "    word-wrap: break-word;\n",
       "    word-break: break-all;\n",
       "    font-family: \"Menlo\", \"Monaco\", \"Consolas\", \"Ubuntu Mono\", \"Source Code Pro\", monospace;\n",
       "    font-size: 13px;\n",
       "    color: #555;\n",
       "    margin-left: 4px;\n",
       "    line-height: 19px;\n",
       "  }\n",
       "</style>"
      ]
     },
     "metadata": {
      "application/vnd.databricks.v1+output": {
       "arguments": {},
       "data": "",
       "errorSummary": "Cancelled",
       "errorTraceType": "html",
       "metadata": {},
       "type": "ipynbError"
      }
     },
     "output_type": "display_data"
    }
   ],
   "source": [
    "tmp = result_df.select('Codigo_producto').distinct()\n",
    "display(tmp)"
   ]
  },
  {
   "cell_type": "code",
   "execution_count": null,
   "metadata": {
    "application/vnd.databricks.v1+cell": {
     "cellMetadata": {
      "byteLimit": 2048000,
      "rowLimit": 10000
     },
     "inputWidgets": {},
     "nuid": "ded3b8f2-0af2-4cb1-af41-d13ea22d593c",
     "showTitle": true,
     "title": "Agruparlo por mes y año"
    }
   },
   "outputs": [
    {
     "data": {
      "text/html": [
       "<style scoped>\n",
       "  .ansiout {\n",
       "    display: block;\n",
       "    unicode-bidi: embed;\n",
       "    white-space: pre-wrap;\n",
       "    word-wrap: break-word;\n",
       "    word-break: break-all;\n",
       "    font-family: \"Menlo\", \"Monaco\", \"Consolas\", \"Ubuntu Mono\", \"Source Code Pro\", monospace;\n",
       "    font-size: 13px;\n",
       "    color: #555;\n",
       "    margin-left: 4px;\n",
       "    line-height: 19px;\n",
       "  }\n",
       "</style>"
      ]
     },
     "metadata": {
      "application/vnd.databricks.v1+output": {
       "arguments": {},
       "data": "",
       "errorSummary": "Cancelled",
       "errorTraceType": "html",
       "metadata": {},
       "type": "ipynbError"
      }
     },
     "output_type": "display_data"
    }
   ],
   "source": [
    "# from pyspark.sql.functions import col, sum as _sum, first\n",
    "\n",
    "# # Filtrar las filas según las condiciones\n",
    "# # filtered_df = sales.filter((col('product_code') == 'CAN_INS_70')|(col('product_code') == 'CAN_INS_30'))\n",
    "# filtered_df = sales.filter((col('product_code') == 'CAN_INS'))\n",
    "\n",
    "# # Realizar la suma de la columna 'value' para las filas filtradas\n",
    "# # suma = filtered_df.groupBy('T_ORGANIZ_ID','year','month').agg((_sum('NET_SOLD_TKT_AMT_ITX').alias('total_value')))\n",
    "# suma = filtered_df.groupBy('year','month').agg((_sum('NET_SOLD_TKT_AMT_ITX').alias('total_value')))\n"
   ]
  },
  {
   "cell_type": "code",
   "execution_count": null,
   "metadata": {
    "application/vnd.databricks.v1+cell": {
     "cellMetadata": {
      "byteLimit": 2048000,
      "rowLimit": 10000
     },
     "inputWidgets": {},
     "nuid": "9a106ca7-a198-460e-9c0b-a23128b698e5",
     "showTitle": false,
     "title": ""
    }
   },
   "outputs": [
    {
     "data": {
      "text/html": [
       "<style scoped>\n",
       "  .ansiout {\n",
       "    display: block;\n",
       "    unicode-bidi: embed;\n",
       "    white-space: pre-wrap;\n",
       "    word-wrap: break-word;\n",
       "    word-break: break-all;\n",
       "    font-family: \"Menlo\", \"Monaco\", \"Consolas\", \"Ubuntu Mono\", \"Source Code Pro\", monospace;\n",
       "    font-size: 13px;\n",
       "    color: #555;\n",
       "    margin-left: 4px;\n",
       "    line-height: 19px;\n",
       "  }\n",
       "</style>"
      ]
     },
     "metadata": {
      "application/vnd.databricks.v1+output": {
       "arguments": {},
       "data": "",
       "errorSummary": "Cancelled",
       "errorTraceType": "html",
       "metadata": {},
       "type": "ipynbError"
      }
     },
     "output_type": "display_data"
    }
   ],
   "source": [
    "#display(suma)"
   ]
  },
  {
   "cell_type": "markdown",
   "metadata": {
    "application/vnd.databricks.v1+cell": {
     "cellMetadata": {},
     "inputWidgets": {},
     "nuid": "e61d1c63-2e26-49ba-9489-c8d154c00172",
     "showTitle": false,
     "title": ""
    }
   },
   "source": [
    "### Prueba de envio de correo"
   ]
  },
  {
   "cell_type": "code",
   "execution_count": null,
   "metadata": {
    "application/vnd.databricks.v1+cell": {
     "cellMetadata": {
      "byteLimit": 2048000,
      "rowLimit": 10000
     },
     "inputWidgets": {},
     "nuid": "0c04859a-9bed-4051-ac41-28e1e3acf247",
     "showTitle": false,
     "title": ""
    }
   },
   "outputs": [
    {
     "name": "stdout",
     "output_type": "stream",
     "text": [
      "\u001b[43mNote: you may need to restart the kernel using dbutils.library.restartPython() to use updated packages.\u001b[0m\n",
      "Collecting yagmail\n",
      "  Using cached yagmail-0.15.293-py2.py3-none-any.whl (17 kB)\n",
      "Collecting premailer\n",
      "  Using cached premailer-3.10.0-py2.py3-none-any.whl (19 kB)\n",
      "Collecting cssutils\n",
      "  Using cached cssutils-2.11.1-py3-none-any.whl (385 kB)\n",
      "Requirement already satisfied: requests in /databricks/python3/lib/python3.10/site-packages (from premailer->yagmail) (2.28.1)\n",
      "Collecting cachetools\n",
      "  Using cached cachetools-5.4.0-py3-none-any.whl (9.5 kB)\n",
      "Collecting lxml\n",
      "  Using cached lxml-5.2.2-cp310-cp310-manylinux_2_28_x86_64.whl (5.0 MB)\n",
      "Collecting cssselect\n",
      "  Using cached cssselect-1.2.0-py2.py3-none-any.whl (18 kB)\n",
      "Requirement already satisfied: more-itertools in /usr/lib/python3/dist-packages (from cssutils->premailer->yagmail) (8.10.0)\n",
      "Requirement already satisfied: certifi>=2017.4.17 in /databricks/python3/lib/python3.10/site-packages (from requests->premailer->yagmail) (2022.9.14)\n",
      "Requirement already satisfied: charset-normalizer<3,>=2 in /databricks/python3/lib/python3.10/site-packages (from requests->premailer->yagmail) (2.0.4)\n",
      "Requirement already satisfied: idna<4,>=2.5 in /databricks/python3/lib/python3.10/site-packages (from requests->premailer->yagmail) (3.3)\n",
      "Requirement already satisfied: urllib3<1.27,>=1.21.1 in /databricks/python3/lib/python3.10/site-packages (from requests->premailer->yagmail) (1.26.11)\n",
      "Installing collected packages: lxml, cssutils, cssselect, cachetools, premailer, yagmail\n",
      "Successfully installed cachetools-5.4.0 cssselect-1.2.0 cssutils-2.11.1 lxml-5.2.2 premailer-3.10.0 yagmail-0.15.293\n",
      "\u001b[43mNote: you may need to restart the kernel using dbutils.library.restartPython() to use updated packages.\u001b[0m\n"
     ]
    }
   ],
   "source": [
    "%pip install yagmail"
   ]
  },
  {
   "cell_type": "code",
   "execution_count": null,
   "metadata": {
    "application/vnd.databricks.v1+cell": {
     "cellMetadata": {
      "byteLimit": 2048000,
      "rowLimit": 10000
     },
     "inputWidgets": {},
     "nuid": "5d94e412-2b48-4267-9a3a-b7ebd71ce32b",
     "showTitle": false,
     "title": ""
    }
   },
   "outputs": [
    {
     "name": "stdout",
     "output_type": "stream",
     "text": [
      "Error al enviar el correo: (552, b\"5.3.4 Your message exceeded Google's message size limits. To view our\\n5.3.4 message size guidelines, go to\\n5.3.4  https://support.google.com/mail/?p=MaxSizeError 5614622812f47-3db41805cfasm891296b6e.29 - gsmtp\", 'tenchukev@gmail.com')\n"
     ]
    }
   ],
   "source": [
    "# import yagmail\n",
    "# import os\n",
    "# import tempfile\n",
    "# from pyspark.sql import SparkSession\n",
    "\n",
    "# # Inicializar Spark Session\n",
    "# spark = SparkSession.builder.appName(\"EmailCSV\").getOrCreate()\n",
    "\n",
    "# # Configuración del correo\n",
    "# sender_email = 'tenchukev@gmail.com'\n",
    "# recipient_email = 'kevin.serrano@tuboleta.com'\n",
    "# app_password = \n",
    "\n",
    "# # Asumiendo que ya tienes un DataFrame llamado result_df\n",
    "# # Si no lo tienes, crea uno de ejemplo:\n",
    "# #result_df = spark.createDataFrame([(1, \"A\"), (2, \"B\"), (3, \"C\")], [\"id\", \"value\"])\n",
    "\n",
    "# # Convertir a Pandas DataFrame y escribir a CSV\n",
    "# temp_file = tempfile.NamedTemporaryFile(delete=False, suffix='.csv')\n",
    "# temp_file_path = temp_file.name\n",
    "# result_df.toPandas().to_csv(temp_file_path, index=False)\n",
    "# temp_file.close()\n",
    "\n",
    "# # Inicializar yagmail SMTP\n",
    "# yag = yagmail.SMTP(sender_email, app_password)\n",
    "\n",
    "# # Contenido del correo\n",
    "# subject = 'Reporte generado desde Databricks'\n",
    "# body = 'Este es el cuerpo del mensaje. El archivo CSV adjunto contiene los datos generados.'\n",
    "\n",
    "# # Enviar el correo\n",
    "# try:\n",
    "#     yag.send(\n",
    "#         to=recipient_email,\n",
    "#         subject=subject,\n",
    "#         contents=body,\n",
    "#         attachments=temp_file_path\n",
    "#     )\n",
    "#     print(\"Correo enviado exitosamente\")\n",
    "# except Exception as e:\n",
    "#     print(f\"Error al enviar el correo: {e}\")\n",
    "\n",
    "# # Cerrar la conexión SMTP\n",
    "# yag.close()\n",
    "\n",
    "# # Eliminar el archivo CSV temporal\n",
    "# os.remove(temp_file_path)"
   ]
  },
  {
   "cell_type": "code",
   "execution_count": null,
   "metadata": {
    "application/vnd.databricks.v1+cell": {
     "cellMetadata": {
      "byteLimit": 2048000,
      "rowLimit": 10000
     },
     "inputWidgets": {},
     "nuid": "5f8a760a-35d1-487b-afcc-1c86074a240c",
     "showTitle": false,
     "title": ""
    }
   },
   "outputs": [
    {
     "data": {
      "text/plain": [
       "159235"
      ]
     },
     "execution_count": 24,
     "metadata": {},
     "output_type": "execute_result"
    }
   ],
   "source": [
    "result_df.count()"
   ]
  }
 ],
 "metadata": {
  "application/vnd.databricks.v1+notebook": {
   "dashboards": [],
   "environmentMetadata": null,
   "language": "python",
   "notebookMetadata": {
    "pythonIndentUnit": 4
   },
   "notebookName": "Facturación electronica - Seguro asistencia",
   "widgets": {}
  },
  "language_info": {
   "name": "python"
  }
 },
 "nbformat": 4,
 "nbformat_minor": 0
}
