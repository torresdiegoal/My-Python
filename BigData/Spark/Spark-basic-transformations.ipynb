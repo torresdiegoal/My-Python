{
 "cells": [
  {
   "cell_type": "code",
   "execution_count": 1,
   "id": "a13c771c",
   "metadata": {},
   "outputs": [],
   "source": [
    "#Importing the packages\n",
    "from pyspark.sql import SparkSession\n",
    "from pyspark.sql.types import StructType, StructField, IntegerType, StringType\n",
    "import pyspark.sql.functions as func"
   ]
  },
  {
   "cell_type": "code",
   "execution_count": 2,
   "id": "0b1dc584",
   "metadata": {},
   "outputs": [],
   "source": [
    "#Creating the SparkSession\n",
    "spark = SparkSession.builder.appName(\"FirstApp\").getOrCreate()"
   ]
  },
  {
   "cell_type": "code",
   "execution_count": 3,
   "id": "9fd551ec",
   "metadata": {},
   "outputs": [],
   "source": [
    "#Defining schema for your DataFrame\n",
    "myschema = StructType([\\\n",
    "                       StructField(\"userID\", IntegerType(), True),\n",
    "                       StructField(\"name\", StringType(), True),\n",
    "                       StructField(\"age\",IntegerType(), True),\n",
    "                       StructField(\"friends\",IntegerType(), True),\n",
    "                        ])"
   ]
  },
  {
   "cell_type": "markdown",
   "id": "f4b3fb02",
   "metadata": {},
   "source": [
    "![Spark Data types](Spark_datatypes.png)"
   ]
  },
  {
   "cell_type": "code",
   "execution_count": 4,
   "id": "912ecbee",
   "metadata": {},
   "outputs": [],
   "source": [
    "#Creating DataFrame on a CSV file\n",
    "people = spark.read.format(\"csv\")\\\n",
    "    .schema(myschema)\\\n",
    "    .option(\"path\",\"fakefriends.csv\")\\\n",
    "    .load()"
   ]
  },
  {
   "cell_type": "code",
   "execution_count": 5,
   "id": "5b0aadba",
   "metadata": {},
   "outputs": [],
   "source": [
    "#Performing all thetransformations\n",
    "output = people.select(people.userID,people.name\\\n",
    "                       ,people.age,people.friends)\\\n",
    "         .where(people.age < 30).withColumn('insert_ts', func.current_timestamp())\\\n",
    "         .orderBy(people.userID)"
   ]
  },
  {
   "cell_type": "code",
   "execution_count": 6,
   "id": "63b6e2d5",
   "metadata": {},
   "outputs": [
    {
     "data": {
      "text/plain": [
       "112"
      ]
     },
     "execution_count": 6,
     "metadata": {},
     "output_type": "execute_result"
    }
   ],
   "source": [
    "#taking the count of o/p DataFrame\n",
    "output.count()"
   ]
  },
  {
   "cell_type": "code",
   "execution_count": 7,
   "id": "c8756adf",
   "metadata": {},
   "outputs": [],
   "source": [
    "#Creating a Temp View\n",
    "output.createOrReplaceTempView(\"peoples\")"
   ]
  },
  {
   "cell_type": "code",
   "execution_count": 8,
   "id": "e8e32b91",
   "metadata": {},
   "outputs": [
    {
     "name": "stdout",
     "output_type": "stream",
     "text": [
      "+--------+---+-------+--------------------+\n",
      "|    name|age|friends|           insert_ts|\n",
      "+--------+---+-------+--------------------+\n",
      "|Jean-Luc| 26|      2|2023-08-04 12:06:...|\n",
      "|    Hugh| 27|    181|2023-08-04 12:06:...|\n",
      "|  Weyoun| 22|    323|2023-08-04 12:06:...|\n",
      "|   Miles| 19|    268|2023-08-04 12:06:...|\n",
      "|  Julian| 25|      1|2023-08-04 12:06:...|\n",
      "|     Ben| 21|    445|2023-08-04 12:06:...|\n",
      "|  Julian| 22|    100|2023-08-04 12:06:...|\n",
      "|     Nog| 26|    281|2023-08-04 12:06:...|\n",
      "| Beverly| 27|    305|2023-08-04 12:06:...|\n",
      "|    Morn| 25|     96|2023-08-04 12:06:...|\n",
      "|   Brunt| 24|     49|2023-08-04 12:06:...|\n",
      "|     Nog| 20|      1|2023-08-04 12:06:...|\n",
      "| Beverly| 19|    269|2023-08-04 12:06:...|\n",
      "|   Brunt| 19|      5|2023-08-04 12:06:...|\n",
      "|  Geordi| 20|    100|2023-08-04 12:06:...|\n",
      "|  Geordi| 21|    477|2023-08-04 12:06:...|\n",
      "|  Kasidy| 22|    179|2023-08-04 12:06:...|\n",
      "|   Brunt| 20|    384|2023-08-04 12:06:...|\n",
      "|     Ben| 28|    311|2023-08-04 12:06:...|\n",
      "|    Worf| 24|    492|2023-08-04 12:06:...|\n",
      "+--------+---+-------+--------------------+\n",
      "only showing top 20 rows\n",
      "\n"
     ]
    }
   ],
   "source": [
    "#Running a simple Spark SQL query\n",
    "spark.sql(\"select name,age,friends,insert_ts from peoples\").show()"
   ]
  }
 ],
 "metadata": {
  "kernelspec": {
   "display_name": "Python 3 (ipykernel)",
   "language": "python",
   "name": "python3"
  },
  "language_info": {
   "codemirror_mode": {
    "name": "ipython",
    "version": 3
   },
   "file_extension": ".py",
   "mimetype": "text/x-python",
   "name": "python",
   "nbconvert_exporter": "python",
   "pygments_lexer": "ipython3",
   "version": "3.11.4"
  }
 },
 "nbformat": 4,
 "nbformat_minor": 5
}
