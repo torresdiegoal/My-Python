{
 "cells": [
  {
   "cell_type": "code",
   "execution_count": null,
   "metadata": {
    "application/vnd.databricks.v1+cell": {
     "cellMetadata": {
      "byteLimit": 2048000,
      "rowLimit": 10000
     },
     "inputWidgets": {},
     "nuid": "ea11f4e5-d430-4395-a6ff-952e00a424bf",
     "showTitle": false,
     "title": ""
    }
   },
   "outputs": [],
   "source": [
    "# Importar las bibliotecas necesarias\n",
    "from pyspark.sql import SparkSession\n",
    "from pyspark.sql.functions import col,count,desc,sum,to_date,date_format,concat_ws,format_string,to_timestamp,year,when,lit,month#,reduce\n",
    "from functools import reduce\n",
    "from pyspark.sql import Window\n",
    "import pandas as pd\n",
    "\n",
    "# Crear una SparkSession\n",
    "spark = SparkSession.builder.appName(\"AzureSQL\").getOrCreate()\n",
    "\n",
    "## Credenciales BD\n",
    "inpath = \"C:/Users/diego.torres/OneDrive/Datasets/Tuboleta/Credenciales.txt\"\n",
    "keys = pd.read_csv(inpath, sep = ',')\n",
    "display(keys)\n",
    "\n",
    "\n",
    "# Creo variables para cada fila del DataFrame que contiene las credenciales de la bd\n",
    "for index, row in keys.iterrows():\n",
    "    variable_name = row['key']\n",
    "    variable_value = row['value']\n",
    "    globals()[variable_name] = variable_value\n",
    "\n",
    "# Configurar las propiedades de la conexión\n",
    "jdbc_url = f\"jdbc:sqlserver://{jdbc_hostname}:1433;database={jdbc_database_datamart}\"\n",
    "jdbc_properties = {\n",
    "    \"user\": user,\n",
    "    \"password\": password,\n",
    "    \"driver\": driver\n",
    "}\n",
    "\n",
    "# Conexion al Blob\n",
    "spark.conf.set(clave_blob, access_key_blob)"
   ]
  },
  {
   "cell_type": "code",
   "execution_count": null,
   "metadata": {
    "application/vnd.databricks.v1+cell": {
     "cellMetadata": {
      "byteLimit": 2048000,
      "rowLimit": 10000
     },
     "inputWidgets": {},
     "nuid": "b5a35cb1-8d69-4bc8-936c-59655de1c578",
     "showTitle": false,
     "title": ""
    }
   },
   "outputs": [
    {
     "data": {
      "text/html": [
       "<style scoped>\n",
       "  .table-result-container {\n",
       "    max-height: 300px;\n",
       "    overflow: auto;\n",
       "  }\n",
       "  table, th, td {\n",
       "    border: 1px solid black;\n",
       "    border-collapse: collapse;\n",
       "  }\n",
       "  th, td {\n",
       "    padding: 5px;\n",
       "  }\n",
       "  th {\n",
       "    text-align: left;\n",
       "  }\n",
       "</style><div class='table-result-container'><table class='table-result'><thead style='background-color: white'><tr><th>Key_evento_</th><th>PRODUCT_FAMILY</th><th>Nuevo_aforo</th></tr></thead><tbody><tr><td>101403083159|101403135400|GENERAL</td><td>Evento</td><td>200000.0</td></tr><tr><td>101412774479|101412662473|GENERAL</td><td>Evento</td><td>200000.0</td></tr><tr><td>101412774479|101412662472|GENERAL</td><td>Evento</td><td>200000.0</td></tr><tr><td>101403083148|101403135388|GENERAL</td><td>Evento</td><td>200000.0</td></tr><tr><td>101403083157|101403135394|GENERAL</td><td>Evento</td><td>200000.0</td></tr></tbody></table></div>"
      ]
     },
     "metadata": {
      "application/vnd.databricks.v1+output": {
       "addedWidgets": {},
       "aggData": [],
       "aggError": "",
       "aggOverflow": false,
       "aggSchema": [],
       "aggSeriesLimitReached": false,
       "aggType": "",
       "arguments": {},
       "columnCustomDisplayInfos": {},
       "data": [
        [
         "101403083159|101403135400|GENERAL",
         "Evento",
         200000
        ],
        [
         "101412774479|101412662473|GENERAL",
         "Evento",
         200000
        ],
        [
         "101412774479|101412662472|GENERAL",
         "Evento",
         200000
        ],
        [
         "101403083148|101403135388|GENERAL",
         "Evento",
         200000
        ],
        [
         "101403083157|101403135394|GENERAL",
         "Evento",
         200000
        ]
       ],
       "datasetInfos": [],
       "dbfsResultPath": null,
       "isJsonSchema": true,
       "metadata": {},
       "overflow": false,
       "plotOptions": {
        "customPlotOptions": {},
        "displayType": "table",
        "pivotAggregation": null,
        "pivotColumns": null,
        "xColumns": null,
        "yColumns": null
       },
       "removedWidgets": [],
       "schema": [
        {
         "metadata": "{}",
         "name": "Key_evento_",
         "type": "\"string\""
        },
        {
         "metadata": "{}",
         "name": "PRODUCT_FAMILY",
         "type": "\"string\""
        },
        {
         "metadata": "{}",
         "name": "Nuevo_aforo",
         "type": "\"double\""
        }
       ],
       "type": "table"
      }
     },
     "output_type": "display_data"
    }
   ],
   "source": [
    "# CONFIGURATION\n",
    "inpath = 'abfss://storagebi@tbdwhstorage01.dfs.core.windows.net/silver/Configuration/Ds_S_Configuration.parquet'\n",
    "config = spark.read.parquet(inpath)\n",
    "\n",
    "# FOLLWUP\n",
    "inpath = \"abfss://storagebi@tbdwhstorage01.dfs.core.windows.net/silver/Follwup/Ds_S_Follwup.parquet\"\n",
    "follwup = spark.read.parquet(inpath)\n",
    "display(follwup.limit(5))"
   ]
  },
  {
   "cell_type": "code",
   "execution_count": null,
   "metadata": {
    "application/vnd.databricks.v1+cell": {
     "cellMetadata": {
      "byteLimit": 2048000,
      "rowLimit": 10000
     },
     "inputWidgets": {},
     "nuid": "0cb0351d-7c2d-441b-832d-b5900fd34483",
     "showTitle": false,
     "title": ""
    }
   },
   "outputs": [],
   "source": [
    "# USO DE UN LIKE EN SIMULTANEO PARA FILTRAR VARIOS EVENTOS \n",
    "eventos = ['10229674770319', '10229674777288', '10229674777289', '10229674777287']\n",
    "\n",
    "config = config.filter(col('T_PRODUCT_ID').isin(eventos))\n",
    "\n",
    "# Crear la condición de filtro usando like y or\n",
    "#condiciones = [col(\"Key_evento_\").like(f\"%{valor}%\") for valor in eventos] contains\n",
    "condiciones = [col(\"Key_evento_\").contains(valor) for valor in eventos] \n",
    "\n",
    "# Aplicar el filtro\n",
    "follwup = follwup.filter(reduce(lambda x, y: x | y, condiciones))\n",
    "\n",
    "#tmp = follwup.select('Key_evento_').distinct()\n",
    "#display(tmp.limit(200))"
   ]
  },
  {
   "cell_type": "code",
   "execution_count": null,
   "metadata": {
    "application/vnd.databricks.v1+cell": {
     "cellMetadata": {
      "byteLimit": 2048000,
      "rowLimit": 10000
     },
     "inputWidgets": {},
     "nuid": "c0c0c367-ebd5-4502-a739-d594d80ea886",
     "showTitle": false,
     "title": ""
    }
   },
   "outputs": [
    {
     "data": {
      "text/plain": [
       "True"
      ]
     },
     "execution_count": 21,
     "metadata": {},
     "output_type": "execute_result"
    }
   ],
   "source": [
    "# Guarda el DataFrame en formato Parquet en Azure Blob Storage\n",
    "inpath = \"abfss://storagebi@tbdwhstorage01.dfs.core.windows.net/Hot_Sale_Maestro/silver/Configuration/\"\n",
    "# 2024_final\n",
    "join_df_coalesced = config.coalesce(1)\n",
    "#join_df_coalesced = Ds_S3_Sales_2024.coalesce(1)\n",
    "join_df_coalesced.write.mode(\"overwrite\").parquet(inpath)\n",
    "\n",
    "#cambio de nombre\n",
    "files=dbutils.fs.ls(inpath)\n",
    "output_file= [x for x in files if x.name.startswith(\"part-\")]\n",
    "\n",
    "# En la misma carpeta de origen\n",
    "dbutils.fs.mv(output_file[0].path, f\"{inpath}/Ds_S_Configuration.parquet\")"
   ]
  },
  {
   "cell_type": "code",
   "execution_count": null,
   "metadata": {
    "application/vnd.databricks.v1+cell": {
     "cellMetadata": {
      "byteLimit": 2048000,
      "rowLimit": 10000
     },
     "inputWidgets": {},
     "nuid": "a893572c-b414-4777-87b0-f10928fe826b",
     "showTitle": false,
     "title": ""
    }
   },
   "outputs": [
    {
     "data": {
      "text/plain": [
       "True"
      ]
     },
     "execution_count": 22,
     "metadata": {},
     "output_type": "execute_result"
    }
   ],
   "source": [
    "# Guarda el DataFrame en formato Parquet en Azure Blob Storage\n",
    "inpath = \"abfss://storagebi@tbdwhstorage01.dfs.core.windows.net/Hot_Sale_Maestro/silver/Follwup/\"\n",
    "# 2024_final\n",
    "join_df_coalesced = follwup.coalesce(1)\n",
    "#join_df_coalesced = Ds_S3_Sales_2024.coalesce(1)\n",
    "join_df_coalesced.write.mode(\"overwrite\").parquet(inpath)\n",
    "\n",
    "#cambio de nombre\n",
    "files=dbutils.fs.ls(inpath)\n",
    "output_file= [x for x in files if x.name.startswith(\"part-\")]\n",
    "\n",
    "# En la misma carpeta de origen\n",
    "dbutils.fs.mv(output_file[0].path, f\"{inpath}/Ds_S_follwup.parquet\")"
   ]
  }
 ],
 "metadata": {
  "application/vnd.databricks.v1+notebook": {
   "dashboards": [],
   "environmentMetadata": null,
   "language": "python",
   "notebookMetadata": {
    "pythonIndentUnit": 4
   },
   "notebookName": "Follwup_&_Config_Hotshow",
   "widgets": {}
  },
  "language_info": {
   "name": "python"
  }
 },
 "nbformat": 4,
 "nbformat_minor": 0
}
