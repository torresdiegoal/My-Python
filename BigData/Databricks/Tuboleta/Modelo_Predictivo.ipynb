{
 "cells": [
  {
   "cell_type": "markdown",
   "metadata": {
    "application/vnd.databricks.v1+cell": {
     "cellMetadata": {},
     "inputWidgets": {},
     "nuid": "cb7cc19d-9d17-4b37-9c97-ea4cb218db95",
     "showTitle": false,
     "title": ""
    }
   },
   "source": [
    "## Setup inicial"
   ]
  },
  {
   "cell_type": "code",
   "execution_count": null,
   "metadata": {
    "application/vnd.databricks.v1+cell": {
     "cellMetadata": {
      "byteLimit": 2048000,
      "rowLimit": 10000
     },
     "inputWidgets": {},
     "nuid": "3b12e449-a54e-42b2-acbe-40d83e9c7b89",
     "showTitle": true,
     "title": "Paquetes"
    }
   },
   "outputs": [
    {
     "name": "stdout",
     "output_type": "stream",
     "text": [
      "Python interpreter will be restarted.\n",
      "Collecting fsspec\n",
      "  Downloading fsspec-2024.3.1-py3-none-any.whl (171 kB)\n",
      "Installing collected packages: fsspec\n",
      "Successfully installed fsspec-2024.3.1\n",
      "Python interpreter will be restarted.\n",
      "Python interpreter will be restarted.\n",
      "Collecting keras\n",
      "  Downloading keras-3.3.3-py3-none-any.whl (1.1 MB)\n",
      "Requirement already satisfied: numpy in /databricks/python3/lib/python3.9/site-packages (from keras) (1.21.5)\n",
      "Collecting namex\n",
      "  Downloading namex-0.0.8-py3-none-any.whl (5.8 kB)\n",
      "Collecting absl-py\n",
      "  Downloading absl_py-2.1.0-py3-none-any.whl (133 kB)\n",
      "Collecting ml-dtypes\n",
      "  Downloading ml_dtypes-0.4.0-cp39-cp39-manylinux_2_17_x86_64.manylinux2014_x86_64.whl (2.2 MB)\n",
      "Collecting h5py\n",
      "  Downloading h5py-3.11.0-cp39-cp39-manylinux_2_17_x86_64.manylinux2014_x86_64.whl (5.3 MB)\n",
      "Collecting optree\n",
      "  Downloading optree-0.11.0-cp39-cp39-manylinux_2_17_x86_64.manylinux2014_x86_64.whl (311 kB)\n",
      "Collecting rich\n",
      "  Downloading rich-13.7.1-py3-none-any.whl (240 kB)\n",
      "Requirement already satisfied: typing-extensions>=4.0.0 in /databricks/python3/lib/python3.9/site-packages (from optree->keras) (4.1.1)\n",
      "Collecting pygments<3.0.0,>=2.13.0\n",
      "  Downloading pygments-2.18.0-py3-none-any.whl (1.2 MB)\n",
      "Collecting markdown-it-py>=2.2.0\n",
      "  Downloading markdown_it_py-3.0.0-py3-none-any.whl (87 kB)\n",
      "Collecting mdurl~=0.1\n",
      "  Downloading mdurl-0.1.2-py3-none-any.whl (10.0 kB)\n",
      "Installing collected packages: mdurl, pygments, markdown-it-py, rich, optree, namex, ml-dtypes, h5py, absl-py, keras\n",
      "  Attempting uninstall: pygments\n",
      "    Found existing installation: Pygments 2.11.2\n",
      "    Not uninstalling pygments at /databricks/python3/lib/python3.9/site-packages, outside environment /local_disk0/.ephemeral_nfs/envs/pythonEnv-024ffbf4-e67e-4063-a720-5ad4c438354f\n",
      "    Can't uninstall 'Pygments'. No files were found to uninstall.\n",
      "Successfully installed absl-py-2.1.0 h5py-3.11.0 keras-3.3.3 markdown-it-py-3.0.0 mdurl-0.1.2 ml-dtypes-0.4.0 namex-0.0.8 optree-0.11.0 pygments-2.18.0 rich-13.7.1\n",
      "Python interpreter will be restarted.\n",
      "Python interpreter will be restarted.\n",
      "Collecting tensorflow\n",
      "  Downloading tensorflow-2.16.1-cp39-cp39-manylinux_2_17_x86_64.manylinux2014_x86_64.whl (589.8 MB)\n",
      "Collecting gast!=0.5.0,!=0.5.1,!=0.5.2,>=0.2.1\n",
      "  Downloading gast-0.5.4-py3-none-any.whl (19 kB)\n",
      "Collecting termcolor>=1.1.0\n",
      "  Downloading termcolor-2.4.0-py3-none-any.whl (7.7 kB)\n",
      "Requirement already satisfied: setuptools in /databricks/python3/lib/python3.9/site-packages (from tensorflow) (61.2.0)\n",
      "Requirement already satisfied: h5py>=3.10.0 in /local_disk0/.ephemeral_nfs/envs/pythonEnv-024ffbf4-e67e-4063-a720-5ad4c438354f/lib/python3.9/site-packages (from tensorflow) (3.11.0)\n",
      "Requirement already satisfied: packaging in /databricks/python3/lib/python3.9/site-packages (from tensorflow) (21.3)\n",
      "Collecting tensorboard<2.17,>=2.16\n",
      "  Downloading tensorboard-2.16.2-py3-none-any.whl (5.5 MB)\n",
      "Collecting flatbuffers>=23.5.26\n",
      "  Downloading flatbuffers-24.3.25-py2.py3-none-any.whl (26 kB)\n",
      "Collecting astunparse>=1.6.0\n",
      "  Downloading astunparse-1.6.3-py2.py3-none-any.whl (12 kB)\n",
      "Collecting grpcio<2.0,>=1.24.3\n",
      "  Downloading grpcio-1.63.0-cp39-cp39-manylinux_2_17_x86_64.manylinux2014_x86_64.whl (5.6 MB)\n",
      "Collecting google-pasta>=0.1.1\n",
      "  Downloading google_pasta-0.2.0-py3-none-any.whl (57 kB)\n",
      "Collecting numpy<2.0.0,>=1.23.5\n",
      "  Downloading numpy-1.26.4-cp39-cp39-manylinux_2_17_x86_64.manylinux2014_x86_64.whl (18.2 MB)\n",
      "Collecting ml-dtypes~=0.3.1\n",
      "  Downloading ml_dtypes-0.3.2-cp39-cp39-manylinux_2_17_x86_64.manylinux2014_x86_64.whl (2.2 MB)\n",
      "Collecting protobuf!=4.21.0,!=4.21.1,!=4.21.2,!=4.21.3,!=4.21.4,!=4.21.5,<5.0.0dev,>=3.20.3\n",
      "  Downloading protobuf-4.25.3-cp37-abi3-manylinux2014_x86_64.whl (294 kB)\n",
      "Requirement already satisfied: requests<3,>=2.21.0 in /databricks/python3/lib/python3.9/site-packages (from tensorflow) (2.27.1)\n",
      "Collecting opt-einsum>=2.3.2\n",
      "  Downloading opt_einsum-3.3.0-py3-none-any.whl (65 kB)\n",
      "Requirement already satisfied: six>=1.12.0 in /databricks/python3/lib/python3.9/site-packages (from tensorflow) (1.16.0)\n",
      "Collecting tensorflow-io-gcs-filesystem>=0.23.1\n",
      "  Downloading tensorflow_io_gcs_filesystem-0.37.0-cp39-cp39-manylinux_2_17_x86_64.manylinux2014_x86_64.whl (5.1 MB)\n",
      "Collecting libclang>=13.0.0\n",
      "  Downloading libclang-18.1.1-py2.py3-none-manylinux2010_x86_64.whl (24.5 MB)\n",
      "Requirement already satisfied: absl-py>=1.0.0 in /local_disk0/.ephemeral_nfs/envs/pythonEnv-024ffbf4-e67e-4063-a720-5ad4c438354f/lib/python3.9/site-packages (from tensorflow) (2.1.0)\n",
      "Collecting wrapt>=1.11.0\n",
      "  Downloading wrapt-1.16.0-cp39-cp39-manylinux_2_5_x86_64.manylinux1_x86_64.manylinux_2_17_x86_64.manylinux2014_x86_64.whl (80 kB)\n",
      "Requirement already satisfied: typing-extensions>=3.6.6 in /databricks/python3/lib/python3.9/site-packages (from tensorflow) (4.1.1)\n",
      "Requirement already satisfied: keras>=3.0.0 in /local_disk0/.ephemeral_nfs/envs/pythonEnv-024ffbf4-e67e-4063-a720-5ad4c438354f/lib/python3.9/site-packages (from tensorflow) (3.3.3)\n",
      "Requirement already satisfied: wheel<1.0,>=0.23.0 in /databricks/python3/lib/python3.9/site-packages (from astunparse>=1.6.0->tensorflow) (0.37.0)\n",
      "Requirement already satisfied: namex in /local_disk0/.ephemeral_nfs/envs/pythonEnv-024ffbf4-e67e-4063-a720-5ad4c438354f/lib/python3.9/site-packages (from keras>=3.0.0->tensorflow) (0.0.8)\n",
      "Requirement already satisfied: optree in /local_disk0/.ephemeral_nfs/envs/pythonEnv-024ffbf4-e67e-4063-a720-5ad4c438354f/lib/python3.9/site-packages (from keras>=3.0.0->tensorflow) (0.11.0)\n",
      "Requirement already satisfied: rich in /local_disk0/.ephemeral_nfs/envs/pythonEnv-024ffbf4-e67e-4063-a720-5ad4c438354f/lib/python3.9/site-packages (from keras>=3.0.0->tensorflow) (13.7.1)\n",
      "Requirement already satisfied: idna<4,>=2.5 in /databricks/python3/lib/python3.9/site-packages (from requests<3,>=2.21.0->tensorflow) (3.3)\n",
      "Requirement already satisfied: charset-normalizer~=2.0.0 in /databricks/python3/lib/python3.9/site-packages (from requests<3,>=2.21.0->tensorflow) (2.0.4)\n",
      "Requirement already satisfied: urllib3<1.27,>=1.21.1 in /databricks/python3/lib/python3.9/site-packages (from requests<3,>=2.21.0->tensorflow) (1.26.9)\n",
      "Requirement already satisfied: certifi>=2017.4.17 in /databricks/python3/lib/python3.9/site-packages (from requests<3,>=2.21.0->tensorflow) (2021.10.8)\n",
      "Collecting tensorboard-data-server<0.8.0,>=0.7.0\n",
      "  Downloading tensorboard_data_server-0.7.2-py3-none-manylinux_2_31_x86_64.whl (6.6 MB)\n",
      "Collecting markdown>=2.6.8\n",
      "  Downloading Markdown-3.6-py3-none-any.whl (105 kB)\n",
      "Collecting werkzeug>=1.0.1\n",
      "  Downloading werkzeug-3.0.3-py3-none-any.whl (227 kB)\n",
      "Collecting importlib-metadata>=4.4\n",
      "  Downloading importlib_metadata-7.1.0-py3-none-any.whl (24 kB)\n",
      "Collecting zipp>=0.5\n",
      "  Downloading zipp-3.18.1-py3-none-any.whl (8.2 kB)\n",
      "Collecting MarkupSafe>=2.1.1\n",
      "  Downloading MarkupSafe-2.1.5-cp39-cp39-manylinux_2_17_x86_64.manylinux2014_x86_64.whl (25 kB)\n",
      "Requirement already satisfied: pyparsing!=3.0.5,>=2.0.2 in /databricks/python3/lib/python3.9/site-packages (from packaging->tensorflow) (3.0.4)\n",
      "Requirement already satisfied: pygments<3.0.0,>=2.13.0 in /local_disk0/.ephemeral_nfs/envs/pythonEnv-024ffbf4-e67e-4063-a720-5ad4c438354f/lib/python3.9/site-packages (from rich->keras>=3.0.0->tensorflow) (2.18.0)\n",
      "Requirement already satisfied: markdown-it-py>=2.2.0 in /local_disk0/.ephemeral_nfs/envs/pythonEnv-024ffbf4-e67e-4063-a720-5ad4c438354f/lib/python3.9/site-packages (from rich->keras>=3.0.0->tensorflow) (3.0.0)\n",
      "Requirement already satisfied: mdurl~=0.1 in /local_disk0/.ephemeral_nfs/envs/pythonEnv-024ffbf4-e67e-4063-a720-5ad4c438354f/lib/python3.9/site-packages (from markdown-it-py>=2.2.0->rich->keras>=3.0.0->tensorflow) (0.1.2)\n",
      "Installing collected packages: zipp, numpy, MarkupSafe, importlib-metadata, werkzeug, tensorboard-data-server, protobuf, ml-dtypes, markdown, grpcio, wrapt, termcolor, tensorflow-io-gcs-filesystem, tensorboard, opt-einsum, libclang, google-pasta, gast, flatbuffers, astunparse, tensorflow\n",
      "  Attempting uninstall: numpy\n",
      "    Found existing installation: numpy 1.21.5\n",
      "    Not uninstalling numpy at /databricks/python3/lib/python3.9/site-packages, outside environment /local_disk0/.ephemeral_nfs/envs/pythonEnv-024ffbf4-e67e-4063-a720-5ad4c438354f\n",
      "    Can't uninstall 'numpy'. No files were found to uninstall.\n",
      "  Attempting uninstall: MarkupSafe\n",
      "    Found existing installation: MarkupSafe 2.0.1\n",
      "    Not uninstalling markupsafe at /databricks/python3/lib/python3.9/site-packages, outside environment /local_disk0/.ephemeral_nfs/envs/pythonEnv-024ffbf4-e67e-4063-a720-5ad4c438354f\n",
      "    Can't uninstall 'MarkupSafe'. No files were found to uninstall.\n",
      "  Attempting uninstall: protobuf\n",
      "    Found existing installation: protobuf 3.19.4\n",
      "    Not uninstalling protobuf at /databricks/python3/lib/python3.9/site-packages, outside environment /local_disk0/.ephemeral_nfs/envs/pythonEnv-024ffbf4-e67e-4063-a720-5ad4c438354f\n",
      "    Can't uninstall 'protobuf'. No files were found to uninstall.\n",
      "  Attempting uninstall: ml-dtypes\n",
      "    Found existing installation: ml-dtypes 0.4.0\n",
      "    Uninstalling ml-dtypes-0.4.0:\n",
      "      Successfully uninstalled ml-dtypes-0.4.0\n",
      "ERROR: pip's dependency resolver does not currently take into account all the packages that are installed. This behaviour is the source of the following dependency conflicts.\n",
      "scipy 1.7.3 requires numpy<1.23.0,>=1.16.5, but you have numpy 1.26.4 which is incompatible.\n",
      "Successfully installed MarkupSafe-2.1.5 astunparse-1.6.3 flatbuffers-24.3.25 gast-0.5.4 google-pasta-0.2.0 grpcio-1.63.0 importlib-metadata-7.1.0 libclang-18.1.1 markdown-3.6 ml-dtypes-0.3.2 numpy-1.26.4 opt-einsum-3.3.0 protobuf-4.25.3 tensorboard-2.16.2 tensorboard-data-server-0.7.2 tensorflow-2.16.1 tensorflow-io-gcs-filesystem-0.37.0 termcolor-2.4.0 werkzeug-3.0.3 wrapt-1.16.0 zipp-3.18.1\n",
      "Python interpreter will be restarted.\n",
      "Python interpreter will be restarted.\n",
      "Collecting networkx\n",
      "  Downloading networkx-3.2.1-py3-none-any.whl (1.6 MB)\n",
      "Installing collected packages: networkx\n",
      "Successfully installed networkx-3.2.1\n",
      "Python interpreter will be restarted.\n",
      "Python interpreter will be restarted.\n",
      "Requirement already satisfied: typing-extensions in /databricks/python3/lib/python3.9/site-packages (4.1.1)\n",
      "Collecting typing-extensions\n",
      "  Downloading typing_extensions-4.11.0-py3-none-any.whl (34 kB)\n",
      "Installing collected packages: typing-extensions\n",
      "  Attempting uninstall: typing-extensions\n",
      "    Found existing installation: typing-extensions 4.1.1\n",
      "    Not uninstalling typing-extensions at /databricks/python3/lib/python3.9/site-packages, outside environment /local_disk0/.ephemeral_nfs/envs/pythonEnv-024ffbf4-e67e-4063-a720-5ad4c438354f\n",
      "    Can't uninstall 'typing-extensions'. No files were found to uninstall.\n",
      "Successfully installed typing-extensions-4.11.0\n",
      "Python interpreter will be restarted.\n"
     ]
    }
   ],
   "source": [
    "%pip install fsspec\n",
    "%pip install keras\n",
    "%pip install tensorflow\n",
    "%pip install networkx\n",
    "%pip install --upgrade typing-extensions\n",
    "# %pip install pmdarima"
   ]
  },
  {
   "cell_type": "code",
   "execution_count": null,
   "metadata": {
    "application/vnd.databricks.v1+cell": {
     "cellMetadata": {
      "byteLimit": 2048000,
      "rowLimit": 10000
     },
     "inputWidgets": {},
     "nuid": "9cc31d3b-8e1d-4e3c-baa6-eff283fe5254",
     "showTitle": true,
     "title": "Librerias"
    }
   },
   "outputs": [
    {
     "data": {
      "application/vnd.databricks.v1+bamboolib_hint": "{\"pd.DataFrames\": [], \"version\": \"0.0.1\"}",
      "text/plain": []
     },
     "metadata": {},
     "output_type": "display_data"
    },
    {
     "name": "stderr",
     "output_type": "stream",
     "text": [
      "/databricks/python/lib/python3.9/site-packages/scipy/__init__.py:146: UserWarning: A NumPy version >=1.16.5 and <1.23.0 is required for this version of SciPy (detected version 1.26.4\n",
      "  warnings.warn(f\"A NumPy version >={np_minversion} and <{np_maxversion}\"\n"
     ]
    }
   ],
   "source": [
    "# General data analysis/plotting\n",
    "import pandas as pd\n",
    "import matplotlib.pyplot as plt \n",
    "import numpy as np\n",
    "import seaborn as sb\n",
    "from statsmodels.graphics.tsaplots import plot_acf\n",
    "from matplotlib import pyplot\n",
    "from statsmodels.tsa.stattools import adfuller\n",
    "from scipy.stats import boxcox\n",
    "\n",
    "\n",
    "# Data preprocessing\n",
    "from sklearn.preprocessing import MinMaxScaler\n",
    "from sklearn.model_selection import train_test_split\n",
    "from pyspark.sql.functions import col, date_format, from_utc_timestamp, to_date\n",
    "\n",
    "\n",
    "# import pmdarima as pm\n",
    "\n",
    "\n",
    "\n",
    "# Neural Net modules\n",
    "import tensorflow as tf\n",
    "from keras.models import Sequential\n",
    "from keras.layers import Dense, Dropout, LSTM, BatchNormalization, Bidirectional\n",
    "from keras.callbacks import EarlyStopping\n",
    "\n",
    "from pyspark.ml.feature import OneHotEncoder\n",
    "\n",
    "from scipy.stats import chi2_contingency\n",
    "\n",
    "\n",
    "from pyspark.sql.functions import max, min, datediff, sum, first, upper, when,lit, col, date_format, from_utc_timestamp, to_date, concat_ws, count, coalesce, format_string, split\n",
    "from pyspark.sql import Window\n",
    "from pyspark.sql.functions import expr\n",
    "\n",
    "\n",
    "\n",
    "#Librerias KNN\n",
    "import pandas as pd\n",
    "from sklearn.neighbors import NearestNeighbors\n",
    "from sklearn.preprocessing import StandardScaler, OneHotEncoder\n",
    "from sklearn.compose import ColumnTransformer\n",
    "from sklearn.pipeline import Pipeline"
   ]
  },
  {
   "cell_type": "code",
   "execution_count": null,
   "metadata": {
    "application/vnd.databricks.v1+cell": {
     "cellMetadata": {
      "byteLimit": 2048000,
      "rowLimit": 10000
     },
     "inputWidgets": {},
     "nuid": "c1831718-90c0-4093-a1d2-8592f811622d",
     "showTitle": true,
     "title": "Conexión"
    }
   },
   "outputs": [],
   "source": [
    "from pyspark.sql import SparkSession# Crear una SparkSession\n",
    "\n",
    "spark = SparkSession.builder.appName(\"AzureSQL\").getOrCreate()\n",
    "\n",
    "## Credenciales BD\n",
    "inpath = \"C:/Users/diego.torres/OneDrive/Datasets/Tuboleta/Credenciales.txt\"\n",
    "keys = pd.read_csv(inpath, sep = ',')\n",
    "display(keys)\n",
    "\n",
    "\n",
    "# Creo variables para cada fila del DataFrame que contiene las credenciales de la bd\n",
    "for index, row in keys.iterrows():\n",
    "    variable_name = row['key']\n",
    "    variable_value = row['value']\n",
    "    globals()[variable_name] = variable_value\n",
    "\n",
    "# Configurar las propiedades de la conexión\n",
    "jdbc_url = f\"jdbc:sqlserver://{jdbc_hostname}:1433;database={jdbc_database_datamart}\"\n",
    "jdbc_properties = {\n",
    "    \"user\": user,\n",
    "    \"password\": password,\n",
    "    \"driver\": driver\n",
    "}\n",
    "\n",
    "# Conexion al Blob\n",
    "spark.conf.set(clave_blob, access_key_blob)"
   ]
  },
  {
   "cell_type": "code",
   "execution_count": null,
   "metadata": {
    "application/vnd.databricks.v1+cell": {
     "cellMetadata": {
      "byteLimit": 2048000,
      "rowLimit": 10000
     },
     "inputWidgets": {},
     "nuid": "5460f5c4-f4ac-4fd9-9972-49f042ff7aa9",
     "showTitle": true,
     "title": "Carga de tablas y maestras"
    }
   },
   "outputs": [],
   "source": [
    "inpath = \"abfss://storagebi@tbdwhstorage01.dfs.core.windows.net/Modelos_analitica/Base_historico/Ds_G_Base_historico.parquet/\"\n",
    "#blob_storage_path = \"abfss://storagebi@tbdwhstorage01.dfs.core.windows.net/gold/TU_BOLETA/Audiencias/Ds_G_audiencias.parquet/\"\n",
    "df = spark.read.parquet(inpath)\n",
    "\n",
    "\n",
    "## IMPORTAR MAESTRA VENUE\n",
    "inpath = \"abfss://storagebi@tbdwhstorage01.dfs.core.windows.net/Modelos_analitica/Piloto_ticketing_forcast/maestra_venues/Maestra_venues.csv/\"\n",
    "venues = spark.read.csv(inpath,header=True, inferSchema=True, sep=';')\n",
    "\n",
    "## IMPORTAR MAESTRA PRODUCTS\n",
    "inpath = \"abfss://storagebi@tbdwhstorage01.dfs.core.windows.net/Modelos_analitica/Piloto_ticketing_forcast/maestra_product/maestra_product.csv/\"\n",
    "products = spark.read.csv(inpath,header=True, inferSchema=True, sep=';')\n",
    "\n",
    "## IMPORTAR MAESTRA ID\n",
    "inpath = \"abfss://storagebi@tbdwhstorage01.dfs.core.windows.net/Modelos_analitica/Piloto_ticketing_forcast/Maestra_id/maestra_id.csv/\"\n",
    "products2 = spark.read.csv(inpath,header=True, inferSchema=True, sep=';')\n",
    "\n",
    "# display(df.limit(10))"
   ]
  },
  {
   "cell_type": "markdown",
   "metadata": {
    "application/vnd.databricks.v1+cell": {
     "cellMetadata": {},
     "inputWidgets": {},
     "nuid": "18ff5da3-d121-4fde-8ab5-f2fbc249d81d",
     "showTitle": false,
     "title": ""
    }
   },
   "source": [
    "### Creacion de nueva variable (Key_evento) para df\n",
    "\n",
    "Se estandariza el key_evento por (ID_EVENTO|ID_SESION)"
   ]
  },
  {
   "cell_type": "code",
   "execution_count": null,
   "metadata": {
    "application/vnd.databricks.v1+cell": {
     "cellMetadata": {
      "byteLimit": 2048000,
      "rowLimit": 10000
     },
     "inputWidgets": {},
     "nuid": "e05739fc-6ab5-4240-b99e-45c1d5f6cf2e",
     "showTitle": false,
     "title": ""
    }
   },
   "outputs": [],
   "source": [
    "# Split the 'Key_evento' column and select the first two sections\n",
    "df = df.withColumn('Key_evento', concat_ws('|', split(col('Key_evento'), '\\|')[0], split(col('Key_evento'), '\\|')[1]))\n",
    "df = df.distinct()"
   ]
  },
  {
   "cell_type": "markdown",
   "metadata": {
    "application/vnd.databricks.v1+cell": {
     "cellMetadata": {},
     "inputWidgets": {},
     "nuid": "46afc97c-aba0-45cf-901c-1c6ce0606188",
     "showTitle": false,
     "title": ""
    }
   },
   "source": [
    "### Creación de Quartiles de variable Edad\n",
    "Se crean 3 columnas nuevas con los cuartiles de las edades de cada evento"
   ]
  },
  {
   "cell_type": "code",
   "execution_count": null,
   "metadata": {
    "application/vnd.databricks.v1+cell": {
     "cellMetadata": {
      "byteLimit": 2048000,
      "rowLimit": 10000
     },
     "inputWidgets": {},
     "nuid": "c884c1d2-7355-4db9-82b7-ce78372f2b49",
     "showTitle": false,
     "title": ""
    }
   },
   "outputs": [],
   "source": [
    "from pyspark.sql import Window\n",
    "from pyspark.sql.functions import expr\n",
    "\n",
    "# Define a window partitioned by Evento\n",
    "windowSpec = Window.partitionBy('Key_evento')\n",
    "# Calculate the quartiles\n",
    "quartile_df = df.withColumn(\n",
    "    \"Edad Q1\", expr(\"percentile_approx(Edad, 0.25)\").over(windowSpec)\n",
    ").withColumn(\n",
    "    \"Edad Q2\", expr(\"percentile_approx(Edad, 0.5)\").over(windowSpec)\n",
    ").withColumn(\n",
    "    \"Edad Q3\", expr(\"percentile_approx(Edad, 0.75)\").over(windowSpec)\n",
    ")\n",
    "\n",
    "# Select distinct values to avoid duplicates\n",
    "quartile_df = quartile_df.select(\"Key_evento\", \"Edad Q1\", \"Edad Q2\", \"Edad Q3\").distinct()\n",
    "#display(df.limit(10))\n",
    "# print(quartile_df.count())"
   ]
  },
  {
   "cell_type": "markdown",
   "metadata": {
    "application/vnd.databricks.v1+cell": {
     "cellMetadata": {},
     "inputWidgets": {},
     "nuid": "602fcf1f-b92e-4976-87dc-d7d16fac4210",
     "showTitle": false,
     "title": ""
    }
   },
   "source": [
    "### Filtros y agrupacion de la tabla a utilizar\n",
    "\n",
    "Se tomo unicamente en cuenta los eventos que fueran conciertos, artes escenicas, deportes y festivales. Además, dado a que se veia pertinente hacer transformaciones a la variable aforo, se eliminaron de la base esos eventos (aproximadamente 750 eventos que en su mayoria correspondian a festivales)"
   ]
  },
  {
   "cell_type": "code",
   "execution_count": null,
   "metadata": {
    "application/vnd.databricks.v1+cell": {
     "cellMetadata": {
      "byteLimit": 2048000,
      "rowLimit": 10000
     },
     "inputWidgets": {},
     "nuid": "d8735fbc-845d-4667-b365-e104ac5d00fd",
     "showTitle": false,
     "title": ""
    }
   },
   "outputs": [],
   "source": [
    "from pyspark.sql.functions import max, min, datediff, sum, first, upper, when,lit, col, date_format, from_utc_timestamp, to_date, coalesce\n",
    "\n",
    "\n",
    "# Define your list of product families\n",
    "product_families = ['Competición', 'Evento',\n",
    "                    'Pases con fecha y hora', 'Pase de visita']\n",
    "general_topic = ['CONCIERTOS','ARTES ESCENICAS','DEPORTES','FESTIVALES']\n",
    "\n",
    "\n",
    "# Apply the filter conditions\n",
    "df1 = df.filter(\n",
    "    (col('Familia_producto').isin(product_families)) &\n",
    "    (~upper(col('Evento')).like('%PRUEBA%')) &\n",
    "    (col('Evento').isNotNull()) &\n",
    "    (col('Tema_gral').isin(general_topic))\n",
    ")\n",
    "\n",
    "df1 = df1.withColumn(\"Fecha_Compra\",to_date(col(\"Fecha_Compra\")))\n",
    "\n",
    "\n",
    "# Union para traer el venue nuevo\n",
    "df2 = df1.join(venues, on='Venue', how = \"left_outer\")\n",
    "# Seleccionar entre las columnas 'Evento_N' y 'Evento' usando coalesce\n",
    "df2 = df2.withColumn('Venue_N', coalesce(df2['Venue_N'], df2['Venue']))\n",
    "\n",
    "# Union para traer el venue nuevo\n",
    "df2 = df2.join(products, on='Evento', how = \"left_outer\")\n",
    "# Seleccionar entre las columnas 'Evento_N' y 'Evento' usando coalesce\n",
    "df2 = df2.withColumn('Evento_N', coalesce(df2['Evento_N'], df2['Evento']))\n",
    "\n",
    "# Union para arreglar el nombre del evento\n",
    "df2 = df2.join(products2, on='Codigo_evento', how = \"left_outer\")\n",
    "# Seleccionar entre las columnas 'Evento_N' y 'Evento' usando coalesce\n",
    "df2 = df2.withColumn('NEW_NAME', coalesce(df2['NEW_NAME'], df2['Evento_N']))\n",
    "df2 = df2.withColumn('NEW_VENUE', coalesce(df2['NEW_VENUE'], df2['Venue_N'])).\\\n",
    "    drop('Evento','Venue').\\\n",
    "    withColumnRenamed(\"NEW_NAME\", \"Evento\").\\\n",
    "    withColumnRenamed(\"NEW_VENUE\", \"Venue\")\n",
    "\n",
    "# Step 1: Aggregate to find the maximum and minimum dates, and sum the PERFORMANCE_QUOTA\n",
    "df3 = df2.groupBy('Key_evento','Evento','Codigo_evento','Sesion','Fecha_evento','Tema_gral','Subtema_gral','Venue').agg(\n",
    "    max('Fecha_Compra').alias('Ultima_Fecha_Compra'),\n",
    "    min('Fecha_Compra').alias('Primera_Fecha_Compra'),\n",
    "    max('Aforo').alias('Aforo'))\n",
    "\n",
    "\n",
    "# Step 2: Calculate the difference between the dates\n",
    "df3 = df3.withColumn('Dias_de_Diferencia', datediff('Ultima_Fecha_Compra', 'Primera_Fecha_Compra'))\n",
    "\n",
    "# print(df3.count())"
   ]
  },
  {
   "cell_type": "code",
   "execution_count": null,
   "metadata": {
    "application/vnd.databricks.v1+cell": {
     "cellMetadata": {
      "byteLimit": 2048000,
      "rowLimit": 10000
     },
     "inputWidgets": {},
     "nuid": "f820cc82-ad06-4bfb-a9c6-c30174a84978",
     "showTitle": false,
     "title": ""
    }
   },
   "outputs": [],
   "source": [
    "# Union tabla original con la que contiene los cuartiles de la edad\n",
    "df3 = df3.join(quartile_df, on='Key_evento')\n",
    "\n",
    "# Replace a custom placeholder (e.g., 'missing') with np.nan\n",
    "# Assuming your DataFrame is named df and the column with null values is 'Aforo'\n",
    "df3 = df3.withColumn('Aforo', when(col('Aforo').isNull(), lit(float('nan'))).otherwise(col('Aforo')))\n",
    "\n",
    "\n",
    "# Now drop rows with NaN values in 'Aforo'\n",
    "df3 = df3.dropna(subset=['Aforo']).distinct()\n",
    "\n",
    "\n",
    "\n",
    "# Display the DataFrame\n",
    "# display(df3.limit(10))\n",
    "# print(df3.count())"
   ]
  },
  {
   "cell_type": "markdown",
   "metadata": {
    "application/vnd.databricks.v1+cell": {
     "cellMetadata": {},
     "inputWidgets": {},
     "nuid": "00d46664-1bfa-4e7a-8238-4378bd09d660",
     "showTitle": false,
     "title": ""
    }
   },
   "source": [
    "### Duplicados"
   ]
  },
  {
   "cell_type": "code",
   "execution_count": null,
   "metadata": {
    "application/vnd.databricks.v1+cell": {
     "cellMetadata": {
      "byteLimit": 2048000,
      "rowLimit": 10000
     },
     "inputWidgets": {},
     "nuid": "fb1f4ca8-ea9a-4af1-8f4e-2468daeef40b",
     "showTitle": false,
     "title": ""
    }
   },
   "outputs": [],
   "source": [
    "# Agregar una columna que indique si es duplicado o no\n",
    "window_spec = Window().partitionBy(\"Key_evento\").orderBy(\"Key_evento\")\n",
    "\n",
    "df_spark = df3.withColumn(\"es_duplicado\", count(\"Key_evento\").over(window_spec) > 1)\n",
    "\n",
    "# Filtrar solo las filas duplicadas\n",
    "duplicados = df_spark.filter(\"es_duplicado\")\n",
    "display(duplicados)"
   ]
  },
  {
   "cell_type": "markdown",
   "metadata": {
    "application/vnd.databricks.v1+cell": {
     "cellMetadata": {},
     "inputWidgets": {},
     "nuid": "ddb14a4e-660a-4d50-be3f-6f479dbc437e",
     "showTitle": false,
     "title": ""
    }
   },
   "source": [
    "# KNN"
   ]
  },
  {
   "cell_type": "markdown",
   "metadata": {
    "application/vnd.databricks.v1+cell": {
     "cellMetadata": {},
     "inputWidgets": {},
     "nuid": "5de1624c-7cff-4465-b64e-d4d1e3e48f66",
     "showTitle": false,
     "title": ""
    }
   },
   "source": [
    "### Construcción del data frame para el KNN\n",
    "Eliminación de Cols innecesarias y preprocesamiento de las variables a usar. (One-Hot para categoricas, StandarScaler para numericas)\n",
    "\n",
    "**NOTA:** Debido a los valores nulos en la variable edad, esta no hizo parte de la transformación de las demás variables"
   ]
  },
  {
   "cell_type": "code",
   "execution_count": null,
   "metadata": {
    "application/vnd.databricks.v1+cell": {
     "cellMetadata": {
      "byteLimit": 2048000,
      "rowLimit": 10000
     },
     "inputWidgets": {},
     "nuid": "de9f3baa-f9e9-48a4-8aa8-bba52d0e6e6f",
     "showTitle": false,
     "title": ""
    }
   },
   "outputs": [],
   "source": [
    "# Assuming 'spark_df' is your PySpark DataFrame\n",
    "DF = df3.toPandas()\n",
    "columns_to_drop = ['Key_evento','Sesion','Fecha_evento','Ultima_Fecha_Compra','Tema_gral']\n",
    "DF.drop(columns_to_drop, axis=1, inplace=True)\n"
   ]
  },
  {
   "cell_type": "code",
   "execution_count": null,
   "metadata": {
    "application/vnd.databricks.v1+cell": {
     "cellMetadata": {
      "byteLimit": 2048000,
      "rowLimit": 10000
     },
     "inputWidgets": {},
     "nuid": "7564abf4-4f91-42c2-be71-175ee5e98311",
     "showTitle": false,
     "title": ""
    }
   },
   "outputs": [],
   "source": [
    "# Preprocessing\n",
    "numerical_features = ['Dias_de_Diferencia','Aforo']  #  numerical features\n",
    "categorical_features = ['Subtema_gral','Venue']  # categorical features\n",
    "\n",
    "\n",
    "preprocessor = ColumnTransformer(\n",
    "    transformers=[\n",
    "        ('num', StandardScaler(), numerical_features),\n",
    "        ('cat', OneHotEncoder(), categorical_features)\n",
    "    ])"
   ]
  },
  {
   "cell_type": "markdown",
   "metadata": {
    "application/vnd.databricks.v1+cell": {
     "cellMetadata": {},
     "inputWidgets": {},
     "nuid": "6d648afd-8315-455f-af87-560733991602",
     "showTitle": false,
     "title": ""
    }
   },
   "source": [
    "### Pipeline y fit del KNN"
   ]
  },
  {
   "cell_type": "code",
   "execution_count": null,
   "metadata": {
    "application/vnd.databricks.v1+cell": {
     "cellMetadata": {
      "byteLimit": 2048000,
      "rowLimit": 10000
     },
     "inputWidgets": {},
     "nuid": "798e2094-c80b-4548-81a9-0ff5f47f310a",
     "showTitle": false,
     "title": ""
    }
   },
   "outputs": [
    {
     "name": "stdout",
     "output_type": "stream",
     "text": [
      "Out[10]: Pipeline(steps=[('preprocessor',\n",
      "                 ColumnTransformer(transformers=[('num', StandardScaler(),\n",
      "                                                  ['Dias_de_Diferencia',\n",
      "                                                   'Aforo']),\n",
      "                                                 ('cat', OneHotEncoder(),\n",
      "                                                  ['Subtema_gral', 'Venue'])])),\n",
      "                ('knn', NearestNeighbors(n_neighbors=15))])"
     ]
    }
   ],
   "source": [
    "knn_pipeline = Pipeline(steps=[\n",
    "    ('preprocessor', preprocessor),\n",
    "    ('knn', NearestNeighbors(n_neighbors=15))  # Hiperparametro (a necesidad), hay diferentes metricas q \n",
    "                                                # tambien son un hiperparametro. La opcion por default es la Euclideana.\n",
    "])\n",
    "\n",
    "columns_to_drop = ['Evento','Primera_Fecha_Compra']\n",
    "# Fit the model (El KNN no se entrena pero si se le hace un tratamiento a los datos)\n",
    "knn_pipeline.fit(DF.drop('Evento', axis=1))"
   ]
  },
  {
   "cell_type": "markdown",
   "metadata": {
    "application/vnd.databricks.v1+cell": {
     "cellMetadata": {},
     "inputWidgets": {},
     "nuid": "5528f6b6-f949-4366-bbb9-4596f72da457",
     "showTitle": false,
     "title": ""
    }
   },
   "source": [
    "### Ejecución KNN"
   ]
  },
  {
   "cell_type": "code",
   "execution_count": null,
   "metadata": {
    "application/vnd.databricks.v1+cell": {
     "cellMetadata": {
      "byteLimit": 2048000,
      "rowLimit": 10000
     },
     "inputWidgets": {},
     "nuid": "db89afbe-84ab-49f2-8203-11deb7878c4f",
     "showTitle": false,
     "title": ""
    }
   },
   "outputs": [
    {
     "name": "stdout",
     "output_type": "stream",
     "text": [
      "Similar events to MILEY CYRUS:\n",
      "MILEY CYRUS\n",
      "MORAT\n",
      "Morat en Concierto\n",
      "REIK ENCAMBIO\n",
      "Jonas Brothers\n",
      "Yatra Tour Bogotá 2019\n",
      "QUEVEDO - LATINOAMERICA \"DQE\" TOUR\n",
      "DEMI LOVATO\n",
      "MORAT\n",
      "JESÚS ADRIÁN  ROMERO TOUR 2023\n",
      "Fonseca Simples Corazones Tour - Bogotá\n",
      "Yatra Tour Bogotá 2019\n",
      "MORAT\n",
      "MORAT\n",
      "MORAT\n"
     ]
    }
   ],
   "source": [
    "from datetime import timedelta\n",
    "\n",
    "# Nombre del evento a comparar\n",
    "#event_name = 'KYGO'\n",
    "event_code = 10228446975132\n",
    "10229450017239 # Mon Laferte\n",
    "# 10228446975132 - MILEY CYRUS\n",
    " \n",
    "# Encuentra el indice de este\n",
    "event_index=DF[DF['Codigo_evento'] == '10228446975132'].index[0]\n",
    "# event_index = DF[DF['Codigo_evento'] == event_code].index[0]\n",
    "\n",
    "# Sacar nombre del evento de referencia\n",
    "event_name = DF[['Evento']].iloc[event_index].values[0]\n",
    "\n",
    "# Selecciona las caracteristicas del evento\n",
    "event_to_compare = DF.drop(columns_to_drop, axis=1).iloc[event_index].to_frame().transpose()\n",
    "\n",
    "# Encuentra las distancias mas cercanas correspondientes a los eventos y sus indices\n",
    "distances, indices = knn_pipeline.named_steps['knn'].kneighbors(preprocessor.transform(event_to_compare))\n",
    "\n",
    "# Imprime el nombre de los k eventos mas cercanos\n",
    "print(f\"Similar events to {event_name}:\")\n",
    "for index in indices[0]:\n",
    "    print(DF.iloc[index]['Evento'])\n",
    "    # print(f\"Key_evento: {DF.iloc[index]['Key_evento']}, Evento: {DF.iloc[index]['Evento']}\")\n",
    "\n",
    "    # print(index)\n"
   ]
  },
  {
   "cell_type": "markdown",
   "metadata": {
    "application/vnd.databricks.v1+cell": {
     "cellMetadata": {},
     "inputWidgets": {},
     "nuid": "d42bd12e-fd34-4ef7-8205-086149c0ef28",
     "showTitle": false,
     "title": ""
    }
   },
   "source": [
    "### Display de la tabla de los k=15 eventos similares"
   ]
  },
  {
   "cell_type": "code",
   "execution_count": null,
   "metadata": {
    "application/vnd.databricks.v1+cell": {
     "cellMetadata": {
      "byteLimit": 2048000,
      "rowLimit": 10000
     },
     "inputWidgets": {},
     "nuid": "35f305ca-3f20-4c66-85a2-c8a5e0ba5164",
     "showTitle": false,
     "title": ""
    }
   },
   "outputs": [
    {
     "data": {
      "text/html": [
       "<style scoped>\n",
       "  .table-result-container {\n",
       "    max-height: 300px;\n",
       "    overflow: auto;\n",
       "  }\n",
       "  table, th, td {\n",
       "    border: 1px solid black;\n",
       "    border-collapse: collapse;\n",
       "  }\n",
       "  th, td {\n",
       "    padding: 5px;\n",
       "  }\n",
       "  th {\n",
       "    text-align: left;\n",
       "  }\n",
       "</style><div class='table-result-container'><table class='table-result'><thead style='background-color: white'><tr><th>Key_evento</th><th>Evento</th><th>Codigo_evento</th><th>Fecha_evento</th><th>Tema_gral</th><th>Subtema_gral</th><th>Venue</th><th>Aforo</th><th>Ultima_Fecha_Compra</th><th>Primera_Fecha_Compra</th><th>Dias_de_Diferencia</th><th>Edad Q1</th><th>Edad Q2</th><th>Edad Q3</th><th>Distancias</th></tr></thead><tbody><tr><td>10228446975132|10228447160868</td><td>MILEY CYRUS</td><td>10228446975132</td><td>2022-03-21T21:30:00.000+0000</td><td>CONCIERTOS</td><td>POP</td><td>Movistar Arena - Bogota - Dg. 61C #26-36</td><td>3200.0</td><td>2022-03-21</td><td>2021-12-13</td><td>98</td><td>24.0</td><td>27.0</td><td>31.0</td><td>0.0</td></tr><tr><td>10228426193586|10228438940182</td><td>MORAT</td><td>10228426193586</td><td>2022-03-17T20:00:00.000+0000</td><td>CONCIERTOS</td><td>POP</td><td>Movistar Arena - Bogota - Dg. 61C #26-36</td><td>3200.0</td><td>2022-03-17</td><td>2021-12-06</td><td>101</td><td>24.0</td><td>29.0</td><td>37.0</td><td>0.026619226162396488</td></tr><tr><td>101326800145|101326800751</td><td>Morat en Concierto</td><td>101326800145</td><td>2019-06-02T20:00:00.000+0000</td><td>CONCIERTOS</td><td>POP</td><td>Movistar Arena - Bogota - Dg. 61C #26-36</td><td>3334.0</td><td>2019-06-06</td><td>2019-03-06</td><td>92</td><td>27.0</td><td>31.0</td><td>45.0</td><td>0.0623240122191502</td></tr><tr><td>10228977464508|10228977470584</td><td>REIK ENCAMBIO</td><td>10228977464508</td><td>2023-04-20T20:00:00.000+0000</td><td>CONCIERTOS</td><td>POP</td><td>Movistar Arena - Bogota - Dg. 61C #26-36</td><td>3429.0</td><td>2023-05-10</td><td>2023-02-07</td><td>92</td><td>25.0</td><td>28.0</td><td>33.0</td><td>0.0768162758696234</td></tr><tr><td>10229437775231|10229437776645</td><td>Jonas Brothers</td><td>10229437775231</td><td>2024-04-19T19:00:00.000+0000</td><td>CONCIERTOS</td><td>POP</td><td>Movistar Arena - Bogota - Dg. 61C #26-36</td><td>3228.0</td><td>2024-03-31</td><td>2023-12-13</td><td>109</td><td>25.0</td><td>27.0</td><td>29.0</td><td>0.09783839067554476</td></tr><tr><td>101342597656|101345671292</td><td>Yatra Tour Bogotá 2019</td><td>101342597656</td><td>2019-11-03T20:00:00.000+0000</td><td>CONCIERTOS</td><td>POP</td><td>Movistar Arena - Bogota - Dg. 61C #26-36</td><td>2626.0</td><td>2019-11-12</td><td>2019-08-13</td><td>91</td><td>34.0</td><td>42.0</td><td>49.0</td><td>0.15206396050497883</td></tr><tr><td>10229415242135|10229415242243</td><td>QUEVEDO - LATINOAMERICA \"DQE\" TOUR</td><td>10229415242135</td><td>2024-01-20T21:00:00.000+0000</td><td>CONCIERTOS</td><td>POP</td><td>Movistar Arena - Bogota - Dg. 61C #26-36</td><td>3300.0</td><td>2024-01-20</td><td>2023-10-31</td><td>81</td><td>21.0</td><td>25.0</td><td>43.0</td><td>0.15276821872039695</td></tr><tr><td>10228547303177|10228547314489</td><td>DEMI LOVATO</td><td>10228547303177</td><td>2022-09-07T20:00:00.000+0000</td><td>CONCIERTOS</td><td>POP</td><td>Movistar Arena - Bogota - Dg. 61C #26-36</td><td>2626.0</td><td>2022-09-19</td><td>2022-06-02</td><td>109</td><td>24.0</td><td>27.0</td><td>30.0</td><td>0.1696823906489325</td></tr><tr><td>10228426193586|10228459208047</td><td>MORAT</td><td>10228426193586</td><td>2022-03-24T20:00:00.000+0000</td><td>CONCIERTOS</td><td>POP</td><td>Movistar Arena - Bogota - Dg. 61C #26-36</td><td>3300.0</td><td>2022-03-24</td><td>2022-01-05</td><td>78</td><td>24.0</td><td>29.0</td><td>37.0</td><td>0.1791014278818376</td></tr><tr><td>10228991418870|10228991424627</td><td>JESÚS ADRIÁN  ROMERO TOUR 2023</td><td>10228991418870</td><td>2023-05-23T20:00:00.000+0000</td><td>CONCIERTOS</td><td>POP</td><td>Movistar Arena - Bogota - Dg. 61C #26-36</td><td>4000.0</td><td>2023-05-24</td><td>2023-02-10</td><td>103</td><td>28.0</td><td>33.0</td><td>41.0</td><td>0.19847244095159744</td></tr><tr><td>101337133658|101338872170</td><td>Fonseca Simples Corazones Tour - Bogotá</td><td>101337133658</td><td>2019-09-19T20:30:00.000+0000</td><td>CONCIERTOS</td><td>POP</td><td>Movistar Arena - Bogota - Dg. 61C #26-36</td><td>3856.0</td><td>2019-09-30</td><td>2019-06-05</td><td>117</td><td>34.0</td><td>40.0</td><td>47.0</td><td>0.23148498934038714</td></tr><tr><td>101342597656|101342599070</td><td>Yatra Tour Bogotá 2019</td><td>101342597656</td><td>2019-11-02T20:00:00.000+0000</td><td>CONCIERTOS</td><td>POP</td><td>Movistar Arena - Bogota - Dg. 61C #26-36</td><td>3228.0</td><td>2019-11-12</td><td>2019-07-10</td><td>125</td><td>33.0</td><td>42.0</td><td>49.0</td><td>0.23966869324884166</td></tr><tr><td>10228426193586|10228426194612</td><td>MORAT</td><td>10228426193586</td><td>2022-03-20T17:00:00.000+0000</td><td>CONCIERTOS</td><td>POP</td><td>Movistar Arena - Bogota - Dg. 61C #26-36</td><td>3300.0</td><td>2022-03-20</td><td>2021-11-13</td><td>127</td><td>23.0</td><td>27.0</td><td>35.0</td><td>0.25845289385506653</td></tr><tr><td>10228426193586|10228426194611</td><td>MORAT</td><td>10228426193586</td><td>2022-03-19T20:00:00.000+0000</td><td>CONCIERTOS</td><td>POP</td><td>Movistar Arena - Bogota - Dg. 61C #26-36</td><td>3300.0</td><td>2022-03-19</td><td>2021-11-12</td><td>127</td><td>23.0</td><td>26.0</td><td>32.0</td><td>0.25845289385506653</td></tr><tr><td>10228426193586|10228426194610</td><td>MORAT</td><td>10228426193586</td><td>2022-03-18T20:00:00.000+0000</td><td>CONCIERTOS</td><td>POP</td><td>Movistar Arena - Bogota - Dg. 61C #26-36</td><td>3300.0</td><td>2022-03-18</td><td>2021-11-10</td><td>128</td><td>23.0</td><td>26.0</td><td>30.0</td><td>0.26728833660510587</td></tr></tbody></table></div>"
      ]
     },
     "metadata": {
      "application/vnd.databricks.v1+output": {
       "addedWidgets": {},
       "aggData": [],
       "aggError": "",
       "aggOverflow": false,
       "aggSchema": [],
       "aggSeriesLimitReached": false,
       "aggType": "",
       "arguments": {},
       "columnCustomDisplayInfos": {},
       "data": [
        [
         "10228446975132|10228447160868",
         "MILEY CYRUS",
         "10228446975132",
         "2022-03-21T21:30:00.000+0000",
         "CONCIERTOS",
         "POP",
         "Movistar Arena - Bogota - Dg. 61C #26-36",
         3200,
         "2022-03-21",
         "2021-12-13",
         98,
         24,
         27,
         31,
         0
        ],
        [
         "10228426193586|10228438940182",
         "MORAT",
         "10228426193586",
         "2022-03-17T20:00:00.000+0000",
         "CONCIERTOS",
         "POP",
         "Movistar Arena - Bogota - Dg. 61C #26-36",
         3200,
         "2022-03-17",
         "2021-12-06",
         101,
         24,
         29,
         37,
         0.026619226162396488
        ],
        [
         "101326800145|101326800751",
         "Morat en Concierto",
         "101326800145",
         "2019-06-02T20:00:00.000+0000",
         "CONCIERTOS",
         "POP",
         "Movistar Arena - Bogota - Dg. 61C #26-36",
         3334,
         "2019-06-06",
         "2019-03-06",
         92,
         27,
         31,
         45,
         0.0623240122191502
        ],
        [
         "10228977464508|10228977470584",
         "REIK ENCAMBIO",
         "10228977464508",
         "2023-04-20T20:00:00.000+0000",
         "CONCIERTOS",
         "POP",
         "Movistar Arena - Bogota - Dg. 61C #26-36",
         3429,
         "2023-05-10",
         "2023-02-07",
         92,
         25,
         28,
         33,
         0.0768162758696234
        ],
        [
         "10229437775231|10229437776645",
         "Jonas Brothers",
         "10229437775231",
         "2024-04-19T19:00:00.000+0000",
         "CONCIERTOS",
         "POP",
         "Movistar Arena - Bogota - Dg. 61C #26-36",
         3228,
         "2024-03-31",
         "2023-12-13",
         109,
         25,
         27,
         29,
         0.09783839067554476
        ],
        [
         "101342597656|101345671292",
         "Yatra Tour Bogotá 2019",
         "101342597656",
         "2019-11-03T20:00:00.000+0000",
         "CONCIERTOS",
         "POP",
         "Movistar Arena - Bogota - Dg. 61C #26-36",
         2626,
         "2019-11-12",
         "2019-08-13",
         91,
         34,
         42,
         49,
         0.15206396050497883
        ],
        [
         "10229415242135|10229415242243",
         "QUEVEDO - LATINOAMERICA \"DQE\" TOUR",
         "10229415242135",
         "2024-01-20T21:00:00.000+0000",
         "CONCIERTOS",
         "POP",
         "Movistar Arena - Bogota - Dg. 61C #26-36",
         3300,
         "2024-01-20",
         "2023-10-31",
         81,
         21,
         25,
         43,
         0.15276821872039695
        ],
        [
         "10228547303177|10228547314489",
         "DEMI LOVATO",
         "10228547303177",
         "2022-09-07T20:00:00.000+0000",
         "CONCIERTOS",
         "POP",
         "Movistar Arena - Bogota - Dg. 61C #26-36",
         2626,
         "2022-09-19",
         "2022-06-02",
         109,
         24,
         27,
         30,
         0.1696823906489325
        ],
        [
         "10228426193586|10228459208047",
         "MORAT",
         "10228426193586",
         "2022-03-24T20:00:00.000+0000",
         "CONCIERTOS",
         "POP",
         "Movistar Arena - Bogota - Dg. 61C #26-36",
         3300,
         "2022-03-24",
         "2022-01-05",
         78,
         24,
         29,
         37,
         0.1791014278818376
        ],
        [
         "10228991418870|10228991424627",
         "JESÚS ADRIÁN  ROMERO TOUR 2023",
         "10228991418870",
         "2023-05-23T20:00:00.000+0000",
         "CONCIERTOS",
         "POP",
         "Movistar Arena - Bogota - Dg. 61C #26-36",
         4000,
         "2023-05-24",
         "2023-02-10",
         103,
         28,
         33,
         41,
         0.19847244095159744
        ],
        [
         "101337133658|101338872170",
         "Fonseca Simples Corazones Tour - Bogotá",
         "101337133658",
         "2019-09-19T20:30:00.000+0000",
         "CONCIERTOS",
         "POP",
         "Movistar Arena - Bogota - Dg. 61C #26-36",
         3856,
         "2019-09-30",
         "2019-06-05",
         117,
         34,
         40,
         47,
         0.23148498934038714
        ],
        [
         "101342597656|101342599070",
         "Yatra Tour Bogotá 2019",
         "101342597656",
         "2019-11-02T20:00:00.000+0000",
         "CONCIERTOS",
         "POP",
         "Movistar Arena - Bogota - Dg. 61C #26-36",
         3228,
         "2019-11-12",
         "2019-07-10",
         125,
         33,
         42,
         49,
         0.23966869324884166
        ],
        [
         "10228426193586|10228426194612",
         "MORAT",
         "10228426193586",
         "2022-03-20T17:00:00.000+0000",
         "CONCIERTOS",
         "POP",
         "Movistar Arena - Bogota - Dg. 61C #26-36",
         3300,
         "2022-03-20",
         "2021-11-13",
         127,
         23,
         27,
         35,
         0.25845289385506653
        ],
        [
         "10228426193586|10228426194611",
         "MORAT",
         "10228426193586",
         "2022-03-19T20:00:00.000+0000",
         "CONCIERTOS",
         "POP",
         "Movistar Arena - Bogota - Dg. 61C #26-36",
         3300,
         "2022-03-19",
         "2021-11-12",
         127,
         23,
         26,
         32,
         0.25845289385506653
        ],
        [
         "10228426193586|10228426194610",
         "MORAT",
         "10228426193586",
         "2022-03-18T20:00:00.000+0000",
         "CONCIERTOS",
         "POP",
         "Movistar Arena - Bogota - Dg. 61C #26-36",
         3300,
         "2022-03-18",
         "2021-11-10",
         128,
         23,
         26,
         30,
         0.26728833660510587
        ]
       ],
       "datasetInfos": [],
       "dbfsResultPath": null,
       "isJsonSchema": true,
       "metadata": {},
       "overflow": false,
       "plotOptions": {
        "customPlotOptions": {},
        "displayType": "table",
        "pivotAggregation": null,
        "pivotColumns": null,
        "xColumns": null,
        "yColumns": null
       },
       "removedWidgets": [],
       "schema": [
        {
         "metadata": "{}",
         "name": "Key_evento",
         "type": "\"string\""
        },
        {
         "metadata": "{}",
         "name": "Evento",
         "type": "\"string\""
        },
        {
         "metadata": "{}",
         "name": "Codigo_evento",
         "type": "\"string\""
        },
        {
         "metadata": "{}",
         "name": "Fecha_evento",
         "type": "\"timestamp\""
        },
        {
         "metadata": "{}",
         "name": "Tema_gral",
         "type": "\"string\""
        },
        {
         "metadata": "{}",
         "name": "Subtema_gral",
         "type": "\"string\""
        },
        {
         "metadata": "{}",
         "name": "Venue",
         "type": "\"string\""
        },
        {
         "metadata": "{}",
         "name": "Aforo",
         "type": "\"double\""
        },
        {
         "metadata": "{}",
         "name": "Ultima_Fecha_Compra",
         "type": "\"date\""
        },
        {
         "metadata": "{}",
         "name": "Primera_Fecha_Compra",
         "type": "\"date\""
        },
        {
         "metadata": "{}",
         "name": "Dias_de_Diferencia",
         "type": "\"integer\""
        },
        {
         "metadata": "{}",
         "name": "Edad Q1",
         "type": "\"double\""
        },
        {
         "metadata": "{}",
         "name": "Edad Q2",
         "type": "\"double\""
        },
        {
         "metadata": "{}",
         "name": "Edad Q3",
         "type": "\"double\""
        },
        {
         "metadata": "{}",
         "name": "Distancias",
         "type": "\"double\""
        }
       ],
       "type": "table"
      }
     },
     "output_type": "display_data"
    }
   ],
   "source": [
    "knn_table = df3.toPandas()\n",
    "knn_table = knn_table.loc[indices[0], :]\n",
    "selected_columns = ['Key_evento','Evento', 'Codigo_evento', 'Fecha_evento','Tema_gral','Subtema_gral','Venue','Aforo','Ultima_Fecha_Compra','Primera_Fecha_Compra','Dias_de_Diferencia','Edad Q1','Edad Q2','Edad Q3']\n",
    "knn_table = knn_table[selected_columns]\n",
    "\n",
    "knn_table['Distancias'] = distances[0]\n",
    "display(knn_table) #DataFrame"
   ]
  },
  {
   "cell_type": "markdown",
   "metadata": {
    "application/vnd.databricks.v1+cell": {
     "cellMetadata": {},
     "inputWidgets": {},
     "nuid": "9f8ab63a-dce8-4d1a-8460-8948a30ffce4",
     "showTitle": false,
     "title": ""
    }
   },
   "source": [
    "### Grafo"
   ]
  },
  {
   "cell_type": "code",
   "execution_count": null,
   "metadata": {
    "application/vnd.databricks.v1+cell": {
     "cellMetadata": {
      "byteLimit": 2048000,
      "rowLimit": 10000
     },
     "inputWidgets": {},
     "nuid": "1569a9fe-68ea-44bb-b268-ca18c3914dbb",
     "showTitle": false,
     "title": ""
    }
   },
   "outputs": [],
   "source": [
    "from sklearn.neighbors import kneighbors_graph\n",
    "# knn_pipeline.named_steps['knn'].kneighbors(preprocessor.transform(event_to_compare))\n",
    "# A = kneighbors_graph(, 15, mode='connectivity', include_self=True)\n",
    "# A.toarray()\n",
    "adjacency_matrix=knn_pipeline.named_steps['knn'].kneighbors_graph(preprocessor.transform(event_to_compare)).toarray()\n",
    "# adjacency_matrix=knn_pipeline.named_steps['knn'].kneighbors_graph(preprocessor.transform(DF.drop('Evento', axis=1))).toarray()\n"
   ]
  },
  {
   "cell_type": "code",
   "execution_count": null,
   "metadata": {
    "application/vnd.databricks.v1+cell": {
     "cellMetadata": {
      "byteLimit": 2048000,
      "rowLimit": 10000
     },
     "inputWidgets": {},
     "nuid": "00e32052-e164-40f7-b06b-ef9ec0c7a2fa",
     "showTitle": false,
     "title": ""
    }
   },
   "outputs": [],
   "source": [
    "import networkx as nx\n",
    "import matplotlib.pyplot as plt\n",
    "\n",
    "graph = nx.Graph()\n",
    "num_nodes = len(adjacency_matrix)\n",
    "graph.add_nodes_from(range(num_nodes))"
   ]
  },
  {
   "cell_type": "code",
   "execution_count": null,
   "metadata": {
    "application/vnd.databricks.v1+cell": {
     "cellMetadata": {
      "byteLimit": 2048000,
      "rowLimit": 10000
     },
     "inputWidgets": {},
     "nuid": "ffa9fbce-43b3-4508-b04f-5946818ae4e3",
     "showTitle": false,
     "title": ""
    }
   },
   "outputs": [],
   "source": [
    "for i in range(num_nodes):\n",
    "    for j in range(i + 1, num_nodes):\n",
    "        if adjacency_matrix[i][j] == 1:\n",
    "            graph.add_edge(i, j)"
   ]
  },
  {
   "cell_type": "code",
   "execution_count": null,
   "metadata": {
    "application/vnd.databricks.v1+cell": {
     "cellMetadata": {
      "byteLimit": 2048000,
      "rowLimit": 10000
     },
     "inputWidgets": {},
     "nuid": "9e0d2a75-c8f3-4671-b22d-6eeb053ebb7f",
     "showTitle": false,
     "title": ""
    }
   },
   "outputs": [],
   "source": [
    "import plotly.graph_objects as go\n",
    "import numpy as np\n",
    "\n",
    "# Assuming adj_matrix is your 10000x10000 adjacency matrix\n",
    "# Replace it with your actual matrix\n",
    "\n",
    "# Sample a subset of nodes for visualization\n",
    "num_nodes_to_sample = 100\n",
    "sampled_nodes = np.random.choice(range(adjacency_matrix.shape[0]), num_nodes_to_sample)\n",
    "\n",
    "# Create edges from the adjacency matrix\n",
    "edges = np.column_stack(np.where(adjacency_matrix[sampled_nodes, :][:, sampled_nodes] > 0))\n",
    "\n",
    "# Create a Plotly scatter plot for nodes\n",
    "node_trace = go.Scatter(\n",
    "    x=[],\n",
    "    y=[],\n",
    "    mode='markers',\n",
    "    hoverinfo='text',\n",
    "    marker=dict(size=10, color='blue')\n",
    ")\n",
    "\n",
    "# Add nodes to the trace\n",
    "for node in sampled_nodes:\n",
    "    x, y = np.random.rand(2)\n",
    "    node_trace['x'] += tuple([x])\n",
    "    node_trace['y'] += tuple([y])\n",
    "\n",
    "# Create a Plotly scatter plot for edges\n",
    "edge_trace = go.Scatter(\n",
    "    x=[],\n",
    "    y=[],\n",
    "    mode='lines',\n",
    "    line=dict(width=0.5, color='gray'),\n",
    "    hoverinfo='none'\n",
    ")\n",
    "\n",
    "# Add edges to the trace\n",
    "for edge in edges:\n",
    "    x, y = zip(*[(node_trace['x'][i], node_trace['y'][i]) for i in edge])\n",
    "    edge_trace['x'] += x + (None,)\n",
    "    edge_trace['y'] += y + (None,)\n",
    "\n",
    "# Create a layout\n",
    "layout = go.Layout(\n",
    "    showlegend=False,\n",
    "    hovermode='closest'\n",
    ")\n",
    "\n",
    "# Create the figure\n",
    "fig = go.Figure(data=[node_trace, edge_trace], layout=layout)\n",
    "\n",
    "# Show the interactive graph\n",
    "fig.show()\n"
   ]
  },
  {
   "cell_type": "code",
   "execution_count": null,
   "metadata": {
    "application/vnd.databricks.v1+cell": {
     "cellMetadata": {
      "byteLimit": 2048000,
      "rowLimit": 10000
     },
     "inputWidgets": {},
     "nuid": "53ca9630-2c75-42d8-b8cc-0945ad936162",
     "showTitle": false,
     "title": ""
    }
   },
   "outputs": [],
   "source": [
    "    #Plot adjacency matrix in toned-down black and white\n",
    "    fig = pyplot.figure(figsize=(5, 5)) # in inches\n",
    "    pyplot.imshow(adjacency_matrix,\n",
    "                  cmap=\"Greys\",\n",
    "                  interpolation=\"none\")\n",
    "    "
   ]
  },
  {
   "cell_type": "code",
   "execution_count": null,
   "metadata": {
    "application/vnd.databricks.v1+cell": {
     "cellMetadata": {},
     "inputWidgets": {},
     "nuid": "3d36dde8-169f-4a1d-87be-e954dec57c8d",
     "showTitle": false,
     "title": ""
    }
   },
   "outputs": [],
   "source": []
  },
  {
   "cell_type": "code",
   "execution_count": null,
   "metadata": {
    "application/vnd.databricks.v1+cell": {
     "cellMetadata": {},
     "inputWidgets": {},
     "nuid": "b05e4d7d-eeb0-4fdc-b637-9d3b6ba8d1fa",
     "showTitle": false,
     "title": ""
    }
   },
   "outputs": [],
   "source": []
  },
  {
   "cell_type": "markdown",
   "metadata": {
    "application/vnd.databricks.v1+cell": {
     "cellMetadata": {},
     "inputWidgets": {},
     "nuid": "34cbac4e-83f9-4aa1-92aa-28bd369919e7",
     "showTitle": false,
     "title": ""
    }
   },
   "source": [
    "# Tabla eventos (LSTM)"
   ]
  },
  {
   "cell_type": "markdown",
   "metadata": {
    "application/vnd.databricks.v1+cell": {
     "cellMetadata": {},
     "inputWidgets": {},
     "nuid": "f6b88bc6-fc0c-4f0e-8bba-e0e1c8cc3c28",
     "showTitle": false,
     "title": ""
    }
   },
   "source": [
    "### Paso 1 - Creación vector fecha ( apartir del knn)"
   ]
  },
  {
   "cell_type": "code",
   "execution_count": null,
   "metadata": {
    "application/vnd.databricks.v1+cell": {
     "cellMetadata": {
      "byteLimit": 2048000,
      "rowLimit": 10000
     },
     "inputWidgets": {},
     "nuid": "99b519f3-78d5-4082-8ad5-442d56fabca3",
     "showTitle": false,
     "title": ""
    }
   },
   "outputs": [],
   "source": [
    "# Hallar el indice del evento con mayor dias de diferencia y luego hallar el valor\n",
    "max_index = knn_table['Dias_de_Diferencia'].idxmax()\n",
    "max_value = DF.loc[max_index, 'Dias_de_Diferencia']\n",
    "\n",
    "# Hallar la fecha de primera compra del evento de referencia\n",
    "event_min_fecha = DF[['Primera_Fecha_Compra']].iloc[event_index].values[0]\n",
    "\n",
    "# Crear un vector de fechas\n",
    "vector_fechas = [event_min_fecha + timedelta(days=i) for i in range(max_value + 1)]\n",
    "# print(vector_fechas)"
   ]
  },
  {
   "cell_type": "markdown",
   "metadata": {
    "application/vnd.databricks.v1+cell": {
     "cellMetadata": {},
     "inputWidgets": {},
     "nuid": "839289bd-5ba4-4a4c-b9ce-b1f5b2e6f9a2",
     "showTitle": false,
     "title": ""
    }
   },
   "source": [
    "### Paso 2 - Creación de tabla agrupados por TODOS los evento con los tickets vendidos por dia"
   ]
  },
  {
   "cell_type": "code",
   "execution_count": null,
   "metadata": {
    "application/vnd.databricks.v1+cell": {
     "cellMetadata": {
      "byteLimit": 2048000,
      "rowLimit": 10000
     },
     "inputWidgets": {},
     "nuid": "50e3284d-3d97-43a1-b57f-47f392aa0b90",
     "showTitle": false,
     "title": ""
    }
   },
   "outputs": [],
   "source": [
    "# Step 1: Aggregate to find the maximum and minimum dates, and sum the PERFORMANCE_QUOTA\n",
    "df_knn_table1 = df2.groupBy(\"Key_evento\",'Evento').\\\n",
    "                agg(max('Fecha_Compra').alias('Ultima_Fecha_Compra'),\n",
    "                    min('Fecha_Compra').alias('Primera_Fecha_Compra'))\n",
    "\n",
    "\n",
    "# Step 2: Aggregate to find the maximum and minimum dates, and sum the PERFORMANCE_QUOTA\n",
    "df_knn_table2 = df.groupBy('Key_evento',\"Evento\",'Fecha_Compra').sum('Tickets_comprados').withColumnRenamed(\"sum(Tickets_comprados)\", \"Tickets_comprados\").withColumnRenamed(\"Evento\", \"Eventos\")\n",
    "\n",
    "#Step 3\n",
    "df_knn_table3 = df_knn_table1.join(df_knn_table2, on='Key_evento', how = \"left_outer\")\n",
    "\n",
    "\n",
    "# Step 2: Calculate the difference between the dates\n",
    "df_knn_table3 = df_knn_table3.withColumn('Dia', datediff('Fecha_Compra', 'Primera_Fecha_Compra'))\n",
    "\n",
    "# Agrupar por evento y dia\n",
    "df_knn_table3 = df_knn_table3.select('Key_evento','Evento','Fecha_Compra','Ultima_Fecha_Compra','Primera_Fecha_Compra','Dia','Tickets_comprados')\n",
    "\n",
    "\n",
    "# display(df_knn_table3)"
   ]
  },
  {
   "cell_type": "markdown",
   "metadata": {
    "application/vnd.databricks.v1+cell": {
     "cellMetadata": {},
     "inputWidgets": {},
     "nuid": "e62e3dcd-ce4b-48bd-b6c4-12f2d0ee49fa",
     "showTitle": false,
     "title": ""
    }
   },
   "source": [
    "### Paso 3 - Extracción en un array de los codigos de los eventos del KNN"
   ]
  },
  {
   "cell_type": "code",
   "execution_count": null,
   "metadata": {
    "application/vnd.databricks.v1+cell": {
     "cellMetadata": {
      "byteLimit": 2048000,
      "rowLimit": 10000
     },
     "inputWidgets": {},
     "nuid": "1336fe04-ca6a-4de2-a4c9-200e10a21d86",
     "showTitle": false,
     "title": ""
    }
   },
   "outputs": [],
   "source": [
    "# Convertir pd df a pyspark df\n",
    "knn_table = spark.createDataFrame(knn_table)  #se corre una unica vez\n",
    "\n",
    "# Coleccionar unicamente los eventos de la columna Evento\n",
    "Col_Eventos=knn_table.select(\"Key_evento\").collect()\n",
    "\n",
    "# Extraer y guardar los eventos en una lista\n",
    "Col_Eventos=[row.Key_evento for row  in Col_Eventos]\n",
    "# Col_Eventos"
   ]
  },
  {
   "cell_type": "markdown",
   "metadata": {
    "application/vnd.databricks.v1+cell": {
     "cellMetadata": {},
     "inputWidgets": {},
     "nuid": "7fceafc7-8c72-46a5-a968-2da2c017207d",
     "showTitle": false,
     "title": ""
    }
   },
   "source": [
    "### Paso 4 - Creación tabla1 (Acumulativo) y tabla2\n",
    "\n",
    "**NOTA:** Se agrega un sufijo a los eventos por haber eventos con el mismo nombre"
   ]
  },
  {
   "cell_type": "code",
   "execution_count": null,
   "metadata": {
    "application/vnd.databricks.v1+cell": {
     "cellMetadata": {
      "byteLimit": 2048000,
      "rowLimit": 10000
     },
     "inputWidgets": {},
     "nuid": "1c943eda-6e84-404a-9a42-7d2dda80bdfd",
     "showTitle": true,
     "title": ""
    }
   },
   "outputs": [],
   "source": [
    "from pyspark.sql.functions import monotonically_increasing_id, concat\n",
    "\n",
    "\n",
    "##### Tabla 2 (DIARIO) #####\n",
    "\n",
    "#Se filtra los key eventos del knn\n",
    "tabla1_filtered = df_knn_table3.filter(df_knn_table3['Key_evento'].isin(Col_Eventos))\n",
    "\n",
    "# Se crea un id unico para cada Key evento\n",
    "sufix = tabla1_filtered.groupBy('Key_evento').agg(first('Evento').alias('Evento_agg'))\n",
    "sufix = sufix.withColumn('Suffix', monotonically_increasing_id())\n",
    "\n",
    "# Se une la tabla con la columna del sufijo con el resto de la otra tabla\n",
    "tabla1 = df_knn_table3.join(sufix, on='Key_evento')\n",
    "tabla1 = tabla1.withColumn('Evento', concat(col('Evento'), lit('_'), col('Suffix')))\n",
    "\n",
    "# Drop the 'Suffix' column if it's no longer needed\n",
    "tabla1 = tabla1.drop('Suffix')\n",
    "\n",
    "# Pivot the table\n",
    "tabla1 = tabla1.groupBy(\"Dia\").pivot(\"Evento\").agg(first(\"Tickets_comprados\")).orderBy('Dia')\n",
    "# Cambiar null por 0\n",
    "tabla1 = tabla1.fillna(0)\n",
    "\n",
    "\n",
    "\n",
    "\n",
    "\n",
    "##### Tabla 1 (Acumulativo) #####\n",
    "tabla2 = tabla1.alias(\"tabla2\")\n",
    "\n",
    "window_spec = Window.orderBy(\"Dia\").rowsBetween(Window.unboundedPreceding, 0)\n",
    "\n",
    "# Get a list of numeric column names (assuming all numeric columns need cumulative sum)\n",
    "numeric_columns = [c[0] for c in tabla2.dtypes if c[1] in {'int', 'bigint', 'float', 'double'}]\n",
    "\n",
    "# Compute cumulative sum for each numeric column\n",
    "for column in numeric_columns:\n",
    "    tabla1 = tabla1.withColumn(\n",
    "        f\"{column}\",\n",
    "        sum(col(column)).over(window_spec)\n",
    "    )\n",
    "\n",
    "# Eliminar columna Dia\n",
    "tabla1 = tabla1.drop('Dia')\n",
    "tabla2 = tabla2.drop('Dia')\n",
    "\n",
    "# display(tabla1)"
   ]
  },
  {
   "cell_type": "markdown",
   "metadata": {
    "application/vnd.databricks.v1+cell": {
     "cellMetadata": {},
     "inputWidgets": {},
     "nuid": "79d83d1b-3617-413e-8007-9e895f654e9b",
     "showTitle": false,
     "title": ""
    }
   },
   "source": [
    "### Paso 5 - Union vector fecha con tabla1 (Acumulativo) y tabla2"
   ]
  },
  {
   "cell_type": "code",
   "execution_count": null,
   "metadata": {
    "application/vnd.databricks.v1+cell": {
     "cellMetadata": {
      "byteLimit": 2048000,
      "rowLimit": 10000
     },
     "inputWidgets": {},
     "nuid": "5fe75a1c-3ed9-4f83-b72a-602b5114302d",
     "showTitle": false,
     "title": ""
    }
   },
   "outputs": [],
   "source": [
    "from pyspark.sql.functions import monotonically_increasing_id\n",
    "\n",
    "# Convertir vector fecha a serie\n",
    "vector_fechas_series = pd.Series(pd.to_datetime(vector_fechas))\n",
    "\n",
    "# Convertir Serie a DataFrame\n",
    "pd_df = vector_fechas_series.to_frame(name=\"Fecha\")\n",
    "\n",
    "# Convertir a Pyspark DF con un id\n",
    "df_series = spark.createDataFrame(pd_df).withColumn(\"Fecha\",to_date(col(\"Fecha\"))).withColumn(\"index\", monotonically_increasing_id())\n",
    "\n",
    "\n",
    "# Agregar id al pyspark df de tabla 1 y 2\n",
    "df_pyspark1 = tabla1.withColumn(\"index\", monotonically_increasing_id())\n",
    "df_pyspark2 = tabla2.withColumn(\"index\", monotonically_increasing_id())\n",
    "\n",
    "# Unir ambos pyspark df\n",
    "df_joined1 = df_pyspark1.join(df_series, on=[\"index\"], how=\"right\").withColumn(\"Fecha\",to_date(col(\"Fecha\"))).drop(\"index\")\n",
    "df_joined2 = df_pyspark2.join(df_series, on=[\"index\"], how=\"right\").withColumn(\"Fecha\",to_date(col(\"Fecha\"))).drop(\"index\")\n",
    "\n",
    "# Ordenar las tablas por la fecha\n",
    "df_joined1 = df_joined1.orderBy('Fecha')\n",
    "df_joined2 = df_joined2.orderBy('Fecha')\n",
    "\n",
    "df_joined1 = df_joined1.fillna(0)\n",
    "df_joined2 = df_joined2.fillna(0)"
   ]
  },
  {
   "cell_type": "markdown",
   "metadata": {
    "application/vnd.databricks.v1+cell": {
     "cellMetadata": {},
     "inputWidgets": {},
     "nuid": "4e6b6384-c850-4481-9122-26f1875dc743",
     "showTitle": false,
     "title": ""
    }
   },
   "source": [
    "### Paso 6 - Convertir a pandas y setear la fecha como indice"
   ]
  },
  {
   "cell_type": "code",
   "execution_count": null,
   "metadata": {
    "application/vnd.databricks.v1+cell": {
     "cellMetadata": {
      "byteLimit": 2048000,
      "rowLimit": 10000
     },
     "inputWidgets": {},
     "nuid": "369cee36-04b6-4031-9a6f-503b61745723",
     "showTitle": false,
     "title": ""
    }
   },
   "outputs": [],
   "source": [
    "# Convertir de pyspark a pd\n",
    "Tabla1_pd = df_joined1.toPandas()\n",
    "Tabla2_pd = df_joined2.toPandas()\n",
    "# Setear las fechas como indices en ambas tablas \n",
    "Tabla1_pd.set_index('Fecha', inplace=True)\n",
    "Tabla2_pd.set_index('Fecha', inplace=True)"
   ]
  },
  {
   "cell_type": "code",
   "execution_count": null,
   "metadata": {
    "application/vnd.databricks.v1+cell": {
     "cellMetadata": {
      "byteLimit": 2048000,
      "rowLimit": 10000
     },
     "inputWidgets": {},
     "nuid": "cf9af053-5f38-4e94-b8d7-12d3aae202ec",
     "showTitle": true,
     "title": "Display de la tabla resultante"
    }
   },
   "outputs": [
    {
     "data": {
      "text/html": [
       "<div>\n",
       "<style scoped>\n",
       "    .dataframe tbody tr th:only-of-type {\n",
       "        vertical-align: middle;\n",
       "    }\n",
       "\n",
       "    .dataframe tbody tr th {\n",
       "        vertical-align: top;\n",
       "    }\n",
       "\n",
       "    .dataframe thead th {\n",
       "        text-align: right;\n",
       "    }\n",
       "</style>\n",
       "<table border=\"1\" class=\"dataframe\">\n",
       "  <thead>\n",
       "    <tr style=\"text-align: right;\">\n",
       "      <th></th>\n",
       "      <th>C TANGANA_4</th>\n",
       "      <th>CUARTETO DE NOS_0</th>\n",
       "      <th>DANNA PAOLA_14</th>\n",
       "      <th>DE TODAS LAS FLORES - NATALIA LAFOURCADE_10</th>\n",
       "      <th>DEMI LOVATO_8</th>\n",
       "      <th>FONSECA VIAJANTE  TOUR - BGTA_9</th>\n",
       "      <th>KANY GARCIA_13</th>\n",
       "      <th>MORAT_11</th>\n",
       "      <th>MORAT_2</th>\n",
       "      <th>MORAT_6</th>\n",
       "      <th>Mon Laferte_7</th>\n",
       "      <th>NATALIA JIMENEZ 20 AÑOS - ANTOLOGIA TOUR (BOGOTA)_12</th>\n",
       "      <th>PISO 21 - LOS MUCHACHOS VUELVEN A BOGOTA_3</th>\n",
       "      <th>SANTIAGO CRUZ: DESPUÉS DE LA TORMENTA TOUR_1</th>\n",
       "      <th>Yatra Tour Bogotá 2019_5</th>\n",
       "    </tr>\n",
       "    <tr>\n",
       "      <th>Fecha</th>\n",
       "      <th></th>\n",
       "      <th></th>\n",
       "      <th></th>\n",
       "      <th></th>\n",
       "      <th></th>\n",
       "      <th></th>\n",
       "      <th></th>\n",
       "      <th></th>\n",
       "      <th></th>\n",
       "      <th></th>\n",
       "      <th></th>\n",
       "      <th></th>\n",
       "      <th></th>\n",
       "      <th></th>\n",
       "      <th></th>\n",
       "    </tr>\n",
       "  </thead>\n",
       "  <tbody>\n",
       "    <tr>\n",
       "      <th>2023-12-04</th>\n",
       "      <td>0.0</td>\n",
       "      <td>6.0</td>\n",
       "      <td>7.0</td>\n",
       "      <td>1350.0</td>\n",
       "      <td>0.0</td>\n",
       "      <td>524.0</td>\n",
       "      <td>0.0</td>\n",
       "      <td>6681.0</td>\n",
       "      <td>16.0</td>\n",
       "      <td>1.0</td>\n",
       "      <td>0.0</td>\n",
       "      <td>120.0</td>\n",
       "      <td>819.0</td>\n",
       "      <td>412.0</td>\n",
       "      <td>631.0</td>\n",
       "    </tr>\n",
       "    <tr>\n",
       "      <th>2023-12-05</th>\n",
       "      <td>0.0</td>\n",
       "      <td>778.0</td>\n",
       "      <td>147.0</td>\n",
       "      <td>3875.0</td>\n",
       "      <td>0.0</td>\n",
       "      <td>828.0</td>\n",
       "      <td>399.0</td>\n",
       "      <td>9366.0</td>\n",
       "      <td>10757.0</td>\n",
       "      <td>1.0</td>\n",
       "      <td>718.0</td>\n",
       "      <td>177.0</td>\n",
       "      <td>1099.0</td>\n",
       "      <td>549.0</td>\n",
       "      <td>1610.0</td>\n",
       "    </tr>\n",
       "    <tr>\n",
       "      <th>2023-12-06</th>\n",
       "      <td>2481.0</td>\n",
       "      <td>1575.0</td>\n",
       "      <td>289.0</td>\n",
       "      <td>4240.0</td>\n",
       "      <td>0.0</td>\n",
       "      <td>1686.0</td>\n",
       "      <td>453.0</td>\n",
       "      <td>9962.0</td>\n",
       "      <td>10778.0</td>\n",
       "      <td>11591.0</td>\n",
       "      <td>2230.0</td>\n",
       "      <td>337.0</td>\n",
       "      <td>1388.0</td>\n",
       "      <td>910.0</td>\n",
       "      <td>2904.0</td>\n",
       "    </tr>\n",
       "    <tr>\n",
       "      <th>2023-12-07</th>\n",
       "      <td>2502.0</td>\n",
       "      <td>2128.0</td>\n",
       "      <td>504.0</td>\n",
       "      <td>5134.0</td>\n",
       "      <td>0.0</td>\n",
       "      <td>1934.0</td>\n",
       "      <td>939.0</td>\n",
       "      <td>10251.0</td>\n",
       "      <td>10788.0</td>\n",
       "      <td>11634.0</td>\n",
       "      <td>2628.0</td>\n",
       "      <td>459.0</td>\n",
       "      <td>1529.0</td>\n",
       "      <td>1030.0</td>\n",
       "      <td>3622.0</td>\n",
       "    </tr>\n",
       "    <tr>\n",
       "      <th>2023-12-08</th>\n",
       "      <td>5899.0</td>\n",
       "      <td>2283.0</td>\n",
       "      <td>560.0</td>\n",
       "      <td>5283.0</td>\n",
       "      <td>0.0</td>\n",
       "      <td>2099.0</td>\n",
       "      <td>1082.0</td>\n",
       "      <td>10504.0</td>\n",
       "      <td>10821.0</td>\n",
       "      <td>11630.0</td>\n",
       "      <td>2745.0</td>\n",
       "      <td>522.0</td>\n",
       "      <td>1597.0</td>\n",
       "      <td>1530.0</td>\n",
       "      <td>4148.0</td>\n",
       "    </tr>\n",
       "    <tr>\n",
       "      <th>...</th>\n",
       "      <td>...</td>\n",
       "      <td>...</td>\n",
       "      <td>...</td>\n",
       "      <td>...</td>\n",
       "      <td>...</td>\n",
       "      <td>...</td>\n",
       "      <td>...</td>\n",
       "      <td>...</td>\n",
       "      <td>...</td>\n",
       "      <td>...</td>\n",
       "      <td>...</td>\n",
       "      <td>...</td>\n",
       "      <td>...</td>\n",
       "      <td>...</td>\n",
       "      <td>...</td>\n",
       "    </tr>\n",
       "    <tr>\n",
       "      <th>2024-05-07</th>\n",
       "      <td>11749.0</td>\n",
       "      <td>5856.0</td>\n",
       "      <td>641.0</td>\n",
       "      <td>10350.0</td>\n",
       "      <td>3675.0</td>\n",
       "      <td>8548.0</td>\n",
       "      <td>6392.0</td>\n",
       "      <td>11692.0</td>\n",
       "      <td>11737.0</td>\n",
       "      <td>11745.0</td>\n",
       "      <td>10416.0</td>\n",
       "      <td>3929.0</td>\n",
       "      <td>4839.0</td>\n",
       "      <td>5297.0</td>\n",
       "      <td>9148.0</td>\n",
       "    </tr>\n",
       "    <tr>\n",
       "      <th>2024-05-08</th>\n",
       "      <td>11749.0</td>\n",
       "      <td>5856.0</td>\n",
       "      <td>641.0</td>\n",
       "      <td>10350.0</td>\n",
       "      <td>3675.0</td>\n",
       "      <td>8548.0</td>\n",
       "      <td>6395.0</td>\n",
       "      <td>11692.0</td>\n",
       "      <td>11737.0</td>\n",
       "      <td>11745.0</td>\n",
       "      <td>10416.0</td>\n",
       "      <td>3929.0</td>\n",
       "      <td>4839.0</td>\n",
       "      <td>5297.0</td>\n",
       "      <td>9148.0</td>\n",
       "    </tr>\n",
       "    <tr>\n",
       "      <th>2024-05-09</th>\n",
       "      <td>11749.0</td>\n",
       "      <td>5856.0</td>\n",
       "      <td>641.0</td>\n",
       "      <td>10350.0</td>\n",
       "      <td>3675.0</td>\n",
       "      <td>8548.0</td>\n",
       "      <td>6396.0</td>\n",
       "      <td>11692.0</td>\n",
       "      <td>11737.0</td>\n",
       "      <td>11745.0</td>\n",
       "      <td>10416.0</td>\n",
       "      <td>3929.0</td>\n",
       "      <td>4839.0</td>\n",
       "      <td>5297.0</td>\n",
       "      <td>9148.0</td>\n",
       "    </tr>\n",
       "    <tr>\n",
       "      <th>2024-05-10</th>\n",
       "      <td>11749.0</td>\n",
       "      <td>5856.0</td>\n",
       "      <td>650.0</td>\n",
       "      <td>10350.0</td>\n",
       "      <td>3675.0</td>\n",
       "      <td>8548.0</td>\n",
       "      <td>6396.0</td>\n",
       "      <td>11692.0</td>\n",
       "      <td>11737.0</td>\n",
       "      <td>11745.0</td>\n",
       "      <td>10416.0</td>\n",
       "      <td>3929.0</td>\n",
       "      <td>4839.0</td>\n",
       "      <td>5297.0</td>\n",
       "      <td>9148.0</td>\n",
       "    </tr>\n",
       "    <tr>\n",
       "      <th>2024-05-11</th>\n",
       "      <td>11749.0</td>\n",
       "      <td>5856.0</td>\n",
       "      <td>650.0</td>\n",
       "      <td>10350.0</td>\n",
       "      <td>3675.0</td>\n",
       "      <td>8548.0</td>\n",
       "      <td>6396.0</td>\n",
       "      <td>11692.0</td>\n",
       "      <td>11737.0</td>\n",
       "      <td>11745.0</td>\n",
       "      <td>10416.0</td>\n",
       "      <td>3929.0</td>\n",
       "      <td>4839.0</td>\n",
       "      <td>5297.0</td>\n",
       "      <td>9148.0</td>\n",
       "    </tr>\n",
       "  </tbody>\n",
       "</table>\n",
       "<p>160 rows × 15 columns</p>\n",
       "</div>"
      ]
     },
     "metadata": {
      "application/vnd.databricks.v1+output": {
       "addedWidgets": {},
       "arguments": {},
       "data": "<div>\n<style scoped>\n    .dataframe tbody tr th:only-of-type {\n        vertical-align: middle;\n    }\n\n    .dataframe tbody tr th {\n        vertical-align: top;\n    }\n\n    .dataframe thead th {\n        text-align: right;\n    }\n</style>\n<table border=\"1\" class=\"dataframe\">\n  <thead>\n    <tr style=\"text-align: right;\">\n      <th></th>\n      <th>C TANGANA_4</th>\n      <th>CUARTETO DE NOS_0</th>\n      <th>DANNA PAOLA_14</th>\n      <th>DE TODAS LAS FLORES - NATALIA LAFOURCADE_10</th>\n      <th>DEMI LOVATO_8</th>\n      <th>FONSECA VIAJANTE  TOUR - BGTA_9</th>\n      <th>KANY GARCIA_13</th>\n      <th>MORAT_11</th>\n      <th>MORAT_2</th>\n      <th>MORAT_6</th>\n      <th>Mon Laferte_7</th>\n      <th>NATALIA JIMENEZ 20 AÑOS - ANTOLOGIA TOUR (BOGOTA)_12</th>\n      <th>PISO 21 - LOS MUCHACHOS VUELVEN A BOGOTA_3</th>\n      <th>SANTIAGO CRUZ: DESPUÉS DE LA TORMENTA TOUR_1</th>\n      <th>Yatra Tour Bogotá 2019_5</th>\n    </tr>\n    <tr>\n      <th>Fecha</th>\n      <th></th>\n      <th></th>\n      <th></th>\n      <th></th>\n      <th></th>\n      <th></th>\n      <th></th>\n      <th></th>\n      <th></th>\n      <th></th>\n      <th></th>\n      <th></th>\n      <th></th>\n      <th></th>\n      <th></th>\n    </tr>\n  </thead>\n  <tbody>\n    <tr>\n      <th>2023-12-04</th>\n      <td>0.0</td>\n      <td>6.0</td>\n      <td>7.0</td>\n      <td>1350.0</td>\n      <td>0.0</td>\n      <td>524.0</td>\n      <td>0.0</td>\n      <td>6681.0</td>\n      <td>16.0</td>\n      <td>1.0</td>\n      <td>0.0</td>\n      <td>120.0</td>\n      <td>819.0</td>\n      <td>412.0</td>\n      <td>631.0</td>\n    </tr>\n    <tr>\n      <th>2023-12-05</th>\n      <td>0.0</td>\n      <td>778.0</td>\n      <td>147.0</td>\n      <td>3875.0</td>\n      <td>0.0</td>\n      <td>828.0</td>\n      <td>399.0</td>\n      <td>9366.0</td>\n      <td>10757.0</td>\n      <td>1.0</td>\n      <td>718.0</td>\n      <td>177.0</td>\n      <td>1099.0</td>\n      <td>549.0</td>\n      <td>1610.0</td>\n    </tr>\n    <tr>\n      <th>2023-12-06</th>\n      <td>2481.0</td>\n      <td>1575.0</td>\n      <td>289.0</td>\n      <td>4240.0</td>\n      <td>0.0</td>\n      <td>1686.0</td>\n      <td>453.0</td>\n      <td>9962.0</td>\n      <td>10778.0</td>\n      <td>11591.0</td>\n      <td>2230.0</td>\n      <td>337.0</td>\n      <td>1388.0</td>\n      <td>910.0</td>\n      <td>2904.0</td>\n    </tr>\n    <tr>\n      <th>2023-12-07</th>\n      <td>2502.0</td>\n      <td>2128.0</td>\n      <td>504.0</td>\n      <td>5134.0</td>\n      <td>0.0</td>\n      <td>1934.0</td>\n      <td>939.0</td>\n      <td>10251.0</td>\n      <td>10788.0</td>\n      <td>11634.0</td>\n      <td>2628.0</td>\n      <td>459.0</td>\n      <td>1529.0</td>\n      <td>1030.0</td>\n      <td>3622.0</td>\n    </tr>\n    <tr>\n      <th>2023-12-08</th>\n      <td>5899.0</td>\n      <td>2283.0</td>\n      <td>560.0</td>\n      <td>5283.0</td>\n      <td>0.0</td>\n      <td>2099.0</td>\n      <td>1082.0</td>\n      <td>10504.0</td>\n      <td>10821.0</td>\n      <td>11630.0</td>\n      <td>2745.0</td>\n      <td>522.0</td>\n      <td>1597.0</td>\n      <td>1530.0</td>\n      <td>4148.0</td>\n    </tr>\n    <tr>\n      <th>...</th>\n      <td>...</td>\n      <td>...</td>\n      <td>...</td>\n      <td>...</td>\n      <td>...</td>\n      <td>...</td>\n      <td>...</td>\n      <td>...</td>\n      <td>...</td>\n      <td>...</td>\n      <td>...</td>\n      <td>...</td>\n      <td>...</td>\n      <td>...</td>\n      <td>...</td>\n    </tr>\n    <tr>\n      <th>2024-05-07</th>\n      <td>11749.0</td>\n      <td>5856.0</td>\n      <td>641.0</td>\n      <td>10350.0</td>\n      <td>3675.0</td>\n      <td>8548.0</td>\n      <td>6392.0</td>\n      <td>11692.0</td>\n      <td>11737.0</td>\n      <td>11745.0</td>\n      <td>10416.0</td>\n      <td>3929.0</td>\n      <td>4839.0</td>\n      <td>5297.0</td>\n      <td>9148.0</td>\n    </tr>\n    <tr>\n      <th>2024-05-08</th>\n      <td>11749.0</td>\n      <td>5856.0</td>\n      <td>641.0</td>\n      <td>10350.0</td>\n      <td>3675.0</td>\n      <td>8548.0</td>\n      <td>6395.0</td>\n      <td>11692.0</td>\n      <td>11737.0</td>\n      <td>11745.0</td>\n      <td>10416.0</td>\n      <td>3929.0</td>\n      <td>4839.0</td>\n      <td>5297.0</td>\n      <td>9148.0</td>\n    </tr>\n    <tr>\n      <th>2024-05-09</th>\n      <td>11749.0</td>\n      <td>5856.0</td>\n      <td>641.0</td>\n      <td>10350.0</td>\n      <td>3675.0</td>\n      <td>8548.0</td>\n      <td>6396.0</td>\n      <td>11692.0</td>\n      <td>11737.0</td>\n      <td>11745.0</td>\n      <td>10416.0</td>\n      <td>3929.0</td>\n      <td>4839.0</td>\n      <td>5297.0</td>\n      <td>9148.0</td>\n    </tr>\n    <tr>\n      <th>2024-05-10</th>\n      <td>11749.0</td>\n      <td>5856.0</td>\n      <td>650.0</td>\n      <td>10350.0</td>\n      <td>3675.0</td>\n      <td>8548.0</td>\n      <td>6396.0</td>\n      <td>11692.0</td>\n      <td>11737.0</td>\n      <td>11745.0</td>\n      <td>10416.0</td>\n      <td>3929.0</td>\n      <td>4839.0</td>\n      <td>5297.0</td>\n      <td>9148.0</td>\n    </tr>\n    <tr>\n      <th>2024-05-11</th>\n      <td>11749.0</td>\n      <td>5856.0</td>\n      <td>650.0</td>\n      <td>10350.0</td>\n      <td>3675.0</td>\n      <td>8548.0</td>\n      <td>6396.0</td>\n      <td>11692.0</td>\n      <td>11737.0</td>\n      <td>11745.0</td>\n      <td>10416.0</td>\n      <td>3929.0</td>\n      <td>4839.0</td>\n      <td>5297.0</td>\n      <td>9148.0</td>\n    </tr>\n  </tbody>\n</table>\n<p>160 rows × 15 columns</p>\n</div>",
       "datasetInfos": [],
       "metadata": {},
       "removedWidgets": [],
       "textData": null,
       "type": "htmlSandbox"
      }
     },
     "output_type": "display_data"
    }
   ],
   "source": [
    "Tabla1_pd"
   ]
  },
  {
   "cell_type": "code",
   "execution_count": null,
   "metadata": {
    "application/vnd.databricks.v1+cell": {
     "cellMetadata": {
      "byteLimit": 2048000,
      "rowLimit": 10000
     },
     "inputWidgets": {},
     "nuid": "310fec9e-53aa-4335-a681-554d71d5f181",
     "showTitle": false,
     "title": ""
    }
   },
   "outputs": [
    {
     "data": {
      "text/html": [
       "<div>\n",
       "<style scoped>\n",
       "    .dataframe tbody tr th:only-of-type {\n",
       "        vertical-align: middle;\n",
       "    }\n",
       "\n",
       "    .dataframe tbody tr th {\n",
       "        vertical-align: top;\n",
       "    }\n",
       "\n",
       "    .dataframe thead th {\n",
       "        text-align: right;\n",
       "    }\n",
       "</style>\n",
       "<table border=\"1\" class=\"dataframe\">\n",
       "  <thead>\n",
       "    <tr style=\"text-align: right;\">\n",
       "      <th></th>\n",
       "      <th>DEMI LOVATO_9</th>\n",
       "      <th>Fonseca Simples Corazones Tour - Bogotá_1</th>\n",
       "      <th>JESÚS ADRIÁN  ROMERO TOUR 2023_14</th>\n",
       "      <th>Jonas Brothers_7</th>\n",
       "      <th>MILEY CYRUS_13</th>\n",
       "      <th>MORAT_0</th>\n",
       "      <th>MORAT_11</th>\n",
       "      <th>MORAT_12</th>\n",
       "      <th>MORAT_2</th>\n",
       "      <th>MORAT_6</th>\n",
       "      <th>Morat en Concierto_3</th>\n",
       "      <th>QUEVEDO - LATINOAMERICA \"DQE\" TOUR_10</th>\n",
       "      <th>REIK ENCAMBIO_8</th>\n",
       "      <th>Yatra Tour Bogotá 2019_4</th>\n",
       "      <th>Yatra Tour Bogotá 2019_5</th>\n",
       "    </tr>\n",
       "    <tr>\n",
       "      <th>Fecha</th>\n",
       "      <th></th>\n",
       "      <th></th>\n",
       "      <th></th>\n",
       "      <th></th>\n",
       "      <th></th>\n",
       "      <th></th>\n",
       "      <th></th>\n",
       "      <th></th>\n",
       "      <th></th>\n",
       "      <th></th>\n",
       "      <th></th>\n",
       "      <th></th>\n",
       "      <th></th>\n",
       "      <th></th>\n",
       "      <th></th>\n",
       "    </tr>\n",
       "  </thead>\n",
       "  <tbody>\n",
       "    <tr>\n",
       "      <th>2021-12-13</th>\n",
       "      <td>0.0</td>\n",
       "      <td>1.0</td>\n",
       "      <td>0.0</td>\n",
       "      <td>1590.0</td>\n",
       "      <td>0.0</td>\n",
       "      <td>0.0</td>\n",
       "      <td>0.0</td>\n",
       "      <td>6681.0</td>\n",
       "      <td>16.0</td>\n",
       "      <td>1.0</td>\n",
       "      <td>1.0</td>\n",
       "      <td>7.0</td>\n",
       "      <td>2378.0</td>\n",
       "      <td>631.0</td>\n",
       "      <td>494.0</td>\n",
       "    </tr>\n",
       "    <tr>\n",
       "      <th>2021-12-14</th>\n",
       "      <td>0.0</td>\n",
       "      <td>0.0</td>\n",
       "      <td>0.0</td>\n",
       "      <td>2764.0</td>\n",
       "      <td>5829.0</td>\n",
       "      <td>0.0</td>\n",
       "      <td>3692.0</td>\n",
       "      <td>2685.0</td>\n",
       "      <td>10741.0</td>\n",
       "      <td>0.0</td>\n",
       "      <td>-1.0</td>\n",
       "      <td>1100.0</td>\n",
       "      <td>414.0</td>\n",
       "      <td>979.0</td>\n",
       "      <td>486.0</td>\n",
       "    </tr>\n",
       "    <tr>\n",
       "      <th>2021-12-15</th>\n",
       "      <td>0.0</td>\n",
       "      <td>0.0</td>\n",
       "      <td>0.0</td>\n",
       "      <td>399.0</td>\n",
       "      <td>739.0</td>\n",
       "      <td>911.0</td>\n",
       "      <td>1062.0</td>\n",
       "      <td>596.0</td>\n",
       "      <td>21.0</td>\n",
       "      <td>11590.0</td>\n",
       "      <td>0.0</td>\n",
       "      <td>709.0</td>\n",
       "      <td>292.0</td>\n",
       "      <td>1294.0</td>\n",
       "      <td>1351.0</td>\n",
       "    </tr>\n",
       "    <tr>\n",
       "      <th>2021-12-16</th>\n",
       "      <td>0.0</td>\n",
       "      <td>0.0</td>\n",
       "      <td>48.0</td>\n",
       "      <td>2361.0</td>\n",
       "      <td>3597.0</td>\n",
       "      <td>235.0</td>\n",
       "      <td>1099.0</td>\n",
       "      <td>289.0</td>\n",
       "      <td>10.0</td>\n",
       "      <td>43.0</td>\n",
       "      <td>0.0</td>\n",
       "      <td>1657.0</td>\n",
       "      <td>123.0</td>\n",
       "      <td>718.0</td>\n",
       "      <td>554.0</td>\n",
       "    </tr>\n",
       "    <tr>\n",
       "      <th>2021-12-17</th>\n",
       "      <td>0.0</td>\n",
       "      <td>0.0</td>\n",
       "      <td>34.0</td>\n",
       "      <td>253.0</td>\n",
       "      <td>66.0</td>\n",
       "      <td>1518.0</td>\n",
       "      <td>542.0</td>\n",
       "      <td>253.0</td>\n",
       "      <td>33.0</td>\n",
       "      <td>-4.0</td>\n",
       "      <td>0.0</td>\n",
       "      <td>289.0</td>\n",
       "      <td>78.0</td>\n",
       "      <td>526.0</td>\n",
       "      <td>398.0</td>\n",
       "    </tr>\n",
       "    <tr>\n",
       "      <th>...</th>\n",
       "      <td>...</td>\n",
       "      <td>...</td>\n",
       "      <td>...</td>\n",
       "      <td>...</td>\n",
       "      <td>...</td>\n",
       "      <td>...</td>\n",
       "      <td>...</td>\n",
       "      <td>...</td>\n",
       "      <td>...</td>\n",
       "      <td>...</td>\n",
       "      <td>...</td>\n",
       "      <td>...</td>\n",
       "      <td>...</td>\n",
       "      <td>...</td>\n",
       "      <td>...</td>\n",
       "    </tr>\n",
       "    <tr>\n",
       "      <th>2022-04-16</th>\n",
       "      <td>0.0</td>\n",
       "      <td>0.0</td>\n",
       "      <td>0.0</td>\n",
       "      <td>36.0</td>\n",
       "      <td>0.0</td>\n",
       "      <td>0.0</td>\n",
       "      <td>0.0</td>\n",
       "      <td>357.0</td>\n",
       "      <td>0.0</td>\n",
       "      <td>0.0</td>\n",
       "      <td>0.0</td>\n",
       "      <td>0.0</td>\n",
       "      <td>0.0</td>\n",
       "      <td>0.0</td>\n",
       "      <td>0.0</td>\n",
       "    </tr>\n",
       "    <tr>\n",
       "      <th>2022-04-17</th>\n",
       "      <td>0.0</td>\n",
       "      <td>0.0</td>\n",
       "      <td>0.0</td>\n",
       "      <td>42.0</td>\n",
       "      <td>0.0</td>\n",
       "      <td>0.0</td>\n",
       "      <td>0.0</td>\n",
       "      <td>269.0</td>\n",
       "      <td>166.0</td>\n",
       "      <td>1.0</td>\n",
       "      <td>0.0</td>\n",
       "      <td>0.0</td>\n",
       "      <td>0.0</td>\n",
       "      <td>0.0</td>\n",
       "      <td>0.0</td>\n",
       "    </tr>\n",
       "    <tr>\n",
       "      <th>2022-04-18</th>\n",
       "      <td>0.0</td>\n",
       "      <td>0.0</td>\n",
       "      <td>0.0</td>\n",
       "      <td>36.0</td>\n",
       "      <td>0.0</td>\n",
       "      <td>0.0</td>\n",
       "      <td>0.0</td>\n",
       "      <td>8.0</td>\n",
       "      <td>136.0</td>\n",
       "      <td>201.0</td>\n",
       "      <td>0.0</td>\n",
       "      <td>0.0</td>\n",
       "      <td>0.0</td>\n",
       "      <td>0.0</td>\n",
       "      <td>0.0</td>\n",
       "    </tr>\n",
       "    <tr>\n",
       "      <th>2022-04-19</th>\n",
       "      <td>0.0</td>\n",
       "      <td>0.0</td>\n",
       "      <td>0.0</td>\n",
       "      <td>71.0</td>\n",
       "      <td>0.0</td>\n",
       "      <td>0.0</td>\n",
       "      <td>0.0</td>\n",
       "      <td>73.0</td>\n",
       "      <td>293.0</td>\n",
       "      <td>121.0</td>\n",
       "      <td>0.0</td>\n",
       "      <td>0.0</td>\n",
       "      <td>0.0</td>\n",
       "      <td>0.0</td>\n",
       "      <td>0.0</td>\n",
       "    </tr>\n",
       "    <tr>\n",
       "      <th>2022-04-20</th>\n",
       "      <td>0.0</td>\n",
       "      <td>0.0</td>\n",
       "      <td>0.0</td>\n",
       "      <td>131.0</td>\n",
       "      <td>0.0</td>\n",
       "      <td>0.0</td>\n",
       "      <td>0.0</td>\n",
       "      <td>0.0</td>\n",
       "      <td>0.0</td>\n",
       "      <td>5.0</td>\n",
       "      <td>0.0</td>\n",
       "      <td>0.0</td>\n",
       "      <td>0.0</td>\n",
       "      <td>0.0</td>\n",
       "      <td>0.0</td>\n",
       "    </tr>\n",
       "  </tbody>\n",
       "</table>\n",
       "<p>129 rows × 15 columns</p>\n",
       "</div>"
      ]
     },
     "metadata": {
      "application/vnd.databricks.v1+output": {
       "addedWidgets": {},
       "arguments": {},
       "data": "<div>\n<style scoped>\n    .dataframe tbody tr th:only-of-type {\n        vertical-align: middle;\n    }\n\n    .dataframe tbody tr th {\n        vertical-align: top;\n    }\n\n    .dataframe thead th {\n        text-align: right;\n    }\n</style>\n<table border=\"1\" class=\"dataframe\">\n  <thead>\n    <tr style=\"text-align: right;\">\n      <th></th>\n      <th>DEMI LOVATO_9</th>\n      <th>Fonseca Simples Corazones Tour - Bogotá_1</th>\n      <th>JESÚS ADRIÁN  ROMERO TOUR 2023_14</th>\n      <th>Jonas Brothers_7</th>\n      <th>MILEY CYRUS_13</th>\n      <th>MORAT_0</th>\n      <th>MORAT_11</th>\n      <th>MORAT_12</th>\n      <th>MORAT_2</th>\n      <th>MORAT_6</th>\n      <th>Morat en Concierto_3</th>\n      <th>QUEVEDO - LATINOAMERICA \"DQE\" TOUR_10</th>\n      <th>REIK ENCAMBIO_8</th>\n      <th>Yatra Tour Bogotá 2019_4</th>\n      <th>Yatra Tour Bogotá 2019_5</th>\n    </tr>\n    <tr>\n      <th>Fecha</th>\n      <th></th>\n      <th></th>\n      <th></th>\n      <th></th>\n      <th></th>\n      <th></th>\n      <th></th>\n      <th></th>\n      <th></th>\n      <th></th>\n      <th></th>\n      <th></th>\n      <th></th>\n      <th></th>\n      <th></th>\n    </tr>\n  </thead>\n  <tbody>\n    <tr>\n      <th>2021-12-13</th>\n      <td>0.0</td>\n      <td>1.0</td>\n      <td>0.0</td>\n      <td>1590.0</td>\n      <td>0.0</td>\n      <td>0.0</td>\n      <td>0.0</td>\n      <td>6681.0</td>\n      <td>16.0</td>\n      <td>1.0</td>\n      <td>1.0</td>\n      <td>7.0</td>\n      <td>2378.0</td>\n      <td>631.0</td>\n      <td>494.0</td>\n    </tr>\n    <tr>\n      <th>2021-12-14</th>\n      <td>0.0</td>\n      <td>0.0</td>\n      <td>0.0</td>\n      <td>2764.0</td>\n      <td>5829.0</td>\n      <td>0.0</td>\n      <td>3692.0</td>\n      <td>2685.0</td>\n      <td>10741.0</td>\n      <td>0.0</td>\n      <td>-1.0</td>\n      <td>1100.0</td>\n      <td>414.0</td>\n      <td>979.0</td>\n      <td>486.0</td>\n    </tr>\n    <tr>\n      <th>2021-12-15</th>\n      <td>0.0</td>\n      <td>0.0</td>\n      <td>0.0</td>\n      <td>399.0</td>\n      <td>739.0</td>\n      <td>911.0</td>\n      <td>1062.0</td>\n      <td>596.0</td>\n      <td>21.0</td>\n      <td>11590.0</td>\n      <td>0.0</td>\n      <td>709.0</td>\n      <td>292.0</td>\n      <td>1294.0</td>\n      <td>1351.0</td>\n    </tr>\n    <tr>\n      <th>2021-12-16</th>\n      <td>0.0</td>\n      <td>0.0</td>\n      <td>48.0</td>\n      <td>2361.0</td>\n      <td>3597.0</td>\n      <td>235.0</td>\n      <td>1099.0</td>\n      <td>289.0</td>\n      <td>10.0</td>\n      <td>43.0</td>\n      <td>0.0</td>\n      <td>1657.0</td>\n      <td>123.0</td>\n      <td>718.0</td>\n      <td>554.0</td>\n    </tr>\n    <tr>\n      <th>2021-12-17</th>\n      <td>0.0</td>\n      <td>0.0</td>\n      <td>34.0</td>\n      <td>253.0</td>\n      <td>66.0</td>\n      <td>1518.0</td>\n      <td>542.0</td>\n      <td>253.0</td>\n      <td>33.0</td>\n      <td>-4.0</td>\n      <td>0.0</td>\n      <td>289.0</td>\n      <td>78.0</td>\n      <td>526.0</td>\n      <td>398.0</td>\n    </tr>\n    <tr>\n      <th>...</th>\n      <td>...</td>\n      <td>...</td>\n      <td>...</td>\n      <td>...</td>\n      <td>...</td>\n      <td>...</td>\n      <td>...</td>\n      <td>...</td>\n      <td>...</td>\n      <td>...</td>\n      <td>...</td>\n      <td>...</td>\n      <td>...</td>\n      <td>...</td>\n      <td>...</td>\n    </tr>\n    <tr>\n      <th>2022-04-16</th>\n      <td>0.0</td>\n      <td>0.0</td>\n      <td>0.0</td>\n      <td>36.0</td>\n      <td>0.0</td>\n      <td>0.0</td>\n      <td>0.0</td>\n      <td>357.0</td>\n      <td>0.0</td>\n      <td>0.0</td>\n      <td>0.0</td>\n      <td>0.0</td>\n      <td>0.0</td>\n      <td>0.0</td>\n      <td>0.0</td>\n    </tr>\n    <tr>\n      <th>2022-04-17</th>\n      <td>0.0</td>\n      <td>0.0</td>\n      <td>0.0</td>\n      <td>42.0</td>\n      <td>0.0</td>\n      <td>0.0</td>\n      <td>0.0</td>\n      <td>269.0</td>\n      <td>166.0</td>\n      <td>1.0</td>\n      <td>0.0</td>\n      <td>0.0</td>\n      <td>0.0</td>\n      <td>0.0</td>\n      <td>0.0</td>\n    </tr>\n    <tr>\n      <th>2022-04-18</th>\n      <td>0.0</td>\n      <td>0.0</td>\n      <td>0.0</td>\n      <td>36.0</td>\n      <td>0.0</td>\n      <td>0.0</td>\n      <td>0.0</td>\n      <td>8.0</td>\n      <td>136.0</td>\n      <td>201.0</td>\n      <td>0.0</td>\n      <td>0.0</td>\n      <td>0.0</td>\n      <td>0.0</td>\n      <td>0.0</td>\n    </tr>\n    <tr>\n      <th>2022-04-19</th>\n      <td>0.0</td>\n      <td>0.0</td>\n      <td>0.0</td>\n      <td>71.0</td>\n      <td>0.0</td>\n      <td>0.0</td>\n      <td>0.0</td>\n      <td>73.0</td>\n      <td>293.0</td>\n      <td>121.0</td>\n      <td>0.0</td>\n      <td>0.0</td>\n      <td>0.0</td>\n      <td>0.0</td>\n      <td>0.0</td>\n    </tr>\n    <tr>\n      <th>2022-04-20</th>\n      <td>0.0</td>\n      <td>0.0</td>\n      <td>0.0</td>\n      <td>131.0</td>\n      <td>0.0</td>\n      <td>0.0</td>\n      <td>0.0</td>\n      <td>0.0</td>\n      <td>0.0</td>\n      <td>5.0</td>\n      <td>0.0</td>\n      <td>0.0</td>\n      <td>0.0</td>\n      <td>0.0</td>\n      <td>0.0</td>\n    </tr>\n  </tbody>\n</table>\n<p>129 rows × 15 columns</p>\n</div>",
       "datasetInfos": [],
       "metadata": {},
       "removedWidgets": [],
       "textData": null,
       "type": "htmlSandbox"
      }
     },
     "output_type": "display_data"
    }
   ],
   "source": [
    "# Tabla2_pd2 = Tabla2_pd.iloc[:-25, :]\n",
    "Tabla2_pd"
   ]
  },
  {
   "cell_type": "code",
   "execution_count": null,
   "metadata": {
    "application/vnd.databricks.v1+cell": {
     "cellMetadata": {
      "byteLimit": 2048000,
      "rowLimit": 10000
     },
     "inputWidgets": {},
     "nuid": "cc62b030-8fe0-4bba-88c5-dd5bc988ed94",
     "showTitle": false,
     "title": ""
    }
   },
   "outputs": [
    {
     "data": {
      "text/plain": [
       "\u001b[0;31m---------------------------------------------------------------------------\u001b[0m\n",
       "\u001b[0;31mNameError\u001b[0m                                 Traceback (most recent call last)\n",
       "File \u001b[0;32m<command-2404329851314870>:1\u001b[0m\n",
       "\u001b[0;32m----> 1\u001b[0m plt\u001b[38;5;241m.\u001b[39mplot(Tabla2_pd2)\n",
       "\u001b[1;32m      2\u001b[0m plt\u001b[38;5;241m.\u001b[39mtitle(\u001b[38;5;124m'\u001b[39m\u001b[38;5;124mTime Series Data\u001b[39m\u001b[38;5;124m'\u001b[39m)\n",
       "\u001b[1;32m      3\u001b[0m plt\u001b[38;5;241m.\u001b[39mxlabel(\u001b[38;5;124m'\u001b[39m\u001b[38;5;124mTime\u001b[39m\u001b[38;5;124m'\u001b[39m)\n",
       "\n",
       "\u001b[0;31mNameError\u001b[0m: name 'Tabla2_pd2' is not defined"
      ]
     },
     "metadata": {
      "application/vnd.databricks.v1+output": {
       "arguments": {},
       "data": "\u001b[0;31m---------------------------------------------------------------------------\u001b[0m\n\u001b[0;31mNameError\u001b[0m                                 Traceback (most recent call last)\nFile \u001b[0;32m<command-2404329851314870>:1\u001b[0m\n\u001b[0;32m----> 1\u001b[0m plt\u001b[38;5;241m.\u001b[39mplot(Tabla2_pd2)\n\u001b[1;32m      2\u001b[0m plt\u001b[38;5;241m.\u001b[39mtitle(\u001b[38;5;124m'\u001b[39m\u001b[38;5;124mTime Series Data\u001b[39m\u001b[38;5;124m'\u001b[39m)\n\u001b[1;32m      3\u001b[0m plt\u001b[38;5;241m.\u001b[39mxlabel(\u001b[38;5;124m'\u001b[39m\u001b[38;5;124mTime\u001b[39m\u001b[38;5;124m'\u001b[39m)\n\n\u001b[0;31mNameError\u001b[0m: name 'Tabla2_pd2' is not defined",
       "errorSummary": "<span class='ansi-red-fg'>NameError</span>: name 'Tabla2_pd2' is not defined",
       "errorTraceType": "ansi",
       "metadata": {},
       "type": "ipynbError"
      }
     },
     "output_type": "display_data"
    }
   ],
   "source": [
    "plt.plot(Tabla2_pd2)\n",
    "plt.title('Time Series Data')\n",
    "plt.xlabel('Time')\n",
    "plt.ylabel('Value')\n",
    "plt.show()"
   ]
  },
  {
   "cell_type": "markdown",
   "metadata": {
    "application/vnd.databricks.v1+cell": {
     "cellMetadata": {},
     "inputWidgets": {},
     "nuid": "a78d5354-035e-45c9-90b0-165ce9a8260f",
     "showTitle": false,
     "title": ""
    }
   },
   "source": [
    "# LSTM"
   ]
  },
  {
   "cell_type": "markdown",
   "metadata": {
    "application/vnd.databricks.v1+cell": {
     "cellMetadata": {},
     "inputWidgets": {},
     "nuid": "5870cc18-7fd6-4306-89fc-1593a4941d93",
     "showTitle": false,
     "title": ""
    }
   },
   "source": [
    "### Selección de variables y division de datos en training y testing\n",
    "\n",
    "**Nota:** Inicialmente, se utilizo unicametne la variable correspondiente a la serie de Monlaferte"
   ]
  },
  {
   "cell_type": "code",
   "execution_count": null,
   "metadata": {
    "application/vnd.databricks.v1+cell": {
     "cellMetadata": {
      "byteLimit": 2048000,
      "rowLimit": 10000
     },
     "inputWidgets": {},
     "nuid": "2518e7b7-5c06-4491-bf66-256e398e515b",
     "showTitle": false,
     "title": ""
    }
   },
   "outputs": [
    {
     "name": "stdout",
     "output_type": "stream",
     "text": [
      "Index(['DEMI LOVATO_9', 'Fonseca Simples Corazones Tour - Bogotá_1',\n",
      "       'JESÚS ADRIÁN  ROMERO TOUR 2023_14', 'Jonas Brothers_7',\n",
      "       'MILEY CYRUS_13', 'MORAT_0', 'MORAT_11', 'MORAT_12', 'MORAT_2',\n",
      "       'MORAT_6', 'Morat en Concierto_3',\n",
      "       'QUEVEDO - LATINOAMERICA \"DQE\" TOUR_10', 'REIK ENCAMBIO_8',\n",
      "       'Yatra Tour Bogotá 2019_4', 'Yatra Tour Bogotá 2019_5'],\n",
      "      dtype='object')\n"
     ]
    }
   ],
   "source": [
    "print(Tabla2_pd.columns)"
   ]
  },
  {
   "cell_type": "code",
   "execution_count": null,
   "metadata": {
    "application/vnd.databricks.v1+cell": {
     "cellMetadata": {
      "byteLimit": 2048000,
      "rowLimit": 10000
     },
     "inputWidgets": {},
     "nuid": "b8f53e23-316a-44bb-a00b-c4edd88f30bc",
     "showTitle": true,
     "title": "Serie de Usar"
    }
   },
   "outputs": [
    {
     "name": "stdout",
     "output_type": "stream",
     "text": [
      "Out[23]: (129, 4)"
     ]
    }
   ],
   "source": [
    "## Mon laferte - Fonseca\n",
    "# selected_columns = Tabla1_pd[['FONSECA VIAJANTE  TOUR - BGTA_9','Mon Laferte_7','DE TODAS LAS FLORES - NATALIA LAFOURCADE_10','Yatra Tour Bogotá 2019_5']]\n",
    "\n",
    "selected_columns = Tabla1_pd[['MILEY CYRUS_13','QUEVEDO - LATINOAMERICA \"DQE\" TOUR_10','Yatra Tour Bogotá 2019_4','Jonas Brothers_7']]\n",
    "\n",
    "values = selected_columns.values\n",
    "Eventos = values#[:-25]\n",
    "Eventos.shape\n"
   ]
  },
  {
   "cell_type": "code",
   "execution_count": null,
   "metadata": {
    "application/vnd.databricks.v1+cell": {
     "cellMetadata": {
      "byteLimit": 2048000,
      "rowLimit": 10000
     },
     "inputWidgets": {},
     "nuid": "9f9e3bba-1b52-461e-a29c-31b84d302ad5",
     "showTitle": false,
     "title": ""
    }
   },
   "outputs": [
    {
     "data": {
      "image/png": "[encoded data removed]"
     },
     "metadata": {
      "application/vnd.databricks.v1+output": {
       "addedWidgets": {},
       "arguments": {},
       "data": "data:image/png;base64,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\n",
       "datasetInfos": [],
       "metadata": {},
       "removedWidgets": [],
       "type": "image"
      }
     },
     "output_type": "display_data"
    }
   ],
   "source": [
    "# Visualize the series\n",
    "plt.plot(Eventos)\n",
    "plt.title('Time Series Data')\n",
    "plt.xlabel('Time')\n",
    "plt.ylabel('Value')\n",
    "plt.show()"
   ]
  },
  {
   "cell_type": "code",
   "execution_count": null,
   "metadata": {
    "application/vnd.databricks.v1+cell": {
     "cellMetadata": {
      "byteLimit": 2048000,
      "rowLimit": 10000
     },
     "inputWidgets": {},
     "nuid": "ba70a9c8-a70a-4808-9880-469cec0046d7",
     "showTitle": false,
     "title": ""
    }
   },
   "outputs": [],
   "source": []
  },
  {
   "cell_type": "markdown",
   "metadata": {
    "application/vnd.databricks.v1+cell": {
     "cellMetadata": {},
     "inputWidgets": {},
     "nuid": "9b577d52-9c6c-4369-98b2-c928a86efb0d",
     "showTitle": false,
     "title": ""
    }
   },
   "source": [
    "### Transformaciones"
   ]
  },
  {
   "cell_type": "code",
   "execution_count": null,
   "metadata": {
    "application/vnd.databricks.v1+cell": {
     "cellMetadata": {
      "byteLimit": 2048000,
      "rowLimit": 10000
     },
     "inputWidgets": {},
     "nuid": "8004cd5c-b145-4cfa-9a03-94bb20b95f92",
     "showTitle": true,
     "title": "MinMax Scaler"
    }
   },
   "outputs": [],
   "source": [
    "scaler_MinMax = MinMaxScaler(feature_range=(-1, 1))\n",
    "# scaled_train_data = scaler_MinMax.fit_transform(train_data)\n",
    "# scaled_test_data = scaler_MinMax.fit_transform(test_data)\n",
    "scaled_Eventos = scaler_MinMax.fit_transform(Eventos)"
   ]
  },
  {
   "cell_type": "code",
   "execution_count": null,
   "metadata": {
    "application/vnd.databricks.v1+cell": {
     "cellMetadata": {
      "byteLimit": 2048000,
      "rowLimit": 10000
     },
     "inputWidgets": {},
     "nuid": "2b839fe6-982f-46b2-98fa-7800bf249790",
     "showTitle": true,
     "title": "Standard Scaler"
    }
   },
   "outputs": [],
   "source": [
    "from sklearn.preprocessing import StandardScaler\n",
    "\n",
    "# Create an instance of StandardScaler\n",
    "scaler_Standard = StandardScaler()\n",
    "\n",
    "# # Fit the scaler to the training data and transform it\n",
    "# scaled_train_data = scaler_Standard.fit_transform(scaled_train_data)\n",
    "\n",
    "# # Use the same scaler to transform the test data\n",
    "# scaled_test_data = scaler_Standard.transform(scaled_test_data)\n",
    "\n",
    "\n",
    "scaled_Eventos = scaler_Standard.fit_transform(scaled_Eventos)\n"
   ]
  },
  {
   "cell_type": "code",
   "execution_count": null,
   "metadata": {
    "application/vnd.databricks.v1+cell": {
     "cellMetadata": {
      "byteLimit": 2048000,
      "rowLimit": 10000
     },
     "inputWidgets": {},
     "nuid": "edae1f30-9181-4b3b-bc60-b5a0b34657a3",
     "showTitle": false,
     "title": ""
    }
   },
   "outputs": [],
   "source": [
    "train_size = int(len(scaled_Eventos) * 0.75)\n",
    "train_data = scaled_Eventos[:train_size]\n",
    "test_data = scaled_Eventos[train_size:]"
   ]
  },
  {
   "cell_type": "markdown",
   "metadata": {
    "application/vnd.databricks.v1+cell": {
     "cellMetadata": {},
     "inputWidgets": {},
     "nuid": "a2c25a80-b206-4b57-9533-100b86fe2993",
     "showTitle": false,
     "title": ""
    }
   },
   "source": [
    "### Adaptación de los datos para el input de las capas del LSTM\n",
    "\n",
    "La estructura debe ser X un arreglo de 3 dimensiones (A x B x C):\n",
    " - A := # de secuencias\n",
    " - B := longitud de cada secuencia\n",
    " - C := # de variables"
   ]
  },
  {
   "cell_type": "code",
   "execution_count": null,
   "metadata": {
    "application/vnd.databricks.v1+cell": {
     "cellMetadata": {
      "byteLimit": 2048000,
      "rowLimit": 10000
     },
     "inputWidgets": {},
     "nuid": "85437e9c-5052-4f8a-a409-017184ac0dab",
     "showTitle": false,
     "title": ""
    }
   },
   "outputs": [
    {
     "name": "stdout",
     "output_type": "stream",
     "text": [
      "X_train tiene tamaño: (90, 6, 4)\n",
      "y_train tiene tamaño: (90, 1)\n",
      "X_test tiene tamaño: (27, 6, 4)\n",
      "y_test tiene tamaño: (27, 1)\n"
     ]
    }
   ],
   "source": [
    "def create_dataset(data, time_steps=10):\n",
    "    X, y = [], []\n",
    "    for i in range(len(data) - time_steps):\n",
    "        v = data[i:(i + time_steps), :]  # Extraer la secuencia con todas las características\n",
    "        X.append(v)\n",
    "        y.append(data[i + time_steps, 0])  # Asumiendo que queremos predecir la primera característica\n",
    "    X = np.array(X)\n",
    "    X = X.reshape(X.shape[0], X.shape[1], data.shape[1])  # Reestructuración a [muestras, pasos de tiempo, características]\n",
    "    y = np.array(y).reshape(-1, 1)\n",
    "    return X, y\n",
    "\n",
    "len_seq = 6 # FUNCIONO MUY BIEN CON 3\n",
    "# Aplicar la función a los datos de entrenamiento y prueba\n",
    "X_train, y_train = create_dataset(train_data, len_seq)\n",
    "X_test, y_test = create_dataset(test_data, len_seq)\n",
    "\n",
    "print(\"X_train tiene tamaño: \" + str(X_train.shape))\n",
    "print(\"y_train tiene tamaño: \" + str(y_train.shape))\n",
    "print(\"X_test tiene tamaño: \" + str(X_test.shape))\n",
    "print(\"y_test tiene tamaño: \" + str(y_test.shape))"
   ]
  },
  {
   "cell_type": "code",
   "execution_count": null,
   "metadata": {
    "application/vnd.databricks.v1+cell": {
     "cellMetadata": {
      "byteLimit": 2048000,
      "rowLimit": 10000
     },
     "inputWidgets": {},
     "nuid": "43c84886-1f64-4aa6-a309-65ea406208d9",
     "showTitle": false,
     "title": ""
    }
   },
   "outputs": [
    {
     "name": "stdout",
     "output_type": "stream",
     "text": [
      "Out[124]: array([[[-4.0936794 , -4.56994436, -2.65947492, -5.53154745],\n",
      "        [-3.72809688, -3.06193492, -2.51665293, -4.8391912 ],\n",
      "        [-2.95823508, -2.84394544, -2.11355665, -3.92406455],\n",
      "        ...,\n",
      "        [-2.65120686, -2.15653202, -1.87207474, -2.63694669],\n",
      "        [-2.59621673, -2.10815628, -1.81804668, -2.31587444],\n",
      "        [-1.72299386, -2.07769747, -1.77247519, -2.06481573]],\n",
      "\n",
      "       [[-3.72809688, -3.06193492, -2.51665293, -4.8391912 ],\n",
      "        [-2.95823508, -2.84394544, -2.11355665, -3.92406455],\n",
      "        [-2.75558627, -2.31002051, -1.99704398, -3.41628948],\n",
      "        ...,\n",
      "        [-2.59621673, -2.10815628, -1.81804668, -2.31587444],\n",
      "        [-1.72299386, -2.07769747, -1.77247519, -2.06481573],\n",
      "        [-1.5290009 , -2.01498817, -1.73911874, -1.8201219 ]],\n",
      "\n",
      "       [[-2.95823508, -2.84394544, -2.11355665, -3.92406455],\n",
      "        [-2.75558627, -2.31002051, -1.99704398, -3.41628948],\n",
      "        [-2.69601363, -2.22103302, -1.91952546, -3.04429828],\n",
      "        ...,\n",
      "        [-1.72299386, -2.07769747, -1.77247519, -2.06481573],\n",
      "        [-1.5290009 , -2.01498817, -1.73911874, -1.8201219 ],\n",
      "        [-1.43836902, -1.98870998, -1.70341324, -1.57330644]],\n",
      "\n",
      "       ...,\n",
      "\n",
      "       [[ 0.69249846,  0.79856925,  0.92704835,  0.30574419],\n",
      "        [ 0.71337434,  0.79856925,  0.92704835,  0.30574419],\n",
      "        [ 0.73068605,  0.79856925,  0.92704835,  0.30574419],\n",
      "        ...,\n",
      "        [ 0.77854783,  0.79856925,  0.92704835,  0.30574419],\n",
      "        [ 0.79891454,  0.79856925,  0.92704835,  0.30574419],\n",
      "        [ 0.81418958,  0.79856925,  0.92704835,  0.30574419]],\n",
      "\n",
      "       [[ 0.71337434,  0.79856925,  0.92704835,  0.30574419],\n",
      "        [ 0.73068605,  0.79856925,  0.92704835,  0.30574419],\n",
      "        [ 0.74443358,  0.79856925,  0.92704835,  0.30574419],\n",
      "        ...,\n",
      "        [ 0.79891454,  0.79856925,  0.92704835,  0.30574419],\n",
      "        [ 0.81418958,  0.79856925,  0.92704835,  0.30574419],\n",
      "        [ 0.81979042,  0.79856925,  0.92704835,  0.30998743]],\n",
      "\n",
      "       [[ 0.73068605,  0.79856925,  0.92704835,  0.30574419],\n",
      "        [ 0.74443358,  0.79856925,  0.92704835,  0.30574419],\n",
      "        [ 0.75919945,  0.79856925,  0.92704835,  0.30574419],\n",
      "        ...,\n",
      "        [ 0.81418958,  0.79856925,  0.92704835,  0.30574419],\n",
      "        [ 0.81979042,  0.79856925,  0.92704835,  0.30998743],\n",
      "        [ 0.83048295,  0.79856925,  0.92657854,  0.3439334 ]]])"
     ]
    }
   ],
   "source": [
    "X_train"
   ]
  },
  {
   "cell_type": "code",
   "execution_count": null,
   "metadata": {
    "application/vnd.databricks.v1+cell": {
     "cellMetadata": {
      "byteLimit": 2048000,
      "rowLimit": 10000
     },
     "inputWidgets": {},
     "nuid": "3cc2ec3b-1daa-4616-9741-e73e4d61f847",
     "showTitle": false,
     "title": ""
    }
   },
   "outputs": [
    {
     "name": "stdout",
     "output_type": "stream",
     "text": [
      "Out[123]: array([[[0.8533955 , 0.79856925, 0.92657854, 0.43516318],\n",
      "        [0.87223471, 0.79856925, 0.92657854, 0.44789292],\n",
      "        [0.89260143, 0.79856925, 0.92704835, 0.48678934],\n",
      "        [0.90278478, 0.79856925, 0.92704835, 0.49103258],\n",
      "        [0.91245897, 0.79856925, 0.92751816, 0.49173979],\n",
      "        [0.91500481, 0.79856925, 0.92751816, 0.49527583],\n",
      "        [0.91602315, 0.79856925, 0.92751816, 0.49669024],\n",
      "        [0.9374082 , 0.80454156, 0.92751816, 0.49669024]],\n",
      "\n",
      "       [[0.87223471, 0.79856925, 0.92657854, 0.44789292],\n",
      "        [0.89260143, 0.79856925, 0.92704835, 0.48678934],\n",
      "        [0.90278478, 0.79856925, 0.92704835, 0.49103258],\n",
      "        [0.91245897, 0.79856925, 0.92751816, 0.49173979],\n",
      "        [0.91500481, 0.79856925, 0.92751816, 0.49527583],\n",
      "        [0.91602315, 0.79856925, 0.92751816, 0.49669024],\n",
      "        [0.9374082 , 0.80454156, 0.92751816, 0.49669024],\n",
      "        [0.95675658, 0.80454156, 0.92751816, 0.49173979]],\n",
      "\n",
      "       [[0.89260143, 0.79856925, 0.92704835, 0.48678934],\n",
      "        [0.90278478, 0.79856925, 0.92704835, 0.49103258],\n",
      "        [0.91245897, 0.79856925, 0.92751816, 0.49173979],\n",
      "        [0.91500481, 0.79856925, 0.92751816, 0.49527583],\n",
      "        [0.91602315, 0.79856925, 0.92751816, 0.49669024],\n",
      "        [0.9374082 , 0.80454156, 0.92751816, 0.49669024],\n",
      "        [0.95675658, 0.80454156, 0.92751816, 0.49173979],\n",
      "        [0.96643077, 0.80454156, 0.92751816, 0.49173979]],\n",
      "\n",
      "       [[0.90278478, 0.79856925, 0.92704835, 0.49103258],\n",
      "        [0.91245897, 0.79856925, 0.92751816, 0.49173979],\n",
      "        [0.91500481, 0.79856925, 0.92751816, 0.49527583],\n",
      "        [0.91602315, 0.79856925, 0.92751816, 0.49669024],\n",
      "        [0.9374082 , 0.80454156, 0.92751816, 0.49669024],\n",
      "        [0.95675658, 0.80454156, 0.92751816, 0.49173979],\n",
      "        [0.96643077, 0.80454156, 0.92751816, 0.49173979],\n",
      "        [0.98679748, 0.80454156, 0.92751816, 0.49173979]],\n",
      "\n",
      "       [[0.91245897, 0.79856925, 0.92751816, 0.49173979],\n",
      "        [0.91500481, 0.79856925, 0.92751816, 0.49527583],\n",
      "        [0.91602315, 0.79856925, 0.92751816, 0.49669024],\n",
      "        [0.9374082 , 0.80454156, 0.92751816, 0.49669024],\n",
      "        [0.95675658, 0.80454156, 0.92751816, 0.49173979],\n",
      "        [0.96643077, 0.80454156, 0.92751816, 0.49173979],\n",
      "        [0.98679748, 0.80454156, 0.92751816, 0.49173979],\n",
      "        [1.00054501, 0.80454156, 0.92704835, 0.49173979]],\n",
      "\n",
      "       [[0.91500481, 0.79856925, 0.92751816, 0.49527583],\n",
      "        [0.91602315, 0.79856925, 0.92751816, 0.49669024],\n",
      "        [0.9374082 , 0.80454156, 0.92751816, 0.49669024],\n",
      "        [0.95675658, 0.80454156, 0.92751816, 0.49173979],\n",
      "        [0.96643077, 0.80454156, 0.92751816, 0.49173979],\n",
      "        [0.98679748, 0.80454156, 0.92751816, 0.49173979],\n",
      "        [1.00054501, 0.80454156, 0.92704835, 0.49173979],\n",
      "        [1.00207252, 0.80454156, 0.92704835, 0.49173979]],\n",
      "\n",
      "       [[0.91602315, 0.79856925, 0.92751816, 0.49669024],\n",
      "        [0.9374082 , 0.80454156, 0.92751816, 0.49669024],\n",
      "        [0.95675658, 0.80454156, 0.92751816, 0.49173979],\n",
      "        [0.96643077, 0.80454156, 0.92751816, 0.49173979],\n",
      "        [0.98679748, 0.80454156, 0.92751816, 0.49173979],\n",
      "        [1.00054501, 0.80454156, 0.92704835, 0.49173979],\n",
      "        [1.00207252, 0.80454156, 0.92704835, 0.49173979],\n",
      "        [1.0229484 , 0.80454156, 0.95194824, 0.49173979]],\n",
      "\n",
      "       [[0.9374082 , 0.80454156, 0.92751816, 0.49669024],\n",
      "        [0.95675658, 0.80454156, 0.92751816, 0.49173979],\n",
      "        [0.96643077, 0.80454156, 0.92751816, 0.49173979],\n",
      "        [0.98679748, 0.80454156, 0.92751816, 0.49173979],\n",
      "        [1.00054501, 0.80454156, 0.92704835, 0.49173979],\n",
      "        [1.00207252, 0.80454156, 0.92704835, 0.49173979],\n",
      "        [1.0229484 , 0.80454156, 0.95194824, 0.49173979],\n",
      "        [1.0244759 , 0.80454156, 0.99939897, 0.49173979]],\n",
      "\n",
      "       [[0.95675658, 0.80454156, 0.92751816, 0.49173979],\n",
      "        [0.96643077, 0.80454156, 0.92751816, 0.49173979],\n",
      "        [0.98679748, 0.80454156, 0.92751816, 0.49173979],\n",
      "        [1.00054501, 0.80454156, 0.92704835, 0.49173979],\n",
      "        [1.00207252, 0.80454156, 0.92704835, 0.49173979],\n",
      "        [1.0229484 , 0.80454156, 0.95194824, 0.49173979],\n",
      "        [1.0244759 , 0.80454156, 0.99939897, 0.49173979],\n",
      "        [1.02905841, 0.80454156, 1.02570828, 0.49173979]],\n",
      "\n",
      "       [[0.96643077, 0.80454156, 0.92751816, 0.49173979],\n",
      "        [0.98679748, 0.80454156, 0.92751816, 0.49173979],\n",
      "        [1.00054501, 0.80454156, 0.92704835, 0.49173979],\n",
      "        [1.00207252, 0.80454156, 0.92704835, 0.49173979],\n",
      "        [1.0229484 , 0.80454156, 0.95194824, 0.49173979],\n",
      "        [1.0244759 , 0.80454156, 0.99939897, 0.49173979],\n",
      "        [1.02905841, 0.80454156, 1.02570828, 0.49173979],\n",
      "        [1.03058592, 0.80454156, 1.05436664, 0.49173979]],\n",
      "\n",
      "       [[0.98679748, 0.80454156, 0.92751816, 0.49173979],\n",
      "        [1.00054501, 0.80454156, 0.92704835, 0.49173979],\n",
      "        [1.00207252, 0.80454156, 0.92704835, 0.49173979],\n",
      "        [1.0229484 , 0.80454156, 0.95194824, 0.49173979],\n",
      "        [1.0244759 , 0.80454156, 0.99939897, 0.49173979],\n",
      "        [1.02905841, 0.80454156, 1.02570828, 0.49173979],\n",
      "        [1.03058592, 0.80454156, 1.05436664, 0.49173979],\n",
      "        [1.03058592, 0.80454156, 1.083025  , 0.49173979]],\n",
      "\n",
      "       [[1.00054501, 0.80454156, 0.92704835, 0.49173979],\n",
      "        [1.00207252, 0.80454156, 0.92704835, 0.49173979],\n",
      "        [1.0229484 , 0.80454156, 0.95194824, 0.49173979],\n",
      "        [1.0244759 , 0.80454156, 0.99939897, 0.49173979],\n",
      "        [1.02905841, 0.80454156, 1.02570828, 0.49173979],\n",
      "        [1.03058592, 0.80454156, 1.05436664, 0.49173979],\n",
      "        [1.03058592, 0.80454156, 1.083025  , 0.49173979],\n",
      "        [1.03058592, 0.80454156, 1.09007214, 0.49173979]],\n",
      "\n",
      "       [[1.00207252, 0.80454156, 0.92704835, 0.49173979],\n",
      "        [1.0229484 , 0.80454156, 0.95194824, 0.49173979],\n",
      "        [1.0244759 , 0.80454156, 0.99939897, 0.49173979],\n",
      "        [1.02905841, 0.80454156, 1.02570828, 0.49173979],\n",
      "        [1.03058592, 0.80454156, 1.05436664, 0.49173979],\n",
      "        [1.03058592, 0.80454156, 1.083025  , 0.49173979],\n",
      "        [1.03058592, 0.80454156, 1.09007214, 0.49173979],\n",
      "        [1.05604431, 0.80454156, 1.09101176, 0.49173979]],\n",
      "\n",
      "       [[1.0229484 , 0.80454156, 0.95194824, 0.49173979],\n",
      "        [1.0244759 , 0.80454156, 0.99939897, 0.49173979],\n",
      "        [1.02905841, 0.80454156, 1.02570828, 0.49173979],\n",
      "        [1.03058592, 0.80454156, 1.05436664, 0.49173979],\n",
      "        [1.03058592, 0.80454156, 1.083025  , 0.49173979],\n",
      "        [1.03058592, 0.80454156, 1.09007214, 0.49173979],\n",
      "        [1.05604431, 0.80454156, 1.09101176, 0.49173979],\n",
      "        [1.08914022, 0.80454156, 1.09664947, 0.49173979]],\n",
      "\n",
      "       [[1.0244759 , 0.80454156, 0.99939897, 0.49173979],\n",
      "        [1.02905841, 0.80454156, 1.02570828, 0.49173979],\n",
      "        [1.03058592, 0.80454156, 1.05436664, 0.49173979],\n",
      "        [1.03058592, 0.80454156, 1.083025  , 0.49173979],\n",
      "        [1.03058592, 0.80454156, 1.09007214, 0.49173979],\n",
      "        [1.05604431, 0.80454156, 1.09101176, 0.49173979],\n",
      "        [1.08914022, 0.80454156, 1.09664947, 0.49173979],\n",
      "        [1.10747026, 0.80454156, 1.09758908, 0.49173979]],\n",
      "\n",
      "       [[1.02905841, 0.80454156, 1.02570828, 0.49173979],\n",
      "        [1.03058592, 0.80454156, 1.05436664, 0.49173979],\n",
      "        [1.03058592, 0.80454156, 1.083025  , 0.49173979],\n",
      "        [1.03058592, 0.80454156, 1.09007214, 0.49173979],\n",
      "        [1.05604431, 0.80454156, 1.09101176, 0.49173979],\n",
      "        [1.08914022, 0.80454156, 1.09664947, 0.49173979],\n",
      "        [1.10747026, 0.80454156, 1.09758908, 0.49173979],\n",
      "        [1.12987365, 0.80454156, 1.09758908, 0.49173979]],\n",
      "\n",
      "       [[1.03058592, 0.80454156, 1.05436664, 0.49173979],\n",
      "        [1.03058592, 0.80454156, 1.083025  , 0.49173979],\n",
      "        [1.03058592, 0.80454156, 1.09007214, 0.49173979],\n",
      "        [1.05604431, 0.80454156, 1.09101176, 0.49173979],\n",
      "        [1.08914022, 0.80454156, 1.09664947, 0.49173979],\n",
      "        [1.10747026, 0.80454156, 1.09758908, 0.49173979],\n",
      "        [1.12987365, 0.80454156, 1.09758908, 0.49173979],\n",
      "        [1.16347873, 0.80454156, 1.09758908, 0.49173979]],\n",
      "\n",
      "       [[1.03058592, 0.80454156, 1.083025  , 0.49173979],\n",
      "        [1.03058592, 0.80454156, 1.09007214, 0.49173979],\n",
      "        [1.05604431, 0.80454156, 1.09101176, 0.49173979],\n",
      "        [1.08914022, 0.80454156, 1.09664947, 0.49173979],\n",
      "        [1.10747026, 0.80454156, 1.09758908, 0.49173979],\n",
      "        [1.12987365, 0.80454156, 1.09758908, 0.49173979],\n",
      "        [1.16347873, 0.80454156, 1.09758908, 0.49173979],\n",
      "        [1.18588211, 0.80454156, 1.09758908, 0.49173979]],\n",
      "\n",
      "       [[1.03058592, 0.80454156, 1.09007214, 0.49173979],\n",
      "        [1.05604431, 0.80454156, 1.09101176, 0.49173979],\n",
      "        [1.08914022, 0.80454156, 1.09664947, 0.49173979],\n",
      "        [1.10747026, 0.80454156, 1.09758908, 0.49173979],\n",
      "        [1.12987365, 0.80454156, 1.09758908, 0.49173979],\n",
      "        [1.16347873, 0.80454156, 1.09758908, 0.49173979],\n",
      "        [1.18588211, 0.80454156, 1.09758908, 0.49173979],\n",
      "        [1.20370299, 0.80454156, 1.09758908, 0.49173979]]])"
     ]
    }
   ],
   "source": [
    "X_test"
   ]
  },
  {
   "cell_type": "code",
   "execution_count": null,
   "metadata": {
    "application/vnd.databricks.v1+cell": {
     "cellMetadata": {
      "byteLimit": 2048000,
      "rowLimit": 10000
     },
     "inputWidgets": {},
     "nuid": "56a2e503-0611-4e24-9000-aff204816e0c",
     "showTitle": true,
     "title": "Visualización de los datos despues de la división"
    }
   },
   "outputs": [
    {
     "data": {
      "image/png": "[encoded data removed]"
     },
     "metadata": {
      "application/vnd.databricks.v1+output": {
       "addedWidgets": {},
       "arguments": {},
       "data": "data:image/png;base64,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\n",
       "datasetInfos": [],
       "metadata": {},
       "removedWidgets": [],
       "type": "image"
      }
     },
     "output_type": "display_data"
    }
   ],
   "source": [
    "# Crear un gráfico\n",
    "plt.figure(figsize=(10, 5))  # Configurar el tamaño del gráfico (opcional)\n",
    "plt.plot(y_train, marker='o')  # Dibujar los datos, 'marker' para marcar cada punto\n",
    "plt.title('Gráfico de un Arreglo')  # Título del gráfico\n",
    "plt.xlabel('Índice')  # Etiqueta del eje x\n",
    "plt.ylabel('Valor')  # Etiqueta del eje y\n",
    "plt.grid(True)  # Añadir una cuadrícula\n",
    "plt.show()  # Mostrar el gráfico"
   ]
  },
  {
   "cell_type": "markdown",
   "metadata": {
    "application/vnd.databricks.v1+cell": {
     "cellMetadata": {},
     "inputWidgets": {},
     "nuid": "405f1fa7-a7fb-4305-9cc0-8376196ede2f",
     "showTitle": false,
     "title": ""
    }
   },
   "source": [
    "### Red"
   ]
  },
  {
   "cell_type": "code",
   "execution_count": null,
   "metadata": {
    "application/vnd.databricks.v1+cell": {
     "cellMetadata": {
      "byteLimit": 2048000,
      "rowLimit": 10000
     },
     "inputWidgets": {},
     "nuid": "68c7e317-7f89-4120-9298-7cbe55ace136",
     "showTitle": false,
     "title": ""
    }
   },
   "outputs": [
    {
     "name": "stderr",
     "output_type": "stream",
     "text": [
      "/local_disk0/.ephemeral_nfs/envs/pythonEnv-024ffbf4-e67e-4063-a720-5ad4c438354f/lib/python3.9/site-packages/keras/src/layers/rnn/rnn.py:204: UserWarning: Do not pass an `input_shape`/`input_dim` argument to a layer. When using Sequential models, prefer using an `Input(shape)` object as the first layer in the model instead.\n",
      "  super().__init__(**kwargs)\n"
     ]
    },
    {
     "name": "stdout",
     "output_type": "stream",
     "text": [
      "Epoch 1/500\n",
      "\r\u001b[1m1/3\u001b[0m \u001b[32m━━━━━━\u001b[0m\u001b[37m━━━━━━━━━━━━━━\u001b[0m \u001b[1m11s\u001b[0m 6s/step - loss: 0.1583\b\b\b\b\b\b\b\b\b\b\b\b\b\b\b\b\b\b\b\b\b\b\b\b\b\b\b\b\b\b\b\b\b\b\b\b\b\b\b\b\b\b\b\b\b\b\b\b\b\b\b\r\u001b[1m3/3\u001b[0m \u001b[32m━━━━━━━━━━━━━━━━━━━━\u001b[0m\u001b[37m\u001b[0m \u001b[1m0s\u001b[0m 30ms/step - loss: 0.1425\b\b\b\b\b\b\b\b\b\b\b\b\b\b\b\b\b\b\b\b\b\b\b\b\b\b\b\b\b\b\b\b\b\b\b\b\b\b\b\b\b\b\b\b\b\b\b\b\b\b\b\b\r\u001b[1m3/3\u001b[0m \u001b[32m━━━━━━━━━━━━━━━━━━━━\u001b[0m\u001b[37m\u001b[0m \u001b[1m6s\u001b[0m 340ms/step - loss: 0.1390 - val_loss: 0.3302\n",
      "Epoch 2/500\n",
      "\r\u001b[1m1/3\u001b[0m \u001b[32m━━━━━━\u001b[0m\u001b[37m━━━━━━━━━━━━━━\u001b[0m \u001b[1m0s\u001b[0m 53ms/step - loss: 0.0779\b\b\b\b\b\b\b\b\b\b\b\b\b\b\b\b\b\b\b\b\b\b\b\b\b\b\b\b\b\b\b\b\b\b\b\b\b\b\b\b\b\b\b\b\b\b\b\b\b\b\b\b\r\u001b[1m3/3\u001b[0m \u001b[32m━━━━━━━━━━━━━━━━━━━━\u001b[0m\u001b[37m\u001b[0m \u001b[1m0s\u001b[0m 28ms/step - loss: 0.0725\b\b\b\b\b\b\b\b\b\b\b\b\b\b\b\b\b\b\b\b\b\b\b\b\b\b\b\b\b\b\b\b\b\b\b\b\b\b\b\b\b\b\b\b\b\b\b\b\b\b\b\b\r\u001b[1m3/3\u001b[0m \u001b[32m━━━━━━━━━━━━━━━━━━━━\u001b[0m\u001b[37m\u001b[0m \u001b[1m0s\u001b[0m 48ms/step - loss: 0.0709 - val_loss: 0.1055\n",
      "Epoch 3/500\n",
      "\r\u001b[1m1/3\u001b[0m \u001b[32m━━━━━━\u001b[0m\u001b[37m━━━━━━━━━━━━━━\u001b[0m \u001b[1m0s\u001b[0m 77ms/step - loss: 0.0585\b\b\b\b\b\b\b\b\b\b\b\b\b\b\b\b\b\b\b\b\b\b\b\b\b\b\b\b\b\b\b\b\b\b\b\b\b\b\b\b\b\b\b\b\b\b\b\b\b\b\b\b\r\u001b[1m3/3\u001b[0m \u001b[32m━━━━━━━━━━━━━━━━━━━━\u001b[0m\u001b[37m\u001b[0m \u001b[1m0s\u001b[0m 35ms/step - loss: 0.0512\b\b\b\b\b\b\b\b\b\b\b\b\b\b\b\b\b\b\b\b\b\b\b\b\b\b\b\b\b\b\b\b\b\b\b\b\b\b\b\b\b\b\b\b\b\b\b\b\b\b\b\b\r\u001b[1m3/3\u001b[0m \u001b[32m━━━━━━━━━━━━━━━━━━━━\u001b[0m\u001b[37m\u001b[0m \u001b[1m0s\u001b[0m 54ms/step - loss: 0.0494 - val_loss: 0.0084\n",
      "Epoch 4/500\n",
      "\r\u001b[1m1/3\u001b[0m \u001b[32m━━━━━━\u001b[0m\u001b[37m━━━━━━━━━━━━━━\u001b[0m \u001b[1m0s\u001b[0m 55ms/step - loss: 0.0452\b\b\b\b\b\b\b\b\b\b\b\b\b\b\b\b\b\b\b\b\b\b\b\b\b\b\b\b\b\b\b\b\b\b\b\b\b\b\b\b\b\b\b\b\b\b\b\b\b\b\b\b\r\u001b[1m3/3\u001b[0m \u001b[32m━━━━━━━━━━━━━━━━━━━━\u001b[0m\u001b[37m\u001b[0m \u001b[1m0s\u001b[0m 29ms/step - loss: 0.0388\b\b\b\b\b\b\b\b\b\b\b\b\b\b\b\b\b\b\b\b\b\b\b\b\b\b\b\b\b\b\b\b\b\b\b\b\b\b\b\b\b\b\b\b\b\b\b\b\b\b\b\b\r\u001b[1m3/3\u001b[0m \u001b[32m━━━━━━━━━━━━━━━━━━━━\u001b[0m\u001b[37m\u001b[0m \u001b[1m0s\u001b[0m 56ms/step - loss: 0.0381 - val_loss: 9.9282e-05\n",
      "Epoch 5/500\n",
      "\r\u001b[1m1/3\u001b[0m \u001b[32m━━━━━━\u001b[0m\u001b[37m━━━━━━━━━━━━━━\u001b[0m \u001b[1m0s\u001b[0m 183ms/step - loss: 0.0372\b\b\b\b\b\b\b\b\b\b\b\b\b\b\b\b\b\b\b\b\b\b\b\b\b\b\b\b\b\b\b\b\b\b\b\b\b\b\b\b\b\b\b\b\b\b\b\b\b\b\b\b\b\r\u001b[1m3/3\u001b[0m \u001b[32m━━━━━━━━━━━━━━━━━━━━\u001b[0m\u001b[37m\u001b[0m \u001b[1m0s\u001b[0m 36ms/step - loss: 0.0333 \b\b\b\b\b\b\b\b\b\b\b\b\b\b\b\b\b\b\b\b\b\b\b\b\b\b\b\b\b\b\b\b\b\b\b\b\b\b\b\b\b\b\b\b\b\b\b\b\b\b\b\b\r\u001b[1m3/3\u001b[0m \u001b[32m━━━━━━━━━━━━━━━━━━━━\u001b[0m\u001b[37m\u001b[0m \u001b[1m0s\u001b[0m 54ms/step - loss: 0.0328 - val_loss: 0.0015\n",
      "Epoch 6/500\n",
      "\r\u001b[1m1/3\u001b[0m \u001b[32m━━━━━━\u001b[0m\u001b[37m━━━━━━━━━━━━━━\u001b[0m \u001b[1m0s\u001b[0m 201ms/step - loss: 0.0405\b\b\b\b\b\b\b\b\b\b\b\b\b\b\b\b\b\b\b\b\b\b\b\b\b\b\b\b\b\b\b\b\b\b\b\b\b\b\b\b\b\b\b\b\b\b\b\b\b\b\b\b\b\r\u001b[1m3/3\u001b[0m \u001b[32m━━━━━━━━━━━━━━━━━━━━\u001b[0m\u001b[37m\u001b[0m \u001b[1m0s\u001b[0m 31ms/step - loss: 0.0347 \b\b\b\b\b\b\b\b\b\b\b\b\b\b\b\b\b\b\b\b\b\b\b\b\b\b\b\b\b\b\b\b\b\b\b\b\b\b\b\b\b\b\b\b\b\b\b\b\b\b\b\b\r\u001b[1m3/3\u001b[0m \u001b[32m━━━━━━━━━━━━━━━━━━━━\u001b[0m\u001b[37m\u001b[0m \u001b[1m0s\u001b[0m 48ms/step - loss: 0.0342 - val_loss: 0.0074\n",
      "Epoch 7/500\n",
      "\r\u001b[1m1/3\u001b[0m \u001b[32m━━━━━━\u001b[0m\u001b[37m━━━━━━━━━━━━━━\u001b[0m \u001b[1m0s\u001b[0m 56ms/step - loss: 0.0312\b\b\b\b\b\b\b\b\b\b\b\b\b\b\b\b\b\b\b\b\b\b\b\b\b\b\b\b\b\b\b\b\b\b\b\b\b\b\b\b\b\b\b\b\b\b\b\b\b\b\b\b\r\u001b[1m3/3\u001b[0m \u001b[32m━━━━━━━━━━━━━━━━━━━━\u001b[0m\u001b[37m\u001b[0m \u001b[1m0s\u001b[0m 29ms/step - loss: 0.0318\b\b\b\b\b\b\b\b\b\b\b\b\b\b\b\b\b\b\b\b\b\b\b\b\b\b\b\b\b\b\b\b\b\b\b\b\b\b\b\b\b\b\b\b\b\b\b\b\b\b\b\b\r\u001b[1m3/3\u001b[0m \u001b[32m━━━━━━━━━━━━━━━━━━━━\u001b[0m\u001b[37m\u001b[0m \u001b[1m0s\u001b[0m 47ms/step - loss: 0.0316 - val_loss: 0.0061\n",
      "Epoch 8/500\n",
      "\r\u001b[1m1/3\u001b[0m \u001b[32m━━━━━━\u001b[0m\u001b[37m━━━━━━━━━━━━━━\u001b[0m \u001b[1m0s\u001b[0m 209ms/step - loss: 0.0344\b\b\b\b\b\b\b\b\b\b\b\b\b\b\b\b\b\b\b\b\b\b\b\b\b\b\b\b\b\b\b\b\b\b\b\b\b\b\b\b\b\b\b\b\b\b\b\b\b\b\b\b\b\r\u001b[1m3/3\u001b[0m \u001b[32m━━━━━━━━━━━━━━━━━━━━\u001b[0m\u001b[37m\u001b[0m \u001b[1m0s\u001b[0m 34ms/step - loss: 0.0298 \b\b\b\b\b\b\b\b\b\b\b\b\b\b\b\b\b\b\b\b\b\b\b\b\b\b\b\b\b\b\b\b\b\b\b\b\b\b\b\b\b\b\b\b\b\b\b\b\b\b\b\b\r\u001b[1m3/3\u001b[0m \u001b[32m━━━━━━━━━━━━━━━━━━━━\u001b[0m\u001b[37m\u001b[0m \u001b[1m0s\u001b[0m 52ms/step - loss: 0.0287 - val_loss: 0.0036\n",
      "Epoch 9/500\n",
      "\r\u001b[1m1/3\u001b[0m \u001b[32m━━━━━━\u001b[0m\u001b[37m━━━━━━━━━━━━━━\u001b[0m \u001b[1m0s\u001b[0m 64ms/step - loss: 0.0310\b\b\b\b\b\b\b\b\b\b\b\b\b\b\b\b\b\b\b\b\b\b\b\b\b\b\b\b\b\b\b\b\b\b\b\b\b\b\b\b\b\b\b\b\b\b\b\b\b\b\b\b\r\u001b[1m3/3\u001b[0m \u001b[32m━━━━━━━━━━━━━━━━━━━━\u001b[0m\u001b[37m\u001b[0m \u001b[1m0s\u001b[0m 29ms/step - loss: 0.0290\b\b\b\b\b\b\b\b\b\b\b\b\b\b\b\b\b\b\b\b\b\b\b\b\b\b\b\b\b\b\b\b\b\b\b\b\b\b\b\b\b\b\b\b\b\b\b\b\b\b\b\b\r\u001b[1m3/3\u001b[0m \u001b[32m━━━━━━━━━━━━━━━━━━━━\u001b[0m\u001b[37m\u001b[0m \u001b[1m0s\u001b[0m 48ms/step - loss: 0.0283 - val_loss: 0.0104\n",
      "Epoch 10/500\n",
      "\r\u001b[1m1/3\u001b[0m \u001b[32m━━━━━━\u001b[0m\u001b[37m━━━━━━━━━━━━━━\u001b[0m \u001b[1m0s\u001b[0m 52ms/step - loss: 0.0239\b\b\b\b\b\b\b\b\b\b\b\b\b\b\b\b\b\b\b\b\b\b\b\b\b\b\b\b\b\b\b\b\b\b\b\b\b\b\b\b\b\b\b\b\b\b\b\b\b\b\b\b\r\u001b[1m3/3\u001b[0m \u001b[32m━━━━━━━━━━━━━━━━━━━━\u001b[0m\u001b[37m\u001b[0m \u001b[1m0s\u001b[0m 28ms/step - loss: 0.0256\b\b\b\b\b\b\b\b\b\b\b\b\b\b\b\b\b\b\b\b\b\b\b\b\b\b\b\b\b\b\b\b\b\b\b\b\b\b\b\b\b\b\b\b\b\b\b\b\b\b\b\b\r\u001b[1m3/3\u001b[0m \u001b[32m━━━━━━━━━━━━━━━━━━━━\u001b[0m\u001b[37m\u001b[0m \u001b[1m0s\u001b[0m 46ms/step - loss: 0.0253 - val_loss: 0.0178\n",
      "Epoch 11/500\n",
      "\r\u001b[1m1/3\u001b[0m \u001b[32m━━━━━━\u001b[0m\u001b[37m━━━━━━━━━━━━━━\u001b[0m \u001b[1m0s\u001b[0m 51ms/step - loss: 0.0328\b\b\b\b\b\b\b\b\b\b\b\b\b\b\b\b\b\b\b\b\b\b\b\b\b\b\b\b\b\b\b\b\b\b\b\b\b\b\b\b\b\b\b\b\b\b\b\b\b\b\b\b\r\u001b[1m3/3\u001b[0m \u001b[32m━━━━━━━━━━━━━━━━━━━━\u001b[0m\u001b[37m\u001b[0m \u001b[1m0s\u001b[0m 27ms/step - loss: 0.0270\b\b\b\b\b\b\b\b\b\b\b\b\b\b\b\b\b\b\b\b\b\b\b\b\b\b\b\b\b\b\b\b\b\b\b\b\b\b\b\b\b\b\b\b\b\b\b\b\b\b\b\b\r\u001b[1m3/3\u001b[0m \u001b[32m━━━━━━━━━━━━━━━━━━━━\u001b[0m\u001b[37m\u001b[0m \u001b[1m0s\u001b[0m 47ms/step - loss: 0.0260 - val_loss: 0.0133\n",
      "Epoch 12/500\n",
      "\r\u001b[1m1/3\u001b[0m \u001b[32m━━━━━━\u001b[0m\u001b[37m━━━━━━━━━━━━━━\u001b[0m \u001b[1m0s\u001b[0m 55ms/step - loss: 0.0258\b\b\b\b\b\b\b\b\b\b\b\b\b\b\b\b\b\b\b\b\b\b\b\b\b\b\b\b\b\b\b\b\b\b\b\b\b\b\b\b\b\b\b\b\b\b\b\b\b\b\b\b\r\u001b[1m3/3\u001b[0m \u001b[32m━━━━━━━━━━━━━━━━━━━━\u001b[0m\u001b[37m\u001b[0m \u001b[1m0s\u001b[0m 29ms/step - loss: 0.0220\b\b\b\b\b\b\b\b\b\b\b\b\b\b\b\b\b\b\b\b\b\b\b\b\b\b\b\b\b\b\b\b\b\b\b\b\b\b\b\b\b\b\b\b\b\b\b\b\b\b\b\b\r\u001b[1m3/3\u001b[0m \u001b[32m━━━━━━━━━━━━━━━━━━━━\u001b[0m\u001b[37m\u001b[0m \u001b[1m0s\u001b[0m 50ms/step - loss: 0.0221 - val_loss: 0.0067\n",
      "Epoch 13/500\n",
      "\r\u001b[1m1/3\u001b[0m \u001b[32m━━━━━━\u001b[0m\u001b[37m━━━━━━━━━━━━━━\u001b[0m \u001b[1m0s\u001b[0m 202ms/step - loss: 0.0079\b\b\b\b\b\b\b\b\b\b\b\b\b\b\b\b\b\b\b\b\b\b\b\b\b\b\b\b\b\b\b\b\b\b\b\b\b\b\b\b\b\b\b\b\b\b\b\b\b\b\b\b\b\r\u001b[1m3/3\u001b[0m \u001b[32m━━━━━━━━━━━━━━━━━━━━\u001b[0m\u001b[37m\u001b[0m \u001b[1m0s\u001b[0m 28ms/step - loss: 0.0191 \b\b\b\b\b\b\b\b\b\b\b\b\b\b\b\b\b\b\b\b\b\b\b\b\b\b\b\b\b\b\b\b\b\b\b\b\b\b\b\b\b\b\b\b\b\b\b\b\b\b\b\b\r\u001b[1m3/3\u001b[0m \u001b[32m━━━━━━━━━━━━━━━━━━━━\u001b[0m\u001b[37m\u001b[0m \u001b[1m0s\u001b[0m 47ms/step - loss: 0.0198 - val_loss: 0.0032\n",
      "Epoch 14/500\n",
      "\r\u001b[1m1/3\u001b[0m \u001b[32m━━━━━━\u001b[0m\u001b[37m━━━━━━━━━━━━━━\u001b[0m \u001b[1m0s\u001b[0m 60ms/step - loss: 0.0197\b\b\b\b\b\b\b\b\b\b\b\b\b\b\b\b\b\b\b\b\b\b\b\b\b\b\b\b\b\b\b\b\b\b\b\b\b\b\b\b\b\b\b\b\b\b\b\b\b\b\b\b\r\u001b[1m3/3\u001b[0m \u001b[32m━━━━━━━━━━━━━━━━━━━━\u001b[0m\u001b[37m\u001b[0m \u001b[1m0s\u001b[0m 32ms/step - loss: 0.0228\b\b\b\b\b\b\b\b\b\b\b\b\b\b\b\b\b\b\b\b\b\b\b\b\b\b\b\b\b\b\b\b\b\b\b\b\b\b\b\b\b\b\b\b\b\b\b\b\b\b\b\b\r\u001b[1m3/3\u001b[0m \u001b[32m━━━━━━━━━━━━━━━━━━━━\u001b[0m\u001b[37m\u001b[0m \u001b[1m0s\u001b[0m 53ms/step - loss: 0.0227 - val_loss: 0.0057\n",
      "Epoch 15/500\n",
      "\r\u001b[1m1/3\u001b[0m \u001b[32m━━━━━━\u001b[0m\u001b[37m━━━━━━━━━━━━━━\u001b[0m \u001b[1m0s\u001b[0m 55ms/step - loss: 0.0279\b\b\b\b\b\b\b\b\b\b\b\b\b\b\b\b\b\b\b\b\b\b\b\b\b\b\b\b\b\b\b\b\b\b\b\b\b\b\b\b\b\b\b\b\b\b\b\b\b\b\b\b\r\u001b[1m3/3\u001b[0m \u001b[32m━━━━━━━━━━━━━━━━━━━━\u001b[0m\u001b[37m\u001b[0m \u001b[1m0s\u001b[0m 30ms/step - loss: 0.0237\b\b\b\b\b\b\b\b\b\b\b\b\b\b\b\b\b\b\b\b\b\b\b\b\b\b\b\b\b\b\b\b\b\b\b\b\b\b\b\b\b\b\b\b\b\b\b\b\b\b\b\b\r\u001b[1m3/3\u001b[0m \u001b[32m━━━━━━━━━━━━━━━━━━━━\u001b[0m\u001b[37m\u001b[0m \u001b[1m0s\u001b[0m 49ms/step - loss: 0.0231 - val_loss: 0.0054\n",
      "Epoch 16/500\n",
      "\r\u001b[1m1/3\u001b[0m \u001b[32m━━━━━━\u001b[0m\u001b[37m━━━━━━━━━━━━━━\u001b[0m \u001b[1m0s\u001b[0m 249ms/step - loss: 0.0150\b\b\b\b\b\b\b\b\b\b\b\b\b\b\b\b\b\b\b\b\b\b\b\b\b\b\b\b\b\b\b\b\b\b\b\b\b\b\b\b\b\b\b\b\b\b\b\b\b\b\b\b\b\r\u001b[1m2/3\u001b[0m \u001b[32m━━━━━━━━━━━━━\u001b[0m\u001b[37m━━━━━━━\u001b[0m \u001b[1m0s\u001b[0m 86ms/step - loss: 0.0168 \b\b\b\b\b\b\b\b\b\b\b\b\b\b\b\b\b\b\b\b\b\b\b\b\b\b\b\b\b\b\b\b\b\b\b\b\b\b\b\b\b\b\b\b\b\b\b\b\b\b\b\b\r\u001b[1m3/3\u001b[0m \u001b[32m━━━━━━━━━━━━━━━━━━━━\u001b[0m\u001b[37m\u001b[0m \u001b[1m0s\u001b[0m 71ms/step - loss: 0.0176\b\b\b\b\b\b\b\b\b\b\b\b\b\b\b\b\b\b\b\b\b\b\b\b\b\b\b\b\b\b\b\b\b\b\b\b\b\b\b\b\b\b\b\b\b\b\b\b\b\b\b\b\r\u001b[1m3/3\u001b[0m \u001b[32m━━━━━━━━━━━━━━━━━━━━\u001b[0m\u001b[37m\u001b[0m \u001b[1m0s\u001b[0m 101ms/step - loss: 0.0179 - val_loss: 0.0121\n",
      "Epoch 17/500\n",
      "\r\u001b[1m1/3\u001b[0m \u001b[32m━━━━━━\u001b[0m\u001b[37m━━━━━━━━━━━━━━\u001b[0m \u001b[1m0s\u001b[0m 403ms/step - loss: 0.0238\b\b\b\b\b\b\b\b\b\b\b\b\b\b\b\b\b\b\b\b\b\b\b\b\b\b\b\b\b\b\b\b\b\b\b\b\b\b\b\b\b\b\b\b\b\b\b\b\b\b\b\b\b\r\u001b[1m2/3\u001b[0m \u001b[32m━━━━━━━━━━━━━\u001b[0m\u001b[37m━━━━━━━\u001b[0m \u001b[1m0s\u001b[0m 64ms/step - loss: 0.0234 \b\b\b\b\b\b\b\b\b\b\b\b\b\b\b\b\b\b\b\b\b\b\b\b\b\b\b\b\b\b\b\b\b\b\b\b\b\b\b\b\b\b\b\b\b\b\b\b\b\b\b\b\r\u001b[1m3/3\u001b[0m \u001b[32m━━━━━━━━━━━━━━━━━━━━\u001b[0m\u001b[37m\u001b[0m \u001b[1m0s\u001b[0m 57ms/step - loss: 0.0222\b\b\b\b\b\b\b\b\b\b\b\b\b\b\b\b\b\b\b\b\b\b\b\b\b\b\b\b\b\b\b\b\b\b\b\b\b\b\b\b\b\b\b\b\b\b\b\b\b\b\b\b\r\u001b[1m3/3\u001b[0m \u001b[32m━━━━━━━━━━━━━━━━━━━━\u001b[0m\u001b[37m\u001b[0m \u001b[1m1s\u001b[0m 94ms/step - loss: 0.0215 - val_loss: 0.0160\n",
      "Epoch 18/500\n",
      "\r\u001b[1m1/3\u001b[0m \u001b[32m━━━━━━\u001b[0m\u001b[37m━━━━━━━━━━━━━━\u001b[0m \u001b[1m0s\u001b[0m 140ms/step - loss: 0.0293\b\b\b\b\b\b\b\b\b\b\b\b\b\b\b\b\b\b\b\b\b\b\b\b\b\b\b\b\b\b\b\b\b\b\b\b\b\b\b\b\b\b\b\b\b\b\b\b\b\b\b\b\b\r\u001b[1m2/3\u001b[0m \u001b[32m━━━━━━━━━━━━━\u001b[0m\u001b[37m━━━━━━━\u001b[0m \u001b[1m0s\u001b[0m 70ms/step - loss: 0.0240 \b\b\b\b\b\b\b\b\b\b\b\b\b\b\b\b\b\b\b\b\b\b\b\b\b\b\b\b\b\b\b\b\b\b\b\b\b\b\b\b\b\b\b\b\b\b\b\b\b\b\b\b\r\u001b[1m3/3\u001b[0m \u001b[32m━━━━━━━━━━━━━━━━━━━━\u001b[0m\u001b[37m\u001b[0m \u001b[1m0s\u001b[0m 61ms/step - loss: 0.0223\b\b\b\b\b\b\b\b\b\b\b\b\b\b\b\b\b\b\b\b\b\b\b\b\b\b\b\b\b\b\b\b\b\b\b\b\b\b\b\b\b\b\b\b\b\b\b\b\b\b\b\b\r\u001b[1m3/3\u001b[0m \u001b[32m━━━━━━━━━━━━━━━━━━━━\u001b[0m\u001b[37m\u001b[0m \u001b[1m0s\u001b[0m 87ms/step - loss: 0.0215 - val_loss: 0.0133\n",
      "Epoch 19/500\n",
      "\r\u001b[1m1/3\u001b[0m \u001b[32m━━━━━━\u001b[0m\u001b[37m━━━━━━━━━━━━━━\u001b[0m \u001b[1m0s\u001b[0m 92ms/step - loss: 0.0155\b\b\b\b\b\b\b\b\b\b\b\b\b\b\b\b\b\b\b\b\b\b\b\b\b\b\b\b\b\b\b\b\b\b\b\b\b\b\b\b\b\b\b\b\b\b\b\b\b\b\b\b\r\u001b[1m3/3\u001b[0m \u001b[32m━━━━━━━━━━━━━━━━━━━━\u001b[0m\u001b[37m\u001b[0m \u001b[1m0s\u001b[0m 38ms/step - loss: 0.0179\b\b\b\b\b\b\b\b\b\b\b\b\b\b\b\b\b\b\b\b\b\b\b\b\b\b\b\b\b\b\b\b\b\b\b\b\b\b\b\b\b\b\b\b\b\b\b\b\b\b\b\b\r\u001b[1m3/3\u001b[0m \u001b[32m━━━━━━━━━━━━━━━━━━━━\u001b[0m\u001b[37m\u001b[0m \u001b[1m0s\u001b[0m 73ms/step - loss: 0.0183 - val_loss: 0.0145\n",
      "Epoch 20/500\n",
      "\r\u001b[1m1/3\u001b[0m \u001b[32m━━━━━━\u001b[0m\u001b[37m━━━━━━━━━━━━━━\u001b[0m \u001b[1m0s\u001b[0m 137ms/step - loss: 0.0176\b\b\b\b\b\b\b\b\b\b\b\b\b\b\b\b\b\b\b\b\b\b\b\b\b\b\b\b\b\b\b\b\b\b\b\b\b\b\b\b\b\b\b\b\b\b\b\b\b\b\b\b\b\r\u001b[1m3/3\u001b[0m \u001b[32m━━━━━━━━━━━━━━━━━━━━\u001b[0m\u001b[37m\u001b[0m \u001b[1m0s\u001b[0m 29ms/step - loss: 0.0206 \b\b\b\b\b\b\b\b\b\b\b\b\b\b\b\b\b\b\b\b\b\b\b\b\b\b\b\b\b\b\b\b\b\b\b\b\b\b\b\b\b\b\b\b\b\b\b\b\b\b\b\b\r\u001b[1m3/3\u001b[0m \u001b[32m━━━━━━━━━━━━━━━━━━━━\u001b[0m\u001b[37m\u001b[0m \u001b[1m0s\u001b[0m 48ms/step - loss: 0.0203 - val_loss: 0.0134\n",
      "Epoch 21/500\n",
      "\r\u001b[1m1/3\u001b[0m \u001b[32m━━━━━━\u001b[0m\u001b[37m━━━━━━━━━━━━━━\u001b[0m \u001b[1m0s\u001b[0m 208ms/step - loss: 0.0084\b\b\b\b\b\b\b\b\b\b\b\b\b\b\b\b\b\b\b\b\b\b\b\b\b\b\b\b\b\b\b\b\b\b\b\b\b\b\b\b\b\b\b\b\b\b\b\b\b\b\b\b\b\r\u001b[1m3/3\u001b[0m \u001b[32m━━━━━━━━━━━━━━━━━━━━\u001b[0m\u001b[37m\u001b[0m \u001b[1m0s\u001b[0m 30ms/step - loss: 0.0149 \b\b\b\b\b\b\b\b\b\b\b\b\b\b\b\b\b\b\b\b\b\b\b\b\b\b\b\b\b\b\b\b\b\b\b\b\b\b\b\b\b\b\b\b\b\b\b\b\b\b\b\b\r\u001b[1m3/3\u001b[0m \u001b[32m━━━━━━━━━━━━━━━━━━━━\u001b[0m\u001b[37m\u001b[0m \u001b[1m0s\u001b[0m 51ms/step - loss: 0.0156 - val_loss: 0.0106\n",
      "Epoch 22/500\n",
      "\r\u001b[1m1/3\u001b[0m \u001b[32m━━━━━━\u001b[0m\u001b[37m━━━━━━━━━━━━━━\u001b[0m \u001b[1m0s\u001b[0m 62ms/step - loss: 0.0245\b\b\b\b\b\b\b\b\b\b\b\b\b\b\b\b\b\b\b\b\b\b\b\b\b\b\b\b\b\b\b\b\b\b\b\b\b\b\b\b\b\b\b\b\b\b\b\b\b\b\b\b\r\u001b[1m3/3\u001b[0m \u001b[32m━━━━━━━━━━━━━━━━━━━━\u001b[0m\u001b[37m\u001b[0m \u001b[1m0s\u001b[0m 34ms/step - loss: 0.0203\b\b\b\b\b\b\b\b\b\b\b\b\b\b\b\b\b\b\b\b\b\b\b\b\b\b\b\b\b\b\b\b\b\b\b\b\b\b\b\b\b\b\b\b\b\b\b\b\b\b\b\b\r\u001b[1m3/3\u001b[0m \u001b[32m━━━━━━━━━━━━━━━━━━━━\u001b[0m\u001b[37m\u001b[0m \u001b[1m0s\u001b[0m 55ms/step - loss: 0.0199 - val_loss: 0.0184\n",
      "Epoch 23/500\n",
      "\r\u001b[1m1/3\u001b[0m \u001b[32m━━━━━━\u001b[0m\u001b[37m━━━━━━━━━━━━━━\u001b[0m \u001b[1m0s\u001b[0m 84ms/step - loss: 0.0135\b\b\b\b\b\b\b\b\b\b\b\b\b\b\b\b\b\b\b\b\b\b\b\b\b\b\b\b\b\b\b\b\b\b\b\b\b\b\b\b\b\b\b\b\b\b\b\b\b\b\b\b\r\u001b[1m3/3\u001b[0m \u001b[32m━━━━━━━━━━━━━━━━━━━━\u001b[0m\u001b[37m\u001b[0m \u001b[1m0s\u001b[0m 30ms/step - loss: 0.0190\b\b\b\b\b\b\b\b\b\b\b\b\b\b\b\b\b\b\b\b\b\b\b\b\b\b\b\b\b\b\b\b\b\b\b\b\b\b\b\b\b\b\b\b\b\b\b\b\b\b\b\b\r\u001b[1m3/3\u001b[0m \u001b[32m━━━━━━━━━━━━━━━━━━━━\u001b[0m\u001b[37m\u001b[0m \u001b[1m0s\u001b[0m 59ms/step - loss: 0.0192 - val_loss: 0.0241\n",
      "Epoch 24/500\n",
      "\r\u001b[1m1/3\u001b[0m \u001b[32m━━━━━━\u001b[0m\u001b[37m━━━━━━━━━━━━━━\u001b[0m \u001b[1m0s\u001b[0m 76ms/step - loss: 0.0205\b\b\b\b\b\b\b\b\b\b\b\b\b\b\b\b\b\b\b\b\b\b\b\b\b\b\b\b\b\b\b\b\b\b\b\b\b\b\b\b\b\b\b\b\b\b\b\b\b\b\b\b\r\u001b[1m3/3\u001b[0m \u001b[32m━━━━━━━━━━━━━━━━━━━━\u001b[0m\u001b[37m\u001b[0m \u001b[1m0s\u001b[0m 35ms/step - loss: 0.0174\b\b\b\b\b\b\b\b\b\b\b\b\b\b\b\b\b\b\b\b\b\b\b\b\b\b\b\b\b\b\b\b\b\b\b\b\b\b\b\b\b\b\b\b\b\b\b\b\b\b\b\b\r\u001b[1m3/3\u001b[0m \u001b[32m━━━━━━━━━━━━━━━━━━━━\u001b[0m\u001b[37m\u001b[0m \u001b[1m0s\u001b[0m 53ms/step - loss: 0.0174 - val_loss: 0.0179\n",
      "Epoch 25/500\n",
      "\r\u001b[1m1/3\u001b[0m \u001b[32m━━━━━━\u001b[0m\u001b[37m━━━━━━━━━━━━━━\u001b[0m \u001b[1m0s\u001b[0m 196ms/step - loss: 0.0229\b\b\b\b\b\b\b\b\b\b\b\b\b\b\b\b\b\b\b\b\b\b\b\b\b\b\b\b\b\b\b\b\b\b\b\b\b\b\b\b\b\b\b\b\b\b\b\b\b\b\b\b\b\r\u001b[1m3/3\u001b[0m \u001b[32m━━━━━━━━━━━━━━━━━━━━\u001b[0m\u001b[37m\u001b[0m \u001b[1m0s\u001b[0m 29ms/step - loss: 0.0211 \b\b\b\b\b\b\b\b\b\b\b\b\b\b\b\b\b\b\b\b\b\b\b\b\b\b\b\b\b\b\b\b\b\b\b\b\b\b\b\b\b\b\b\b\b\b\b\b\b\b\b\b\r\u001b[1m3/3\u001b[0m \u001b[32m━━━━━━━━━━━━━━━━━━━━\u001b[0m\u001b[37m\u001b[0m \u001b[1m0s\u001b[0m 46ms/step - loss: 0.0207 - val_loss: 0.0261\n",
      "Epoch 26/500\n",
      "\r\u001b[1m1/3\u001b[0m \u001b[32m━━━━━━\u001b[0m\u001b[37m━━━━━━━━━━━━━━\u001b[0m \u001b[1m0s\u001b[0m 55ms/step - loss: 0.0131\b\b\b\b\b\b\b\b\b\b\b\b\b\b\b\b\b\b\b\b\b\b\b\b\b\b\b\b\b\b\b\b\b\b\b\b\b\b\b\b\b\b\b\b\b\b\b\b\b\b\b\b\r\u001b[1m3/3\u001b[0m \u001b[32m━━━━━━━━━━━━━━━━━━━━\u001b[0m\u001b[37m\u001b[0m \u001b[1m0s\u001b[0m 28ms/step - loss: 0.0159\b\b\b\b\b\b\b\b\b\b\b\b\b\b\b\b\b\b\b\b\b\b\b\b\b\b\b\b\b\b\b\b\b\b\b\b\b\b\b\b\b\b\b\b\b\b\b\b\b\b\b\b\r\u001b[1m3/3\u001b[0m \u001b[32m━━━━━━━━━━━━━━━━━━━━\u001b[0m\u001b[37m\u001b[0m \u001b[1m0s\u001b[0m 47ms/step - loss: 0.0168 - val_loss: 0.0240\n",
      "Epoch 27/500\n",
      "\r\u001b[1m1/3\u001b[0m \u001b[32m━━━━━━\u001b[0m\u001b[37m━━━━━━━━━━━━━━\u001b[0m \u001b[1m0s\u001b[0m 60ms/step - loss: 0.0051\b\b\b\b\b\b\b\b\b\b\b\b\b\b\b\b\b\b\b\b\b\b\b\b\b\b\b\b\b\b\b\b\b\b\b\b\b\b\b\b\b\b\b\b\b\b\b\b\b\b\b\b\r\u001b[1m3/3\u001b[0m \u001b[32m━━━━━━━━━━━━━━━━━━━━\u001b[0m\u001b[37m\u001b[0m \u001b[1m0s\u001b[0m 28ms/step - loss: 0.0125\b\b\b\b\b\b\b\b\b\b\b\b\b\b\b\b\b\b\b\b\b\b\b\b\b\b\b\b\b\b\b\b\b\b\b\b\b\b\b\b\b\b\b\b\b\b\b\b\b\b\b\b\r\u001b[1m3/3\u001b[0m \u001b[32m━━━━━━━━━━━━━━━━━━━━\u001b[0m\u001b[37m\u001b[0m \u001b[1m0s\u001b[0m 47ms/step - loss: 0.0140 - val_loss: 0.0241\n",
      "Epoch 28/500\n",
      "\r\u001b[1m1/3\u001b[0m \u001b[32m━━━━━━\u001b[0m\u001b[37m━━━━━━━━━━━━━━\u001b[0m \u001b[1m0s\u001b[0m 202ms/step - loss: 0.0307\b\b\b\b\b\b\b\b\b\b\b\b\b\b\b\b\b\b\b\b\b\b\b\b\b\b\b\b\b\b\b\b\b\b\b\b\b\b\b\b\b\b\b\b\b\b\b\b\b\b\b\b\b\r\u001b[1m3/3\u001b[0m \u001b[32m━━━━━━━━━━━━━━━━━━━━\u001b[0m\u001b[37m\u001b[0m \u001b[1m0s\u001b[0m 30ms/step - loss: 0.0248 \b\b\b\b\b\b\b\b\b\b\b\b\b\b\b\b\b\b\b\b\b\b\b\b\b\b\b\b\b\b\b\b\b\b\b\b\b\b\b\b\b\b\b\b\b\b\b\b\b\b\b\b\r\u001b[1m3/3\u001b[0m \u001b[32m━━━━━━━━━━━━━━━━━━━━\u001b[0m\u001b[37m\u001b[0m \u001b[1m0s\u001b[0m 67ms/step - loss: 0.0234 - val_loss: 0.0203\n",
      "Epoch 29/500\n",
      "\r\u001b[1m1/3\u001b[0m \u001b[32m━━━━━━\u001b[0m\u001b[37m━━━━━━━━━━━━━━\u001b[0m \u001b[1m0s\u001b[0m 208ms/step - loss: 0.0062\b\b\b\b\b\b\b\b\b\b\b\b\b\b\b\b\b\b\b\b\b\b\b\b\b\b\b\b\b\b\b\b\b\b\b\b\b\b\b\b\b\b\b\b\b\b\b\b\b\b\b\b\b\r\u001b[1m3/3\u001b[0m \u001b[32m━━━━━━━━━━━━━━━━━━━━\u001b[0m\u001b[37m\u001b[0m \u001b[1m0s\u001b[0m 44ms/step - loss: 0.0136 \b\b\b\b\b\b\b\b\b\b\b\b\b\b\b\b\b\b\b\b\b\b\b\b\b\b\b\b\b\b\b\b\b\b\b\b\b\b\b\b\b\b\b\b\b\b\b\b\b\b\b\b\r\u001b[1m3/3\u001b[0m \u001b[32m━━━━━━━━━━━━━━━━━━━━\u001b[0m\u001b[37m\u001b[0m \u001b[1m0s\u001b[0m 68ms/step - loss: 0.0146 - val_loss: 0.0186\n",
      "Epoch 30/500\n",
      "\r\u001b[1m1/3\u001b[0m \u001b[32m━━━━━━\u001b[0m\u001b[37m━━━━━━━━━━━━━━\u001b[0m \u001b[1m0s\u001b[0m 78ms/step - loss: 0.0151\b\b\b\b\b\b\b\b\b\b\b\b\b\b\b\b\b\b\b\b\b\b\b\b\b\b\b\b\b\b\b\b\b\b\b\b\b\b\b\b\b\b\b\b\b\b\b\b\b\b\b\b\r\u001b[1m3/3\u001b[0m \u001b[32m━━━━━━━━━━━━━━━━━━━━\u001b[0m\u001b[37m\u001b[0m \u001b[1m0s\u001b[0m 39ms/step - loss: 0.0170\b\b\b\b\b\b\b\b\b\b\b\b\b\b\b\b\b\b\b\b\b\b\b\b\b\b\b\b\b\b\b\b\b\b\b\b\b\b\b\b\b\b\b\b\b\b\b\b\b\b\b\b\r\u001b[1m3/3\u001b[0m \u001b[32m━━━━━━━━━━━━━━━━━━━━\u001b[0m\u001b[37m\u001b[0m \u001b[1m0s\u001b[0m 69ms/step - loss: 0.0170 - val_loss: 0.0273\n",
      "Epoch 31/500\n",
      "\r\u001b[1m1/3\u001b[0m \u001b[32m━━━━━━\u001b[0m\u001b[37m━━━━━━━━━━━━━━\u001b[0m \u001b[1m0s\u001b[0m 177ms/step - loss: 0.0153\b\b\b\b\b\b\b\b\b\b\b\b\b\b\b\b\b\b\b\b\b\b\b\b\b\b\b\b\b\b\b\b\b\b\b\b\b\b\b\b\b\b\b\b\b\b\b\b\b\b\b\b\b\r\u001b[1m2/3\u001b[0m \u001b[32m━━━━━━━━━━━━━\u001b[0m\u001b[37m━━━━━━━\u001b[0m \u001b[1m0s\u001b[0m 76ms/step - loss: 0.0137 \b\b\b\b\b\b\b\b\b\b\b\b\b\b\b\b\b\b\b\b\b\b\b\b\b\b\b\b\b\b\b\b\b\b\b\b\b\b\b\b\b\b\b\b\b\b\b\b\b\b\b\b\r\u001b[1m3/3\u001b[0m \u001b[32m━━━━━━━━━━━━━━━━━━━━\u001b[0m\u001b[37m\u001b[0m \u001b[1m0s\u001b[0m 88ms/step - loss: 0.0159 - val_loss: 0.0232\n",
      "Epoch 32/500\n",
      "\r\u001b[1m1/3\u001b[0m \u001b[32m━━━━━━\u001b[0m\u001b[37m━━━━━━━━━━━━━━\u001b[0m \u001b[1m0s\u001b[0m 103ms/step - loss: 0.0083\b\b\b\b\b\b\b\b\b\b\b\b\b\b\b\b\b\b\b\b\b\b\b\b\b\b\b\b\b\b\b\b\b\b\b\b\b\b\b\b\b\b\b\b\b\b\b\b\b\b\b\b\b\r\u001b[1m2/3\u001b[0m \u001b[32m━━━━━━━━━━━━━\u001b[0m\u001b[37m━━━━━━━\u001b[0m \u001b[1m0s\u001b[0m 58ms/step - loss: 0.0121 \b\b\b\b\b\b\b\b\b\b\b\b\b\b\b\b\b\b\b\b\b\b\b\b\b\b\b\b\b\b\b\b\b\b\b\b\b\b\b\b\b\b\b\b\b\b\b\b\b\b\b\b\r\u001b[1m3/3\u001b[0m \u001b[32m━━━━━━━━━━━━━━━━━━━━\u001b[0m\u001b[37m\u001b[0m \u001b[1m0s\u001b[0m 56ms/step - loss: 0.0141\b\b\b\b\b\b\b\b\b\b\b\b\b\b\b\b\b\b\b\b\b\b\b\b\b\b\b\b\b\b\b\b\b\b\b\b\b\b\b\b\b\b\b\b\b\b\b\b\b\b\b\b\r\u001b[1m3/3\u001b[0m \u001b[32m━━━━━━━━━━━━━━━━━━━━\u001b[0m\u001b[37m\u001b[0m \u001b[1m0s\u001b[0m 80ms/step - loss: 0.0151 - val_loss: 0.0135\n",
      "Epoch 33/500\n",
      "\r\u001b[1m1/3\u001b[0m \u001b[32m━━━━━━\u001b[0m\u001b[37m━━━━━━━━━━━━━━\u001b[0m \u001b[1m0s\u001b[0m 106ms/step - loss: 0.0165\b\b\b\b\b\b\b\b\b\b\b\b\b\b\b\b\b\b\b\b\b\b\b\b\b\b\b\b\b\b\b\b\b\b\b\b\b\b\b\b\b\b\b\b\b\b\b\b\b\b\b\b\b\r\u001b[1m3/3\u001b[0m \u001b[32m━━━━━━━━━━━━━━━━━━━━\u001b[0m\u001b[37m\u001b[0m \u001b[1m0s\u001b[0m 28ms/step - loss: 0.0187 \b\b\b\b\b\b\b\b\b\b\b\b\b\b\b\b\b\b\b\b\b\b\b\b\b\b\b\b\b\b\b\b\b\b\b\b\b\b\b\b\b\b\b\b\b\b\b\b\b\b\b\b\r\u001b[1m3/3\u001b[0m \u001b[32m━━━━━━━━━━━━━━━━━━━━\u001b[0m\u001b[37m\u001b[0m \u001b[1m0s\u001b[0m 49ms/step - loss: 0.0186 - val_loss: 0.0180\n",
      "Epoch 34/500\n",
      "\r\u001b[1m1/3\u001b[0m \u001b[32m━━━━━━\u001b[0m\u001b[37m━━━━━━━━━━━━━━\u001b[0m \u001b[1m0s\u001b[0m 54ms/step - loss: 0.0099\b\b\b\b\b\b\b\b\b\b\b\b\b\b\b\b\b\b\b\b\b\b\b\b\b\b\b\b\b\b\b\b\b\b\b\b\b\b\b\b\b\b\b\b\b\b\b\b\b\b\b\b\r\u001b[1m3/3\u001b[0m \u001b[32m━━━━━━━━━━━━━━━━━━━━\u001b[0m\u001b[37m\u001b[0m \u001b[1m0s\u001b[0m 31ms/step - loss: 0.0137\b\b\b\b\b\b\b\b\b\b\b\b\b\b\b\b\b\b\b\b\b\b\b\b\b\b\b\b\b\b\b\b\b\b\b\b\b\b\b\b\b\b\b\b\b\b\b\b\b\b\b\b\r\u001b[1m3/3\u001b[0m \u001b[32m━━━━━━━━━━━━━━━━━━━━\u001b[0m\u001b[37m\u001b[0m \u001b[1m0s\u001b[0m 49ms/step - loss: 0.0147 - val_loss: 0.0190\n",
      "Epoch 35/500\n",
      "\r\u001b[1m1/3\u001b[0m \u001b[32m━━━━━━\u001b[0m\u001b[37m━━━━━━━━━━━━━━\u001b[0m \u001b[1m0s\u001b[0m 60ms/step - loss: 0.0335\b\b\b\b\b\b\b\b\b\b\b\b\b\b\b\b\b\b\b\b\b\b\b\b\b\b\b\b\b\b\b\b\b\b\b\b\b\b\b\b\b\b\b\b\b\b\b\b\b\b\b\b\r\u001b[1m3/3\u001b[0m \u001b[32m━━━━━━━━━━━━━━━━━━━━\u001b[0m\u001b[37m\u001b[0m \u001b[1m0s\u001b[0m 30ms/step - loss: 0.0234\b\b\b\b\b\b\b\b\b\b\b\b\b\b\b\b\b\b\b\b\b\b\b\b\b\b\b\b\b\b\b\b\b\b\b\b\b\b\b\b\b\b\b\b\b\b\b\b\b\b\b\b\r\u001b[1m3/3\u001b[0m \u001b[32m━━━━━━━━━━━━━━━━━━━━\u001b[0m\u001b[37m\u001b[0m \u001b[1m0s\u001b[0m 48ms/step - loss: 0.0219 - val_loss: 0.0244\n",
      "Epoch 36/500\n",
      "\r\u001b[1m1/3\u001b[0m \u001b[32m━━━━━━\u001b[0m\u001b[37m━━━━━━━━━━━━━━\u001b[0m \u001b[1m0s\u001b[0m 199ms/step - loss: 0.0268\b\b\b\b\b\b\b\b\b\b\b\b\b\b\b\b\b\b\b\b\b\b\b\b\b\b\b\b\b\b\b\b\b\b\b\b\b\b\b\b\b\b\b\b\b\b\b\b\b\b\b\b\b\r\u001b[1m3/3\u001b[0m \u001b[32m━━━━━━━━━━━━━━━━━━━━\u001b[0m\u001b[37m\u001b[0m \u001b[1m0s\u001b[0m 27ms/step - loss: 0.0213 \b\b\b\b\b\b\b\b\b\b\b\b\b\b\b\b\b\b\b\b\b\b\b\b\b\b\b\b\b\b\b\b\b\b\b\b\b\b\b\b\b\b\b\b\b\b\b\b\b\b\b\b\r\u001b[1m3/3\u001b[0m \u001b[32m━━━━━━━━━━━━━━━━━━━━\u001b[0m\u001b[37m\u001b[0m \u001b[1m0s\u001b[0m 44ms/step - loss: 0.0201 - val_loss: 0.0275\n",
      "Epoch 37/500\n",
      "\r\u001b[1m1/3\u001b[0m \u001b[32m━━━━━━\u001b[0m\u001b[37m━━━━━━━━━━━━━━\u001b[0m \u001b[1m0s\u001b[0m 55ms/step - loss: 0.0136\b\b\b\b\b\b\b\b\b\b\b\b\b\b\b\b\b\b\b\b\b\b\b\b\b\b\b\b\b\b\b\b\b\b\b\b\b\b\b\b\b\b\b\b\b\b\b\b\b\b\b\b\r\u001b[1m3/3\u001b[0m \u001b[32m━━━━━━━━━━━━━━━━━━━━\u001b[0m\u001b[37m\u001b[0m \u001b[1m0s\u001b[0m 27ms/step - loss: 0.0151\b\b\b\b\b\b\b\b\b\b\b\b\b\b\b\b\b\b\b\b\b\b\b\b\b\b\b\b\b\b\b\b\b\b\b\b\b\b\b\b\b\b\b\b\b\b\b\b\b\b\b\b\r\u001b[1m3/3\u001b[0m \u001b[32m━━━━━━━━━━━━━━━━━━━━\u001b[0m\u001b[37m\u001b[0m \u001b[1m0s\u001b[0m 45ms/step - loss: 0.0155 - val_loss: 0.0269\n",
      "Epoch 38/500\n",
      "\r\u001b[1m1/3\u001b[0m \u001b[32m━━━━━━\u001b[0m\u001b[37m━━━━━━━━━━━━━━\u001b[0m \u001b[1m0s\u001b[0m 55ms/step - loss: 0.0201\b\b\b\b\b\b\b\b\b\b\b\b\b\b\b\b\b\b\b\b\b\b\b\b\b\b\b\b\b\b\b\b\b\b\b\b\b\b\b\b\b\b\b\b\b\b\b\b\b\b\b\b\r\u001b[1m3/3\u001b[0m \u001b[32m━━━━━━━━━━━━━━━━━━━━\u001b[0m\u001b[37m\u001b[0m \u001b[1m0s\u001b[0m 33ms/step - loss: 0.0188\b\b\b\b\b\b\b\b\b\b\b\b\b\b\b\b\b\b\b\b\b\b\b\b\b\b\b\b\b\b\b\b\b\b\b\b\b\b\b\b\b\b\b\b\b\b\b\b\b\b\b\b\r\u001b[1m3/3\u001b[0m \u001b[32m━━━━━━━━━━━━━━━━━━━━\u001b[0m\u001b[37m\u001b[0m \u001b[1m0s\u001b[0m 51ms/step - loss: 0.0182 - val_loss: 0.0326\n",
      "Epoch 39/500\n",
      "\r\u001b[1m1/3\u001b[0m \u001b[32m━━━━━━\u001b[0m\u001b[37m━━━━━━━━━━━━━━\u001b[0m \u001b[1m0s\u001b[0m 195ms/step - loss: 0.0117\b\b\b\b\b\b\b\b\b\b\b\b\b\b\b\b\b\b\b\b\b\b\b\b\b\b\b\b\b\b\b\b\b\b\b\b\b\b\b\b\b\b\b\b\b\b\b\b\b\b\b\b\b\r\u001b[1m3/3\u001b[0m \u001b[32m━━━━━━━━━━━━━━━━━━━━\u001b[0m\u001b[37m\u001b[0m \u001b[1m0s\u001b[0m 29ms/step - loss: 0.0140 \b\b\b\b\b\b\b\b\b\b\b\b\b\b\b\b\b\b\b\b\b\b\b\b\b\b\b\b\b\b\b\b\b\b\b\b\b\b\b\b\b\b\b\b\b\b\b\b\b\b\b\b\r\u001b[1m3/3\u001b[0m \u001b[32m━━━━━━━━━━━━━━━━━━━━\u001b[0m\u001b[37m\u001b[0m \u001b[1m0s\u001b[0m 47ms/step - loss: 0.0143 - val_loss: 0.0266\n",
      "Epoch 40/500\n",
      "\r\u001b[1m1/3\u001b[0m \u001b[32m━━━━━━\u001b[0m\u001b[37m━━━━━━━━━━━━━━\u001b[0m \u001b[1m0s\u001b[0m 50ms/step - loss: 0.0053\b\b\b\b\b\b\b\b\b\b\b\b\b\b\b\b\b\b\b\b\b\b\b\b\b\b\b\b\b\b\b\b\b\b\b\b\b\b\b\b\b\b\b\b\b\b\b\b\b\b\b\b\r\u001b[1m3/3\u001b[0m \u001b[32m━━━━━━━━━━━━━━━━━━━━\u001b[0m\u001b[37m\u001b[0m \u001b[1m0s\u001b[0m 27ms/step - loss: 0.0107\b\b\b\b\b\b\b\b\b\b\b\b\b\b\b\b\b\b\b\b\b\b\b\b\b\b\b\b\b\b\b\b\b\b\b\b\b\b\b\b\b\b\b\b\b\b\b\b\b\b\b\b\r\u001b[1m3/3\u001b[0m \u001b[32m━━━━━━━━━━━━━━━━━━━━\u001b[0m\u001b[37m\u001b[0m \u001b[1m0s\u001b[0m 46ms/step - loss: 0.0118 - val_loss: 0.0240\n",
      "Epoch 41/500\n",
      "\r\u001b[1m1/3\u001b[0m \u001b[32m━━━━━━\u001b[0m\u001b[37m━━━━━━━━━━━━━━\u001b[0m \u001b[1m0s\u001b[0m 50ms/step - loss: 0.0152\b\b\b\b\b\b\b\b\b\b\b\b\b\b\b\b\b\b\b\b\b\b\b\b\b\b\b\b\b\b\b\b\b\b\b\b\b\b\b\b\b\b\b\b\b\b\b\b\b\b\b\b\r\u001b[1m3/3\u001b[0m \u001b[32m━━━━━━━━━━━━━━━━━━━━\u001b[0m\u001b[37m\u001b[0m \u001b[1m0s\u001b[0m 27ms/step - loss: 0.0160\b\b\b\b\b\b\b\b\b\b\b\b\b\b\b\b\b\b\b\b\b\b\b\b\b\b\b\b\b\b\b\b\b\b\b\b\b\b\b\b\b\b\b\b\b\b\b\b\b\b\b\b\r\u001b[1m3/3\u001b[0m \u001b[32m━━━━━━━━━━━━━━━━━━━━\u001b[0m\u001b[37m\u001b[0m \u001b[1m0s\u001b[0m 45ms/step - loss: 0.0156 - val_loss: 0.0337\n",
      "Epoch 42/500\n",
      "\r\u001b[1m1/3\u001b[0m \u001b[32m━━━━━━\u001b[0m\u001b[37m━━━━━━━━━━━━━━\u001b[0m \u001b[1m0s\u001b[0m 52ms/step - loss: 0.0163\b\b\b\b\b\b\b\b\b\b\b\b\b\b\b\b\b\b\b\b\b\b\b\b\b\b\b\b\b\b\b\b\b\b\b\b\b\b\b\b\b\b\b\b\b\b\b\b\b\b\b\b\r\u001b[1m3/3\u001b[0m \u001b[32m━━━━━━━━━━━━━━━━━━━━\u001b[0m\u001b[37m\u001b[0m \u001b[1m0s\u001b[0m 28ms/step - loss: 0.0168\b\b\b\b\b\b\b\b\b\b\b\b\b\b\b\b\b\b\b\b\b\b\b\b\b\b\b\b\b\b\b\b\b\b\b\b\b\b\b\b\b\b\b\b\b\b\b\b\b\b\b\b\r\u001b[1m3/3\u001b[0m \u001b[32m━━━━━━━━━━━━━━━━━━━━\u001b[0m\u001b[37m\u001b[0m \u001b[1m0s\u001b[0m 48ms/step - loss: 0.0166 - val_loss: 0.0344\n",
      "Epoch 43/500\n",
      "\r\u001b[1m1/3\u001b[0m \u001b[32m━━━━━━\u001b[0m\u001b[37m━━━━━━━━━━━━━━\u001b[0m \u001b[1m0s\u001b[0m 206ms/step - loss: 0.0333\b\b\b\b\b\b\b\b\b\b\b\b\b\b\b\b\b\b\b\b\b\b\b\b\b\b\b\b\b\b\b\b\b\b\b\b\b\b\b\b\b\b\b\b\b\b\b\b\b\b\b\b\b\r\u001b[1m3/3\u001b[0m \u001b[32m━━━━━━━━━━━━━━━━━━━━\u001b[0m\u001b[37m\u001b[0m \u001b[1m0s\u001b[0m 32ms/step - loss: 0.0232 \b\b\b\b\b\b\b\b\b\b\b\b\b\b\b\b\b\b\b\b\b\b\b\b\b\b\b\b\b\b\b\b\b\b\b\b\b\b\b\b\b\b\b\b\b\b\b\b\b\b\b\b\r\u001b[1m3/3\u001b[0m \u001b[32m━━━━━━━━━━━━━━━━━━━━\u001b[0m\u001b[37m\u001b[0m \u001b[1m0s\u001b[0m 50ms/step - loss: 0.0213 - val_loss: 0.0368\n",
      "Epoch 44/500\n",
      "\r\u001b[1m1/3\u001b[0m \u001b[32m━━━━━━\u001b[0m\u001b[37m━━━━━━━━━━━━━━\u001b[0m \u001b[1m0s\u001b[0m 55ms/step - loss: 0.0131\b\b\b\b\b\b\b\b\b\b\b\b\b\b\b\b\b\b\b\b\b\b\b\b\b\b\b\b\b\b\b\b\b\b\b\b\b\b\b\b\b\b\b\b\b\b\b\b\b\b\b\b\r\u001b[1m3/3\u001b[0m \u001b[32m━━━━━━━━━━━━━━━━━━━━\u001b[0m\u001b[37m\u001b[0m \u001b[1m0s\u001b[0m 29ms/step - loss: 0.0154\b\b\b\b\b\b\b\b\b\b\b\b\b\b\b\b\b\b\b\b\b\b\b\b\b\b\b\b\b\b\b\b\b\b\b\b\b\b\b\b\b\b\b\b\b\b\b\b\b\b\b\b\r\u001b[1m3/3\u001b[0m \u001b[32m━━━━━━━━━━━━━━━━━━━━\u001b[0m\u001b[37m\u001b[0m \u001b[1m0s\u001b[0m 47ms/step - loss: 0.0154 - val_loss: 0.0365\n",
      "Epoch 45/500\n",
      "\r\u001b[1m1/3\u001b[0m \u001b[32m━━━━━━\u001b[0m\u001b[37m━━━━━━━━━━━━━━\u001b[0m \u001b[1m0s\u001b[0m 55ms/step - loss: 0.0215\b\b\b\b\b\b\b\b\b\b\b\b\b\b\b\b\b\b\b\b\b\b\b\b\b\b\b\b\b\b\b\b\b\b\b\b\b\b\b\b\b\b\b\b\b\b\b\b\b\b\b\b\r\u001b[1m3/3\u001b[0m \u001b[32m━━━━━━━━━━━━━━━━━━━━\u001b[0m\u001b[37m\u001b[0m \u001b[1m0s\u001b[0m 28ms/step - loss: 0.0173\b\b\b\b\b\b\b\b\b\b\b\b\b\b\b\b\b\b\b\b\b\b\b\b\b\b\b\b\b\b\b\b\b\b\b\b\b\b\b\b\b\b\b\b\b\b\b\b\b\b\b\b\r\u001b[1m3/3\u001b[0m \u001b[32m━━━━━━━━━━━━━━━━━━━━\u001b[0m\u001b[37m\u001b[0m \u001b[1m0s\u001b[0m 45ms/step - loss: 0.0164 - val_loss: 0.0364\n",
      "Epoch 46/500\n",
      "\r\u001b[1m1/3\u001b[0m \u001b[32m━━━━━━\u001b[0m\u001b[37m━━━━━━━━━━━━━━\u001b[0m \u001b[1m0s\u001b[0m 52ms/step - loss: 0.0076\b\b\b\b\b\b\b\b\b\b\b\b\b\b\b\b\b\b\b\b\b\b\b\b\b\b\b\b\b\b\b\b\b\b\b\b\b\b\b\b\b\b\b\b\b\b\b\b\b\b\b\b\r\u001b[1m3/3\u001b[0m \u001b[32m━━━━━━━━━━━━━━━━━━━━\u001b[0m\u001b[37m\u001b[0m \u001b[1m0s\u001b[0m 29ms/step - loss: 0.0143\b\b\b\b\b\b\b\b\b\b\b\b\b\b\b\b\b\b\b\b\b\b\b\b\b\b\b\b\b\b\b\b\b\b\b\b\b\b\b\b\b\b\b\b\b\b\b\b\b\b\b\b\r\u001b[1m3/3\u001b[0m \u001b[32m━━━━━━━━━━━━━━━━━━━━\u001b[0m\u001b[37m\u001b[0m \u001b[1m0s\u001b[0m 47ms/step - loss: 0.0145 - val_loss: 0.0549\n",
      "Epoch 47/500\n",
      "\r\u001b[1m1/3\u001b[0m \u001b[32m━━━━━━\u001b[0m\u001b[37m━━━━━━━━━━━━━━\u001b[0m \u001b[1m0s\u001b[0m 56ms/step - loss: 0.0181\b\b\b\b\b\b\b\b\b\b\b\b\b\b\b\b\b\b\b\b\b\b\b\b\b\b\b\b\b\b\b\b\b\b\b\b\b\b\b\b\b\b\b\b\b\b\b\b\b\b\b\b\r\u001b[1m3/3\u001b[0m \u001b[32m━━━━━━━━━━━━━━━━━━━━\u001b[0m\u001b[37m\u001b[0m \u001b[1m0s\u001b[0m 27ms/step - loss: 0.0177\b\b\b\b\b\b\b\b\b\b\b\b\b\b\b\b\b\b\b\b\b\b\b\b\b\b\b\b\b\b\b\b\b\b\b\b\b\b\b\b\b\b\b\b\b\b\b\b\b\b\b\b\r\u001b[1m3/3\u001b[0m \u001b[32m━━━━━━━━━━━━━━━━━━━━\u001b[0m\u001b[37m\u001b[0m \u001b[1m0s\u001b[0m 45ms/step - loss: 0.0171 - val_loss: 0.0319\n",
      "Epoch 48/500\n",
      "\r\u001b[1m1/3\u001b[0m \u001b[32m━━━━━━\u001b[0m\u001b[37m━━━━━━━━━━━━━━\u001b[0m \u001b[1m0s\u001b[0m 213ms/step - loss: 0.0192\b\b\b\b\b\b\b\b\b\b\b\b\b\b\b\b\b\b\b\b\b\b\b\b\b\b\b\b\b\b\b\b\b\b\b\b\b\b\b\b\b\b\b\b\b\b\b\b\b\b\b\b\b\r\u001b[1m3/3\u001b[0m \u001b[32m━━━━━━━━━━━━━━━━━━━━\u001b[0m\u001b[37m\u001b[0m \u001b[1m0s\u001b[0m 35ms/step - loss: 0.0155 \b\b\b\b\b\b\b\b\b\b\b\b\b\b\b\b\b\b\b\b\b\b\b\b\b\b\b\b\b\b\b\b\b\b\b\b\b\b\b\b\b\b\b\b\b\b\b\b\b\b\b\b\r\u001b[1m3/3\u001b[0m \u001b[32m━━━━━━━━━━━━━━━━━━━━\u001b[0m\u001b[37m\u001b[0m \u001b[1m0s\u001b[0m 53ms/step - loss: 0.0151 - val_loss: 0.0266\n",
      "Epoch 49/500\n",
      "\r\u001b[1m1/3\u001b[0m \u001b[32m━━━━━━\u001b[0m\u001b[37m━━━━━━━━━━━━━━\u001b[0m \u001b[1m0s\u001b[0m 63ms/step - loss: 0.0170\b\b\b\b\b\b\b\b\b\b\b\b\b\b\b\b\b\b\b\b\b\b\b\b\b\b\b\b\b\b\b\b\b\b\b\b\b\b\b\b\b\b\b\b\b\b\b\b\b\b\b\b\r\u001b[1m3/3\u001b[0m \u001b[32m━━━━━━━━━━━━━━━━━━━━\u001b[0m\u001b[37m\u001b[0m \u001b[1m0s\u001b[0m 34ms/step - loss: 0.0137\b\b\b\b\b\b\b\b\b\b\b\b\b\b\b\b\b\b\b\b\b\b\b\b\b\b\b\b\b\b\b\b\b\b\b\b\b\b\b\b\b\b\b\b\b\b\b\b\b\b\b\b\r\u001b[1m3/3\u001b[0m \u001b[32m━━━━━━━━━━━━━━━━━━━━\u001b[0m\u001b[37m\u001b[0m \u001b[1m0s\u001b[0m 65ms/step - loss: 0.0136 - val_loss: 0.0358\n",
      "Epoch 50/500\n",
      "\r\u001b[1m1/3\u001b[0m \u001b[32m━━━━━━\u001b[0m\u001b[37m━━━━━━━━━━━━━━\u001b[0m \u001b[1m0s\u001b[0m 157ms/step - loss: 0.0064\b\b\b\b\b\b\b\b\b\b\b\b\b\b\b\b\b\b\b\b\b\b\b\b\b\b\b\b\b\b\b\b\b\b\b\b\b\b\b\b\b\b\b\b\b\b\b\b\b\b\b\b\b\r\u001b[1m3/3\u001b[0m \u001b[32m━━━━━━━━━━━━━━━━━━━━\u001b[0m\u001b[37m\u001b[0m \u001b[1m0s\u001b[0m 29ms/step - loss: 0.0103 \b\b\b\b\b\b\b\b\b\b\b\b\b\b\b\b\b\b\b\b\b\b\b\b\b\b\b\b\b\b\b\b\b\b\b\b\b\b\b\b\b\b\b\b\b\b\b\b\b\b\b\b\r\u001b[1m3/3\u001b[0m \u001b[32m━━━━━━━━━━━━━━━━━━━━\u001b[0m\u001b[37m\u001b[0m \u001b[1m0s\u001b[0m 47ms/step - loss: 0.0118 - val_loss: 0.0402\n",
      "Epoch 51/500\n",
      "\r\u001b[1m1/3\u001b[0m \u001b[32m━━━━━━\u001b[0m\u001b[37m━━━━━━━━━━━━━━\u001b[0m \u001b[1m0s\u001b[0m 50ms/step - loss: 0.0244\b\b\b\b\b\b\b\b\b\b\b\b\b\b\b\b\b\b\b\b\b\b\b\b\b\b\b\b\b\b\b\b\b\b\b\b\b\b\b\b\b\b\b\b\b\b\b\b\b\b\b\b\r\u001b[1m3/3\u001b[0m \u001b[32m━━━━━━━━━━━━━━━━━━━━\u001b[0m\u001b[37m\u001b[0m \u001b[1m0s\u001b[0m 28ms/step - loss: 0.0185\b\b\b\b\b\b\b\b\b\b\b\b\b\b\b\b\b\b\b\b\b\b\b\b\b\b\b\b\b\b\b\b\b\b\b\b\b\b\b\b\b\b\b\b\b\b\b\b\b\b\b\b\r\u001b[1m3/3\u001b[0m \u001b[32m━━━━━━━━━━━━━━━━━━━━\u001b[0m\u001b[37m\u001b[0m \u001b[1m0s\u001b[0m 47ms/step - loss: 0.0175 - val_loss: 0.0449\n",
      "Epoch 52/500\n",
      "\r\u001b[1m1/3\u001b[0m \u001b[32m━━━━━━\u001b[0m\u001b[37m━━━━━━━━━━━━━━\u001b[0m \u001b[1m0s\u001b[0m 237ms/step - loss: 0.0170\b\b\b\b\b\b\b\b\b\b\b\b\b\b\b\b\b\b\b\b\b\b\b\b\b\b\b\b\b\b\b\b\b\b\b\b\b\b\b\b\b\b\b\b\b\b\b\b\b\b\b\b\b\r\u001b[1m2/3\u001b[0m \u001b[32m━━━━━━━━━━━━━\u001b[0m\u001b[37m━━━━━━━\u001b[0m \u001b[1m0s\u001b[0m 78ms/step - loss: 0.0160 \b\b\b\b\b\b\b\b\b\b\b\b\b\b\b\b\b\b\b\b\b\b\b\b\b\b\b\b\b\b\b\b\b\b\b\b\b\b\b\b\b\b\b\b\b\b\b\b\b\b\b\b\r\u001b[1m3/3\u001b[0m \u001b[32m━━━━━━━━━━━━━━━━━━━━\u001b[0m\u001b[37m\u001b[0m \u001b[1m0s\u001b[0m 70ms/step - loss: 0.0147 - val_loss: 0.0340\n",
      "Epoch 53/500\n",
      "\r\u001b[1m1/3\u001b[0m \u001b[32m━━━━━━\u001b[0m\u001b[37m━━━━━━━━━━━━━━\u001b[0m \u001b[1m0s\u001b[0m 130ms/step - loss: 0.0107\b\b\b\b\b\b\b\b\b\b\b\b\b\b\b\b\b\b\b\b\b\b\b\b\b\b\b\b\b\b\b\b\b\b\b\b\b\b\b\b\b\b\b\b\b\b\b\b\b\b\b\b\b\r\u001b[1m3/3\u001b[0m \u001b[32m━━━━━━━━━━━━━━━━━━━━\u001b[0m\u001b[37m\u001b[0m \u001b[1m0s\u001b[0m 28ms/step - loss: 0.0130 \b\b\b\b\b\b\b\b\b\b\b\b\b\b\b\b\b\b\b\b\b\b\b\b\b\b\b\b\b\b\b\b\b\b\b\b\b\b\b\b\b\b\b\b\b\b\b\b\b\b\b\b\r\u001b[1m3/3\u001b[0m \u001b[32m━━━━━━━━━━━━━━━━━━━━\u001b[0m\u001b[37m\u001b[0m \u001b[1m0s\u001b[0m 46ms/step - loss: 0.0136 - val_loss: 0.0327\n",
      "Epoch 54/500\n",
      "\r\u001b[1m1/3\u001b[0m \u001b[32m━━━━━━\u001b[0m\u001b[37m━━━━━━━━━━━━━━\u001b[0m \u001b[1m0s\u001b[0m 65ms/step - loss: 0.0147\b\b\b\b\b\b\b\b\b\b\b\b\b\b\b\b\b\b\b\b\b\b\b\b\b\b\b\b\b\b\b\b\b\b\b\b\b\b\b\b\b\b\b\b\b\b\b\b\b\b\b\b\r\u001b[1m3/3\u001b[0m \u001b[32m━━━━━━━━━━━━━━━━━━━━\u001b[0m\u001b[37m\u001b[0m \u001b[1m0s\u001b[0m 27ms/step - loss: 0.0155\b\b\b\b\b\b\b\b\b\b\b\b\b\b\b\b\b\b\b\b\b\b\b\b\b\b\b\b\b\b\b\b\b\b\b\b\b\b\b\b\b\b\b\b\b\b\b\b\b\b\b\b\r\u001b[1m3/3\u001b[0m \u001b[32m━━━━━━━━━━━━━━━━━━━━\u001b[0m\u001b[37m\u001b[0m \u001b[1m0s\u001b[0m 45ms/step - loss: 0.0160 - val_loss: 0.0237\n",
      "Epoch 55/500\n",
      "\r\u001b[1m1/3\u001b[0m \u001b[32m━━━━━━\u001b[0m\u001b[37m━━━━━━━━━━━━━━\u001b[0m \u001b[1m0s\u001b[0m 54ms/step - loss: 0.0093\b\b\b\b\b\b\b\b\b\b\b\b\b\b\b\b\b\b\b\b\b\b\b\b\b\b\b\b\b\b\b\b\b\b\b\b\b\b\b\b\b\b\b\b\b\b\b\b\b\b\b\b\r\u001b[1m3/3\u001b[0m \u001b[32m━━━━━━━━━━━━━━━━━━━━\u001b[0m\u001b[37m\u001b[0m \u001b[1m0s\u001b[0m 28ms/step - loss: 0.0125\b\b\b\b\b\b\b\b\b\b\b\b\b\b\b\b\b\b\b\b\b\b\b\b\b\b\b\b\b\b\b\b\b\b\b\b\b\b\b\b\b\b\b\b\b\b\b\b\b\b\b\b\r\u001b[1m3/3\u001b[0m \u001b[32m━━━━━━━━━━━━━━━━━━━━\u001b[0m\u001b[37m\u001b[0m \u001b[1m0s\u001b[0m 56ms/step - loss: 0.0125 - val_loss: 0.0228\n",
      "Epoch 56/500\n",
      "\r\u001b[1m1/3\u001b[0m \u001b[32m━━━━━━\u001b[0m\u001b[37m━━━━━━━━━━━━━━\u001b[0m \u001b[1m0s\u001b[0m 186ms/step - loss: 0.0207\b\b\b\b\b\b\b\b\b\b\b\b\b\b\b\b\b\b\b\b\b\b\b\b\b\b\b\b\b\b\b\b\b\b\b\b\b\b\b\b\b\b\b\b\b\b\b\b\b\b\b\b\b\r\u001b[1m3/3\u001b[0m \u001b[32m━━━━━━━━━━━━━━━━━━━━\u001b[0m\u001b[37m\u001b[0m \u001b[1m0s\u001b[0m 30ms/step - loss: 0.0155 \b\b\b\b\b\b\b\b\b\b\b\b\b\b\b\b\b\b\b\b\b\b\b\b\b\b\b\b\b\b\b\b\b\b\b\b\b\b\b\b\b\b\b\b\b\b\b\b\b\b\b\b\r\u001b[1m3/3\u001b[0m \u001b[32m━━━━━━━━━━━━━━━━━━━━\u001b[0m\u001b[37m\u001b[0m \u001b[1m0s\u001b[0m 50ms/step - loss: 0.0150 - val_loss: 0.0476\n",
      "Epoch 57/500\n",
      "\r\u001b[1m1/3\u001b[0m \u001b[32m━━━━━━\u001b[0m\u001b[37m━━━━━━━━━━━━━━\u001b[0m \u001b[1m0s\u001b[0m 50ms/step - loss: 0.0107\b\b\b\b\b\b\b\b\b\b\b\b\b\b\b\b\b\b\b\b\b\b\b\b\b\b\b\b\b\b\b\b\b\b\b\b\b\b\b\b\b\b\b\b\b\b\b\b\b\b\b\b\r\u001b[1m3/3\u001b[0m \u001b[32m━━━━━━━━━━━━━━━━━━━━\u001b[0m\u001b[37m\u001b[0m \u001b[1m0s\u001b[0m 28ms/step - loss: 0.0138\b\b\b\b\b\b\b\b\b\b\b\b\b\b\b\b\b\b\b\b\b\b\b\b\b\b\b\b\b\b\b\b\b\b\b\b\b\b\b\b\b\b\b\b\b\b\b\b\b\b\b\b\r\u001b[1m3/3\u001b[0m \u001b[32m━━━━━━━━━━━━━━━━━━━━\u001b[0m\u001b[37m\u001b[0m \u001b[1m0s\u001b[0m 47ms/step - loss: 0.0137 - val_loss: 0.0395\n",
      "Epoch 58/500\n",
      "\r\u001b[1m1/3\u001b[0m \u001b[32m━━━━━━\u001b[0m\u001b[37m━━━━━━━━━━━━━━\u001b[0m \u001b[1m0s\u001b[0m 50ms/step - loss: 0.0257\b\b\b\b\b\b\b\b\b\b\b\b\b\b\b\b\b\b\b\b\b\b\b\b\b\b\b\b\b\b\b\b\b\b\b\b\b\b\b\b\b\b\b\b\b\b\b\b\b\b\b\b\r\u001b[1m3/3\u001b[0m \u001b[32m━━━━━━━━━━━━━━━━━━━━\u001b[0m\u001b[37m\u001b[0m \u001b[1m0s\u001b[0m 37ms/step - loss: 0.0189\b\b\b\b\b\b\b\b\b\b\b\b\b\b\b\b\b\b\b\b\b\b\b\b\b\b\b\b\b\b\b\b\b\b\b\b\b\b\b\b\b\b\b\b\b\b\b\b\b\b\b\b\r\u001b[1m3/3\u001b[0m \u001b[32m━━━━━━━━━━━━━━━━━━━━\u001b[0m\u001b[37m\u001b[0m \u001b[1m0s\u001b[0m 65ms/step - loss: 0.0177 - val_loss: 0.0105\n",
      "Epoch 59/500\n",
      "\r\u001b[1m1/3\u001b[0m \u001b[32m━━━━━━\u001b[0m\u001b[37m━━━━━━━━━━━━━━\u001b[0m \u001b[1m0s\u001b[0m 177ms/step - loss: 0.0176\b\b\b\b\b\b\b\b\b\b\b\b\b\b\b\b\b\b\b\b\b\b\b\b\b\b\b\b\b\b\b\b\b\b\b\b\b\b\b\b\b\b\b\b\b\b\b\b\b\b\b\b\b\r\u001b[1m3/3\u001b[0m \u001b[32m━━━━━━━━━━━━━━━━━━━━\u001b[0m\u001b[37m\u001b[0m \u001b[1m0s\u001b[0m 31ms/step - loss: 0.0159 \b\b\b\b\b\b\b\b\b\b\b\b\b\b\b\b\b\b\b\b\b\b\b\b\b\b\b\b\b\b\b\b\b\b\b\b\b\b\b\b\b\b\b\b\b\b\b\b\b\b\b\b\r\u001b[1m3/3\u001b[0m \u001b[32m━━━━━━━━━━━━━━━━━━━━\u001b[0m\u001b[37m\u001b[0m \u001b[1m0s\u001b[0m 49ms/step - loss: 0.0153 - val_loss: 0.0211\n",
      "Epoch 60/500\n",
      "\r\u001b[1m1/3\u001b[0m \u001b[32m━━━━━━\u001b[0m\u001b[37m━━━━━━━━━━━━━━\u001b[0m \u001b[1m0s\u001b[0m 207ms/step - loss: 0.0056\b\b\b\b\b\b\b\b\b\b\b\b\b\b\b\b\b\b\b\b\b\b\b\b\b\b\b\b\b\b\b\b\b\b\b\b\b\b\b\b\b\b\b\b\b\b\b\b\b\b\b\b\b\r\u001b[1m3/3\u001b[0m \u001b[32m━━━━━━━━━━━━━━━━━━━━\u001b[0m\u001b[37m\u001b[0m \u001b[1m0s\u001b[0m 34ms/step - loss: 0.0107 \b\b\b\b\b\b\b\b\b\b\b\b\b\b\b\b\b\b\b\b\b\b\b\b\b\b\b\b\b\b\b\b\b\b\b\b\b\b\b\b\b\b\b\b\b\b\b\b\b\b\b\b\r\u001b[1m3/3\u001b[0m \u001b[32m━━━━━━━━━━━━━━━━━━━━\u001b[0m\u001b[37m\u001b[0m \u001b[1m0s\u001b[0m 63ms/step - loss: 0.0115 - val_loss: 0.0555\n",
      "Epoch 61/500\n",
      "\r\u001b[1m1/3\u001b[0m \u001b[32m━━━━━━\u001b[0m\u001b[37m━━━━━━━━━━━━━━\u001b[0m \u001b[1m0s\u001b[0m 58ms/step - loss: 0.0070\b\b\b\b\b\b\b\b\b\b\b\b\b\b\b\b\b\b\b\b\b\b\b\b\b\b\b\b\b\b\b\b\b\b\b\b\b\b\b\b\b\b\b\b\b\b\b\b\b\b\b\b\r\u001b[1m3/3\u001b[0m \u001b[32m━━━━━━━━━━━━━━━━━━━━\u001b[0m\u001b[37m\u001b[0m \u001b[1m0s\u001b[0m 27ms/step - loss: 0.0088\b\b\b\b\b\b\b\b\b\b\b\b\b\b\b\b\b\b\b\b\b\b\b\b\b\b\b\b\b\b\b\b\b\b\b\b\b\b\b\b\b\b\b\b\b\b\b\b\b\b\b\b\r\u001b[1m3/3\u001b[0m \u001b[32m━━━━━━━━━━━━━━━━━━━━\u001b[0m\u001b[37m\u001b[0m \u001b[1m0s\u001b[0m 44ms/step - loss: 0.0097 - val_loss: 0.0424\n",
      "Epoch 62/500\n",
      "\r\u001b[1m1/3\u001b[0m \u001b[32m━━━━━━\u001b[0m\u001b[37m━━━━━━━━━━━━━━\u001b[0m \u001b[1m0s\u001b[0m 77ms/step - loss: 0.0113\b\b\b\b\b\b\b\b\b\b\b\b\b\b\b\b\b\b\b\b\b\b\b\b\b\b\b\b\b\b\b\b\b\b\b\b\b\b\b\b\b\b\b\b\b\b\b\b\b\b\b\b\r\u001b[1m2/3\u001b[0m \u001b[32m━━━━━━━━━━━━━\u001b[0m\u001b[37m━━━━━━━\u001b[0m \u001b[1m0s\u001b[0m 55ms/step - loss: 0.0123\b\b\b\b\b\b\b\b\b\b\b\b\b\b\b\b\b\b\b\b\b\b\b\b\b\b\b\b\b\b\b\b\b\b\b\b\b\b\b\b\b\b\b\b\b\b\b\b\b\b\b\b\r\u001b[1m3/3\u001b[0m \u001b[32m━━━━━━━━━━━━━━━━━━━━\u001b[0m\u001b[37m\u001b[0m \u001b[1m0s\u001b[0m 61ms/step - loss: 0.0120\b\b\b\b\b\b\b\b\b\b\b\b\b\b\b\b\b\b\b\b\b\b\b\b\b\b\b\b\b\b\b\b\b\b\b\b\b\b\b\b\b\b\b\b\b\b\b\b\b\b\b\b\r\u001b[1m3/3\u001b[0m \u001b[32m━━━━━━━━━━━━━━━━━━━━\u001b[0m\u001b[37m\u001b[0m \u001b[1m0s\u001b[0m 98ms/step - loss: 0.0119 - val_loss: 0.0226\n",
      "Epoch 63/500\n",
      "\r\u001b[1m1/3\u001b[0m \u001b[32m━━━━━━\u001b[0m\u001b[37m━━━━━━━━━━━━━━\u001b[0m \u001b[1m0s\u001b[0m 99ms/step - loss: 0.0063\b\b\b\b\b\b\b\b\b\b\b\b\b\b\b\b\b\b\b\b\b\b\b\b\b\b\b\b\b\b\b\b\b\b\b\b\b\b\b\b\b\b\b\b\b\b\b\b\b\b\b\b\r\u001b[1m2/3\u001b[0m \u001b[32m━━━━━━━━━━━━━\u001b[0m\u001b[37m━━━━━━━\u001b[0m \u001b[1m0s\u001b[0m 53ms/step - loss: 0.0081\b\b\b\b\b\b\b\b\b\b\b\b\b\b\b\b\b\b\b\b\b\b\b\b\b\b\b\b\b\b\b\b\b\b\b\b\b\b\b\b\b\b\b\b\b\b\b\b\b\b\b\b\r\u001b[1m3/3\u001b[0m \u001b[32m━━━━━━━━━━━━━━━━━━━━\u001b[0m\u001b[37m\u001b[0m \u001b[1m0s\u001b[0m 53ms/step - loss: 0.0100\b\b\b\b\b\b\b\b\b\b\b\b\b\b\b\b\b\b\b\b\b\b\b\b\b\b\b\b\b\b\b\b\b\b\b\b\b\b\b\b\b\b\b\b\b\b\b\b\b\b\b\b\r\u001b[1m3/3\u001b[0m \u001b[32m━━━━━━━━━━━━━━━━━━━━\u001b[0m\u001b[37m\u001b[0m \u001b[1m0s\u001b[0m 81ms/step - loss: 0.0110 - val_loss: 0.0230\n",
      "Epoch 64/500\n",
      "\r\u001b[1m1/3\u001b[0m \u001b[32m━━━━━━\u001b[0m\u001b[37m━━━━━━━━━━━━━━\u001b[0m \u001b[1m0s\u001b[0m 186ms/step - loss: 0.0091\b\b\b\b\b\b\b\b\b\b\b\b\b\b\b\b\b\b\b\b\b\b\b\b\b\b\b\b\b\b\b\b\b\b\b\b\b\b\b\b\b\b\b\b\b\b\b\b\b\b\b\b\b\r\u001b[1m2/3\u001b[0m \u001b[32m━━━━━━━━━━━━━\u001b[0m\u001b[37m━━━━━━━\u001b[0m \u001b[1m0s\u001b[0m 73ms/step - loss: 0.0118 \b\b\b\b\b\b\b\b\b\b\b\b\b\b\b\b\b\b\b\b\b\b\b\b\b\b\b\b\b\b\b\b\b\b\b\b\b\b\b\b\b\b\b\b\b\b\b\b\b\b\b\b\r\u001b[1m3/3\u001b[0m \u001b[32m━━━━━━━━━━━━━━━━━━━━\u001b[0m\u001b[37m\u001b[0m \u001b[1m0s\u001b[0m 62ms/step - loss: 0.0118\b\b\b\b\b\b\b\b\b\b\b\b\b\b\b\b\b\b\b\b\b\b\b\b\b\b\b\b\b\b\b\b\b\b\b\b\b\b\b\b\b\b\b\b\b\b\b\b\b\b\b\b\r\u001b[1m3/3\u001b[0m \u001b[32m━━━━━━━━━━━━━━━━━━━━\u001b[0m\u001b[37m\u001b[0m \u001b[1m0s\u001b[0m 89ms/step - loss: 0.0118 - val_loss: 0.0525\n",
      "Epoch 64: early stopping\n",
      "Restoring model weights from the end of the best epoch: 4.\n",
      "Out[29]: <keras.src.callbacks.history.History at 0x7f3f801c20a0>"
     ]
    }
   ],
   "source": [
    "# from tensorflow.keras.models import Sequential\n",
    "# from tensorflow.keras.layers import LSTM, Dense, Dropout, BatchNormalization, Bidirectional\n",
    "# from tensorflow.keras.callbacks import EarlyStopping\n",
    "\n",
    "# Configurar el callback de EarlyStopping\n",
    "early_stopping = EarlyStopping(\n",
    "    monitor='val_loss',  # Monitorea la pérdida de validación\n",
    "    min_delta=0.000001,     # Cambio mínimo en la pérdida de validación para calificar como una mejora\n",
    "    patience=60,         # Número de épocas sin mejora tras las cuales se detiene el entrenamiento\n",
    "    verbose=1,           # Imprime información sobre el detenimiento\n",
    "    mode='auto',         # 'auto', 'min', 'max' - en 'auto', decide automáticamente la dirección del monitoreo\n",
    "    restore_best_weights=True  # Opcional: restaura los pesos del modelo desde la época con la mejor pérdida observada\n",
    ")\n",
    "\n",
    "\n",
    "model = Sequential([\n",
    "    # Primera capa LSTM con más neuronas y retornando secuencias para la siguiente capa LSTM\n",
    "    LSTM(200, activation='tanh', return_sequences=True, input_shape=(X_train.shape[1], X_train.shape[2])),\n",
    "    Dropout(0.15),\n",
    "    # BatchNormalization(),\n",
    "\n",
    "\n",
    "# Usando ReLU como función de activación con recorte de gradientes\n",
    "    LSTM(80, activation='tanh', recurrent_activation='sigmoid', return_sequences = True),\n",
    "\n",
    "    Dropout(0.20),\n",
    "    # BatchNormalization(),\n",
    "\n",
    "    LSTM(40),\n",
    "\n",
    "    # Capa densa adicional para mayor procesamiento\n",
    "    # Dense(50, activation='relu'),\n",
    "    # BatchNormalization(),\n",
    "    Dropout(0.15),\n",
    "\n",
    "    # Capa de salida\n",
    "    Dense(1)\n",
    "])\n",
    "\n",
    "# Compilar el modelo\n",
    "model.compile(optimizer='adam', loss='mean_squared_error')\n",
    "\n",
    "\n",
    "\n",
    "# from tensorflow.keras.optimizers import Adam\n",
    "\n",
    "# optimizer = Adam(0.0007)  # Ajusta la tasa de aprendizaje según sea necesario\n",
    "# model.compile(optimizer=optimizer, loss='mean_squared_error')\n",
    "\n",
    "model.fit(X_train, y_train, validation_data=(X_test, y_test), epochs=500, batch_size=32, verbose=1, callbacks=[early_stopping])"
   ]
  },
  {
   "cell_type": "markdown",
   "metadata": {
    "application/vnd.databricks.v1+cell": {
     "cellMetadata": {},
     "inputWidgets": {},
     "nuid": "166e7f33-cdb4-4808-96d4-400b9482f82c",
     "showTitle": false,
     "title": ""
    }
   },
   "source": [
    "### Predicciones"
   ]
  },
  {
   "cell_type": "code",
   "execution_count": null,
   "metadata": {
    "application/vnd.databricks.v1+cell": {
     "cellMetadata": {
      "byteLimit": 2048000,
      "rowLimit": 10000
     },
     "inputWidgets": {},
     "nuid": "0e430a9c-57ef-4b56-a2f0-b19d6357e8e1",
     "showTitle": true,
     "title": "Con varias variables"
    }
   },
   "outputs": [
    {
     "name": "stdout",
     "output_type": "stream",
     "text": [
      "\r\u001b[1m1/1\u001b[0m \u001b[32m━━━━━━━━━━━━━━━━━━━━\u001b[0m\u001b[37m\u001b[0m \u001b[1m0s\u001b[0m 26ms/step\b\b\b\b\b\b\b\b\b\b\b\b\b\b\b\b\b\b\b\b\b\b\b\b\b\b\b\b\b\b\b\b\b\b\b\b\b\r\u001b[1m1/1\u001b[0m \u001b[32m━━━━━━━━━━━━━━━━━━━━\u001b[0m\u001b[37m\u001b[0m \u001b[1m0s\u001b[0m 28ms/step\n",
      "\r\u001b[1m1/1\u001b[0m \u001b[32m━━━━━━━━━━━━━━━━━━━━\u001b[0m\u001b[37m\u001b[0m \u001b[1m0s\u001b[0m 24ms/step\b\b\b\b\b\b\b\b\b\b\b\b\b\b\b\b\b\b\b\b\b\b\b\b\b\b\b\b\b\b\b\b\b\b\b\b\b\r\u001b[1m1/1\u001b[0m \u001b[32m━━━━━━━━━━━━━━━━━━━━\u001b[0m\u001b[37m\u001b[0m \u001b[1m0s\u001b[0m 26ms/step\n",
      "\r\u001b[1m1/1\u001b[0m \u001b[32m━━━━━━━━━━━━━━━━━━━━\u001b[0m\u001b[37m\u001b[0m \u001b[1m0s\u001b[0m 25ms/step\b\b\b\b\b\b\b\b\b\b\b\b\b\b\b\b\b\b\b\b\b\b\b\b\b\b\b\b\b\b\b\b\b\b\b\b\b\r\u001b[1m1/1\u001b[0m \u001b[32m━━━━━━━━━━━━━━━━━━━━\u001b[0m\u001b[37m\u001b[0m \u001b[1m0s\u001b[0m 26ms/step\n",
      "\r\u001b[1m1/1\u001b[0m \u001b[32m━━━━━━━━━━━━━━━━━━━━\u001b[0m\u001b[37m\u001b[0m \u001b[1m0s\u001b[0m 24ms/step\b\b\b\b\b\b\b\b\b\b\b\b\b\b\b\b\b\b\b\b\b\b\b\b\b\b\b\b\b\b\b\b\b\b\b\b\b\r\u001b[1m1/1\u001b[0m \u001b[32m━━━━━━━━━━━━━━━━━━━━\u001b[0m\u001b[37m\u001b[0m \u001b[1m0s\u001b[0m 25ms/step\n",
      "\r\u001b[1m1/1\u001b[0m \u001b[32m━━━━━━━━━━━━━━━━━━━━\u001b[0m\u001b[37m\u001b[0m \u001b[1m0s\u001b[0m 23ms/step\b\b\b\b\b\b\b\b\b\b\b\b\b\b\b\b\b\b\b\b\b\b\b\b\b\b\b\b\b\b\b\b\b\b\b\b\b\r\u001b[1m1/1\u001b[0m \u001b[32m━━━━━━━━━━━━━━━━━━━━\u001b[0m\u001b[37m\u001b[0m \u001b[1m0s\u001b[0m 25ms/step\n",
      "\r\u001b[1m1/1\u001b[0m \u001b[32m━━━━━━━━━━━━━━━━━━━━\u001b[0m\u001b[37m\u001b[0m \u001b[1m0s\u001b[0m 24ms/step\b\b\b\b\b\b\b\b\b\b\b\b\b\b\b\b\b\b\b\b\b\b\b\b\b\b\b\b\b\b\b\b\b\b\b\b\b\r\u001b[1m1/1\u001b[0m \u001b[32m━━━━━━━━━━━━━━━━━━━━\u001b[0m\u001b[37m\u001b[0m \u001b[1m0s\u001b[0m 25ms/step\n",
      "\r\u001b[1m1/1\u001b[0m \u001b[32m━━━━━━━━━━━━━━━━━━━━\u001b[0m\u001b[37m\u001b[0m \u001b[1m0s\u001b[0m 30ms/step\b\b\b\b\b\b\b\b\b\b\b\b\b\b\b\b\b\b\b\b\b\b\b\b\b\b\b\b\b\b\b\b\b\b\b\b\b\r\u001b[1m1/1\u001b[0m \u001b[32m━━━━━━━━━━━━━━━━━━━━\u001b[0m\u001b[37m\u001b[0m \u001b[1m0s\u001b[0m 32ms/step\n",
      "\r\u001b[1m1/1\u001b[0m \u001b[32m━━━━━━━━━━━━━━━━━━━━\u001b[0m\u001b[37m\u001b[0m \u001b[1m0s\u001b[0m 23ms/step\b\b\b\b\b\b\b\b\b\b\b\b\b\b\b\b\b\b\b\b\b\b\b\b\b\b\b\b\b\b\b\b\b\b\b\b\b\r\u001b[1m1/1\u001b[0m \u001b[32m━━━━━━━━━━━━━━━━━━━━\u001b[0m\u001b[37m\u001b[0m \u001b[1m0s\u001b[0m 24ms/step\n",
      "\r\u001b[1m1/1\u001b[0m \u001b[32m━━━━━━━━━━━━━━━━━━━━\u001b[0m\u001b[37m\u001b[0m \u001b[1m0s\u001b[0m 24ms/step\b\b\b\b\b\b\b\b\b\b\b\b\b\b\b\b\b\b\b\b\b\b\b\b\b\b\b\b\b\b\b\b\b\b\b\b\b\r\u001b[1m1/1\u001b[0m \u001b[32m━━━━━━━━━━━━━━━━━━━━\u001b[0m\u001b[37m\u001b[0m \u001b[1m0s\u001b[0m 25ms/step\n",
      "\r\u001b[1m1/1\u001b[0m \u001b[32m━━━━━━━━━━━━━━━━━━━━\u001b[0m\u001b[37m\u001b[0m \u001b[1m0s\u001b[0m 24ms/step\b\b\b\b\b\b\b\b\b\b\b\b\b\b\b\b\b\b\b\b\b\b\b\b\b\b\b\b\b\b\b\b\b\b\b\b\b\r\u001b[1m1/1\u001b[0m \u001b[32m━━━━━━━━━━━━━━━━━━━━\u001b[0m\u001b[37m\u001b[0m \u001b[1m0s\u001b[0m 26ms/step\n",
      "\r\u001b[1m1/1\u001b[0m \u001b[32m━━━━━━━━━━━━━━━━━━━━\u001b[0m\u001b[37m\u001b[0m \u001b[1m0s\u001b[0m 24ms/step\b\b\b\b\b\b\b\b\b\b\b\b\b\b\b\b\b\b\b\b\b\b\b\b\b\b\b\b\b\b\b\b\b\b\b\b\b\r\u001b[1m1/1\u001b[0m \u001b[32m━━━━━━━━━━━━━━━━━━━━\u001b[0m\u001b[37m\u001b[0m \u001b[1m0s\u001b[0m 26ms/step\n",
      "\r\u001b[1m1/1\u001b[0m \u001b[32m━━━━━━━━━━━━━━━━━━━━\u001b[0m\u001b[37m\u001b[0m \u001b[1m0s\u001b[0m 25ms/step\b\b\b\b\b\b\b\b\b\b\b\b\b\b\b\b\b\b\b\b\b\b\b\b\b\b\b\b\b\b\b\b\b\b\b\b\b\r\u001b[1m1/1\u001b[0m \u001b[32m━━━━━━━━━━━━━━━━━━━━\u001b[0m\u001b[37m\u001b[0m \u001b[1m0s\u001b[0m 26ms/step\n",
      "\r\u001b[1m1/1\u001b[0m \u001b[32m━━━━━━━━━━━━━━━━━━━━\u001b[0m\u001b[37m\u001b[0m \u001b[1m0s\u001b[0m 25ms/step\b\b\b\b\b\b\b\b\b\b\b\b\b\b\b\b\b\b\b\b\b\b\b\b\b\b\b\b\b\b\b\b\b\b\b\b\b\r\u001b[1m1/1\u001b[0m \u001b[32m━━━━━━━━━━━━━━━━━━━━\u001b[0m\u001b[37m\u001b[0m \u001b[1m0s\u001b[0m 26ms/step\n",
      "\r\u001b[1m1/1\u001b[0m \u001b[32m━━━━━━━━━━━━━━━━━━━━\u001b[0m\u001b[37m\u001b[0m \u001b[1m0s\u001b[0m 24ms/step\b\b\b\b\b\b\b\b\b\b\b\b\b\b\b\b\b\b\b\b\b\b\b\b\b\b\b\b\b\b\b\b\b\b\b\b\b\r\u001b[1m1/1\u001b[0m \u001b[32m━━━━━━━━━━━━━━━━━━━━\u001b[0m\u001b[37m\u001b[0m \u001b[1m0s\u001b[0m 25ms/step\n",
      "\r\u001b[1m1/1\u001b[0m \u001b[32m━━━━━━━━━━━━━━━━━━━━\u001b[0m\u001b[37m\u001b[0m \u001b[1m0s\u001b[0m 25ms/step\b\b\b\b\b\b\b\b\b\b\b\b\b\b\b\b\b\b\b\b\b\b\b\b\b\b\b\b\b\b\b\b\b\b\b\b\b\r\u001b[1m1/1\u001b[0m \u001b[32m━━━━━━━━━━━━━━━━━━━━\u001b[0m\u001b[37m\u001b[0m \u001b[1m0s\u001b[0m 26ms/step\n",
      "\r\u001b[1m1/1\u001b[0m \u001b[32m━━━━━━━━━━━━━━━━━━━━\u001b[0m\u001b[37m\u001b[0m \u001b[1m0s\u001b[0m 24ms/step\b\b\b\b\b\b\b\b\b\b\b\b\b\b\b\b\b\b\b\b\b\b\b\b\b\b\b\b\b\b\b\b\b\b\b\b\b\r\u001b[1m1/1\u001b[0m \u001b[32m━━━━━━━━━━━━━━━━━━━━\u001b[0m\u001b[37m\u001b[0m \u001b[1m0s\u001b[0m 25ms/step\n",
      "\r\u001b[1m1/1\u001b[0m \u001b[32m━━━━━━━━━━━━━━━━━━━━\u001b[0m\u001b[37m\u001b[0m \u001b[1m0s\u001b[0m 23ms/step\b\b\b\b\b\b\b\b\b\b\b\b\b\b\b\b\b\b\b\b\b\b\b\b\b\b\b\b\b\b\b\b\b\b\b\b\b\r\u001b[1m1/1\u001b[0m \u001b[32m━━━━━━━━━━━━━━━━━━━━\u001b[0m\u001b[37m\u001b[0m \u001b[1m0s\u001b[0m 25ms/step\n",
      "\r\u001b[1m1/1\u001b[0m \u001b[32m━━━━━━━━━━━━━━━━━━━━\u001b[0m\u001b[37m\u001b[0m \u001b[1m0s\u001b[0m 25ms/step\b\b\b\b\b\b\b\b\b\b\b\b\b\b\b\b\b\b\b\b\b\b\b\b\b\b\b\b\b\b\b\b\b\b\b\b\b\r\u001b[1m1/1\u001b[0m \u001b[32m━━━━━━━━━━━━━━━━━━━━\u001b[0m\u001b[37m\u001b[0m \u001b[1m0s\u001b[0m 26ms/step\n",
      "\r\u001b[1m1/1\u001b[0m \u001b[32m━━━━━━━━━━━━━━━━━━━━\u001b[0m\u001b[37m\u001b[0m \u001b[1m0s\u001b[0m 25ms/step\b\b\b\b\b\b\b\b\b\b\b\b\b\b\b\b\b\b\b\b\b\b\b\b\b\b\b\b\b\b\b\b\b\b\b\b\b\r\u001b[1m1/1\u001b[0m \u001b[32m━━━━━━━━━━━━━━━━━━━━\u001b[0m\u001b[37m\u001b[0m \u001b[1m0s\u001b[0m 27ms/step\n",
      "\r\u001b[1m1/1\u001b[0m \u001b[32m━━━━━━━━━━━━━━━━━━━━\u001b[0m\u001b[37m\u001b[0m \u001b[1m0s\u001b[0m 23ms/step\b\b\b\b\b\b\b\b\b\b\b\b\b\b\b\b\b\b\b\b\b\b\b\b\b\b\b\b\b\b\b\b\b\b\b\b\b\r\u001b[1m1/1\u001b[0m \u001b[32m━━━━━━━━━━━━━━━━━━━━\u001b[0m\u001b[37m\u001b[0m \u001b[1m0s\u001b[0m 24ms/step\n",
      "\r\u001b[1m1/1\u001b[0m \u001b[32m━━━━━━━━━━━━━━━━━━━━\u001b[0m\u001b[37m\u001b[0m \u001b[1m0s\u001b[0m 24ms/step\b\b\b\b\b\b\b\b\b\b\b\b\b\b\b\b\b\b\b\b\b\b\b\b\b\b\b\b\b\b\b\b\b\b\b\b\b\r\u001b[1m1/1\u001b[0m \u001b[32m━━━━━━━━━━━━━━━━━━━━\u001b[0m\u001b[37m\u001b[0m \u001b[1m0s\u001b[0m 25ms/step\n",
      "\r\u001b[1m1/1\u001b[0m \u001b[32m━━━━━━━━━━━━━━━━━━━━\u001b[0m\u001b[37m\u001b[0m \u001b[1m0s\u001b[0m 24ms/step\b\b\b\b\b\b\b\b\b\b\b\b\b\b\b\b\b\b\b\b\b\b\b\b\b\b\b\b\b\b\b\b\b\b\b\b\b\r\u001b[1m1/1\u001b[0m \u001b[32m━━━━━━━━━━━━━━━━━━━━\u001b[0m\u001b[37m\u001b[0m \u001b[1m0s\u001b[0m 25ms/step\n",
      "\r\u001b[1m1/1\u001b[0m \u001b[32m━━━━━━━━━━━━━━━━━━━━\u001b[0m\u001b[37m\u001b[0m \u001b[1m0s\u001b[0m 25ms/step\b\b\b\b\b\b\b\b\b\b\b\b\b\b\b\b\b\b\b\b\b\b\b\b\b\b\b\b\b\b\b\b\b\b\b\b\b\r\u001b[1m1/1\u001b[0m \u001b[32m━━━━━━━━━━━━━━━━━━━━\u001b[0m\u001b[37m\u001b[0m \u001b[1m0s\u001b[0m 27ms/step\n",
      "\r\u001b[1m1/1\u001b[0m \u001b[32m━━━━━━━━━━━━━━━━━━━━\u001b[0m\u001b[37m\u001b[0m \u001b[1m0s\u001b[0m 24ms/step\b\b\b\b\b\b\b\b\b\b\b\b\b\b\b\b\b\b\b\b\b\b\b\b\b\b\b\b\b\b\b\b\b\b\b\b\b\r\u001b[1m1/1\u001b[0m \u001b[32m━━━━━━━━━━━━━━━━━━━━\u001b[0m\u001b[37m\u001b[0m \u001b[1m0s\u001b[0m 26ms/step\n",
      "\r\u001b[1m1/1\u001b[0m \u001b[32m━━━━━━━━━━━━━━━━━━━━\u001b[0m\u001b[37m\u001b[0m \u001b[1m0s\u001b[0m 28ms/step\b\b\b\b\b\b\b\b\b\b\b\b\b\b\b\b\b\b\b\b\b\b\b\b\b\b\b\b\b\b\b\b\b\b\b\b\b\r\u001b[1m1/1\u001b[0m \u001b[32m━━━━━━━━━━━━━━━━━━━━\u001b[0m\u001b[37m\u001b[0m \u001b[1m0s\u001b[0m 29ms/step\n",
      "\r\u001b[1m1/1\u001b[0m \u001b[32m━━━━━━━━━━━━━━━━━━━━\u001b[0m\u001b[37m\u001b[0m \u001b[1m0s\u001b[0m 24ms/step\b\b\b\b\b\b\b\b\b\b\b\b\b\b\b\b\b\b\b\b\b\b\b\b\b\b\b\b\b\b\b\b\b\b\b\b\b\r\u001b[1m1/1\u001b[0m \u001b[32m━━━━━━━━━━━━━━━━━━━━\u001b[0m\u001b[37m\u001b[0m \u001b[1m0s\u001b[0m 25ms/step\n"
     ]
    }
   ],
   "source": [
    "# # Supongamos que `scaled_data` es tu serie de tiempo ya escalada\n",
    "last_sequence = X_train[-1:]  # Toma los últimos 10 días\n",
    "last_sequence = last_sequence.reshape((1, len_seq, 4)) \n",
    "\n",
    "future_predictions = []\n",
    "\n",
    "for i in range(26):  # Asumimos que quieres predecir los próximos 20 pasos\n",
    "    next_pred = model.predict(last_sequence)\n",
    "    future_predictions.append(next_pred[0, 0])  # Guarda la predicción hecha para la variable de interés\n",
    "    \n",
    "    # Desplaza la secuencia hacia atrás para hacer espacio para el nuevo valor\n",
    "    last_sequence = np.roll(last_sequence, -1, axis=1)\n",
    "    \n",
    "    # Actualiza la variable predicha con la nueva predicción\n",
    "    last_sequence[0, -1, 0] = next_pred[0, 0]  # Asume que la variable predicha está en la columna 0\n",
    "\n",
    "    # Actualizar las otras variables con los valores reales del siguiente paso en 'future_data'\n",
    "    # Asegúrate de que 'future_data' tiene las dimensiones y el orden correcto\n",
    "    last_sequence[0, -1, 1:] = X_test[i, 0,1:]\n"
   ]
  },
  {
   "cell_type": "code",
   "execution_count": null,
   "metadata": {
    "application/vnd.databricks.v1+cell": {
     "cellMetadata": {
      "byteLimit": 2048000,
      "rowLimit": 10000
     },
     "inputWidgets": {},
     "nuid": "f42b7b42-dfb6-43b7-9541-65eed7ca09b0",
     "showTitle": true,
     "title": "Step by step"
    }
   },
   "outputs": [
    {
     "name": "stdout",
     "output_type": "stream",
     "text": [
      "\r\u001b[1m1/1\u001b[0m \u001b[32m━━━━━━━━━━━━━━━━━━━━\u001b[0m\u001b[37m\u001b[0m \u001b[1m0s\u001b[0m 24ms/step\b\b\b\b\b\b\b\b\b\b\b\b\b\b\b\b\b\b\b\b\b\b\b\b\b\b\b\b\b\b\b\b\b\b\b\b\b\r\u001b[1m1/1\u001b[0m \u001b[32m━━━━━━━━━━━━━━━━━━━━\u001b[0m\u001b[37m\u001b[0m \u001b[1m0s\u001b[0m 26ms/step\n",
      "\r\u001b[1m1/1\u001b[0m \u001b[32m━━━━━━━━━━━━━━━━━━━━\u001b[0m\u001b[37m\u001b[0m \u001b[1m0s\u001b[0m 24ms/step\b\b\b\b\b\b\b\b\b\b\b\b\b\b\b\b\b\b\b\b\b\b\b\b\b\b\b\b\b\b\b\b\b\b\b\b\b\r\u001b[1m1/1\u001b[0m \u001b[32m━━━━━━━━━━━━━━━━━━━━\u001b[0m\u001b[37m\u001b[0m \u001b[1m0s\u001b[0m 25ms/step\n",
      "\r\u001b[1m1/1\u001b[0m \u001b[32m━━━━━━━━━━━━━━━━━━━━\u001b[0m\u001b[37m\u001b[0m \u001b[1m0s\u001b[0m 25ms/step\b\b\b\b\b\b\b\b\b\b\b\b\b\b\b\b\b\b\b\b\b\b\b\b\b\b\b\b\b\b\b\b\b\b\b\b\b\r\u001b[1m1/1\u001b[0m \u001b[32m━━━━━━━━━━━━━━━━━━━━\u001b[0m\u001b[37m\u001b[0m \u001b[1m0s\u001b[0m 26ms/step\n"
     ]
    },
    {
     "name": "stderr",
     "output_type": "stream",
     "text": [
      "<command-2623164590567276>:15: DeprecationWarning: Conversion of an array with ndim > 0 to a scalar is deprecated, and will error in future. Ensure you extract a single element from your array before performing this operation. (Deprecated NumPy 1.25.)\n",
      "  last_sequence[0, -1, 0] = next_day_pred  # Añade la predicción al final de la secuencia\n"
     ]
    },
    {
     "name": "stdout",
     "output_type": "stream",
     "text": [
      "\r\u001b[1m1/1\u001b[0m \u001b[32m━━━━━━━━━━━━━━━━━━━━\u001b[0m\u001b[37m\u001b[0m \u001b[1m0s\u001b[0m 23ms/step\b\b\b\b\b\b\b\b\b\b\b\b\b\b\b\b\b\b\b\b\b\b\b\b\b\b\b\b\b\b\b\b\b\b\b\b\b\r\u001b[1m1/1\u001b[0m \u001b[32m━━━━━━━━━━━━━━━━━━━━\u001b[0m\u001b[37m\u001b[0m \u001b[1m0s\u001b[0m 24ms/step\n",
      "\r\u001b[1m1/1\u001b[0m \u001b[32m━━━━━━━━━━━━━━━━━━━━\u001b[0m\u001b[37m\u001b[0m \u001b[1m0s\u001b[0m 23ms/step\b\b\b\b\b\b\b\b\b\b\b\b\b\b\b\b\b\b\b\b\b\b\b\b\b\b\b\b\b\b\b\b\b\b\b\b\b\r\u001b[1m1/1\u001b[0m \u001b[32m━━━━━━━━━━━━━━━━━━━━\u001b[0m\u001b[37m\u001b[0m \u001b[1m0s\u001b[0m 24ms/step\n",
      "\r\u001b[1m1/1\u001b[0m \u001b[32m━━━━━━━━━━━━━━━━━━━━\u001b[0m\u001b[37m\u001b[0m \u001b[1m0s\u001b[0m 23ms/step\b\b\b\b\b\b\b\b\b\b\b\b\b\b\b\b\b\b\b\b\b\b\b\b\b\b\b\b\b\b\b\b\b\b\b\b\b\r\u001b[1m1/1\u001b[0m \u001b[32m━━━━━━━━━━━━━━━━━━━━\u001b[0m\u001b[37m\u001b[0m \u001b[1m0s\u001b[0m 25ms/step\n",
      "\r\u001b[1m1/1\u001b[0m \u001b[32m━━━━━━━━━━━━━━━━━━━━\u001b[0m\u001b[37m\u001b[0m \u001b[1m0s\u001b[0m 38ms/step\b\b\b\b\b\b\b\b\b\b\b\b\b\b\b\b\b\b\b\b\b\b\b\b\b\b\b\b\b\b\b\b\b\b\b\b\b\r\u001b[1m1/1\u001b[0m \u001b[32m━━━━━━━━━━━━━━━━━━━━\u001b[0m\u001b[37m\u001b[0m \u001b[1m0s\u001b[0m 39ms/step\n",
      "\r\u001b[1m1/1\u001b[0m \u001b[32m━━━━━━━━━━━━━━━━━━━━\u001b[0m\u001b[37m\u001b[0m \u001b[1m0s\u001b[0m 22ms/step\b\b\b\b\b\b\b\b\b\b\b\b\b\b\b\b\b\b\b\b\b\b\b\b\b\b\b\b\b\b\b\b\b\b\b\b\b\r\u001b[1m1/1\u001b[0m \u001b[32m━━━━━━━━━━━━━━━━━━━━\u001b[0m\u001b[37m\u001b[0m \u001b[1m0s\u001b[0m 24ms/step\n",
      "\r\u001b[1m1/1\u001b[0m \u001b[32m━━━━━━━━━━━━━━━━━━━━\u001b[0m\u001b[37m\u001b[0m \u001b[1m0s\u001b[0m 22ms/step\b\b\b\b\b\b\b\b\b\b\b\b\b\b\b\b\b\b\b\b\b\b\b\b\b\b\b\b\b\b\b\b\b\b\b\b\b\r\u001b[1m1/1\u001b[0m \u001b[32m━━━━━━━━━━━━━━━━━━━━\u001b[0m\u001b[37m\u001b[0m \u001b[1m0s\u001b[0m 23ms/step\n",
      "\r\u001b[1m1/1\u001b[0m \u001b[32m━━━━━━━━━━━━━━━━━━━━\u001b[0m\u001b[37m\u001b[0m \u001b[1m0s\u001b[0m 22ms/step\b\b\b\b\b\b\b\b\b\b\b\b\b\b\b\b\b\b\b\b\b\b\b\b\b\b\b\b\b\b\b\b\b\b\b\b\b\r\u001b[1m1/1\u001b[0m \u001b[32m━━━━━━━━━━━━━━━━━━━━\u001b[0m\u001b[37m\u001b[0m \u001b[1m0s\u001b[0m 23ms/step\n",
      "\r\u001b[1m1/1\u001b[0m \u001b[32m━━━━━━━━━━━━━━━━━━━━\u001b[0m\u001b[37m\u001b[0m \u001b[1m0s\u001b[0m 23ms/step\b\b\b\b\b\b\b\b\b\b\b\b\b\b\b\b\b\b\b\b\b\b\b\b\b\b\b\b\b\b\b\b\b\b\b\b\b\r\u001b[1m1/1\u001b[0m \u001b[32m━━━━━━━━━━━━━━━━━━━━\u001b[0m\u001b[37m\u001b[0m \u001b[1m0s\u001b[0m 24ms/step\n",
      "\r\u001b[1m1/1\u001b[0m \u001b[32m━━━━━━━━━━━━━━━━━━━━\u001b[0m\u001b[37m\u001b[0m \u001b[1m0s\u001b[0m 23ms/step\b\b\b\b\b\b\b\b\b\b\b\b\b\b\b\b\b\b\b\b\b\b\b\b\b\b\b\b\b\b\b\b\b\b\b\b\b\r\u001b[1m1/1\u001b[0m \u001b[32m━━━━━━━━━━━━━━━━━━━━\u001b[0m\u001b[37m\u001b[0m \u001b[1m0s\u001b[0m 24ms/step\n",
      "\r\u001b[1m1/1\u001b[0m \u001b[32m━━━━━━━━━━━━━━━━━━━━\u001b[0m\u001b[37m\u001b[0m \u001b[1m0s\u001b[0m 23ms/step\b\b\b\b\b\b\b\b\b\b\b\b\b\b\b\b\b\b\b\b\b\b\b\b\b\b\b\b\b\b\b\b\b\b\b\b\b\r\u001b[1m1/1\u001b[0m \u001b[32m━━━━━━━━━━━━━━━━━━━━\u001b[0m\u001b[37m\u001b[0m \u001b[1m0s\u001b[0m 25ms/step\n",
      "\r\u001b[1m1/1\u001b[0m \u001b[32m━━━━━━━━━━━━━━━━━━━━\u001b[0m\u001b[37m\u001b[0m \u001b[1m0s\u001b[0m 22ms/step\b\b\b\b\b\b\b\b\b\b\b\b\b\b\b\b\b\b\b\b\b\b\b\b\b\b\b\b\b\b\b\b\b\b\b\b\b\r\u001b[1m1/1\u001b[0m \u001b[32m━━━━━━━━━━━━━━━━━━━━\u001b[0m\u001b[37m\u001b[0m \u001b[1m0s\u001b[0m 24ms/step\n",
      "\r\u001b[1m1/1\u001b[0m \u001b[32m━━━━━━━━━━━━━━━━━━━━\u001b[0m\u001b[37m\u001b[0m \u001b[1m0s\u001b[0m 23ms/step\b\b\b\b\b\b\b\b\b\b\b\b\b\b\b\b\b\b\b\b\b\b\b\b\b\b\b\b\b\b\b\b\b\b\b\b\b\r\u001b[1m1/1\u001b[0m \u001b[32m━━━━━━━━━━━━━━━━━━━━\u001b[0m\u001b[37m\u001b[0m \u001b[1m0s\u001b[0m 25ms/step\n",
      "\r\u001b[1m1/1\u001b[0m \u001b[32m━━━━━━━━━━━━━━━━━━━━\u001b[0m\u001b[37m\u001b[0m \u001b[1m0s\u001b[0m 22ms/step\b\b\b\b\b\b\b\b\b\b\b\b\b\b\b\b\b\b\b\b\b\b\b\b\b\b\b\b\b\b\b\b\b\b\b\b\b\r\u001b[1m1/1\u001b[0m \u001b[32m━━━━━━━━━━━━━━━━━━━━\u001b[0m\u001b[37m\u001b[0m \u001b[1m0s\u001b[0m 24ms/step\n",
      "\r\u001b[1m1/1\u001b[0m \u001b[32m━━━━━━━━━━━━━━━━━━━━\u001b[0m\u001b[37m\u001b[0m \u001b[1m0s\u001b[0m 25ms/step\b\b\b\b\b\b\b\b\b\b\b\b\b\b\b\b\b\b\b\b\b\b\b\b\b\b\b\b\b\b\b\b\b\b\b\b\b\r\u001b[1m1/1\u001b[0m \u001b[32m━━━━━━━━━━━━━━━━━━━━\u001b[0m\u001b[37m\u001b[0m \u001b[1m0s\u001b[0m 27ms/step\n",
      "\r\u001b[1m1/1\u001b[0m \u001b[32m━━━━━━━━━━━━━━━━━━━━\u001b[0m\u001b[37m\u001b[0m \u001b[1m0s\u001b[0m 22ms/step\b\b\b\b\b\b\b\b\b\b\b\b\b\b\b\b\b\b\b\b\b\b\b\b\b\b\b\b\b\b\b\b\b\b\b\b\b\r\u001b[1m1/1\u001b[0m \u001b[32m━━━━━━━━━━━━━━━━━━━━\u001b[0m\u001b[37m\u001b[0m \u001b[1m0s\u001b[0m 23ms/step\n",
      "\r\u001b[1m1/1\u001b[0m \u001b[32m━━━━━━━━━━━━━━━━━━━━\u001b[0m\u001b[37m\u001b[0m \u001b[1m0s\u001b[0m 22ms/step\b\b\b\b\b\b\b\b\b\b\b\b\b\b\b\b\b\b\b\b\b\b\b\b\b\b\b\b\b\b\b\b\b\b\b\b\b\r\u001b[1m1/1\u001b[0m \u001b[32m━━━━━━━━━━━━━━━━━━━━\u001b[0m\u001b[37m\u001b[0m \u001b[1m0s\u001b[0m 23ms/step\n",
      "\r\u001b[1m1/1\u001b[0m \u001b[32m━━━━━━━━━━━━━━━━━━━━\u001b[0m\u001b[37m\u001b[0m \u001b[1m0s\u001b[0m 22ms/step\b\b\b\b\b\b\b\b\b\b\b\b\b\b\b\b\b\b\b\b\b\b\b\b\b\b\b\b\b\b\b\b\b\b\b\b\b\r\u001b[1m1/1\u001b[0m \u001b[32m━━━━━━━━━━━━━━━━━━━━\u001b[0m\u001b[37m\u001b[0m \u001b[1m0s\u001b[0m 23ms/step\n",
      "Out[47]: (20, 1)"
     ]
    }
   ],
   "source": [
    "# # Supongamos que `scaled_data` es tu serie de tiempo ya escalada\n",
    "last_sequence = X_train[-1:]  # Toma los últimos 10 días\n",
    "last_sequence = last_sequence.reshape((1, len_seq, 1))  # Reshape para que coincida con la entrada del modelo\n",
    "\n",
    "\n",
    "# Asumiendo que 'model' es tu modelo LSTM ya entrenado\n",
    "future_predictions = []\n",
    "\n",
    "for _ in range(20):  # Predecir los próximos 10 días\n",
    "    next_day_pred = model.predict(last_sequence)\n",
    "    future_predictions.append(next_day_pred[0, 0])  # Guarda la predicción\n",
    "    \n",
    "    # Actualiza la secuencia con la predicción\n",
    "    last_sequence = np.roll(last_sequence, -1, axis=1)\n",
    "    last_sequence[0, -1, 0] = next_day_pred  # Añade la predicción al final de la secuencia\n",
    "\n",
    "# reshape de las predicciones\n",
    "future_predictions = np.array(future_predictions).reshape(-1, 1)\n",
    "future_predictions.shape\n",
    "\n",
    "\n",
    "\n",
    "\n",
    "\n",
    "\n",
    "\n",
    "#----------------------------------------------------- PROBAR UN ENFOQUE DIFERENTE A VER SI ES ESTO LO Q FALLA\n",
    "# X = X_test[0, :] # for the 0th sequence \n",
    "# len_forecast = 30\n",
    "# forecasts = []\n",
    "# for i in range(len_forecast):\n",
    "#   y_hat = forecast_lstm(model, 1, X)\n",
    "#   forecasts.append(y_hat)\n",
    "#   X = y_hat # use the current prediction for the next round of predictions\n",
    "\n",
    "\n",
    "\n",
    "# X = X_test[0:1]  # Ensure X is 3D: [1, time steps, features]\n",
    "# len_forecast = 30\n",
    "# forecasts = []\n",
    "\n",
    "# for i in range(len_forecast):\n",
    "#     y_hat = model.predict(X)  # Assuming model.predict handles the reshaping if necessary\n",
    "#     forecasts.append(y_hat[0, -1, 0])  # Adjust indexing based on your model output shape\n",
    "    \n",
    "#     # Prepare X for the next prediction\n",
    "#     X = np.roll(X, -1, axis=1)  # Shift data one time-step left\n",
    "#     X[0, -1, 0] = y_hat[0, -1, 0]  # Insert the new prediction at the end of the array\n",
    "\n",
    "# # Convert forecasts to an array for further analysis or plotting\n",
    "# forecasts = np.array(forecasts)\n",
    "\n",
    "\n"
   ]
  },
  {
   "cell_type": "markdown",
   "metadata": {
    "application/vnd.databricks.v1+cell": {
     "cellMetadata": {},
     "inputWidgets": {},
     "nuid": "235caa7c-8c38-4699-8585-446bb23fd048",
     "showTitle": false,
     "title": ""
    }
   },
   "source": [
    "### Visualizaciones"
   ]
  },
  {
   "cell_type": "code",
   "execution_count": null,
   "metadata": {
    "application/vnd.databricks.v1+cell": {
     "cellMetadata": {
      "byteLimit": 2048000,
      "rowLimit": 10000
     },
     "inputWidgets": {},
     "nuid": "e8fe84da-811f-455d-82c7-dfa0e814f26a",
     "showTitle": true,
     "title": "Contraste con X_train"
    }
   },
   "outputs": [
    {
     "name": "stdout",
     "output_type": "stream",
     "text": [
      "\r\u001b[1m1/3\u001b[0m \u001b[32m━━━━━━\u001b[0m\u001b[37m━━━━━━━━━━━━━━\u001b[0m \u001b[1m0s\u001b[0m 483ms/step\b\b\b\b\b\b\b\b\b\b\b\b\b\b\b\b\b\b\b\b\b\b\b\b\b\b\b\b\b\b\b\b\b\b\b\b\b\b\r\u001b[1m3/3\u001b[0m \u001b[32m━━━━━━━━━━━━━━━━━━━━\u001b[0m\u001b[37m\u001b[0m \u001b[1m0s\u001b[0m 27ms/step \b\b\b\b\b\b\b\b\b\b\b\b\b\b\b\b\b\b\b\b\b\b\b\b\b\b\b\b\b\b\b\b\b\b\b\b\b\r\u001b[1m3/3\u001b[0m \u001b[32m━━━━━━━━━━━━━━━━━━━━\u001b[0m\u001b[37m\u001b[0m \u001b[1m1s\u001b[0m 28ms/step\n",
      "Out[33]: <matplotlib.legend.Legend at 0x7f3f741df1f0>"
     ]
    },
    {
     "data": {
      "image/png": "[encoded data removed]"
     },
     "metadata": {
      "application/vnd.databricks.v1+output": {
       "addedWidgets": {},
       "arguments": {},
       "data": "data:image/png;base64,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\n",
       "datasetInfos": [],
       "metadata": {},
       "removedWidgets": [],
       "type": "image"
      }
     },
     "output_type": "display_data"
    }
   ],
   "source": [
    "predictions_Train = model.predict(X_train)\n",
    "predictions_Train = predictions_Train[len_seq:,:]\n",
    "# Visualización de las predicciones\n",
    "import matplotlib.pyplot as plt\n",
    "\n",
    "plt.plot(y_train, label='Verdadero')\n",
    "plt.plot(predictions_Train, label='Predicción', linestyle='--')\n",
    "plt.title('Ventas Reales vs. Predicciones')\n",
    "plt.legend()"
   ]
  },
  {
   "cell_type": "code",
   "execution_count": null,
   "metadata": {
    "application/vnd.databricks.v1+cell": {
     "cellMetadata": {
      "byteLimit": 2048000,
      "rowLimit": 10000
     },
     "inputWidgets": {},
     "nuid": "e98ff9df-34ae-4a25-8a97-eb5220ab2f2c",
     "showTitle": true,
     "title": "Grafico predicciones y y_test"
    }
   },
   "outputs": [
    {
     "name": "stdout",
     "output_type": "stream",
     "text": [
      "\r\u001b[1m1/1\u001b[0m \u001b[32m━━━━━━━━━━━━━━━━━━━━\u001b[0m\u001b[37m\u001b[0m \u001b[1m0s\u001b[0m 28ms/step\b\b\b\b\b\b\b\b\b\b\b\b\b\b\b\b\b\b\b\b\b\b\b\b\b\b\b\b\b\b\b\b\b\b\b\b\b\r\u001b[1m1/1\u001b[0m \u001b[32m━━━━━━━━━━━━━━━━━━━━\u001b[0m\u001b[37m\u001b[0m \u001b[1m0s\u001b[0m 30ms/step\n"
     ]
    },
    {
     "data": {
      "image/png": "[encoded data removed]"
     },
     "metadata": {
      "application/vnd.databricks.v1+output": {
       "addedWidgets": {},
       "arguments": {},
       "data": "data:image/png;base64,iVBORw0KGgoAAAANSUhEUgAAAXoAAAEICAYAAABRSj9aAAAAOXRFWHRTb2Z0d2FyZQBNYXRwbG90bGliIHZlcnNpb24zLjUuMSwgaHR0cHM6Ly9tYXRwbG90bGliLm9yZy/YYfK9AAAACXBIWXMAAAsTAAALEwEAmpwYAABG9klEQVR4nO3dd3hVVfbw8e8ihSR0SKihBKSFAAECqEizARaKBcjYEIGx4Og4P9vYdXTQcXTKiwUdscwAFhRRUWx0BQlVCC1AkNAJLZCEtPX+cW7CTUggwA0nuVmf5zlP7j11ndxk3X322WdvUVWMMcb4rypuB2CMMaZsWaI3xhg/Z4neGGP8nCV6Y4zxc5bojTHGz1miN8YYP2eJ3vgVERklIgvdjsNtIqIicoHn9Rsi8sQ57Ku3iGzwXXTmfLNEX8GJyDci8mwx84eIyG4RCTyHfT8tIv89twhL3LeKyDEROSoiO0TkFREJKItjlUci0k9E8jznnyYiG0Tk9rI4lqreqarPncP2C1S1rS9jMueXJfqK7z3gZhGRIvNvAf6nqjkuxFRanVW1OtAXGAGMdjme822n5/xrAg8Db4lIdNGVzuXL2hiwRO8PZgD1gN75M0SkDnAN8L6IVBGRR0Rks4ikishHIlLXs14LT8n6NhH5TUT2i8hjnmUDgT8DIzylzlWe+beLyDpPKXSLiPze67jhIvKliBwSkQMiskBETvs3pqpJwCIg1mtf14jISs++fhKRTl7L8s8nTUQSRWRYSfsWkXYi8p0nng0iMtxr2VWe7dM8VxX/V8z2VT0xxHjNixCRDBGpf7bnXOT8VVVnAAeBaE/10yIReVVEUoGnPXG87Pmc9niqY0K9YnpQRHaJyE4RKfSFKSLvishfvN4P8fxuj3h+jwM98+uKyGTPPg6KyAzP/H4ikuK1fXsRmes557UiMrjIsSaKyFee3+sSEWnlq8/DnCVVtamCT8BbwNte738PrPS8vg9YDEQCVYE3gameZS0A9WwfCnQGjgPtPcufBv5b5FhXA60AwSmJpwNdPcv+CrwBBHmm3oCUELMCF3hetwN2AX/0vO8C7AV6AgHAbUAyUNWz/EagMU5BZQRwDGjkWTYKWOh5XQ3YDtwOBHr2ux+I9izfBfT2vK6Tfx7FxPoO8LzX+3uAb870nIvssx+Q4nldBRgGZANtPeeQA9zriTsUeBWYCdQFagBfAH/1bD8Q2APEeM55SpHf77vAXzyvewCHgSs8x20CtPMs+wr40PO7CAL6FhNrEJCEUwgIBi4F0oC2XsdK9RwnEPgfMM2Xn4dNZ5Ej3A7AJh98iHAJcAgI8bxfxImkuQ64zGvdRp6EEsiJRB/ptfwXYKTn9dMUSfTFHHsGcJ/n9bPA5/kJ5jTbKXAEJ0krMJUTifx14Lki62/ITzzF7GslMMTzehQnEv0IYEGRdd8EnvK8/g3nS7HmaWK9HNjs9X4RcOuZnnORffYD8jyf2wHPOYz0OoffvNYVz++plde8i4CtntfvABO8lrWh5ET/JvBqMfE08sRTp4RY8xN9b2A3UMVr+VTgaa9jeRc6rgLW+/LzsOnMJ6u68QOquhCnZDTUc5ncA6dUB9Ac+MxzmX0IJ/HnAg28drHb63U6UL2kY4nIIBFZ7Ln0PoTzjxzuWfw3nNLet55qnUdOE3pXz7FG4JTeq3nF/Kf8mD3HaYpTikdEbvWq1jmEU5INL7pzz356FtnPTUBDz/LrPfFvE5F5InJRCXHOAcJEpKeItMCpYvrsLM/Z205Vra2qdVU1VlWneS3b7vU6AggDlnmdxzee+eD8XrzX33aKYzYFNpcw/4CqHjxNzI2B7aqaV+R4Tbzel/T35KvPw5whu8njP94HbsW59J+tqns887cDo1V1UdENPEnrVAp1bSoiVYHpnuN8rqrZnnpcAVDVNOBPOEk6BvhRRJaq6g8lHsApyn0kIkOAJ4H7PTE/r6rPFxNzc5yqpsuAn1U1V0RW5sdQxHZgnqpeUcKxlwJDRCQIGA98hJPwiq6XKyIfAfE4VSRfes71rM65lLx/9/uBDKCDqu4oZt1dReJudor9bsepeitufl0Rqa2qh06x/U6gqYhU8Ur2zYCNp9jG+xjn/HmYM2clev/xPk4Vw1icljj53gCe9yTI/BuJQ0q5zz1AC6+bi8E49fz7gBwRGQRcmb+yODdQLxARwakHzsWpDiiNCcBYEWmIk8jv9JSgRUSqicjVIlIDp9SvnhgQp0liTAn7/BJoIyK3iEiQZ+ruuZkYLCI3iUgtVc3GqUY6VaxTcK48buLE1dK5nnOpeBLqW8CrIlLfc9wmIjLAs8pHwCgRiRaRMOCpU+zuP8DtInKZODfqm4hIO1XdBXwNvCYidTy/qz7FbL8Ep5T+kGedfsC1wLRi1i3Kl5+HOQOW6P2EqiYDP+Ekwplei/7pef+tiKTh3JjtWcrdfuz5mSoiyz2l1z/gJJaDwO+KHKs18D1wFPgZeE1V55Qy/l+B+cCDqpqA84X1/zzHScKpt0ZVE4G/e/a/B+iIU2de3D7TcL6IRuKURHcDL+J8WYHTBDVZRI4Ad+Ik8ZLiW4JTT94YJyGe9pxF5GsR+XNpzr8UHsb5PSz2xPs9ztUbqvo18A/gR886P57iPH7BuRn6Ks4X0zycKhVwfh/ZwHqcm+H3F7N9Fk5iH4RzpfEazv2K9ac7AV9+HubMiHPlbIwxxl9Zid4YY/ycJXpjjPFzluiNMcbPWaI3xhg/V+7a0YeHh2uLFi3cDsMYYyqUZcuW7VfViOKWlbtE36JFCxISEtwOwxhjKhQRKfGJaKu6McYYP1eqRC8iAz1diiYV15eHON2prvRMGz19WCAisSLyszhdma4WkRE+jt8YY8xpnLbqRpxRfybidGuaAiwVkZmeJxQBUNU/eq1/L073o+A8Kn2rqm4SkcY4nTLNPk1fGsYYY3yoNCX6HkCSqm7xPP48DThVXynxON2WoqobVXWT5/VOnMeqi71ZYIwxpmyUJtE3oXAXqCkU7pK0gKfjrCiK6WtDRHrgdIp1UhepIjJORBJEJGHfvn2lidsYY0wp+fpm7EjgE1XN9Z4pIo2AD4Dbi/RjDYCqTlLVOFWNi4iwAr8xxvhSaRL9Dgr3CR3pmVeckXiqbfKJSE2cIcoeU9XFZxOkMcaYs1eadvRLgdYiEoWT4EfidE9biIi0wxnn8WevecE4I/G8r6qf+CRiY8qQqnI89zhpWWmkZaVxJOsI2XnZdG/YHYAff/uRlLQUFGeItjzyqBFcgxvb3AjA50mfs/PoTvLIQxDCQ8OJqhVVsL0xbjhtolfVHBEZD8zGGaj5HVVdKyLPAgmqmt8f+UicQYC9+z0eDvQB6onIKM+8Uaq60lcnYMzZ2HV0F58mfcqqvavIzstm8sDJADy68FG+2vJVoXXrhdRj7oi5AHy66VPmpcwrtLx5zeYFiX5G0gwS9hR+4K9jeEemXO2MVXLnd3dy+PhhGlVvRONqjWlUvRFt67QlrmFcWZymMUA57I8+Li5O7clYU1Z+3fcrb6x+g4U7FqKqtK/XnrohdXntstcQEX747QeSDydTI7hGwVQruBYdIzoCkJ6dTq7mIghVpAoizs+qAc7YGbl5uQXzc/Ny2Zexj/ScdFrWagnA3xP+zsaDG9l5dCe7ju3ieO5xrmh+Ba/0ewWAPy/4M+3qtqNf0340q3mqEQGNKUxElqlqsSUGS/TG7+0+tpvAKoGEh4azIGUBT/70JMMuGMb1ba6nSfViG5CdF6rKgcwDZOdl07BaQ45kHeG2r28j6VASAFG1ougX2Y8hFwyhVe3ihnk15gRL9L6w6TtY+xlUrQFVa0KDDtBhqLNs288QEAwhNZ1lITUhMASkuPGqzfmQm5fLop2L+HjDx8zfMZ/bOtzGA90eIE/zyNVcgqoEuR1iiVLSUpiXMo+52+eSsCeB53s9z1Utr2L3sd2s3reaixtfTPXg6m6HacqZUyX6ctepWbk1/2+wc6WTwI8fgXZXn0j0H94E6amF1+80Eq5703n9nyudL4L8L4mqNaBlP2h/DajCmukQXB2CwyCoGgSFQo2GEFbXWa55UCXgPJ5sxfafX//DtA3T2H1sN/VC6jE6ZjTXt74egCpShSpSvrt4iqwRyU3tb+Km9jeRlpVW8KX03bbveGnpSwRWCaR7g+5c3vxyBrQYQK2qtVyO2JR3luhLIy8PUjdD9zEw8AXnfW7WieUjp0DGIecLIPOwM0W0c5apQmgdyDwCh7bD8cNwPM1J6u2vgayjMP2Ok4/Z5yG49DE4tg9ebu18wQSFnvgiuOSP0OUmOLILvnrgxPL8nx2GQWQcHNsP62ZCSC0Iqwdh4c7PauEQUH5LtWcqMyeTkMAQADYd2kRUzSge6v4Q/Zr2K9el99OpEVyj4HV8u3ii60Uzb/s85myfw3OLn+PvCX9nzvA5hAWFuRilKe+s6qa08nIhO90pjft6vwe2OF8SWenOMbLTIbyNUz2UeRgWvw5ZxzzLMpzXnUdC20FwYCt8dIszPzsTcjKc11f9DbrcDNuXwn8uP/m41/8HOt4AKQnw9cMnkn9YXefLoMMwqNPct+daBnLycvh448e8vvJ1Xr/8dTqEdyAnL4fAKv5dhlFV1h1Yx5r9axjedjgAD81/iAZhDRjcajCt67R2OUJzvlnVjS9UCfB9ks/fb/gp/ilDakG/kzoMPaFuFNy5sOTljWPhgfXOF0Z6KqTvd35G5v89iHNPIW0X7FnrLM/JhGYXOol+zXT49gmo1wrqXeBMdVtBVG8IrnY2Z+wzS3YtYcIvE0g6lETPhj0JDQoF8PskDyAiRNeLJrpeNOB84WXlZvHfxP/y7tp3ia4XzeBWg7kq6irqhNRxOVrjNivRl8b8l53qliuecTuSsqfqnGtQqFO1k7wIlr8PqUnOlHnIWe/+NVC7KSz/ADbMgha9oVV/p8rqPNyE/vOCP/PFli9oUr0JD8Y9yKXNLkXs5jcHMg8wa8ssZm6eyboD63io+0PcEn0LWblZCEKQH1XXmcKsRH+u1n4G1Ru4HcX5IZ4Sfr4WvZwpX/oBJ+HX9DRLzMuGfeudZA9QvSG0uhSGTIQqvr3pmZmTSdWAqogIbeu2pUWtFtzW4baCNuwG6obU5ebom7k5+mY2HNhAw2oNAfhqy1f8LeFvXNbsMga0GEDPRj0r9L0Lc2Ys0Z9O1jHYu86pDzeeOvweJ97HjXamQ7/BlrnOdGzviST/1Z+gSpBT2m9+8VlVf6kqs7bO4pVlr/Boj0e5vPnl3NbhNp+cjj9rW7dtweuWtVvSv2l/vt/2PTOSZlC7am0ua3YZj/V8zEr5lYAl+tPZtRo0F5p0czuS8q12M+h6qzPlU4W03ZD0PSx5HaoEQmQP6HoLxJ7UXVKx1qau5cVfXmTF3hW0r9ue+mH1y+gE/FvniM50jujM8dzj/LTjJ75J/oath7cWJPnpG6fTtEZTujXoRoA15fU7luhPZ+dy52fjru7GURGJwMj/Oa2Bti+GzXNg849wdI+zPCcL9m+Ahh2L3fz1Va/z+srXqRNSh2cufoYhrYZYEjpHVQOq0r9Zf/o360/+/bmcvBz+teJfHMg8QL2QelzR/AoGtBhAbP3YSnFjuzKwm7Gns/gNp47+jtluR+I/8vKcqp3VH8OnY6DZxdBjLLS/FgKCUFVEhK+3fs2yPcu4r+t9hdqTG9/LyMlgfsp8ZifPZn7KfI7nHufu2Lu5q/NdZOVmkZaVRr3Qem6HaU7BukAw5VP6AVj5P/jlLTi0jf01G/FSs9Z0aDuU2zoW8xCZOS/Ss9NZsGMBbes4N7wXpCzg7h/upkO9DvSO7M0lTS4hpl6MXV2VM6dK9OX7WXC3lbMvQb8TVhcuvhe9dzmfXfZ/DKlXle+PJlMwPNnhFPsMXBAWFMaAFgNoUasF4NzIvbfLvQRVCWLS6kncPOtm+n3Ujx1HnfGHylth0ZzMKuBOJekH+OIPcNMn0CDa7Wj80vYj23nm52dYsnsJXet35am4h2gZ0cFpyz/xQgi/AC6823lS11qHuKJJ9SaM6zSOcZ3Gcfj4YX7a+RMJuxNoVK0RAC8seYGNBzdybatrubLFldQMrnmaPZrzzUr0p7JzORzZCbUi3Y7Eb+3L2EfigUSeuPAJJg+c7CR5cFroXPG00y3Ep2Phn51h0b+cJ3yNa2pVrcWgqEE8cdETBZ3DtazdkkPHD/HMz8/Q/8P+PDjvQX7e+fNp9mTOJ6ujP5UpI5y+ZMb/4nYkfuXXfb+yfO/ygrbwx7KPUS2ohO4U8vKc5pk//QuSF8C4eU63DqrWDXQ5oqqsTV3L50mf83Xy11ze7HKevvhpVJWth7fSsnZLt0P0e/Zk7NlQhR3L4YLL3I7Eb6RlpTFx5USmrJtCg2oNuKHNDVQLqlZykgendU6bK51p30aIaOPMn3mv0yfPxfdCo87n5wRMiUSEmPAYYsJjeLD7gxzLPgY4z0HEfxVP+7rtGdxqMIOiBlnrHRdY1U1JjuxwnvC09vPnTFX5YvMXXPvZtUxZN4XhbYfz6eBPT53gi5Of5MHpaXPD1/BmH3jvWmdgmHJ2dVpZBQcEF3Sk1rRGUx7p8QgiwotLX+Tyjy/n3h/u5WDmQZejrFxKVXUjIgOBf+IMDv62qk4osvxVoL/nbRhQX1Vre5Z9A1wILFTVa053rHJTdXNou1Nd0O12uxF7jvYc28PVn11N69qtefzCx+kQ3sE3O844BMvfc551SNsJ/R+Hvg/6Zt/G55IOJjFzy0y+Tf6WmUNnEhwQzL+W/4slu5bQIbxDwRVBi5otyv3gMOXRObWjF5EAYCNwBZACLAXiVTWxhPXvBbqo6mjP+8twkv/vK1SiN+ckPTudWVtncX3r6xER1qWuo23dtmXzD5yTBWs/hWYXOV0rb/4RVn3o9Nkf1cdG5ypn8h+IA/how0fM2jqLxNREMnIyAOcqYNZ1Tid5a/evpV5oPRqENbDeSU/jXOvoewBJqrrFs7NpwBCg2EQPxANP5b9R1R9EpN+ZBFwuHNgCtZpBgN3GOBOqyrfbvuWlpS+xN31vQZ/p7eu1L7uDBgY7ST3foe1Otc7qaVCjMXS6ETrHQ/0yjMGUmnfCHt52OMPbDic3L5eth7fy6/5fCxI+wKMLH2Xr4a3UD6tPbEQssfVj6dGwR6EO28zplaZEfwMwUFXHeN7fAvRU1fHFrNscWAxEqmqu1/x+wP+VVKIXkXHAOIBmzZp127Zt21mdjM/k5cGEZhAb74zUZEpl6+Gt/HXJX/l518+0r9uexy58jM4RLt0ozc7wJPsPnfr7Gg2dPvSrVHH63gkKcScuc0Z+3fcrq/evZtW+Vazau4qdx3YypNUQ/nLJX1BVXlv1GtF1o+lcvzN1Q+q6Ha6rzmerm5HAJ95JvjRUdRIwCZyqGx/HdOZSN0FWGjSKdTuSCiMnL4fff/d7jmYd5dEejzKi7Qh3H5EPCoWY65zp6D44sNlJ8rk58O+uzjCNnUdC26ucdU251DGiIx0jOnJT+5sA535Pdl628zp9D2//+jY5eTkANK/ZnM4RnRnRdgSdIjq5FnN5VJpEvwNo6vU+0jOvOCOBe841KNftWOb8tK6JTylP8/jxtx/pG9mXoIAgXuzzIk1rNCU8NNzt0AqrHuFM4Iyp22k4rP4IPhkNgaFOP/m9H4AWl7gbpzmtBtVODADUsFpDfo7/mcTURFbuW8nKvStZuGMh/Zr2A2DVvlVMWDKBDuEd6FCvAx3CO9CyVstK2SNnac54KdBaRKJwEvxI4KTOxEWkHVAHqPiPxO1YDsHVTz2WayW3eNdiXl32KompiTx/yfMMbjWYLvW7uB3W6VWtAZc/DZc+4TyAteFrZ7CU3Cxn+falTt/5LftDy37OcImm3AoJDKFrg650beA0g1ZV8jQPgNy8XMKCwvhqy1d8uOFDAEIDQ/lg0Ae0rduW3cd2k5GTQfOazf2+lc9pE72q5ojIeGA2TvPKd1R1rYg8CySo6kzPqiOBaVqk0l9EFgDtgOoikgLcoarlu8/fHcugcRdrrVGMdanr+Mfyf/DTzp9oVK0RL1zyAldFXeV2WGeuSoCTyFv2c97n/9ke2QHJC51B0cEZCL1lP7jsCQi1QbbLOxEhQJz/264NuvKfAf8hT/PYdmQba1PXsnb/WprWcL68P9zwIW//+jahgaG0rNWSVrVb0bp2a25qf5PfjbplXSAUZ/Mc52er/qder5JRVUZ+NZIdR3cwtuNYRrYb6Z/jtao64+BunuOU9netgj+ucTpVW/aeM7xk+2uttF/BbT+ynYQ9CWw8uJGkQ0kkHUrieM5xFsUvQkT465K/kpiayAV1LuCC2iem8vpkr/VHb87agcwDvPPrO4zpOIbaIbXZcngL4aHhlauHwvyBUgCm3QTrv3ReN+4K0YOh/WCo18q9+IzPePe7NHnNZOanzGfToU0cPu50phdVK4qZQ51KjI83fkxIQAht67YlqlaU64OtW6I/EztXOANitOx/4p+7EkrPTuf9xPd5d+27ZOZk8mKfFxnQYoDbYZUPqZsh8XNYN9P5e4keCsPfc5btT3KSvj3c4zdUldTMVDYd3ER2XjZ9IvsAMOCTAew8thOAwCqBtKrViqtaXsXomNEAHMk6cl4LRNap2Zn45S3YOBseTHI7Etd8vPFjJq6YSGpmKpc3u5x7u95Ly1rW+2CBeq2cVjq9H4BDv0HOcWd+6mb4f92g3gVOKb/9NVC/g7XZr+BEhPDQ8JNak3113VdsO7KNDQc2sOGgM2XnOk0/s3Kz6DutL8/2epZrW13rRtiFWKIvascyp1llJSqRqSrrD6wveHp10Y5FNK/ZnH9e+k/3HniqKGo3O/E6rC5c/XdY9wUs+icsfMWZf+tMaNkXdq2Gjd9AnSioGwV1WkBYvUr1t+ZPAqsE0qp2K1rVbsVVFG6QkJOXw/3d7ic2Itad4IqwRO/teBrs2wAdrnM7kvNi97HdfJ70OZ9v/pztaduZNWwWTWs25blez1E9qLr1LXKmQutA9zHOlH7A6XMndTOEe3rd3JEAc54vvE1wDbhzPtRtCdt/gT1rnC+AOlHOgDd+1vqjsggLCisYb6E8sETvbedKQKGJf3dNnHw4mb/+8ld+3vkzitK9YXfu7Hwn4WHOpWmN4BouR+gHwupCxxsKz4sbDZ1GwqFtcDDZGdTmYDLUcIbkY91M+OnfJ9aXAKdlz92Lnad3t/0Ex/Y7XwR1o5xnAowpBUv03nYud376WR/0+aP/ZOdl06V+F2pXrc3Oozv5feffM7jV4IJ2xeY8CA5zOlcrroO1y5+FnnfBwa2eL4GtcHTviS4alrwJiTNOrB9ax7kHcPtXzvt1X0LWUajZBGo1cX4G+mHzV3PGrNWNt9xs2L/R6QfFjzyy4BG+2vIV3Rt2550B7wCFu4o1FUTmYa8rga1OL51SBa5+2Vn+nyth+5LC27ToDaM8zUEXvOKMylUtwhm4pVqEUz1Up8X5PAtTRqzVTWkFBPldkj+WfYxvtn7DtS2v5ZGejxTMtyRfAYXUcoZNLGnoxFtmOIPZH0mBwzucp3xDap1YnjjDuSGMV+GuzSD43TTn9Ru9QfM8XwL1oWYjaHYxtB3oLE/bDWHh1nV3BWSfWL5j+2H+35wRpeq3czsan1mxdwW5msu1ra6tXA85VUbBYRB+gTMV5/fznd47Mw7AsX3OFFz9xPLI7pC2y5l/YLGT2I+nOYk+Nwde8VQ35X8J1GgMHa+HmOshLxd+W+xcIdRsbDeRyxlL9PlSEmDJGxA9xO1IfGrp7qUESqA1kzSOgECoXt+ZirrmlcLvVU88I6C5TtPRI7ucYRuP7HIG50nb4yxP2wXvepoYShXnBnOtSLj4D87zBJlHnJvJtSKdKbR2mZ2iOZkl+nw7lzt/oCVdFldQlza7lIbVGhIWFOZ2KKaiETnxsFdgVafVUElC68Itn8HhlBPTod+c/ymAvetg6ogT64eFQ0Q7p7O4ZhfC8aPOYDHVwu25gjJgiT7fjmUQ0R6Cq7kdiU91juhspXlT9oLDoNWlJS9vGANjfnCS/+HtsH+T88xKfhXPptnO+AChdZ0WSRFtnS+Cjjc6TVXNObFED84l6o7l0K4Cdrd7Cr8d+Y096XuIrR/reodLppILrgaRcc5UnEaxMOCvTq+h+zY43URnHoa2g5xEnzAZfv0EGkR7mqd6fnrfbDYlskQPkJ7qXJr6Wfv5GUkzeGfNOyyKX2SJ3pRv9VrBRXefeK8KR/c4N37B+f/MPQ4rpzjPCoDzQNlju5xlG2dDxkHnCyC8jfUvVIQlenDqBf+03mk54EeW7VlGdL3ogm5XjakwRJwB3fPF/s6ZVJ2qn73rnPsA+Q+E/fIWJH2Xv7HTB1Gzi+C6N51Ze9ZCSG2nRVAlvAdgid6bH40olZGTwer9q7ml/S1uh2KM74gniXt3JgcQP9VpBbRnrVP1k7qpcKn+k9FOtVBQNefqIby1M3JY11ud5dmZfn0VYIkeYPoYp1Op/n92OxKfWb1vNTl5OcQ1LKFO1Bh/EhDkuYHbtvjlV//duQpITXJuBKcshYBgJ9GrwsttnBvK9S5wvgjqXQDNe/lNv1d+leif+WItiTuPnNE2VTSXyXtm8mPoQN7bWPHHNc+3N3AmBAj/+iqHiX4wXrsx5yYAiPFMQCiwR+HNnwnQHK4NHkajnB002pFCo22rqKlH+KzaCKbVvJ3QvGO8sP8P7Apswq7AJuwJaMyuwCYkB7YkLaC2T6OMblyTp671/dP5pUr0IjIQ+CfOb+ttVZ1QZPmrQP4Aq2FAfVWt7Vl2G/C4Z9lfVPU9H8TtM01yfiNEj7M5qI3bofhURM5V1MztQgChbodiTPnkqavPlUBmVB9ZaFH1vCOIp6uIqprJtqCWNMrZQczxVVTFeYjs7Zrj+a7aNTTI2cltR95kd2Bjdgc0YndgE3YHNGZ/QH3ypHxUB5+2UzMRCQA2AlcAKcBSIF5VE0tY/16gi6qOFpG6QAIQh9PBxjKgm6oeLOl4571Ts+Xvw8x7Yfyykh8dN8YYcKp50jxPBdeJcnoJ3bEMZv7BmZedfmLd+A+d7iN2r3GGnsxvFlqvVZl0EXGunZr1AJJUdYtnZ9OAIUCxiR6IB57yvB4AfKeqBzzbfgcMBKaWPvwytmM5VK3l1NH7ibWpa/ly85fc0fGOk4Y/M8acAxGn5U7NxifmNekGdy060ST0wBZnwJnGXZzlu1bBgpedDuMAqgQ5N4Pjpzo9hx5OcbqaqNOizBqElCbRNwG2e71PAXoWt6KINAeigB9PsW2TYrYbB4wDaNasWdHFZat2U2eACD8aCHx+ynz+t+5/3Nn5TrdDMabyyG8SWqMhNL/4xPwuNzkdv+3f6LT82Zvo3BjOf0bgl0nO0JOBofBAYpk8Cezrm7EjgU9U9YwapKvqJGASOFU3Po7p1Hr/6bwe7nxYtnsZbeu2pVZVe2rQmHIhKAQadXKmomJvdh7ySt3sDCZTBkqT6HcA3kMQRXrmFWckcE+RbfsV2XZu6cMrYznHncsoPyrNZ+dms2rfKm5oc8PpVzbGuC+ijTOVodJkuKVAaxGJEpFgnGQ+s+hKItIOqAOF2vLNBq4UkToiUge40jOvfEiYDBOaOQM5+4k1qWvIzM0kroG1nzfGOE5bolfVHBEZj5OgA4B3VHWtiDwLJKhqftIfCUxTr2Y8qnpARJ7D+bIAeDb/xmy5sHO509mSH/WOtz9jP3VD6tK1gX886GGMOXeVe8zYf3eD8LYQP+X8HO88sfFgjal8TtW80n8qp89UxiHncWg/ecQZnAQPNh6sMaawypvod65wfvpRol+9fzWDpg9i7f61bodijClHKm+ir93MaVrpR33QJ+xOIOVoCg2rNTz9ysaYSsOvOjU7I/VawWVPuh2FTyXsSaBlrZbUC63ndijGmHKkcpboszNhyzxnMGI/kZOXw/I9y61ZpTHmJJUz0af8Au8PdpK9n1h/YD3pOenW/7wx5iSVM9EnLwSpAs0vcjsSnwkJCGHYBcOsRG+MOUnlrKNPXgiNOvvVCPIX1LmAZ3s963YYxphyqPKV6LMznGHEWlzidiQ+k5uXy+ZDmylvD78ZY8qHypfot/8CuVnQorfbkfjMxoMbGfr5UL5J/sbtUIwx5VDlq7ppfjGM+QEi2rkdic8s3e10JdSlfheXIzHGlEeVL9EHBEGkf92wTNiTQGT1SHtQyhhTrMpVdZOdAd88CntKGgWx4snTPJbvXW7NKo0xJapciX77L7D4NThS0rgpFc+mg5s4fPywNas0xpSoclXdJC8ECYCmxQ55WyE1rdGUf/b/J50jOrsdijGmnKpkiX4BNI6FkJpuR+IzYUFhXNrsUrfDMMaUY5Wn6iYrHVIS/Kr9vKry3tr3SD6c7HYoxphyrPKU6A8mQ2htaNHH7Uh8ZsvhLbyc8DI1g2vSolYLt8MxxpRTlSfRN4iG/9sEmud2JD6T337eWtwYY06lVFU3IjJQRDaISJKIPFLCOsNFJFFE1orIFK/5L4rIGs80wleBnxURqBLgagi+lLAngQZhDYisHul2KMaYcuy0iV5EAoCJwCAgGogXkegi67QGHgV6qWoH4H7P/KuBrkAs0BP4PxE5/3dCs445A4GvnXHeD11WVJWE3QnENYyzMWKNMadUmhJ9DyBJVbeoahYwDRhSZJ2xwERVPQigqns986OB+aqao6rHgNXAQN+Efga2L3EGAq9a/bwfuqzsSd/Dkawj1n7eGHNapUn0TYDtXu9TPPO8tQHaiMgiEVksIvnJfBUwUETCRCQc6A80LXoAERknIgkikrBv374zP4vTSV4IVQKh6YW+37dLGlZryE/xP3F1y6vdDsUYU8756mZsINAa6AdEAvNFpKOqfisi3YGfgH3Az0Bu0Y1VdRIwCSAuLs73fe0mL3QGAfejEj1ASGCI2yEYYyqA0pTod1C4FB7pmectBZipqtmquhXYiJP4UdXnVTVWVa8AxLPs/Dl+FHYs87v28/f+cC9fb/3a7VCMMRVAaRL9UqC1iESJSDAwEphZZJ0ZOKV5PFU0bYAtIhIgIvU88zsBnYBvfRN6KWUdg9jfQZsB5/WwZWl72nbmpswlLSvN7VCMMRXAaatuVDVHRMYDs4EA4B1VXSsizwIJqjrTs+xKEUnEqZp5UFVTRSQEWOBpFXIEuFlVc8rqZIpVowEM/vd5PWRZS9iTAGA3Yo0xpVKqOnpVnQXMKjLvSa/XCjzgmbzXycRpeeOeA1ugdguo4j+9Pfy882fCQ8OJqhXldijGmArAf7JfcY4fhX/HwbwX3Y7EZ7Jzs1m4YyF9IvtY+3ljTKn4d6L/bTFoLjTzn26JD2c5fc9f1uwyt0MxxlQQ/t3XTfICT/t5/0n04aHh/Psy/7rnYIwpW/5dok9eCE26QXA1tyPxCVVlX3oZPFBmjPFr/pvoj6fBzhXQorfbkfjMlsNbuPTjS/lm6zduh2KMqUD8t+omIBhGToG6Ld2OxGfmbp8LQGz9WDfDMMZUMP6b6AOrQtvz339aWZq7fS7t67anYbWGbodijKlA/LfqZvn7sHuN21H4zIHMA6zat4p+Tfu5HYoxpoLxz0SfeQS+uB8SZ7gdic8sSFmAovRt2tftUIwxFYx/JvrtS5z2837UkVmvJr14rtdzRNd190FjY0zF45919MkLnJuxkT3cjsRnwkPDGXrBULfDMMZUQP5Zot+6AJrEQXCY25H4xNrUtXy04SMycjLcDsUYUwH5X6LPzoD9G/2q2ubzpM/529K/IVjfNsaYM+d/VTdBofDgZsg97nYkPqGqzN0+lwsbX2gjShljzor/legBgkIgpJbbUfjExoMb2XVsF/0i+7kdijGmgvK/RD/jHlj2rttR+My8lHkA9Ins43IkxpiKyr8SfeZhWDUFjuxyOxKf2Z62nU7hnYgIi3A7FGNMBeVfdfTbfgbN86sbsc/1eo7jfnK/wRjjDv8q0ScvgICqENnd7Uh8whmhEaoGVHU5EmNMRVaqRC8iA0Vkg4gkicgjJawzXEQSRWStiEzxmv+SZ946EfmXlOX4d8kLnSQf5B+tUx5e8DDP/PyM22EYYyq40yZ6EQkAJgKDcAb6jheR6CLrtAYeBXqpagfgfs/8i4FeQCcgBugOlE1nLXl5ULsptB1UJrs/347nHmfu9rkESIDboRhjKrjS1NH3AJJUdQuAiEwDhgCJXuuMBSaq6kEAVd3rma9ACBAMCBAE7PFN6EVUqQIj/lsmu3bDkl1LyMjJsN4qjTHnrDRVN02A7V7vUzzzvLUB2ojIIhFZLCIDAVT1Z2AOsMszzVbVdUUPICLjRCRBRBL27bOh8sDpez40MJTuDf3jfoMxxj2+uhkbCLQG+gHxwFsiUltELgDaA5E4Xw6XishJY/up6iRVjVPVuIgIa0aoqsxLmUevxr3sRqwx5pyVpupmB9DU632kZ563FGCJqmYDW0VkIycS/2JVPQogIl8DFwELzjFuv5aVl8UNrW+gQ3gHt0MxxviB0pTolwKtRSRKRIKBkcDMIuvMwEnqiEg4TlXOFuA3oK+IBIpIEM6N2JOqbkxhVQOqclfsXfY0rDHGJ06b6FU1BxgPzMZJ0h+p6loReVZEBntWmw2kikgiTp38g6qaCnwCbAZ+BVYBq1T1izI4D7+ydPdS65LYGOMzkv9QTnkRFxenCQkJbofhmr3pe7ns48u4r+t9jOk4xu1wjDEVhIgsU9W44pb515OxfiC/E7O+kTY2rDHGNyzRlzPzts+jSfUmXFD7ArdDMcb4CUv05UhGTgaLdy2mb2RfyrKnCGNM5WKJvhxZunspx3OP07epVdsYY3zHv7opruB6N+nNtGum0aZ2G7dDMcb4EUv05YiI0KGePSRljPEtq7opJzYc2MDTPz3N7mO73Q7FGONnLNGXE99t+47Pkj4jJMA/+tI3xpQflujLiXkp84iNiKV2SG23QzHG+BlL9OXA7mO7WX9gvbW2McaUCUv05cCXW74E4LJml7kciTHGH1miLwcCJIArml9B85rN3Q7FGOOHrHllOXB7zO1uh2CM8WNWonfZxoMbydM8t8MwxvgxS/Qu2p+xnxFfjODN1W+6HYoxxo9ZonfR50mfk6M5DGwx0O1QjDF+zBK9S/I0j+mbphPXII6oWlFuh2OM8WOW6F3yy+5f2J62nRva3OB2KMYYP2eJ3iXfbP2GWlVrcXnzy90OxRjj50qV6EVkoIhsEJEkEXmkhHWGi0iiiKwVkSmeef1FZKXXlCkiQ30Yf4X12IWPMXnAZKoGVHU7FGOMnzttO3oRCQAmAlcAKcBSEZmpqole67QGHgV6qepBEakPoKpzgFjPOnWBJOBbX59ERRRUJYjWdVq7HYYxphIoTYm+B5CkqltUNQuYBgwpss5YYKKqHgRQ1b3F7OcG4GtVTT+XgCs6VeWO2XfwedLnbodijKkkSpPomwDbvd6neOZ5awO0EZFFIrJYRIprLzgSmFrcAURknIgkiEjCvn37ShN3hbV091J+2f0LVcRujxhjzg9fZZtAoDXQD4gH3hKR2vkLRaQR0BGYXdzGqjpJVeNUNS4iIsJHIZVPn2z8hBrBNbii+RVuh2KMqSRKk+h3AE293kd65nlLAWaqaraqbgU24iT+fMOBz1Q1+1yCregOZh7k+9++Z3CrwYQE2gAjxpjzozSJfinQWkSiRCQYpwpmZpF1ZuCU5hGRcJyqnC1ey+MpodqmMpm5eSbZedlc3/p6t0MxxlQip030qpoDjMepdlkHfKSqa0XkWREZ7FltNpAqIonAHOBBVU0FEJEWOFcE88og/gqlY3hHxnQcY61tjDHnlaiq2zEUEhcXpwkJCW6HYYwxFYqILFPVuOKWWdOP82TWlllsO7LN7TCMMZWQJfrz4PDxwzyx6An+t+5/bodijKmELNGfB19s/oKsvCzrwMwY4wpL9GVMVfl448d0Cu9Emzpt3A7HGFMJWaIvYyv2rmDL4S1WmjfGuMYSfRlLOpRE3ZC6DGgxwO1QjDGV1Gl7rzTnZnjb4Qy9YCjBAcFuh2KMqaSsRF+GjmYdBbAkb4xxlSX6MqKq3PL1LTz909Nuh2KMqeQs0ZeRVftWkXQoiZjwGLdDMcZUcpboy8gnGz8hLDCMQVGD3A7FGFPJ2c3YMrDr6C6+Sf6Ga1tdS7Wgam6HY1yUnZ1NSkoKmZmZbodi/ERISAiRkZEEBQWVehtL9GXgP2v+A8C4juNcjsS4LSUlhRo1atCiRQtExO1wTAWnqqSmppKSkkJUVFSpt7NEXwb+FPcnrmx+JY2qN3I7FOOyzMxMS/LGZ0SEevXqcaZDrlqi96E8zSMnL4fQwFB6NOrhdjimnLAkb3zpbP6e7GasD83cPJOhnw9l97HdbodijDEFLNH7SHp2Ov9c/k/qVK1D/bD6bodjDAD9+/dn9uzZheb94x//4K677jrjfc2dO5drrrnmjLbp168fNpCQ+yzR+8jbv77N/oz9PNzjYaqI/VpN+RAfH8+0adMKzZs2bRrx8fGn3TY3N7eswipXx6wMrI7eB1LSUnhv7Xtc0/IaOkV0cjscU04988VaEnce8ek+oxvX5KlrO5S4/IYbbuDxxx8nKyuL4OBgkpOT2blzJxkZGVx00UUcP36cVq1aMXnyZKpXr06LFi0YMWIE3333HQ899BC1a9fm/vvvJywsjEsuuaRgv7/88gv33XcfmZmZhIaGMnnyZNq2bUtGRga33347q1atol27dmRkZBRs8+233/LUU0+d9piqygsvvICqcvXVV/Piiy/69HdWGZWq6CkiA0Vkg4gkicgjJawzXEQSRWStiEzxmt9MRL4VkXWe5S18FHu5MX3TdAKqBHB/1/vdDsWYQurWrUuPHj34+uuvAac0f+WVV/L888/z/fffs3z5cuLi4njllVcKtqlXrx7Lly9n6NChjB07li+++IJly5axe/eJe0/t2rVjwYIFrFixgmeffZY///nPALz++uuEhYWxbt06nnnmGZYtWwbA/v37+ctf/nLaY/bp04eHH36YH3/8kZUrV7J06VJmzJhxHn5T/u20JXoRCQAmAlcAKcBSEZmpqole67QGHgV6qepBEfGupH4feF5VvxOR6kCeT8+gHLi3y70MihpEg2oN3A7FlGOnKnmXpfzqmyFDhjBt2jSGDRvGjBkz6NWrFwBZWVlcdNFFBeuPGDECgPXr1xMVFUXr1q0BuPnmm5k0aRIAhw8f5rbbbmPTpk2ICNnZ2QDMnz+fP/zhDwB06tSJTp2cK9zFixeTmJh42mMuXbqUfv36ERERAcBNN93E/PnzGTp0aJn8biqL0lTd9ACSVHULgIhMA4YAiV7rjAUmqupBAFXd61k3GghU1e8884/6MHbX5eblciTrCHVC6tjoUabcGjJkCH/84x9Zvnw56enpdO3alSuuuIKpU6cWu361aqd/mvuJJ56gf//+fPbZZyQnJ9OvX79Trq+q53xMc/ZKU3XTBNju9T7FM89bG6CNiCwSkcUiMtBr/iER+VREVojI3zxXCIWIyDgRSRCRhDN9EMBNM5JmcPWnV7PtyDa3QzGmRNWrV6d///6MHj2a+Ph4LrzwQhYtWkRSUhIAx44dY+PGjSdt165dO5KTk9m8eTNAoSR9+PBhmjRx0sC7775bML9Pnz5MmeLU3K5Zs4bVq1cDlPqYPXr0YN68eezfv5/c3FymTp1K3759ffBbqNx81TwkEGgN9APigbdEpLZnfm/g/4DuQEtgVNGNVXWSqsapalz+JVt5dzTrKP9a8S8uqHMBzWo0czscY04pPj6eVatWER8fT0REBO+++y7x8fF06tSJiy66iPXr15+0TUhICJMmTeLqq6+ma9eu1K9/okb2oYce4tFHH6VLly7k5OQUzL/rrrs4evQo7du358knn6Rbt24ApT5mo0aNmDBhAv3796dz585069aNIUOGlMFvpHIRVT31CiIXAU+r6gDP+0cBVPWvXuu8ASxR1cme9z8AjwABwIuq2tcz/xbgQlW9p6TjxcXFaUVod/tKwitMXjuZaVdPo0O4O3Wvpvxbt24d7du3dzsM42eK+7sSkWWqGlfc+qUp0S8FWotIlIgEAyOBmUXWmYFTmkdEwnGqbLZ4tq0tIvnF9EspXLdfIf125Dc+WPcBQ1oNsSRvjCn3TpvoVTUHGA/MBtYBH6nqWhF5VkQGe1abDaSKSCIwB3hQVVNVNRen2uYHEfkVEOCtsjiR82nO9jkEVwnmvq73uR2KMcac1mmrbs63ilJ1sy99HxFhFeN+gnGPVd2YslAWVTfGIycvh62HtwJYkjfGVBiW6M/Ap5s+Zdjnw1h/4OTWAsYYU15Zoi+lI1lH+H8r/h+x9WNpW6et2+EY41dmz57NypUr3Q7Db1miL6WJKyZy6PghHu7+sA0kYSqUgIAAYmNjiYmJ4cYbbyQ9Pf2s9zVq1Cg++eQTAMaMGUNi4pk3orvqqqs4dOhQwfsff/yR2bNn07lz57OOpTR27tzJDTfcUOr1ExIS6NChA1lZWQBs3ryZli1bcuRI8R3TrVy5klmzZpV6/94OHTrEa6+9dlbbloYl+lKYnzKfKeunEN8unvb17MaaqVhCQ0NZuXIla9asITg4mDfeeKPQcu8Hns7E22+/TXR09BlvN2vWLGrXrl3w/tJLL+WVV14p8wJU48aNz+iLIS4ujr59+/Lyyy8DcM899/D8889Ts2bNYte3RF/BpaSl0KFeBx6Ie8DtUIw5J7179yYpKYm5c+fSu3dvBg8eTHR0NLm5uTz44IN0796dTp068eabbwJOHzXjx4+nbdu2XH755ezdu7dgX96DinzzzTd07dqVzp07c9lllwFw9OhRbr/9djp27EinTp2YPn06AC1atGD//v0AvPLKK8TExBATE8M//vEPAJKTk2nfvj1jx46lQ4cOXHnllYW6O/b2/fffExcXR5s2bfjyyy8Ltu/duzddu3ala9eu/PTTTwXzY2JiAGcs3/zYunTpwpw5c4rd/wsvvMBbb73FSy+9RE5OTon9+GdlZfHkk0/y4YcfEhsby4cffsixY8cYPXo0PXr0oEuXLnz++ecArF27lh49ehAbG0unTp3YtGkTjzzyCJs3byY2NpYHH3ywFJ/kGVLVcjV169ZNy6Ps3Gy3QzAVUGJiYuEZ71x18rRkkrPs+LHily//r7P86P6Tl5VCtWrVVFU1OztbBw8erK+99prOmTNHw8LCdMuWLaqq+uabb+pzzz2nqqqZmZnarVs33bJli06fPl0vv/xyzcnJ0R07dmitWrX0448/VlXVvn376tKlS3Xv3r0aGRlZsK/U1FRVVX3ooYf0vvvuK4jjwIEDqqravHlz3bdvnyYkJGhMTIwePXpU09LSNDo6WpcvX65bt27VgIAAXbFihaqq3njjjfrBBx+cdF633XabDhgwQHNzc3Xjxo3apEkTzcjI0GPHjmlGRoaqqm7cuFHzc8rWrVu1Q4cOqqr68ssv6+23366qquvWrdOmTZsWbFPUG2+8oVWqVNH169ef8vc8efJkveeeewreP/roowVxHzx4UFu3bq1Hjx7V8ePH63//63ymx48f1/T09EKxlcZJf1eqCiRoCXnVSvSn8EHiB8xPmQ9AYBUbo8VUTBkZGcTGxhIXF0ezZs244447AKcDsaioKMAZFOT9998nNjaWnj17kpqayqZNm5g/fz7x8fEEBATQuHFjLr300pP2v3jxYvr06VOwr7p16wJOafuee070dlKnTp1C2y1cuJBhw4ZRrVo1qlevznXXXceCBQsAiIqKIjY2FoBu3bqRnJxc7LkNHz6cKlWq0Lp1a1q2bMn69evJzs5m7NixdOzYkRtvvLHY+wgLFy7k5ptvBpzO25o3b15sJ2sAX3/9NQ0aNDjj+xHffvstEyZMIDY2ln79+pGZmclvv/3GRRddxAsvvMCLL77Itm3bCA0NPaP9ng3LXiVYtmcZLye8zKCoQfSJ7ON2OMZf3P5VycuCw069vFq9Uy8vQX4d/Um78+oaWFX597//zYABAwqtc7Z1zueqatWqBa8DAgJKrLopWq8vIrz66qs0aNCAVatWkZeXR0hIyFnH8eWXX3L48GFmz57NsGHDGDBgAGFhYaXaVlWZPn06bdsWbqXXvn17evbsyVdffcVVV13Fm2++ScuWLc86xtKwEn0xDmUe4uH5DxNZPZInLnzC7XCMKXMDBgzg9ddfLxhAZOPGjRw7dow+ffrw4Ycfkpuby65du4qty77wwguZP38+W7c6DxMeOHAAgCuuuIKJEycWrHfw4MFC2/Xu3ZsZM2aQnp7OsWPH+Oyzz+jdu/cZxf3xxx+Tl5fH5s2b2bJlC23btuXw4cM0atSIKlWq8MEHHxQ7Dm3v3r353//+V3Cuv/3220kJOSMjgwceeICJEyfSsWNHhgwZwvPPP19iLDVq1CAtLa3g/YABA/j3v/+NenofWLFiBQBbtmyhZcuW/OEPf2DIkCGsXr36pG19zRJ9EarKEz89QWpmKi/1fYlqQTYggvF/Y8aMITo6mq5duxITE8Pvf/97cnJyGDZsGK1btyY6Oppbb7210KhQ+SIiIpg0aRLXXXcdnTt3Lhgt6vHHH+fgwYPExMTQuXPnk74kunbtyqhRo+jRowc9e/ZkzJgxdOnS5YzibtasGT169GDQoEG88cYbhISEcPfdd/Pee+/RuXNn1q9fX+jKJf8K4O677yYvL4+OHTsyYsQI3n333UJXEQDPPfccw4YNK2hZ9PTTTzN16lQ2bdpUbCz9+/cnMTGx4GbsE088QXZ2Np06daJDhw488YRTaPzoo4+IiYkhNjaWNWvWcOutt1KvXj169epFTExMmdyMtb5uipifMp97friHh7o/xC3Rt7gWh/EP1tdN+bFs2TIeeOAB5s2b53Yo5+xM+7qxOvoiejfpzcTLJtK7yZldQhpjyq+EhAR+97vfMWHCBLdDcYUleo/07HT2Zeyjec3mdvPVGD8TFxdXYquaMzV79mwefvjhQvOioqL47LPPfLL/smCJ3uP5Jc8z57c5zLpuFrVDarsdjjGmnBowYMBJrZPKO7sZC3yx+Qtmbp7JzdE3W5I3xvidSp/okw8n89zi5+jWoBvjOo1zOxxjjPG5Sp3os3KzeGj+QwQHBDOh9wR7+tUY45cqdWZTlI7hHbmr8100rNbQ7XCMMaZMlKpELyIDRWSDiCSJyCMlrDNcRBJFZK2ITPGanysiKz3TTF8Ffi5y83LZnradqgFVeeKiJ+jfrL/bIRlTqdnAI2XrtIleRAKAicAgIBqIF5HoIuu0Bh4FeqlqB+B+r8UZqhrrmQb7LPKztD1tO6Nnj2bUN6M4ln3M7XCMKXP+OvCIKb3SlOh7AEmqukVVs4BpwJAi64wFJqrqQQBV3Us5o6pM3zidG2bewMaDG7mv632EBZaucyJjKjIbeMSUJtE3AbZ7vU/xzPPWBmgjIotEZLGIDPRaFiIiCZ75Q4s7gIiM86yTsG/fvjOJv1TSs9MZ/+N4nv75aTqGd+TTwZ8yuNVg+8My593t39x+0jRt/TQAMnIyil0+I2kGAAczD5607Ez508Ajo0aN4s477yz1wCO7du2iT58+BVc3+V0iT506lY4dOxITE3PSg1D5nn32Wbp3705MTAzjxo2juK5jzmc8Z8pXN2MDgdZAPyASmC8iHVX1ENBcVXeISEvgRxH5VVU3e2+sqpOASeD0deOjmAqEBoYSKIE83P1hftf+d1SRSt3YyFRSOTk5fP311wwc6JTDli9fzpo1a4iKimLSpEnUqlWLpUuXcvz4cXr16sWVV17JihUr2LBhA4mJiezZs4fo6GhGjx5daL/79u1j7NixzJ8/n6ioqILeK5977jlq1arFr7/+Cpzce+WyZcuYPHkyS5YsQVXp2bMnffv2pU6dOmzatImpU6fy1ltvMXz4cKZPn17Qf7y35ORkfvnlFzZv3kz//v1JSkqifv36fPfdd4SEhLBp0ybi4+NJSEhgypQpDBgwgMcee4zc3FzS09PZuXMnDz/8MMuWLaNOnTpceeWVzJgxg6FDhxY6zvjx43nyyScBuOWWW/jyyy+59tprXYvnTJUm0e8Amnq9j/TM85YCLFHVbGCriGzESfxLVXUHgKpuEZG5QBdgM2XsSNYRXl32KuM6jqNR9Ub8o/8/rARvXDd54OQSl4UGhp5yeZ2QOqdcXpL8gUfAKdHfcccd/PTTTycNPLJ69eqC+vfDhw/7ZOCRadOmnYj/FAOPAAUDjwwePPicBh6Jiopi/PjxrFy5koCAgIKuD7p3787o0aPJzs5m6NChxMbG8uOPP9KvXz8iIiIAuOmmm5g/f/5JiXXOnDm89NJLpKenc+DAATp06FBsoj9f8Zyp0iT6pUBrEYnCSfAjgd8VWWcGEA9MFpFwnKqcLSJSB0hX1eOe+b2Al84p4lL4eefPPLHoCfZn7Kdr/a5cW/1aS/Km0rKBR5yBR/r06cP8+fP56quvGDVqFA888AC1atU6bSyZmZncfffdJCQk0LRpU55++mkyMzNdi+dsnLYOQ1VzgPHAbGAd8JGqrhWRZ0UkvxXNbCBVRBKBOcCDqpoKtAcSRGSVZ/4EVT3z2/SllJGTwV+X/JVx340jNDCU/171X65tdfK3rjGmsMow8Mi2bdto0KABY8eOZcyYMSxfvpwePXowb9489u/fT25uLlOnTqVv376FjpGf1MPDwzl69GjBVY9b8ZyNUtXRq+osYFaReU96vVbgAc/kvc5PQMdzjrKU3lz1JlPWT+Hm9jdzX9f7CAk8+yHEjKlMxowZQ3JyMl27dkVViYiIYMaMGQwbNowff/yR6OhomjVrdtqBR/Ly8grqpB9//HHuueceYmJiCAgI4KmnnuK6664r2M574JH8GLp06VJiNU1x8gceOXLkSKGBR66//nref/99Bg4cWHDlMnfuXP72t78RFBRE9erVef/992nUqBETJkygf//+qCpXX301Q4YUblRYu3Ztxo4dS0xMDA0bNqR79+6uxnM2/GrgkbSsNNalrqNHox4+jsqYs2MDj5SdUaNGcc0113DDDTe4HQpwfuM504FH/Kr5SY3gGpbkjTGmiErd140xpuJ699133Q6hkPIWjze/KtEbUx6Vt+pRU7Gdzd+TJXpjylBISAipqamW7I1PqCqpqakFTTRLy6pujClDkZGRpKSkUBZde5jKKSQkhMjIyDPaxhK9MWUoKCio4IlRY9xiVTfGGOPnLNEbY4yfs0RvjDF+rtw9GSsi+4Bt57CLcGC/j8IpzyrLeULlOdfKcp5Qec71fJ5nc1WNKG5BuUv050pEEkp6DNifVJbzhMpzrpXlPKHynGt5OU+rujHGGD9nid4YY/ycPyb6SW4HcJ5UlvOEynOuleU8ofKca7k4T7+rozfGGFOYP5bojTHGeLFEb4wxfs5vEr2IDBSRDSKSJCKPuB1PWRKRZBH5VURWisjZDcdVTonIOyKyV0TWeM2rKyLficgmz886bsboCyWc59MissPzua4UkavcjNEXRKSpiMwRkUQRWSsi93nm++NnWtK5uv65+kUdvYgEABuBK4AUYCkQX5YDkbtJRJKBOFX1uwdORKQPcBR4X1VjPPNeAg6o6gTPl3gdVX3YzTjPVQnn+TRwVFVfdjM2XxKRRkAjVV0uIjWAZcBQYBT+95mWdK7Dcflz9ZcSfQ8gSVW3qGoWMA049xF1zXmnqvOBA0VmDwHe87x+D+efp0Ir4Tz9jqruUtXlntdpwDqgCf75mZZ0rq7zl0TfBNju9T6FcvILLiMKfCsiy0RknNvBnAcNVHWX5/VuoIGbwZSx8SKy2lO1U+GrM7yJSAugC7AEP/9Mi5wruPy5+kuir2wuUdWuwCDgHk81QKWgTl1jxa9vLN7rQCsgFtgF/N3VaHxIRKoD04H7VfWI9zJ/+0yLOVfXP1d/SfQ7gKZe7yM98/ySqu7w/NwLfIZTdeXP9njqP/PrQfe6HE+ZUNU9qpqrqnnAW/jJ5yoiQTiJ73+q+qlntl9+psWda3n4XP0l0S8FWotIlIgEAyOBmS7HVCZEpJrnRg8iUg24Elhz6q0qvJnAbZ7XtwGfuxhLmclPfB7D8IPPVUQE+A+wTlVf8Vrkd59pSedaHj5Xv2h1A+BpsvQPIAB4R1WfdzeisiEiLXFK8eAMBTnFn85VRKYC/XC6d90DPAXMAD4CmuF0YT1cVSv0jcwSzrMfzuW9AsnA773qsSskEbkEWAD8CuR5Zv8Zp+7a3z7Tks41Hpc/V79J9MYYY4rnL1U3xhhjSmCJ3hhj/JwlemOM8XOW6I0xxs9ZojfGGD9nid4YY/ycJXpjjPFz/x9Yw0Cnv7MNpAAAAABJRU5ErkJggg==\n",
       "datasetInfos": [],
       "metadata": {},
       "removedWidgets": [],
       "type": "image"
      }
     },
     "output_type": "display_data"
    }
   ],
   "source": [
    "predictions = model.predict(X_test)\n",
    "# predictions = predictions[len_seq:,:] # NOTA: Esto se necesitaba cuando era una sola variable\n",
    "\n",
    "# Visualización de las predicciones\n",
    "import matplotlib.pyplot as plt\n",
    "\n",
    "plt.plot(y_test, label='Verdadero')\n",
    "plt.plot(predictions, label='Predicción bajo X_test', linestyle='--')\n",
    "plt.plot(future_predictions, label='Predicción paso a paso', linestyle='--')\n",
    "plt.title('Ventas Reales vs. Predicciones')\n",
    "plt.legend()\n",
    "plt.show()"
   ]
  },
  {
   "cell_type": "code",
   "execution_count": null,
   "metadata": {
    "application/vnd.databricks.v1+cell": {
     "cellMetadata": {
      "byteLimit": 2048000,
      "rowLimit": 10000
     },
     "inputWidgets": {},
     "nuid": "46fc28dd-7515-4c8d-8005-55a5f95a74c1",
     "showTitle": false,
     "title": ""
    }
   },
   "outputs": [
    {
     "name": "stdout",
     "output_type": "stream",
     "text": [
      "\r\u001b[1m1/1\u001b[0m \u001b[32m━━━━━━━━━━━━━━━━━━━━\u001b[0m\u001b[37m\u001b[0m \u001b[1m0s\u001b[0m 61ms/step\b\b\b\b\b\b\b\b\b\b\b\b\b\b\b\b\b\b\b\b\b\b\b\b\b\b\b\b\b\b\b\b\b\b\b\b\b\r\u001b[1m1/1\u001b[0m \u001b[32m━━━━━━━━━━━━━━━━━━━━\u001b[0m\u001b[37m\u001b[0m \u001b[1m0s\u001b[0m 63ms/step\n"
     ]
    },
    {
     "data": {
      "image/png": "[encoded data removed]"
     },
     "metadata": {
      "application/vnd.databricks.v1+output": {
       "addedWidgets": {},
       "arguments": {},
       "data": "data:image/png;base64,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\n",
       "datasetInfos": [],
       "metadata": {},
       "removedWidgets": [],
       "type": "image"
      }
     },
     "output_type": "display_data"
    }
   ],
   "source": [
    "predictions = model.predict(X_test)\n",
    "# predictions = predictions[len_seq:,:] # NOTA: Esto se necesitaba cuando era una sola variable\n",
    "\n",
    "# Visualización de las predicciones\n",
    "import matplotlib.pyplot as plt\n",
    "\n",
    "plt.plot(y_test, label='Verdadero')\n",
    "plt.plot(predictions, label='Predicción bajo X_test', linestyle='--')\n",
    "plt.plot(future_predictions, label='Predicción paso a paso', linestyle='--')\n",
    "plt.title('Ventas Reales vs. Predicciones')\n",
    "plt.legend()\n",
    "plt.show()"
   ]
  },
  {
   "cell_type": "markdown",
   "metadata": {
    "application/vnd.databricks.v1+cell": {
     "cellMetadata": {},
     "inputWidgets": {},
     "nuid": "944ae622-ffad-43cb-84c4-2daf47b2191c",
     "showTitle": false,
     "title": ""
    }
   },
   "source": [
    "### Destransformaciones"
   ]
  },
  {
   "cell_type": "code",
   "execution_count": null,
   "metadata": {
    "application/vnd.databricks.v1+cell": {
     "cellMetadata": {
      "byteLimit": 2048000,
      "rowLimit": 10000
     },
     "inputWidgets": {},
     "nuid": "e621cee0-22b6-4fb3-bf2d-5d2e2fb11e90",
     "showTitle": false,
     "title": ""
    }
   },
   "outputs": [],
   "source": [
    "future_predictions_array = np.array(future_predictions)\n",
    "\n",
    "# Si necesitas que sea un array bidimensional (lo cual es común en scikit-learn), reforma el array\n",
    "future_predictions_array = future_predictions_array.reshape(-1, 1)  # Reforma como un vector columna\n",
    "\n",
    "# Ahora puedes proceder a usar el scaler para desescalar\n",
    "# Asegúrate de que tu 'scaler_y' espera la misma forma que proporcionas\n",
    "# predictions_original_scale = scaler_Standard.inverse_transform(future_predictions_array)\n",
    "\n",
    "# Si el scaler fue entrenado en múltiples características y necesitas usar el dummy data approach:\n",
    "dummy_data = np.zeros((future_predictions_array.shape[0], 4))  # Ajusta '4' al número correcto de características\n",
    "dummy_data[:, 0] = future_predictions_array.squeeze()  # Suponiendo que la característica de interés es la primera\n",
    "pred_desc = scaler_Standard.inverse_transform(dummy_data)\n",
    "#----------\n",
    "dummy_data2 = np.zeros((y_test.shape[0], 4))  # Ajusta '4' al número correcto de características\n",
    "dummy_data2[:, 0] = y_test.squeeze()\n",
    "\n",
    "y_test_desc = scaler_Standard.inverse_transform(dummy_data2)\n",
    "\n",
    "\n",
    "#----------\n",
    "dummy_data3 = np.zeros((y_train.shape[0], 4))  # Ajusta '4' al número correcto de características\n",
    "dummy_data3[:, 0] = y_train.squeeze()\n",
    "\n",
    "y_train_desc = scaler_Standard.inverse_transform(dummy_data3)\n",
    "\n",
    "\n",
    "#------------------------------------------------------------------------------------------------------------------------\n",
    "# y_test_desc.shape\n",
    "y_test_detransformed = scaler_MinMax.inverse_transform(y_test_desc)[:, 0]\n",
    "y_train_detransformed = scaler_MinMax.inverse_transform(y_train_desc)[:, 0]\n",
    "future_predictions_detransformed = scaler_MinMax.inverse_transform(pred_desc)[:, 0]\n",
    "\n",
    "\n",
    "\n",
    "\n",
    "\n",
    "\n",
    "\n",
    "\n"
   ]
  },
  {
   "cell_type": "code",
   "execution_count": null,
   "metadata": {
    "application/vnd.databricks.v1+cell": {
     "cellMetadata": {
      "byteLimit": 2048000,
      "rowLimit": 10000
     },
     "inputWidgets": {},
     "nuid": "6860a138-2474-464d-9e1b-4d91cd9b27b5",
     "showTitle": true,
     "title": "Destransformación Standard"
    }
   },
   "outputs": [
    {
     "data": {
      "text/plain": [
       "\u001b[0;31m---------------------------------------------------------------------------\u001b[0m\n",
       "\u001b[0;31mValueError\u001b[0m                                Traceback (most recent call last)\n",
       "File \u001b[0;32m<command-237198855947707>:2\u001b[0m\n",
       "\u001b[1;32m      1\u001b[0m \u001b[38;5;66;03m# Revertir la transformación en los datos de entrenamiento\u001b[39;00m\n",
       "\u001b[0;32m----> 2\u001b[0m predictions_detransformed \u001b[38;5;241m=\u001b[39m \u001b[43mscaler_Standard\u001b[49m\u001b[38;5;241;43m.\u001b[39;49m\u001b[43minverse_transform\u001b[49m\u001b[43m(\u001b[49m\u001b[43mpredictions\u001b[49m\u001b[43m)\u001b[49m\n",
       "\n",
       "File \u001b[0;32m/databricks/python/lib/python3.9/site-packages/sklearn/preprocessing/_data.py:1035\u001b[0m, in \u001b[0;36mStandardScaler.inverse_transform\u001b[0;34m(self, X, copy)\u001b[0m\n",
       "\u001b[1;32m   1033\u001b[0m \u001b[38;5;28;01melse\u001b[39;00m:\n",
       "\u001b[1;32m   1034\u001b[0m     \u001b[38;5;28;01mif\u001b[39;00m \u001b[38;5;28mself\u001b[39m\u001b[38;5;241m.\u001b[39mwith_std:\n",
       "\u001b[0;32m-> 1035\u001b[0m         X \u001b[38;5;241m*\u001b[39m\u001b[38;5;241m=\u001b[39m \u001b[38;5;28mself\u001b[39m\u001b[38;5;241m.\u001b[39mscale_\n",
       "\u001b[1;32m   1036\u001b[0m     \u001b[38;5;28;01mif\u001b[39;00m \u001b[38;5;28mself\u001b[39m\u001b[38;5;241m.\u001b[39mwith_mean:\n",
       "\u001b[1;32m   1037\u001b[0m         X \u001b[38;5;241m+\u001b[39m\u001b[38;5;241m=\u001b[39m \u001b[38;5;28mself\u001b[39m\u001b[38;5;241m.\u001b[39mmean_\n",
       "\n",
       "\u001b[0;31mValueError\u001b[0m: non-broadcastable output operand with shape (27,1) doesn't match the broadcast shape (27,4)"
      ]
     },
     "metadata": {
      "application/vnd.databricks.v1+output": {
       "arguments": {},
       "data": "\u001b[0;31m---------------------------------------------------------------------------\u001b[0m\n\u001b[0;31mValueError\u001b[0m                                Traceback (most recent call last)\nFile \u001b[0;32m<command-237198855947707>:2\u001b[0m\n\u001b[1;32m      1\u001b[0m \u001b[38;5;66;03m# Revertir la transformación en los datos de entrenamiento\u001b[39;00m\n\u001b[0;32m----> 2\u001b[0m predictions_detransformed \u001b[38;5;241m=\u001b[39m \u001b[43mscaler_Standard\u001b[49m\u001b[38;5;241;43m.\u001b[39;49m\u001b[43minverse_transform\u001b[49m\u001b[43m(\u001b[49m\u001b[43mpredictions\u001b[49m\u001b[43m)\u001b[49m\n\nFile \u001b[0;32m/databricks/python/lib/python3.9/site-packages/sklearn/preprocessing/_data.py:1035\u001b[0m, in \u001b[0;36mStandardScaler.inverse_transform\u001b[0;34m(self, X, copy)\u001b[0m\n\u001b[1;32m   1033\u001b[0m \u001b[38;5;28;01melse\u001b[39;00m:\n\u001b[1;32m   1034\u001b[0m     \u001b[38;5;28;01mif\u001b[39;00m \u001b[38;5;28mself\u001b[39m\u001b[38;5;241m.\u001b[39mwith_std:\n\u001b[0;32m-> 1035\u001b[0m         X \u001b[38;5;241m*\u001b[39m\u001b[38;5;241m=\u001b[39m \u001b[38;5;28mself\u001b[39m\u001b[38;5;241m.\u001b[39mscale_\n\u001b[1;32m   1036\u001b[0m     \u001b[38;5;28;01mif\u001b[39;00m \u001b[38;5;28mself\u001b[39m\u001b[38;5;241m.\u001b[39mwith_mean:\n\u001b[1;32m   1037\u001b[0m         X \u001b[38;5;241m+\u001b[39m\u001b[38;5;241m=\u001b[39m \u001b[38;5;28mself\u001b[39m\u001b[38;5;241m.\u001b[39mmean_\n\n\u001b[0;31mValueError\u001b[0m: non-broadcastable output operand with shape (27,1) doesn't match the broadcast shape (27,4)",
       "errorSummary": "<span class='ansi-red-fg'>ValueError</span>: non-broadcastable output operand with shape (27,1) doesn't match the broadcast shape (27,4)",
       "errorTraceType": "ansi",
       "metadata": {},
       "type": "ipynbError"
      }
     },
     "output_type": "display_data"
    }
   ],
   "source": [
    "# Revertir la transformación en los datos de entrenamiento\n",
    "predictions_detransformed = scaler_Standard.inverse_transform(predictions)\n",
    "# y_test_detransformed = scaler_Standard.inverse_transform(y_test)\n",
    "# future_predictions_detransformed = scaler_Standard.inverse_transform(future_predictions)\n"
   ]
  },
  {
   "cell_type": "code",
   "execution_count": null,
   "metadata": {
    "application/vnd.databricks.v1+cell": {
     "cellMetadata": {
      "byteLimit": 2048000,
      "rowLimit": 10000
     },
     "inputWidgets": {},
     "nuid": "99241765-cbe0-4f93-87e9-c189e8fc9bd4",
     "showTitle": true,
     "title": "Detransformación MinMax"
    }
   },
   "outputs": [
    {
     "data": {
      "text/plain": [
       "\u001b[0;31m---------------------------------------------------------------------------\u001b[0m\n",
       "\u001b[0;31mNameError\u001b[0m                                 Traceback (most recent call last)\n",
       "File \u001b[0;32m<command-2032646847868224>:2\u001b[0m\n",
       "\u001b[1;32m      1\u001b[0m \u001b[38;5;66;03m# Revertir la transformación en los datos de entrenamiento\u001b[39;00m\n",
       "\u001b[0;32m----> 2\u001b[0m predictions_detransformed \u001b[38;5;241m=\u001b[39m scaler_MinMax\u001b[38;5;241m.\u001b[39minverse_transform(\u001b[43mpredictions_detransformed\u001b[49m)\n",
       "\n",
       "\u001b[0;31mNameError\u001b[0m: name 'predictions_detransformed' is not defined"
      ]
     },
     "metadata": {
      "application/vnd.databricks.v1+output": {
       "arguments": {},
       "data": "\u001b[0;31m---------------------------------------------------------------------------\u001b[0m\n\u001b[0;31mNameError\u001b[0m                                 Traceback (most recent call last)\nFile \u001b[0;32m<command-2032646847868224>:2\u001b[0m\n\u001b[1;32m      1\u001b[0m \u001b[38;5;66;03m# Revertir la transformación en los datos de entrenamiento\u001b[39;00m\n\u001b[0;32m----> 2\u001b[0m predictions_detransformed \u001b[38;5;241m=\u001b[39m scaler_MinMax\u001b[38;5;241m.\u001b[39minverse_transform(\u001b[43mpredictions_detransformed\u001b[49m)\n\n\u001b[0;31mNameError\u001b[0m: name 'predictions_detransformed' is not defined",
       "errorSummary": "<span class='ansi-red-fg'>NameError</span>: name 'predictions_detransformed' is not defined",
       "errorTraceType": "ansi",
       "metadata": {},
       "type": "ipynbError"
      }
     },
     "output_type": "display_data"
    }
   ],
   "source": [
    "# Revertir la transformación en los datos de entrenamiento\n",
    "predictions_detransformed = scaler_MinMax.inverse_transform(predictions_detransformed)\n",
    "# y_test_detransformed = scaler_MinMax.inverse_transform(y_test_detransformed)\n",
    "# future_predictions_detransformed = scaler_MinMax.inverse_transform(future_predictions_detransformed)"
   ]
  },
  {
   "cell_type": "code",
   "execution_count": null,
   "metadata": {
    "application/vnd.databricks.v1+cell": {
     "cellMetadata": {
      "byteLimit": 2048000,
      "rowLimit": 10000
     },
     "inputWidgets": {},
     "nuid": "76209b29-4f77-4445-9d9a-3f90a2c6c84a",
     "showTitle": true,
     "title": "Visualización detransformada de predicciones y y_test"
    }
   },
   "outputs": [
    {
     "data": {
      "image/png": "[encoded data removed]"
     },
     "metadata": {
      "application/vnd.databricks.v1+output": {
       "addedWidgets": {},
       "arguments": {},
       "data": "data:image/png;base64,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\n",
       "datasetInfos": [],
       "metadata": {},
       "removedWidgets": [],
       "type": "image"
      }
     },
     "output_type": "display_data"
    }
   ],
   "source": [
    "\n",
    "# x_original = np.arange(len(future_predictions_detransformed))\n",
    "\n",
    "# Crear un array x desplazado\n",
    "x_desplazado = np.arange(90, 90 + len(future_predictions_detransformed))\n",
    "\n",
    "# Graficar ambos\n",
    "# plt.figure(figsize=(10, 5))\n",
    "# plt.plot(x_original, y, label='Serie original')\n",
    "plt.plot(x_desplazado, future_predictions_detransformed, label='Serie desplazada 100 puntos a la derecha', linestyle='--')\n",
    "\n",
    "x_desplazado = np.arange(90, 90 + len(y_test_detransformed))\n",
    "plt.plot(x_desplazado, y_test_detransformed, label='Verdadero')\n",
    "plt.plot(y_train_detransformed, label='Verdadero')\n",
    "# plt.plot(predictions_detransformed, label='Predicción X_test', linestyle='--')\n",
    "# plt.plot(future_predictions_detransformed, label='Predicción paso a paso', linestyle='--')\n",
    "plt.title('Ventas Reales vs. Predicciones')\n",
    "plt.legend()\n",
    "plt.show()"
   ]
  },
  {
   "cell_type": "code",
   "execution_count": null,
   "metadata": {
    "application/vnd.databricks.v1+cell": {
     "cellMetadata": {
      "byteLimit": 2048000,
      "rowLimit": 10000
     },
     "inputWidgets": {},
     "nuid": "de67e7f2-3f7a-408f-9c2b-72d8f0819c59",
     "showTitle": false,
     "title": ""
    }
   },
   "outputs": [
    {
     "name": "stdout",
     "output_type": "stream",
     "text": [
      "Out[37]: array([8257.79289112, 8262.55812466, 8270.99865242, 8283.93126281,\n",
      "       8301.50896095, 8323.55603203, 8349.49027005, 8376.95658901,\n",
      "       8388.00112151, 8400.28365053, 8411.65804478, 8423.64242953,\n",
      "       8435.61057492, 8446.57035833, 8455.87753439, 8462.47679925,\n",
      "       8469.14152897, 8475.41118582, 8481.13428713])"
     ]
    }
   ],
   "source": [
    "future_predictions_detransformed"
   ]
  },
  {
   "cell_type": "markdown",
   "metadata": {
    "application/vnd.databricks.v1+cell": {
     "cellMetadata": {},
     "inputWidgets": {},
     "nuid": "820f949c-399c-4ef4-8d5e-39387fee53ac",
     "showTitle": false,
     "title": ""
    }
   },
   "source": [
    "### Métricas"
   ]
  },
  {
   "cell_type": "code",
   "execution_count": null,
   "metadata": {
    "application/vnd.databricks.v1+cell": {
     "cellMetadata": {
      "byteLimit": 2048000,
      "rowLimit": 10000
     },
     "inputWidgets": {},
     "nuid": "e16ea5b3-9eea-43ab-a3fa-68cc032eeb8d",
     "showTitle": false,
     "title": ""
    }
   },
   "outputs": [],
   "source": [
    "c1 = c.iloc[30:]\n",
    "r2_score(c1, d)\n",
    "evaluation_results = pd.DataFrame({'r2_score': r2_score(c1, d)}, index=[0])\n",
    "evaluation_results['mean_absolute_error'] = mean_absolute_error(c1, d)\n",
    "evaluation_results['mean_squared_error'] = mean_squared_error(c1, d)\n",
    "evaluation_results['mean_absolute_percentage_error'] = np.mean(np.abs(d - c1)/np.abs(c1))*100\n",
    "evaluation_results"
   ]
  },
  {
   "cell_type": "code",
   "execution_count": null,
   "metadata": {
    "application/vnd.databricks.v1+cell": {
     "cellMetadata": {
      "byteLimit": 2048000,
      "rowLimit": 10000
     },
     "inputWidgets": {},
     "nuid": "ddc99a01-3e58-460c-a08d-4782f0c6a4ac",
     "showTitle": false,
     "title": ""
    }
   },
   "outputs": [],
   "source": [
    "loss = model.evaluate(X_test, y_test)\n",
    "print(f'Loss en el conjunto de prueba: {loss}')"
   ]
  },
  {
   "cell_type": "code",
   "execution_count": null,
   "metadata": {
    "application/vnd.databricks.v1+cell": {
     "cellMetadata": {},
     "inputWidgets": {},
     "nuid": "e4ccae0a-9a43-41f6-942d-a95e4446000f",
     "showTitle": false,
     "title": ""
    }
   },
   "outputs": [],
   "source": []
  },
  {
   "cell_type": "code",
   "execution_count": null,
   "metadata": {
    "application/vnd.databricks.v1+cell": {
     "cellMetadata": {},
     "inputWidgets": {},
     "nuid": "4d827e9f-109b-4fc0-b244-c07286da53bc",
     "showTitle": false,
     "title": ""
    }
   },
   "outputs": [],
   "source": []
  },
  {
   "cell_type": "code",
   "execution_count": null,
   "metadata": {
    "application/vnd.databricks.v1+cell": {
     "cellMetadata": {
      "byteLimit": 2048000,
      "rowLimit": 10000
     },
     "inputWidgets": {},
     "nuid": "ae8835ca-97ee-4e1d-ad3b-ee64f0fb7294",
     "showTitle": false,
     "title": ""
    }
   },
   "outputs": [],
   "source": []
  },
  {
   "cell_type": "code",
   "execution_count": null,
   "metadata": {
    "application/vnd.databricks.v1+cell": {
     "cellMetadata": {
      "byteLimit": 2048000,
      "rowLimit": 10000
     },
     "inputWidgets": {},
     "nuid": "57eab964-5c34-4dfb-b76e-2767752d8ff4",
     "showTitle": false,
     "title": ""
    }
   },
   "outputs": [],
   "source": []
  },
  {
   "cell_type": "code",
   "execution_count": null,
   "metadata": {
    "application/vnd.databricks.v1+cell": {
     "cellMetadata": {
      "byteLimit": 2048000,
      "rowLimit": 10000
     },
     "inputWidgets": {},
     "nuid": "e4527f15-2f7e-462c-9d86-aae94c8378f2",
     "showTitle": false,
     "title": ""
    }
   },
   "outputs": [],
   "source": []
  }
 ],
 "metadata": {
  "application/vnd.databricks.v1+notebook": {
   "dashboards": [],
   "environmentMetadata": null,
   "language": "python",
   "notebookMetadata": {
    "pythonIndentUnit": 4
   },
   "notebookName": "Piloto_Modelo_Redes",
   "widgets": {}
  },
  "language_info": {
   "name": "python"
  }
 },
 "nbformat": 4,
 "nbformat_minor": 0
}
