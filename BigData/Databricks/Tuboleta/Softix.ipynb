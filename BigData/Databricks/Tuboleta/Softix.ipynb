{
 "cells": [
  {
   "cell_type": "code",
   "execution_count": null,
   "metadata": {
    "application/vnd.databricks.v1+cell": {
     "cellMetadata": {
      "byteLimit": 2048000,
      "rowLimit": 10000
     },
     "inputWidgets": {},
     "nuid": "e1d2a621-9c17-464b-b92a-6cbbc971fec0",
     "showTitle": false,
     "title": ""
    }
   },
   "outputs": [
    {
     "name": "stdout",
     "output_type": "stream",
     "text": [
      "\u001b[43mNote: you may need to restart the kernel using dbutils.library.restartPython() to use updated packages.\u001b[0m\n",
      "Collecting unidecode\n",
      "  Downloading Unidecode-1.3.8-py3-none-any.whl (235 kB)\n",
      "     ━━━━━━━━━━━━━━━━━━━━━━━━━━━━━━━━━━━━━━━ 235.5/235.5 kB 4.2 MB/s eta 0:00:00\n",
      "Installing collected packages: unidecode\n",
      "Successfully installed unidecode-1.3.8\n",
      "\u001b[43mNote: you may need to restart the kernel using dbutils.library.restartPython() to use updated packages.\u001b[0m\n"
     ]
    }
   ],
   "source": [
    "%pip install unidecode"
   ]
  },
  {
   "cell_type": "code",
   "execution_count": null,
   "metadata": {
    "application/vnd.databricks.v1+cell": {
     "cellMetadata": {
      "byteLimit": 2048000,
      "rowLimit": 10000
     },
     "inputWidgets": {},
     "nuid": "b1b5c988-8a49-45b2-8cdb-916169847b6d",
     "showTitle": false,
     "title": ""
    }
   },
   "outputs": [],
   "source": [
    "# Importar las bibliotecas necesarias\n",
    "from pyspark.sql import SparkSession\n",
    "from pyspark.sql import functions as F\n",
    "from pyspark.sql.functions import month,concat_ws,col,when,to_timestamp,to_date,date_format,desc,lit,year,count,year,upper,initcap,regexp_extract\n",
    "import pandas as pd\n",
    "import numpy as np\n",
    "\n",
    "# Crear una SparkSession\n",
    "spark = SparkSession.builder.appName(\"AzureSQL\").getOrCreate()\n",
    "\n",
    "## Credenciales BD\n",
    "inpath = \"C:/Users/diego.torres/OneDrive/Datasets/Tuboleta/Credenciales.txt\"\n",
    "keys = pd.read_csv(inpath, sep = ',')\n",
    "display(keys)\n",
    "\n",
    "# Creo variables para cada fila del DataFrame que contiene las credenciales de la bd\n",
    "for index, row in keys.iterrows():\n",
    "    variable_name = row['key']\n",
    "    variable_value = row['value']\n",
    "    globals()[variable_name] = variable_value\n",
    "\n",
    "# Configurar las propiedades de la conexión\n",
    "jdbc_url = f\"jdbc:sqlserver://{jdbc_hostname}:1433;database={jdbc_database_datamart}\"\n",
    "jdbc_properties = {\n",
    "    \"user\": user,\n",
    "    \"password\": password,\n",
    "    \"driver\": driver\n",
    "}\n",
    "\n",
    "# Conexion al Blob\n",
    "spark.conf.set(clave_blob, access_key_blob)"
   ]
  },
  {
   "cell_type": "code",
   "execution_count": null,
   "metadata": {
    "application/vnd.databricks.v1+cell": {
     "cellMetadata": {
      "byteLimit": 2048000,
      "rowLimit": 10000
     },
     "inputWidgets": {},
     "nuid": "72057b60-9b01-4f3e-825d-c934930623ec",
     "showTitle": true,
     "title": "FUNCIONES"
    }
   },
   "outputs": [],
   "source": [
    "from pyspark.sql.functions import udf\n",
    "from pyspark.sql.types import StringType\n",
    "import re\n",
    "from unidecode import unidecode\n",
    "\n",
    "####  FUNCIONES  ####\n",
    "\n",
    "# Limpieza de texto\n",
    "def limpiar_texto(texto):\n",
    "    if texto is None:\n",
    "        return 'Sin Registro'\n",
    "    \n",
    "    # Mayuscula\n",
    "    texto_mayus = str.upper(texto)\n",
    "\n",
    "    # Eliminar valores numéricos utilizando expresiones regulares\n",
    "    texto_sin_numeros = re.sub(r'\\d+', '', str(texto_mayus))\n",
    "\n",
    "    # Remover tildes y caracteres especiales de entonacion\n",
    "    texto_sin_tildes = unidecode(texto_sin_numeros)\n",
    "    #texto_sin_tildes = unidecode(texto)\n",
    "\n",
    "    # Quitar caracteres no alfabéticos y no espacios en blanco\n",
    "    texto_limpio = re.sub(r'[^a-zA-Z\\s]', '', texto_sin_tildes)\n",
    "\n",
    "    # Aplicar trim para eliminar espacios en blanco al principio y al final\n",
    "    texto_limpio = texto_limpio.strip()\n",
    "    \n",
    "    return texto_limpio\n",
    "\n",
    "\n",
    "# Funcion like ampliada\n",
    "def asignar_ciudad(row):\n",
    "    # el diccionario se usa para buscar una coincidencia parcial entre las claves y los valores en la columna\n",
    "    condiciones = {\n",
    "        'BOGO': 'BOGOTA',\n",
    "        'GOTA': 'BOGOTA',\n",
    "        'LOCALID': 'BOGOTA',\n",
    "        'MEDEL': 'MEDELLIN',\n",
    "        'COMUNA': 'MEDELLIN',\n",
    "        'POBLAD': 'MEDELLIN',\n",
    "        'CALIFORNIA': 'SACRAMENTO',\n",
    "        'MEXICALI': 'MEXICALI',\n",
    "        'CALI': 'CALI',\n",
    "        'DUPAR': 'VALLEDUPAR',\n",
    "        'VALLE': 'CALI',\n",
    "        'CARTAGE': 'CARTAGENA',\n",
    "        'QUILLA': 'BARRANQUILLA',\n",
    "        'BARRANQ': 'BARRANQUILLA',\n",
    "        'VILLAVI': 'VILLAVICENCIO',\n",
    "        'YOPAL': 'YOPAL',\n",
    "        'YPAL': 'YOPAL',\n",
    "        'TUNJA': 'TUNJA',\n",
    "        'CUCUT': 'CUCUTA',\n",
    "        'MANIZA': 'MANIZALES',\n",
    "        'IBAG': 'IBAGUE',\n",
    "        'NEIV': 'NEIVA', \n",
    "        'MARTA': 'SANTA MARTA',\n",
    "        'BUCARA': 'BUCARAMANGA',\n",
    "        'MONTERI': 'MONTERIA',\n",
    "        'POPAYA': 'POPAYAN',\n",
    "        'ARMENI': 'ARMENIA',\n",
    "        'PEREIR': 'PEREIRA',\n",
    "        'UBATE': 'UBATE',\n",
    "        'CHIA': 'CHIA',\n",
    "        'SOLEDA': 'SOLEDAD',\n",
    "        'BELLO': 'BELLO',\n",
    "        'SOACH': 'SOACHA',\n",
    "        'BUGA': 'BUGA',\n",
    "        'PAST': 'PASTO',\n",
    "        'MANGA': 'BUCARAMANGA',\n",
    "        'SOGAMO': 'SOGAMOSO',\n",
    "        'DUITA': 'DUITAMA',\n",
    "        # Puedes agregar más condiciones aquí según sea necesario\n",
    "    }\n",
    "    \n",
    "    for condicion, ciudad in condiciones.items():\n",
    "        if condicion in row:\n",
    "            return ciudad\n",
    "    \n",
    "    return row\n",
    "\n",
    "\n",
    "# Elimina la palabra que pertenezca a la lista\n",
    "def eliminar_departamento(row):\n",
    "    regiones = ['AMAZONAS','ANTIOQUIA', 'ARAUCA','ATLANTICO','BOLIVAR','BOYACA','CALDAS','CAQUETA',\n",
    "                'CASANARE','CAUCA','CESAR','CHOCO','CUNDINAMARCA','CORDOBA','GUAINIA','GUAVIARE','HUILA',\n",
    "                'LA GUAJIRA','MAGDALENA','META','NARINO','NORTE DE SANTANDER','PUTUMAYO','QUINDIO',\n",
    "                'RISARALDA','ISLA','ISLAS','SANTANDER','SUCRE','TOLIMA','VALLE DEL CAUCA','VAUPES','VICHADA']\n",
    "\n",
    "    # Crear un diccionario donde las claves sean los valores de la lista y los valores sean None\n",
    "    dic= {region: '' for region in regiones}\n",
    "    \n",
    "    for condicion, ciudad in dic.items():\n",
    "        if condicion in row:\n",
    "            row = row.replace(condicion, ciudad).strip()\n",
    "    \n",
    "    return row\n",
    "\n",
    "\n",
    "# Reemplaza algunas versiones adicionales de ciudad\n",
    "def replace_cities_aliases(ciudad):\n",
    "    bogota_aliases = ['BOTOTA','BTA','BOGTA','BOG','BOOGTA','BGTA','KENEDY','BGA','CUNDINAMARCA','BGOOTA','BOOTA','BOFOTA','BOGITA','CEDRITOS','BOBOTA','NOGOTA','BOGATA','BOHOTA','BOGPTA','CIUDAD VERDE','CIUDADVERDE','TINTAL','HAYUELOS','SALITRE']\n",
    "    barranquilla_aliases = ['ATLANTICO','BAQ','BQLLLA','BQ','BQA','BQLLA','BARRAQNUILLA','BARRANUILLA','BQUILLLA']\n",
    "    cali_aliases = ['VALLE DEL CAUCA']\n",
    "    cartagena_aliases = ['CTG']\n",
    "    ibague_aliases = ['IABGUE']\n",
    "    medellin_aliases = ['ANTIOQUIA','POBLADO','MED','MDELLIN','RIO NEGRO']\n",
    "    santanderdequilichao = ['DE QUILICHAO']\n",
    "    if ciudad in bogota_aliases:\n",
    "        return 'BOGOTA'\n",
    "    elif ciudad in barranquilla_aliases:\n",
    "        return 'BARRANQUILLA'\n",
    "    elif ciudad in cali_aliases:\n",
    "        return 'CALI'\n",
    "    elif ciudad in cartagena_aliases:\n",
    "        return 'CARTAGENA'\n",
    "    elif ciudad in medellin_aliases:\n",
    "        return 'MEDELLIN'\n",
    "    elif ciudad in ibague_aliases:\n",
    "        return 'IBAGUE'\n",
    "    elif ciudad in santanderdequilichao:\n",
    "        return 'SANTANDER DE QUILICHAO'\n",
    "    else:\n",
    "        return ciudad"
   ]
  },
  {
   "cell_type": "code",
   "execution_count": null,
   "metadata": {
    "application/vnd.databricks.v1+cell": {
     "cellMetadata": {
      "byteLimit": 2048000,
      "rowLimit": 10000
     },
     "inputWidgets": {},
     "nuid": "5edb8273-f5c8-4d04-a960-cc9dbab6970a",
     "showTitle": false,
     "title": ""
    }
   },
   "outputs": [],
   "source": [
    "####  LECTURA DE CSV's REQUERIDOS  ###\n",
    "\n",
    "inpath = \"abfss://storagebi@tbdwhstorage01.dfs.core.windows.net/Modelos_analitica/Maestras_municipios/\"\n",
    "\n",
    "## Codigos postales\n",
    "codpost = spark.read.csv(inpath + 'codpost.csv', sep = '|', header=True, inferSchema=True)\n",
    "# print(codpost.count())\n",
    "codpost = codpost.toPandas()\n",
    "#print(codpost.head(5))\n",
    "\n",
    "\n",
    "## maestra de municipios de Colombia\n",
    "dim_towns = spark.read.csv(inpath + 'dim_municipios.csv', sep = '|', header=True, inferSchema=True)\n",
    "# print(dim_towns.count())\n",
    "dim_towns = dim_towns.toPandas()\n",
    "#print(dim_towns.head(5))\n",
    "\n",
    "\n",
    "## localidades de Bogota\n",
    "loc_bog = spark.read.csv(inpath + 'localidades_bogota.csv', sep = '|', header=True, inferSchema=True)\n",
    "# print(loc_bog.count())\n",
    "loc_bog = loc_bog.toPandas()\n",
    "#print(loc_bog.head(5))\n",
    "\n",
    "\n",
    "## Maestra Metodos pago\n",
    "inpath = 'abfss://storagebi@tbdwhstorage01.dfs.core.windows.net/gold/TU_BOLETA/Softix/Maestras/BillingCCName.csv'\n",
    "MetodoPago = spark.read.csv(inpath,header=True, inferSchema=True, sep=',')\n",
    "#display(MetodoPago)\n",
    "MetodoPago.createOrReplaceTempView(\"MetodoPago_vw\")\n",
    "\n",
    "## Maestra Segmentos\n",
    "inpath = \"abfss://storagebi@tbdwhstorage01.dfs.core.windows.net/gold/TU_BOLETA/Softix/Maestras/Btype.txt\"\n",
    "Btypes = spark.read.csv(inpath,header=True, inferSchema=True, sep=',')\n",
    "#display(Btypes)\n",
    "Btypes.createOrReplaceTempView(\"Btypes_vw\")\n",
    "\n",
    "## Maestra Segmentos\n",
    "inpath = \"abfss://storagebi@tbdwhstorage01.dfs.core.windows.net/gold/TU_BOLETA/Softix/Maestras/updated_venues_softix.csv\"\n",
    "venues_city= spark.read.csv(inpath,header=True, inferSchema=True, sep=',')\n",
    "#display(Btypes)\n",
    "venues_city.createOrReplaceTempView(\"venues_city_vw\")\n",
    "\n",
    "\n",
    "## Maestra aforos\n",
    "inpath = \"abfss://storagebi@tbdwhstorage01.dfs.core.windows.net/gold/TU_BOLETA/Softix/Maestras/softix_aforos.csv\"\n",
    "softix_aforos= spark.read.csv(inpath,header=True, inferSchema=True, sep=',')\n",
    "#display(Btypes)\n",
    "softix_aforos.createOrReplaceTempView(\"softix_aforos_vw\")"
   ]
  },
  {
   "cell_type": "code",
   "execution_count": null,
   "metadata": {
    "application/vnd.databricks.v1+cell": {
     "cellMetadata": {
      "byteLimit": 2048000,
      "rowLimit": 10000
     },
     "inputWidgets": {},
     "nuid": "b2f927fe-37a4-493b-b889-20370f736151",
     "showTitle": false,
     "title": ""
    }
   },
   "outputs": [],
   "source": [
    "# AJUSTE MAESTRA AFOROS\n",
    "\n",
    "# from pyspark.sql.functions import max,sum\n",
    "\n",
    "# softix_aforos = softix_aforos.groupBy(\"Codigo_Evento\",'Aforo').sum('Tickets').orderBy(col(\"Aforo\").desc()).\\\n",
    "#     withColumn(\"Aforo\", col(\"Aforo\").cast(\"integer\"))\n",
    "# #print(tmp.count())\n",
    "# #display(tmp)\n",
    "\n",
    "\n",
    "# softix_aforos = softix_aforos.groupBy(\"Codigo_Evento\").agg(max('Aforo').alias('Aforo'), sum('sum(Tickets)').alias('Tickets'))\n",
    "# print(softix_aforos.count())\n",
    "\n",
    "# # Escribimos el csv\n",
    "# inpath = \"abfss://storagebi@tbdwhstorage01.dfs.core.windows.net/gold/TU_BOLETA/Softix/Maestras/softix_aforos/\"\n",
    "\n",
    "# write_table = softix_aforos.coalesce(1) # coalesce indica que la tabla se va a entregar en una sola particion\n",
    "# write_table.write.csv(inpath, header=True, mode=\"overwrite\", sep=',')\n",
    "\n",
    "# #cambio de nombre\n",
    "# files=dbutils.fs.ls(inpath)\n",
    "# output_file= [x for x in files if x.name.startswith(\"part-\")]\n",
    "\n",
    "# # EN la misma carpeta de origen\n",
    "# dbutils.fs.mv(output_file[0].path, f\"{inpath}/softix_aforos.csv\")"
   ]
  },
  {
   "cell_type": "code",
   "execution_count": null,
   "metadata": {
    "application/vnd.databricks.v1+cell": {
     "cellMetadata": {
      "byteLimit": 2048000,
      "rowLimit": 10000
     },
     "inputWidgets": {},
     "nuid": "df7fdcdb-b04e-4c1f-bf5e-fa58f2860f80",
     "showTitle": true,
     "title": "Cargue de tablas Softix"
    }
   },
   "outputs": [
    {
     "data": {
      "text/html": [
       "<style scoped>\n",
       "  .table-result-container {\n",
       "    max-height: 300px;\n",
       "    overflow: auto;\n",
       "  }\n",
       "  table, th, td {\n",
       "    border: 1px solid black;\n",
       "    border-collapse: collapse;\n",
       "  }\n",
       "  th, td {\n",
       "    padding: 5px;\n",
       "  }\n",
       "  th {\n",
       "    text-align: left;\n",
       "  }\n",
       "</style><div class='table-result-container'><table class='table-result'><thead style='background-color: white'><tr><th>id</th><th>Master</th><th>Tnum</th><th>DateTime</th><th>Channel</th><th>Seller</th><th>SellerID</th><th>Place</th><th>PlaceRegion</th><th>Prom</th><th>PromRegion</th><th>Chain</th><th>HowPaid</th><th>Action</th><th>Sign</th><th>Reason</th><th>ReasonNum</th><th>Active</th><th>EACustomer</th><th>Ecanon</th><th>Evname</th><th>Secnam</th><th>RZ</th><th>Pcat</th><th>Showtag</th><th>Seqnum</th><th>Paxnum</th><th>Paid</th><th>GrossPaid</th><th>Sales</th><th>GrossSales</th><th>Distributed</th><th>Bfee</th><th>BfeeSupp</th><th>BfeeBaseLine</th><th>Hfee</th><th>GST</th><th>GSTSiteLiable</th><th>Season</th><th>Account</th><th>J_AN_PREV_MJT</th><th>J_AN_NEXT_MJT</th><th>Returned</th><th>AllReturned</th><th>AdmitCnt</th><th>AdmitBfee</th><th>AdmitGST</th><th>AdmitPrice</th><th>AdmitPtype</th><th>AdmitQty</th><th>AdmitWas</th><th>Btype</th><th>BtypeName</th><th>Qty</th><th>Subs</th><th>BRCount</th><th>BillingAmount</th><th>BillingAuth</th><th>BillingAuthID</th><th>BillingAuthReqd</th><th>BillingBRName</th><th>BillingBRPhone</th><th>BillingCCName</th><th>BillingCCNum</th><th>BillingDateTime</th><th>BillingFundsMoved</th><th>BillingHowPaid</th><th>BillingInstallments</th><th>BillingInvMJT</th><th>BillingLastMJT</th><th>BillingMerchant</th><th>BillingMerchantName</th><th>BillingMJT</th><th>BilingPaytype</th><th>BillingSeller</th><th>BillingXPRY</th><th>SaleDtype</th><th>SaleDtypeNow</th></tr></thead><tbody><tr><td>834921</td><td>121003,5753</td><td>5753</td><td>121003 1838</td><td>Q</td><td>EXPAN1</td><td></td><td>EXPAN</td><td>OCC</td><td>ADP</td><td>OCC</td><td>XI</td><td>1</td><td>BUY</td><td>1</td><td></td><td>0</td><td>1</td><td>0</td><td>EADP2012891</td><td>EADP_3OCT2012</td><td>SORIITAL</td><td>RGA/A518-</td><td>2</td><td>OPASTOCAR2B</td><td>2926</td><td>2926</td><td>10000</td><td>10000</td><td>10000</td><td>10000</td><td>0</td><td>850</td><td>850</td><td>850</td><td>0</td><td>16</td><td>117</td><td></td><td>0</td><td></td><td></td><td></td><td>0</td><td>1</td><td>850</td><td>1262</td><td>9150</td><td>A</td><td>1</td><td>-</td><td>13</td><td>PFUTBOL</td><td>1</td><td>0</td><td>1</td><td>50000</td><td>OK</td><td>0</td><td>0</td><td></td><td></td><td>Cash</td><td>CASH</td><td>03-Oct-12 18:38:58.782</td><td>0</td><td>1</td><td>1</td><td>121003,5752</td><td>121003,5753</td><td></td><td>MIXTOS</td><td>121003,5751</td><td>CASH</td><td>EXPAN1</td><td></td><td></td><td></td></tr><tr><td>834922</td><td>120918,5942</td><td>5942</td><td>120918 2113</td><td>W</td><td>QTROG1</td><td>QTROG1</td><td>QTROG</td><td>COL</td><td>CAD</td><td>ANT</td><td>CO</td><td>2</td><td>BUY</td><td>1</td><td></td><td>0</td><td>1</td><td>0</td><td>ECAD2012877</td><td>ECAD_21SEP2012</td><td>SPRIFIRICIA</td><td>RA/A29-28</td><td>1</td><td>ABEBER12MD</td><td>47</td><td>47</td><td>115500</td><td>115500</td><td>115500</td><td>115500</td><td>0</td><td>8000</td><td>8000</td><td>8000</td><td>7500</td><td>16</td><td>2138</td><td>int</td><td>482163</td><td>120423,6705</td><td>120925,526</td><td></td><td>0</td><td>1</td><td>4000</td><td>6897</td><td>50000</td><td>A</td><td>2</td><td>-</td><td>2</td><td>TEATRO</td><td>2</td><td>0</td><td>1</td><td>100000</td><td>545367</td><td>0</td><td>1</td><td>JUAI FILIPI BIDOYA A</td><td>71791051</td><td>Visa</td><td>xxxxxxxxxxxx4970</td><td>18-Sep-12 21:13:57.538</td><td>0</td><td>2</td><td>1</td><td>120918,5942</td><td>120918,5942</td><td>11FEE</td><td>INTERNET</td><td>120918,5941</td><td>VISA</td><td>QTROG1</td><td>1013</td><td>V</td><td>V</td></tr><tr><td>834923</td><td>121003,5755</td><td>5755</td><td>121003 1839</td><td>Q</td><td>EXIPA5</td><td></td><td>EXIPA</td><td>OCC</td><td>ADP</td><td>OCC</td><td>XI</td><td>1</td><td>BUY</td><td>1</td><td></td><td>0</td><td>1</td><td>0</td><td>EADP2012891</td><td>EADP_3OCT2012</td><td>SSUR</td><td>RGA/A1696-1697</td><td>4</td><td>OPASTOCAR2B</td><td>2927</td><td>2927</td><td>10000</td><td>10000</td><td>10000</td><td>10000</td><td>0</td><td>850</td><td>850</td><td>850</td><td>0</td><td>16</td><td>117</td><td></td><td>0</td><td></td><td></td><td></td><td>0</td><td>1</td><td>425</td><td>631</td><td>4575</td><td>A</td><td>2</td><td>-</td><td>13</td><td>PFUTBOL</td><td>2</td><td>0</td><td>1</td><td>10000</td><td>OK</td><td>0</td><td>0</td><td></td><td></td><td>Cash</td><td>CAS</td><td>03-Oct-12 18:39:03.133</td><td>0</td><td>1</td><td>1</td><td>121003,5755</td><td>121003,5755</td><td></td><td>MIXTOS</td><td>121003,5754</td><td>CASH</td><td>EXIPA5</td><td></td><td></td><td></td></tr><tr><td>834924</td><td>120918,5944</td><td>5944</td><td>120918 2115</td><td>W</td><td>QTROG1</td><td>QTROG1</td><td>QTROG</td><td>COL</td><td>ICE</td><td>COL</td><td>CO</td><td>2</td><td>BUY</td><td>1</td><td></td><td>0</td><td>1</td><td>1</td><td>EICE2012967</td><td>EICE_15DEC2012</td><td>SPLUSITIC</td><td>R11/B12-13</td><td>2</td><td>BFEDERER</td><td>10252</td><td>10252</td><td>1617500</td><td>1617500</td><td>1617500</td><td>1617500</td><td>0</td><td>30000</td><td>30000</td><td>30000</td><td>7500</td><td>16</td><td>5172</td><td>int</td><td>535403</td><td></td><td></td><td></td><td>0</td><td>1</td><td>15000</td><td>108966</td><td>790000</td><td>B</td><td>2</td><td>-</td><td>21</td><td>DEPORTES</td><td>2</td><td>0</td><td>1</td><td>1580000</td><td>545449</td><td>0</td><td>1</td><td>CISAR RODRIGUI H</td><td>79156671</td><td>Amex</td><td>xxxxxxxxxxx3971</td><td>18-Sep-12 21:15:19.638</td><td>0</td><td>2</td><td>12</td><td>120918,5944</td><td>120918,5944</td><td>11FEE</td><td>INTERNET</td><td>120918,5943</td><td>AMEX</td><td>QTROG1</td><td>0215</td><td>P</td><td>P</td></tr><tr><td>834925</td><td>121003,5760</td><td>5760</td><td>121003 1839</td><td>Q</td><td>EXIPA5</td><td></td><td>EXIPA</td><td>OCC</td><td>ADP</td><td>OCC</td><td>XI</td><td>1</td><td>BUY</td><td>1</td><td></td><td>0</td><td>1</td><td>0</td><td>EADP2012891</td><td>EADP_3OCT2012</td><td>SSUR</td><td>RGA/A1698-1699</td><td>4</td><td>OPASTOCAR2B</td><td>2929</td><td>2929</td><td>10000</td><td>10000</td><td>10000</td><td>10000</td><td>0</td><td>850</td><td>850</td><td>850</td><td>0</td><td>16</td><td>117</td><td></td><td>0</td><td></td><td></td><td></td><td>0</td><td>1</td><td>425</td><td>631</td><td>4575</td><td>A</td><td>2</td><td>-</td><td>13</td><td>PFUTBOL</td><td>2</td><td>0</td><td>1</td><td>10000</td><td>OK</td><td>0</td><td>0</td><td></td><td></td><td>Cash</td><td>CAS</td><td>03-Oct-12 18:39:25.596</td><td>0</td><td>1</td><td>1</td><td>121003,5760</td><td>121003,5760</td><td></td><td>MIXTOS</td><td>121003,5759</td><td>CASH</td><td>EXIPA5</td><td></td><td></td><td></td></tr><tr><td>834926</td><td>120918,5946</td><td>5946</td><td>120918 2116</td><td>W</td><td>QTROG1</td><td>QTROG1</td><td>QTROG</td><td>COL</td><td>FCC</td><td>COL</td><td>CO</td><td>2</td><td>BUY</td><td>1</td><td></td><td>0</td><td>1</td><td>0</td><td>EFCC2012883O</td><td>EFCC_27SEP2012O</td><td>SPLATIAIIQUI</td><td>RC/F9-12</td><td>2</td><td>BFIGARO12</td><td>304</td><td>304</td><td>463500</td><td>463500</td><td>463500</td><td>463500</td><td>0</td><td>24000</td><td>0</td><td>24000</td><td>7500</td><td>16</td><td>4345</td><td>int</td><td>144207</td><td>120413,5154</td><td>181001,75</td><td></td><td>0</td><td>1</td><td>6000</td><td>14897</td><td>108000</td><td>F</td><td>4</td><td>-</td><td>1</td><td>CULTURAL</td><td>4</td><td>0</td><td>1</td><td>432000</td><td>908285</td><td>0</td><td>1</td><td>Andres I Pacheco Rincon</td><td>51918767</td><td>Master Card</td><td>xxxxxxxxxxxx1912</td><td>18-Sep-12 21:16:02.950</td><td>0</td><td>2</td><td>24</td><td>120918,5946</td><td>120918,5946</td><td>22FEE</td><td>INTERNET</td><td>120918,5945</td><td>MACH</td><td>QTROG1</td><td>0718</td><td>P</td><td>P</td></tr><tr><td>834927</td><td>121003,5762</td><td>5762</td><td>121003 1839</td><td>Q</td><td>EXPAN1</td><td></td><td>EXPAN</td><td>OCC</td><td>ADP</td><td>OCC</td><td>XI</td><td>1</td><td>BUY</td><td>1</td><td></td><td>0</td><td>1</td><td>0</td><td>EADP2012891</td><td>EADP_3OCT2012</td><td>SSUR</td><td>RGA/A1700-</td><td>4</td><td>OPASTOCAR2B</td><td>2931</td><td>2931</td><td>5000</td><td>5000</td><td>5000</td><td>5000</td><td>0</td><td>425</td><td>425</td><td>425</td><td>0</td><td>16</td><td>59</td><td></td><td>0</td><td></td><td></td><td></td><td>0</td><td>1</td><td>425</td><td>631</td><td>4575</td><td>A</td><td>1</td><td>-</td><td>13</td><td>PFUTBOL</td><td>1</td><td>0</td><td>1</td><td>5000</td><td>OK</td><td>0</td><td>0</td><td></td><td></td><td>Cash</td><td>CAS</td><td>03-Oct-12 18:39:28.246</td><td>0</td><td>1</td><td>1</td><td>121003,5762</td><td>121003,5762</td><td></td><td>MIXTOS</td><td>121003,5761</td><td>CASH</td><td>EXPAN1</td><td></td><td></td><td></td></tr><tr><td>834928</td><td>120918,5948</td><td>5948</td><td>120918 2119</td><td>W</td><td>QTROG1</td><td>QTROG1</td><td>QTROG</td><td>COL</td><td>TAG</td><td>CEN</td><td>CO</td><td>2</td><td>BUY</td><td>1</td><td></td><td>0</td><td>1</td><td>1</td><td>ETAG2012915</td><td>ETAG_27OCT2012</td><td>SVIP</td><td>RGA/P3-5</td><td>2</td><td>CPARRANDON</td><td>11</td><td>11</td><td>301500</td><td>301500</td><td>301500</td><td>301500</td><td>0</td><td>24000</td><td>24000</td><td>24000</td><td>7500</td><td>16</td><td>4345</td><td>int</td><td>345695</td><td>120212,37</td><td>170810,17820</td><td></td><td>0</td><td>1</td><td>8000</td><td>12414</td><td>90000</td><td>P</td><td>3</td><td>-</td><td>7</td><td>CONCIE</td><td>3</td><td>0</td><td>1</td><td>270000</td><td>545679</td><td>0</td><td>1</td><td>jhon sanchez uribe</td><td>79360850</td><td>Amex</td><td>xxxxxxxxxxx9027</td><td>18-Sep-12 21:19:09.678</td><td>0</td><td>2</td><td>10</td><td>120918,5948</td><td>120918,5948</td><td>11FEE</td><td>INTERNET</td><td>120918,5947</td><td>AMEX</td><td>QTROG1</td><td>0115</td><td>P</td><td>P</td></tr><tr><td>834929</td><td>121003,5764</td><td>5764</td><td>121003 1839</td><td>Q</td><td>ESFIE1</td><td></td><td>ESFIE</td><td>COS</td><td>DJU</td><td>COS</td><td>PJ</td><td>1</td><td>BUY</td><td>1</td><td></td><td>0</td><td>1</td><td>1</td><td>EDJU2012891</td><td>EDJU_3OCT2012</td><td>SORIBAJA11</td><td>RG/A226-</td><td>2</td><td>TJUNIOHUI12</td><td>7104</td><td>7104</td><td>25000</td><td>25000</td><td>25000</td><td>25000</td><td>0</td><td>0</td><td>0</td><td>0</td><td>0</td><td>16</td><td>0</td><td>tel</td><td>1169473</td><td>121003,5723</td><td>121003,5854</td><td></td><td>0</td><td>1</td><td>0</td><td>3448</td><td>25000</td><td>A</td><td>1</td><td>-</td><td>13</td><td>PFUTBOL</td><td>1</td><td>0</td><td>1</td><td>25000</td><td>OK</td><td>0</td><td>0</td><td>RAFAIL DOMIIGUI SIIRRA</td><td>72191303</td><td>Cash</td><td>CAS</td><td>03-Oct-12 18:39:33.807</td><td>0</td><td>1</td><td>1</td><td>121003,5764</td><td>121003,5764</td><td></td><td>MIXTOS</td><td>121003,5763</td><td>CASH</td><td>ESFIE1</td><td></td><td></td><td></td></tr><tr><td>834930</td><td>120918,5950</td><td>5950</td><td>120918 2123</td><td>B</td><td>PSTAQ1</td><td></td><td>PSTAQ</td><td>OCC</td><td>ADP</td><td>OCC</td><td>TT</td><td>1</td><td>BUY</td><td>1</td><td></td><td>0</td><td>1</td><td>0</td><td>EADP2012875</td><td>EADP_19SEP2012</td><td>SORIITAL</td><td>RGA/A128-327</td><td>2</td><td>OPASTO2BJUN</td><td>208</td><td>208</td><td>1000000</td><td>1000000</td><td>1000000</td><td>1000000</td><td>0</td><td>85000</td><td>85000</td><td>85000</td><td>0</td><td>16</td><td>11724</td><td></td><td>0</td><td></td><td></td><td></td><td>0</td><td>1</td><td>425</td><td>631</td><td>4575</td><td>A</td><td>200</td><td>-</td><td>13</td><td>PFUTBOL</td><td>200</td><td>0</td><td>1</td><td>1000000</td><td>OK</td><td>0</td><td>0</td><td></td><td></td><td>Cash</td><td>CASH</td><td>18-Sep-12 21:23:05.239</td><td>0</td><td>1</td><td>1</td><td>120918,5950</td><td>120918,5950</td><td></td><td>TARJETA</td><td>120918,5949</td><td>CASH</td><td>PSTAQ1</td><td></td><td></td><td></td></tr></tbody></table></div>"
      ]
     },
     "metadata": {
      "application/vnd.databricks.v1+output": {
       "addedWidgets": {},
       "aggData": [],
       "aggError": "",
       "aggOverflow": false,
       "aggSchema": [],
       "aggSeriesLimitReached": false,
       "aggType": "",
       "arguments": {},
       "columnCustomDisplayInfos": {},
       "data": [
        [
         834921,
         "121003,5753",
         5753,
         "121003 1838",
         "Q",
         "EXPAN1",
         "",
         "EXPAN",
         "OCC",
         "ADP",
         "OCC",
         "XI",
         "1",
         "BUY",
         1,
         "",
         0,
         1,
         "0",
         "EADP2012891",
         "EADP_3OCT2012",
         "SORIITAL",
         "RGA/A518-",
         "2",
         "OPASTOCAR2B",
         2926,
         "2926",
         10000,
         10000,
         10000,
         10000,
         0,
         850,
         850,
         850,
         0,
         "16",
         "117",
         "",
         0,
         "",
         "",
         "",
         0,
         1,
         850,
         1262,
         9150,
         "A",
         1,
         "-",
         13,
         "PFUTBOL",
         1,
         0,
         1,
         50000,
         "OK",
         "0",
         "0",
         "",
         "",
         "Cash",
         "CASH",
         "03-Oct-12 18:38:58.782",
         0,
         1,
         1,
         "121003,5752",
         "121003,5753",
         "",
         "MIXTOS",
         "121003,5751",
         "CASH",
         "EXPAN1",
         "",
         "",
         ""
        ],
        [
         834922,
         "120918,5942",
         5942,
         "120918 2113",
         "W",
         "QTROG1",
         "QTROG1",
         "QTROG",
         "COL",
         "CAD",
         "ANT",
         "CO",
         "2",
         "BUY",
         1,
         "",
         0,
         1,
         "0",
         "ECAD2012877",
         "ECAD_21SEP2012",
         "SPRIFIRICIA",
         "RA/A29-28",
         "1",
         "ABEBER12MD",
         47,
         "47",
         115500,
         115500,
         115500,
         115500,
         0,
         8000,
         8000,
         8000,
         7500,
         "16",
         "2138",
         "int",
         482163,
         "120423,6705",
         "120925,526",
         "",
         0,
         1,
         4000,
         6897,
         50000,
         "A",
         2,
         "-",
         2,
         "TEATRO",
         2,
         0,
         1,
         100000,
         "545367",
         "0",
         "1",
         "JUAI FILIPI BIDOYA A",
         "71791051",
         "Visa",
         "xxxxxxxxxxxx4970",
         "18-Sep-12 21:13:57.538",
         0,
         2,
         1,
         "120918,5942",
         "120918,5942",
         "11FEE",
         "INTERNET",
         "120918,5941",
         "VISA",
         "QTROG1",
         "1013",
         "V",
         "V"
        ],
        [
         834923,
         "121003,5755",
         5755,
         "121003 1839",
         "Q",
         "EXIPA5",
         "",
         "EXIPA",
         "OCC",
         "ADP",
         "OCC",
         "XI",
         "1",
         "BUY",
         1,
         "",
         0,
         1,
         "0",
         "EADP2012891",
         "EADP_3OCT2012",
         "SSUR",
         "RGA/A1696-1697",
         "4",
         "OPASTOCAR2B",
         2927,
         "2927",
         10000,
         10000,
         10000,
         10000,
         0,
         850,
         850,
         850,
         0,
         "16",
         "117",
         "",
         0,
         "",
         "",
         "",
         0,
         1,
         425,
         631,
         4575,
         "A",
         2,
         "-",
         13,
         "PFUTBOL",
         2,
         0,
         1,
         10000,
         "OK",
         "0",
         "0",
         "",
         "",
         "Cash",
         "CAS",
         "03-Oct-12 18:39:03.133",
         0,
         1,
         1,
         "121003,5755",
         "121003,5755",
         "",
         "MIXTOS",
         "121003,5754",
         "CASH",
         "EXIPA5",
         "",
         "",
         ""
        ],
        [
         834924,
         "120918,5944",
         5944,
         "120918 2115",
         "W",
         "QTROG1",
         "QTROG1",
         "QTROG",
         "COL",
         "ICE",
         "COL",
         "CO",
         "2",
         "BUY",
         1,
         "",
         0,
         1,
         "1",
         "EICE2012967",
         "EICE_15DEC2012",
         "SPLUSITIC",
         "R11/B12-13",
         "2",
         "BFEDERER",
         10252,
         "10252",
         1617500,
         1617500,
         1617500,
         1617500,
         0,
         30000,
         30000,
         30000,
         7500,
         "16",
         "5172",
         "int",
         535403,
         "",
         "",
         "",
         0,
         1,
         15000,
         108966,
         790000,
         "B",
         2,
         "-",
         21,
         "DEPORTES",
         2,
         0,
         1,
         1580000,
         "545449",
         "0",
         "1",
         "CISAR RODRIGUI H",
         "79156671",
         "Amex",
         "xxxxxxxxxxx3971",
         "18-Sep-12 21:15:19.638",
         0,
         2,
         12,
         "120918,5944",
         "120918,5944",
         "11FEE",
         "INTERNET",
         "120918,5943",
         "AMEX",
         "QTROG1",
         "0215",
         "P",
         "P"
        ],
        [
         834925,
         "121003,5760",
         5760,
         "121003 1839",
         "Q",
         "EXIPA5",
         "",
         "EXIPA",
         "OCC",
         "ADP",
         "OCC",
         "XI",
         "1",
         "BUY",
         1,
         "",
         0,
         1,
         "0",
         "EADP2012891",
         "EADP_3OCT2012",
         "SSUR",
         "RGA/A1698-1699",
         "4",
         "OPASTOCAR2B",
         2929,
         "2929",
         10000,
         10000,
         10000,
         10000,
         0,
         850,
         850,
         850,
         0,
         "16",
         "117",
         "",
         0,
         "",
         "",
         "",
         0,
         1,
         425,
         631,
         4575,
         "A",
         2,
         "-",
         13,
         "PFUTBOL",
         2,
         0,
         1,
         10000,
         "OK",
         "0",
         "0",
         "",
         "",
         "Cash",
         "CAS",
         "03-Oct-12 18:39:25.596",
         0,
         1,
         1,
         "121003,5760",
         "121003,5760",
         "",
         "MIXTOS",
         "121003,5759",
         "CASH",
         "EXIPA5",
         "",
         "",
         ""
        ],
        [
         834926,
         "120918,5946",
         5946,
         "120918 2116",
         "W",
         "QTROG1",
         "QTROG1",
         "QTROG",
         "COL",
         "FCC",
         "COL",
         "CO",
         "2",
         "BUY",
         1,
         "",
         0,
         1,
         "0",
         "EFCC2012883O",
         "EFCC_27SEP2012O",
         "SPLATIAIIQUI",
         "RC/F9-12",
         "2",
         "BFIGARO12",
         304,
         "304",
         463500,
         463500,
         463500,
         463500,
         0,
         24000,
         0,
         24000,
         7500,
         "16",
         "4345",
         "int",
         144207,
         "120413,5154",
         "181001,75",
         "",
         0,
         1,
         6000,
         14897,
         108000,
         "F",
         4,
         "-",
         1,
         "CULTURAL",
         4,
         0,
         1,
         432000,
         "908285",
         "0",
         "1",
         "Andres I Pacheco Rincon",
         "51918767",
         "Master Card",
         "xxxxxxxxxxxx1912",
         "18-Sep-12 21:16:02.950",
         0,
         2,
         24,
         "120918,5946",
         "120918,5946",
         "22FEE",
         "INTERNET",
         "120918,5945",
         "MACH",
         "QTROG1",
         "0718",
         "P",
         "P"
        ],
        [
         834927,
         "121003,5762",
         5762,
         "121003 1839",
         "Q",
         "EXPAN1",
         "",
         "EXPAN",
         "OCC",
         "ADP",
         "OCC",
         "XI",
         "1",
         "BUY",
         1,
         "",
         0,
         1,
         "0",
         "EADP2012891",
         "EADP_3OCT2012",
         "SSUR",
         "RGA/A1700-",
         "4",
         "OPASTOCAR2B",
         2931,
         "2931",
         5000,
         5000,
         5000,
         5000,
         0,
         425,
         425,
         425,
         0,
         "16",
         "59",
         "",
         0,
         "",
         "",
         "",
         0,
         1,
         425,
         631,
         4575,
         "A",
         1,
         "-",
         13,
         "PFUTBOL",
         1,
         0,
         1,
         5000,
         "OK",
         "0",
         "0",
         "",
         "",
         "Cash",
         "CAS",
         "03-Oct-12 18:39:28.246",
         0,
         1,
         1,
         "121003,5762",
         "121003,5762",
         "",
         "MIXTOS",
         "121003,5761",
         "CASH",
         "EXPAN1",
         "",
         "",
         ""
        ],
        [
         834928,
         "120918,5948",
         5948,
         "120918 2119",
         "W",
         "QTROG1",
         "QTROG1",
         "QTROG",
         "COL",
         "TAG",
         "CEN",
         "CO",
         "2",
         "BUY",
         1,
         "",
         0,
         1,
         "1",
         "ETAG2012915",
         "ETAG_27OCT2012",
         "SVIP",
         "RGA/P3-5",
         "2",
         "CPARRANDON",
         11,
         "11",
         301500,
         301500,
         301500,
         301500,
         0,
         24000,
         24000,
         24000,
         7500,
         "16",
         "4345",
         "int",
         345695,
         "120212,37",
         "170810,17820",
         "",
         0,
         1,
         8000,
         12414,
         90000,
         "P",
         3,
         "-",
         7,
         "CONCIE",
         3,
         0,
         1,
         270000,
         "545679",
         "0",
         "1",
         "jhon sanchez uribe",
         "79360850",
         "Amex",
         "xxxxxxxxxxx9027",
         "18-Sep-12 21:19:09.678",
         0,
         2,
         10,
         "120918,5948",
         "120918,5948",
         "11FEE",
         "INTERNET",
         "120918,5947",
         "AMEX",
         "QTROG1",
         "0115",
         "P",
         "P"
        ],
        [
         834929,
         "121003,5764",
         5764,
         "121003 1839",
         "Q",
         "ESFIE1",
         "",
         "ESFIE",
         "COS",
         "DJU",
         "COS",
         "PJ",
         "1",
         "BUY",
         1,
         "",
         0,
         1,
         "1",
         "EDJU2012891",
         "EDJU_3OCT2012",
         "SORIBAJA11",
         "RG/A226-",
         "2",
         "TJUNIOHUI12",
         7104,
         "7104",
         25000,
         25000,
         25000,
         25000,
         0,
         0,
         0,
         0,
         0,
         "16",
         "0",
         "tel",
         1169473,
         "121003,5723",
         "121003,5854",
         "",
         0,
         1,
         0,
         3448,
         25000,
         "A",
         1,
         "-",
         13,
         "PFUTBOL",
         1,
         0,
         1,
         25000,
         "OK",
         "0",
         "0",
         "RAFAIL DOMIIGUI SIIRRA",
         "72191303",
         "Cash",
         "CAS",
         "03-Oct-12 18:39:33.807",
         0,
         1,
         1,
         "121003,5764",
         "121003,5764",
         "",
         "MIXTOS",
         "121003,5763",
         "CASH",
         "ESFIE1",
         "",
         "",
         ""
        ],
        [
         834930,
         "120918,5950",
         5950,
         "120918 2123",
         "B",
         "PSTAQ1",
         "",
         "PSTAQ",
         "OCC",
         "ADP",
         "OCC",
         "TT",
         "1",
         "BUY",
         1,
         "",
         0,
         1,
         "0",
         "EADP2012875",
         "EADP_19SEP2012",
         "SORIITAL",
         "RGA/A128-327",
         "2",
         "OPASTO2BJUN",
         208,
         "208",
         1000000,
         1000000,
         1000000,
         1000000,
         0,
         85000,
         85000,
         85000,
         0,
         "16",
         "11724",
         "",
         0,
         "",
         "",
         "",
         0,
         1,
         425,
         631,
         4575,
         "A",
         200,
         "-",
         13,
         "PFUTBOL",
         200,
         0,
         1,
         1000000,
         "OK",
         "0",
         "0",
         "",
         "",
         "Cash",
         "CASH",
         "18-Sep-12 21:23:05.239",
         0,
         1,
         1,
         "120918,5950",
         "120918,5950",
         "",
         "TARJETA",
         "120918,5949",
         "CASH",
         "PSTAQ1",
         "",
         "",
         ""
        ]
       ],
       "datasetInfos": [],
       "dbfsResultPath": null,
       "isJsonSchema": true,
       "metadata": {},
       "overflow": false,
       "plotOptions": {
        "customPlotOptions": {},
        "displayType": "table",
        "pivotAggregation": null,
        "pivotColumns": null,
        "xColumns": null,
        "yColumns": null
       },
       "removedWidgets": [],
       "schema": [
        {
         "metadata": "{\"scale\":0}",
         "name": "id",
         "type": "\"integer\""
        },
        {
         "metadata": "{\"scale\":0}",
         "name": "Master",
         "type": "\"string\""
        },
        {
         "metadata": "{\"scale\":0}",
         "name": "Tnum",
         "type": "\"integer\""
        },
        {
         "metadata": "{\"scale\":0}",
         "name": "DateTime",
         "type": "\"string\""
        },
        {
         "metadata": "{\"scale\":0}",
         "name": "Channel",
         "type": "\"string\""
        },
        {
         "metadata": "{\"scale\":0}",
         "name": "Seller",
         "type": "\"string\""
        },
        {
         "metadata": "{\"scale\":0}",
         "name": "SellerID",
         "type": "\"string\""
        },
        {
         "metadata": "{\"scale\":0}",
         "name": "Place",
         "type": "\"string\""
        },
        {
         "metadata": "{\"scale\":0}",
         "name": "PlaceRegion",
         "type": "\"string\""
        },
        {
         "metadata": "{\"scale\":0}",
         "name": "Prom",
         "type": "\"string\""
        },
        {
         "metadata": "{\"scale\":0}",
         "name": "PromRegion",
         "type": "\"string\""
        },
        {
         "metadata": "{\"scale\":0}",
         "name": "Chain",
         "type": "\"string\""
        },
        {
         "metadata": "{\"scale\":0}",
         "name": "HowPaid",
         "type": "\"string\""
        },
        {
         "metadata": "{\"scale\":0}",
         "name": "Action",
         "type": "\"string\""
        },
        {
         "metadata": "{\"scale\":0}",
         "name": "Sign",
         "type": "\"integer\""
        },
        {
         "metadata": "{\"scale\":0}",
         "name": "Reason",
         "type": "\"string\""
        },
        {
         "metadata": "{\"scale\":0}",
         "name": "ReasonNum",
         "type": "\"integer\""
        },
        {
         "metadata": "{\"scale\":0}",
         "name": "Active",
         "type": "\"integer\""
        },
        {
         "metadata": "{\"scale\":0}",
         "name": "EACustomer",
         "type": "\"string\""
        },
        {
         "metadata": "{\"scale\":0}",
         "name": "Ecanon",
         "type": "\"string\""
        },
        {
         "metadata": "{\"scale\":0}",
         "name": "Evname",
         "type": "\"string\""
        },
        {
         "metadata": "{\"scale\":0}",
         "name": "Secnam",
         "type": "\"string\""
        },
        {
         "metadata": "{\"scale\":0}",
         "name": "RZ",
         "type": "\"string\""
        },
        {
         "metadata": "{\"scale\":0}",
         "name": "Pcat",
         "type": "\"string\""
        },
        {
         "metadata": "{\"scale\":0}",
         "name": "Showtag",
         "type": "\"string\""
        },
        {
         "metadata": "{\"scale\":0}",
         "name": "Seqnum",
         "type": "\"integer\""
        },
        {
         "metadata": "{\"scale\":0}",
         "name": "Paxnum",
         "type": "\"string\""
        },
        {
         "metadata": "{\"scale\":0}",
         "name": "Paid",
         "type": "\"integer\""
        },
        {
         "metadata": "{\"scale\":0}",
         "name": "GrossPaid",
         "type": "\"integer\""
        },
        {
         "metadata": "{\"scale\":0}",
         "name": "Sales",
         "type": "\"integer\""
        },
        {
         "metadata": "{\"scale\":0}",
         "name": "GrossSales",
         "type": "\"integer\""
        },
        {
         "metadata": "{\"scale\":0}",
         "name": "Distributed",
         "type": "\"integer\""
        },
        {
         "metadata": "{\"scale\":0}",
         "name": "Bfee",
         "type": "\"integer\""
        },
        {
         "metadata": "{\"scale\":0}",
         "name": "BfeeSupp",
         "type": "\"integer\""
        },
        {
         "metadata": "{\"scale\":0}",
         "name": "BfeeBaseLine",
         "type": "\"integer\""
        },
        {
         "metadata": "{\"scale\":0}",
         "name": "Hfee",
         "type": "\"integer\""
        },
        {
         "metadata": "{\"scale\":0}",
         "name": "GST",
         "type": "\"string\""
        },
        {
         "metadata": "{\"scale\":0}",
         "name": "GSTSiteLiable",
         "type": "\"string\""
        },
        {
         "metadata": "{\"scale\":0}",
         "name": "Season",
         "type": "\"string\""
        },
        {
         "metadata": "{\"scale\":0}",
         "name": "Account",
         "type": "\"integer\""
        },
        {
         "metadata": "{\"scale\":0}",
         "name": "J_AN_PREV_MJT",
         "type": "\"string\""
        },
        {
         "metadata": "{\"scale\":0}",
         "name": "J_AN_NEXT_MJT",
         "type": "\"string\""
        },
        {
         "metadata": "{\"scale\":0}",
         "name": "Returned",
         "type": "\"string\""
        },
        {
         "metadata": "{\"scale\":0}",
         "name": "AllReturned",
         "type": "\"integer\""
        },
        {
         "metadata": "{\"scale\":0}",
         "name": "AdmitCnt",
         "type": "\"integer\""
        },
        {
         "metadata": "{\"scale\":0}",
         "name": "AdmitBfee",
         "type": "\"integer\""
        },
        {
         "metadata": "{\"scale\":0}",
         "name": "AdmitGST",
         "type": "\"integer\""
        },
        {
         "metadata": "{\"scale\":0}",
         "name": "AdmitPrice",
         "type": "\"integer\""
        },
        {
         "metadata": "{\"scale\":0}",
         "name": "AdmitPtype",
         "type": "\"string\""
        },
        {
         "metadata": "{\"scale\":0}",
         "name": "AdmitQty",
         "type": "\"integer\""
        },
        {
         "metadata": "{\"scale\":0}",
         "name": "AdmitWas",
         "type": "\"string\""
        },
        {
         "metadata": "{\"scale\":0}",
         "name": "Btype",
         "type": "\"integer\""
        },
        {
         "metadata": "{\"scale\":0}",
         "name": "BtypeName",
         "type": "\"string\""
        },
        {
         "metadata": "{\"scale\":0}",
         "name": "Qty",
         "type": "\"integer\""
        },
        {
         "metadata": "{\"scale\":0}",
         "name": "Subs",
         "type": "\"integer\""
        },
        {
         "metadata": "{\"scale\":0}",
         "name": "BRCount",
         "type": "\"integer\""
        },
        {
         "metadata": "{\"scale\":0}",
         "name": "BillingAmount",
         "type": "\"integer\""
        },
        {
         "metadata": "{\"scale\":0}",
         "name": "BillingAuth",
         "type": "\"string\""
        },
        {
         "metadata": "{\"scale\":0}",
         "name": "BillingAuthID",
         "type": "\"string\""
        },
        {
         "metadata": "{\"scale\":0}",
         "name": "BillingAuthReqd",
         "type": "\"string\""
        },
        {
         "metadata": "{\"scale\":0}",
         "name": "BillingBRName",
         "type": "\"string\""
        },
        {
         "metadata": "{\"scale\":0}",
         "name": "BillingBRPhone",
         "type": "\"string\""
        },
        {
         "metadata": "{\"scale\":0}",
         "name": "BillingCCName",
         "type": "\"string\""
        },
        {
         "metadata": "{\"scale\":0}",
         "name": "BillingCCNum",
         "type": "\"string\""
        },
        {
         "metadata": "{\"scale\":0}",
         "name": "BillingDateTime",
         "type": "\"string\""
        },
        {
         "metadata": "{\"scale\":0}",
         "name": "BillingFundsMoved",
         "type": "\"integer\""
        },
        {
         "metadata": "{\"scale\":0}",
         "name": "BillingHowPaid",
         "type": "\"integer\""
        },
        {
         "metadata": "{\"scale\":0}",
         "name": "BillingInstallments",
         "type": "\"integer\""
        },
        {
         "metadata": "{\"scale\":0}",
         "name": "BillingInvMJT",
         "type": "\"string\""
        },
        {
         "metadata": "{\"scale\":0}",
         "name": "BillingLastMJT",
         "type": "\"string\""
        },
        {
         "metadata": "{\"scale\":0}",
         "name": "BillingMerchant",
         "type": "\"string\""
        },
        {
         "metadata": "{\"scale\":0}",
         "name": "BillingMerchantName",
         "type": "\"string\""
        },
        {
         "metadata": "{\"scale\":0}",
         "name": "BillingMJT",
         "type": "\"string\""
        },
        {
         "metadata": "{\"scale\":0}",
         "name": "BilingPaytype",
         "type": "\"string\""
        },
        {
         "metadata": "{\"scale\":0}",
         "name": "BillingSeller",
         "type": "\"string\""
        },
        {
         "metadata": "{\"scale\":0}",
         "name": "BillingXPRY",
         "type": "\"string\""
        },
        {
         "metadata": "{\"scale\":0}",
         "name": "SaleDtype",
         "type": "\"string\""
        },
        {
         "metadata": "{\"scale\":0}",
         "name": "SaleDtypeNow",
         "type": "\"string\""
        }
       ],
       "type": "table"
      }
     },
     "output_type": "display_data"
    }
   ],
   "source": [
    "Softix_Accounts =\"dbo.Softix_Accounts\"\n",
    "Softix_Areas =\"dbo.Softix_Areas\"\n",
    "Softix_Btypes =\"dbo.Softix_Btypes\"\n",
    "Softix_Chains =\"dbo.Softix_Chains\"\n",
    "Softix_Mtypes =\"dbo.Softix_Mtypes\"\n",
    "Softix_Perfs =\"dbo.Softix_Perfs\"\n",
    "Softix_Proms =\"dbo.Softix_Proms\"\n",
    "Softix_Sellers =\"dbo.Softix_Sellers\"\n",
    "Softix_Shows =\"dbo.Softix_Shows\"\n",
    "Softix_Tixs =\"dbo.Softix_Tixs\"\n",
    "Softix_Tnums =\"dbo.Softix_Tnums\"\n",
    "Softix_Tnums_2014 = 'Softix.Tnums'\n",
    "Softix_Venues =\"dbo.Softix_Venues\"\n",
    "\n",
    "Softix_Accounts = spark.read.jdbc(url=jdbc_url, table =Softix_Accounts, properties=jdbc_properties)\n",
    "#print(Softix_Accounts.count())\n",
    "#Softix_Areas = spark.read.jdbc(url=jdbc_url, table =Softix_Areas, properties=jdbc_properties)\n",
    "#print(Softix_Areas.count())\n",
    "#Softix_Btypes = spark.read.jdbc(url=jdbc_url, table =Softix_Btypes, properties=jdbc_properties)\n",
    "#print(Softix_Btypes.count())\n",
    "#Softix_Chains = spark.read.jdbc(url=jdbc_url, table =Softix_Chains, properties=jdbc_properties)\n",
    "#print(Softix_Chains.count())\n",
    "Softix_Mtypes = spark.read.jdbc(url=jdbc_url, table =Softix_Mtypes, properties=jdbc_properties)\n",
    "#print(Softix_Mtypes.count())\n",
    "Softix_Perfs = spark.read.jdbc(url=jdbc_url, table =Softix_Perfs, properties=jdbc_properties)\n",
    "#print(Softix_Perfs.count())\n",
    "#Softix_Perfs.createOrReplaceTempView(\"Softix_Perfs_vw\")\n",
    "Softix_Proms = spark.read.jdbc(url=jdbc_url, table =Softix_Proms, properties=jdbc_properties)\n",
    "#print(Softix_Proms.count())\n",
    "#Softix_Sellers = spark.read.jdbc(url=jdbc_url, table =Softix_Sellers, properties=jdbc_properties)\n",
    "#print(Softix_Sellers.count())\n",
    "Softix_Shows = spark.read.jdbc(url=jdbc_url, table =Softix_Shows, properties=jdbc_properties)\n",
    "#print(Softix_Shows.count())\n",
    "#Softix_Tixs = spark.read.jdbc(url=jdbc_url, table =Softix_Tixs, properties=jdbc_properties)\n",
    "#print(Softix_Tixs.count())\n",
    "Softix_Tnums = spark.read.jdbc(url=jdbc_url, table =Softix_Tnums, properties=jdbc_properties)\n",
    "Softix_Tnums_2014 = spark.read.jdbc(url=jdbc_url, table =Softix_Tnums_2014, properties=jdbc_properties)\n",
    "#print(Softix_Tnums.count())\n",
    "#Softix_Tnums_2014.createOrReplaceTempView(\"Softix_Tnums_2014_vw\")\n",
    "Softix_Venues = spark.read.jdbc(url=jdbc_url, table =Softix_Venues, properties=jdbc_properties)\n",
    "#print(Softix_Venues.count())\n",
    "\n",
    "\n",
    "### RENOMBRE DE CAMPOS\n",
    "\n",
    "# Renombrar los campos quitando el prefijo 'Tnums.'\n",
    "for col_name in Softix_Tnums.columns:\n",
    "    new_col_name = col_name.replace(\"Tnums.\", \"\")\n",
    "    Softix_Tnums = Softix_Tnums.withColumnRenamed(col_name, new_col_name)\n",
    "\n",
    "# Renombrar los campos quitando el prefijo 'Tnums.'\n",
    "for col_name in Softix_Tnums_2014.columns:\n",
    "    new_col_name = col_name.replace(\"Tnums.\", \"\")\n",
    "    Softix_Tnums_2014 = Softix_Tnums_2014.withColumnRenamed(col_name, new_col_name)\n",
    "\n",
    "# Renombrar los campos quitando el prefijo 'Perfs.'\n",
    "for col_name in Softix_Perfs.columns:\n",
    "    new_col_name = col_name.replace(\"Perfs.\", \"\")\n",
    "    Softix_Perfs = Softix_Perfs.withColumnRenamed(col_name, new_col_name)\n",
    "\n",
    "# Renombrar los campos quitando el prefijo 'Venues.'\n",
    "for col_name in Softix_Venues.columns:\n",
    "    new_col_name = col_name.replace(\"Venues.\", \"\")\n",
    "    Softix_Venues = Softix_Venues.withColumnRenamed(col_name, new_col_name)\n",
    "\n",
    "# Renombrar los campos quitando el prefijo 'Accounts.'\n",
    "for col_name in Softix_Accounts.columns:\n",
    "    new_col_name = col_name.replace(\"Accounts.\", \"\")\n",
    "    Softix_Accounts = Softix_Accounts.withColumnRenamed(col_name, new_col_name)\n",
    "\n",
    "# Renombrar los campos quitando el prefijo 'Proms.'\n",
    "for col_name in Softix_Proms.columns:\n",
    "    new_col_name = col_name.replace(\"Proms.\", \"\")\n",
    "    Softix_Proms = Softix_Proms.withColumnRenamed(col_name, new_col_name)\n",
    "\n",
    "# Renombrar los campos quitando el prefijo 'Proms.'\n",
    "for col_name in Softix_Shows.columns:\n",
    "    new_col_name = col_name.replace(\"Shows.\", \"\")\n",
    "    Softix_Shows = Softix_Shows.withColumnRenamed(col_name, new_col_name)\n",
    "\n",
    "display(Softix_Tnums.limit(10))\n",
    "#print(Softix_Accounts.count())"
   ]
  },
  {
   "cell_type": "code",
   "execution_count": null,
   "metadata": {
    "application/vnd.databricks.v1+cell": {
     "cellMetadata": {
      "byteLimit": 2048000,
      "rowLimit": 10000
     },
     "inputWidgets": {},
     "nuid": "f7ee2f8e-f252-403a-8cb5-ee89de4bb449",
     "showTitle": false,
     "title": ""
    }
   },
   "outputs": [
    {
     "name": "stdout",
     "output_type": "stream",
     "text": [
      "5813685\n"
     ]
    }
   ],
   "source": [
    "#print(Softix_Tnums.count())\n",
    "\n",
    "# tmp = Softix_Tnums.select('Prom').distinct()\n",
    "# display(tmp)"
   ]
  },
  {
   "cell_type": "code",
   "execution_count": null,
   "metadata": {
    "application/vnd.databricks.v1+cell": {
     "cellMetadata": {
      "byteLimit": 2048000,
      "rowLimit": 10000
     },
     "inputWidgets": {},
     "nuid": "b2aa6d6c-139d-40fe-9da1-4d4196284e2c",
     "showTitle": false,
     "title": ""
    }
   },
   "outputs": [],
   "source": [
    "#display(Softix_Shows.limit(10))\n",
    "\n",
    "# tmp = Softix_Shows.filter(col('Code') == 'ANGRA')#.limit(100)\n",
    "# display(tmp)"
   ]
  },
  {
   "cell_type": "code",
   "execution_count": null,
   "metadata": {
    "application/vnd.databricks.v1+cell": {
     "cellMetadata": {
      "byteLimit": 2048000,
      "rowLimit": 10000
     },
     "inputWidgets": {},
     "nuid": "854db935-3577-414c-9061-99857d462b63",
     "showTitle": false,
     "title": ""
    }
   },
   "outputs": [],
   "source": [
    "# tmp = Softix_Tnums.select('SaleDtypeNow').distinct()\n",
    "# display(tmp)"
   ]
  },
  {
   "cell_type": "code",
   "execution_count": null,
   "metadata": {
    "application/vnd.databricks.v1+cell": {
     "cellMetadata": {
      "byteLimit": 2048000,
      "rowLimit": 10000
     },
     "inputWidgets": {},
     "nuid": "820af67e-ce42-4ed8-9517-0f73dec398ce",
     "showTitle": false,
     "title": ""
    }
   },
   "outputs": [],
   "source": [
    "# Softix_Tnums = Softix_Tnums.\\\n",
    "#     withColumn(\"Fecha_compra\", to_timestamp(\"DateTime\", \"yyMMdd HHmm\")).\\\n",
    "#     withColumn(\"Anio_compra\", year(\"Fecha_compra\"))\n",
    "# # #.select('Evname','BillingDateTime')\n",
    "\n",
    "# Softix_Tnums_2014 = Softix_Tnums_2014.\\\n",
    "#     withColumn(\"Fecha_compra\", to_timestamp(\"DateTime\", \"yyMMdd HHmm\")).\\\n",
    "#     withColumn(\"Anio_compra\", year(\"Fecha_compra\"))"
   ]
  },
  {
   "cell_type": "code",
   "execution_count": null,
   "metadata": {
    "application/vnd.databricks.v1+cell": {
     "cellMetadata": {
      "byteLimit": 2048000,
      "rowLimit": 10000
     },
     "inputWidgets": {},
     "nuid": "6eb7a2ad-985d-47d9-b2e5-8b9218818e23",
     "showTitle": false,
     "title": ""
    }
   },
   "outputs": [],
   "source": [
    "#### TRANSFORMACIONES ####\n",
    "\n",
    "# variables a concatenar\n",
    "id_cliente_Tnums = [\"Season\",'Account']\n",
    "id_cliente_Accounts = [\"Season\",'Number']\n",
    "id_expediente = [\"Id_cliente\",'DateTime']\n",
    "\n",
    "Softix_Tnums = Softix_Tnums.\\\n",
    "    filter((col('AdmitPtype') != 'C') & \n",
    "           (col('Action') != 'COM') &\n",
    "           (col('Prom') != 'CTK')).\\\n",
    "    withColumn(\"Id_cliente\",concat_ws(\"|\", *id_cliente_Tnums)).\\\n",
    "    withColumn(\"FILE_NUMBER\",concat_ws(\"|\", *id_expediente)).\\\n",
    "    withColumn(\"Fecha_compra\", to_timestamp(\"DateTime\", \"yyMMdd HHmm\")).\\\n",
    "    withColumn(\"Anio_compra\", year(\"Fecha_compra\")).\\\n",
    "    filter(col('Anio_compra') != '2014')\n",
    "    #withColumn(\"Fecha_compra\", to_timestamp(\"BillingDateTime\", \"dd-MMM-yy HH:mm:ss.SSS\"))\n",
    "#.select('Evname','BillingDateTime')\n",
    "\n",
    "\n",
    "Softix_Tnums_2014 = Softix_Tnums_2014.\\\n",
    "    filter((col('AdmitPtype') != 'C') & \n",
    "           (col('Action') != 'COM') &\n",
    "           (col('Prom') != 'CTK')).\\\n",
    "    withColumn(\"Id_cliente\",concat_ws(\"|\", *id_cliente_Tnums)).\\\n",
    "    withColumn(\"FILE_NUMBER\",concat_ws(\"|\", *id_expediente)).\\\n",
    "    withColumn(\"Fecha_compra\", to_timestamp(\"DateTime\", \"yyMMdd HHmm\")).\\\n",
    "    withColumn(\"Anio_compra\", year(\"Fecha_compra\")).\\\n",
    "    filter(col('Anio_compra') == '2014')\n",
    "\n",
    "# Union del Tnums\n",
    "Softix_Tnums = Softix_Tnums.union(Softix_Tnums_2014)\n",
    "\n",
    "####\n",
    "Softix_Perfs = Softix_Perfs.select(*[col for col in Softix_Perfs.columns if col != 'id']).distinct().\\\n",
    "    withColumn(\"Fecha_evento\", to_timestamp(\"EndTime\", \"yyMMdd HHmm\"))\n",
    "\n",
    "\n",
    "Softix_Proms = Softix_Proms.select(*[col for col in Softix_Proms.columns if col not in ['id','Num']]).\\\n",
    "    withColumnRenamed('Desc', 'Descripcion').distinct()\n",
    "\n",
    "\n",
    "Softix_Accounts = Softix_Accounts.select(*[col for col in Softix_Accounts.columns if col not in ['id']]).\\\n",
    "    withColumn(\"Id_cliente\",concat_ws(\"|\", *id_cliente_Accounts)).distinct()\n",
    "    \n",
    "\n",
    "Softix_Venues = Softix_Venues.withColumnRenamed('Desc', 'Descripcion').distinct()\n",
    "\n",
    "Softix_Shows = Softix_Shows.withColumnRenamed('Desc', 'Descripcion').distinct()\n"
   ]
  },
  {
   "cell_type": "code",
   "execution_count": null,
   "metadata": {
    "application/vnd.databricks.v1+cell": {
     "cellMetadata": {
      "byteLimit": 2048000,
      "rowLimit": 10000
     },
     "inputWidgets": {},
     "nuid": "efc4bde7-670c-4f41-aa6e-f3a6e747f6ac",
     "showTitle": false,
     "title": ""
    }
   },
   "outputs": [],
   "source": [
    "# # # tmp = Softix_Tnums.groupby(year(\"Fecha_compra\")).count().reset_index(name='count')\n",
    "# # # display(tmp)\n",
    "\n",
    "# from pyspark.sql.functions import sum\n",
    "\n",
    "# tmp = softix_aforos.groupBy(\"Anio_compra\",'Aforo').sum().orderBy(col(\"count\").desc())#.\\\n",
    "# #print(tmp.count())\n",
    "# #display(tmp)"
   ]
  },
  {
   "cell_type": "code",
   "execution_count": null,
   "metadata": {
    "application/vnd.databricks.v1+cell": {
     "cellMetadata": {
      "byteLimit": 2048000,
      "rowLimit": 10000
     },
     "inputWidgets": {},
     "nuid": "963d16a5-21b6-492e-8a94-9c69c526cbb0",
     "showTitle": false,
     "title": ""
    }
   },
   "outputs": [],
   "source": [
    "#display(Softix_Tnums.limit(10))"
   ]
  },
  {
   "cell_type": "code",
   "execution_count": null,
   "metadata": {
    "application/vnd.databricks.v1+cell": {
     "cellMetadata": {
      "byteLimit": 2048000,
      "rowLimit": 10000
     },
     "inputWidgets": {},
     "nuid": "930613aa-be5a-4cc6-88a8-5c816197bf6c",
     "showTitle": false,
     "title": ""
    }
   },
   "outputs": [],
   "source": [
    "# tmp = Softix_Tnums.select('Evname').distinct()\n",
    "# #display(tmp)\n",
    "# print(tmp.count()) "
   ]
  },
  {
   "cell_type": "code",
   "execution_count": null,
   "metadata": {
    "application/vnd.databricks.v1+cell": {
     "cellMetadata": {
      "byteLimit": 2048000,
      "rowLimit": 10000
     },
     "inputWidgets": {},
     "nuid": "19e0360e-08f8-41be-90a4-ad37bf5c39aa",
     "showTitle": false,
     "title": ""
    }
   },
   "outputs": [],
   "source": [
    "# tmp = Softix_Tnums.groupBy(\"FILE_NUMBER\").count().orderBy(col(\"count\").desc())#.\\\n",
    "# #print(tmp.count())\n",
    "# display(tmp.limit(1000))"
   ]
  },
  {
   "cell_type": "code",
   "execution_count": null,
   "metadata": {
    "application/vnd.databricks.v1+cell": {
     "cellMetadata": {
      "byteLimit": 2048000,
      "rowLimit": 10000
     },
     "inputWidgets": {},
     "nuid": "4b9198be-af24-4844-ba73-b8768bc9cbca",
     "showTitle": false,
     "title": ""
    }
   },
   "outputs": [
    {
     "data": {
      "text/html": [
       "<style scoped>\n",
       "  .table-result-container {\n",
       "    max-height: 300px;\n",
       "    overflow: auto;\n",
       "  }\n",
       "  table, th, td {\n",
       "    border: 1px solid black;\n",
       "    border-collapse: collapse;\n",
       "  }\n",
       "  th, td {\n",
       "    padding: 5px;\n",
       "  }\n",
       "  th {\n",
       "    text-align: left;\n",
       "  }\n",
       "</style><div class='table-result-container'><table class='table-result'><thead style='background-color: white'><tr><th>Anio_compra</th><th>count</th></tr></thead><tbody><tr><td>2014</td><td>1056991</td></tr><tr><td>2016</td><td>707494</td></tr><tr><td>2013</td><td>672307</td></tr><tr><td>2011</td><td>617012</td></tr><tr><td>2004</td><td>337386</td></tr><tr><td>2015</td><td>310901</td></tr><tr><td>2019</td><td>281587</td></tr><tr><td>2010</td><td>281438</td></tr><tr><td>2005</td><td>279076</td></tr><tr><td>2017</td><td>277476</td></tr><tr><td>2009</td><td>208594</td></tr><tr><td>2018</td><td>188900</td></tr><tr><td>2007</td><td>112717</td></tr><tr><td>2008</td><td>108489</td></tr><tr><td>2003</td><td>101890</td></tr><tr><td>2006</td><td>101034</td></tr><tr><td>2002</td><td>89157</td></tr><tr><td>2001</td><td>52498</td></tr><tr><td>2000</td><td>19404</td></tr><tr><td>2020</td><td>9334</td></tr></tbody></table></div>"
      ]
     },
     "metadata": {
      "application/vnd.databricks.v1+output": {
       "addedWidgets": {},
       "aggData": [],
       "aggError": "",
       "aggOverflow": false,
       "aggSchema": [],
       "aggSeriesLimitReached": false,
       "aggType": "",
       "arguments": {},
       "columnCustomDisplayInfos": {},
       "data": [
        [
         2014,
         1056991
        ],
        [
         2016,
         707494
        ],
        [
         2013,
         672307
        ],
        [
         2011,
         617012
        ],
        [
         2004,
         337386
        ],
        [
         2015,
         310901
        ],
        [
         2019,
         281587
        ],
        [
         2010,
         281438
        ],
        [
         2005,
         279076
        ],
        [
         2017,
         277476
        ],
        [
         2009,
         208594
        ],
        [
         2018,
         188900
        ],
        [
         2007,
         112717
        ],
        [
         2008,
         108489
        ],
        [
         2003,
         101890
        ],
        [
         2006,
         101034
        ],
        [
         2002,
         89157
        ],
        [
         2001,
         52498
        ],
        [
         2000,
         19404
        ],
        [
         2020,
         9334
        ]
       ],
       "datasetInfos": [],
       "dbfsResultPath": null,
       "isJsonSchema": true,
       "metadata": {},
       "overflow": false,
       "plotOptions": {
        "customPlotOptions": {},
        "displayType": "table",
        "pivotAggregation": null,
        "pivotColumns": null,
        "xColumns": null,
        "yColumns": null
       },
       "removedWidgets": [],
       "schema": [
        {
         "metadata": "{}",
         "name": "Anio_compra",
         "type": "\"integer\""
        },
        {
         "metadata": "{}",
         "name": "count",
         "type": "\"long\""
        }
       ],
       "type": "table"
      }
     },
     "output_type": "display_data"
    }
   ],
   "source": [
    "tmp = Softix_Tnums.groupBy(\"Anio_compra\").count().orderBy(col(\"count\").desc())#.\\\n",
    "#print(tmp.count())\n",
    "display(tmp)"
   ]
  },
  {
   "cell_type": "code",
   "execution_count": null,
   "metadata": {
    "application/vnd.databricks.v1+cell": {
     "cellMetadata": {
      "byteLimit": 2048000,
      "rowLimit": 10000
     },
     "inputWidgets": {},
     "nuid": "845c432f-6538-4474-beba-595224924958",
     "showTitle": false,
     "title": ""
    }
   },
   "outputs": [
    {
     "data": {
      "text/plain": [
       "\u001b[0;31m---------------------------------------------------------------------------\u001b[0m\n",
       "\u001b[0;31mPy4JJavaError\u001b[0m                             Traceback (most recent call last)\n",
       "File \u001b[0;32m<command-2817531399402343>, line 4\u001b[0m\n",
       "\u001b[1;32m      1\u001b[0m \u001b[38;5;28;01mfrom\u001b[39;00m \u001b[38;5;21;01mpyspark\u001b[39;00m\u001b[38;5;21;01m.\u001b[39;00m\u001b[38;5;21;01msql\u001b[39;00m\u001b[38;5;21;01m.\u001b[39;00m\u001b[38;5;21;01mfunctions\u001b[39;00m \u001b[38;5;28;01mimport\u001b[39;00m \u001b[38;5;28mmax\u001b[39m\n",
       "\u001b[1;32m      3\u001b[0m tmp \u001b[38;5;241m=\u001b[39m Softix_Tnums\u001b[38;5;241m.\u001b[39mfilter(col(\u001b[38;5;124m'\u001b[39m\u001b[38;5;124mAnio_compra\u001b[39m\u001b[38;5;124m'\u001b[39m) \u001b[38;5;241m==\u001b[39m \u001b[38;5;124m'\u001b[39m\u001b[38;5;124m2014\u001b[39m\u001b[38;5;124m'\u001b[39m)\u001b[38;5;66;03m#.select(max('Fecha_compra'))\u001b[39;00m\n",
       "\u001b[0;32m----> 4\u001b[0m \u001b[38;5;28mprint\u001b[39m(tmp\u001b[38;5;241m.\u001b[39mcount())\n",
       "\u001b[1;32m      5\u001b[0m \u001b[38;5;66;03m#display(tmp)\u001b[39;00m\n",
       "\n",
       "File \u001b[0;32m/databricks/spark/python/pyspark/instrumentation_utils.py:48\u001b[0m, in \u001b[0;36m_wrap_function.<locals>.wrapper\u001b[0;34m(*args, **kwargs)\u001b[0m\n",
       "\u001b[1;32m     46\u001b[0m start \u001b[38;5;241m=\u001b[39m time\u001b[38;5;241m.\u001b[39mperf_counter()\n",
       "\u001b[1;32m     47\u001b[0m \u001b[38;5;28;01mtry\u001b[39;00m:\n",
       "\u001b[0;32m---> 48\u001b[0m     res \u001b[38;5;241m=\u001b[39m \u001b[43mfunc\u001b[49m\u001b[43m(\u001b[49m\u001b[38;5;241;43m*\u001b[39;49m\u001b[43margs\u001b[49m\u001b[43m,\u001b[49m\u001b[43m \u001b[49m\u001b[38;5;241;43m*\u001b[39;49m\u001b[38;5;241;43m*\u001b[39;49m\u001b[43mkwargs\u001b[49m\u001b[43m)\u001b[49m\n",
       "\u001b[1;32m     49\u001b[0m     logger\u001b[38;5;241m.\u001b[39mlog_success(\n",
       "\u001b[1;32m     50\u001b[0m         module_name, class_name, function_name, time\u001b[38;5;241m.\u001b[39mperf_counter() \u001b[38;5;241m-\u001b[39m start, signature\n",
       "\u001b[1;32m     51\u001b[0m     )\n",
       "\u001b[1;32m     52\u001b[0m     \u001b[38;5;28;01mreturn\u001b[39;00m res\n",
       "\n",
       "File \u001b[0;32m/databricks/spark/python/pyspark/sql/dataframe.py:1206\u001b[0m, in \u001b[0;36mDataFrame.count\u001b[0;34m(self)\u001b[0m\n",
       "\u001b[1;32m   1183\u001b[0m \u001b[38;5;28;01mdef\u001b[39;00m \u001b[38;5;21mcount\u001b[39m(\u001b[38;5;28mself\u001b[39m) \u001b[38;5;241m-\u001b[39m\u001b[38;5;241m>\u001b[39m \u001b[38;5;28mint\u001b[39m:\n",
       "\u001b[1;32m   1184\u001b[0m     \u001b[38;5;124;03m\"\"\"Returns the number of rows in this :class:`DataFrame`.\u001b[39;00m\n",
       "\u001b[1;32m   1185\u001b[0m \n",
       "\u001b[1;32m   1186\u001b[0m \u001b[38;5;124;03m    .. versionadded:: 1.3.0\u001b[39;00m\n",
       "\u001b[0;32m   (...)\u001b[0m\n",
       "\u001b[1;32m   1204\u001b[0m \u001b[38;5;124;03m    3\u001b[39;00m\n",
       "\u001b[1;32m   1205\u001b[0m \u001b[38;5;124;03m    \"\"\"\u001b[39;00m\n",
       "\u001b[0;32m-> 1206\u001b[0m     \u001b[38;5;28;01mreturn\u001b[39;00m \u001b[38;5;28mint\u001b[39m(\u001b[38;5;28;43mself\u001b[39;49m\u001b[38;5;241;43m.\u001b[39;49m\u001b[43m_jdf\u001b[49m\u001b[38;5;241;43m.\u001b[39;49m\u001b[43mcount\u001b[49m\u001b[43m(\u001b[49m\u001b[43m)\u001b[49m)\n",
       "\n",
       "File \u001b[0;32m/databricks/spark/python/lib/py4j-0.10.9.7-src.zip/py4j/java_gateway.py:1355\u001b[0m, in \u001b[0;36mJavaMember.__call__\u001b[0;34m(self, *args)\u001b[0m\n",
       "\u001b[1;32m   1349\u001b[0m command \u001b[38;5;241m=\u001b[39m proto\u001b[38;5;241m.\u001b[39mCALL_COMMAND_NAME \u001b[38;5;241m+\u001b[39m\\\n",
       "\u001b[1;32m   1350\u001b[0m     \u001b[38;5;28mself\u001b[39m\u001b[38;5;241m.\u001b[39mcommand_header \u001b[38;5;241m+\u001b[39m\\\n",
       "\u001b[1;32m   1351\u001b[0m     args_command \u001b[38;5;241m+\u001b[39m\\\n",
       "\u001b[1;32m   1352\u001b[0m     proto\u001b[38;5;241m.\u001b[39mEND_COMMAND_PART\n",
       "\u001b[1;32m   1354\u001b[0m answer \u001b[38;5;241m=\u001b[39m \u001b[38;5;28mself\u001b[39m\u001b[38;5;241m.\u001b[39mgateway_client\u001b[38;5;241m.\u001b[39msend_command(command)\n",
       "\u001b[0;32m-> 1355\u001b[0m return_value \u001b[38;5;241m=\u001b[39m \u001b[43mget_return_value\u001b[49m\u001b[43m(\u001b[49m\n",
       "\u001b[1;32m   1356\u001b[0m \u001b[43m    \u001b[49m\u001b[43manswer\u001b[49m\u001b[43m,\u001b[49m\u001b[43m \u001b[49m\u001b[38;5;28;43mself\u001b[39;49m\u001b[38;5;241;43m.\u001b[39;49m\u001b[43mgateway_client\u001b[49m\u001b[43m,\u001b[49m\u001b[43m \u001b[49m\u001b[38;5;28;43mself\u001b[39;49m\u001b[38;5;241;43m.\u001b[39;49m\u001b[43mtarget_id\u001b[49m\u001b[43m,\u001b[49m\u001b[43m \u001b[49m\u001b[38;5;28;43mself\u001b[39;49m\u001b[38;5;241;43m.\u001b[39;49m\u001b[43mname\u001b[49m\u001b[43m)\u001b[49m\n",
       "\u001b[1;32m   1358\u001b[0m \u001b[38;5;28;01mfor\u001b[39;00m temp_arg \u001b[38;5;129;01min\u001b[39;00m temp_args:\n",
       "\u001b[1;32m   1359\u001b[0m     \u001b[38;5;28;01mif\u001b[39;00m \u001b[38;5;28mhasattr\u001b[39m(temp_arg, \u001b[38;5;124m\"\u001b[39m\u001b[38;5;124m_detach\u001b[39m\u001b[38;5;124m\"\u001b[39m):\n",
       "\n",
       "File \u001b[0;32m/databricks/spark/python/pyspark/errors/exceptions/captured.py:188\u001b[0m, in \u001b[0;36mcapture_sql_exception.<locals>.deco\u001b[0;34m(*a, **kw)\u001b[0m\n",
       "\u001b[1;32m    186\u001b[0m \u001b[38;5;28;01mdef\u001b[39;00m \u001b[38;5;21mdeco\u001b[39m(\u001b[38;5;241m*\u001b[39ma: Any, \u001b[38;5;241m*\u001b[39m\u001b[38;5;241m*\u001b[39mkw: Any) \u001b[38;5;241m-\u001b[39m\u001b[38;5;241m>\u001b[39m Any:\n",
       "\u001b[1;32m    187\u001b[0m     \u001b[38;5;28;01mtry\u001b[39;00m:\n",
       "\u001b[0;32m--> 188\u001b[0m         \u001b[38;5;28;01mreturn\u001b[39;00m \u001b[43mf\u001b[49m\u001b[43m(\u001b[49m\u001b[38;5;241;43m*\u001b[39;49m\u001b[43ma\u001b[49m\u001b[43m,\u001b[49m\u001b[43m \u001b[49m\u001b[38;5;241;43m*\u001b[39;49m\u001b[38;5;241;43m*\u001b[39;49m\u001b[43mkw\u001b[49m\u001b[43m)\u001b[49m\n",
       "\u001b[1;32m    189\u001b[0m     \u001b[38;5;28;01mexcept\u001b[39;00m Py4JJavaError \u001b[38;5;28;01mas\u001b[39;00m e:\n",
       "\u001b[1;32m    190\u001b[0m         converted \u001b[38;5;241m=\u001b[39m convert_exception(e\u001b[38;5;241m.\u001b[39mjava_exception)\n",
       "\n",
       "File \u001b[0;32m/databricks/spark/python/lib/py4j-0.10.9.7-src.zip/py4j/protocol.py:326\u001b[0m, in \u001b[0;36mget_return_value\u001b[0;34m(answer, gateway_client, target_id, name)\u001b[0m\n",
       "\u001b[1;32m    324\u001b[0m value \u001b[38;5;241m=\u001b[39m OUTPUT_CONVERTER[\u001b[38;5;28mtype\u001b[39m](answer[\u001b[38;5;241m2\u001b[39m:], gateway_client)\n",
       "\u001b[1;32m    325\u001b[0m \u001b[38;5;28;01mif\u001b[39;00m answer[\u001b[38;5;241m1\u001b[39m] \u001b[38;5;241m==\u001b[39m REFERENCE_TYPE:\n",
       "\u001b[0;32m--> 326\u001b[0m     \u001b[38;5;28;01mraise\u001b[39;00m Py4JJavaError(\n",
       "\u001b[1;32m    327\u001b[0m         \u001b[38;5;124m\"\u001b[39m\u001b[38;5;124mAn error occurred while calling \u001b[39m\u001b[38;5;132;01m{0}\u001b[39;00m\u001b[38;5;132;01m{1}\u001b[39;00m\u001b[38;5;132;01m{2}\u001b[39;00m\u001b[38;5;124m.\u001b[39m\u001b[38;5;130;01m\\n\u001b[39;00m\u001b[38;5;124m\"\u001b[39m\u001b[38;5;241m.\u001b[39m\n",
       "\u001b[1;32m    328\u001b[0m         \u001b[38;5;28mformat\u001b[39m(target_id, \u001b[38;5;124m\"\u001b[39m\u001b[38;5;124m.\u001b[39m\u001b[38;5;124m\"\u001b[39m, name), value)\n",
       "\u001b[1;32m    329\u001b[0m \u001b[38;5;28;01melse\u001b[39;00m:\n",
       "\u001b[1;32m    330\u001b[0m     \u001b[38;5;28;01mraise\u001b[39;00m Py4JError(\n",
       "\u001b[1;32m    331\u001b[0m         \u001b[38;5;124m\"\u001b[39m\u001b[38;5;124mAn error occurred while calling \u001b[39m\u001b[38;5;132;01m{0}\u001b[39;00m\u001b[38;5;132;01m{1}\u001b[39;00m\u001b[38;5;132;01m{2}\u001b[39;00m\u001b[38;5;124m. Trace:\u001b[39m\u001b[38;5;130;01m\\n\u001b[39;00m\u001b[38;5;132;01m{3}\u001b[39;00m\u001b[38;5;130;01m\\n\u001b[39;00m\u001b[38;5;124m\"\u001b[39m\u001b[38;5;241m.\u001b[39m\n",
       "\u001b[1;32m    332\u001b[0m         \u001b[38;5;28mformat\u001b[39m(target_id, \u001b[38;5;124m\"\u001b[39m\u001b[38;5;124m.\u001b[39m\u001b[38;5;124m\"\u001b[39m, name, value))\n",
       "\n",
       "\u001b[0;31mPy4JJavaError\u001b[0m: An error occurred while calling o1263.count.\n",
       ": org.apache.spark.SparkException: Job aborted due to stage failure: Task 0 in stage 289.0 failed 4 times, most recent failure: Lost task 0.3 in stage 289.0 (TID 332) (10.139.64.5 executor 0): org.apache.spark.SparkUpgradeException: [INCONSISTENT_BEHAVIOR_CROSS_VERSION.PARSE_DATETIME_BY_NEW_PARSER] You may get a different result due to the upgrading to Spark >= 3.0:\n",
       "Fail to parse '19-Sep-12 0:47:01.179' in the new parser. You can set \"spark.sql.legacy.timeParserPolicy\" to \"LEGACY\" to restore the behavior before Spark 3.0, or set to \"CORRECTED\" and treat it as an invalid datetime string.\n",
       "\tat org.apache.spark.sql.errors.QueryExecutionErrors$.failToParseDateTimeInNewParserError(QueryExecutionErrors.scala:1597)\n",
       "\tat org.apache.spark.sql.catalyst.util.DateTimeFormatterHelper$$anonfun$checkParsedDiff$1.applyOrElse(DateTimeFormatterHelper.scala:148)\n",
       "\tat org.apache.spark.sql.catalyst.util.DateTimeFormatterHelper$$anonfun$checkParsedDiff$1.applyOrElse(DateTimeFormatterHelper.scala:141)\n",
       "\tat scala.runtime.AbstractPartialFunction.apply(AbstractPartialFunction.scala:38)\n",
       "\tat org.apache.spark.sql.catalyst.util.Iso8601TimestampFormatter.parse(TimestampFormatter.scala:195)\n",
       "\tat com.databricks.photon.NativeToTimestampWrapper.evalOutput(NativeToTimestampWrapper.java:73)\n",
       "\tat com.databricks.photon.NativeToTimestampWrapper.eval(NativeToTimestampWrapper.java:106)\n",
       "\tat 0x98e6282 <photon>.Eval(external/workspace_spark_3_4/photon/exprs/to-timestamp-expr.cc:133)\n",
       "\tat 0x6aff283 <photon>.Eval(external/workspace_spark_3_4/photon/exprs/unary-expr.h:66)\n",
       "\tat 0x6f7f4a3 <photon>.Eval(external/workspace_spark_3_4/photon/exprs/unary-expr.h:66)\n",
       "\tat 0x82fd9a4 <photon>.Eval(external/workspace_spark_3_4/photon/exprs/binary-expr.h:103)\n",
       "\tat 0x94bf7ec <photon>.Eval(external/workspace_spark_3_4/photon/exprs/logical-functions.cc:284)\n",
       "\tat 0x52db6b2 <photon>.HasNextImpl(external/workspace_spark_3_4/photon/exec-nodes/filter-node.cc:113)\n",
       "\tat 0x5219d37 <photon>.OpenImpl(external/workspace_spark_3_4/photon/exec-nodes/agg-node.cc:78)\n",
       "\tat 0x5219bac <photon>.OpenImpl(external/workspace_spark_3_4/photon/exec-nodes/shuffle-sink-node.cc:160)\n",
       "\tat com.databricks.photon.JniApiImpl.open(Native Method)\n",
       "\tat com.databricks.photon.JniApi.open(JniApi.scala)\n",
       "\tat com.databricks.photon.JniExecNode.open(JniExecNode.java:75)\n",
       "\tat com.databricks.photon.PhotonPreShuffleResultHandler.$anonfun$getResult$1(PhotonExec.scala:720)\n",
       "\tat scala.runtime.java8.JFunction0$mcV$sp.apply(JFunction0$mcV$sp.java:23)\n",
       "\tat com.databricks.photon.PhotonResultHandler.timeit(PhotonResultHandler.scala:30)\n",
       "\tat com.databricks.photon.PhotonResultHandler.timeit$(PhotonResultHandler.scala:28)\n",
       "\tat com.databricks.photon.PhotonPreShuffleResultHandler.timeit(PhotonExec.scala:713)\n",
       "\tat com.databricks.photon.PhotonPreShuffleResultHandler.getResult(PhotonExec.scala:720)\n",
       "\tat com.databricks.photon.PhotonBasicEvaluatorFactory$PhotonBasicEvaluator$$anon$1.hasNext(PhotonBasicEvaluatorFactory.scala:212)\n",
       "\tat com.databricks.photon.CloseableIterator$$anon$10.hasNext(CloseableIterator.scala:211)\n",
       "\tat scala.collection.Iterator$$anon$10.hasNext(Iterator.scala:460)\n",
       "\tat scala.collection.Iterator$$anon$10.hasNext(Iterator.scala:460)\n",
       "\tat com.databricks.photon.MetadataOnlyShuffleWriter.write(MetadataOnlyShuffleWriter.scala:50)\n",
       "\tat org.apache.spark.shuffle.ShuffleWriteProcessor.write(ShuffleWriteProcessor.scala:59)\n",
       "\tat org.apache.spark.scheduler.ShuffleMapTask.$anonfun$runTask$3(ShuffleMapTask.scala:88)\n",
       "\tat com.databricks.spark.util.ExecutorFrameProfiler$.record(ExecutorFrameProfiler.scala:110)\n",
       "\tat org.apache.spark.scheduler.ShuffleMapTask.$anonfun$runTask$1(ShuffleMapTask.scala:88)\n",
       "\tat com.databricks.spark.util.ExecutorFrameProfiler$.record(ExecutorFrameProfiler.scala:110)\n",
       "\tat org.apache.spark.scheduler.ShuffleMapTask.runTask(ShuffleMapTask.scala:60)\n",
       "\tat org.apache.spark.scheduler.ShuffleMapTask.runTask(ShuffleMapTask.scala:41)\n",
       "\tat org.apache.spark.TaskContext.runTaskWithListeners(TaskContext.scala:196)\n",
       "\tat org.apache.spark.scheduler.Task.doRunTask(Task.scala:181)\n",
       "\tat org.apache.spark.scheduler.Task.$anonfun$run$5(Task.scala:146)\n",
       "\tat com.databricks.unity.EmptyHandle$.runWithAndClose(UCSHandle.scala:129)\n",
       "\tat org.apache.spark.scheduler.Task.$anonfun$run$1(Task.scala:146)\n",
       "\tat com.databricks.spark.util.ExecutorFrameProfiler$.record(ExecutorFrameProfiler.scala:110)\n",
       "\tat org.apache.spark.scheduler.Task.run(Task.scala:99)\n",
       "\tat org.apache.spark.executor.Executor$TaskRunner.$anonfun$run$8(Executor.scala:899)\n",
       "\tat org.apache.spark.util.Utils$.tryWithSafeFinally(Utils.scala:1709)\n",
       "\tat org.apache.spark.executor.Executor$TaskRunner.$anonfun$run$3(Executor.scala:902)\n",
       "\tat scala.runtime.java8.JFunction0$mcV$sp.apply(JFunction0$mcV$sp.java:23)\n",
       "\tat com.databricks.spark.util.ExecutorFrameProfiler$.record(ExecutorFrameProfiler.scala:110)\n",
       "\tat org.apache.spark.executor.Executor$TaskRunner.run(Executor.scala:797)\n",
       "\tat java.util.concurrent.ThreadPoolExecutor.runWorker(ThreadPoolExecutor.java:1149)\n",
       "\tat java.util.concurrent.ThreadPoolExecutor$Worker.run(ThreadPoolExecutor.java:624)\n",
       "\tat java.lang.Thread.run(Thread.java:750)\n",
       "Caused by: java.time.format.DateTimeParseException: Text '19-Sep-12 0:47:01.179' could not be parsed at index 10\n",
       "\tat java.time.format.DateTimeFormatter.parseResolved0(DateTimeFormatter.java:1949)\n",
       "\tat java.time.format.DateTimeFormatter.parse(DateTimeFormatter.java:1777)\n",
       "\tat org.apache.spark.sql.catalyst.util.Iso8601TimestampFormatter.parse(TimestampFormatter.scala:193)\n",
       "\tat com.databricks.photon.NativeToTimestampWrapper.evalOutput(NativeToTimestampWrapper.java:73)\n",
       "\tat com.databricks.photon.NativeToTimestampWrapper.eval(NativeToTimestampWrapper.java:106)\n",
       "\t... 37 more\n",
       "\n",
       "Driver stacktrace:\n",
       "\tat org.apache.spark.scheduler.DAGScheduler.failJobAndIndependentStages(DAGScheduler.scala:3659)\n",
       "\tat org.apache.spark.scheduler.DAGScheduler.$anonfun$abortStage$2(DAGScheduler.scala:3581)\n",
       "\tat org.apache.spark.scheduler.DAGScheduler.$anonfun$abortStage$2$adapted(DAGScheduler.scala:3568)\n",
       "\tat scala.collection.mutable.ResizableArray.foreach(ResizableArray.scala:62)\n",
       "\tat scala.collection.mutable.ResizableArray.foreach$(ResizableArray.scala:55)\n",
       "\tat scala.collection.mutable.ArrayBuffer.foreach(ArrayBuffer.scala:49)\n",
       "\tat org.apache.spark.scheduler.DAGScheduler.abortStage(DAGScheduler.scala:3568)\n",
       "\tat org.apache.spark.scheduler.DAGScheduler.$anonfun$handleTaskSetFailed$1(DAGScheduler.scala:1535)\n",
       "\tat org.apache.spark.scheduler.DAGScheduler.$anonfun$handleTaskSetFailed$1$adapted(DAGScheduler.scala:1535)\n",
       "\tat scala.Option.foreach(Option.scala:407)\n",
       "\tat org.apache.spark.scheduler.DAGScheduler.handleTaskSetFailed(DAGScheduler.scala:1535)\n",
       "\tat org.apache.spark.scheduler.DAGSchedulerEventProcessLoop.doOnReceive(DAGScheduler.scala:3904)\n",
       "\tat org.apache.spark.scheduler.DAGSchedulerEventProcessLoop.onReceive(DAGScheduler.scala:3816)\n",
       "\tat org.apache.spark.scheduler.DAGSchedulerEventProcessLoop.onReceive(DAGScheduler.scala:3804)\n",
       "\tat org.apache.spark.util.EventLoop$$anon$1.run(EventLoop.scala:51)\n",
       "Caused by: org.apache.spark.SparkUpgradeException: [INCONSISTENT_BEHAVIOR_CROSS_VERSION.PARSE_DATETIME_BY_NEW_PARSER] You may get a different result due to the upgrading to Spark >= 3.0:\n",
       "Fail to parse '19-Sep-12 0:47:01.179' in the new parser. You can set \"spark.sql.legacy.timeParserPolicy\" to \"LEGACY\" to restore the behavior before Spark 3.0, or set to \"CORRECTED\" and treat it as an invalid datetime string.\n",
       "\tat org.apache.spark.sql.errors.QueryExecutionErrors$.failToParseDateTimeInNewParserError(QueryExecutionErrors.scala:1597)\n",
       "\tat org.apache.spark.sql.catalyst.util.DateTimeFormatterHelper$$anonfun$checkParsedDiff$1.applyOrElse(DateTimeFormatterHelper.scala:148)\n",
       "\tat org.apache.spark.sql.catalyst.util.DateTimeFormatterHelper$$anonfun$checkParsedDiff$1.applyOrElse(DateTimeFormatterHelper.scala:141)\n",
       "\tat scala.runtime.AbstractPartialFunction.apply(AbstractPartialFunction.scala:38)\n",
       "\tat org.apache.spark.sql.catalyst.util.Iso8601TimestampFormatter.parse(TimestampFormatter.scala:195)\n",
       "\tat com.databricks.photon.NativeToTimestampWrapper.evalOutput(NativeToTimestampWrapper.java:73)\n",
       "\tat com.databricks.photon.NativeToTimestampWrapper.eval(NativeToTimestampWrapper.java:106)\n",
       "\tat 0x98e6282 <photon>.Eval(external/workspace_spark_3_4/photon/exprs/to-timestamp-expr.cc:133)\n",
       "\tat 0x6aff283 <photon>.Eval(external/workspace_spark_3_4/photon/exprs/unary-expr.h:66)\n",
       "\tat 0x6f7f4a3 <photon>.Eval(external/workspace_spark_3_4/photon/exprs/unary-expr.h:66)\n",
       "\tat 0x82fd9a4 <photon>.Eval(external/workspace_spark_3_4/photon/exprs/binary-expr.h:103)\n",
       "\tat 0x94bf7ec <photon>.Eval(external/workspace_spark_3_4/photon/exprs/logical-functions.cc:284)\n",
       "\tat 0x52db6b2 <photon>.HasNextImpl(external/workspace_spark_3_4/photon/exec-nodes/filter-node.cc:113)\n",
       "\tat 0x5219d37 <photon>.OpenImpl(external/workspace_spark_3_4/photon/exec-nodes/agg-node.cc:78)\n",
       "\tat 0x5219bac <photon>.OpenImpl(external/workspace_spark_3_4/photon/exec-nodes/shuffle-sink-node.cc:160)\n",
       "\tat com.databricks.photon.JniApiImpl.open(Native Method)\n",
       "\tat com.databricks.photon.JniApi.open(JniApi.scala)\n",
       "\tat com.databricks.photon.JniExecNode.open(JniExecNode.java:75)\n",
       "\tat com.databricks.photon.PhotonPreShuffleResultHandler.$anonfun$getResult$1(PhotonExec.scala:720)\n",
       "\tat scala.runtime.java8.JFunction0$mcV$sp.apply(JFunction0$mcV$sp.java:23)\n",
       "\tat com.databricks.photon.PhotonResultHandler.timeit(PhotonResultHandler.scala:30)\n",
       "\tat com.databricks.photon.PhotonResultHandler.timeit$(PhotonResultHandler.scala:28)\n",
       "\tat com.databricks.photon.PhotonPreShuffleResultHandler.timeit(PhotonExec.scala:713)\n",
       "\tat com.databricks.photon.PhotonPreShuffleResultHandler.getResult(PhotonExec.scala:720)\n",
       "\tat com.databricks.photon.PhotonBasicEvaluatorFactory$PhotonBasicEvaluator$$anon$1.hasNext(PhotonBasicEvaluatorFactory.scala:212)\n",
       "\tat com.databricks.photon.CloseableIterator$$anon$10.hasNext(CloseableIterator.scala:211)\n",
       "\tat scala.collection.Iterator$$anon$10.hasNext(Iterator.scala:460)\n",
       "\tat scala.collection.Iterator$$anon$10.hasNext(Iterator.scala:460)\n",
       "\tat com.databricks.photon.MetadataOnlyShuffleWriter.write(MetadataOnlyShuffleWriter.scala:50)\n",
       "\tat org.apache.spark.shuffle.ShuffleWriteProcessor.write(ShuffleWriteProcessor.scala:59)\n",
       "\tat org.apache.spark.scheduler.ShuffleMapTask.$anonfun$runTask$3(ShuffleMapTask.scala:88)\n",
       "\tat com.databricks.spark.util.ExecutorFrameProfiler$.record(ExecutorFrameProfiler.scala:110)\n",
       "\tat org.apache.spark.scheduler.ShuffleMapTask.$anonfun$runTask$1(ShuffleMapTask.scala:88)\n",
       "\tat com.databricks.spark.util.ExecutorFrameProfiler$.record(ExecutorFrameProfiler.scala:110)\n",
       "\tat org.apache.spark.scheduler.ShuffleMapTask.runTask(ShuffleMapTask.scala:60)\n",
       "\tat org.apache.spark.scheduler.ShuffleMapTask.runTask(ShuffleMapTask.scala:41)\n",
       "\tat org.apache.spark.TaskContext.runTaskWithListeners(TaskContext.scala:196)\n",
       "\tat org.apache.spark.scheduler.Task.doRunTask(Task.scala:181)\n",
       "\tat org.apache.spark.scheduler.Task.$anonfun$run$5(Task.scala:146)\n",
       "\tat com.databricks.unity.EmptyHandle$.runWithAndClose(UCSHandle.scala:129)\n",
       "\tat org.apache.spark.scheduler.Task.$anonfun$run$1(Task.scala:146)\n",
       "\tat com.databricks.spark.util.ExecutorFrameProfiler$.record(ExecutorFrameProfiler.scala:110)\n",
       "\tat org.apache.spark.scheduler.Task.run(Task.scala:99)\n",
       "\tat org.apache.spark.executor.Executor$TaskRunner.$anonfun$run$8(Executor.scala:899)\n",
       "\tat org.apache.spark.util.Utils$.tryWithSafeFinally(Utils.scala:1709)\n",
       "\tat org.apache.spark.executor.Executor$TaskRunner.$anonfun$run$3(Executor.scala:902)\n",
       "\tat scala.runtime.java8.JFunction0$mcV$sp.apply(JFunction0$mcV$sp.java:23)\n",
       "\tat com.databricks.spark.util.ExecutorFrameProfiler$.record(ExecutorFrameProfiler.scala:110)\n",
       "\tat org.apache.spark.executor.Executor$TaskRunner.run(Executor.scala:797)\n",
       "\tat java.util.concurrent.ThreadPoolExecutor.runWorker(ThreadPoolExecutor.java:1149)\n",
       "\tat java.util.concurrent.ThreadPoolExecutor$Worker.run(ThreadPoolExecutor.java:624)\n",
       "\tat java.lang.Thread.run(Thread.java:750)\n",
       "Caused by: java.time.format.DateTimeParseException: Text '19-Sep-12 0:47:01.179' could not be parsed at index 10\n",
       "\tat java.time.format.DateTimeFormatter.parseResolved0(DateTimeFormatter.java:1949)\n",
       "\tat java.time.format.DateTimeFormatter.parse(DateTimeFormatter.java:1777)\n",
       "\tat org.apache.spark.sql.catalyst.util.Iso8601TimestampFormatter.parse(TimestampFormatter.scala:193)\n",
       "\tat com.databricks.photon.NativeToTimestampWrapper.evalOutput(NativeToTimestampWrapper.java:73)\n",
       "\tat com.databricks.photon.NativeToTimestampWrapper.eval(NativeToTimestampWrapper.java:106)\n",
       "\t... 37 more\n"
      ]
     },
     "metadata": {
      "application/vnd.databricks.v1+output": {
       "arguments": {},
       "data": "\u001b[0;31m---------------------------------------------------------------------------\u001b[0m\n\u001b[0;31mPy4JJavaError\u001b[0m                             Traceback (most recent call last)\nFile \u001b[0;32m<command-2817531399402343>, line 4\u001b[0m\n\u001b[1;32m      1\u001b[0m \u001b[38;5;28;01mfrom\u001b[39;00m \u001b[38;5;21;01mpyspark\u001b[39;00m\u001b[38;5;21;01m.\u001b[39;00m\u001b[38;5;21;01msql\u001b[39;00m\u001b[38;5;21;01m.\u001b[39;00m\u001b[38;5;21;01mfunctions\u001b[39;00m \u001b[38;5;28;01mimport\u001b[39;00m \u001b[38;5;28mmax\u001b[39m\n\u001b[1;32m      3\u001b[0m tmp \u001b[38;5;241m=\u001b[39m Softix_Tnums\u001b[38;5;241m.\u001b[39mfilter(col(\u001b[38;5;124m'\u001b[39m\u001b[38;5;124mAnio_compra\u001b[39m\u001b[38;5;124m'\u001b[39m) \u001b[38;5;241m==\u001b[39m \u001b[38;5;124m'\u001b[39m\u001b[38;5;124m2014\u001b[39m\u001b[38;5;124m'\u001b[39m)\u001b[38;5;66;03m#.select(max('Fecha_compra'))\u001b[39;00m\n\u001b[0;32m----> 4\u001b[0m \u001b[38;5;28mprint\u001b[39m(tmp\u001b[38;5;241m.\u001b[39mcount())\n\u001b[1;32m      5\u001b[0m \u001b[38;5;66;03m#display(tmp)\u001b[39;00m\n\nFile \u001b[0;32m/databricks/spark/python/pyspark/instrumentation_utils.py:48\u001b[0m, in \u001b[0;36m_wrap_function.<locals>.wrapper\u001b[0;34m(*args, **kwargs)\u001b[0m\n\u001b[1;32m     46\u001b[0m start \u001b[38;5;241m=\u001b[39m time\u001b[38;5;241m.\u001b[39mperf_counter()\n\u001b[1;32m     47\u001b[0m \u001b[38;5;28;01mtry\u001b[39;00m:\n\u001b[0;32m---> 48\u001b[0m     res \u001b[38;5;241m=\u001b[39m \u001b[43mfunc\u001b[49m\u001b[43m(\u001b[49m\u001b[38;5;241;43m*\u001b[39;49m\u001b[43margs\u001b[49m\u001b[43m,\u001b[49m\u001b[43m \u001b[49m\u001b[38;5;241;43m*\u001b[39;49m\u001b[38;5;241;43m*\u001b[39;49m\u001b[43mkwargs\u001b[49m\u001b[43m)\u001b[49m\n\u001b[1;32m     49\u001b[0m     logger\u001b[38;5;241m.\u001b[39mlog_success(\n\u001b[1;32m     50\u001b[0m         module_name, class_name, function_name, time\u001b[38;5;241m.\u001b[39mperf_counter() \u001b[38;5;241m-\u001b[39m start, signature\n\u001b[1;32m     51\u001b[0m     )\n\u001b[1;32m     52\u001b[0m     \u001b[38;5;28;01mreturn\u001b[39;00m res\n\nFile \u001b[0;32m/databricks/spark/python/pyspark/sql/dataframe.py:1206\u001b[0m, in \u001b[0;36mDataFrame.count\u001b[0;34m(self)\u001b[0m\n\u001b[1;32m   1183\u001b[0m \u001b[38;5;28;01mdef\u001b[39;00m \u001b[38;5;21mcount\u001b[39m(\u001b[38;5;28mself\u001b[39m) \u001b[38;5;241m-\u001b[39m\u001b[38;5;241m>\u001b[39m \u001b[38;5;28mint\u001b[39m:\n\u001b[1;32m   1184\u001b[0m     \u001b[38;5;124;03m\"\"\"Returns the number of rows in this :class:`DataFrame`.\u001b[39;00m\n\u001b[1;32m   1185\u001b[0m \n\u001b[1;32m   1186\u001b[0m \u001b[38;5;124;03m    .. versionadded:: 1.3.0\u001b[39;00m\n\u001b[0;32m   (...)\u001b[0m\n\u001b[1;32m   1204\u001b[0m \u001b[38;5;124;03m    3\u001b[39;00m\n\u001b[1;32m   1205\u001b[0m \u001b[38;5;124;03m    \"\"\"\u001b[39;00m\n\u001b[0;32m-> 1206\u001b[0m     \u001b[38;5;28;01mreturn\u001b[39;00m \u001b[38;5;28mint\u001b[39m(\u001b[38;5;28;43mself\u001b[39;49m\u001b[38;5;241;43m.\u001b[39;49m\u001b[43m_jdf\u001b[49m\u001b[38;5;241;43m.\u001b[39;49m\u001b[43mcount\u001b[49m\u001b[43m(\u001b[49m\u001b[43m)\u001b[49m)\n\nFile \u001b[0;32m/databricks/spark/python/lib/py4j-0.10.9.7-src.zip/py4j/java_gateway.py:1355\u001b[0m, in \u001b[0;36mJavaMember.__call__\u001b[0;34m(self, *args)\u001b[0m\n\u001b[1;32m   1349\u001b[0m command \u001b[38;5;241m=\u001b[39m proto\u001b[38;5;241m.\u001b[39mCALL_COMMAND_NAME \u001b[38;5;241m+\u001b[39m\\\n\u001b[1;32m   1350\u001b[0m     \u001b[38;5;28mself\u001b[39m\u001b[38;5;241m.\u001b[39mcommand_header \u001b[38;5;241m+\u001b[39m\\\n\u001b[1;32m   1351\u001b[0m     args_command \u001b[38;5;241m+\u001b[39m\\\n\u001b[1;32m   1352\u001b[0m     proto\u001b[38;5;241m.\u001b[39mEND_COMMAND_PART\n\u001b[1;32m   1354\u001b[0m answer \u001b[38;5;241m=\u001b[39m \u001b[38;5;28mself\u001b[39m\u001b[38;5;241m.\u001b[39mgateway_client\u001b[38;5;241m.\u001b[39msend_command(command)\n\u001b[0;32m-> 1355\u001b[0m return_value \u001b[38;5;241m=\u001b[39m \u001b[43mget_return_value\u001b[49m\u001b[43m(\u001b[49m\n\u001b[1;32m   1356\u001b[0m \u001b[43m    \u001b[49m\u001b[43manswer\u001b[49m\u001b[43m,\u001b[49m\u001b[43m \u001b[49m\u001b[38;5;28;43mself\u001b[39;49m\u001b[38;5;241;43m.\u001b[39;49m\u001b[43mgateway_client\u001b[49m\u001b[43m,\u001b[49m\u001b[43m \u001b[49m\u001b[38;5;28;43mself\u001b[39;49m\u001b[38;5;241;43m.\u001b[39;49m\u001b[43mtarget_id\u001b[49m\u001b[43m,\u001b[49m\u001b[43m \u001b[49m\u001b[38;5;28;43mself\u001b[39;49m\u001b[38;5;241;43m.\u001b[39;49m\u001b[43mname\u001b[49m\u001b[43m)\u001b[49m\n\u001b[1;32m   1358\u001b[0m \u001b[38;5;28;01mfor\u001b[39;00m temp_arg \u001b[38;5;129;01min\u001b[39;00m temp_args:\n\u001b[1;32m   1359\u001b[0m     \u001b[38;5;28;01mif\u001b[39;00m \u001b[38;5;28mhasattr\u001b[39m(temp_arg, \u001b[38;5;124m\"\u001b[39m\u001b[38;5;124m_detach\u001b[39m\u001b[38;5;124m\"\u001b[39m):\n\nFile \u001b[0;32m/databricks/spark/python/pyspark/errors/exceptions/captured.py:188\u001b[0m, in \u001b[0;36mcapture_sql_exception.<locals>.deco\u001b[0;34m(*a, **kw)\u001b[0m\n\u001b[1;32m    186\u001b[0m \u001b[38;5;28;01mdef\u001b[39;00m \u001b[38;5;21mdeco\u001b[39m(\u001b[38;5;241m*\u001b[39ma: Any, \u001b[38;5;241m*\u001b[39m\u001b[38;5;241m*\u001b[39mkw: Any) \u001b[38;5;241m-\u001b[39m\u001b[38;5;241m>\u001b[39m Any:\n\u001b[1;32m    187\u001b[0m     \u001b[38;5;28;01mtry\u001b[39;00m:\n\u001b[0;32m--> 188\u001b[0m         \u001b[38;5;28;01mreturn\u001b[39;00m \u001b[43mf\u001b[49m\u001b[43m(\u001b[49m\u001b[38;5;241;43m*\u001b[39;49m\u001b[43ma\u001b[49m\u001b[43m,\u001b[49m\u001b[43m \u001b[49m\u001b[38;5;241;43m*\u001b[39;49m\u001b[38;5;241;43m*\u001b[39;49m\u001b[43mkw\u001b[49m\u001b[43m)\u001b[49m\n\u001b[1;32m    189\u001b[0m     \u001b[38;5;28;01mexcept\u001b[39;00m Py4JJavaError \u001b[38;5;28;01mas\u001b[39;00m e:\n\u001b[1;32m    190\u001b[0m         converted \u001b[38;5;241m=\u001b[39m convert_exception(e\u001b[38;5;241m.\u001b[39mjava_exception)\n\nFile \u001b[0;32m/databricks/spark/python/lib/py4j-0.10.9.7-src.zip/py4j/protocol.py:326\u001b[0m, in \u001b[0;36mget_return_value\u001b[0;34m(answer, gateway_client, target_id, name)\u001b[0m\n\u001b[1;32m    324\u001b[0m value \u001b[38;5;241m=\u001b[39m OUTPUT_CONVERTER[\u001b[38;5;28mtype\u001b[39m](answer[\u001b[38;5;241m2\u001b[39m:], gateway_client)\n\u001b[1;32m    325\u001b[0m \u001b[38;5;28;01mif\u001b[39;00m answer[\u001b[38;5;241m1\u001b[39m] \u001b[38;5;241m==\u001b[39m REFERENCE_TYPE:\n\u001b[0;32m--> 326\u001b[0m     \u001b[38;5;28;01mraise\u001b[39;00m Py4JJavaError(\n\u001b[1;32m    327\u001b[0m         \u001b[38;5;124m\"\u001b[39m\u001b[38;5;124mAn error occurred while calling \u001b[39m\u001b[38;5;132;01m{0}\u001b[39;00m\u001b[38;5;132;01m{1}\u001b[39;00m\u001b[38;5;132;01m{2}\u001b[39;00m\u001b[38;5;124m.\u001b[39m\u001b[38;5;130;01m\\n\u001b[39;00m\u001b[38;5;124m\"\u001b[39m\u001b[38;5;241m.\u001b[39m\n\u001b[1;32m    328\u001b[0m         \u001b[38;5;28mformat\u001b[39m(target_id, \u001b[38;5;124m\"\u001b[39m\u001b[38;5;124m.\u001b[39m\u001b[38;5;124m\"\u001b[39m, name), value)\n\u001b[1;32m    329\u001b[0m \u001b[38;5;28;01melse\u001b[39;00m:\n\u001b[1;32m    330\u001b[0m     \u001b[38;5;28;01mraise\u001b[39;00m Py4JError(\n\u001b[1;32m    331\u001b[0m         \u001b[38;5;124m\"\u001b[39m\u001b[38;5;124mAn error occurred while calling \u001b[39m\u001b[38;5;132;01m{0}\u001b[39;00m\u001b[38;5;132;01m{1}\u001b[39;00m\u001b[38;5;132;01m{2}\u001b[39;00m\u001b[38;5;124m. Trace:\u001b[39m\u001b[38;5;130;01m\\n\u001b[39;00m\u001b[38;5;132;01m{3}\u001b[39;00m\u001b[38;5;130;01m\\n\u001b[39;00m\u001b[38;5;124m\"\u001b[39m\u001b[38;5;241m.\u001b[39m\n\u001b[1;32m    332\u001b[0m         \u001b[38;5;28mformat\u001b[39m(target_id, \u001b[38;5;124m\"\u001b[39m\u001b[38;5;124m.\u001b[39m\u001b[38;5;124m\"\u001b[39m, name, value))\n\n\u001b[0;31mPy4JJavaError\u001b[0m: An error occurred while calling o1263.count.\n: org.apache.spark.SparkException: Job aborted due to stage failure: Task 0 in stage 289.0 failed 4 times, most recent failure: Lost task 0.3 in stage 289.0 (TID 332) (10.139.64.5 executor 0): org.apache.spark.SparkUpgradeException: [INCONSISTENT_BEHAVIOR_CROSS_VERSION.PARSE_DATETIME_BY_NEW_PARSER] You may get a different result due to the upgrading to Spark >= 3.0:\nFail to parse '19-Sep-12 0:47:01.179' in the new parser. You can set \"spark.sql.legacy.timeParserPolicy\" to \"LEGACY\" to restore the behavior before Spark 3.0, or set to \"CORRECTED\" and treat it as an invalid datetime string.\n\tat org.apache.spark.sql.errors.QueryExecutionErrors$.failToParseDateTimeInNewParserError(QueryExecutionErrors.scala:1597)\n\tat org.apache.spark.sql.catalyst.util.DateTimeFormatterHelper$$anonfun$checkParsedDiff$1.applyOrElse(DateTimeFormatterHelper.scala:148)\n\tat org.apache.spark.sql.catalyst.util.DateTimeFormatterHelper$$anonfun$checkParsedDiff$1.applyOrElse(DateTimeFormatterHelper.scala:141)\n\tat scala.runtime.AbstractPartialFunction.apply(AbstractPartialFunction.scala:38)\n\tat org.apache.spark.sql.catalyst.util.Iso8601TimestampFormatter.parse(TimestampFormatter.scala:195)\n\tat com.databricks.photon.NativeToTimestampWrapper.evalOutput(NativeToTimestampWrapper.java:73)\n\tat com.databricks.photon.NativeToTimestampWrapper.eval(NativeToTimestampWrapper.java:106)\n\tat 0x98e6282 <photon>.Eval(external/workspace_spark_3_4/photon/exprs/to-timestamp-expr.cc:133)\n\tat 0x6aff283 <photon>.Eval(external/workspace_spark_3_4/photon/exprs/unary-expr.h:66)\n\tat 0x6f7f4a3 <photon>.Eval(external/workspace_spark_3_4/photon/exprs/unary-expr.h:66)\n\tat 0x82fd9a4 <photon>.Eval(external/workspace_spark_3_4/photon/exprs/binary-expr.h:103)\n\tat 0x94bf7ec <photon>.Eval(external/workspace_spark_3_4/photon/exprs/logical-functions.cc:284)\n\tat 0x52db6b2 <photon>.HasNextImpl(external/workspace_spark_3_4/photon/exec-nodes/filter-node.cc:113)\n\tat 0x5219d37 <photon>.OpenImpl(external/workspace_spark_3_4/photon/exec-nodes/agg-node.cc:78)\n\tat 0x5219bac <photon>.OpenImpl(external/workspace_spark_3_4/photon/exec-nodes/shuffle-sink-node.cc:160)\n\tat com.databricks.photon.JniApiImpl.open(Native Method)\n\tat com.databricks.photon.JniApi.open(JniApi.scala)\n\tat com.databricks.photon.JniExecNode.open(JniExecNode.java:75)\n\tat com.databricks.photon.PhotonPreShuffleResultHandler.$anonfun$getResult$1(PhotonExec.scala:720)\n\tat scala.runtime.java8.JFunction0$mcV$sp.apply(JFunction0$mcV$sp.java:23)\n\tat com.databricks.photon.PhotonResultHandler.timeit(PhotonResultHandler.scala:30)\n\tat com.databricks.photon.PhotonResultHandler.timeit$(PhotonResultHandler.scala:28)\n\tat com.databricks.photon.PhotonPreShuffleResultHandler.timeit(PhotonExec.scala:713)\n\tat com.databricks.photon.PhotonPreShuffleResultHandler.getResult(PhotonExec.scala:720)\n\tat com.databricks.photon.PhotonBasicEvaluatorFactory$PhotonBasicEvaluator$$anon$1.hasNext(PhotonBasicEvaluatorFactory.scala:212)\n\tat com.databricks.photon.CloseableIterator$$anon$10.hasNext(CloseableIterator.scala:211)\n\tat scala.collection.Iterator$$anon$10.hasNext(Iterator.scala:460)\n\tat scala.collection.Iterator$$anon$10.hasNext(Iterator.scala:460)\n\tat com.databricks.photon.MetadataOnlyShuffleWriter.write(MetadataOnlyShuffleWriter.scala:50)\n\tat org.apache.spark.shuffle.ShuffleWriteProcessor.write(ShuffleWriteProcessor.scala:59)\n\tat org.apache.spark.scheduler.ShuffleMapTask.$anonfun$runTask$3(ShuffleMapTask.scala:88)\n\tat com.databricks.spark.util.ExecutorFrameProfiler$.record(ExecutorFrameProfiler.scala:110)\n\tat org.apache.spark.scheduler.ShuffleMapTask.$anonfun$runTask$1(ShuffleMapTask.scala:88)\n\tat com.databricks.spark.util.ExecutorFrameProfiler$.record(ExecutorFrameProfiler.scala:110)\n\tat org.apache.spark.scheduler.ShuffleMapTask.runTask(ShuffleMapTask.scala:60)\n\tat org.apache.spark.scheduler.ShuffleMapTask.runTask(ShuffleMapTask.scala:41)\n\tat org.apache.spark.TaskContext.runTaskWithListeners(TaskContext.scala:196)\n\tat org.apache.spark.scheduler.Task.doRunTask(Task.scala:181)\n\tat org.apache.spark.scheduler.Task.$anonfun$run$5(Task.scala:146)\n\tat com.databricks.unity.EmptyHandle$.runWithAndClose(UCSHandle.scala:129)\n\tat org.apache.spark.scheduler.Task.$anonfun$run$1(Task.scala:146)\n\tat com.databricks.spark.util.ExecutorFrameProfiler$.record(ExecutorFrameProfiler.scala:110)\n\tat org.apache.spark.scheduler.Task.run(Task.scala:99)\n\tat org.apache.spark.executor.Executor$TaskRunner.$anonfun$run$8(Executor.scala:899)\n\tat org.apache.spark.util.Utils$.tryWithSafeFinally(Utils.scala:1709)\n\tat org.apache.spark.executor.Executor$TaskRunner.$anonfun$run$3(Executor.scala:902)\n\tat scala.runtime.java8.JFunction0$mcV$sp.apply(JFunction0$mcV$sp.java:23)\n\tat com.databricks.spark.util.ExecutorFrameProfiler$.record(ExecutorFrameProfiler.scala:110)\n\tat org.apache.spark.executor.Executor$TaskRunner.run(Executor.scala:797)\n\tat java.util.concurrent.ThreadPoolExecutor.runWorker(ThreadPoolExecutor.java:1149)\n\tat java.util.concurrent.ThreadPoolExecutor$Worker.run(ThreadPoolExecutor.java:624)\n\tat java.lang.Thread.run(Thread.java:750)\nCaused by: java.time.format.DateTimeParseException: Text '19-Sep-12 0:47:01.179' could not be parsed at index 10\n\tat java.time.format.DateTimeFormatter.parseResolved0(DateTimeFormatter.java:1949)\n\tat java.time.format.DateTimeFormatter.parse(DateTimeFormatter.java:1777)\n\tat org.apache.spark.sql.catalyst.util.Iso8601TimestampFormatter.parse(TimestampFormatter.scala:193)\n\tat com.databricks.photon.NativeToTimestampWrapper.evalOutput(NativeToTimestampWrapper.java:73)\n\tat com.databricks.photon.NativeToTimestampWrapper.eval(NativeToTimestampWrapper.java:106)\n\t... 37 more\n\nDriver stacktrace:\n\tat org.apache.spark.scheduler.DAGScheduler.failJobAndIndependentStages(DAGScheduler.scala:3659)\n\tat org.apache.spark.scheduler.DAGScheduler.$anonfun$abortStage$2(DAGScheduler.scala:3581)\n\tat org.apache.spark.scheduler.DAGScheduler.$anonfun$abortStage$2$adapted(DAGScheduler.scala:3568)\n\tat scala.collection.mutable.ResizableArray.foreach(ResizableArray.scala:62)\n\tat scala.collection.mutable.ResizableArray.foreach$(ResizableArray.scala:55)\n\tat scala.collection.mutable.ArrayBuffer.foreach(ArrayBuffer.scala:49)\n\tat org.apache.spark.scheduler.DAGScheduler.abortStage(DAGScheduler.scala:3568)\n\tat org.apache.spark.scheduler.DAGScheduler.$anonfun$handleTaskSetFailed$1(DAGScheduler.scala:1535)\n\tat org.apache.spark.scheduler.DAGScheduler.$anonfun$handleTaskSetFailed$1$adapted(DAGScheduler.scala:1535)\n\tat scala.Option.foreach(Option.scala:407)\n\tat org.apache.spark.scheduler.DAGScheduler.handleTaskSetFailed(DAGScheduler.scala:1535)\n\tat org.apache.spark.scheduler.DAGSchedulerEventProcessLoop.doOnReceive(DAGScheduler.scala:3904)\n\tat org.apache.spark.scheduler.DAGSchedulerEventProcessLoop.onReceive(DAGScheduler.scala:3816)\n\tat org.apache.spark.scheduler.DAGSchedulerEventProcessLoop.onReceive(DAGScheduler.scala:3804)\n\tat org.apache.spark.util.EventLoop$$anon$1.run(EventLoop.scala:51)\nCaused by: org.apache.spark.SparkUpgradeException: [INCONSISTENT_BEHAVIOR_CROSS_VERSION.PARSE_DATETIME_BY_NEW_PARSER] You may get a different result due to the upgrading to Spark >= 3.0:\nFail to parse '19-Sep-12 0:47:01.179' in the new parser. You can set \"spark.sql.legacy.timeParserPolicy\" to \"LEGACY\" to restore the behavior before Spark 3.0, or set to \"CORRECTED\" and treat it as an invalid datetime string.\n\tat org.apache.spark.sql.errors.QueryExecutionErrors$.failToParseDateTimeInNewParserError(QueryExecutionErrors.scala:1597)\n\tat org.apache.spark.sql.catalyst.util.DateTimeFormatterHelper$$anonfun$checkParsedDiff$1.applyOrElse(DateTimeFormatterHelper.scala:148)\n\tat org.apache.spark.sql.catalyst.util.DateTimeFormatterHelper$$anonfun$checkParsedDiff$1.applyOrElse(DateTimeFormatterHelper.scala:141)\n\tat scala.runtime.AbstractPartialFunction.apply(AbstractPartialFunction.scala:38)\n\tat org.apache.spark.sql.catalyst.util.Iso8601TimestampFormatter.parse(TimestampFormatter.scala:195)\n\tat com.databricks.photon.NativeToTimestampWrapper.evalOutput(NativeToTimestampWrapper.java:73)\n\tat com.databricks.photon.NativeToTimestampWrapper.eval(NativeToTimestampWrapper.java:106)\n\tat 0x98e6282 <photon>.Eval(external/workspace_spark_3_4/photon/exprs/to-timestamp-expr.cc:133)\n\tat 0x6aff283 <photon>.Eval(external/workspace_spark_3_4/photon/exprs/unary-expr.h:66)\n\tat 0x6f7f4a3 <photon>.Eval(external/workspace_spark_3_4/photon/exprs/unary-expr.h:66)\n\tat 0x82fd9a4 <photon>.Eval(external/workspace_spark_3_4/photon/exprs/binary-expr.h:103)\n\tat 0x94bf7ec <photon>.Eval(external/workspace_spark_3_4/photon/exprs/logical-functions.cc:284)\n\tat 0x52db6b2 <photon>.HasNextImpl(external/workspace_spark_3_4/photon/exec-nodes/filter-node.cc:113)\n\tat 0x5219d37 <photon>.OpenImpl(external/workspace_spark_3_4/photon/exec-nodes/agg-node.cc:78)\n\tat 0x5219bac <photon>.OpenImpl(external/workspace_spark_3_4/photon/exec-nodes/shuffle-sink-node.cc:160)\n\tat com.databricks.photon.JniApiImpl.open(Native Method)\n\tat com.databricks.photon.JniApi.open(JniApi.scala)\n\tat com.databricks.photon.JniExecNode.open(JniExecNode.java:75)\n\tat com.databricks.photon.PhotonPreShuffleResultHandler.$anonfun$getResult$1(PhotonExec.scala:720)\n\tat scala.runtime.java8.JFunction0$mcV$sp.apply(JFunction0$mcV$sp.java:23)\n\tat com.databricks.photon.PhotonResultHandler.timeit(PhotonResultHandler.scala:30)\n\tat com.databricks.photon.PhotonResultHandler.timeit$(PhotonResultHandler.scala:28)\n\tat com.databricks.photon.PhotonPreShuffleResultHandler.timeit(PhotonExec.scala:713)\n\tat com.databricks.photon.PhotonPreShuffleResultHandler.getResult(PhotonExec.scala:720)\n\tat com.databricks.photon.PhotonBasicEvaluatorFactory$PhotonBasicEvaluator$$anon$1.hasNext(PhotonBasicEvaluatorFactory.scala:212)\n\tat com.databricks.photon.CloseableIterator$$anon$10.hasNext(CloseableIterator.scala:211)\n\tat scala.collection.Iterator$$anon$10.hasNext(Iterator.scala:460)\n\tat scala.collection.Iterator$$anon$10.hasNext(Iterator.scala:460)\n\tat com.databricks.photon.MetadataOnlyShuffleWriter.write(MetadataOnlyShuffleWriter.scala:50)\n\tat org.apache.spark.shuffle.ShuffleWriteProcessor.write(ShuffleWriteProcessor.scala:59)\n\tat org.apache.spark.scheduler.ShuffleMapTask.$anonfun$runTask$3(ShuffleMapTask.scala:88)\n\tat com.databricks.spark.util.ExecutorFrameProfiler$.record(ExecutorFrameProfiler.scala:110)\n\tat org.apache.spark.scheduler.ShuffleMapTask.$anonfun$runTask$1(ShuffleMapTask.scala:88)\n\tat com.databricks.spark.util.ExecutorFrameProfiler$.record(ExecutorFrameProfiler.scala:110)\n\tat org.apache.spark.scheduler.ShuffleMapTask.runTask(ShuffleMapTask.scala:60)\n\tat org.apache.spark.scheduler.ShuffleMapTask.runTask(ShuffleMapTask.scala:41)\n\tat org.apache.spark.TaskContext.runTaskWithListeners(TaskContext.scala:196)\n\tat org.apache.spark.scheduler.Task.doRunTask(Task.scala:181)\n\tat org.apache.spark.scheduler.Task.$anonfun$run$5(Task.scala:146)\n\tat com.databricks.unity.EmptyHandle$.runWithAndClose(UCSHandle.scala:129)\n\tat org.apache.spark.scheduler.Task.$anonfun$run$1(Task.scala:146)\n\tat com.databricks.spark.util.ExecutorFrameProfiler$.record(ExecutorFrameProfiler.scala:110)\n\tat org.apache.spark.scheduler.Task.run(Task.scala:99)\n\tat org.apache.spark.executor.Executor$TaskRunner.$anonfun$run$8(Executor.scala:899)\n\tat org.apache.spark.util.Utils$.tryWithSafeFinally(Utils.scala:1709)\n\tat org.apache.spark.executor.Executor$TaskRunner.$anonfun$run$3(Executor.scala:902)\n\tat scala.runtime.java8.JFunction0$mcV$sp.apply(JFunction0$mcV$sp.java:23)\n\tat com.databricks.spark.util.ExecutorFrameProfiler$.record(ExecutorFrameProfiler.scala:110)\n\tat org.apache.spark.executor.Executor$TaskRunner.run(Executor.scala:797)\n\tat java.util.concurrent.ThreadPoolExecutor.runWorker(ThreadPoolExecutor.java:1149)\n\tat java.util.concurrent.ThreadPoolExecutor$Worker.run(ThreadPoolExecutor.java:624)\n\tat java.lang.Thread.run(Thread.java:750)\nCaused by: java.time.format.DateTimeParseException: Text '19-Sep-12 0:47:01.179' could not be parsed at index 10\n\tat java.time.format.DateTimeFormatter.parseResolved0(DateTimeFormatter.java:1949)\n\tat java.time.format.DateTimeFormatter.parse(DateTimeFormatter.java:1777)\n\tat org.apache.spark.sql.catalyst.util.Iso8601TimestampFormatter.parse(TimestampFormatter.scala:193)\n\tat com.databricks.photon.NativeToTimestampWrapper.evalOutput(NativeToTimestampWrapper.java:73)\n\tat com.databricks.photon.NativeToTimestampWrapper.eval(NativeToTimestampWrapper.java:106)\n\t... 37 more\n",
       "errorSummary": "org.apache.spark.SparkException: Job aborted due to stage failure: Task 0 in stage 289.0 failed 4 times, most recent failure: Lost task 0.3 in stage 289.0 (TID 332) (10.139.64.5 executor 0): org.apache.spark.SparkUpgradeException: [INCONSISTENT_BEHAVIOR_CROSS_VERSION.PARSE_DATETIME_BY_NEW_PARSER] You may get a different result due to the upgrading to Spark >= 3.0:",
       "errorTraceType": "ansi",
       "metadata": {},
       "type": "ipynbError"
      }
     },
     "output_type": "display_data"
    }
   ],
   "source": [
    "# from pyspark.sql.functions import max\n",
    "\n",
    "# tmp = Softix_Tnums.filter(col('Anio_compra') == '2014')#.select(max('Fecha_compra'))\n",
    "# print(tmp.count())\n",
    "# #display(tmp)"
   ]
  },
  {
   "cell_type": "code",
   "execution_count": null,
   "metadata": {
    "application/vnd.databricks.v1+cell": {
     "cellMetadata": {
      "byteLimit": 2048000,
      "rowLimit": 10000
     },
     "inputWidgets": {},
     "nuid": "b035a65f-432d-44c4-af18-1e1c1799ccab",
     "showTitle": false,
     "title": ""
    }
   },
   "outputs": [],
   "source": [
    "# tmp = Softix_Accounts.filter(col('Id_cliente') == '|0')\n",
    "# #print(tmp.count())\n",
    "# display(tmp)"
   ]
  },
  {
   "cell_type": "code",
   "execution_count": null,
   "metadata": {
    "application/vnd.databricks.v1+cell": {
     "cellMetadata": {
      "byteLimit": 2048000,
      "rowLimit": 10000
     },
     "inputWidgets": {},
     "nuid": "4e9dcdaa-3348-4a1b-9fdd-dadd7fe0d4bd",
     "showTitle": true,
     "title": "AJUSTE CIUDAD CLIENTE"
    }
   },
   "outputs": [
    {
     "name": "stdout",
     "output_type": "stream",
     "text": [
      "36441\n"
     ]
    }
   ],
   "source": [
    "# print(Softix_Accounts.count())\n",
    "dirty_cities = Softix_Accounts.groupBy(\"City\").count().orderBy(col(\"count\").desc())#.\\\n",
    "print(dirty_cities.count())\n",
    "dirty_cities = dirty_cities.toPandas()"
   ]
  },
  {
   "cell_type": "code",
   "execution_count": null,
   "metadata": {
    "application/vnd.databricks.v1+cell": {
     "cellMetadata": {
      "byteLimit": 2048000,
      "rowLimit": 10000
     },
     "inputWidgets": {},
     "nuid": "43dc92fc-6d10-4c0b-9518-c6ebc3ff3057",
     "showTitle": false,
     "title": ""
    }
   },
   "outputs": [],
   "source": [
    "# #tmp = Softix_Accounts.select('City').distinct().orderBy(col(\"City\").desc())\n",
    "# tmp = Softix_Accounts.groupBy(\"City\").count().orderBy(col(\"count\").desc()).filter(col('count') >= 100)#.\\\n",
    "# print(tmp.count())\n",
    "# display(tmp)"
   ]
  },
  {
   "cell_type": "code",
   "execution_count": null,
   "metadata": {
    "application/vnd.databricks.v1+cell": {
     "cellMetadata": {
      "byteLimit": 2048000,
      "rowLimit": 10000
     },
     "inputWidgets": {},
     "nuid": "4a89158e-ca21-49a3-9103-ca0a46cbe36a",
     "showTitle": false,
     "title": ""
    }
   },
   "outputs": [
    {
     "name": "stdout",
     "output_type": "stream",
     "text": [
      "City             36441\n",
      "count            36441\n",
      "Codigo Postal        3\n",
      "Ciudad           36441\n",
      "dtype: int64\n",
      "['' 'BTA' 'BOGOTA BOGOT?DC' ... 'LEIPZIG SACHSEN' 'DAFSDFSADF'\n",
      " 'MEDE POBLADO']\n"
     ]
    }
   ],
   "source": [
    "## Transformacion 1: Codigos postales\n",
    "\n",
    "# left join de dirty_cities con codigo postal\n",
    "cities_ = pd.merge(dirty_cities, codpost[['Codigo Postal', 'Ciudad']],\\\n",
    "                          left_on='City', right_on= codpost['Codigo Postal'].astype(str),\\\n",
    "                          how='left')\n",
    "\n",
    "# Rellenar los valores nulos en 'Ciudad' con los valores de 'MAIN_ADDR_TOWN'\n",
    "cities_['Ciudad'].fillna(cities_['City'], inplace=True)\n",
    "\n",
    "print(cities_.count())\n",
    "print(cities_['Ciudad'].unique())"
   ]
  },
  {
   "cell_type": "code",
   "execution_count": null,
   "metadata": {
    "application/vnd.databricks.v1+cell": {
     "cellMetadata": {
      "byteLimit": 2048000,
      "rowLimit": 10000
     },
     "inputWidgets": {},
     "nuid": "80a7c6ab-4107-4998-adfd-c72fd508223c",
     "showTitle": false,
     "title": ""
    }
   },
   "outputs": [],
   "source": [
    "# # Filtrar el DataFrame\n",
    "# resultado_filtrado = cities_[cities_['Codigo Postal'].notnull()]\n",
    "# print(resultado_filtrado.head(5))"
   ]
  },
  {
   "cell_type": "code",
   "execution_count": null,
   "metadata": {
    "application/vnd.databricks.v1+cell": {
     "cellMetadata": {
      "byteLimit": 2048000,
      "rowLimit": 10000
     },
     "inputWidgets": {},
     "nuid": "0bc15f8c-729e-4f05-bf29-415e7c38484e",
     "showTitle": false,
     "title": ""
    }
   },
   "outputs": [],
   "source": [
    "## Transformacion 2: limpieza de texto y join con localidades bogota\n",
    "\n",
    "total = sum(cities_['count'])\n",
    "#print('num registros: ', total)\n",
    "\n",
    "# Limpieza del campo ciudad de acuerdo con la funcion limpiar_texto\n",
    "dim_municipios_ = cities_.sort_values(by='count', ascending=False).\\\n",
    "       assign(Ciudad = lambda x: x['Ciudad'].apply(limpiar_texto),\n",
    "              PARTICIPACION = lambda x: x['count']/total,\n",
    "              TOTAL = lambda x: np.cumsum(x['PARTICIPACION'])).\\\n",
    "       rename(columns = {'count': 'COUNT'})\n",
    "       #groupby('DEPARTAMENTO').agg({'COUNT': 'sum','PORCENTAJE': 'sum'}).reset_index().\\\n",
    "\n",
    "\n",
    "# left join con localidades\n",
    "dim_municipios_1 = pd.merge(dim_municipios_, loc_bog,\\\n",
    "                          left_on='Ciudad', right_on= 'LOCALIDAD',\\\n",
    "                          how='left')\n",
    "\n",
    "# Rellenar los valores nulos en 'CIUDAD' (de loc_bog)con los valores de 'Ciudad'\n",
    "dim_municipios_1 = dim_municipios_1.assign(CIUDAD = lambda x: x['CIUDAD'].fillna(dim_municipios_1['Ciudad'])).\\\n",
    "                                    assign(CIUDAD = lambda x: x['CIUDAD'].apply(asignar_ciudad)).\\\n",
    "                                    assign(CIUDAD = lambda x: x['CIUDAD'].apply(replace_cities_aliases))\n",
    "\n",
    "#print(dim_municipios_1.head(6))\n",
    "\n",
    "# tmp = dim_municipios_1.groupby(\"CIUDAD\").agg({'COUNT': 'sum'})\\\n",
    "#     .sort_values(by='COUNT', ascending=False)\n",
    "\n",
    "# print(tmp.head(15))"
   ]
  },
  {
   "cell_type": "code",
   "execution_count": null,
   "metadata": {
    "application/vnd.databricks.v1+cell": {
     "cellMetadata": {
      "byteLimit": 2048000,
      "rowLimit": 10000
     },
     "inputWidgets": {},
     "nuid": "b62ce3c6-a37e-4300-9f0c-45ecfe16881b",
     "showTitle": false,
     "title": ""
    }
   },
   "outputs": [],
   "source": [
    "#tmp = dim_municipios_1.groupby(year(\"CIUDAD\")).size().reset_index(name='count').\\\n"
   ]
  },
  {
   "cell_type": "code",
   "execution_count": null,
   "metadata": {
    "application/vnd.databricks.v1+cell": {
     "cellMetadata": {
      "byteLimit": 2048000,
      "rowLimit": 10000
     },
     "inputWidgets": {},
     "nuid": "6d00bccd-7dd8-41f5-87ea-e2caa4ca6d15",
     "showTitle": false,
     "title": ""
    }
   },
   "outputs": [],
   "source": [
    "## Transformacion 3:  llave departamento para traer capital a los que tienen departamento en el campo ciudad\n",
    "dim_regiones = dim_towns[['DEPARTAMENTO','CAPITAL']].drop_duplicates()\n",
    "#print(dim_regiones)\n",
    "\n",
    "dim_municipios = pd.merge(dim_municipios_1, dim_regiones,\\\n",
    "                          left_on='CIUDAD', right_on= 'DEPARTAMENTO',\\\n",
    "                          how='left')\n",
    "\n",
    "# Rellenar los valores nulos en 'Ciudad' con los valores de 'MAIN_ADDR_TOWN'\n",
    "dim_municipios['CAPITAL'].fillna(dim_municipios['CIUDAD'], inplace=True)\n",
    "\n",
    "# Finalmente seleccionamos los campos necesarios\n",
    "dim_municipios = dim_municipios[['City','COUNT','PARTICIPACION','CAPITAL']]\n",
    "\n",
    "dim_municipios.rename(columns={'CAPITAL': 'CIUDAD'}, inplace=True)\n",
    "\n",
    "# tmp = dim_municipios.groupby(\"CIUDAD\").agg({'COUNT': 'sum'})\\\n",
    "#     .sort_values(by='COUNT', ascending=False)\n",
    "\n",
    "# print(tmp.head(15))"
   ]
  },
  {
   "cell_type": "code",
   "execution_count": null,
   "metadata": {
    "application/vnd.databricks.v1+cell": {
     "cellMetadata": {
      "byteLimit": 2048000,
      "rowLimit": 10000
     },
     "inputWidgets": {},
     "nuid": "c7c6e1cd-9eac-483b-a01f-7a86e55a62b1",
     "showTitle": false,
     "title": ""
    }
   },
   "outputs": [],
   "source": [
    "## Transformacion 4:  left join para validar cuales valores quedaron limpios y traer la region y el departamento\n",
    "dim_municipios = pd.merge(dim_municipios, dim_towns,\\\n",
    "                          left_on='CIUDAD', right_on= 'MUNICIPIO',\\\n",
    "                          how='left')\n",
    "\n",
    "# Traer los valores que ya sabiamos eran nulos o ''\n",
    "dim_municipios['MUNICIPIO'] = np.where(\n",
    "    (dim_municipios['CIUDAD'] == '') |\n",
    "    (dim_municipios['CIUDAD'] == 'nan') |\n",
    "    (dim_municipios['CIUDAD'] == 'None') |\n",
    "    (dim_municipios['CIUDAD'].isnull()),\n",
    "    'SIN DATO',\n",
    "    dim_municipios['MUNICIPIO']\n",
    ")\n",
    "#print(dim_municipios.head(5))\n",
    "\n",
    "# tmp = dim_municipios.groupby(\"MUNICIPIO\").agg({'COUNT': 'sum'})\\\n",
    "#     .sort_values(by='COUNT', ascending=False)\n",
    "\n",
    "# print(tmp.head(15))"
   ]
  },
  {
   "cell_type": "code",
   "execution_count": null,
   "metadata": {
    "application/vnd.databricks.v1+cell": {
     "cellMetadata": {
      "byteLimit": 2048000,
      "rowLimit": 10000
     },
     "inputWidgets": {},
     "nuid": "3561cc2e-91ac-4146-8abe-1ee96c700bd3",
     "showTitle": false,
     "title": ""
    }
   },
   "outputs": [
    {
     "name": "stdout",
     "output_type": "stream",
     "text": [
      "Registros:  2327842\n",
      "Percent:  0.9523946290788926\n",
      "(20289, 9)\n"
     ]
    }
   ],
   "source": [
    "# Finalmente seleccionamos los campos necesarios\n",
    "dim_municipios = dim_municipios[['City','COUNT','PARTICIPACION','CIUDAD','MUNICIPIO','REGION','DEPARTAMENTO','CAPITAL','PAIS']]\n",
    "\n",
    "# Valores con MUNICIPIO LIMPIO\n",
    "notnull = dim_municipios[dim_municipios['MUNICIPIO'].notnull()]\n",
    "\n",
    "print('Registros: ', notnull['COUNT'].sum())\n",
    "print('Percent: ', notnull['PARTICIPACION'].sum())\n",
    "\n",
    "#################\n",
    "# Descriptivos\n",
    "# print(notnull.head(5))\n",
    "# print(' ')\n",
    "# print('Dimensiones:')\n",
    "print(notnull.shape)\n"
   ]
  },
  {
   "cell_type": "code",
   "execution_count": null,
   "metadata": {
    "application/vnd.databricks.v1+cell": {
     "cellMetadata": {
      "byteLimit": 2048000,
      "rowLimit": 10000
     },
     "inputWidgets": {},
     "nuid": "c48553b4-4e2b-41d2-b66c-c8102094cfc0",
     "showTitle": false,
     "title": ""
    }
   },
   "outputs": [
    {
     "name": "stdout",
     "output_type": "stream",
     "text": [
      "Registros:  116357\n",
      "Percent:  0.04760537092110749\n",
      "Dimensiones:\n",
      "(16152, 9)\n"
     ]
    }
   ],
   "source": [
    "# Valores con MUNICIPIO sin limpiar\n",
    "null = dim_municipios[dim_municipios['MUNICIPIO'].isnull()]\n",
    "\n",
    "print('Registros: ', null['COUNT'].sum())\n",
    "print('Percent: ', null['PARTICIPACION'].sum())\n",
    "\n",
    "#################\n",
    "# Descriptivos\n",
    "print('Dimensiones:')\n",
    "print(null.shape)"
   ]
  },
  {
   "cell_type": "code",
   "execution_count": null,
   "metadata": {
    "application/vnd.databricks.v1+cell": {
     "cellMetadata": {
      "byteLimit": 2048000,
      "rowLimit": 10000
     },
     "inputWidgets": {},
     "nuid": "689c3971-5ba8-4e30-a168-bafafb356737",
     "showTitle": false,
     "title": ""
    }
   },
   "outputs": [
    {
     "name": "stdout",
     "output_type": "stream",
     "text": [
      "Registros:  44614\n",
      "Percent:  0.01825301458678283\n"
     ]
    }
   ],
   "source": [
    "# Aplicamos la funcion de eliminar departamento para limpiar valores estilo: 'ABEJORRAL ANTIOQUIA'\n",
    "null = null[['City','COUNT','PARTICIPACION','CIUDAD']].\\\n",
    "    assign(CIUDAD = lambda x: x['CIUDAD'].apply(eliminar_departamento))\n",
    "\n",
    "\n",
    "# left join para traer la region y el departamento NUEVAMENTE\n",
    "null = pd.merge(null, dim_towns,\\\n",
    "                    left_on='CIUDAD', right_on= 'MUNICIPIO',\\\n",
    "                    how='left')\n",
    "\n",
    "null2 = null[null['MUNICIPIO'].notnull()]\n",
    "\n",
    "print('Registros: ', null2['COUNT'].sum())\n",
    "print('Percent: ', null2['PARTICIPACION'].sum())\n",
    "\n",
    "# #################\n",
    "# # Descriptivos\n",
    "# print('Dimensiones:')\n",
    "# print(null2.shape)"
   ]
  },
  {
   "cell_type": "code",
   "execution_count": null,
   "metadata": {
    "application/vnd.databricks.v1+cell": {
     "cellMetadata": {
      "byteLimit": 2048000,
      "rowLimit": 10000
     },
     "inputWidgets": {},
     "nuid": "027c8da5-0e04-4064-bb88-82dce96e2f12",
     "showTitle": false,
     "title": ""
    }
   },
   "outputs": [
    {
     "name": "stdout",
     "output_type": "stream",
     "text": [
      "Registros:  2372456\n",
      "Percent:  0.9706476436656755\n"
     ]
    }
   ],
   "source": [
    "# UNIMOS AMBAS TABLAS PARA TENER LA LIMPIEZA COMPLETA\n",
    "dim_municipios_ = pd.concat([notnull, null2])\n",
    "\n",
    "print('Registros: ', dim_municipios_['COUNT'].sum())\n",
    "print('Percent: ', dim_municipios_['PARTICIPACION'].sum())\n",
    "# Rellenar los valores nulos en 'Ciudad' con los valores de 'MAIN_ADDR_TOWN'\n",
    "#dim_municipios_['Ciudad'].fillna(cities_['MAIN_ADDR_TOWN'], inplace=True)\n",
    "\n",
    "# tmp = dim_municipios.groupby(\"MUNICIPIO\").agg({'COUNT': 'sum'})\\\n",
    "#     .sort_values(by='COUNT', ascending=False)\n",
    "\n",
    "# print(tmp.head(15))\n",
    "\n",
    "# Convertir el DataFrame de Pandas a un DataFrame de PySpark\n",
    "dim_municipios_ = spark.createDataFrame(dim_municipios_)\n",
    "dim_municipios_.createOrReplaceTempView(\"dim_municipios_vw\")\n",
    "\n",
    "#display(dim_municipios_)"
   ]
  },
  {
   "cell_type": "code",
   "execution_count": null,
   "metadata": {
    "application/vnd.databricks.v1+cell": {
     "cellMetadata": {
      "byteLimit": 2048000,
      "rowLimit": 10000
     },
     "inputWidgets": {},
     "nuid": "1a3d02ea-ff3d-4613-ad8c-885d0f2c5068",
     "showTitle": false,
     "title": ""
    }
   },
   "outputs": [],
   "source": [
    "# inpath = \"abfss://storagebi@tbdwhstorage01.dfs.core.windows.net/Modelos_analitica/Maestras_municipios/\"\n",
    "\n",
    "# write_table = dim_municipios_.coalesce(1) # coalesce indica que la tabla se va a entregar en una sola particion\n",
    "# write_table.write.csv(inpath + \"dirty_cities\", header=True, mode=\"overwrite\", sep='|')\n",
    "\n",
    "# #cambio de nombre\n",
    "# files=dbutils.fs.ls(inpath + 'dirty_cities/')\n",
    "# output_file= [x for x in files if x.name.startswith(\"part-\")]\n",
    "\n",
    "# # EN la misma carpeta de origen\n",
    "# dbutils.fs.mv(output_file[0].path, f\"{inpath + 'dirty_cities/'}/dirty_cities.csv\")"
   ]
  },
  {
   "cell_type": "code",
   "execution_count": null,
   "metadata": {
    "application/vnd.databricks.v1+cell": {
     "cellMetadata": {
      "byteLimit": 2048000,
      "rowLimit": 10000
     },
     "inputWidgets": {},
     "nuid": "d0548346-81cc-4ddf-abf6-a718622980c6",
     "showTitle": false,
     "title": ""
    }
   },
   "outputs": [],
   "source": [
    "# #print(Softix_Tnums.count())\n",
    "\n",
    "# tmp = Softix_Tnums.filter(col('Account') == '650292')#.limit(100)\n",
    "# display(tmp)"
   ]
  },
  {
   "cell_type": "code",
   "execution_count": null,
   "metadata": {
    "application/vnd.databricks.v1+cell": {
     "cellMetadata": {
      "byteLimit": 2048000,
      "rowLimit": 10000
     },
     "inputWidgets": {},
     "nuid": "8454698c-9ca5-47ae-bf16-4d7adfcc1bfa",
     "showTitle": false,
     "title": ""
    }
   },
   "outputs": [],
   "source": [
    "# tmp = Softix_Accounts.filter(col('Number') == '650292')#.limit(100)\n",
    "# display(tmp)\n",
    "\n",
    "\n",
    "#display(Softix_Mtypes.limit(50)) #650292"
   ]
  },
  {
   "cell_type": "code",
   "execution_count": null,
   "metadata": {
    "application/vnd.databricks.v1+cell": {
     "cellMetadata": {
      "byteLimit": 2048000,
      "rowLimit": 10000
     },
     "inputWidgets": {},
     "nuid": "a5926835-9a9b-4d60-b43b-4844f3e76f02",
     "showTitle": false,
     "title": ""
    }
   },
   "outputs": [],
   "source": [
    "# # PRUEBA\n",
    "# # Convertir la cadena de fecha al formato de fecha correcto\n",
    "# tmp = Softix_Tnums.select('Evname','BillingDateTime').\\\n",
    "#     withColumn(\"Fecha_compra\", to_timestamp(\"BillingDateTime\", \"dd-MMM-yy HH:mm:ss.SSS\")).\\\n",
    "#     withColumn(\"fecha_evento_string\", regexp_extract(\"Evname\", r'_(\\d{1,2}\\s?[A-Za-z]{3}\\d{4})', 1))#.\\\n",
    "#     #withColumn(\"Fecha_evento\", to_timestamp(\"fecha_evento_string\", \"dMMMyyyy\"))\n",
    "\n",
    "# display(tmp.limit(5))"
   ]
  },
  {
   "cell_type": "code",
   "execution_count": null,
   "metadata": {
    "application/vnd.databricks.v1+cell": {
     "cellMetadata": {
      "byteLimit": 2048000,
      "rowLimit": 10000
     },
     "inputWidgets": {},
     "nuid": "850ede17-656a-484b-803e-eb9d5daab60f",
     "showTitle": false,
     "title": ""
    }
   },
   "outputs": [],
   "source": [
    "# from pyspark.sql import Window\n",
    "\n",
    "# # Agregar una columna que indique si es duplicado o no\n",
    "# window_spec = Window().partitionBy(\"Codigo_Evento\").orderBy(\"Codigo_Evento\")\n",
    "\n",
    "# df_spark = softix_aforos.withColumn(\"es_duplicado\", count(\"Codigo_Evento\").over(window_spec) > 1)\n",
    "\n",
    "\n",
    "# # Filtrar solo las filas duplicadas\n",
    "# duplicados = df_spark.filter(\"es_duplicado\")#.select('Evento').distinct()\n",
    "# #duplicados = duplicados.withColumn('Evento_N', lit('Hola'))\n",
    "# # DF = df3.toPandas()\n",
    "\n",
    "# # # Verificar duplicados en la columna 'llave_identificadora'\n",
    "# # duplicados = DF[DF.duplicated(subset=['Key_evento'], keep=False)]\n",
    "\n",
    "# #df_spark = spark.createDataFrame(duplicados)\n",
    "# # print(df.count())\n",
    "# display(duplicados)"
   ]
  },
  {
   "cell_type": "code",
   "execution_count": null,
   "metadata": {
    "application/vnd.databricks.v1+cell": {
     "cellMetadata": {
      "byteLimit": 2048000,
      "rowLimit": 10000
     },
     "inputWidgets": {},
     "nuid": "5a9cffab-8abe-4f6a-b8dd-ce96ad524711",
     "showTitle": false,
     "title": ""
    }
   },
   "outputs": [],
   "source": [
    "# display(Softix_Tnums.limit(9))"
   ]
  },
  {
   "cell_type": "code",
   "execution_count": null,
   "metadata": {
    "application/vnd.databricks.v1+cell": {
     "cellMetadata": {
      "byteLimit": 2048000,
      "rowLimit": 10000
     },
     "inputWidgets": {},
     "nuid": "42d8a14c-7bc7-4dec-8782-8c231ee6dcc2",
     "showTitle": false,
     "title": ""
    }
   },
   "outputs": [],
   "source": [
    "# tmp1 = Softix_Accounts.select('Id_cliente').distinct()\n",
    "# # tmp2 = Softix_Proms.select('Code').distinct()\n",
    "\n",
    "# # tmp3 = tmp1.alias(\"a\").join(\n",
    "# #     tmp2.alias(\"b\"),\n",
    "# #     col(\"a.Prom\") == col(\"b.Code\"),\n",
    "# #     \"left_outer\"\n",
    "# # )\n",
    "\n",
    "# print(tmp1.count())\n",
    "# #display(tmp1)"
   ]
  },
  {
   "cell_type": "code",
   "execution_count": null,
   "metadata": {
    "application/vnd.databricks.v1+cell": {
     "cellMetadata": {
      "byteLimit": 2048000,
      "rowLimit": 10000
     },
     "inputWidgets": {},
     "nuid": "2cc7eab8-afe4-4fec-a476-e3d514324356",
     "showTitle": false,
     "title": ""
    }
   },
   "outputs": [],
   "source": [
    "# # # tmp = Softix_Perfs.filter(col('Code') == 'ESFIE')\n",
    "# # # display(tmp)\n",
    "\n",
    "# tmp = Softix_Accounts.select('City').distinct()\n",
    "# #print(tmp.count())\n",
    "# #print(Softix_Proms.count())\n",
    "# display(tmp)\n",
    "\n",
    "# # #display(Softix_Proms.limit(30))"
   ]
  },
  {
   "cell_type": "code",
   "execution_count": null,
   "metadata": {
    "application/vnd.databricks.v1+cell": {
     "cellMetadata": {
      "byteLimit": 2048000,
      "rowLimit": 10000
     },
     "inputWidgets": {},
     "nuid": "b9c05115-db10-49bb-9427-769f669782b0",
     "showTitle": false,
     "title": ""
    }
   },
   "outputs": [],
   "source": [
    "Softix_Accounts.createOrReplaceTempView(\"Softix_Accounts_vw\")\n",
    "#Softix_Areas.createOrReplaceTempView(\"Softix_Areas_vw\")\n",
    "#Softix_Btypes.createOrReplaceTempView(\"Softix_Btypes_vw\")\n",
    "#Softix_Chains.createOrReplaceTempView(\"Softix_Chains_vw\")\n",
    "Softix_Mtypes.createOrReplaceTempView(\"Softix_Mtypes_vw\")\n",
    "Softix_Perfs.createOrReplaceTempView(\"Softix_Perfs_vw\")\n",
    "Softix_Proms.createOrReplaceTempView(\"Softix_Proms_vw\")\n",
    "#Softix_Sellers.createOrReplaceTempView(\"Softix_Sellers_vw\")\n",
    "Softix_Shows.createOrReplaceTempView(\"Softix_Shows_vw\")\n",
    "#Softix_Tixs.createOrReplaceTempView(\"Softix_Tixs_vw\")\n",
    "Softix_Tnums.createOrReplaceTempView(\"Softix_Tnums_vw\")\n",
    "Softix_Venues.createOrReplaceTempView(\"Softix_Venues_vw\")"
   ]
  },
  {
   "cell_type": "code",
   "execution_count": null,
   "metadata": {
    "application/vnd.databricks.v1+cell": {
     "cellMetadata": {
      "byteLimit": 2048000,
      "rowLimit": 10000
     },
     "inputWidgets": {},
     "nuid": "d0c0eb71-3f2b-4137-82cf-3a01de5dba22",
     "showTitle": false,
     "title": ""
    }
   },
   "outputs": [],
   "source": [
    "# tmp = spark.sql('''\n",
    "# SELECT DISTINCT\n",
    "#       Id_cliente,\n",
    "#       LAST_VALUE(Name) OVER (PARTITION BY Id_cliente ORDER BY Id_cliente desc) AS Nombre_cliente,\n",
    "#       Email,\n",
    "#       HomePhone,\n",
    "#       City,\n",
    "#       Gender\n",
    "#       FROM Softix_Accounts_vw\n",
    "#       WHERE Id_cliente = 'tel|64752'\n",
    "# ''')\n",
    "# display(tmp.limit(100))"
   ]
  },
  {
   "cell_type": "code",
   "execution_count": null,
   "metadata": {
    "application/vnd.databricks.v1+cell": {
     "cellMetadata": {
      "byteLimit": 2048000,
      "rowLimit": 10000
     },
     "inputWidgets": {},
     "nuid": "207e0ec3-e365-4177-bb97-b89a4b5ab5fb",
     "showTitle": false,
     "title": ""
    }
   },
   "outputs": [],
   "source": [
    "# print(Softix_Perfs.count())\n",
    "\n",
    "# softix = spark.sql('''\n",
    "# SELECT\n",
    "#       p.Code as Sesion,\n",
    "#       s.Descripcion AS Evento,\n",
    "#       p.Fecha_evento,\n",
    "#       v.Descripcion AS Venue,\n",
    "#       --p.Venue as Cod_Venue,\n",
    "#       vc.Ciudad AS Ciudad_venue\n",
    "#       FROM Softix_Perfs_vw p\n",
    "#       LEFT JOIN Softix_Shows_vw s\n",
    "#         ON (p.Show1 = s.Code)\n",
    "#       LEFT JOIN Softix_Venues_vw v\n",
    "#         ON (p.Venue = v.Code) \n",
    "#       LEFT JOIN venues_city_vw vc\n",
    "#         ON (v.Descripcion = vc.Descripcion) ''')\n",
    "\n",
    "# print(softix.count())\n",
    "# #display(softix.limit(100))"
   ]
  },
  {
   "cell_type": "code",
   "execution_count": null,
   "metadata": {
    "application/vnd.databricks.v1+cell": {
     "cellMetadata": {
      "byteLimit": 2048000,
      "rowLimit": 10000
     },
     "inputWidgets": {},
     "nuid": "debe4ac9-f1d3-46ee-904e-edf8ac4174db",
     "showTitle": false,
     "title": ""
    }
   },
   "outputs": [],
   "source": [
    "softix = spark.sql('''\n",
    "    -- Ajuste de promotores con codigo repetido\n",
    "    WITH perfs as (\n",
    "      SELECT\n",
    "      p.Code as Key_evento,\n",
    "      s.Descripcion AS Evento,\n",
    "      p.Fecha_evento,\n",
    "      v.Descripcion AS Venue,\n",
    "      --p.Venue as Cod_Venue,\n",
    "      vc.Ciudad AS Ciudad_venue\n",
    "      FROM Softix_Perfs_vw p\n",
    "      LEFT JOIN Softix_Shows_vw s\n",
    "        ON (p.Show1 = s.Code)\n",
    "      LEFT JOIN Softix_Venues_vw v\n",
    "        ON (p.Venue = v.Code) \n",
    "      LEFT JOIN venues_city_vw vc\n",
    "        ON (v.Descripcion = vc.Descripcion)\n",
    "    ),\n",
    "    \n",
    "    proms as (\n",
    "      SELECT DISTINCT\n",
    "      Code,\n",
    "      FIRST_VALUE(Descripcion) OVER (PARTITION BY Code) AS Promotor\n",
    "      FROM Softix_Proms_vw\n",
    "    ),   \n",
    "\n",
    "    -- Ajuste de accounts con codigo repetido\n",
    "    accounts as (\n",
    "      SELECT DISTINCT\n",
    "      Id_cliente,\n",
    "      LAST_VALUE(Name) OVER (PARTITION BY Id_cliente ORDER BY Id_cliente desc) AS Nombre_cliente,\n",
    "      Email,\n",
    "      HomePhone as Movil,\n",
    "      CASE WHEN Address1 IS NULL\n",
    "        THEN Address2\n",
    "        ELSE Address1 END AS Direccion,\n",
    "      b.MUNICIPIO as Ciudad_del_cliente,\n",
    "      CountryName as Pais_cliente,\n",
    "      Gender as Genero\n",
    "      FROM Softix_Accounts_vw a\n",
    "      LEFT JOIN dim_municipios_vw b\n",
    "        ON (a.City = b.MUNICIPIO)\n",
    "    )\n",
    "\n",
    "    SELECT\n",
    "    p.*,\n",
    "    --s.BTypeName as Segmento,\n",
    "    b.Segmento as Tema_gral,\n",
    "    s.Secnam as Categoria_logica,\n",
    "    pr.Promotor,\n",
    "    s.FILE_NUMBER,\n",
    "    s.Fecha_compra as Fecha_Compra,\n",
    "    s.Id_cliente as Id_contacto,\n",
    "    a.Nombre_cliente,\n",
    "    a.Email,\n",
    "    a.Movil,\n",
    "    a.Direccion,\n",
    "    a.Ciudad_del_cliente, -- otra limpieza enorme\n",
    "    a.Pais_cliente,\n",
    "    a.Genero,\n",
    "    CASE WHEN s.Channel = 'Q' THEN 'Punto de venta'\n",
    "         WHEN s.Channel = 'W' THEN 'Web'\n",
    "         WHEN s.Channel = 'B' THEN 'Box Office/Taquilla'\n",
    "         WHEN s.Channel = 'T' THEN 'Call center'\n",
    "      ELSE 'Punto de venta' END AS Subcanal,\n",
    "    m.Metodo_pago AS Metodo_de_pago,\n",
    "    --s.BillingCCName as Metodo_pago,\n",
    "    s.SaleDtypeNow as Metodo_entrega,\n",
    "    '' as Familia_producto,\n",
    "    sa.Aforo,\n",
    "    sa.Tickets as Tickets_sesion,\n",
    "    SUM(s.Qty) as Tickets_comprados,\n",
    "    SUM(s.Paid) AS Recaudo,\n",
    "    SUM(s.Bfee) as Bfee,\n",
    "    SUM(s.Hfee) AS Hfee\n",
    "    FROM Softix_Tnums_vw s\n",
    "    LEFT JOIN perfs p\n",
    "      ON (s.Evname = p.Key_evento)\n",
    "    LEFT JOIN accounts a\n",
    "      ON (s.Id_cliente = a.Id_cliente)\n",
    "    LEFT JOIN proms pr\n",
    "      ON (s.Prom = pr.Code)\n",
    "    LEFT JOIN Btypes_vw b\n",
    "      ON (s.BTypeName = b.BtypeName)\n",
    "    LEFT JOIN MetodoPago_vw m\n",
    "      ON (s.BillingCCName = m.BillingCCName)\n",
    "    LEFT JOIN softix_aforos_vw sa\n",
    "      ON (s.Evname = sa.Codigo_Evento)  \n",
    "    GROUP BY\n",
    "    p.Key_evento,p.Evento,p.Fecha_evento,p.Venue,p.Ciudad_venue,b.Segmento,s.Secnam,s.Secnam,pr.Promotor,s.FILE_NUMBER,s.Fecha_compra,s.Id_cliente,a.Nombre_cliente,a.Email,a.Movil,a.Direccion,a.Ciudad_del_cliente,a.Pais_cliente,a.Genero,s.Channel,m.Metodo_pago,s.SaleDtypeNow,sa.Aforo,sa.Tickets\n",
    "''')\n",
    "\n",
    "\n",
    "#print(softix.count())\n",
    "#display(softix.limit(100))\n"
   ]
  },
  {
   "cell_type": "code",
   "execution_count": null,
   "metadata": {
    "application/vnd.databricks.v1+cell": {
     "cellMetadata": {
      "byteLimit": 2048000,
      "rowLimit": 10000
     },
     "inputWidgets": {},
     "nuid": "1f6199e9-0630-40e8-b29f-c533128c06b6",
     "showTitle": true,
     "title": "SECUTIX"
    }
   },
   "outputs": [],
   "source": [
    "inpath = \"abfss://storagebi@tbdwhstorage01.dfs.core.windows.net/gold/TU_BOLETA/Audiencias_mercadeo/Ds_G_audiencias_mercadeo.parquet\"\n",
    "audiencias = spark.read.parquet(inpath)"
   ]
  },
  {
   "cell_type": "code",
   "execution_count": null,
   "metadata": {
    "application/vnd.databricks.v1+cell": {
     "cellMetadata": {
      "byteLimit": 2048000,
      "rowLimit": 10000
     },
     "inputWidgets": {},
     "nuid": "4bd3822e-791b-4a00-a889-6a96212ab356",
     "showTitle": false,
     "title": ""
    }
   },
   "outputs": [],
   "source": [
    "# tmp = audiencias.filter(col('Familia_producto') != 'Pase de visita','COLOMBIA')\n",
    "# #display(tmp.limit(100))\n",
    "\n",
    "# tmp = tmp.groupBy(\"Anio_compra\").count().orderBy(col(\"count\").desc())#.\\"
   ]
  },
  {
   "cell_type": "code",
   "execution_count": null,
   "metadata": {
    "application/vnd.databricks.v1+cell": {
     "cellMetadata": {
      "byteLimit": 2048000,
      "rowLimit": 10000
     },
     "inputWidgets": {},
     "nuid": "f994eeb6-d3db-485b-b5b9-5f08298d97b7",
     "showTitle": false,
     "title": ""
    }
   },
   "outputs": [],
   "source": [
    "columnas_softix = ['Key_evento',\"Evento\",\"Fecha_evento\",'Venue',\"Ciudad_venue\",\"Tema_gral\",\"Promotor\",'FILE_NUMBER',\"Fecha_Compra\",'Id_contacto',\"Ciudad_del_cliente\",\"Subcanal\",\"Metodo_de_pago\",\"Tickets_comprados\",\"Recaudo\",'Familia_producto','Aforo','Tickets_sesion']\n",
    "\n",
    "columnas_secutix = ['Key_evento',\"Evento\",\"Fecha_evento\",'Venue',\"Ciudad_venue\",\"Tema_gral\",\"Promotor\",'FILE_NUMBER',\"Fecha_Compra\",'Id_contacto',\"Ciudad_del_cliente\",\"Subcanal\",\"Medio de Pago General\",\"Tickets_comprados\",\"Recaudo\",'Familia_producto','Aforo']\n",
    " \n",
    "### A) seleccion de columnas ###\n",
    "softix_ = softix.select(columnas_softix)\n",
    "audiencias = audiencias.select(columnas_secutix).\\\n",
    "    withColumnRenamed('Metodo_de_pago', 'Medio de Pago General').\\\n",
    "    withColumn(\"Tickets_sesion\", lit(0))\n",
    "\n",
    "tuboleta = softix_.union(audiencias)"
   ]
  },
  {
   "cell_type": "code",
   "execution_count": null,
   "metadata": {
    "application/vnd.databricks.v1+cell": {
     "cellMetadata": {
      "byteLimit": 2048000,
      "rowLimit": 10000
     },
     "inputWidgets": {},
     "nuid": "5b1c7395-50f3-4f9e-9be9-17b1aafe017d",
     "showTitle": false,
     "title": ""
    }
   },
   "outputs": [],
   "source": [
    "# # print(Softix_Accounts.count())\n",
    "# from pyspark.sql.functions import sum\n",
    "\n",
    "# tmp = tuboleta.filter(col('Tema_gral').like('%oncierto%')).groupBy(\"Evento\").sum('Tickets_comprados').alias('Tickets_comprados').orderBy(col(\"sum(Tickets_comprados)\").desc())#.\\\n",
    "# #print(dirty_cities.count())\n",
    "# display(tmp.limit(50))"
   ]
  },
  {
   "cell_type": "code",
   "execution_count": null,
   "metadata": {
    "application/vnd.databricks.v1+cell": {
     "cellMetadata": {
      "byteLimit": 2048000,
      "rowLimit": 10000
     },
     "inputWidgets": {},
     "nuid": "eba7387b-cd75-4cd9-b4d9-38940f7a154a",
     "showTitle": false,
     "title": ""
    }
   },
   "outputs": [
    {
     "data": {
      "text/plain": [
       "True"
      ]
     },
     "execution_count": 46,
     "metadata": {},
     "output_type": "execute_result"
    }
   ],
   "source": [
    "# Impresion\n",
    "# Guarda el DataFrame en formato Parquet en Azure Blob Storage\n",
    "inpath = \"abfss://storagebi@tbdwhstorage01.dfs.core.windows.net/gold/TU_BOLETA/Softix/Historico/\"\n",
    "join_df_coalesced = tuboleta.coalesce(1)\n",
    "join_df_coalesced.write.mode(\"overwrite\").parquet(inpath)\n",
    "\n",
    "#cambio de nombre\n",
    "files=dbutils.fs.ls(inpath)\n",
    "output_file= [x for x in files if x.name.startswith(\"part-\")]\n",
    "\n",
    "# EN la misma carpeta de origen\n",
    "dbutils.fs.mv(output_file[0].path, f\"{inpath}/Ds_G_Softix.parquet\")"
   ]
  },
  {
   "cell_type": "code",
   "execution_count": null,
   "metadata": {
    "application/vnd.databricks.v1+cell": {
     "cellMetadata": {
      "byteLimit": 2048000,
      "rowLimit": 10000
     },
     "inputWidgets": {},
     "nuid": "dea8ed00-cda8-4b1d-8551-52034982c896",
     "showTitle": false,
     "title": ""
    }
   },
   "outputs": [],
   "source": [
    "inpath = \"abfss://storagebi@tbdwhstorage01.dfs.core.windows.net/gold/TU_BOLETA/Softix/Historico/Ds_G_Softix.parquet\"\n",
    "softix = spark.read.parquet(inpath)"
   ]
  },
  {
   "cell_type": "code",
   "execution_count": null,
   "metadata": {
    "application/vnd.databricks.v1+cell": {
     "cellMetadata": {
      "byteLimit": 2048000,
      "rowLimit": 10000
     },
     "inputWidgets": {},
     "nuid": "b03a3b4b-3783-42cf-ae7e-fd27ce07bc92",
     "showTitle": false,
     "title": ""
    }
   },
   "outputs": [
    {
     "data": {
      "text/html": [
       "<style scoped>\n",
       "  .table-result-container {\n",
       "    max-height: 300px;\n",
       "    overflow: auto;\n",
       "  }\n",
       "  table, th, td {\n",
       "    border: 1px solid black;\n",
       "    border-collapse: collapse;\n",
       "  }\n",
       "  th, td {\n",
       "    padding: 5px;\n",
       "  }\n",
       "  th {\n",
       "    text-align: left;\n",
       "  }\n",
       "</style><div class='table-result-container'><table class='table-result'><thead style='background-color: white'><tr><th>Anio_compra</th><th>Mes_compra</th><th>sum(Tickets_comprados)</th><th>Tickets_sesion</th></tr></thead><tbody><tr><td>2012</td><td>1</td><td>324730.0</td><td>305419</td></tr><tr><td>2012</td><td>2</td><td>342029.0</td><td>512406</td></tr><tr><td>2012</td><td>3</td><td>279011.0</td><td>547971</td></tr><tr><td>2012</td><td>4</td><td>299097.0</td><td>490828</td></tr><tr><td>2012</td><td>5</td><td>139147.0</td><td>326545</td></tr><tr><td>2012</td><td>6</td><td>119899.0</td><td>454514</td></tr><tr><td>2012</td><td>7</td><td>231515.0</td><td>626114</td></tr><tr><td>2012</td><td>8</td><td>275664.0</td><td>680269</td></tr><tr><td>2012</td><td>9</td><td>254034.0</td><td>621678</td></tr><tr><td>2012</td><td>10</td><td>265655.0</td><td>595022</td></tr><tr><td>2012</td><td>11</td><td>310739.0</td><td>583886</td></tr><tr><td>2012</td><td>12</td><td>301809.0</td><td>788607</td></tr><tr><td>2013</td><td>1</td><td>309972.0</td><td>569932</td></tr><tr><td>2013</td><td>2</td><td>203406.0</td><td>696609</td></tr><tr><td>2013</td><td>3</td><td>199394.0</td><td>802031</td></tr><tr><td>2013</td><td>4</td><td>252475.0</td><td>808249</td></tr><tr><td>2013</td><td>5</td><td>227386.0</td><td>540135</td></tr><tr><td>2013</td><td>6</td><td>280589.0</td><td>679778</td></tr><tr><td>2013</td><td>7</td><td>349655.0</td><td>701936</td></tr><tr><td>2013</td><td>8</td><td>297341.0</td><td>678183</td></tr><tr><td>2013</td><td>9</td><td>253475.0</td><td>573072</td></tr><tr><td>2013</td><td>10</td><td>229471.0</td><td>665690</td></tr><tr><td>2013</td><td>11</td><td>302511.0</td><td>517863</td></tr><tr><td>2013</td><td>12</td><td>281542.0</td><td>673104</td></tr><tr><td>2014</td><td>1</td><td>252860.0</td><td>550549</td></tr><tr><td>2014</td><td>2</td><td>285441.0</td><td>672293</td></tr><tr><td>2015</td><td>1</td><td>576907.0</td><td>1049687</td></tr><tr><td>2015</td><td>2</td><td>519775.0</td><td>1244452</td></tr><tr><td>2015</td><td>3</td><td>313979.0</td><td>1195625</td></tr><tr><td>2015</td><td>4</td><td>621433.0</td><td>735569</td></tr><tr><td>2015</td><td>5</td><td>404839.0</td><td>848777</td></tr><tr><td>2015</td><td>6</td><td>208182.0</td><td>589600</td></tr><tr><td>2015</td><td>7</td><td>346737.0</td><td>701990</td></tr><tr><td>2015</td><td>8</td><td>344428.0</td><td>730062</td></tr><tr><td>2015</td><td>9</td><td>255380.0</td><td>569943</td></tr><tr><td>2015</td><td>10</td><td>316591.0</td><td>587109</td></tr><tr><td>2015</td><td>11</td><td>307275.0</td><td>763342</td></tr><tr><td>2015</td><td>12</td><td>482824.0</td><td>769251</td></tr><tr><td>2016</td><td>1</td><td>335706.0</td><td>593595</td></tr><tr><td>2016</td><td>2</td><td>357271.0</td><td>666896</td></tr><tr><td>2016</td><td>3</td><td>221017.0</td><td>632692</td></tr><tr><td>2016</td><td>4</td><td>281241.0</td><td>626976</td></tr><tr><td>2016</td><td>5</td><td>286676.0</td><td>720707</td></tr><tr><td>2016</td><td>6</td><td>369566.0</td><td>726309</td></tr><tr><td>2016</td><td>7</td><td>373589.0</td><td>669746</td></tr><tr><td>2016</td><td>8</td><td>304467.0</td><td>628414</td></tr><tr><td>2016</td><td>9</td><td>223939.0</td><td>661015</td></tr><tr><td>2016</td><td>10</td><td>377298.0</td><td>786286</td></tr><tr><td>2016</td><td>11</td><td>340106.0</td><td>763005</td></tr><tr><td>2016</td><td>12</td><td>221572.0</td><td>688694</td></tr><tr><td>2017</td><td>1</td><td>246484.0</td><td>572934</td></tr><tr><td>2017</td><td>2</td><td>335396.0</td><td>824239</td></tr><tr><td>2017</td><td>3</td><td>295136.0</td><td>792391</td></tr><tr><td>2017</td><td>4</td><td>261510.0</td><td>726415</td></tr><tr><td>2017</td><td>5</td><td>251393.0</td><td>771954</td></tr><tr><td>2017</td><td>6</td><td>334466.0</td><td>928886</td></tr><tr><td>2017</td><td>7</td><td>603694.0</td><td>1033314</td></tr><tr><td>2017</td><td>8</td><td>390123.0</td><td>1044674</td></tr><tr><td>2017</td><td>9</td><td>418425.0</td><td>970938</td></tr><tr><td>2017</td><td>10</td><td>305298.0</td><td>877395</td></tr><tr><td>2017</td><td>11</td><td>336067.0</td><td>774054</td></tr><tr><td>2017</td><td>12</td><td>258050.0</td><td>780072</td></tr><tr><td>2018</td><td>1</td><td>347851.0</td><td>872266</td></tr><tr><td>2018</td><td>2</td><td>320325.0</td><td>745658</td></tr><tr><td>2018</td><td>3</td><td>382736.0</td><td>846908</td></tr><tr><td>2018</td><td>4</td><td>326754.0</td><td>766681</td></tr><tr><td>2018</td><td>5</td><td>334798.0</td><td>772355</td></tr><tr><td>2018</td><td>6</td><td>191474.0</td><td>667911</td></tr><tr><td>2018</td><td>7</td><td>415944.0</td><td>800018</td></tr><tr><td>2018</td><td>8</td><td>299672.0</td><td>847639</td></tr><tr><td>2018</td><td>9</td><td>317322.0</td><td>818954</td></tr><tr><td>2018</td><td>10</td><td>424892.0</td><td>958005</td></tr><tr><td>2018</td><td>11</td><td>454933.0</td><td>1063151</td></tr><tr><td>2018</td><td>12</td><td>237777.0</td><td>828769</td></tr><tr><td>2019</td><td>1</td><td>424009.0</td><td>676579</td></tr><tr><td>2019</td><td>2</td><td>317759.0</td><td>643790</td></tr><tr><td>2019</td><td>3</td><td>487271.0</td><td>800620</td></tr><tr><td>2019</td><td>4</td><td>355929.0</td><td>608065</td></tr><tr><td>2019</td><td>5</td><td>385629.0</td><td>614063</td></tr><tr><td>2019</td><td>6</td><td>338302.0</td><td>533934</td></tr><tr><td>2019</td><td>7</td><td>447149.0</td><td>396137</td></tr><tr><td>2019</td><td>8</td><td>462613.0</td><td>148769</td></tr><tr><td>2019</td><td>9</td><td>430359.0</td><td>146430</td></tr><tr><td>2019</td><td>10</td><td>693653.0</td><td>54864</td></tr><tr><td>2019</td><td>11</td><td>510107.0</td><td>39354</td></tr><tr><td>2019</td><td>12</td><td>689750.0</td><td>6393</td></tr><tr><td>2020</td><td>1</td><td>926585.0</td><td>3696</td></tr><tr><td>2020</td><td>2</td><td>479465.0</td><td>2123</td></tr><tr><td>2020</td><td>3</td><td>164789.0</td><td>2677</td></tr><tr><td>2020</td><td>4</td><td>-8864.0</td><td>0</td></tr><tr><td>2020</td><td>5</td><td>-3922.0</td><td>0</td></tr><tr><td>2020</td><td>6</td><td>924.0</td><td>0</td></tr><tr><td>2020</td><td>7</td><td>2716.0</td><td>0</td></tr><tr><td>2020</td><td>8</td><td>13025.0</td><td>0</td></tr><tr><td>2020</td><td>9</td><td>17587.0</td><td>0</td></tr><tr><td>2020</td><td>10</td><td>21715.0</td><td>0</td></tr><tr><td>2020</td><td>11</td><td>23644.0</td><td>0</td></tr><tr><td>2020</td><td>12</td><td>22291.0</td><td>0</td></tr><tr><td>2021</td><td>1</td><td>3958.0</td><td>0</td></tr><tr><td>2021</td><td>2</td><td>-537.0</td><td>0</td></tr><tr><td>2021</td><td>3</td><td>24113.0</td><td>0</td></tr><tr><td>2021</td><td>4</td><td>18130.0</td><td>0</td></tr><tr><td>2021</td><td>5</td><td>10917.0</td><td>0</td></tr><tr><td>2021</td><td>6</td><td>36506.0</td><td>0</td></tr><tr><td>2021</td><td>7</td><td>57017.0</td><td>0</td></tr><tr><td>2021</td><td>8</td><td>98043.0</td><td>0</td></tr><tr><td>2021</td><td>9</td><td>225543.0</td><td>0</td></tr><tr><td>2021</td><td>10</td><td>223629.0</td><td>0</td></tr><tr><td>2021</td><td>11</td><td>295939.0</td><td>0</td></tr><tr><td>2021</td><td>12</td><td>482863.0</td><td>0</td></tr><tr><td>2022</td><td>1</td><td>579801.0</td><td>0</td></tr><tr><td>2022</td><td>2</td><td>252908.0</td><td>0</td></tr><tr><td>2022</td><td>3</td><td>373052.0</td><td>0</td></tr><tr><td>2022</td><td>4</td><td>264025.0</td><td>0</td></tr><tr><td>2022</td><td>5</td><td>369807.0</td><td>0</td></tr><tr><td>2022</td><td>6</td><td>429556.0</td><td>0</td></tr><tr><td>2022</td><td>7</td><td>735383.0</td><td>0</td></tr><tr><td>2022</td><td>8</td><td>350784.0</td><td>0</td></tr><tr><td>2022</td><td>9</td><td>366851.0</td><td>0</td></tr><tr><td>2022</td><td>10</td><td>280018.0</td><td>0</td></tr><tr><td>2022</td><td>11</td><td>379642.0</td><td>0</td></tr><tr><td>2022</td><td>12</td><td>476165.0</td><td>0</td></tr><tr><td>2023</td><td>1</td><td>778092.0</td><td>0</td></tr><tr><td>2023</td><td>2</td><td>419423.0</td><td>0</td></tr><tr><td>2023</td><td>3</td><td>346793.0</td><td>0</td></tr><tr><td>2023</td><td>4</td><td>385550.0</td><td>0</td></tr><tr><td>2023</td><td>5</td><td>399177.0</td><td>0</td></tr><tr><td>2023</td><td>6</td><td>407363.0</td><td>0</td></tr><tr><td>2023</td><td>7</td><td>547699.0</td><td>0</td></tr><tr><td>2023</td><td>8</td><td>459535.0</td><td>0</td></tr><tr><td>2023</td><td>9</td><td>398837.0</td><td>0</td></tr><tr><td>2023</td><td>10</td><td>476161.0</td><td>0</td></tr><tr><td>2023</td><td>11</td><td>434498.0</td><td>0</td></tr><tr><td>2023</td><td>12</td><td>509549.0</td><td>0</td></tr><tr><td>2024</td><td>1</td><td>578313.0</td><td>0</td></tr><tr><td>2024</td><td>2</td><td>376778.0</td><td>0</td></tr><tr><td>2024</td><td>3</td><td>340505.0</td><td>0</td></tr><tr><td>2024</td><td>4</td><td>401339.0</td><td>0</td></tr><tr><td>2024</td><td>5</td><td>34139.0</td><td>0</td></tr></tbody></table></div>"
      ]
     },
     "metadata": {
      "application/vnd.databricks.v1+output": {
       "addedWidgets": {},
       "aggData": [],
       "aggError": "",
       "aggOverflow": false,
       "aggSchema": [],
       "aggSeriesLimitReached": false,
       "aggType": "",
       "arguments": {},
       "columnCustomDisplayInfos": {},
       "data": [
        [
         2012,
         1,
         324730,
         305419
        ],
        [
         2012,
         2,
         342029,
         512406
        ],
        [
         2012,
         3,
         279011,
         547971
        ],
        [
         2012,
         4,
         299097,
         490828
        ],
        [
         2012,
         5,
         139147,
         326545
        ],
        [
         2012,
         6,
         119899,
         454514
        ],
        [
         2012,
         7,
         231515,
         626114
        ],
        [
         2012,
         8,
         275664,
         680269
        ],
        [
         2012,
         9,
         254034,
         621678
        ],
        [
         2012,
         10,
         265655,
         595022
        ],
        [
         2012,
         11,
         310739,
         583886
        ],
        [
         2012,
         12,
         301809,
         788607
        ],
        [
         2013,
         1,
         309972,
         569932
        ],
        [
         2013,
         2,
         203406,
         696609
        ],
        [
         2013,
         3,
         199394,
         802031
        ],
        [
         2013,
         4,
         252475,
         808249
        ],
        [
         2013,
         5,
         227386,
         540135
        ],
        [
         2013,
         6,
         280589,
         679778
        ],
        [
         2013,
         7,
         349655,
         701936
        ],
        [
         2013,
         8,
         297341,
         678183
        ],
        [
         2013,
         9,
         253475,
         573072
        ],
        [
         2013,
         10,
         229471,
         665690
        ],
        [
         2013,
         11,
         302511,
         517863
        ],
        [
         2013,
         12,
         281542,
         673104
        ],
        [
         2014,
         1,
         252860,
         550549
        ],
        [
         2014,
         2,
         285441,
         672293
        ],
        [
         2015,
         1,
         576907,
         1049687
        ],
        [
         2015,
         2,
         519775,
         1244452
        ],
        [
         2015,
         3,
         313979,
         1195625
        ],
        [
         2015,
         4,
         621433,
         735569
        ],
        [
         2015,
         5,
         404839,
         848777
        ],
        [
         2015,
         6,
         208182,
         589600
        ],
        [
         2015,
         7,
         346737,
         701990
        ],
        [
         2015,
         8,
         344428,
         730062
        ],
        [
         2015,
         9,
         255380,
         569943
        ],
        [
         2015,
         10,
         316591,
         587109
        ],
        [
         2015,
         11,
         307275,
         763342
        ],
        [
         2015,
         12,
         482824,
         769251
        ],
        [
         2016,
         1,
         335706,
         593595
        ],
        [
         2016,
         2,
         357271,
         666896
        ],
        [
         2016,
         3,
         221017,
         632692
        ],
        [
         2016,
         4,
         281241,
         626976
        ],
        [
         2016,
         5,
         286676,
         720707
        ],
        [
         2016,
         6,
         369566,
         726309
        ],
        [
         2016,
         7,
         373589,
         669746
        ],
        [
         2016,
         8,
         304467,
         628414
        ],
        [
         2016,
         9,
         223939,
         661015
        ],
        [
         2016,
         10,
         377298,
         786286
        ],
        [
         2016,
         11,
         340106,
         763005
        ],
        [
         2016,
         12,
         221572,
         688694
        ],
        [
         2017,
         1,
         246484,
         572934
        ],
        [
         2017,
         2,
         335396,
         824239
        ],
        [
         2017,
         3,
         295136,
         792391
        ],
        [
         2017,
         4,
         261510,
         726415
        ],
        [
         2017,
         5,
         251393,
         771954
        ],
        [
         2017,
         6,
         334466,
         928886
        ],
        [
         2017,
         7,
         603694,
         1033314
        ],
        [
         2017,
         8,
         390123,
         1044674
        ],
        [
         2017,
         9,
         418425,
         970938
        ],
        [
         2017,
         10,
         305298,
         877395
        ],
        [
         2017,
         11,
         336067,
         774054
        ],
        [
         2017,
         12,
         258050,
         780072
        ],
        [
         2018,
         1,
         347851,
         872266
        ],
        [
         2018,
         2,
         320325,
         745658
        ],
        [
         2018,
         3,
         382736,
         846908
        ],
        [
         2018,
         4,
         326754,
         766681
        ],
        [
         2018,
         5,
         334798,
         772355
        ],
        [
         2018,
         6,
         191474,
         667911
        ],
        [
         2018,
         7,
         415944,
         800018
        ],
        [
         2018,
         8,
         299672,
         847639
        ],
        [
         2018,
         9,
         317322,
         818954
        ],
        [
         2018,
         10,
         424892,
         958005
        ],
        [
         2018,
         11,
         454933,
         1063151
        ],
        [
         2018,
         12,
         237777,
         828769
        ],
        [
         2019,
         1,
         424009,
         676579
        ],
        [
         2019,
         2,
         317759,
         643790
        ],
        [
         2019,
         3,
         487271,
         800620
        ],
        [
         2019,
         4,
         355929,
         608065
        ],
        [
         2019,
         5,
         385629,
         614063
        ],
        [
         2019,
         6,
         338302,
         533934
        ],
        [
         2019,
         7,
         447149,
         396137
        ],
        [
         2019,
         8,
         462613,
         148769
        ],
        [
         2019,
         9,
         430359,
         146430
        ],
        [
         2019,
         10,
         693653,
         54864
        ],
        [
         2019,
         11,
         510107,
         39354
        ],
        [
         2019,
         12,
         689750,
         6393
        ],
        [
         2020,
         1,
         926585,
         3696
        ],
        [
         2020,
         2,
         479465,
         2123
        ],
        [
         2020,
         3,
         164789,
         2677
        ],
        [
         2020,
         4,
         -8864,
         0
        ],
        [
         2020,
         5,
         -3922,
         0
        ],
        [
         2020,
         6,
         924,
         0
        ],
        [
         2020,
         7,
         2716,
         0
        ],
        [
         2020,
         8,
         13025,
         0
        ],
        [
         2020,
         9,
         17587,
         0
        ],
        [
         2020,
         10,
         21715,
         0
        ],
        [
         2020,
         11,
         23644,
         0
        ],
        [
         2020,
         12,
         22291,
         0
        ],
        [
         2021,
         1,
         3958,
         0
        ],
        [
         2021,
         2,
         -537,
         0
        ],
        [
         2021,
         3,
         24113,
         0
        ],
        [
         2021,
         4,
         18130,
         0
        ],
        [
         2021,
         5,
         10917,
         0
        ],
        [
         2021,
         6,
         36506,
         0
        ],
        [
         2021,
         7,
         57017,
         0
        ],
        [
         2021,
         8,
         98043,
         0
        ],
        [
         2021,
         9,
         225543,
         0
        ],
        [
         2021,
         10,
         223629,
         0
        ],
        [
         2021,
         11,
         295939,
         0
        ],
        [
         2021,
         12,
         482863,
         0
        ],
        [
         2022,
         1,
         579801,
         0
        ],
        [
         2022,
         2,
         252908,
         0
        ],
        [
         2022,
         3,
         373052,
         0
        ],
        [
         2022,
         4,
         264025,
         0
        ],
        [
         2022,
         5,
         369807,
         0
        ],
        [
         2022,
         6,
         429556,
         0
        ],
        [
         2022,
         7,
         735383,
         0
        ],
        [
         2022,
         8,
         350784,
         0
        ],
        [
         2022,
         9,
         366851,
         0
        ],
        [
         2022,
         10,
         280018,
         0
        ],
        [
         2022,
         11,
         379642,
         0
        ],
        [
         2022,
         12,
         476165,
         0
        ],
        [
         2023,
         1,
         778092,
         0
        ],
        [
         2023,
         2,
         419423,
         0
        ],
        [
         2023,
         3,
         346793,
         0
        ],
        [
         2023,
         4,
         385550,
         0
        ],
        [
         2023,
         5,
         399177,
         0
        ],
        [
         2023,
         6,
         407363,
         0
        ],
        [
         2023,
         7,
         547699,
         0
        ],
        [
         2023,
         8,
         459535,
         0
        ],
        [
         2023,
         9,
         398837,
         0
        ],
        [
         2023,
         10,
         476161,
         0
        ],
        [
         2023,
         11,
         434498,
         0
        ],
        [
         2023,
         12,
         509549,
         0
        ],
        [
         2024,
         1,
         578313,
         0
        ],
        [
         2024,
         2,
         376778,
         0
        ],
        [
         2024,
         3,
         340505,
         0
        ],
        [
         2024,
         4,
         401339,
         0
        ],
        [
         2024,
         5,
         34139,
         0
        ]
       ],
       "datasetInfos": [],
       "dbfsResultPath": null,
       "isJsonSchema": true,
       "metadata": {},
       "overflow": false,
       "plotOptions": {
        "customPlotOptions": {},
        "displayType": "table",
        "pivotAggregation": null,
        "pivotColumns": null,
        "xColumns": null,
        "yColumns": null
       },
       "removedWidgets": [],
       "schema": [
        {
         "metadata": "{}",
         "name": "Anio_compra",
         "type": "\"integer\""
        },
        {
         "metadata": "{}",
         "name": "Mes_compra",
         "type": "\"integer\""
        },
        {
         "metadata": "{\"__autoGeneratedAlias\":\"true\"}",
         "name": "sum(Tickets_comprados)",
         "type": "\"double\""
        },
        {
         "metadata": "{}",
         "name": "Tickets_sesion",
         "type": "\"long\""
        }
       ],
       "type": "table"
      }
     },
     "output_type": "display_data"
    }
   ],
   "source": [
    "# tmp = softix.groupBy(\"Anio_compra\").agg(max('Aforo').alias('Aforo'), sum('sum(Tickets)').alias('Tickets'))\n",
    "# # print(softix_aforos.count())\n",
    "\n",
    "# Softix_Tnums = Softix_Tnums.\\\n",
    "#     withColumn(\"Id_cliente\",concat_ws(\"|\", *id_cliente_Tnums)).\\\n",
    "#     withColumn(\"FILE_NUMBER\",concat_ws(\"|\", *id_expediente)).\\\n",
    "#     withColumn(\"Fecha_compra\", to_timestamp(\"DateTime\", \"yyMMdd HHmm\")).\\\n",
    "#     withColumn(\"Anio_compra\", year(\"Fecha_compra\")).\\\n",
    "#     filter(col('Anio_compra') != '2014')\n",
    "\n",
    "# Softix_Tnums.createOrReplaceTempView(\"Softix_Tnums_vw\")\n",
    "\n",
    "tmp = spark.sql('''\n",
    "    WITH tmp as (\n",
    "        SELECT DISTINCT\n",
    "        Key_evento,\n",
    "        Anio_compra,\n",
    "        Mes_compra,\n",
    "        Tickets_sesion\n",
    "        from softix_vw\n",
    "    ),\n",
    "\n",
    "    tmp2 as (\n",
    "        SELECT\n",
    "        Anio_compra,\n",
    "        Mes_compra,\n",
    "        sum(Tickets_sesion) as Tickets_sesion\n",
    "        from tmp\n",
    "        group by Anio_compra,Mes_compra\n",
    "    )          \n",
    "    \n",
    "      SELECT\n",
    "      s.Anio_compra,\n",
    "      s.Mes_compra,\n",
    "      sum(s.Tickets_comprados),\n",
    "      t2.Tickets_sesion\n",
    "      FROM softix_vw s\n",
    "      LEFT JOIN tmp2 t2\n",
    "        ON (s.Anio_compra = t2.Anio_compra AND s.Mes_compra = t2.Mes_compra)\n",
    "      GROUP BY s.Anio_compra,s.Mes_compra,t2.Tickets_sesion\n",
    "      ORDER BY s.Anio_compra,s.Mes_compra\n",
    "''')\n",
    "\n",
    "display(tmp)"
   ]
  },
  {
   "cell_type": "code",
   "execution_count": null,
   "metadata": {
    "application/vnd.databricks.v1+cell": {
     "cellMetadata": {
      "byteLimit": 2048000,
      "rowLimit": 10000
     },
     "inputWidgets": {},
     "nuid": "55ccf9d9-bca0-46dd-91a7-68cab3c49700",
     "showTitle": true,
     "title": "Base 1"
    }
   },
   "outputs": [
    {
     "data": {
      "text/html": [
       "<style scoped>\n",
       "  .table-result-container {\n",
       "    max-height: 300px;\n",
       "    overflow: auto;\n",
       "  }\n",
       "  table, th, td {\n",
       "    border: 1px solid black;\n",
       "    border-collapse: collapse;\n",
       "  }\n",
       "  th, td {\n",
       "    padding: 5px;\n",
       "  }\n",
       "  th {\n",
       "    text-align: left;\n",
       "  }\n",
       "</style><div class='table-result-container'><table class='table-result'><thead style='background-color: white'><tr><th>Anio_compra</th><th>Mes_compra</th><th>tickets_base</th><th>tickets_consolidado</th></tr></thead><tbody><tr><td>2012</td><td>1</td><td>571508</td><td>305961</td></tr><tr><td>2012</td><td>2</td><td>461044</td><td>518379</td></tr><tr><td>2012</td><td>3</td><td>436119</td><td>566140</td></tr><tr><td>2012</td><td>4</td><td>490325</td><td>497399</td></tr><tr><td>2012</td><td>5</td><td>264015</td><td>330980</td></tr><tr><td>2012</td><td>6</td><td>277300</td><td>455422</td></tr><tr><td>2012</td><td>7</td><td>387998</td><td>627326</td></tr><tr><td>2012</td><td>8</td><td>538850</td><td>680712</td></tr><tr><td>2012</td><td>9</td><td>459825</td><td>623185</td></tr><tr><td>2012</td><td>10</td><td>579344</td><td>595580</td></tr><tr><td>2012</td><td>11</td><td>595645</td><td>583889</td></tr><tr><td>2012</td><td>12</td><td>489759</td><td>789887</td></tr><tr><td>2013</td><td>1</td><td>436273</td><td>572309</td></tr><tr><td>2013</td><td>2</td><td>283143</td><td>704849</td></tr><tr><td>2013</td><td>3</td><td>334887</td><td>808166</td></tr><tr><td>2013</td><td>4</td><td>467420</td><td>813672</td></tr><tr><td>2013</td><td>5</td><td>501902</td><td>540544</td></tr><tr><td>2013</td><td>6</td><td>362951</td><td>680362</td></tr><tr><td>2013</td><td>7</td><td>515097</td><td>702308</td></tr><tr><td>2013</td><td>8</td><td>586962</td><td>678426</td></tr><tr><td>2013</td><td>9</td><td>423165</td><td>576299</td></tr><tr><td>2013</td><td>10</td><td>502296</td><td>667899</td></tr><tr><td>2013</td><td>11</td><td>519736</td><td>518661</td></tr><tr><td>2013</td><td>12</td><td>376629</td><td>674260</td></tr><tr><td>2015</td><td>1</td><td>660216</td><td>1052175</td></tr><tr><td>2015</td><td>2</td><td>692345</td><td>1251693</td></tr><tr><td>2015</td><td>3</td><td>504195</td><td>1207724</td></tr><tr><td>2015</td><td>4</td><td>1103562</td><td>874982</td></tr><tr><td>2015</td><td>5</td><td>547123</td><td>850568</td></tr><tr><td>2015</td><td>6</td><td>294852</td><td>591767</td></tr><tr><td>2015</td><td>7</td><td>543464</td><td>705133</td></tr><tr><td>2015</td><td>8</td><td>526999</td><td>756250</td></tr><tr><td>2015</td><td>9</td><td>462103</td><td>587875</td></tr><tr><td>2015</td><td>10</td><td>565800</td><td>589713</td></tr><tr><td>2015</td><td>11</td><td>599932</td><td>765198</td></tr><tr><td>2015</td><td>12</td><td>614007</td><td>776274</td></tr><tr><td>2016</td><td>1</td><td>425434</td><td>594709</td></tr><tr><td>2016</td><td>2</td><td>492168</td><td>690680</td></tr><tr><td>2016</td><td>3</td><td>386399</td><td>643914</td></tr><tr><td>2016</td><td>4</td><td>482458</td><td>642165</td></tr><tr><td>2016</td><td>5</td><td>608445</td><td>722809</td></tr><tr><td>2016</td><td>6</td><td>466801</td><td>729617</td></tr><tr><td>2016</td><td>7</td><td>564267</td><td>674422</td></tr><tr><td>2016</td><td>8</td><td>489204</td><td>634686</td></tr><tr><td>2016</td><td>9</td><td>462520</td><td>680006</td></tr><tr><td>2016</td><td>10</td><td>555559</td><td>788560</td></tr><tr><td>2016</td><td>11</td><td>482628</td><td>763005</td></tr><tr><td>2016</td><td>12</td><td>331414</td><td>690450</td></tr><tr><td>2017</td><td>1</td><td>298152</td><td>574438</td></tr><tr><td>2017</td><td>2</td><td>471739</td><td>829134</td></tr><tr><td>2017</td><td>3</td><td>416416</td><td>793409</td></tr><tr><td>2017</td><td>4</td><td>393480</td><td>728168</td></tr><tr><td>2017</td><td>5</td><td>375176</td><td>773042</td></tr><tr><td>2017</td><td>6</td><td>598396</td><td>931428</td></tr><tr><td>2017</td><td>7</td><td>1608637</td><td>1042160</td></tr><tr><td>2017</td><td>8</td><td>610549</td><td>1048331</td></tr><tr><td>2017</td><td>9</td><td>568805</td><td>991358</td></tr><tr><td>2017</td><td>10</td><td>496102</td><td>880103</td></tr><tr><td>2017</td><td>11</td><td>458657</td><td>774935</td></tr><tr><td>2017</td><td>12</td><td>312752</td><td>781088</td></tr><tr><td>2018</td><td>1</td><td>420821</td><td>875048</td></tr><tr><td>2018</td><td>2</td><td>407549</td><td>754480</td></tr><tr><td>2018</td><td>3</td><td>583796</td><td>854231</td></tr><tr><td>2018</td><td>4</td><td>495993</td><td>767742</td></tr><tr><td>2018</td><td>5</td><td>468141</td><td>773675</td></tr><tr><td>2018</td><td>6</td><td>434566</td><td>669218</td></tr><tr><td>2018</td><td>7</td><td>775020</td><td>804753</td></tr><tr><td>2018</td><td>8</td><td>491239</td><td>863962</td></tr><tr><td>2018</td><td>9</td><td>540461</td><td>843214</td></tr><tr><td>2018</td><td>10</td><td>713549</td><td>958917</td></tr><tr><td>2018</td><td>11</td><td>701383</td><td>1065098</td></tr><tr><td>2018</td><td>12</td><td>386071</td><td>830605</td></tr><tr><td>2019</td><td>1</td><td>538861</td><td>679775</td></tr><tr><td>2019</td><td>2</td><td>532844</td><td>667320</td></tr><tr><td>2019</td><td>3</td><td>637830</td><td>802530</td></tr><tr><td>2019</td><td>4</td><td>513029</td><td>622418</td></tr><tr><td>2019</td><td>5</td><td>438833</td><td>615325</td></tr><tr><td>2019</td><td>6</td><td>548872</td><td>535668</td></tr><tr><td>2019</td><td>7</td><td>536129</td><td>396137</td></tr><tr><td>2019</td><td>8</td><td>593053</td><td>148821</td></tr><tr><td>2019</td><td>9</td><td>448974</td><td>146436</td></tr><tr><td>2019</td><td>10</td><td>603997</td><td>54864</td></tr><tr><td>2019</td><td>11</td><td>512794</td><td>39354</td></tr><tr><td>2019</td><td>12</td><td>275444</td><td>6393</td></tr><tr><td>2020</td><td>1</td><td>125702</td><td>3696</td></tr><tr><td>2020</td><td>2</td><td>32739</td><td>2123</td></tr><tr><td>2020</td><td>3</td><td>11955</td><td>2677</td></tr><tr><td>2020</td><td>4</td><td>23</td><td>null</td></tr><tr><td>2020</td><td>5</td><td>-13</td><td>null</td></tr><tr><td>2020</td><td>6</td><td>-15</td><td>null</td></tr></tbody></table></div>"
      ]
     },
     "metadata": {
      "application/vnd.databricks.v1+output": {
       "addedWidgets": {},
       "aggData": [],
       "aggError": "",
       "aggOverflow": false,
       "aggSchema": [],
       "aggSeriesLimitReached": false,
       "aggType": "",
       "arguments": {},
       "columnCustomDisplayInfos": {},
       "data": [
        [
         2012,
         1,
         571508,
         305961
        ],
        [
         2012,
         2,
         461044,
         518379
        ],
        [
         2012,
         3,
         436119,
         566140
        ],
        [
         2012,
         4,
         490325,
         497399
        ],
        [
         2012,
         5,
         264015,
         330980
        ],
        [
         2012,
         6,
         277300,
         455422
        ],
        [
         2012,
         7,
         387998,
         627326
        ],
        [
         2012,
         8,
         538850,
         680712
        ],
        [
         2012,
         9,
         459825,
         623185
        ],
        [
         2012,
         10,
         579344,
         595580
        ],
        [
         2012,
         11,
         595645,
         583889
        ],
        [
         2012,
         12,
         489759,
         789887
        ],
        [
         2013,
         1,
         436273,
         572309
        ],
        [
         2013,
         2,
         283143,
         704849
        ],
        [
         2013,
         3,
         334887,
         808166
        ],
        [
         2013,
         4,
         467420,
         813672
        ],
        [
         2013,
         5,
         501902,
         540544
        ],
        [
         2013,
         6,
         362951,
         680362
        ],
        [
         2013,
         7,
         515097,
         702308
        ],
        [
         2013,
         8,
         586962,
         678426
        ],
        [
         2013,
         9,
         423165,
         576299
        ],
        [
         2013,
         10,
         502296,
         667899
        ],
        [
         2013,
         11,
         519736,
         518661
        ],
        [
         2013,
         12,
         376629,
         674260
        ],
        [
         2015,
         1,
         660216,
         1052175
        ],
        [
         2015,
         2,
         692345,
         1251693
        ],
        [
         2015,
         3,
         504195,
         1207724
        ],
        [
         2015,
         4,
         1103562,
         874982
        ],
        [
         2015,
         5,
         547123,
         850568
        ],
        [
         2015,
         6,
         294852,
         591767
        ],
        [
         2015,
         7,
         543464,
         705133
        ],
        [
         2015,
         8,
         526999,
         756250
        ],
        [
         2015,
         9,
         462103,
         587875
        ],
        [
         2015,
         10,
         565800,
         589713
        ],
        [
         2015,
         11,
         599932,
         765198
        ],
        [
         2015,
         12,
         614007,
         776274
        ],
        [
         2016,
         1,
         425434,
         594709
        ],
        [
         2016,
         2,
         492168,
         690680
        ],
        [
         2016,
         3,
         386399,
         643914
        ],
        [
         2016,
         4,
         482458,
         642165
        ],
        [
         2016,
         5,
         608445,
         722809
        ],
        [
         2016,
         6,
         466801,
         729617
        ],
        [
         2016,
         7,
         564267,
         674422
        ],
        [
         2016,
         8,
         489204,
         634686
        ],
        [
         2016,
         9,
         462520,
         680006
        ],
        [
         2016,
         10,
         555559,
         788560
        ],
        [
         2016,
         11,
         482628,
         763005
        ],
        [
         2016,
         12,
         331414,
         690450
        ],
        [
         2017,
         1,
         298152,
         574438
        ],
        [
         2017,
         2,
         471739,
         829134
        ],
        [
         2017,
         3,
         416416,
         793409
        ],
        [
         2017,
         4,
         393480,
         728168
        ],
        [
         2017,
         5,
         375176,
         773042
        ],
        [
         2017,
         6,
         598396,
         931428
        ],
        [
         2017,
         7,
         1608637,
         1042160
        ],
        [
         2017,
         8,
         610549,
         1048331
        ],
        [
         2017,
         9,
         568805,
         991358
        ],
        [
         2017,
         10,
         496102,
         880103
        ],
        [
         2017,
         11,
         458657,
         774935
        ],
        [
         2017,
         12,
         312752,
         781088
        ],
        [
         2018,
         1,
         420821,
         875048
        ],
        [
         2018,
         2,
         407549,
         754480
        ],
        [
         2018,
         3,
         583796,
         854231
        ],
        [
         2018,
         4,
         495993,
         767742
        ],
        [
         2018,
         5,
         468141,
         773675
        ],
        [
         2018,
         6,
         434566,
         669218
        ],
        [
         2018,
         7,
         775020,
         804753
        ],
        [
         2018,
         8,
         491239,
         863962
        ],
        [
         2018,
         9,
         540461,
         843214
        ],
        [
         2018,
         10,
         713549,
         958917
        ],
        [
         2018,
         11,
         701383,
         1065098
        ],
        [
         2018,
         12,
         386071,
         830605
        ],
        [
         2019,
         1,
         538861,
         679775
        ],
        [
         2019,
         2,
         532844,
         667320
        ],
        [
         2019,
         3,
         637830,
         802530
        ],
        [
         2019,
         4,
         513029,
         622418
        ],
        [
         2019,
         5,
         438833,
         615325
        ],
        [
         2019,
         6,
         548872,
         535668
        ],
        [
         2019,
         7,
         536129,
         396137
        ],
        [
         2019,
         8,
         593053,
         148821
        ],
        [
         2019,
         9,
         448974,
         146436
        ],
        [
         2019,
         10,
         603997,
         54864
        ],
        [
         2019,
         11,
         512794,
         39354
        ],
        [
         2019,
         12,
         275444,
         6393
        ],
        [
         2020,
         1,
         125702,
         3696
        ],
        [
         2020,
         2,
         32739,
         2123
        ],
        [
         2020,
         3,
         11955,
         2677
        ],
        [
         2020,
         4,
         23,
         null
        ],
        [
         2020,
         5,
         -13,
         null
        ],
        [
         2020,
         6,
         -15,
         null
        ]
       ],
       "datasetInfos": [],
       "dbfsResultPath": null,
       "isJsonSchema": true,
       "metadata": {},
       "overflow": false,
       "plotOptions": {
        "customPlotOptions": {},
        "displayType": "table",
        "pivotAggregation": null,
        "pivotColumns": null,
        "xColumns": null,
        "yColumns": null
       },
       "removedWidgets": [],
       "schema": [
        {
         "metadata": "{}",
         "name": "Anio_compra",
         "type": "\"integer\""
        },
        {
         "metadata": "{}",
         "name": "Mes_compra",
         "type": "\"integer\""
        },
        {
         "metadata": "{}",
         "name": "tickets_base",
         "type": "\"long\""
        },
        {
         "metadata": "{}",
         "name": "tickets_consolidado",
         "type": "\"long\""
        }
       ],
       "type": "table"
      }
     },
     "output_type": "display_data"
    }
   ],
   "source": [
    "# tmp = softix.groupBy(\"Anio_compra\").agg(max('Aforo').alias('Aforo'), sum('sum(Tickets)').alias('Tickets'))\n",
    "# # print(softix_aforos.count())\n",
    "\n",
    "Softix_Tnums = Softix_Tnums.\\\n",
    "    withColumn(\"Id_cliente\",concat_ws(\"|\", *id_cliente_Tnums)).\\\n",
    "    withColumn(\"FILE_NUMBER\",concat_ws(\"|\", *id_expediente)).\\\n",
    "    withColumn(\"Fecha_compra\", to_timestamp(\"DateTime\", \"yyMMdd HHmm\")).\\\n",
    "    withColumn(\"Anio_compra\", year(\"Fecha_compra\")).\\\n",
    "    withColumn(\"Mes_compra\", month(\"Fecha_compra\"))\n",
    "\n",
    "Softix_Tnums.createOrReplaceTempView(\"Softix_Tnums_vw\")\n",
    "\n",
    "tmp = spark.sql('''\n",
    "    WITH tmp as (\n",
    "        SELECT DISTINCT\n",
    "        s.Evname,\n",
    "        s.Anio_compra,\n",
    "        s.Mes_compra,\n",
    "        t2.Tickets as Tickets_sesion\n",
    "        from Softix_Tnums_vw s\n",
    "        LEFT JOIN softix_aforos_vw t2\n",
    "          ON (s.Evname = t2.Codigo_Evento)\n",
    "    ),\n",
    "\n",
    "    tmp2 as (\n",
    "        SELECT\n",
    "        Anio_compra,\n",
    "        Mes_compra,\n",
    "        sum(Tickets_sesion) as Tickets_sesion\n",
    "        from tmp\n",
    "        group by Anio_compra,Mes_compra\n",
    "    )          \n",
    "    \n",
    "      SELECT\n",
    "      s.Anio_compra,\n",
    "      s.Mes_compra,\n",
    "      sum(s.Qty) as tickets_base,\n",
    "      t2.Tickets_sesion as tickets_consolidado\n",
    "      FROM Softix_Tnums_vw s\n",
    "      LEFT JOIN tmp2 t2\n",
    "        ON (s.Anio_compra = t2.Anio_compra AND s.Mes_compra = t2.Mes_compra)\n",
    "      GROUP BY s.Anio_compra,s.Mes_compra,t2.Tickets_sesion\n",
    "      ORDER BY s.Anio_compra,s.Mes_compra\n",
    "''')\n",
    "\n",
    "\n",
    "display(tmp)"
   ]
  },
  {
   "cell_type": "code",
   "execution_count": null,
   "metadata": {
    "application/vnd.databricks.v1+cell": {
     "cellMetadata": {
      "byteLimit": 2048000,
      "rowLimit": 10000
     },
     "inputWidgets": {},
     "nuid": "cce5d0f2-29ab-4240-866e-b10a4cd4cfd4",
     "showTitle": true,
     "title": "Base 2"
    }
   },
   "outputs": [
    {
     "data": {
      "text/html": [
       "<style scoped>\n",
       "  .ansiout {\n",
       "    display: block;\n",
       "    unicode-bidi: embed;\n",
       "    white-space: pre-wrap;\n",
       "    word-wrap: break-word;\n",
       "    word-break: break-all;\n",
       "    font-family: \"Menlo\", \"Monaco\", \"Consolas\", \"Ubuntu Mono\", \"Source Code Pro\", monospace;\n",
       "    font-size: 13px;\n",
       "    color: #555;\n",
       "    margin-left: 4px;\n",
       "    line-height: 19px;\n",
       "  }\n",
       "</style>"
      ]
     },
     "metadata": {
      "application/vnd.databricks.v1+output": {
       "arguments": {},
       "data": "",
       "errorSummary": "Cancelled",
       "errorTraceType": "html",
       "metadata": {},
       "type": "ipynbError"
      }
     },
     "output_type": "display_data"
    }
   ],
   "source": [
    "# tmp = softix.groupBy(\"Anio_compra\").agg(max('Aforo').alias('Aforo'), sum('sum(Tickets)').alias('Tickets'))\n",
    "# # print(softix_aforos.count())\n",
    "\n",
    "Softix_Tnums_2014 = Softix_Tnums_2014.\\\n",
    "    withColumn(\"Fecha_compra\", to_timestamp(\"DateTime\", \"yyMMdd HHmm\")).\\\n",
    "    withColumn(\"Anio_compra\", year(\"Fecha_compra\")).\\\n",
    "    withColumn(\"Mes_compra\", month(\"Fecha_compra\"))\n",
    "#display(tmp)\n",
    "#softix.createOrReplaceTempView(\"softix_vw\")\n",
    "Softix_Tnums_2014.createOrReplaceTempView(\"Softix_Tnums_2014_vw\")\n",
    "\n",
    "tmp = spark.sql('''\n",
    "    WITH tmp as (\n",
    "        SELECT DISTINCT\n",
    "        s.Evname,\n",
    "        s.Anio_compra,\n",
    "        s.Mes_compra,\n",
    "        t2.Tickets as Tickets_sesion\n",
    "        from Softix_Tnums_2014_vw s\n",
    "        LEFT JOIN softix_aforos_vw t2\n",
    "          ON (s.Evname = t2.Codigo_Evento)\n",
    "    ),\n",
    "\n",
    "    tmp2 as (\n",
    "        SELECT\n",
    "        Anio_compra,\n",
    "        Mes_compra,\n",
    "        sum(Tickets_sesion) as Tickets_sesion\n",
    "        from tmp\n",
    "        group by Anio_compra,Mes_compra\n",
    "    )          \n",
    "    \n",
    "      SELECT\n",
    "      s.Anio_compra,\n",
    "      s.Mes_compra,\n",
    "      sum(s.Qty) as tickets_base,\n",
    "      t2.Tickets_sesion as tickets_consolidado\n",
    "      FROM Softix_Tnums_2014_vw s\n",
    "      LEFT JOIN tmp2 t2\n",
    "        ON (s.Anio_compra = t2.Anio_compra AND s.Mes_compra = t2.Mes_compra)\n",
    "      GROUP BY s.Anio_compra,s.Mes_compra,t2.Tickets_sesion\n",
    "      ORDER BY s.Anio_compra,s.Mes_compra\n",
    "''')\n",
    "\n",
    "display(tmp)"
   ]
  },
  {
   "cell_type": "code",
   "execution_count": null,
   "metadata": {
    "application/vnd.databricks.v1+cell": {
     "cellMetadata": {
      "byteLimit": 2048000,
      "rowLimit": 10000
     },
     "inputWidgets": {},
     "nuid": "3baf6c13-4ba4-4d1b-9636-bdc06a4b880a",
     "showTitle": false,
     "title": ""
    }
   },
   "outputs": [
    {
     "data": {
      "text/html": [
       "<style scoped>\n",
       "  .table-result-container {\n",
       "    max-height: 300px;\n",
       "    overflow: auto;\n",
       "  }\n",
       "  table, th, td {\n",
       "    border: 1px solid black;\n",
       "    border-collapse: collapse;\n",
       "  }\n",
       "  th, td {\n",
       "    padding: 5px;\n",
       "  }\n",
       "  th {\n",
       "    text-align: left;\n",
       "  }\n",
       "</style><div class='table-result-container'><table class='table-result'><thead style='background-color: white'><tr><th>Anio_compra</th><th>Mes_compra</th><th>Aforo</th></tr></thead><tbody><tr><td>2014</td><td>1</td><td>383596</td></tr><tr><td>2014</td><td>2</td><td>451991</td></tr><tr><td>2014</td><td>3</td><td>385106</td></tr><tr><td>2014</td><td>4</td><td>504091</td></tr><tr><td>2014</td><td>5</td><td>894665</td></tr><tr><td>2014</td><td>6</td><td>279476</td></tr><tr><td>2014</td><td>7</td><td>543156</td></tr><tr><td>2014</td><td>8</td><td>682624</td></tr><tr><td>2014</td><td>9</td><td>478835</td></tr><tr><td>2014</td><td>10</td><td>697437</td></tr><tr><td>2014</td><td>11</td><td>556358</td></tr><tr><td>2014</td><td>12</td><td>432481</td></tr></tbody></table></div>"
      ]
     },
     "metadata": {
      "application/vnd.databricks.v1+output": {
       "addedWidgets": {},
       "aggData": [],
       "aggError": "",
       "aggOverflow": false,
       "aggSchema": [],
       "aggSeriesLimitReached": false,
       "aggType": "",
       "arguments": {},
       "columnCustomDisplayInfos": {},
       "data": [
        [
         2014,
         1,
         383596
        ],
        [
         2014,
         2,
         451991
        ],
        [
         2014,
         3,
         385106
        ],
        [
         2014,
         4,
         504091
        ],
        [
         2014,
         5,
         894665
        ],
        [
         2014,
         6,
         279476
        ],
        [
         2014,
         7,
         543156
        ],
        [
         2014,
         8,
         682624
        ],
        [
         2014,
         9,
         478835
        ],
        [
         2014,
         10,
         697437
        ],
        [
         2014,
         11,
         556358
        ],
        [
         2014,
         12,
         432481
        ]
       ],
       "datasetInfos": [],
       "dbfsResultPath": null,
       "isJsonSchema": true,
       "metadata": {},
       "overflow": false,
       "plotOptions": {
        "customPlotOptions": {},
        "displayType": "table",
        "pivotAggregation": null,
        "pivotColumns": null,
        "xColumns": null,
        "yColumns": null
       },
       "removedWidgets": [],
       "schema": [
        {
         "metadata": "{}",
         "name": "Anio_compra",
         "type": "\"integer\""
        },
        {
         "metadata": "{}",
         "name": "Mes_compra",
         "type": "\"integer\""
        },
        {
         "metadata": "{}",
         "name": "Aforo",
         "type": "\"long\""
        }
       ],
       "type": "table"
      }
     },
     "output_type": "display_data"
    }
   ],
   "source": [
    "from pyspark.sql.functions import sum\n",
    "\n",
    "## Maestra aforos\n",
    "inpath = \"abfss://storagebi@tbdwhstorage01.dfs.core.windows.net/gold/TU_BOLETA/Softix/Consolidados/Inboleta_2014.txt\"\n",
    "softix_2014= spark.read.csv(inpath,header=True, inferSchema=True, sep='|')\n",
    "#display(Btypes)\n",
    "softix_2014.createOrReplaceTempView(\"softix_2014_vw\")\n",
    "\n",
    "id_cliente_Tnums = [\"Season\",'No_Cuenta']\n",
    "id_cliente_Accounts = [\"Season\",'Number']\n",
    "id_expediente = [\"Id_cliente\",'Fecha']\n",
    "\n",
    "softix_2014 = softix_2014.\\\n",
    "    withColumn(\"Fecha_compra\", to_timestamp(\"Fecha\", \"dd-MMM-yy\")).\\\n",
    "    withColumn(\"Anio_compra\", year(\"Fecha_compra\")).\\\n",
    "    withColumn(\"Mes_compra\", month(\"Fecha_compra\"))\n",
    "\n",
    "    \n",
    "    # withColumn(\"Id_cliente\",concat_ws(\"|\", *id_cliente_Tnums)).\\\n",
    "    # withColumn(\"FILE_NUMBER\",concat_ws(\"|\", *id_expediente)).\\\n",
    "        \n",
    "#display(softix_2014.limit(10))\n",
    "\n",
    "tmp = softix_2014.groupBy(\"Anio_compra\",'Mes_compra').agg(sum('Cantidad').alias('Aforo')).orderBy(col(\"Anio_compra\").asc(),col(\"Mes_compra\").asc())\n",
    "display(tmp)"
   ]
  }
 ],
 "metadata": {
  "application/vnd.databricks.v1+notebook": {
   "dashboards": [],
   "environmentMetadata": null,
   "language": "python",
   "notebookMetadata": {
    "pythonIndentUnit": 4
   },
   "notebookName": "Softix",
   "widgets": {}
  },
  "language_info": {
   "name": "python"
  }
 },
 "nbformat": 4,
 "nbformat_minor": 0
}
