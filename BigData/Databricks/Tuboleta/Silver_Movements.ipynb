{
 "cells": [
  {
   "cell_type": "code",
   "execution_count": null,
   "metadata": {
    "application/vnd.databricks.v1+cell": {
     "cellMetadata": {
      "byteLimit": 2048000,
      "rowLimit": 10000
     },
     "inputWidgets": {},
     "nuid": "2cf43abe-158b-4dca-9e24-046a58c1547b",
     "showTitle": false,
     "title": ""
    }
   },
   "outputs": [],
   "source": [
    "# Importar las bibliotecas necesarias\n",
    "from pyspark.sql import SparkSession\n",
    "from pyspark.sql.functions import col,count,desc,sum,to_date,date_format,concat_ws,format_string,to_timestamp,year,when,lit,month,upper,lower,initcap,coalesce,trim,expr,regexp_replace\n",
    "from pyspark.sql import Window\n",
    "import pandas as pd\n",
    "\n",
    "# Crear una SparkSession\n",
    "spark = SparkSession.builder.appName(\"AzureSQL\").getOrCreate()\n",
    "\n",
    "## Credenciales BD\n",
    "inpath = \"C:/Users/diego.torres/OneDrive/Datasets/Tuboleta/Credenciales.txt\"\n",
    "keys = pd.read_csv(inpath, sep = ',')\n",
    "display(keys)\n",
    "\n",
    "# Creo variables para cada fila del DataFrame que contiene las credenciales de la bd\n",
    "for index, row in keys.iterrows():\n",
    "    variable_name = row['key']\n",
    "    variable_value = row['value']\n",
    "    globals()[variable_name] = variable_value\n",
    "\n",
    "# Configurar las propiedades de la conexión\n",
    "jdbc_url = f\"jdbc:sqlserver://{jdbc_hostname}:1433;database={jdbc_database_datamart}\"\n",
    "jdbc_properties = {\n",
    "    \"user\": user,\n",
    "    \"password\": password,\n",
    "    \"driver\": driver\n",
    "}\n",
    "\n",
    "# Conexion al Blob\n",
    "spark.conf.set(clave_blob, access_key_blob)"
   ]
  },
  {
   "cell_type": "code",
   "execution_count": null,
   "metadata": {
    "application/vnd.databricks.v1+cell": {
     "cellMetadata": {
      "byteLimit": 2048000,
      "rowLimit": 10000
     },
     "inputWidgets": {},
     "nuid": "61f01ce1-987a-4ba9-8306-0f786b1c7e46",
     "showTitle": true,
     "title": "FUNCIONES"
    }
   },
   "outputs": [],
   "source": [
    "\n",
    "###############################################\n",
    "####  AJUSTE LOCALIDAD FISICA\n",
    "\n",
    "from pyspark.sql.functions import udf\n",
    "from pyspark.sql.types import StringType\n",
    "import re\n",
    "\n",
    "\n",
    "# Función para convertir abreviaturas de direcciones\n",
    "def localidad_agrupada(campo):\n",
    "    if isinstance(campo, str):  # Comprueba si la dirección es una cadena de texto\n",
    "        #campo = campo.strip()\n",
    "        # Diccionario de mapeo de abreviaturas\n",
    "        mapeo_abreviaturas = {\n",
    "            \"PLATEA\": \"PLATEA\",\n",
    "            \"ALFOMBRA\": \"PLATEA\",\n",
    "            \"PALCO\": \"PLATEA\",\n",
    "            \"ORO\": \"PLATEA\",\n",
    "            \"GOLD\": \"PLATEA\",\n",
    "            \"PLATA\": \"PLATEA\",\n",
    "            \"SILVER\": \"PLATEA\",\n",
    "            \"DIAMANTE\": \"PLATEA\",\n",
    "            \"BRONCE\": \"PLATEA\",\n",
    "            \"DANCE\": \"PLATEA\",\n",
    "            \"GENERAL\": \"PLATEA\",\n",
    "            \"BOX\": \"BOXES\",\n",
    "            \"FAN\": \"TRIBUNAS FAN\",\n",
    "            \"SUITE\": \"SUITES VIP\",\n",
    "            \"PISO 2\": \"PISO 2\",\n",
    "            \"201\": \"PISO 2\",\n",
    "            \"P2\": \"PISO 2\",\n",
    "            \"2DO\": \"PISO 2\",\n",
    "            \"FLOOR 2\": \"PISO 2\",\n",
    "            \"SEGUNDO\": \"PISO 2\",\n",
    "            \"PISO 3\": \"PISO 3\",\n",
    "            \"301\": \"PISO 3\",\n",
    "            \"P3\": \"PISO 3\",\n",
    "            \"FLOOR 3\": \"PISO 3\",\n",
    "            \"TERCER\": \"PISO 3\"\n",
    "            # Puedes agregar más abreviaturas según tus necesidades\n",
    "        }\n",
    "\n",
    "        for key in mapeo_abreviaturas.keys():\n",
    "            if key in campo:\n",
    "                return mapeo_abreviaturas[key]\n",
    "        # Unir las palabras de nuevo en una cadena\n",
    "        return campo\n",
    "    else:\n",
    "        return campo\n",
    "\n",
    "\n",
    "# Registra la función definida por el usuario como un UDF\n",
    "localidad_agrupada = udf(localidad_agrupada, StringType())"
   ]
  },
  {
   "cell_type": "code",
   "execution_count": null,
   "metadata": {
    "application/vnd.databricks.v1+cell": {
     "cellMetadata": {
      "byteLimit": 2048000,
      "rowLimit": 10000
     },
     "inputWidgets": {},
     "nuid": "66b05a53-3164-42a5-a8de-66c3559b4a52",
     "showTitle": false,
     "title": ""
    }
   },
   "outputs": [
    {
     "name": "stdout",
     "output_type": "stream",
     "text": [
      "26252295\n"
     ]
    }
   ],
   "source": [
    "## MOVEMENTS 2022\n",
    "inpath = 'abfss://storagebi@tbdwhstorage01.dfs.core.windows.net/bronze/Movements/2022/B_Movements_2022/'\n",
    "movements_2022 = spark.read.parquet(inpath)\n",
    "\n",
    "## MOVEMENTS 2023\n",
    "inpath = 'abfss://storagebi@tbdwhstorage01.dfs.core.windows.net/bronze/Movements/2023/B_Movements_2023/'\n",
    "movements_2023 = spark.read.parquet(inpath)\n",
    "\n",
    "## MOVEMENTS 2024\n",
    "inpath = 'abfss://storagebi@tbdwhstorage01.dfs.core.windows.net/bronze/Movements/2024/B_Movements_2024/'\n",
    "movements_2024 = spark.read.parquet(inpath)\n",
    "\n",
    "\n",
    "# SELECCION DE CAMPOS\n",
    "columnas = [\"ORGANIZATION\",\"FILE_NUMBER\",\"FILE_CONTACT\",\"ORDER_NUMBER\",\"ORDER_SALES_CHANNEL\",\"ORDER_DATE\",\"ORDER_CONTACT\",\"SEASON\",\"SITE\",\"PRODUCT_FAMILY\",\"T_PRODUCT_ID\",\"PRODUCT\",\"PRODUCT_DATE_TIME\",\"SEAT_CATEGORY\",\"AUDIENCE_CATEGORY\",\"AUDIENCE_SUB_CATEGORY\",\"AMT_ITX\",\"CHARGE_AMT_ITX\",\"PAYMENT_STATUS\",\"VALIDITY_START_DATE\",\"VALIDITY_END_DATE\",\"T_TICKET_VALIDITY_STATE\",\"T_TICKET_STATE\",\"T_TICKET_PRINT_STATE\",\"TICKET_PRINT_STATE\",\"T_CONTROL_STATUS\",\"CONTROL_STATUS\",\"SHIPMENT_ADDRESS\",\"T_CONTACT_ID\",\"CONTACT\",\"SHIP_ADDR_ZIPCODE\",\"SHIP_ADDR_TOWN\",\"SHIP_ADDR_COUNTRY_CODE\",\"CONTACT_IDENTITY\",\"CONTACT_NATIONALITY\",\"CONTACT_BIRTHDATE\",\"ENTRANCE\",\"PHYSICAL_AREA\",\"PHYSICAL_BLOCK\",\"SEAT_ROW\",\"SEAT_NUMBER\",\"FLOOR\",\"SECTOR\",\"T_SEAT_QUALITY_ID\",\"SEAT_STATE\",\"CONTACT_ADDR_ZIPCODE\",\"CONTACT_ADDR_TOWN\",\"CONTACT_ADDR_COUNTRY_CODE\",\"BASE_UNIT_AMT_ITX\",\"ORDER_CONTACT_NUMBER\",\"PRODUCER_CONTACT_FMT_NAME\",\"LOGICAL_SEAT_CATEGORY\",\"PROMOTION\",\"PROMOTION_TYPE\",\"EXPIRATION_DATE\",\"T_OPERATION_TYPE\",\"OPERATION_TYPE\",\"T_OPERATION_KIND\",\"ORDER_CONTACT_ADDRESS\",\"ORDER_CONTACT_ZIPCODE\",\"ORDER_CONTACT_TOWN\",\"ORDER_CONTACT_COUNTRY\",\"ORIGINATING_SALES_CHANNEL\",\"ORDER_CONTACT_EMAIL\",\"ORDER_CONTACT_PRIMARY_PHONE\",\"T_P_OPERATION_ID\",\"PHYSEAT_ORDER\",\"PHYSEAT_ID\"]\n",
    "\n",
    "movements_2022 = movements_2022.select(columnas)\n",
    "movements_2023 = movements_2023.select(columnas)\n",
    "\n",
    "\n",
    "## union de todos los anios\n",
    "movements_ = movements_2022.union(movements_2023).union(movements_2024)\n",
    "#print(movements_.count())"
   ]
  },
  {
   "cell_type": "code",
   "execution_count": null,
   "metadata": {
    "application/vnd.databricks.v1+cell": {
     "cellMetadata": {
      "byteLimit": 2048000,
      "rowLimit": 10000
     },
     "inputWidgets": {},
     "nuid": "83ec79f4-8363-4755-8ca1-1a43f2f90dd7",
     "showTitle": false,
     "title": ""
    }
   },
   "outputs": [],
   "source": [
    "# tmp = movements_.filter(col('T_PRODUCT_ID').like('%10229415242143%'))\\\n",
    "# #tmp = eventos_movistar.filter(col('Evento').like('%BOOGIE%'))\n",
    "# display(tmp)"
   ]
  },
  {
   "cell_type": "code",
   "execution_count": null,
   "metadata": {
    "application/vnd.databricks.v1+cell": {
     "cellMetadata": {
      "byteLimit": 2048000,
      "rowLimit": 10000
     },
     "inputWidgets": {},
     "nuid": "6d307ccf-e41f-4d73-8e17-576cc8c4a032",
     "showTitle": false,
     "title": ""
    }
   },
   "outputs": [],
   "source": [
    "# tmp2 = movements_.select('LOGICAL_SEAT_CATEGORY','PHYSICAL_AREA').\\\n",
    "#     filter(col('LOGICAL_SEAT_CATEGORY').like('%P2 VISTAS PARCIALES (201 - 219)%')).distinct()\n",
    "# display(tmp2)"
   ]
  },
  {
   "cell_type": "code",
   "execution_count": null,
   "metadata": {
    "application/vnd.databricks.v1+cell": {
     "cellMetadata": {
      "byteLimit": 2048000,
      "rowLimit": 10000
     },
     "inputWidgets": {},
     "nuid": "dcc07408-98f7-43c0-8d40-3a2ba923f7b1",
     "showTitle": true,
     "title": "Selección de campos"
    }
   },
   "outputs": [
    {
     "data": {
      "text/html": [
       "<style scoped>\n",
       "  .table-result-container {\n",
       "    max-height: 300px;\n",
       "    overflow: auto;\n",
       "  }\n",
       "  table, th, td {\n",
       "    border: 1px solid black;\n",
       "    border-collapse: collapse;\n",
       "  }\n",
       "  th, td {\n",
       "    padding: 5px;\n",
       "  }\n",
       "  th {\n",
       "    text-align: left;\n",
       "  }\n",
       "</style><div class='table-result-container'><table class='table-result'><thead style='background-color: white'><tr><th>LOCALIDAD_GP</th></tr></thead><tbody><tr><td>TRIBUNAS FAN</td></tr><tr><td>SUITES VIP</td></tr><tr><td>PLATEA</td></tr><tr><td>BOXES</td></tr><tr><td>PISO 3</td></tr><tr><td>PISO 2</td></tr></tbody></table></div>"
      ]
     },
     "metadata": {
      "application/vnd.databricks.v1+output": {
       "addedWidgets": {},
       "aggData": [],
       "aggError": "",
       "aggOverflow": false,
       "aggSchema": [],
       "aggSeriesLimitReached": false,
       "aggType": "",
       "arguments": {},
       "columnCustomDisplayInfos": {},
       "data": [
        [
         "TRIBUNAS FAN"
        ],
        [
         "SUITES VIP"
        ],
        [
         "PLATEA"
        ],
        [
         "BOXES"
        ],
        [
         "PISO 3"
        ],
        [
         "PISO 2"
        ]
       ],
       "datasetInfos": [],
       "dbfsResultPath": null,
       "isJsonSchema": true,
       "metadata": {},
       "overflow": false,
       "plotOptions": {
        "customPlotOptions": {},
        "displayType": "table",
        "pivotAggregation": null,
        "pivotColumns": null,
        "xColumns": null,
        "yColumns": null
       },
       "removedWidgets": [],
       "schema": [
        {
         "metadata": "{}",
         "name": "LOCALIDAD_GP",
         "type": "\"string\""
        }
       ],
       "type": "table"
      }
     },
     "output_type": "display_data"
    }
   ],
   "source": [
    "## Seleccion de columnas ##\n",
    "\n",
    "columnas = [\"ORGANIZATION\",\"FILE_NUMBER\",\"FILE_CONTACT\",\"ORDER_NUMBER\",\"ORDER_SALES_CHANNEL\",\"ORDER_DATE\",\"ORDER_CONTACT\",\"SEASON\",\"SITE\",\"PRODUCT_FAMILY\",\"T_PRODUCT_ID\",\"PRODUCT\",\"PRODUCT_DATE_TIME\",\"SEAT_CATEGORY\",\"AUDIENCE_CATEGORY\",\"AUDIENCE_SUB_CATEGORY\",\"AMT_ITX\",\"CHARGE_AMT_ITX\",\"PAYMENT_STATUS\",\"VALIDITY_START_DATE\",\"VALIDITY_END_DATE\",\"T_TICKET_VALIDITY_STATE\",\"T_TICKET_STATE\",\"T_TICKET_PRINT_STATE\",\"TICKET_PRINT_STATE\",\"T_CONTROL_STATUS\",\"CONTROL_STATUS\",\"SHIPMENT_ADDRESS\",\"T_CONTACT_ID\",\"CONTACT\",\"SHIP_ADDR_ZIPCODE\",\"SHIP_ADDR_TOWN\",\"SHIP_ADDR_COUNTRY_CODE\",\"CONTACT_IDENTITY\",\"CONTACT_NATIONALITY\",\"CONTACT_BIRTHDATE\",\"ENTRANCE\",\"PHYSICAL_AREA\",\"PHYSICAL_BLOCK\",\"SEAT_ROW\",\"SEAT_NUMBER\",\"FLOOR\",\"SECTOR\",\"T_SEAT_QUALITY_ID\",\"SEAT_STATE\",\"CONTACT_ADDR_ZIPCODE\",\"CONTACT_ADDR_TOWN\",\"CONTACT_ADDR_COUNTRY_CODE\",\"BASE_UNIT_AMT_ITX\",\"ORDER_CONTACT_NUMBER\",\"PRODUCER_CONTACT_FMT_NAME\",\"LOGICAL_SEAT_CATEGORY\",\"PROMOTION\",\"PROMOTION_TYPE\",\"EXPIRATION_DATE\",\"T_OPERATION_TYPE\",\"OPERATION_TYPE\",\"T_OPERATION_KIND\",\"ORDER_CONTACT_ADDRESS\",\"ORDER_CONTACT_ZIPCODE\",\"ORDER_CONTACT_TOWN\",\"ORDER_CONTACT_COUNTRY\",\"ORIGINATING_SALES_CHANNEL\",\"ORDER_CONTACT_EMAIL\",\"ORDER_CONTACT_PRIMARY_PHONE\",\"T_P_OPERATION_ID\",\"PHYSEAT_ORDER\",\"PHYSEAT_ID\"]\n",
    "\n",
    "concat_loc = [\"LOGICAL_SEAT_CATEGORY\",'PHYSICAL_AREA']\n",
    "\n",
    "### TRANSFORMACIONES ###\n",
    "movements = movements_.select(columnas).\\\n",
    "    withColumn(\"LOGICAL_SEAT_CATEGORY\", upper(\"LOGICAL_SEAT_CATEGORY\")).\\\n",
    "    withColumn(\"LOGICAL_SEAT_CATEGORY\", regexp_replace(trim(col(\"LOGICAL_SEAT_CATEGORY\")), r'^\\s+|\\s+$', '')).\\\n",
    "    withColumn(\"KEY_LOC\", concat_ws(\"|\", *concat_loc)).\\\n",
    "    withColumn(\"LOCALIDAD_GP\", localidad_agrupada(col(\"KEY_LOC\"))).\\\n",
    "    withColumn(\"Fecha Actualizacion\",expr(\"current_timestamp() - interval 5 hours\")) # fecha-hora actualizacion\n",
    "    \n",
    "    #withColumn(\"PHYSICAL_AREA\", coalesce(col(\"PHYSICAL_AREA\"), col(\"LOGICAL_SEAT_CATEGORY\"))).\\\n",
    "\n",
    "\n",
    "#### MAESTRA DE LOCALIDADES AGRUPADAS POR ZONA FISICA  DEL MOVISTAR ARENA ###\n",
    "valores = [\"PLATEA\",\"BOXES\",\"TRIBUNAS FAN\",\"SUITES VIP\",\"PISO 2\",'PISO 3']\n",
    "\n",
    "# # Aplicación de la lógica de reemplazo en el DataFrame df_follwup\n",
    "movements = movements.withColumn(\"LOCALIDAD_GP\",\n",
    "                        when((col(\"SITE\").isin('Movistar Arena - Bogotá - Dg. 61c #26-36')) & \n",
    "                        (~col(\"LOCALIDAD_GP\").isin(valores)),\n",
    "                        lit('PLATEA')).otherwise(col(\"LOCALIDAD_GP\")))\n",
    "\n",
    "# maestro_localid = movements.filter(col('SITE') == 'Movistar Arena - Bogotá - Dg. 61c #26-36').\\\n",
    "#     select('LOGICAL_SEAT_CATEGORY','LOCALIDAD_GP').\\\n",
    "#     withColumn(\"LOCALIDAD_GP\",\n",
    "#                 when(~col(\"LOCALIDAD_GP\").isin(valores),\n",
    "#                 lit('PLATEA')).otherwise(col(\"LOCALIDAD_GP\"))).\\\n",
    "#     distinct()\n",
    "\n",
    "maestro_localid = movements.filter(col('SITE') == 'Movistar Arena - Bogotá - Dg. 61c #26-36').\\\n",
    "    select('LOGICAL_SEAT_CATEGORY','LOCALIDAD_GP').distinct()\n",
    "\n",
    "\n",
    "tmp = maestro_localid.select('LOCALIDAD_GP').distinct()\n",
    "display(tmp)\n",
    "#print(maestro_localid.count())\n",
    "\n",
    "#display(tmp)\n",
    "\n",
    "\n",
    "\n",
    "# tmp = maestro_localid.select('LOCALIDAD_GP').distinct()\n",
    "# display(tmp)"
   ]
  },
  {
   "cell_type": "code",
   "execution_count": null,
   "metadata": {
    "application/vnd.databricks.v1+cell": {
     "cellMetadata": {
      "byteLimit": 2048000,
      "rowLimit": 10000
     },
     "inputWidgets": {},
     "nuid": "47bbfca0-9c0b-4511-a120-3b948445e576",
     "showTitle": true,
     "title": "PRUEBAS"
    }
   },
   "outputs": [],
   "source": [
    "# ########### PRUEBAS #########\n",
    "# tmp = movements.filter(col('SITE') == 'Movistar Arena - Bogotá - Dg. 61c #26-36').\\\n",
    "#     select('LOGICAL_SEAT_CATEGORY','PHYSICAL_AREA','LOCALIDAD_GP').\\\n",
    "#     distinct()\n",
    "\n",
    "#     #withColumn(\"LOCALIDAD_GP\", localidad_agrupada(col(\"LOGICAL_SEAT_CATEGORY\"))).\\\n",
    "\n",
    "# print(tmp.count())\n",
    "# #display(tmp.limit(100))\n",
    "\n",
    "# display(tmp)\n",
    "\n",
    "# tmp2 = movements.select('LOGICAL_SEAT_CATEGORY','PHYSICAL_AREA','LOCALIDAD_GP').\\\n",
    "#     filter(col('LOGICAL_SEAT_CATEGORY').like('%P3 (307 A 313)%')).distinct()\n",
    "# display(tmp2)\n",
    "\n",
    "# tmp2 = maestro_localid.filter(col('LOGICAL_SEAT_CATEGORY').like('%P3 (307 A 313)%')).distinct()\n",
    "# display(tmp2)"
   ]
  },
  {
   "cell_type": "code",
   "execution_count": null,
   "metadata": {
    "application/vnd.databricks.v1+cell": {
     "cellMetadata": {
      "byteLimit": 2048000,
      "rowLimit": 10000
     },
     "inputWidgets": {},
     "nuid": "7f8929d3-b1c3-4df7-9211-edaf2681a1ca",
     "showTitle": false,
     "title": ""
    }
   },
   "outputs": [
    {
     "data": {
      "text/html": [
       "<style scoped>\n",
       "  .table-result-container {\n",
       "    max-height: 300px;\n",
       "    overflow: auto;\n",
       "  }\n",
       "  table, th, td {\n",
       "    border: 1px solid black;\n",
       "    border-collapse: collapse;\n",
       "  }\n",
       "  th, td {\n",
       "    padding: 5px;\n",
       "  }\n",
       "  th {\n",
       "    text-align: left;\n",
       "  }\n",
       "</style><div class='table-result-container'><table class='table-result'><thead style='background-color: white'><tr><th>LOGICAL_SEAT_CATEGORY</th><th>LOCALIDAD_GP</th><th>es_duplicado</th></tr></thead><tbody><tr><td>P3 (307 A 313)</td><td>PISO 3</td><td>true</td></tr><tr><td>P3 (307 A 313)</td><td>PISO 2</td><td>true</td></tr><tr><td>PARQUEADERO SUITES</td><td>BOXES</td><td>true</td></tr><tr><td>PARQUEADERO SUITES</td><td>SUITES VIP</td><td>true</td></tr><tr><td>PISO 2 (202 - 205)(215 - 218)</td><td>PISO 2</td><td>true</td></tr><tr><td>PISO 2 (202 - 205)(215 - 218)</td><td>PLATEA</td><td>true</td></tr><tr><td>PISO 2 SEC. 201-219 VISTA PARCIAL</td><td>TRIBUNAS FAN</td><td>true</td></tr><tr><td>PISO 2 SEC. 201-219 VISTA PARCIAL</td><td>PISO 2</td><td>true</td></tr><tr><td>TRIBUNA FAN SUR</td><td>TRIBUNAS FAN</td><td>true</td></tr><tr><td>TRIBUNA FAN SUR</td><td>PLATEA</td><td>true</td></tr></tbody></table></div>"
      ]
     },
     "metadata": {
      "application/vnd.databricks.v1+output": {
       "addedWidgets": {},
       "aggData": [],
       "aggError": "",
       "aggOverflow": false,
       "aggSchema": [],
       "aggSeriesLimitReached": false,
       "aggType": "",
       "arguments": {},
       "columnCustomDisplayInfos": {},
       "data": [
        [
         "P3 (307 A 313)",
         "PISO 3",
         true
        ],
        [
         "P3 (307 A 313)",
         "PISO 2",
         true
        ],
        [
         "PARQUEADERO SUITES",
         "BOXES",
         true
        ],
        [
         "PARQUEADERO SUITES",
         "SUITES VIP",
         true
        ],
        [
         "PISO 2 (202 - 205)(215 - 218)",
         "PISO 2",
         true
        ],
        [
         "PISO 2 (202 - 205)(215 - 218)",
         "PLATEA",
         true
        ],
        [
         "PISO 2 SEC. 201-219 VISTA PARCIAL",
         "TRIBUNAS FAN",
         true
        ],
        [
         "PISO 2 SEC. 201-219 VISTA PARCIAL",
         "PISO 2",
         true
        ],
        [
         "TRIBUNA FAN SUR",
         "TRIBUNAS FAN",
         true
        ],
        [
         "TRIBUNA FAN SUR",
         "PLATEA",
         true
        ]
       ],
       "datasetInfos": [],
       "dbfsResultPath": null,
       "isJsonSchema": true,
       "metadata": {},
       "overflow": false,
       "plotOptions": {
        "customPlotOptions": {},
        "displayType": "table",
        "pivotAggregation": null,
        "pivotColumns": null,
        "xColumns": null,
        "yColumns": null
       },
       "removedWidgets": [],
       "schema": [
        {
         "metadata": "{}",
         "name": "LOGICAL_SEAT_CATEGORY",
         "type": "\"string\""
        },
        {
         "metadata": "{}",
         "name": "LOCALIDAD_GP",
         "type": "\"string\""
        },
        {
         "metadata": "{}",
         "name": "es_duplicado",
         "type": "\"boolean\""
        }
       ],
       "type": "table"
      }
     },
     "output_type": "display_data"
    },
    {
     "name": "stdout",
     "output_type": "stream",
     "text": [
      "1252\n"
     ]
    }
   ],
   "source": [
    "# Agregar una columna que indique si es duplicado o no\n",
    "window_spec = Window().partitionBy(\"LOGICAL_SEAT_CATEGORY\").orderBy(\"LOGICAL_SEAT_CATEGORY\")\n",
    "\n",
    "df_spark = maestro_localid.withColumn(\"es_duplicado\", count(\"LOGICAL_SEAT_CATEGORY\").over(window_spec) > 1)\n",
    "\n",
    "# Filtrar solo las filas duplicadas\n",
    "duplicados = df_spark.filter(\"es_duplicado\")#.select('Evento').distinct()\n",
    "\n",
    "display(duplicados)\n",
    "#display(temp.limit(100))\n",
    "\n",
    "# Obtener los valores distintos de la columna 'LOGICAL_SEAT_CATEGORY' pero manteniendo el dataframe\n",
    "duplicados = duplicados.select('LOGICAL_SEAT_CATEGORY').distinct()\n",
    "\n",
    "\n",
    "######  USO LOS DUPLICADOS PARA QUITARLOS DE LA MAESTRA ORIGINAL ####\n",
    "\n",
    "# Extraer los valores de la columna en una lista\n",
    "duplicados_list = [row['LOGICAL_SEAT_CATEGORY'] for row in duplicados.collect()]\n",
    "\n",
    "# quito las localidades con duplicados\n",
    "maestro_localid = maestro_localid.filter(~col('LOGICAL_SEAT_CATEGORY').isin(duplicados_list))\n",
    "\n",
    "#print(maestro_localid.count())"
   ]
  },
  {
   "cell_type": "code",
   "execution_count": null,
   "metadata": {
    "application/vnd.databricks.v1+cell": {
     "cellMetadata": {
      "byteLimit": 2048000,
      "rowLimit": 10000
     },
     "inputWidgets": {},
     "nuid": "63af3beb-5515-4e12-9979-49fa98a8e46b",
     "showTitle": false,
     "title": ""
    }
   },
   "outputs": [
    {
     "data": {
      "text/html": [
       "<style scoped>\n",
       "  .table-result-container {\n",
       "    max-height: 300px;\n",
       "    overflow: auto;\n",
       "  }\n",
       "  table, th, td {\n",
       "    border: 1px solid black;\n",
       "    border-collapse: collapse;\n",
       "  }\n",
       "  th, td {\n",
       "    padding: 5px;\n",
       "  }\n",
       "  th {\n",
       "    text-align: left;\n",
       "  }\n",
       "</style><div class='table-result-container'><table class='table-result'><thead style='background-color: white'><tr><th>LOGICAL_SEAT_CATEGORY</th><th>LOCALIDAD_GP</th></tr></thead><tbody><tr><td>P3 (307 A 313)</td><td>PISO 3</td></tr><tr><td>PARQUEADERO SUITES</td><td>SUITES VIP</td></tr><tr><td>PISO 2 (202 - 205)(215 - 218)</td><td>PISO 2</td></tr><tr><td>PISO 2 SEC. 201-219 VISTA PARCIAL</td><td>PISO 2</td></tr><tr><td>TRIBUNA FAN SUR</td><td>TRIBUNAS FAN</td></tr></tbody></table></div>"
      ]
     },
     "metadata": {
      "application/vnd.databricks.v1+output": {
       "addedWidgets": {},
       "aggData": [],
       "aggError": "",
       "aggOverflow": false,
       "aggSchema": [],
       "aggSeriesLimitReached": false,
       "aggType": "",
       "arguments": {},
       "columnCustomDisplayInfos": {},
       "data": [
        [
         "P3 (307 A 313)",
         "PISO 3"
        ],
        [
         "PARQUEADERO SUITES",
         "SUITES VIP"
        ],
        [
         "PISO 2 (202 - 205)(215 - 218)",
         "PISO 2"
        ],
        [
         "PISO 2 SEC. 201-219 VISTA PARCIAL",
         "PISO 2"
        ],
        [
         "TRIBUNA FAN SUR",
         "TRIBUNAS FAN"
        ]
       ],
       "datasetInfos": [],
       "dbfsResultPath": null,
       "isJsonSchema": true,
       "metadata": {},
       "overflow": false,
       "plotOptions": {
        "customPlotOptions": {},
        "displayType": "table",
        "pivotAggregation": null,
        "pivotColumns": null,
        "xColumns": null,
        "yColumns": null
       },
       "removedWidgets": [],
       "schema": [
        {
         "metadata": "{}",
         "name": "LOGICAL_SEAT_CATEGORY",
         "type": "\"string\""
        },
        {
         "metadata": "{}",
         "name": "LOCALIDAD_GP",
         "type": "\"string\""
        }
       ],
       "type": "table"
      }
     },
     "output_type": "display_data"
    }
   ],
   "source": [
    "# re aplicamos la funcion de localidad_agrupada\n",
    "duplicados = duplicados.withColumn(\"LOCALIDAD_GP\", localidad_agrupada(col(\"LOGICAL_SEAT_CATEGORY\")))\n",
    "display(duplicados.limit(100))\n",
    "\n",
    "maestro_localid = maestro_localid.union(duplicados).distinct()"
   ]
  },
  {
   "cell_type": "code",
   "execution_count": null,
   "metadata": {
    "application/vnd.databricks.v1+cell": {
     "cellMetadata": {
      "byteLimit": 2048000,
      "rowLimit": 10000
     },
     "inputWidgets": {},
     "nuid": "91820dbe-142f-47c3-a25f-cbb45e0f701a",
     "showTitle": false,
     "title": ""
    }
   },
   "outputs": [],
   "source": [
    "# tmp2 = movements.select('LOGICAL_SEAT_CATEGORY','KEY_LOC','PHYSICAL_AREA','LOCALIDAD_GP').\\\n",
    "#     filter(col('LOGICAL_SEAT_CATEGORY').like('%PISO 2 (207 - 213)%')).distinct()\n",
    "# display(tmp2)\n"
   ]
  },
  {
   "cell_type": "code",
   "execution_count": null,
   "metadata": {
    "application/vnd.databricks.v1+cell": {
     "cellMetadata": {
      "byteLimit": 2048000,
      "rowLimit": 10000
     },
     "inputWidgets": {},
     "nuid": "5cc7ba4f-3eac-4733-ae37-d75745225063",
     "showTitle": false,
     "title": ""
    }
   },
   "outputs": [],
   "source": [
    "# df = spark.createDataFrame([\n",
    "#     (1, \"PLATEA 104-106\t\t\t\"),\n",
    "#     (1, \"PLATEA 104-106\")\n",
    "# ], [\"id\", \"LOGICAL_SEAT_CATEGORY\"])\n",
    "\n",
    "# tmp = df.withColumn(\"LOGICAL_SEAT_CATEGORY_2\", trim(\"LOGICAL_SEAT_CATEGORY\")).\\\n",
    "#     select('LOGICAL_SEAT_CATEGORY_2').distinct()\n",
    "# display(tmp)"
   ]
  },
  {
   "cell_type": "code",
   "execution_count": null,
   "metadata": {
    "application/vnd.databricks.v1+cell": {
     "cellMetadata": {
      "byteLimit": 2048000,
      "rowLimit": 10000
     },
     "inputWidgets": {},
     "nuid": "95a485de-417c-4769-883e-cbedcd9f550e",
     "showTitle": false,
     "title": ""
    }
   },
   "outputs": [
    {
     "data": {
      "text/plain": [
       "True"
      ]
     },
     "execution_count": 15,
     "metadata": {},
     "output_type": "execute_result"
    }
   ],
   "source": [
    "inpath = \"abfss://storagebi@tbdwhstorage01.dfs.core.windows.net/Maestras/Localidades_Movistar/\"\n",
    "\n",
    "write_table = maestro_localid.coalesce(1) # coalesce indica que la tabla se va a entregar en una sola particion\n",
    "write_table.write.csv(inpath, header=True, mode=\"overwrite\", sep='|')\n",
    "\n",
    "#cambio de nombre\n",
    "files=dbutils.fs.ls(inpath)\n",
    "output_file= [x for x in files if x.name.startswith(\"part-\")]\n",
    "\n",
    "# EN la misma carpeta de origen\n",
    "dbutils.fs.mv(output_file[0].path, f\"{inpath}/localidades_agrupadas_movistar.csv\")"
   ]
  },
  {
   "cell_type": "code",
   "execution_count": null,
   "metadata": {
    "application/vnd.databricks.v1+cell": {
     "cellMetadata": {
      "byteLimit": 2048000,
      "rowLimit": 10000
     },
     "inputWidgets": {},
     "nuid": "5999e1cd-a0ce-474c-a62f-51e859105d57",
     "showTitle": false,
     "title": ""
    }
   },
   "outputs": [],
   "source": [
    "# tmp2 = tmp.\\\n",
    "#     select('LOCALIDAD_GP').distinct()\n",
    "\n",
    "# display(tmp2)"
   ]
  },
  {
   "cell_type": "code",
   "execution_count": null,
   "metadata": {
    "application/vnd.databricks.v1+cell": {
     "cellMetadata": {
      "byteLimit": 2048000,
      "rowLimit": 10000
     },
     "inputWidgets": {},
     "nuid": "18fac628-485d-4adc-aaa1-5e26ced0c01c",
     "showTitle": false,
     "title": ""
    }
   },
   "outputs": [],
   "source": [
    "## AJUSTE PARA QUE SOLO ESCRIBA LO DEL MOVISTAR\n",
    "movements = movements.filter(col(\"SITE\").isin('Movistar Arena - Bogotá - Dg. 61c #26-36'))\n",
    "#print(movements.count())"
   ]
  },
  {
   "cell_type": "code",
   "execution_count": null,
   "metadata": {
    "application/vnd.databricks.v1+cell": {
     "cellMetadata": {
      "byteLimit": 2048000,
      "rowLimit": 10000
     },
     "inputWidgets": {},
     "nuid": "ab21a40e-52d1-4667-98e1-73b7996532cc",
     "showTitle": false,
     "title": ""
    }
   },
   "outputs": [
    {
     "data": {
      "text/plain": [
       "True"
      ]
     },
     "execution_count": 18,
     "metadata": {},
     "output_type": "execute_result"
    }
   ],
   "source": [
    "# Impresion\n",
    "# Guarda el DataFrame en formato Parquet en Azure Blob Storage\n",
    "inpath = \"abfss://storagebi@tbdwhstorage01.dfs.core.windows.net/silver/Movements/\"\n",
    "# 2023_fcf\n",
    "join_df_coalesced = movements.coalesce(1)\n",
    "join_df_coalesced.write.mode(\"overwrite\").parquet(inpath)\n",
    "#join_df_coalesced.write.mode(\"overwrite\").orc(path_parquet_snappy)\n",
    "\n",
    "#cambio de nombre\n",
    "files=dbutils.fs.ls(inpath)\n",
    "output_file= [x for x in files if x.name.startswith(\"part-\")]\n",
    "\n",
    "# EN la misma carpeta de origen\n",
    "dbutils.fs.mv(output_file[0].path, f\"{inpath}/Ds_G_movements.parquet\")"
   ]
  }
 ],
 "metadata": {
  "application/vnd.databricks.v1+notebook": {
   "dashboards": [],
   "environmentMetadata": null,
   "language": "python",
   "notebookMetadata": {
    "pythonIndentUnit": 4
   },
   "notebookName": "Silver - Movements",
   "widgets": {}
  },
  "language_info": {
   "name": "python"
  }
 },
 "nbformat": 4,
 "nbformat_minor": 0
}
